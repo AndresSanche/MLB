{
 "cells": [
  {
   "cell_type": "code",
   "execution_count": 389,
   "id": "8379288e",
   "metadata": {},
   "outputs": [],
   "source": [
    "import pandas as pd\n",
    "import requests\n",
    "from bs4 import BeautifulSoup\n",
    "\n",
    "# URL de la página que quieres raspar\n",
    "url = \"https://www.baseball-reference.com/boxes/?year=2023&month=3&day=30\"\n",
    "\n",
    "# Realizar la solicitud GET a la página\n",
    "response = requests.get(url)\n",
    "\n"
   ]
  },
  {
   "cell_type": "code",
   "execution_count": 4,
   "id": "78b38765",
   "metadata": {},
   "outputs": [
    {
     "data": {
      "text/plain": [
       "<Response [200]>"
      ]
     },
     "execution_count": 4,
     "metadata": {},
     "output_type": "execute_result"
    }
   ],
   "source": [
    "response"
   ]
  },
  {
   "cell_type": "code",
   "execution_count": 5,
   "id": "3f129d0b",
   "metadata": {},
   "outputs": [],
   "source": [
    "soup = BeautifulSoup(response.content, \"html.parser\")"
   ]
  },
  {
   "cell_type": "code",
   "execution_count": 18,
   "id": "d080495f",
   "metadata": {},
   "outputs": [
    {
     "data": {
      "text/plain": [
       "'/boxes/NYA/NYA202303300.shtml'"
      ]
     },
     "execution_count": 18,
     "metadata": {},
     "output_type": "execute_result"
    }
   ],
   "source": [
    "soup.select('table a')[1].get('href')"
   ]
  },
  {
   "cell_type": "code",
   "execution_count": 33,
   "id": "cd98966c",
   "metadata": {},
   "outputs": [
    {
     "data": {
      "text/plain": [
       "[<a href=\"/teams/SFG/2023.shtml\">San Francisco Giants</a>,\n",
       " <a href=\"/boxes/NYA/NYA202303300.shtml\">F<span class=\"no_mobile\">inal</span></a>,\n",
       " <a href=\"/teams/NYY/2023.shtml\">New York Yankees</a>,\n",
       " <a href=\"/teams/ATL/2023.shtml\">Atlanta Braves</a>,\n",
       " <a href=\"/boxes/WAS/WAS202303300.shtml\">F<span class=\"no_mobile\">inal</span></a>,\n",
       " <a href=\"/teams/WSN/2023.shtml\">Washington Nationals</a>,\n",
       " <a href=\"/teams/BAL/2023.shtml\">Baltimore Orioles</a>,\n",
       " <a href=\"/boxes/BOS/BOS202303300.shtml\">F<span class=\"no_mobile\">inal</span></a>,\n",
       " <a href=\"/teams/BOS/2023.shtml\">Boston Red Sox</a>,\n",
       " <a href=\"/teams/MIL/2023.shtml\">Milwaukee Brewers</a>,\n",
       " <a href=\"/boxes/CHN/CHN202303300.shtml\">F<span class=\"no_mobile\">inal</span></a>,\n",
       " <a href=\"/teams/CHC/2023.shtml\">Chicago Cubs</a>,\n",
       " <a href=\"/teams/DET/2023.shtml\">Detroit Tigers</a>,\n",
       " <a href=\"/boxes/TBA/TBA202303300.shtml\">F<span class=\"no_mobile\">inal</span></a>,\n",
       " <a href=\"/teams/TBR/2023.shtml\">Tampa Bay Rays</a>,\n",
       " <a href=\"/teams/PHI/2023.shtml\">Philadelphia Phillies</a>,\n",
       " <a href=\"/boxes/TEX/TEX202303300.shtml\">F<span class=\"no_mobile\">inal</span></a>,\n",
       " <a href=\"/teams/TEX/2023.shtml\">Texas Rangers</a>,\n",
       " <a href=\"/teams/PIT/2023.shtml\">Pittsburgh Pirates</a>,\n",
       " <a href=\"/boxes/CIN/CIN202303300.shtml\">F<span class=\"no_mobile\">inal</span></a>,\n",
       " <a href=\"/teams/CIN/2023.shtml\">Cincinnati Reds</a>,\n",
       " <a href=\"/teams/MIN/2023.shtml\">Minnesota Twins</a>,\n",
       " <a href=\"/boxes/KCA/KCA202303300.shtml\">F<span class=\"no_mobile\">inal</span></a>,\n",
       " <a href=\"/teams/KCR/2023.shtml\">Kansas City Royals</a>,\n",
       " <a href=\"/teams/NYM/2023.shtml\">New York Mets</a>,\n",
       " <a href=\"/boxes/MIA/MIA202303300.shtml\">F<span class=\"no_mobile\">inal</span></a>,\n",
       " <a href=\"/teams/MIA/2023.shtml\">Miami Marlins</a>,\n",
       " <a href=\"/teams/TOR/2023.shtml\">Toronto Blue Jays</a>,\n",
       " <a href=\"/boxes/SLN/SLN202303300.shtml\">F<span class=\"no_mobile\">inal</span></a>,\n",
       " <a href=\"/teams/STL/2023.shtml\">St. Louis Cardinals</a>,\n",
       " <a href=\"/teams/CHW/2023.shtml\">Chicago White Sox</a>,\n",
       " <a href=\"/boxes/HOU/HOU202303300.shtml\">F<span class=\"no_mobile\">inal</span></a>,\n",
       " <a href=\"/teams/HOU/2023.shtml\">Houston Astros</a>,\n",
       " <a href=\"/teams/COL/2023.shtml\">Colorado Rockies</a>,\n",
       " <a href=\"/boxes/SDN/SDN202303300.shtml\">F<span class=\"no_mobile\">inal</span></a>,\n",
       " <a href=\"/teams/SDP/2023.shtml\">San Diego Padres</a>,\n",
       " <a href=\"/teams/LAA/2023.shtml\">Los Angeles Angels</a>,\n",
       " <a href=\"/boxes/OAK/OAK202303300.shtml\">F<span class=\"no_mobile\">inal</span></a>,\n",
       " <a href=\"/teams/OAK/2023.shtml\">Oakland Athletics</a>,\n",
       " <a href=\"/teams/ARI/2023.shtml\">Arizona Diamondbacks</a>,\n",
       " <a href=\"/boxes/LAN/LAN202303300.shtml\">F<span class=\"no_mobile\">inal</span></a>,\n",
       " <a href=\"/teams/LAD/2023.shtml\">Los Angeles Dodgers</a>,\n",
       " <a href=\"/teams/CLE/2023.shtml\">Cleveland Guardians</a>,\n",
       " <a href=\"/boxes/SEA/SEA202303300.shtml\">F<span class=\"no_mobile\">inal</span></a>,\n",
       " <a href=\"/teams/SEA/2023.shtml\">Seattle Mariners</a>,\n",
       " <a href=\"/teams/NYY/2023.shtml\">NYY</a>,\n",
       " <a href=\"/teams/BAL/2023.shtml\">BAL</a>,\n",
       " <a href=\"/teams/TOR/2023.shtml\">TOR</a>,\n",
       " <a href=\"/teams/TBR/2023.shtml\">TBR</a>,\n",
       " <a href=\"/teams/BOS/2023.shtml\">BOS</a>,\n",
       " <a href=\"/teams/CHW/2023.shtml\">CHW</a>,\n",
       " <a href=\"/teams/MIN/2023.shtml\">MIN</a>,\n",
       " <a href=\"/teams/DET/2023.shtml\">DET</a>,\n",
       " <a href=\"/teams/KCR/2023.shtml\">KCR</a>,\n",
       " <a href=\"/teams/CLE/2023.shtml\">CLE</a>,\n",
       " <a href=\"/teams/SEA/2023.shtml\">SEA</a>,\n",
       " <a href=\"/teams/OAK/2023.shtml\">OAK</a>,\n",
       " <a href=\"/teams/TEX/2023.shtml\">TEX</a>,\n",
       " <a href=\"/teams/HOU/2023.shtml\">HOU</a>,\n",
       " <a href=\"/teams/LAA/2023.shtml\">LAA</a>,\n",
       " <a href=\"/teams/NYM/2023.shtml\">NYM</a>,\n",
       " <a href=\"/teams/ATL/2023.shtml\">ATL</a>,\n",
       " <a href=\"/teams/WSN/2023.shtml\">WSN</a>,\n",
       " <a href=\"/teams/PHI/2023.shtml\">PHI</a>,\n",
       " <a href=\"/teams/MIA/2023.shtml\">MIA</a>,\n",
       " <a href=\"/teams/PIT/2023.shtml\">PIT</a>,\n",
       " <a href=\"/teams/CHC/2023.shtml\">CHC</a>,\n",
       " <a href=\"/teams/MIL/2023.shtml\">MIL</a>,\n",
       " <a href=\"/teams/STL/2023.shtml\">STL</a>,\n",
       " <a href=\"/teams/CIN/2023.shtml\">CIN</a>,\n",
       " <a href=\"/teams/LAD/2023.shtml\">LAD</a>,\n",
       " <a href=\"/teams/COL/2023.shtml\">COL</a>,\n",
       " <a href=\"/teams/SDP/2023.shtml\">SDP</a>,\n",
       " <a href=\"/teams/SFG/2023.shtml\">SFG</a>,\n",
       " <a href=\"/teams/ARI/2023.shtml\">ARI</a>,\n",
       " <a href=\"/teams/SEA/2023.shtml\">SEA</a>,\n",
       " <a href=\"/teams/BAL/2023.shtml\">BAL</a>,\n",
       " <a href=\"/teams/TBR/2023.shtml\">TBR</a>,\n",
       " <a href=\"/teams/OAK/2023.shtml\">OAK</a>,\n",
       " <a href=\"/teams/CHW/2023.shtml\">CHW</a>,\n",
       " <a href=\"/teams/NYY/2023.shtml\">NYY</a>,\n",
       " <a href=\"/teams/MIN/2023.shtml\">MIN</a>,\n",
       " <a href=\"/teams/TEX/2023.shtml\">TEX</a>,\n",
       " <a href=\"/teams/TOR/2023.shtml\">TOR</a>,\n",
       " <a href=\"/teams/LAA/2023.shtml\">LAA</a>,\n",
       " <a href=\"/teams/KCR/2023.shtml\">KCR</a>,\n",
       " <a href=\"/teams/HOU/2023.shtml\">HOU</a>,\n",
       " <a href=\"/teams/DET/2023.shtml\">DET</a>,\n",
       " <a href=\"/teams/CLE/2023.shtml\">CLE</a>,\n",
       " <a href=\"/teams/BOS/2023.shtml\">BOS</a>,\n",
       " <a href=\"/teams/LAD/2023.shtml\">LAD</a>,\n",
       " <a href=\"/teams/COL/2023.shtml\">COL</a>,\n",
       " <a href=\"/teams/NYM/2023.shtml\">NYM</a>,\n",
       " <a href=\"/teams/CHC/2023.shtml\">CHC</a>,\n",
       " <a href=\"/teams/PIT/2023.shtml\">PIT</a>,\n",
       " <a href=\"/teams/ATL/2023.shtml\">ATL</a>,\n",
       " <a href=\"/teams/WSN/2023.shtml\">WSN</a>,\n",
       " <a href=\"/teams/ARI/2023.shtml\">ARI</a>,\n",
       " <a href=\"/teams/STL/2023.shtml\">STL</a>,\n",
       " <a href=\"/teams/SFG/2023.shtml\">SFG</a>,\n",
       " <a href=\"/teams/SDP/2023.shtml\">SDP</a>,\n",
       " <a href=\"/teams/PHI/2023.shtml\">PHI</a>,\n",
       " <a href=\"/teams/MIL/2023.shtml\">MIL</a>,\n",
       " <a href=\"/teams/MIA/2023.shtml\">MIA</a>,\n",
       " <a href=\"/teams/CIN/2023.shtml\">CIN</a>,\n",
       " <a href=\"/teams/TBR/2023.shtml\">TBR</a>,\n",
       " <a href=\"/teams/BAL/2023.shtml\">BAL</a>,\n",
       " <a href=\"/teams/TOR/2023.shtml\">TOR</a>,\n",
       " <a href=\"/teams/NYY/2023.shtml\">NYY</a>,\n",
       " <a href=\"/teams/BOS/2023.shtml\">BOS</a>,\n",
       " <a href=\"/teams/MIN/2023.shtml\">MIN</a>,\n",
       " <a href=\"/teams/DET/2023.shtml\">DET</a>,\n",
       " <a href=\"/teams/CLE/2023.shtml\">CLE</a>,\n",
       " <a href=\"/teams/CHW/2023.shtml\">CHW</a>,\n",
       " <a href=\"/teams/KCR/2023.shtml\">KCR</a>,\n",
       " <a href=\"/teams/TEX/2023.shtml\">TEX</a>,\n",
       " <a href=\"/teams/HOU/2023.shtml\">HOU</a>,\n",
       " <a href=\"/teams/LAA/2023.shtml\">LAA</a>,\n",
       " <a href=\"/teams/SEA/2023.shtml\">SEA</a>,\n",
       " <a href=\"/teams/OAK/2023.shtml\">OAK</a>,\n",
       " <a href=\"/teams/ATL/2023.shtml\">ATL</a>,\n",
       " <a href=\"/teams/MIA/2023.shtml\">MIA</a>,\n",
       " <a href=\"/teams/PHI/2023.shtml\">PHI</a>,\n",
       " <a href=\"/teams/NYM/2023.shtml\">NYM</a>,\n",
       " <a href=\"/teams/WSN/2023.shtml\">WSN</a>,\n",
       " <a href=\"/teams/MIL/2023.shtml\">MIL</a>,\n",
       " <a href=\"/teams/PIT/2023.shtml\">PIT</a>,\n",
       " <a href=\"/teams/CIN/2023.shtml\">CIN</a>,\n",
       " <a href=\"/teams/CHC/2023.shtml\">CHC</a>,\n",
       " <a href=\"/teams/STL/2023.shtml\">STL</a>,\n",
       " <a href=\"/teams/LAD/2023.shtml\">LAD</a>,\n",
       " <a href=\"/teams/ARI/2023.shtml\">ARI</a>,\n",
       " <a href=\"/teams/SDP/2023.shtml\">SDP</a>,\n",
       " <a href=\"/teams/SFG/2023.shtml\">SFG</a>,\n",
       " <a href=\"/teams/COL/2023.shtml\">COL</a>,\n",
       " <a href=\"/teams/TBR/2023.shtml\">TBR</a>,\n",
       " <a href=\"/teams/BAL/2023.shtml\">BAL</a>,\n",
       " <a href=\"/teams/TEX/2023.shtml\">TEX</a>,\n",
       " <a href=\"/teams/TOR/2023.shtml\">TOR</a>,\n",
       " <a href=\"/teams/HOU/2023.shtml\">HOU</a>,\n",
       " <a href=\"/teams/NYY/2023.shtml\">NYY</a>,\n",
       " <a href=\"/teams/BOS/2023.shtml\">BOS</a>,\n",
       " <a href=\"/teams/MIN/2023.shtml\">MIN</a>,\n",
       " <a href=\"/teams/LAA/2023.shtml\">LAA</a>,\n",
       " <a href=\"/teams/SEA/2023.shtml\">SEA</a>,\n",
       " <a href=\"/teams/DET/2023.shtml\">DET</a>,\n",
       " <a href=\"/teams/CLE/2023.shtml\">CLE</a>,\n",
       " <a href=\"/teams/CHW/2023.shtml\">CHW</a>,\n",
       " <a href=\"/teams/KCR/2023.shtml\">KCR</a>,\n",
       " <a href=\"/teams/OAK/2023.shtml\">OAK</a>,\n",
       " <a href=\"/teams/LAD/2023.shtml\">LAD</a>,\n",
       " <a href=\"/teams/ATL/2023.shtml\">ATL</a>,\n",
       " <a href=\"/teams/MIL/2023.shtml\">MIL</a>,\n",
       " <a href=\"/teams/ARI/2023.shtml\">ARI</a>,\n",
       " <a href=\"/teams/PIT/2023.shtml\">PIT</a>,\n",
       " <a href=\"/teams/MIA/2023.shtml\">MIA</a>,\n",
       " <a href=\"/teams/PHI/2023.shtml\">PHI</a>,\n",
       " <a href=\"/teams/SDP/2023.shtml\">SDP</a>,\n",
       " <a href=\"/teams/SFG/2023.shtml\">SFG</a>,\n",
       " <a href=\"/teams/CIN/2023.shtml\">CIN</a>,\n",
       " <a href=\"/teams/NYM/2023.shtml\">NYM</a>,\n",
       " <a href=\"/teams/CHC/2023.shtml\">CHC</a>,\n",
       " <a href=\"/teams/WSN/2023.shtml\">WSN</a>,\n",
       " <a href=\"/teams/STL/2023.shtml\">STL</a>,\n",
       " <a href=\"/teams/COL/2023.shtml\">COL</a>]"
      ]
     },
     "execution_count": 33,
     "metadata": {},
     "output_type": "execute_result"
    }
   ],
   "source": [
    "soup.select('table a')"
   ]
  },
  {
   "cell_type": "code",
   "execution_count": 38,
   "id": "e9f8c155",
   "metadata": {},
   "outputs": [],
   "source": [
    " enlaces = soup.select('table a')"
   ]
  },
  {
   "cell_type": "code",
   "execution_count": 41,
   "id": "a1feaa46",
   "metadata": {},
   "outputs": [],
   "source": [
    "links = []\n",
    "for i in range(1,len(enlaces),3):\n",
    "    href = enlaces[i].get('href')\n",
    "    if href.startswith('/boxes'):\n",
    "        links.append(href)"
   ]
  },
  {
   "cell_type": "code",
   "execution_count": 42,
   "id": "5f77f71e",
   "metadata": {},
   "outputs": [
    {
     "data": {
      "text/plain": [
       "['/boxes/NYA/NYA202303300.shtml',\n",
       " '/boxes/WAS/WAS202303300.shtml',\n",
       " '/boxes/BOS/BOS202303300.shtml',\n",
       " '/boxes/CHN/CHN202303300.shtml',\n",
       " '/boxes/TBA/TBA202303300.shtml',\n",
       " '/boxes/TEX/TEX202303300.shtml',\n",
       " '/boxes/CIN/CIN202303300.shtml',\n",
       " '/boxes/KCA/KCA202303300.shtml',\n",
       " '/boxes/MIA/MIA202303300.shtml',\n",
       " '/boxes/SLN/SLN202303300.shtml',\n",
       " '/boxes/HOU/HOU202303300.shtml',\n",
       " '/boxes/SDN/SDN202303300.shtml',\n",
       " '/boxes/OAK/OAK202303300.shtml',\n",
       " '/boxes/LAN/LAN202303300.shtml',\n",
       " '/boxes/SEA/SEA202303300.shtml']"
      ]
     },
     "execution_count": 42,
     "metadata": {},
     "output_type": "execute_result"
    }
   ],
   "source": [
    "links"
   ]
  },
  {
   "cell_type": "code",
   "execution_count": 45,
   "id": "16f0087d",
   "metadata": {},
   "outputs": [
    {
     "name": "stdout",
     "output_type": "stream",
     "text": [
      "https://www.baseball-reference.com//boxes/NYA/NYA202303300.shtml\n",
      "https://www.baseball-reference.com//boxes/WAS/WAS202303300.shtml\n",
      "https://www.baseball-reference.com//boxes/BOS/BOS202303300.shtml\n",
      "https://www.baseball-reference.com//boxes/CHN/CHN202303300.shtml\n",
      "https://www.baseball-reference.com//boxes/TBA/TBA202303300.shtml\n",
      "https://www.baseball-reference.com//boxes/TEX/TEX202303300.shtml\n",
      "https://www.baseball-reference.com//boxes/CIN/CIN202303300.shtml\n",
      "https://www.baseball-reference.com//boxes/KCA/KCA202303300.shtml\n",
      "https://www.baseball-reference.com//boxes/MIA/MIA202303300.shtml\n",
      "https://www.baseball-reference.com//boxes/SLN/SLN202303300.shtml\n",
      "https://www.baseball-reference.com//boxes/HOU/HOU202303300.shtml\n",
      "https://www.baseball-reference.com//boxes/SDN/SDN202303300.shtml\n",
      "https://www.baseball-reference.com//boxes/OAK/OAK202303300.shtml\n",
      "https://www.baseball-reference.com//boxes/LAN/LAN202303300.shtml\n",
      "https://www.baseball-reference.com//boxes/SEA/SEA202303300.shtml\n"
     ]
    }
   ],
   "source": [
    "for l in links:\n",
    "    url = \"https://www.baseball-reference.com/\"+l\n",
    "    print(url)"
   ]
  },
  {
   "cell_type": "markdown",
   "id": "8dccdbd7",
   "metadata": {},
   "source": [
    "Ejemplo par4a sacar datos"
   ]
  },
  {
   "cell_type": "code",
   "execution_count": 163,
   "id": "86d8f5b2",
   "metadata": {},
   "outputs": [],
   "source": [
    "url = 'https://www.baseball-reference.com//boxes/NYA/NYA202303300.shtml'\n",
    "response = requests.get(url)\n",
    "soup = BeautifulSoup(response.content, \"html.parser\")"
   ]
  },
  {
   "cell_type": "code",
   "execution_count": 164,
   "id": "67938111",
   "metadata": {},
   "outputs": [
    {
     "data": {
      "text/plain": [
       "\n",
       "<!DOCTYPE html>\n",
       "\n",
       "<html class=\"no-js\" data-root=\"/home/br/build\" data-version=\"klecko-\" lang=\"en\">\n",
       "<head>\n",
       "<meta charset=\"utf-8\"/>\n",
       "<meta content=\"ie=edge\" http-equiv=\"x-ua-compatible\"/>\n",
       "<meta content=\"width=device-width, initial-scale=1.0, maximum-scale=2.0\" name=\"viewport\">\n",
       "<link href=\"https://cdn.ssref.net/req/202305161\" rel=\"dns-prefetch\"/>\n",
       "<!-- Quantcast Choice. Consent Manager Tag v2.0 (for TCF 2.0) -->\n",
       "<script async=\"true\" type=\"text/javascript\">\n",
       "    (function() {\n",
       "\tvar host = window.location.hostname;\n",
       "\tvar element = document.createElement('script');\n",
       "\tvar firstScript = document.getElementsByTagName('script')[0];\n",
       "\tvar url = 'https://cmp.quantcast.com'\n",
       "\t    .concat('/choice/', 'XwNYEpNeFfhfr', '/', host, \n",
       "\t\t    '/choice.js?tag_version=V2');\n",
       "\tvar uspTries = 0;\n",
       "\tvar uspTriesLimit = 3;\n",
       "\telement.async = true;\n",
       "\telement.type = 'text/javascript';\n",
       "\telement.src = url;\n",
       "\t\n",
       "\tfirstScript.parentNode.insertBefore(element, firstScript);\n",
       "\t\n",
       "\tfunction makeStub() {\n",
       "\t    var TCF_LOCATOR_NAME = '__tcfapiLocator';\n",
       "\t    var queue = [];\n",
       "\t    var win = window;\n",
       "\t    var cmpFrame;\n",
       "\t    \n",
       "\t    function addFrame() {\n",
       "\t\tvar doc = win.document;\n",
       "\t\tvar otherCMP = !!(win.frames[TCF_LOCATOR_NAME]);\n",
       "\t\t\n",
       "\t\tif (!otherCMP) {\n",
       "\t\t    if (doc.body) {\n",
       "\t\t\tvar iframe = doc.createElement('iframe');\n",
       "\t\t\t\n",
       "\t\t\tiframe.style.cssText = 'display:none';\n",
       "\t\t\tiframe.name = TCF_LOCATOR_NAME;\n",
       "\t\t\tdoc.body.appendChild(iframe);\n",
       "\t\t    } else {\n",
       "\t\t\tsetTimeout(addFrame, 5);\n",
       "\t\t    }\n",
       "\t\t}\n",
       "\t\treturn !otherCMP;\n",
       "\t    }\n",
       "\t    \n",
       "\t    function tcfAPIHandler() {\n",
       "\t\tvar gdprApplies;\n",
       "\t\tvar args = arguments;\n",
       "\t\t\n",
       "\t\tif (!args.length) {\n",
       "\t\t    return queue;\n",
       "\t\t} else if (args[0] === 'setGdprApplies') {\n",
       "\t\t    if (\n",
       "\t\t\targs.length > 3 &&\n",
       "\t\t\t    args[2] === 2 &&\n",
       "\t\t\t    typeof args[3] === 'boolean'\n",
       "\t\t    ) {\n",
       "\t\t\tgdprApplies = args[3];\n",
       "\t\t\tif (typeof args[2] === 'function') {\n",
       "\t\t\t    args[2]('set', true);\n",
       "\t\t\t}\n",
       "\t\t    }\n",
       "\t\t} else if (args[0] === 'ping') {\n",
       "\t\t    var retr = {\n",
       "\t\t\tgdprApplies: gdprApplies,\n",
       "\t\t\tcmpLoaded: false,\n",
       "\t\t\tcmpStatus: 'stub'\n",
       "\t\t    };\n",
       "\t\t    \n",
       "\t\t    if (typeof args[2] === 'function') {\n",
       "\t\t\targs[2](retr);\n",
       "\t\t    }\n",
       "\t\t} else {\n",
       "\t\t    if(args[0] === 'init' && typeof args[3] === 'object') {\n",
       "\t\t\targs[3] = Object.assign(args[3], { tag_version: 'V2' });\n",
       "\t\t    }\n",
       "\t\t    queue.push(args);\n",
       "\t\t}\n",
       "\t    }\n",
       "\t    \n",
       "\t    function postMessageEventHandler(event) {\n",
       "\t\tvar msgIsString = typeof event.data === 'string';\n",
       "\t\tvar json = {};\n",
       "\t\t\n",
       "\t\ttry {\n",
       "\t\t    if (msgIsString) {\n",
       "\t\t\tjson = JSON.parse(event.data);\n",
       "\t\t    } else {\n",
       "\t\t\tjson = event.data;\n",
       "\t\t    }\n",
       "\t\t} catch (ignore) {}\n",
       "\t\t\n",
       "\t\tvar payload = json.__tcfapiCall;\n",
       "\t\t\n",
       "\t\tif (payload) {\n",
       "\t\t    window.__tcfapi(\n",
       "\t\t\tpayload.command,\n",
       "\t\t\tpayload.version,\n",
       "\t\t\tfunction(retValue, success) {\n",
       "\t\t\t    var returnMsg = {\n",
       "\t\t\t\t__tcfapiReturn: {\n",
       "\t\t\t\t    returnValue: retValue,\n",
       "\t\t\t\t    success: success,\n",
       "\t\t\t\t    callId: payload.callId\n",
       "\t\t\t\t}\n",
       "\t\t\t    };\n",
       "\t\t\t    if (msgIsString) {\n",
       "\t\t\t\treturnMsg = JSON.stringify(returnMsg);\n",
       "\t\t\t    }\n",
       "\t\t\t    if (event && event.source && event.source.postMessage) {\n",
       "\t\t\t\tevent.source.postMessage(returnMsg, '*');\n",
       "\t\t\t    }\n",
       "\t\t\t},\n",
       "\t\t\tpayload.parameter\n",
       "\t\t    );\n",
       "\t\t}\n",
       "\t    }\n",
       "\t    \n",
       "\t    while (win) {\n",
       "\t\ttry {\n",
       "\t\t    if (win.frames[TCF_LOCATOR_NAME]) {\n",
       "\t\t\tcmpFrame = win;\n",
       "\t\t\tbreak;\n",
       "\t\t    }\n",
       "\t\t} catch (ignore) {}\n",
       "\t\t\n",
       "\t\tif (win === window.top) {\n",
       "\t\t    break;\n",
       "\t\t}\n",
       "\t\twin = win.parent;\n",
       "\t    }\n",
       "\t    if (!cmpFrame) {\n",
       "\t\taddFrame();\n",
       "\t\twin.__tcfapi = tcfAPIHandler;\n",
       "\t\twin.addEventListener('message', postMessageEventHandler, false);\n",
       "\t    }\n",
       "\t};\n",
       "\t\n",
       "\tmakeStub();\n",
       "\t\n",
       "\tvar uspStubFunction = function() {\n",
       "\t    var arg = arguments;\n",
       "\t    if (typeof window.__uspapi !== uspStubFunction) {\n",
       "\t\tsetTimeout(function() {\n",
       "\t\t    if (typeof window.__uspapi !== 'undefined') {\n",
       "\t\t\twindow.__uspapi.apply(window.__uspapi, arg);\n",
       "\t\t    }\n",
       "\t\t}, 500);\n",
       "\t    }\n",
       "\t};\n",
       "\t\n",
       "\tvar checkIfUspIsReady = function() {\n",
       "\t    uspTries++;\n",
       "\t    if (window.__uspapi === uspStubFunction && uspTries < uspTriesLimit) {\n",
       "\t\tconsole.warn('USP is not accessible');\n",
       "\t    } else {\n",
       "\t\tclearInterval(uspInterval);\n",
       "\t    }\n",
       "\t};\n",
       "\t\n",
       "\tif (typeof window.__uspapi === 'undefined') {\n",
       "\t    window.__uspapi = uspStubFunction;\n",
       "\t    var uspInterval = setInterval(checkIfUspIsReady, 6000);\n",
       "\t}\n",
       "    })();\n",
       "</script>\n",
       "<!-- End Quantcast Choice. Consent Manager Tag v2.0 (for TCF 2.0) -->\n",
       "<title>San Francisco Giants vs New York Yankees Box Score: March 30, 2023 | Baseball-Reference.com</title>\n",
       "<meta content=\"New York Yankees beat San Francisco Giants (5-0). Mar 30, 2023, Attendance: 46172, Time of Game: 2:33.  Visit Baseball-Reference.com for the complete box score, play-by-play, and win probability\" name=\"Description\"/>\n",
       "<link href=\"https://www.baseball-reference.com/boxes/NYA/NYA202303300.shtml\" rel=\"canonical\"/>\n",
       "<!-- include:start =\"/inc/klecko_header_br.html_f\" -->\n",
       "<!-- no:cookie fast load the css.           -->\n",
       "<script>function gup(n) {n = n.replace(/[\\[]/, '\\\\[').replace(/[\\]]/, '\\\\]'); var r = new RegExp('[\\\\?&]'+n+'=([^&#]*)'); var re = r.exec(location.search);   return re === null?'':decodeURIComponent(re[1].replace(/\\+/g,' '));}; document.srdev = gup('srdev')</script>\n",
       "<link crossorigin=\"\" href=\"https://cdn.ssref.net\" rel=\"preconnect\"/>\n",
       "<link crossorigin=\"\" href=\"https://www.google-analytics.com\" rel=\"preconnect\"/>\n",
       "<link crossorigin=\"\" href=\"https://www.googletagservices.com\" rel=\"preconnect\"/>\n",
       "<link as=\"script\" crossorigin=\"\" href=\"https://cdn.ssref.net/req/202305161/js/br/sr-min.js\" rel=\"preload\"/>\n",
       "<link as=\"fetch\" crossorigin=\"\" href=\"https://cdn.ssref.net/req/202305161/icons/sr_icons-min.svg?br\" rel=\"preload\"/>\n",
       "<link as=\"fetch\" crossorigin=\"\" href=\"https://www.baseball-reference.com/short/inc/main_nav_menu.json\" rel=\"preload\"/>\n",
       "<link as=\"image\" crossorigin=\"\" href=\"https://cdn.ssref.net/req/201604190/images/chosen-sprite.png\" rel=\"preload\"/>\n",
       "<link as=\"style\" crossorigin=\"\" href=\"https://cdn.ssref.net/req/202305161/css/br/sr-min.css\" rel=\"preload\"/>\n",
       "<!-- CSS start -->\n",
       "<style>html,body{margin:0;padding:0;font:14px/1.25 \"Helvetica Neue\",helvetica,arial,sans-serif;color:#000}html:not(.backstop){scroll-behavior:smooth}html:not(.backstop) div,html:not(.backstop) span{scroll-margin:2.5em 0 0 0;scroll-snap-margin:2.5em 0 0 0}body{position:relative;background:#c9cbcd;z-index:0;-webkit-text-size-adjust:none;-moz-text-size-adjust:none;-ms-text-size-adjust:none}a img{border:0}ul,li,ol{margin:0;padding:0;list-style-type:none}table th,table td{border:0}iframe{max-width:100%}code{background:#eee}a,button,input,select,textarea,label,summary{touch-action:manipulation;-ms-touch-action:manipulation}::selection{background:#ff0;text-shadow:none}html.no-js .hasmore,html.no-js .js,html.js .no-js,html.no-js button,html.is_build .hide_build,html.is_dev .hide_dev,html.is_live .hide_live{display:none!important}.js-select{visibility:hidden}a[href]{color:#34d}a[href]:visited{color:#848}a[href]:hover{color:#5e44b3}a[href]:active{color:#b12}a[href^=\"tel:\"]::before{content:\"\\260E\";display:inline-block;margin-right:0}a[href^=\"mailto:\"]::before{content:\"\\2709\";display:inline-block;margin-right:0}.icon_group a[href^=\"tel:\"]:before,.icon_group a[href^=\"mailto:\"]:before{content:\"\"}.screen_only{display:initial}.user_logged_in .not_logged_in,.logged_in,.sr_cpi_control,.print_only{display:none}#perflog,#modernizr,.user_logged_in .logged_in{display:block}h2{color:#000;margin-bottom:5px;font-size:1.5em}img.right{float:right;margin:0 0 5px 5px}img.left{float:left;margin:0 15px 15px 0}sup{font-size:.75em;position:relative;top:-0.4em;vertical-align:baseline}#wrap{width:100%;background:#fff;position:relative}#wrap>div,#wrap>ul{width:100%;position:relative;clear:both}.hidden-iso,.hidden,#content .hidden,.gutterad,.more,.print_only,#warnings.hide,#nag_devs{display:none}#inner_nav.hidden{visibility:hidden}.float_wrap{overflow:hidden}.grid2{display:grid;grid-column-gap:10px;grid-template-columns:1fr 1fr}.grid2 img{max-width:100%}.grid2.heavyleft{grid-template-columns:2fr 1fr}.grid2.heavyright{grid-template-columns:1fr 2fr}#header{overflow:visible;background:#efedee;border-bottom:3px solid #cf2036;min-height:50px}#header img{height:25px;float:left;padding:8px 0 8px 2%;max-width:71%;max-width:calc(95% - 80px)}#header #nav_trigger{display:block;cursor:pointer;float:right;padding:7px 2% 7px 1%;height:30px}#header #nav_trigger a{color:#82081b;font-size:20px;font-weight:bold;text-decoration:none;display:inline-block}#header #nav_trigger a:before{color:#82081b;content:\"\\2630 \";font-weight:normal}#header #nav{display:none;clear:both;width:88%;background:#fff;padding:7px 6% 0;border-bottom:3px solid #82081b;border-top:3px solid #82081b;overflow:hidden;font-size:12px}#header #nav .usertools{font-weight:bold;font-size:12px;margin:0 0 4px;padding:7px 6% 0;border-top:1px solid #c9cbcd}#header #nav .breadcrumbs{font-size:12px;padding:7px 6%;border-top:1px solid #c9cbcd}#header #nav_trigger.open{background:#82081b}#header #nav_trigger.open a{color:#fff}#header #nav_trigger.open a:before{color:#fff}#header #nav.open{display:block}#header .social{margin:15px 0;display:none}#header.open_search{margin-bottom:50px}#header #subnav{display:none}#translations{background-color:#ffa;padding:4px 0;text-align:center;display:none}#translations.show{display:block}#translations .closer{top:4px}#translations .langs{display:inline-block}#translations .links{margin:0 35px 0 0}#translations .links>div{display:inline-block}#translations .links .welcome{font-weight:bold}#header .search{margin-top:10px;clear:both;padding:0 2% 6px}#header .search input,#header .search input:active,#header .search input:focus{height:32px;font-size:20px}.search input[type=\"search\"]{padding:4px 5px;border:#747678 1px solid;width:73%;margin-right:2%}.search input[type=\"search\"].prefilled{background-color:#ffa}.search input[type=\"submit\"]{float:right;background:#82081b;color:white;border:1px solid #747678;padding:0;border-radius:5px;height:24px;width:25%;width:calc(25% - 2px)}.search input[type=\"submit\"]:hover{text-decoration:underline}.search input[type=\"submit\"]:active{background-color:#454041}.search .ac-outline{width:73%;margin-right:2%}.search .ac-outline input[type=\"search\"]{width:100%;margin:0}@media screen and (-webkit-min-device-pixel-ratio:0) and (max-width:400px){#header .search input,#header .search input:active,#header .search input:focus{height:32px;font-size:20px}}#wrap>#info{width:96%;margin:0 auto;padding-bottom:10px}#info .opener,#info .opener:active,#inner_nav div .opener{color:#900;font-weight:bold;clear:both;width:100%;text-align:left;padding:10px 0;border:0;background:transparent}#info button#meta_more_button{border:1px solid #c9cbcd;background-color:#efedee;padding:.5em;margin:.5em 0;text-align:center;width:100%;max-width:400px;text-overflow:ellipsis;white-space:nowrap;overflow:hidden;display:none}#info button#meta_more_button.show{display:inline-block}#info #meta>div>p:nth-child(n+6){display:none}#info.open #meta>div>p:nth-child(n+6){display:block}#info #meta .opener{display:none}#info #meta{margin-top:10px;overflow:hidden}#info #meta p{font-size:.93em;margin:3px 0}#info #meta>div.media-item{float:right;margin-left:10px;width:70px}#info #meta>div.media-item.country{width:100px;height:75px}#info #meta>div.media-item.country .flag{width:100%;height:100%;background-size:100%}#info .media-item img{width:100%;height:auto;border:1px solid black;box-sizing:border-box}#info .media-item img.additional{display:none}#info .media-item.logo img,.bbr #info .media-item img,.cbb #info .media-item img{border:0}#info #meta .media-item p{margin:3px 0;font-size:.785em;font-style:italic}#info #meta .media-item.loader p{visibility:hidden}#info h1{margin-top:0;margin-bottom:5px;line-height:1.1em;font-size:1.5em}#info h1+p{margin-top:5px}#info #bling{margin:6px 1% 6px 0;color:#fff;height:24px;overflow:hidden;float:left;width:88%;display:grid;grid-gap:5px 4px;grid-template-columns:repeat(auto-fill,minmax(100px,1fr))}#info.teams #bling{width:100%}#info #bling li{padding:4px 1.25%;text-align:center;position:relative;height:15px;background:#82081b;font-size:.85em;word-spacing:0;white-space:nowrap;overflow:hidden;text-overflow:ellipsis;border-radius:5px;display:inline-block;width:27%;margin-bottom:5px}#info.teams #bling li{width:45%}#bling li a{color:inherit}#info #bling li.bling_hof{background-color:#ffdb1c;color:#000}#info #bling li.bling_all_star{background-color:#c9cbcd;color:#454041}#info #bling li.bling_hof,#info.teams #bling li.bling_all_star,#info.teams #bling li.bling_champ{grid-column-end:span 2}#info #bling li.important{grid-column-end:span 2}#info #bling li.special{background-color:#ffdb1c;color:#000}#info #bling li.all_star{background-color:#c9cbcd;color:#454041}#info.open #bling{height:auto;width:100%;margin-right:0;float:none;overflow:visible}@supports(display:grid){#info #bling li,#info.open #bling li,#info.teams #bling li{width:auto!important;margin-bottom:0!important}}.uni_holder{margin:3px 0;float:none;width:100%;position:relative}#info .uni_holder{float:left}#bling+.uni_holder{width:11%}#info.open #bling+.uni_holder{width:100%;overflow:visible;float:none;margin-bottom:5px}.uni_holder>a{display:inline-block;position:relative;height:auto;width:28px;margin-bottom:3px;margin-right:.3em;text-decoration:none;overflow:hidden}.uni_holder svg{height:28px;width:28px}.uni_holder svg.jersey{height:35px}.uni_holder svg text{font-size:1.8em;font-weight:bold}.uni_holder svg text.string{font-size:1.3em}.uni_holder svg.jersey text{font-size:1.5em}.uni_holder svg.jersey text.string{font-size:.7em}#info #bling+.uni_holder>a{display:none}#info .uni_holder>a.default,#info.open .uni_holder>a,#info #bling+.uni_holder>a.default{display:inline-block}#info .uni_holder .counter{display:none;position:absolute;height:14px;width:18px;border-radius:50%;color:#fff;font-weight:bold;font-size:10px;top:-4px;left:18px;background:black;text-align:center;border:0;padding:4px 0 0;cursor:pointer;text-overflow:inherit}#info .uni_holder .counter:after{content:'';padding:0;font-size:0}#info #bling+.uni_holder .counter{display:block}#info.open #bling+.uni_holder .counter{display:none}#info.open #bling+.uni_holder>a{display:inline-block}#info.open .uni_holder>a{display:inline-block;width:33px}#info.open .uni_holder svg{height:33px;width:33px}#info.open .uni_holder svg.jersey{height:41px}.stats_pullout{overflow:hidden;text-align:center;width:96%;margin:0 auto 15px 0;padding-top:6px}.stats_pullout>div{float:left}.stats_pullout>div:first-child{text-align:left}.stats_pullout>div.p2,.stats_pullout>div.p3{display:none}.stats_pullout>div>div{float:left;margin-left:15px}.stats_pullout>div>div.p2{display:none}.stats_pullout>div:first-child>div{margin-left:0}.stats_pullout span,.stats_pullout h4{color:#900;margin:2px 0;font-size:.785714286em;text-align:center}.stats_pullout p{margin:2px 0;font-size:1.1em}.stats_pullout .caption{clear:both;text-align:left}@media screen and (min-width:520px){.stats_pullout>div.p2{display:block}}@media screen and (min-width:600px){.stats_pullout>div{border-left:1px solid #c9cbcd;margin-left:10px}.stats_pullout>div:first-child{border-left:none;margin-left:0}}@media screen and (min-width:736px){.stats_pullout>div.p2{display:none}}@media screen and (min-width:800px){.stats_pullout>div.p2{display:block}.stats_pullout>div>div.p2{display:block}}.opener{cursor:pointer;position:relative;overflow:hidden;white-space:nowrap;text-overflow:ellipsis}.opener:after{content:\"\\25BC\";font-size:.75em;padding-left:5px;display:inline-block;text-decoration:none}.opener.open:after{content:\"\\25B2\"}.note .opener{white-space:normal}.toggleable{display:none}.toggleable.open{display:block}tr.toggleable.open{display:table-row}table.toggleable.open{display:table}span.toggleable.open,em.toggleable.open{display:inline}.hoverer{cursor:pointer}.hoverer:after{content:\"\\25BC\";position:absolute;top:7px;right:0}html.no-touchevents .hoverer:hover:after{content:\"\\25B2\"}ul.news_stories>li{margin:5px 10px 0 0;float:none}ul.news_stories.more{display:none}ul.news_stories.more.open{display:block}.bullets{padding-left:20px}.bullets>li{margin-left:0;margin-bottom:6px}ul.bullets>li{list-style-type:disc}ol.bullets>li{list-style-type:decimal}.bullets-inline>li{display:inline-block;margin-right:9px;margin-bottom:10px}.bullets-inline>li:after{content:\"\\00B7\";margin-left:9px}.bullets-inline>li:last-child:after{content:\"\";margin-left:0}.bullets-inline>li.logged_in{display:none}.user_logged_in .bullets-inline>li.logged_in{display:inline-block}.desc{font-style:italic;font-size:.93em}.hilite{background-color:#ffa}.modified,.modified *{background-color:#f5f5f5}tr.hilite th,tr.hilite td{background-color:#ffa}.callout{margin:10px 0;padding:10px 15px;border:1px solid #aaa;background:#454041;color:#c9cbcd;font-size:1.1em}.callout a{color:#b3beff}.callout a:visited,.callout a:active{color:#a4adff}.callout a:hover,.callout a:visited:hover,.callout a:active:hover{color:#c4cfff}.callout.light{border-color:#747678;background:#eee;color:#404452}.callout.light a{color:#34d}.callout.light a.button,.callout.light a.button:hover{color:white}.callout.light a:hover{color:#5e44b3}.callout.light h3{background-color:transparent}#content>.notables{background-color:#ffa;border:1px dotted #747678;margin:0 auto;padding:6px;text-align:center;width:auto;max-width:500px;font-size:.93em;display:table}.notables li{margin-top:8px}.notables li:first-child{margin-top:0}.note{color:#444;font-size:.92em}.header{font-weight:bold;font-size:1.16em}.pagelog{width:90%;overflow:scroll}.preformatted-desc{width:90%;overflow:auto}.callout.new_stathead_player_highlight{background-image:url('https://cdn.ssref.net/req/202301032/images/stathead/smoke_bg.png');background-repeat:no-repeat;background-size:100% 100%;background-position:0 25px;background-color:#fff;border:1px solid #7e3e89;text-align:center;padding:10px 20px 0 20px}.new_stathead_player_highlight .callout_logos{display:flex;justify-content:center;align-items:center;font-weight:bold;font-size:.8em;min-width:500px}.callout_logos div{margin:0 20px}.new_stathead_player_highlight .cta{font-size:90%}.new_stathead_player_highlight .button.stathead_button{background-color:#7e3e89;display:none}.new_stathead_player_highlight img{height:30px}.new_stathead_player_highlight_content{background-color:white;border:1px solid black;border-radius:5px;margin:10px;padding:10px}.box .new_stathead_player_highlight{max-width:900px}.new_stathead_player_highlight .new_stathead_player_highlight_content>div:first-child{margin-bottom:.25em}@media screen and (min-width:736px){.callout.new_stathead_player_highlight{display:grid;align-items:center;justify-content:center}.new_stathead_player_highlight .button.stathead_button{display:block}.new_stathead_player_highlight img{width:100%}}@media screen and (max-width:735px){.new_stathead_player_highlight .callout_logos{min-width:auto}.new_stathead_player_highlight img{height:20px}}.callout.stathead_player_highlight{background:#fff;border:1px solid #7e3e89;text-align:center}.stathead_player_highlight .cta{font-size:90%}.stathead_player_highlight .button.stathead_button{background-color:#7e3e89;display:none}.stathead_player_highlight img{max-width:300px}.stathead_player_highlight .stathead_player_highlight_content>div:first-child{margin-bottom:.25em}@media screen and (min-width:736px){.callout.stathead_player_highlight{display:grid;grid-template-columns:minmax(205px,1fr) 4fr minmax(175px,1fr);grid-column-gap:10px;align-items:center}.stathead_player_highlight .button.stathead_button{display:block}.stathead_player_highlight img{width:100%}}#info .adblock{display:none}.adblock{overflow:hidden}.adblock>p{font-size:.93em;margin:2px 0}.adblock img{display:block;margin:0 auto}.adblock{background-color:white;text-align:center}.adblock.ad728{display:none}body.hr #srcom .adblock.ad728{display:block}.adblock.ad300{padding:10px}.adblock.grouped{float:left;padding:0}.adblock.ad300.grouped{float:none;padding:10px}#srcom .adblock.ad728:only-child{float:revert}.adblock.rails{display:none}#div-gpt-ad-728x90-BTF-1{max-height:340px}@media screen and (min-width:481px){.adblock.ad300{padding:10px 0}}@media screen and (min-width:800px){.adblock.ad728{display:block;float:none;margin-bottom:10px}.adblock.ad300{display:none}.adblock.grouped.ad728{display:none}.adblock.grouped.ad300{float:left;width:320px;background:0;padding:0;display:block}}@media screen and (min-width:1810px){.adblock.rails{display:block;height:600px;width:160px;background-color:transparent;position:absolute;top:96px}.adblock.rails.left{left:0}.adblock.rails.right{right:0}}@media screen and (max-width:330px){.adblock{padding:0}.adblock.grouped{padding:0}.adblock.ad300.grouped{padding:0}}.button{background-color:#82081b;padding:10px 15px;color:white;text-decoration:none;display:inline-block;text-align:center;font-size:1.1em;margin:10px 0;border-radius:5px;cursor:pointer}.button.stathead_button{background-color:#7e3e89}.button:active,.button:visited,a.button,a.button:visited,a.button:hover{color:white}.button.alt{background:#cf2036;border:#747678 1px solid;display:block}.button.mini{font-size:.8em;padding:4px 8px;cursor:auto}button.tooltip,button.modal{background:transparent;border:0;text-align:left;padding:0;color:#900}.button2{display:inline-block;border:1px solid #c9cbcd;border-radius:3px;background-color:#efedee;font-size:.93em;font-weight:normal;margin:0 8px 0 0;padding:8px 12px;width:auto;text-align:center}#meta .button2{font-size:.785714286em;margin:0 6px 0 0;padding:8px 7px}.button2[href]{text-decoration:none}.button2.next{text-align:right}.button2.prev{text-align:left}.button2.index,.button2.index:hover,.button2.index:active,.button2.index:visited{background-color:#454041;color:#fff}.button2.index:hover{color:#ccc}.button2.current{text-align:left;background-color:#fff;border:0;font-weight:bold;padding-left:0;padding-right:0;margin-left:-8px;margin-right:0}.button2:last-child{margin-right:0}.button2.next:after{content:\"\\203A\\203A\";padding-left:6px;color:black}.button2.prev:before{content:\"\\2039\\2039\";padding-right:6px;color:black}#info_box div.prevnext{margin-left:1em}.prevnext{margin:10px 0 15px 0}#content .prevnext>*{margin:.25em}#header #main_nav{color:#454041;overflow:hidden}#header #main_nav>li{border-top:1px solid #c9cbcd}#header #main_nav>li:first-child{border-top:0}#header #main_nav>li>a{display:block;padding:8px 0 8px 6%;font-weight:bold;text-decoration:none;font-size:1.4em}html.no-touchevents #header #main_nav>li:active{background-color:#454041}#header #main_nav>li:active>a{color:#efedee}#header #main_nav li.current{background-color:#82081b}#header #main_nav li.current>a{color:#efedee}#header #main_nav h4{margin:4px 0}#header #main_nav h4:first-child{margin-top:0}#header #main_nav .nm{display:none}#header #main_nav>li>div{display:none;width:98%;position:absolute;top:100%;left:0;z-index:200;border-top:1px solid #454041;padding:1%;background:#fff;font-size:14px;font-weight:normal;box-shadow:0 6px 12px -3px #454041;color:black}#header #main_nav>li.drophover>div{display:block;line-height:initial}#main_nav td{padding:3px}#main_nav .end_links{clear:both}#main_nav .list{margin:0 0 8px;padding:3px;overflow-x:hidden;text-overflow:ellipsis}#main_nav div.list span{font-weight:bold;display:inline-block}#header_leaders div.list span{min-width:70px}#main_nav .game_summary td{padding:1px}@media screen and (max-width:1019px){#header #main_nav>li>div.mobile_list{display:block;position:relative;top:auto;box-shadow:none;border:0;padding:0 0 0 12%}#header #main_nav>li>div.mobile_list strong.desc{display:none}#header #main_nav>li>div.mobile_list div.list{width:90%;line-height:2em}}.ac-outline{display:inline-block}.ac-wrapper{position:relative}.ac-prompt{position:absolute;font-size:16px;color:#454041;top:0;left:0;overflow:hidden;background:transparent}.ac-input:focus,.ac-input:active,.ac-hint:focus,.ac-input,.ac-hint{font-size:16px;background-color:#fff;width:100%;outline:0;border:0;margin:0;padding:0}.ac-input:focus,.ac-input:active,.ac-input{background-color:transparent}.ac-input{vertical-align:top;position:relative;color:#454041}.ac-hint{position:absolute;top:0;left:0;border-color:transparent;box-shadow:none;color:#747678}.ac-dropdown{position:absolute;visibility:hidden;padding:.5em 0;font-size:16px;background-color:#fff;z-index:100;cursor:default;overflow-x:hidden;overflow-y:scroll;width:calc(100% - 2px);border:#aaa 1px solid;border-top:0}.ac-dropdown>div:first-of-type>.ac-results-header{padding-top:0}.ac-results-header{font-size:1em;padding:.35em .5em;font-weight:700}.ac-suggestion{cursor:pointer;padding:.35em 1em;font-size:1em;line-height:1em;border-top:1px solid #fff;border-bottom:1px solid #fff}.ac-suggestion p{margin:0}.ac-suggestion.active,.ac-suggestion.active .search-results-item{color:#b12;font-weight:bold}.search-results-item em{font-style:normal;border-bottom:1px dotted}.ac-suggestion.ac-is-under-cursor,html.no-touchevents .ac-suggestion:hover{border-top:1px solid #aaa!important;border-bottom:1px solid #aaa!important;background-color:#ffa!important}.ac-suggestion .subhead{margin-left:.5em;padding-top:.25em;display:block;font-size:.75em}.ac-suggestion-other-search{font-size:1em;line-height:1.2em;padding-left:.5em;color:#34d}.player_select_name{font-size:16px}.player_select_name button{font-size:2em;margin-left:10px;vertical-align:middle}.player_select_name strong{display:inline-block}.pi_forms .group input[type=\"search\"]{max-width:none;height:auto;font-size:16px;padding-bottom:3px}.pi_forms .ac-outline{width:100%;max-width:520px}@media screen and (max-width:480px){.ac-dropdown{min-width:310px}#desc_container{font-size:12px}}@media screen and (min-width:400px){#info h1 span{display:inline-block}#info h1 span.header_end{display:inline}}@media screen and (min-width:481px){#header #nav_trigger a{font-size:24px}#header img{height:28px}#info #meta>div.media-item{width:92px}#info #meta>div.media-item.logo{width:118px}#info #meta>div.media-item.country{width:140px;height:105px}#info #meta>div>p:nth-child(6){display:block}#info #meta>div>p:nth-child(7){display:block}#info h1{font-size:1.7em}.button2,.button2.current{padding:8px 12px;margin:0 20px 0 0}}@media screen and (min-width:600px){#info #bling{grid-template-columns:repeat(auto-fill,minmax(130px,1fr))}#info.open #bling li{width:19.5%}#meta .button2{font-size:.93em;margin:0 20px 0 0;padding:8px 12px}}@media screen and (max-width:735px){.no_mobile{display:none}}@media screen and (min-width:736px){.mobile_only{display:none}#wrap>#header{width:100%;padding-left:0;padding-right:0;border-bottom:0}#wrap>#srcom{width:99%;margin:0 auto}#wrap>#info{width:65%;width:calc(99% - 322px);margin:0 auto;padding-right:320px;min-height:270px}#info .adblock{display:block;position:absolute;top:0;right:0;height:270px;width:300px;padding:0}h2{font-size:1.8em;line-height:1.2em}#info h1{font-size:2em;line-height:1.1em}#info #meta{min-height:auto}#info#general #meta{min-height:auto}#info.open #bling li{width:28%}}@media screen and (min-width:800px){#info #meta>div{float:left;width:100%}#info #meta>div.media-item{float:left;margin-left:0;margin-right:10px}#info #meta>div.media-item+div{width:85%;width:calc(100% - 102px)}#info #meta>div.media-item.logo+div{width:calc(100% - 128px)}#info #meta>div.media-item.country+div{width:calc(100% - 160px)}#info #meta>div>p.opener{max-width:75%}#info.open.teams #bling li{width:45%}}@media screen and (min-width:1020px){#header #nav_trigger{display:none}#wrap>#header{border-bottom:2px solid #82081b;overflow:visible;height:126px;background:#fff}#header img{position:absolute;top:22px;height:auto;max-height:55px;max-width:35%}#header #nav{display:block;width:100%;padding:0;margin:0;clear:none;background:#efedee;border-top:1px solid #c9cbcd;border-bottom:0;overflow:visible;height:30px;position:absolute;bottom:0}#header #nav>*{display:none}#header #nav>#main_nav{display:block;color:#454041;text-align:left;margin-bottom:0;border:0;overflow:visible}#header #main_nav ul{border:0;position:relative}#header #main_nav>li{border:0;width:auto;white-space:nowrap;float:left;color:#454041;font-size:1.16666667em;font-weight:bold;height:14px;padding:8px 1.7%;line-height:12px}#header #main_nav>li>a{color:#454041;padding:0;position:relative;font-size:1em}#header #main_nav>li.current>a{color:#fff}#header #main_nav>li.nm{display:block}#header #main_nav>li.m{display:none}#header #main_nav>li.hasmore>a:after{content:\"\";display:none}#header #main_nav>li.hasmore.drophover>a:after{content:\"\";display:none}#header #main_nav li:nth-child(even){border:0}#header #main_nav>li.drophover,#header #main_nav>li:not(.hasmore):hover,#inner_nav>ul>li.drophover{background:#454041}#header #main_nav>li.drophover>a,#header #main_nav>li:not(.hasmore):hover>a,#inner_nav>ul>li.drophover>a{color:#fff}#header #main_nav>li.drophover>span,#header #main_nav>li:not(.hasmore):hover>span,#inner_nav>ul>li.drophover>span{color:#fff}#header #main_nav>li>div>ul{overflow:hidden;margin-top:10px;margin-bottom:10px}#header #main_nav>li>div>ul>li{width:18%;margin-right:2%;margin-bottom:8px;float:left}html.no-touchevents .hasmore>div{position:absolute;left:-999em}html.no-touchevents .hasmore.drophover>div{z-index:69;left:0;box-shadow:0 6px 12px -3px #454041}#header #subnav{display:block;color:#c9cbcd;background-color:#454041;width:100%;padding:0;height:22px}#header #subnav>li{font-size:.785714286em;float:left;padding:2px 10px 2px;margin-top:3px;position:relative;border-left:1px solid #747678;height:12px}#header #subnav>li.user .username{display:inline-block;max-width:120px;overflow:hidden;text-overflow:ellipsis;white-space:nowrap;line-height:12px;vertical-align:text-bottom;padding-left:3px;margin-top:-7px}#header #subnav>li:first-child{display:block;border-left:none}#header #subnav>li:nth-child(9){display:none}#header #subnav>li:nth-child(n+10){float:right;border-left:none;border-right:1px solid #747678}#header #subnav>li:last-child{display:none}#header #subnav>li:last-child(2){border-right:0}#header #subnav>li.current a{color:#fff}#header #subnav li a{color:#c9cbcd;text-decoration:none}#header #subnav li a:hover{color:#fff;text-decoration:underline}#header #subnav li svg{vertical-align:top;margin-top:-2px}#header .search{position:relative;float:right;padding:0;width:60%;max-width:700px;clear:none;margin-right:12px;margin-top:17px}#wrap #info{overflow:hidden;margin-bottom:8px}#info #meta{margin-top:0;margin-bottom:10px;padding-top:15px;float:left;width:70%;width:calc(100% - 265px)}#info #bling,#info.open #bling,#info.teams #bling{float:right;width:250px;height:auto;margin-top:10px;margin-right:0;grid-template-columns:repeat(auto-fill,minmax(120px,1fr))}#info #bling li,#info.open #bling li{width:45%}#info.teams #bling li,#info.open.teams #bling li{width:92%}#info #meta>div>p.opener{display:none}#info #meta>div>p:nth-child(6){display:none}#info #meta>div>p:nth-child(7){display:none}#info.teams #meta>div>p:nth-child(n+6){display:block}#info.teams #meta>div>p:nth-child(n+11){display:none}#info.teams.open #meta>div>p:nth-child(n+11){display:block}#info.leagues #meta>div>p:nth-child(n+6){display:block}#info.leagues #meta>div>p:nth-child(n+11){display:none}#info.leagues.open #meta>div>p:nth-child(n+11){display:block}#info .adblock>div{margin-top:2px}.uni_holder{float:right;clear:right;width:250px;margin-top:10px}.uni_holder>a{width:42px}.uni_holder svg{height:42px;width:42px}.uni_holder svg.jersey{height:52px}#info .uni_holder{float:right}#info .uni_holder>a,#info #bling+.uni_holder>a{display:inline-block}#bling+.uni_holder,#info.open #bling+.uni_holder{margin-top:0;width:250px;float:right}#info #bling+.uni_holder .counter{display:none}#info.open .uni_holder>a{width:42px}#info.open .uni_holder svg{height:42px;width:42px}#info.open .uni_holder svg.jersey{height:52px}.stats_pullout>div.p3{display:block}#bling li:after{content:\"\";position:absolute;top:-110%;left:-210%;width:150%;height:200%;opacity:0;transform:rotate(10deg);background:rgba(255,255,255,0.13);background:linear-gradient(to right,rgba(255,255,255,0.13) 0,rgba(255,255,255,0.13) 77%,rgba(255,255,255,0.5) 92%,rgba(255,255,255,0.0) 100%)}#bling li:hover:after{opacity:1;top:-63%;left:-26%;transition-property:left,top,opacity;transition-duration:.7s,0.7s,0.15s;transition-timing-function:ease}#bling li:active:after{opacity:0}.adblock.ad728{display:block;float:left}.adblock.grouped.ad300{display:none}}@media screen and (min-width:1160px){#header #main_nav>li{padding:8px 2.2%}#info #meta>div.media-item{margin-right:20px;width:92px}#info #meta>div.media-item.logo{margin-right:10px;width:125px}#info #meta>div.media-item.country{width:160px;height:120px}#info #meta>div.media-item.logo>img{height:125px;width:125px}#info #meta>div.media-item+div{width:calc(100% - 112px)}#info #meta>div.media-item.logo+div{width:calc(100% - 135px)}#info #meta>div.media-item.country+div{width:calc(100% - 180px)}#info #meta>div.media-item.multiple:hover img.additional{display:block}#info #meta>div.media-item.multiple:hover{position:fixed;z-index:200;width:auto;background-color:rgba(200,200,200,0.8);padding:5px;border:1px solid black}#info #meta>div.media-item.multiple:hover+div{margin-left:112px}#info #meta>div.media-item.multiple:hover img{width:92px;float:left;margin-right:10px}#info #meta>div.media-item.multiple:hover img:last-child{margin-right:0}#info #meta>div.media-item.multiple:hover:after{content:'Order may not be chronological';display:block;background:rgba(200,200,200,1);float:right;clear:left;padding:2px 5px;font-size:.83em}.stats_pullout>div>div{margin-left:21px}.stats_pullout p{font-size:1em}:lang(en) #info #meta>div.media-item.multiple:hover:after{content:\"Order may not be chronological\"}:lang(es) #info #meta>div.media-item.multiple:hover:after{content:\"El orden no puede ser cronológico\"}:lang(fr) #info #meta>div.media-item.multiple:hover:after{content:\"L'ordre peut ne pas être chronologique\"}:lang(pt) #info #meta>div.media-item.multiple:hover:after{content:\"A ordem pode não ser cronológica\"}:lang(de) #info #meta>div.media-item.multiple:hover:after{content:\"Reihenfolge darf nicht chronologisch sein\"}#header #subnav>li:nth-child(9){display:block}#header #subnav>li.user .username{max-width:160px}}@media screen and (min-width:1478px){#wrap{width:1450px;border-left:1px solid #747678;border-right:1px solid #747678;box-shadow:0 0 27px #454041;margin:0 auto}.sr_expanded>#wrap{width:100%;border:0;box-shadow:none}#header #subnav>li:last-child{display:block}.user_logged_in #header #subnav>li:last-child.not_logged_in{display:none}#info #meta>div>p:nth-child(6){display:block}#info #meta>div>p:nth-child(7){display:block}}.f-i,#footer,#content,#inner_nav,#srcom{display:none}</style>\n",
       "<link crossorigin=\"\" href=\"https://cdn.ssref.net/req/202305161/css/br/sr-min.css\" media=\"print\" onload=\"if (document.srdev) { this.href = 'https://cdn.ssref.net/nocdn/dev/'.concat(document.srdev.substr(0,2),'/css/br/sr.css'); }; this.media='all'\" rel=\"stylesheet\"/>\n",
       "<noscript><link href=\"https://cdn.ssref.net/req/202305161/css/br/sr-min.css\" rel=\"stylesheet\" type=\"text/css\"/></noscript>\n",
       "<!-- CSS END -->\n",
       "<!-- JS START -->\n",
       "<script class=\"allowed\">var sr_is_production = true;\n",
       "function vjs_getUrlParameter(e){e=e.replace(/[\\[]/,\"\\\\[\").replace(/[\\]]/,\"\\\\]\");e=new RegExp(\"[\\\\?&]\"+e+\"=([^&#]*)\").exec(location.search);return null===e?\"\":decodeURIComponent(e[1].replace(/\\+/g,\" \"))}document.lang=\"\",\"/es/\"===window.location.pathname.substr(0,4)?document.lang=\"es\":\"/pt/\"===window.location.pathname.substr(0,4)?document.lang=\"pt\":\"/fr/\"===window.location.pathname.substr(0,4)?document.lang=\"fr\":\"/it/\"===window.location.pathname.substr(0,4)?document.lang=\"it\":\"/de/\"===window.location.pathname.substr(0,4)?document.lang=\"de\":(window.location.pathname.substr(0,4),document.lang=\"en\"),vjs_getUrlParameter(\"lang\")&&(document.lang=vjs_getUrlParameter(\"lang\")),document.srdev=null,vjs_getUrlParameter(\"srdev\")&&(document.srdev=vjs_getUrlParameter(\"srdev\"));var el,log_performance=!0,is_new_jscss_version=!1,sr_detect_operaMini=-1<navigator.userAgent.indexOf(\"Opera Mini\"),sr_detect_firefox=(sr_detect_operaMini&&((el=document.querySelector(\"html\")).className=el.className.concat(\" operamini\")),-1<navigator.userAgent.indexOf(\"Firefox\")),sr_detect_firefoxMobile=(sr_detect_firefox&&((el=document.querySelector(\"html\")).className=el.className.concat(\" firefox\")),-1<navigator.userAgent.indexOf(\"Firefox\")&&(-1<navigator.userAgent.indexOf(\"Mobile\")||-1<navigator.userAgent.indexOf(\"Tablet\"))),sr_detect_ie=(sr_detect_firefoxMobile&&((el=document.querySelector(\"html\")).className=el.className.concat(\" firefox-mobile\")),function(){var e=window.navigator.userAgent;if(0<e.indexOf(\"Trident/7.0\"))return 11;if(0<e.indexOf(\"Trident/6.0\"))return 10;if(0<e.indexOf(\"Trident/5.0\"))return 9;for(var t=3,n=document.createElement(\"div\"),r=n.getElementsByTagName(\"i\");n.innerHTML=\"\\x3c!--[if gt IE \"+ ++t+\"]><i></i><![endif]--\\x3e\",r[0];);return 4<t&&t}()),sr_detect_edge=!sr_detect_ie&&!!window.StyleMedia,sr_detect_safari=/Safari/.test(navigator.userAgent)&&/Apple Computer/.test(navigator.vendor),className=\"no-js\",patt=((el=document.querySelector(\"html\")).classList?el.classList.remove(className):el.className=el.className.replace(new RegExp(\"(^|\\\\b)\"+className.split(\" \").join(\"|\")+\"(\\\\b|$)\",\"gi\"),\" \"),el.className=el.className.concat(\" js\"),!function(a,d,S){function E(e,t){return typeof e===t}function T(e){return\"function\"!=typeof d.createElement?d.createElement(e):m?d.createElementNS.call(d,\"http://www.w3.org/2000/svg\",e):d.createElement.apply(d,arguments)}function R(e,t,n,r){var o,i,a,s,l=\"modernizr\",c=T(\"div\");(s=d.body)||((s=T(m?\"svg\":\"body\")).fake=!0);if(parseInt(n,10))for(;n--;)(i=T(\"div\")).id=r?r[n]:l+(n+1),c.appendChild(i);return(o=T(\"style\")).type=\"text/css\",o.id=\"s\"+l,(s.fake?s:c).appendChild(o),s.appendChild(c),o.styleSheet?o.styleSheet.cssText=e:o.appendChild(d.createTextNode(e)),c.id=l,s.fake&&(s.style.background=\"\",s.style.overflow=\"hidden\",a=u.style.overflow,u.style.overflow=\"hidden\",u.appendChild(s)),o=t(c,e),s.fake?(s.parentNode.removeChild(s),u.style.overflow=a,u.offsetHeight):c.parentNode.removeChild(c),!!o}function U(e){return e.replace(/([a-z])-([a-z])/g,function(e,t,n){return t+n.toUpperCase()}).replace(/^-/,\"\")}function D(e){return e.replace(/([A-Z])/g,function(e,t){return\"-\"+t.toLowerCase()}).replace(/^ms-/,\"-ms-\")}function q(e,t){var n=e.length;if(\"CSS\"in a&&\"supports\"in a.CSS){for(;n--;)if(a.CSS.supports(D(e[n]),t))return!0;return!1}if(\"CSSSupportsRule\"in a){for(var r=[];n--;)r.push(\"(\"+D(e[n])+\":\"+t+\")\");return R(\"@supports (\"+(r=r.join(\" or \"))+\") { #modernizr { position: absolute; } }\",function(e){return\"absolute\"==(e=e,t=null,n=\"position\",\"getComputedStyle\"in a?(r=getComputedStyle.call(a,e,t),o=a.console,null!==r?n&&(r=r.getPropertyValue(n)):o&&o[o.error?\"error\":\"log\"].call(o,\"getComputedStyle returning null, its possible modernizr test results are inaccurate\")):r=!t&&e.currentStyle&&e.currentStyle[n],r);var t,n,r,o})}return S}function r(e,t,n,r,o){var i,a,s=e.charAt(0).toUpperCase()+e.slice(1),l=(e+\" \"+re.join(s+\" \")+s).split(\" \");if(E(t,\"string\")||void 0===t){var c=l,d=t,u=r,m=o;function f(){p&&(delete L.style,delete L.modElem)}if(m=void 0!==m&&m,void 0!==u){l=q(c,u);if(void 0!==l)return l}for(var p,h,g,v,_,y=[\"modernizr\",\"tspan\",\"samp\"];!L.style&&y.length;)p=!0,L.modElem=T(y.shift()),L.style=L.modElem.style;for(g=c.length,h=0;h<g;h++)if(v=c[h],_=L.style[v],~(\"\"+v).indexOf(\"-\")&&(v=U(v)),L.style[v]!==S){if(m||void 0===u)return f(),\"pfx\"!=d||v;try{L.style[v]=u}catch(e){}if(L.style[v]!=_)return f(),\"pfx\"!=d||v}f()}else{var w=(e+\" \"+P.join(s+\" \")+s).split(\" \"),b=t,x=n;for(a in w)if(w[a]in b)if(!1===x)return w[a];else{i=b[w[a]];if(E(i,\"function\")){var M=i;var z=x||b;return function(){return M.apply(z,arguments)};return}else return i}}return!1}function F(e,t,n){return r(e,S,S,t,n)}var $=[],o=[],e={_version:\"3.6.0\",_config:{classPrefix:\"\",enableClasses:!0,enableJSClass:!0,usePrefixes:!0},_q:[],on:function(e,t){var n=this;setTimeout(function(){t(n[e])},0)},addTest:function(e,t,n){o.push({name:e,fn:t,options:n})},addAsyncTest:function(e){o.push({name:null,fn:e})}},n=function(){},s=(n.prototype=e,(n=new n).addTest(\"cookies\",function(){try{d.cookie=\"cookietest=1\";var e=-1!=d.cookie.indexOf(\"cookietest=\");return d.cookie=\"cookietest=1; expires=Thu, 01-Jan-1970 00:00:01 GMT\",e}catch(e){return!1}}),n.addTest(\"localstorage\",function(){var e=\"modernizr\";try{return localStorage.setItem(e,e),localStorage.removeItem(e),!0}catch(e){return!1}}),n.addTest(\"sessionstorage\",function(){var e=\"modernizr\";try{return sessionStorage.setItem(e,e),sessionStorage.removeItem(e),!0}catch(e){return!1}}),n.addTest(\"cors\",\"XMLHttpRequest\"in a&&\"withCredentials\"in new XMLHttpRequest),n.addTest(\"history\",function(){var e=navigator.userAgent;return(-1===e.indexOf(\"Android 2.\")&&-1===e.indexOf(\"Android 4.0\")||-1===e.indexOf(\"Mobile Safari\")||-1!==e.indexOf(\"Chrome\")||-1!==e.indexOf(\"Windows Phone\")||\"file:\"===location.protocol)&&a.history&&\"pushState\"in a.history}),e._config.usePrefixes?\" -webkit- -moz- -o- -ms- \".split(\" \"):[\"\",\"\"]),u=(e._prefixes=s,d.documentElement),m=\"svg\"===u.nodeName.toLowerCase();if(!m){var t=void 0!==a?a:this,l=d;function I(e,t){var n=e.createElement(\"p\"),e=e.getElementsByTagName(\"head\")[0]||e.documentElement;return n.innerHTML=\"x<style>\"+t+\"</style>\",e.insertBefore(n.lastChild,e.firstChild)}function f(){var e=y.elements;return\"string\"==typeof e?e.split(\" \"):e}function p(e){var t=X[e[G]];return t||(t={},v++,e[G]=v,X[v]=t),t}function W(e,t,n){return t=t||l,h?t.createElement(e):!(t=(n=n||p(t)).cache[e]?n.cache[e].cloneNode():V.test(e)?(n.cache[e]=n.createElem(e)).cloneNode():n.createElem(e)).canHaveChildren||J.test(e)||t.tagUrn?t:n.frag.appendChild(t)}function i(e){var t,n,r=p(e=e||l);return!y.shivCSS||c||r.hasCSS||(r.hasCSS=!!I(e,\"article,aside,dialog,figcaption,figure,footer,header,hgroup,main,nav,section{display:block}mark{background:#FF0;color:#000}template{display:none}\")),h||(t=e,(n=r).cache||(n.cache={},n.createElem=t.createElement,n.createFrag=t.createDocumentFragment,n.frag=n.createFrag()),t.createElement=function(e){return y.shivMethods?W(e,t,n):n.createElem(e)},t.createDocumentFragment=Function(\"h,f\",\"return function(){var n=f.cloneNode(),c=n.createElement;h.shivMethods&&(\"+f().join().replace(/[\\w\\-:]+/g,function(e){return n.createElem(e),n.frag.createElement(e),'c(\"'+e+'\")'})+\");return n}\")(y,n.frag)),e}function H(e){for(var t,n=e.getElementsByTagName(\"*\"),r=n.length,o=RegExp(\"^(?:\"+f().join(\"|\")+\")$\",\"i\"),i=[];r--;)t=n[r],o.test(t.nodeName)&&i.push(t.applyElement(function(e){for(var t,n=e.attributes,r=n.length,o=e.ownerDocument.createElement(w+\":\"+e.nodeName);r--;)(t=n[r]).specified&&o.setAttribute(t.nodeName,t.nodeValue);return o.style.cssText=e.style.cssText,o}(t)));return i}function B(s){function l(){clearTimeout(n._removeSheetTimer),c&&c.removeNode(!0),c=null}var c,d,n=p(s),e=s.namespaces,t=s.parentWindow;return!K||s.printShived||(void 0===e[w]&&e.add(w),t.attachEvent(\"onbeforeprint\",function(){l();for(var e,t,n,r=s.styleSheets,o=[],i=r.length,a=Array(i);i--;)a[i]=r[i];for(;n=a.pop();)if(!n.disabled&&Z.test(n.media)){try{t=(e=n.imports).length}catch(e){t=0}for(i=0;i<t;i++)a.push(e[i]);try{o.push(n.cssText)}catch(e){}}o=function(e){for(var t,n=e.split(\"{\"),r=n.length,o=RegExp(\"(^|[\\\\s,>+~])(\"+f().join(\"|\")+\")(?=[[\\\\s,>+~#.:]|$)\",\"gi\"),i=\"$1\"+w+\"\\\\:$2\";r--;)(t=n[r]=n[r].split(\"}\"))[t.length-1]=t[t.length-1].replace(o,i),n[r]=t.join(\"}\");return n.join(\"{\")}(o.reverse().join(\"\")),d=H(s),c=I(s,o)}),t.attachEvent(\"onafterprint\",function(){for(var e=d,t=e.length;t--;)e[t].removeNode();clearTimeout(n._removeSheetTimer),n._removeSheetTimer=setTimeout(l,500)}),s.printShived=!0),s}var c,h,g=t.html5||{},J=/^<|^(?:button|map|select|textarea|object|iframe|option|optgroup)$/i,V=/^(?:a|b|code|div|fieldset|h1|h2|h3|h4|h5|h6|i|label|li|ol|p|q|span|strong|style|table|tbody|td|th|tr|ul)$/i,G=\"_html5shiv\",v=0,X={};try{var _=l.createElement(\"a\");_.innerHTML=\"<xyz></xyz>\",c=\"hidden\"in _,h=1==_.childNodes.length||(l.createElement(\"a\"),void 0===(O=l.createDocumentFragment()).cloneNode)||void 0===O.createDocumentFragment||void 0===O.createElement}catch(e){h=c=!0}var y={elements:g.elements||\"abbr article aside audio bdi canvas data datalist details dialog figcaption figure footer header hgroup main mark meter nav output picture progress section summary template time video\",version:\"3.7.3\",shivCSS:!1!==g.shivCSS,supportsUnknownElements:h,shivMethods:!1!==g.shivMethods,type:\"default\",shivDocument:i,createElement:W,createDocumentFragment:function(e,t){if(e=e||l,h)return e.createDocumentFragment();for(var n=(t=t||p(e)).frag.cloneNode(),r=0,o=f(),i=o.length;r<i;r++)n.createElement(o[r]);return n},addElements:function(e,t){var n=y.elements;\"string\"!=typeof n&&(n=n.join(\" \")),\"string\"!=typeof e&&(e=e.join(\" \")),y.elements=n+\" \"+e,i(t)}},Z=(t.html5=y,i(l),/^$|\\b(?:all|print)\\b/),w=\"html5shiv\",K=!(h||(_=l.documentElement,void 0===l.namespaces)||void 0===l.parentWindow||void 0===_.applyElement||void 0===_.removeNode||void 0===t.attachEvent);y.type+=\" print\",(y.shivPrint=B)(l),\"object\"==typeof module&&module.exports&&(module.exports=y)}n.addTest(\"csspositionsticky\",function(){var e=\"position:\",t=T(\"a\").style;return t.cssText=e+s.join(\"sticky;\"+e).slice(0,-e.length),-1!==t.position.indexOf(\"sticky\")});function Q(e){var t,n=s.length,r=a.CSSRule;if(void 0===r)return S;if(e){if((t=(e=e.replace(/^@/,\"\")).replace(/-/g,\"_\").toUpperCase()+\"_RULE\")in r)return\"@\"+e;for(var o=0;o<n;o++){var i=s[o];if(i.toUpperCase()+\"_\"+t in r)return\"@-\"+i.toLowerCase()+\"-\"+e}}return!1}Y=!(\"onblur\"in d.documentElement);var Y,b,x,M,z,C,N,j,ee,k,A,te=function(e,t){var n;return!!e&&(!(n=(e=\"on\"+e)in(t=t&&\"string\"!=typeof t?t:T(t||\"div\")))&&Y&&((t=t.setAttribute?t:T(\"div\")).setAttribute(e,\"\"),n=\"function\"==typeof t[e],t[e]!==S&&(t[e]=S),t.removeAttribute(e)),n)},ne=(e.hasEvent=te,e.testStyles=R),O=(n.addTest(\"touchevents\",function(){var t,e;return\"ontouchstart\"in a||a.DocumentTouch&&d instanceof DocumentTouch?t=!0:(e=[\"@media (\",s.join(\"touch-enabled),(\"),\"heartz\",\")\",\"{#modernizr{top:9px;position:absolute}}\"].join(\"\"),ne(e,function(e){t=9===e.offsetTop})),t}),\"Moz O ms Webkit\"),P=e._config.usePrefixes?O.toLowerCase().split(\" \"):[],re=(e._domPrefixes=P,n.addTest(\"pointerevents\",function(){for(var e=!1,t=P.length,e=n.hasEvent(\"pointerdown\");t--&&!e;)te(P[t]+\"pointerdown\")&&(e=!0);return e}),e._config.usePrefixes?O.split(\" \"):[]),oe=(e._cssomPrefixes=re,e.atRule=Q,{elem:T(\"modernizr\")}),L=(n._q.push(function(){delete oe.elem}),{style:oe.elem.style}),g=(n._q.unshift(function(){delete L.style}),e.testAllProps=r,e.prefixed=function(e,t,n){return 0===e.indexOf(\"@\")?Q(e):(-1!=e.indexOf(\"-\")&&(e=U(e)),t?r(e,t,n):r(e,\"pfx\"))});for(j in n.addTest(\"matchmedia\",!!g(\"matchMedia\",a)),e.testAllProps=F,n.addTest(\"flexwrap\",F(\"flexWrap\",\"wrap\",!0)),o)if(o.hasOwnProperty(j)){if(b=[],(x=o[j]).name&&(b.push(x.name.toLowerCase()),x.options)&&x.options.aliases&&x.options.aliases.length)for(M=0;M<x.options.aliases.length;M++)b.push(x.options.aliases[M].toLowerCase());for(z=E(x.fn,\"function\")?x.fn():x.fn,C=0;C<b.length;C++)1===(N=b[C].split(\".\")).length?n[N[0]]=z:(!n[N[0]]||n[N[0]]instanceof Boolean||(n[N[0]]=new Boolean(n[N[0]])),n[N[0]][N[1]]=z),$.push((z?\"\":\"no-\")+N.join(\"-\"))}t=$,k=u.className,A=n._config.classPrefix||\"\",m&&(k=k.baseVal),n._config.enableJSClass&&(ee=new RegExp(\"(^|\\\\s)\"+A+\"no-js(\\\\s|$)\"),k=k.replace(ee,\"$1\"+A+\"js$2\")),n._config.enableClasses&&(k+=\" \"+A+t.join(\" \"+A),m?u.className.baseVal=k:u.className=k),delete e.addTest,delete e.addAsyncTest;for(var ie=0;ie<n._q.length;ie++)n._q[ie]();a.Modernizr=n}(window,document),Modernizr.viewport_width=Math.max(document.documentElement.clientWidth,window.innerWidth||0),Modernizr.viewport_height=Math.max(document.documentElement.clientHeight,window.innerHeight||0),Modernizr.narrow=Modernizr.viewport_width<=704,Modernizr.constrained=Modernizr.viewport_width<=1200,Modernizr.site_menu=Modernizr.viewport_width<=1020?\"button\":\"nav_bar\",Modernizr.touch=Modernizr.touchevents||Modernizr.pointerevents&&(0<navigator.MaxTouchPoints||0<navigator.msMaxTouchPoints),Modernizr.phone=Modernizr.narrow&&Modernizr.touch,Modernizr.tablet=Modernizr.viewport_width<1075&&Modernizr.touch,Modernizr.desktop=!Modernizr.constrained&&!Modernizr.touch,Modernizr.laptop=!(Modernizr.desktop||Modernizr.tablet||Modernizr.phone),new RegExp(\"hideallads\")),sr_html=(Modernizr.adfree=patt.test(window.location.href),document.querySelector(\"html\")),cn=sr_html.className,sr_host_parts=(Modernizr.phone?sr_html.className=cn.concat(\" phone\"):Modernizr.tablet?sr_html.className=cn.concat(\" tablet\"):(Modernizr.desktop||Modernizr.laptop)&&(sr_html.className=cn.concat(\" desktop\")),window.location.hostname.split(\".\")),cn=sr_html.className,sr_logger=(Modernizr.is_build=Modernizr.is_live=Modernizr.is_dev=!1,\"www\"===sr_host_parts[0]||\"fbref\"===sr_host_parts[0]?(Modernizr.is_live=!0,sr_html.className=cn.concat(\" is_live\")):sr_host_parts[0].startsWith(\"b\")?(Modernizr.is_build=!0,sr_html.className=cn.concat(\" is_build\")):(sr_host_parts[0].startsWith(\"d\")||sr_host_parts[0].startsWith(\"r\"))&&(Modernizr.is_dev=!0,sr_html.className=cn.concat(\" is_dev\")),Modernizr.is_stathead=!1,(\"stathead\"===sr_host_parts[1]&&\"srdevel\"===sr_host_parts[2]||\"stathead\"===sr_host_parts[0]||\"www\"===sr_host_parts[0]&&\"stathead\"===sr_host_parts[1])&&(cn=sr_html.className,sr_html.className=cn.concat(\" is_stathead\"),Modernizr.is_stathead=!0),function(){var e=null,t={enableLogger:function(){null!=e&&(window.console.log=e)},disableLogger:function(){e=console.log,window.console.log=function(){}}};return t}()),sr_utilities_js_loader=(!document.srdev&&sr_is_production&&sr_logger.disableLogger(),Modernizr.is_modern=1,Modernizr.lang=document.lang||\"\",Modernizr.srdev=document.srdev,[]);function vjs_readCookie(e){for(var t=e+\"=\",n=document.cookie.split(\";\"),r=0;r<n.length;r++){for(var o=n[r];\" \"===o.charAt(0);)o=o.substring(1,o.length);if(0===o.indexOf(t))return decodeURIComponent(o.substring(t.length,o.length))}return null}function vjs_createCookie(e,t,n){var r,o=\"\",o=n?((r=new Date).setTime(r.getTime()+24*n*60*60*1e3),\"; expires=\"+r.toGMTString()):\"\",n=encodeURIComponent(e)+\"=\"+encodeURIComponent(t)+o+\"; path=/\";document.cookie=n}!function(o){function e(e,t){\"use strict\";var n=o.document.getElementsByTagName(\"script\")[0],r=o.document.createElement(\"script\");return r.src=e,r.async=!0,n.parentNode.insertBefore(r,n),t&&\"function\"==typeof t&&(r.onload=t),r}\"undefined\"!=typeof module?module.exports=e:o.loadJS=e}(\"undefined\"!=typeof global?global:this),String.prototype.vjs_isMatch=function(e){return null!==this.match(e)};var sr_time_begin=new Date,sr_perf_startTime=new Date,sr_perf_log=\"<strong>Performance:</strong>\",sr_perf_lastTime=new Date;function vjs_ready(e){\"loading\"!=document.readyState?e():document.addEventListener(\"DOMContentLoaded\",e)}\n",
       "</script>\n",
       "<script>\n",
       "var _sr_modern_url = ''.concat(document.srdev?'https://cdn.ssref.net/nocdn/dev/'.concat(document.srdev.substring(0, 2)):\"https://cdn.ssref.net/req/202305161\",\n",
       "                               \"/js/br\", \"/sr\",document.srdev?\"\":\"-min\",   \t\t\t       \".js\");\n",
       "loadJS( _sr_modern_url, function() { vjs_ready(sr_fire_js); });\n",
       "</script>\n",
       "<!-- JS END -->\n",
       "<!-- include:end =\"/inc/klecko_header_br.html_f\" -->\n",
       "<script>sr_utilities_js_loader.push(function() { vjs_createCookie('srcssfull', 'yes', 0.5 )});</script>\n",
       "<meta content=\"04:37:07 17-May-2023\" name=\"revised\">\n",
       "<meta content=\"True\" name=\"HandheldFriendly\">\n",
       "<meta content=\"True\" name=\"HandheldFriendly\"/>\n",
       "<meta content=\"build_box_scores.pl\" name=\"generated-by\"/>\n",
       "<meta content=\"telephone=no\" name=\"format-detection\"/>\n",
       "<meta content=\"no\" name=\"apple-mobile-web-app-capable\"/>\n",
       "<meta content=\"yes\" name=\"mobile-web-app-capable\"/>\n",
       "<meta content=\"4d383b\" name=\"theme-color\">\n",
       "<meta content=\"4d383b\" name=\"msapplication-navbutton-color\"/>\n",
       "<meta content=\"4d383b\" name=\"apple-mobile-web-app-status-bar-style\"/>\n",
       "<!-- HeaderSeoSocial -->\n",
       "<meta content=\"\" name=\"keywords\"/>\n",
       "<meta content=\"https://www.baseball-reference.com\" itemprop=\"url\"/>\n",
       "<meta content=\"Baseball Reference\" itemprop=\"name\"/>\n",
       "<meta content=\"BBref\" itemprop=\"alternateName\"/>\n",
       "<meta content=\"\" property=\"fb:app_id\"/>\n",
       "<meta content=\"https://www.baseball-reference.com/boxes/NYA/NYA202303300.shtml\" property=\"og:url\"/>\n",
       "<meta content=\"San Francisco Giants vs New York Yankees Box Score: March 30, 2023 | Baseball-Reference.com\" property=\"og:title\"/>\n",
       "<meta content=\"Baseball-Reference.com\" property=\"og:site_name\"/>\n",
       "<meta content=\"    article\" property=\"og:type\">\n",
       "<meta content=\"New York Yankees beat San Francisco Giants (5-0). Mar 30, 2023, Attendance: 46172, Time of Game: 2:33.  Visit Baseball-Reference.com for the complete box score, play-by-play, and win probability\" property=\"og:description\"/>\n",
       "<meta content=\"http://ssref.net/scripts/image_resize.cgi?foo=bar&amp;flat=0&amp;url1=https://cdn.ssref.net/req/202305161/tlogo/br/SFG-2023.png&amp;url2=https://cdn.ssref.net/req/202305161/tlogo/br/NYY-2023.png\" property=\"og:image\"/>\n",
       "<meta content=\"summary\" name=\"twitter:card\"/>\n",
       "<meta content=\"@baseball_ref\" name=\"twitter:site\"/>\n",
       "<meta content=\"@baseball_ref\" name=\"twitter:creator\"/>\n",
       "<meta content=\"http://ssref.net/scripts/image_resize.cgi?foo=bar&amp;flat=0&amp;url1=https://cdn.ssref.net/req/202305161/tlogo/br/SFG-2023.png&amp;url2=https://cdn.ssref.net/req/202305161/tlogo/br/NYY-2023.png\" property=\"twitter:image\"/>\n",
       "<meta content=\"Baseball-Reference.com\" name=\"twitter:domain\"/>\n",
       "<meta content=\"unsafe-url\" name=\"referrer\"/>\n",
       "<!-- HeaderSeoSocial:END -->\n",
       "<!-- tiles, touch, favicons -->\n",
       "<link href=\"https://cdn.ssref.net/req/202305161/favicons/br/apple-touch-icon-180x180-precomposed.png\" rel=\"apple-touch-icon-precomposed\" sizes=\"180x180\"/>\n",
       "<link href=\"https://cdn.ssref.net/req/202305161/favicons/br/favicon-48.png\" rel=\"icon\" sizes=\"48x48\"/>\n",
       "<link href=\"https://cdn.ssref.net/req/202305161/favicons/br/apple-touch-icon-228x228-precomposed.png\" rel=\"shortcut icon\" sizes=\"228x228\"/>\n",
       "<link href=\"https://cdn.ssref.net/req/202305161/favicons/br/apple-touch-icon-228x228-precomposed.png\" rel=\"apple-touch-icon\" sizes=\"228x228\"/>\n",
       "<link href=\"https://cdn.ssref.net/req/202305161/favicons/br/apple-touch-icon-195x195-precomposed.png\" rel=\"apple-touch-icon\" sizes=\"195x195\"/>\n",
       "<link href=\"https://cdn.ssref.net/req/202305161/favicons/br/apple-touch-icon-180x180-precomposed.png\" rel=\"apple-touch-icon\" sizes=\"180x180\"/>\n",
       "<link href=\"https://cdn.ssref.net/req/202305161/favicons/br/apple-touch-icon-152x152-precomposed.png\" rel=\"apple-touch-icon\" sizes=\"152x152\"/>\n",
       "<link href=\"https://cdn.ssref.net/req/202305161/favicons/br/apple-touch-icon-144x144-precomposed.png\" rel=\"apple-touch-icon\" sizes=\"144x144\"/>\n",
       "<link href=\"https://cdn.ssref.net/req/202305161/favicons/br/apple-touch-icon-128x128-precomposed.png\" rel=\"apple-touch-icon\" sizes=\"128x128\"/>\n",
       "<link href=\"https://cdn.ssref.net/req/202305161/favicons/br/apple-touch-icon-120x120-precomposed.png\" rel=\"apple-touch-icon\" sizes=\"120x120\"/>\n",
       "<link href=\"https://cdn.ssref.net/req/202305161/favicons/br/apple-touch-icon-114x114-precomposed.png\" rel=\"apple-touch-icon\" sizes=\"114x114\"/>\n",
       "<link href=\"https://cdn.ssref.net/req/202305161/favicons/br/apple-touch-icon-76x76-precomposed.png\" rel=\"apple-touch-icon\" sizes=\"76x76\"/>\n",
       "<link href=\"https://cdn.ssref.net/req/202305161/favicons/br/apple-touch-icon-72x72-precomposed.png\" rel=\"apple-touch-icon\" sizes=\"72x72\"/>\n",
       "<link href=\"https://cdn.ssref.net/req/202305161/favicons/br/apple-touch-icon-57x57-precomposed.png\" rel=\"apple-touch-icon\" sizes=\"57x57\"/>\n",
       "<link href=\"https://cdn.ssref.net/req/202305161/favicons/br/favicon-32.png\" rel=\"icon\" sizes=\"32x32\"/>\n",
       "<!--[if IE]>\n",
       "    <link rel=\"shortcut icon\"                                href=\"https://cdn.ssref.net/req/202305161/favicons/br/favicon.ico\"><![endif]-->\n",
       "<meta content=\"#86081a\" name=\"msapplication-TileColor\">\n",
       "<meta content=\"https://cdn.ssref.net/req/202305161/favicons/br/ms-tile-144.png\" name=\"msapplication-TileImage\">\n",
       "<link href=\"https://cdn.ssref.net/req/202305161/opensearch/opensearch-br.xml\" rel=\"search\" title=\" Player and Team Search\" type=\"application/opensearchdescription+xml\"/>\n",
       "<!-- tiles, touch, favicons:end -->\n",
       "<!-- ad code: begin -->\n",
       "<link crossorigin=\"\" href=\"https://a.pub.network/\" rel=\"preconnect\">\n",
       "<link crossorigin=\"\" href=\"https://b.pub.network/\" rel=\"preconnect\">\n",
       "<link crossorigin=\"\" href=\"https://c.pub.network/\" rel=\"preconnect\">\n",
       "<link crossorigin=\"\" href=\"https://d.pub.network/\" rel=\"preconnect\">\n",
       "<link crossorigin=\"\" href=\"https://c.amazon-adsystem.com\" rel=\"preconnect\">\n",
       "<link crossorigin=\"\" href=\"https://s.amazon-adsystem.com\" rel=\"preconnect\">\n",
       "<link crossorigin=\"\" href=\"https://btloader.com/\" rel=\"preconnect\">\n",
       "<link crossorigin=\"\" href=\"https://api.btloader.com/\" rel=\"preconnect\">\n",
       "<link crossorigin=\"\" href=\"https://confiant-integrations.global.ssl.fastly.net\" rel=\"preconnect\">\n",
       "<script async=\"\" data-ad-client=\"ca-pub-5319453360923253\" src=\"https://pagead2.googlesyndication.com/pagead/js/adsbygoogle.js\"></script>\n",
       "<link href=\"https://a.pub.network/baseball-reference/cls.css\" rel=\"stylesheet\" type=\"text/css\"/>\n",
       "<script>\n",
       "    var freestar = freestar || {};\n",
       "    freestar.config = freestar.config || {};\n",
       "    freestar.config.enabled_slots = [ \"div-gpt-ad-728x90-GeneralHeader\",\"div-gpt-ad-728x90-BTF-1\",\"div-gpt-ad-728x90-BTF-2\",\"div-gpt-ad-728x90-BTF-3\",\"div-gpt-ad-728x90-Footer\" ];\n",
       "    if (sr_detect_ie || sr_detect_edge || Modernizr.adfree || document.getElementById('sr_suppress_ads') || Modernizr.viewport_width < 1810) {\n",
       "    // do not include the rails\n",
       "    }\n",
       "    else {\n",
       "         freestar.config.enabled_slots.push('div-gpt-ad-160x600-1');\n",
       "         freestar.config.enabled_slots.push('div-gpt-ad-160x600-2');\n",
       "    } \n",
       "\n",
       "</script>\n",
       "<script data-cfasync=\"false\" type=\"text/javascript\">\n",
       "    var fs_debug = window.location.search.indexOf('fsdebug') == -1 ? false : true;\n",
       "    freestar.hitTime = Date.now();\n",
       "    freestar.queue = freestar.queue || [];\n",
       "    freestar.config = freestar.config || {};\n",
       "    freestar.queue.push(function() {\n",
       "      // Include the line reflecting the area/section of the site you are on\n",
       "      googletag.pubads().setTargeting('sr_site_id', 'br');\n",
       "    });\n",
       "!function(a,b){\n",
       "    if (sr_detect_ie || sr_detect_edge || Modernizr.adfree) {\n",
       "        return;\n",
       "    }  \n",
       "    var c=b.getElementsByTagName(\"script\")[0],\n",
       "    d=b.createElement(\"script\"),\n",
       "    e=\"https://a.pub.network/baseball-reference\";\n",
       "    e+=fs_debug?\"/qa/pubfig.min.js\":\"/pubfig.min.js\",\n",
       "    d.async=!0,\n",
       "    d.src=e,\n",
       "    c.parentNode.insertBefore(d,c)\n",
       "}(window,document);\n",
       "</script>\n",
       "<!-- ad code:end -->\n",
       "</link></link></link></link></link></link></link></link></link></meta></meta></meta></meta></meta></meta></meta></head>\n",
       "<body class=\"br\">\n",
       "<div id=\"wrap\">\n",
       "<div id=\"header\" role=\"banner\">\n",
       "<ul class=\"notranslate\" id=\"subnav\">\n",
       "<li><a href=\"https://www.sports-reference.com/?utm_source=br&amp;utm_medium=sr_xsite&amp;utm_campaign=2023_01_srnav\"><svg height=\"15px\" width=\"20px\"><use xlink:href=\"#ic-sr-pennant\"></use></svg> Sports Reference ®</a></li>\n",
       "<li class=\"current\"><a href=\"https://www.baseball-reference.com/?utm_source=br&amp;utm_medium=sr_xsite&amp;utm_campaign=2023_01_srnav\">Baseball</a></li>\n",
       "<li><a href=\"https://www.pro-football-reference.com/?utm_source=br&amp;utm_medium=sr_xsite&amp;utm_campaign=2023_01_srnav\">Football</a> <a href=\"https://www.sports-reference.com/cfb/\">(college)</a></li>\n",
       "<li><a href=\"https://www.basketball-reference.com/?utm_source=br&amp;utm_medium=sr_xsite&amp;utm_campaign=2023_01_srnav\">Basketball</a> <a href=\"https://www.sports-reference.com/cbb/\">(college)</a></li>\n",
       "<li><a href=\"https://www.hockey-reference.com/?utm_source=br&amp;utm_medium=sr_xsite&amp;utm_campaign=2023_01_srnav\">Hockey</a></li>\n",
       "<li><a href=\"https://fbref.com/pt/?utm_source=br&amp;utm_medium=sr_xsite&amp;utm_campaign=2023_01_srnav\">Futebol</a></li>\n",
       "<li><a href=\"https://www.sports-reference.com/blog/?utm_source=br&amp;utm_medium=sr_xsite&amp;utm_campaign=2023_01_srnav\">Blog</a></li>\n",
       "<li><a href=\"https://stathead.com/?utm_source=br&amp;utm_medium=sr_xsite&amp;utm_campaign=2023_01_srnav\">Stathead ®</a></li>\n",
       "<li><a href=\"https://www.sports-reference.com/feedback/?utm_source=br&amp;utm_medium=sr_xsite&amp;utm_campaign=2023_01_srnav\">Questions or Comments?</a></li>\n",
       "<li class=\"user logged_in\">Welcome <span class=\"username\"></span> · <a href=\"https://stathead.com/profile/?utm_source=br&amp;utm_medium=sr_xsite&amp;utm_campaign=2023_01_srnav_account\">Your Account</a></li>\n",
       "<li class=\"user logged_in\"><a class=\"logout\" href=\"https://stathead.com/profile/?do=logout\" onclick=\"sr_auth_logout_page_elements();if(!this.href.match('redirect_uri')){this.href += '&amp;redirect_uri='+escape(document.location.href)}\">Logout</a></li>\n",
       "<li class=\"user not_logged_in\"><a class=\"login\" href=\"https://stathead.com/users/login.cgi?token=1\" onclick=\"if(!this.href.match('redirect_uri')){this.href += '&amp;redirect_uri='+escape(document.location.href)}\">Login</a></li>\n",
       "<li class=\"user not_logged_in\"><a href=\"https://stathead.com/users/signup.cgi\">Create Account</a></li>\n",
       "</ul>\n",
       "<a href=\"/\"><img alt=\"Baseball-Reference.com Logo &amp; Link to home page\" onerror=\"this.src='https://cdn.ssref.net/req/202305161/logos/br-logo.png'; this.onerror = null;\" src=\"https://cdn.ssref.net/req/202305161/logos/br-logo.svg\"/></a>\n",
       "<div id=\"nav_trigger\" role=\"button\"><a href=\"#site_menu_link\">MENU</a></div>\n",
       "<div aria-label=\"Baseball-Reference.com sections\" id=\"nav\" role=\"navigation\">\n",
       "<ul class=\"hoversmooth nohover\" id=\"main_nav\"><li id=\"header_players\"><a href=\"/players\">Players</a></li>\n",
       "<li id=\"header_teams\"><a href=\"/teams/\">Teams</a></li>\n",
       "<li id=\"header_leagues\"><a href=\"/leagues/\">Seasons</a></li>\n",
       "<li id=\"header_leaders\"><a href=\"/leaders/\">Leaders</a></li>\n",
       "<li id=\"header_scores\"><a href=\"/boxes/\">Scores</a></li>\n",
       "<li class=\"\" id=\"header_playoffs\"><a href=\"/postseason/\">Playoffs</a></li>\n",
       "<li class=\"\" id=\"header_stathead\"><a href=\"https://stathead.com/sport/baseball/?utm_source=br&amp;utm_medium=sr_xsite&amp;utm_campaign=2023_01_topnav_stathead&amp;utm_content=lnk_top\" target=\"_blank\">Stathead</a></li>\n",
       "<li id=\"header_newsletter\"><a href=\"https://www.baseball-reference.com/email/\">Newsletter</a></li>\n",
       "<li><a class=\"opener\" data-scroll=\"\" href=\"#site_menu_link\">Full Site Menu Below</a></li>\n",
       "</ul>\n",
       "<div class=\"breadcrumbs\">You are here: <div class=\"crumbs\" itemscope=\"\" itemtype=\"https://schema.org/BreadcrumbList\"><span itemprop=\"itemListElement\" itemscope=\"\" itemtype=\"https://schema.org/ListItem\"><a href=\"/\" itemprop=\"item\"><span itemprop=\"name\">BR Home Page</span></a> <meta content=\"1\" itemprop=\"position\"/></span> &gt; <span itemprop=\"itemListElement\" itemscope=\"\" itemtype=\"https://schema.org/ListItem\"><a href=\"/boxes/\" itemprop=\"item\"><span itemprop=\"name\">Box Scores</span></a> <meta content=\"2\" itemprop=\"position\"/></span> &gt; <span itemprop=\"itemListElement\" itemscope=\"\" itemtype=\"https://schema.org/ListItem\"><a href=\"/leagues/majors/2023-schedule.shtml\" itemprop=\"item\"><span itemprop=\"name\">2023</span></a> <meta content=\"3\" itemprop=\"position\"/></span> &gt; <strong>San Francisco Giants vs New York Yankees Box Score: March 30, 2023</strong></div></div>\n",
       "<ul class=\"usertools bullets-inline\"><li class=\"user logged_in\">Welcome <span class=\"username\"></span> · <a href=\"https://stathead.com/profile/?utm_source=br&amp;utm_medium=sr_xsite&amp;utm_campaign=2023_01_srnav_account\">Your Account</a></li>\n",
       "<li class=\"user logged_in\"><a class=\"logout\" href=\"https://stathead.com/profile/?do=logout\" onclick=\"sr_auth_logout_page_elements();if(!this.href.match('redirect_uri')){this.href += '&amp;redirect_uri='+escape(document.location.href)}\">Logout</a></li>\n",
       "<li class=\"user not_logged_in\"><a class=\"login\" href=\"https://stathead.com/users/login.cgi?token=1\" onclick=\"if(!this.href.match('redirect_uri')){this.href += '&amp;redirect_uri='+escape(document.location.href)}\">Login</a></li>\n",
       "<li class=\"user not_logged_in\"><a href=\"https://stathead.com/users/signup.cgi\">Create Account</a></li>\n",
       "</ul><!-- ul.user -->\n",
       "</div><!-- div#nav -->\n",
       "<script>\n",
       "function sr_menus_setupMainNav_button_inline () {\n",
       "    if (sr_detect_operaMini || !(\"classList\" in document.createElement(\"_\"))) {\n",
       "\treturn false;\n",
       "    }\n",
       "    var nav_trigger = document.getElementById('nav_trigger');\n",
       "    if(!nav_trigger || nav_trigger.triggered) {\n",
       "\treturn false;\n",
       "    }\n",
       "    nav_trigger.triggered = true;\n",
       "    var nav = document.getElementById('nav');\n",
       "    var nav_trigger_a = nav_trigger.querySelector('a');\n",
       "    if (nav_trigger_a) {\n",
       "\tnav_trigger_a.setAttribute('href','javascript:void(0)');\n",
       "\tnav_trigger.onclick = function (event) {\n",
       "\t    nav.classList.toggle('open');\n",
       "\t    var is_open = nav.classList.contains('open');\n",
       "\t    if (is_open) {\n",
       "\t\tnav_trigger.classList.add('open');\n",
       "\t    }\n",
       "\t    else {\n",
       "\t\tnav_trigger.classList.remove('open');\n",
       "\t    }\n",
       "\t    event.preventDefault();\n",
       "\t    try { sr_record_analytics_event('MainNavButtonClick_inline',sr_record_directory(),sr_record_page());}\n",
       "\t    catch(err) {}\n",
       "\t};\n",
       "    }\n",
       "    return true;\n",
       "}\n",
       "sr_menus_setupMainNav_button_inline();\n",
       "</script><div aria-label=\"Site Search for players, teams and sections\" class=\"search\" role=\"search\">\n",
       "<form action=\"/search/search.fcgi\" method=\"get\" name=\"f_big\">\n",
       "<div class=\"ac-outline\">\n",
       "<div class=\"ac-wrapper\"><input aria-label=\"Search suggestions based on user search input\" autocapitalize=\"off\" autocomplete=\"off\" autocorrect=\"off\" class=\"ac-hint\" dir=\"auto\" name=\"hint\" placeholder=\"\" spellcheck=\"false\" tabindex=\"-1\" type=\"search\"/>\n",
       "<input aria-label=\"Enter a player, team or section name\" autocapitalize=\"off\" autocomplete=\"off\" autocorrect=\"off\" class=\"ac-input completely\" dir=\"auto\" name=\"search\" placeholder=\"Enter Person, Team, Section, etc\" spellcheck=\"false\" tabindex=\"1\" type=\"search\">\n",
       "<div class=\"ac-dropdown\"></div>\n",
       "</input></div>\n",
       "</div>\n",
       "<input tabindex=\"2\" type=\"submit\" value=\"Search\"/>\n",
       "<input data-search-id=\"\" name=\"pid\" type=\"hidden\" value=\"\"/>\n",
       "<input data-search-idx=\"\" name=\"idx\" type=\"hidden\" value=\"\"/>\n",
       "</form>\n",
       "</div><!-- div.search -->\n",
       "</div><!-- div#header -->\n",
       "<style>\n",
       "  .site_announcement {\n",
       "    background-color: #fffea6;\n",
       "    text-align: center;\n",
       "    padding: .4em 0;\n",
       "    width: 100%;\n",
       "  }\n",
       "  .site_announcement div {\n",
       "    margin: 0 .3em;\n",
       "  }\n",
       "  .site_announcement span {\n",
       "    white-space: nowrap;\n",
       "  }\n",
       "  @media only screen and (max-width: 1000px) {\n",
       "    .site_annoucement_extra {\n",
       "      display: none;\n",
       "    }\n",
       "  }\n",
       "  </style>\n",
       "<div id=\"srcom\">\n",
       "<!-- fs_general_header -->\n",
       "<div class=\"adblock\">\n",
       "<!-- div#fs_fs_general_header  -->\n",
       "<style>\n",
       "    #srcom .adblock.stn,\n",
       "    #content .adblock.stn { height: auto; width: 728px; max-width:100%; aspect-ratio: 1.677419;  margin: auto; }\n",
       ".fb #content .adblock.stn { max-width: 400px; }\n",
       "</style>\n",
       "<script>\n",
       "function apiFunction(ApiHandshake)  {\n",
       "    const playerDiv = document.querySelector('[data-stn-api=\"apiFunction\"]');\n",
       "    const api = ApiHandshake(playerDiv);\n",
       "    new IntersectionObserver ( moes => { const bcr = moes.pop().boundingClientRect; api.float = bcr.y <= 0; },\n",
       "                                       { threshold: [0.9] }).observe(document.querySelector('[data-stn-api=\"apiFunction\"]'));\n",
       " }\n",
       "</script>\n",
       "<div class=\"adblock stn\">\n",
       "<div class=\"s2nPlayer k-qcWBz78w\" data-stn-api=\"apiFunction\" data-type=\"float\"></div>\n",
       "<script data-type=\"s2nScript\" src=\"//embed.sendtonews.com/player3/embedcode.js?fk=qcWBz78w&amp;cid=13628&amp;offsetx=0&amp;offsety=0&amp;floatwidth=400&amp;floatposition=bottom-right\" type=\"text/javascript\"></script>\n",
       "</div>\n",
       "<!-- /div.#fs_fs_general_header -->\n",
       "</div>\n",
       "</div>\n",
       "<div aria-label=\"Sections on this page and/or other pages related to this page\" class=\"inactive suppress_inpage_nav\" id=\"inner_nav\" role=\"navigation\">\n",
       "<ul class=\"hoversmooth\">\n",
       "<li class=\"index\"><a href=\"/boxes/\">MLB Scores &amp; Boxes</a> </li>\n",
       "<li class=\"full\"><a href=\"/leagues/majors/2023-schedule.shtml\">2023 MLB Scores &amp; Schedule</a> </li>\n",
       "<li class=\"full\"><a href=\"/teams/NYY/2023-schedule-scores.shtml\">New York Yankees Schedule</a> </li>\n",
       "<li class=\"full\"><a href=\"/teams/SFG/2023-schedule-scores.shtml\">San Francisco Giants Schedule</a> </li>\n",
       "<li class=\"condensed hasmore\" data-fade-selector=\"#inpage_nav\"><span>Schedules, Scores, &amp; Boxes</span>\n",
       "<div>\n",
       "<ul class=\"in_list\">\n",
       "<li><a href=\"/leagues/majors/2023-schedule.shtml\">2023 MLB Scores &amp; Schedule</a></li>\n",
       "<li><a href=\"/teams/NYY/2023-schedule-scores.shtml\">New York Yankees Schedule</a></li>\n",
       "<li><a href=\"/teams/SFG/2023-schedule-scores.shtml\">San Francisco Giants Schedule</a></li>\n",
       "</ul>\n",
       "</div> </li>\n",
       "</ul>\n",
       "<div class=\"html_built\" id=\"inpage_nav\">\n",
       "<p class=\"listhead inpage\">On this page:</p>\n",
       "<ul class=\"in_list inpage\"><li><a href=\"#all_SanFranciscoGiantsbatting\">San Francisco Giants Batting</a></li> <li><a href=\"#all_NewYorkYankeesbatting\">New York Yankees Batting</a></li> <li><a href=\"#all_8623610671\">Pitching Lines and Info</a></li> <li><a href=\"#all_1581198871\">Other Info</a></li> <li><a href=\"#all_lineups\">Starting Lineups</a></li> <li><a href=\"#all_chart\">Win Probability Chart</a></li> <li><a href=\"#all_top_plays\">Top 5 Plays</a></li> <li><a href=\"#all_play_by_play\">Play by Play</a></li> <li><a href=\"#all_6920978085\">Links &amp; PBP Explanation</a></li> <li><a href=\"#site_menu_link\">Full Site Menu</a></li></ul>\n",
       "</div>\n",
       "</div><!-- div#inner_nav -->\n",
       "<div class=\"box\" id=\"content\" role=\"main\">\n",
       "<h1>San Francisco Giants vs New York Yankees Box Score: March 30, 2023</h1>\n",
       "<div class=\"section_wrapper setup_commented commented\" id=\"all_5208474139\">\n",
       "<div class=\"section_heading assoc_5208474139\" id=\"5208474139_sh\">\n",
       "<span class=\"section_anchor\" data-label=\"All Games This Date\" id=\"5208474139_link\"></span>\n",
       "</div><div class=\"placeholder\"></div>\n",
       "<!--     <div class=\"section_content\" id=\"div_5208474139\">\n",
       "\t    <div class=\"game_summaries compressed\">\n",
       "   <h2>MLB Scores &mdash; March 30, 2023</h2>\n",
       "   \n",
       "      <div class=\"game_summary nohover current \">\n",
       "\t<table class=\"teams poptip\" data-tip=\"San Francisco Giants at New York Yankees\">\n",
       "\t\t<tbody>       \n",
       "\t\t<tr class=\"loser\">\n",
       "\t\t\t<td><a href=\"/teams/SFG/2023.shtml\">SFG</a></td>\n",
       "\t\t\t<td class=\"right\">0</td>\n",
       "\t\t\t<td class=\"right gamelink\">\n",
       "\t\t\t\t<a href=\"/boxes/NYA/NYA202303300.shtml\">F<span class=\"no_mobile\">inal</span></a>\n",
       "\t\t\t\t\n",
       "\t\t\t</td>\n",
       "\t\t</tr>\n",
       "\t\t<tr class=\"winner\">\n",
       "\t\t\t<td><a href=\"/teams/NYY/2023.shtml\">NYY</a></td>\n",
       "\t\t\t<td class=\"right\">5</td>\n",
       "\t\t\t<td class=\"right\">\n",
       "\t\t\t</td>\n",
       "\t\t</tr>\n",
       "\t\t</tbody>\n",
       "\t</table>\n",
       "\t\n",
       "\n",
       "</div>\n",
       "\n",
       "      <div class=\"game_summary nohover \">\n",
       "\t<table class=\"teams poptip\" data-tip=\"Atlanta Braves at Washington Nationals\">\n",
       "\t\t<tbody>       \n",
       "\t\t<tr class=\"winner\">\n",
       "\t\t\t<td><a href=\"/teams/ATL/2023.shtml\">ATL</a></td>\n",
       "\t\t\t<td class=\"right\">7</td>\n",
       "\t\t\t<td class=\"right gamelink\">\n",
       "\t\t\t\t<a href=\"/boxes/WAS/WAS202303300.shtml\">F<span class=\"no_mobile\">inal</span></a>\n",
       "\t\t\t\t\n",
       "\t\t\t</td>\n",
       "\t\t</tr>\n",
       "\t\t<tr class=\"loser\">\n",
       "\t\t\t<td><a href=\"/teams/WSN/2023.shtml\">WSN</a></td>\n",
       "\t\t\t<td class=\"right\">2</td>\n",
       "\t\t\t<td class=\"right\">\n",
       "\t\t\t</td>\n",
       "\t\t</tr>\n",
       "\t\t</tbody>\n",
       "\t</table>\n",
       "\t\n",
       "\n",
       "</div>\n",
       "\n",
       "      <div class=\"game_summary nohover \">\n",
       "\t<table class=\"teams poptip\" data-tip=\"Baltimore Orioles at Boston Red Sox\">\n",
       "\t\t<tbody>       \n",
       "\t\t<tr class=\"winner\">\n",
       "\t\t\t<td><a href=\"/teams/BAL/2023.shtml\">BAL</a></td>\n",
       "\t\t\t<td class=\"right\">10</td>\n",
       "\t\t\t<td class=\"right gamelink\">\n",
       "\t\t\t\t<a href=\"/boxes/BOS/BOS202303300.shtml\">F<span class=\"no_mobile\">inal</span></a>\n",
       "\t\t\t\t\n",
       "\t\t\t</td>\n",
       "\t\t</tr>\n",
       "\t\t<tr class=\"loser\">\n",
       "\t\t\t<td><a href=\"/teams/BOS/2023.shtml\">BOS</a></td>\n",
       "\t\t\t<td class=\"right\">9</td>\n",
       "\t\t\t<td class=\"right\">\n",
       "\t\t\t</td>\n",
       "\t\t</tr>\n",
       "\t\t</tbody>\n",
       "\t</table>\n",
       "\t\n",
       "\n",
       "</div>\n",
       "\n",
       "      <div class=\"game_summary nohover \">\n",
       "\t<table class=\"teams poptip\" data-tip=\"Milwaukee Brewers at Chicago Cubs\">\n",
       "\t\t<tbody>       \n",
       "\t\t<tr class=\"loser\">\n",
       "\t\t\t<td><a href=\"/teams/MIL/2023.shtml\">MIL</a></td>\n",
       "\t\t\t<td class=\"right\">0</td>\n",
       "\t\t\t<td class=\"right gamelink\">\n",
       "\t\t\t\t<a href=\"/boxes/CHN/CHN202303300.shtml\">F<span class=\"no_mobile\">inal</span></a>\n",
       "\t\t\t\t\n",
       "\t\t\t</td>\n",
       "\t\t</tr>\n",
       "\t\t<tr class=\"winner\">\n",
       "\t\t\t<td><a href=\"/teams/CHC/2023.shtml\">CHC</a></td>\n",
       "\t\t\t<td class=\"right\">4</td>\n",
       "\t\t\t<td class=\"right\">\n",
       "\t\t\t</td>\n",
       "\t\t</tr>\n",
       "\t\t</tbody>\n",
       "\t</table>\n",
       "\t\n",
       "\n",
       "</div>\n",
       "\n",
       "      <div class=\"game_summary nohover \">\n",
       "\t<table class=\"teams poptip\" data-tip=\"Detroit Tigers at Tampa Bay Rays\">\n",
       "\t\t<tbody>       \n",
       "\t\t<tr class=\"loser\">\n",
       "\t\t\t<td><a href=\"/teams/DET/2023.shtml\">DET</a></td>\n",
       "\t\t\t<td class=\"right\">0</td>\n",
       "\t\t\t<td class=\"right gamelink\">\n",
       "\t\t\t\t<a href=\"/boxes/TBA/TBA202303300.shtml\">F<span class=\"no_mobile\">inal</span></a>\n",
       "\t\t\t\t\n",
       "\t\t\t</td>\n",
       "\t\t</tr>\n",
       "\t\t<tr class=\"winner\">\n",
       "\t\t\t<td><a href=\"/teams/TBR/2023.shtml\">TBR</a></td>\n",
       "\t\t\t<td class=\"right\">4</td>\n",
       "\t\t\t<td class=\"right\">\n",
       "\t\t\t</td>\n",
       "\t\t</tr>\n",
       "\t\t</tbody>\n",
       "\t</table>\n",
       "\t\n",
       "\n",
       "</div>\n",
       "\n",
       "      <div class=\"game_summary nohover \">\n",
       "\t<table class=\"teams poptip\" data-tip=\"Philadelphia Phillies at Texas Rangers\">\n",
       "\t\t<tbody>       \n",
       "\t\t<tr class=\"loser\">\n",
       "\t\t\t<td><a href=\"/teams/PHI/2023.shtml\">PHI</a></td>\n",
       "\t\t\t<td class=\"right\">7</td>\n",
       "\t\t\t<td class=\"right gamelink\">\n",
       "\t\t\t\t<a href=\"/boxes/TEX/TEX202303300.shtml\">F<span class=\"no_mobile\">inal</span></a>\n",
       "\t\t\t\t\n",
       "\t\t\t</td>\n",
       "\t\t</tr>\n",
       "\t\t<tr class=\"winner\">\n",
       "\t\t\t<td><a href=\"/teams/TEX/2023.shtml\">TEX</a></td>\n",
       "\t\t\t<td class=\"right\">11</td>\n",
       "\t\t\t<td class=\"right\">\n",
       "\t\t\t</td>\n",
       "\t\t</tr>\n",
       "\t\t</tbody>\n",
       "\t</table>\n",
       "\t\n",
       "\n",
       "</div>\n",
       "\n",
       "      <div class=\"game_summary nohover \">\n",
       "\t<table class=\"teams poptip\" data-tip=\"Pittsburgh Pirates at Cincinnati Reds\">\n",
       "\t\t<tbody>       \n",
       "\t\t<tr class=\"winner\">\n",
       "\t\t\t<td><a href=\"/teams/PIT/2023.shtml\">PIT</a></td>\n",
       "\t\t\t<td class=\"right\">5</td>\n",
       "\t\t\t<td class=\"right gamelink\">\n",
       "\t\t\t\t<a href=\"/boxes/CIN/CIN202303300.shtml\">F<span class=\"no_mobile\">inal</span></a>\n",
       "\t\t\t\t\n",
       "\t\t\t</td>\n",
       "\t\t</tr>\n",
       "\t\t<tr class=\"loser\">\n",
       "\t\t\t<td><a href=\"/teams/CIN/2023.shtml\">CIN</a></td>\n",
       "\t\t\t<td class=\"right\">4</td>\n",
       "\t\t\t<td class=\"right\">\n",
       "\t\t\t</td>\n",
       "\t\t</tr>\n",
       "\t\t</tbody>\n",
       "\t</table>\n",
       "\t\n",
       "\n",
       "</div>\n",
       "\n",
       "      <div class=\"game_summary nohover \">\n",
       "\t<table class=\"teams poptip\" data-tip=\"Minnesota Twins at Kansas City Royals\">\n",
       "\t\t<tbody>       \n",
       "\t\t<tr class=\"winner\">\n",
       "\t\t\t<td><a href=\"/teams/MIN/2023.shtml\">MIN</a></td>\n",
       "\t\t\t<td class=\"right\">2</td>\n",
       "\t\t\t<td class=\"right gamelink\">\n",
       "\t\t\t\t<a href=\"/boxes/KCA/KCA202303300.shtml\">F<span class=\"no_mobile\">inal</span></a>\n",
       "\t\t\t\t\n",
       "\t\t\t</td>\n",
       "\t\t</tr>\n",
       "\t\t<tr class=\"loser\">\n",
       "\t\t\t<td><a href=\"/teams/KCR/2023.shtml\">KCR</a></td>\n",
       "\t\t\t<td class=\"right\">0</td>\n",
       "\t\t\t<td class=\"right\">\n",
       "\t\t\t</td>\n",
       "\t\t</tr>\n",
       "\t\t</tbody>\n",
       "\t</table>\n",
       "\t\n",
       "\n",
       "</div>\n",
       "\n",
       "      <div class=\"game_summary nohover \">\n",
       "\t<table class=\"teams poptip\" data-tip=\"New York Mets at Miami Marlins\">\n",
       "\t\t<tbody>       \n",
       "\t\t<tr class=\"winner\">\n",
       "\t\t\t<td><a href=\"/teams/NYM/2023.shtml\">NYM</a></td>\n",
       "\t\t\t<td class=\"right\">5</td>\n",
       "\t\t\t<td class=\"right gamelink\">\n",
       "\t\t\t\t<a href=\"/boxes/MIA/MIA202303300.shtml\">F<span class=\"no_mobile\">inal</span></a>\n",
       "\t\t\t\t\n",
       "\t\t\t</td>\n",
       "\t\t</tr>\n",
       "\t\t<tr class=\"loser\">\n",
       "\t\t\t<td><a href=\"/teams/MIA/2023.shtml\">MIA</a></td>\n",
       "\t\t\t<td class=\"right\">3</td>\n",
       "\t\t\t<td class=\"right\">\n",
       "\t\t\t</td>\n",
       "\t\t</tr>\n",
       "\t\t</tbody>\n",
       "\t</table>\n",
       "\t\n",
       "\n",
       "</div>\n",
       "\n",
       "      <div class=\"game_summary nohover \">\n",
       "\t<table class=\"teams poptip\" data-tip=\"Toronto Blue Jays at St. Louis Cardinals\">\n",
       "\t\t<tbody>       \n",
       "\t\t<tr class=\"winner\">\n",
       "\t\t\t<td><a href=\"/teams/TOR/2023.shtml\">TOR</a></td>\n",
       "\t\t\t<td class=\"right\">10</td>\n",
       "\t\t\t<td class=\"right gamelink\">\n",
       "\t\t\t\t<a href=\"/boxes/SLN/SLN202303300.shtml\">F<span class=\"no_mobile\">inal</span></a>\n",
       "\t\t\t\t\n",
       "\t\t\t</td>\n",
       "\t\t</tr>\n",
       "\t\t<tr class=\"loser\">\n",
       "\t\t\t<td><a href=\"/teams/STL/2023.shtml\">STL</a></td>\n",
       "\t\t\t<td class=\"right\">9</td>\n",
       "\t\t\t<td class=\"right\">\n",
       "\t\t\t</td>\n",
       "\t\t</tr>\n",
       "\t\t</tbody>\n",
       "\t</table>\n",
       "\t\n",
       "\n",
       "</div>\n",
       "\n",
       "      <div class=\"game_summary nohover \">\n",
       "\t<table class=\"teams poptip\" data-tip=\"Chicago White Sox at Houston Astros\">\n",
       "\t\t<tbody>       \n",
       "\t\t<tr class=\"winner\">\n",
       "\t\t\t<td><a href=\"/teams/CHW/2023.shtml\">CHW</a></td>\n",
       "\t\t\t<td class=\"right\">3</td>\n",
       "\t\t\t<td class=\"right gamelink\">\n",
       "\t\t\t\t<a href=\"/boxes/HOU/HOU202303300.shtml\">F<span class=\"no_mobile\">inal</span></a>\n",
       "\t\t\t\t\n",
       "\t\t\t</td>\n",
       "\t\t</tr>\n",
       "\t\t<tr class=\"loser\">\n",
       "\t\t\t<td><a href=\"/teams/HOU/2023.shtml\">HOU</a></td>\n",
       "\t\t\t<td class=\"right\">2</td>\n",
       "\t\t\t<td class=\"right\">\n",
       "\t\t\t</td>\n",
       "\t\t</tr>\n",
       "\t\t</tbody>\n",
       "\t</table>\n",
       "\t\n",
       "\n",
       "</div>\n",
       "\n",
       "      <div class=\"game_summary nohover \">\n",
       "\t<table class=\"teams poptip\" data-tip=\"Colorado Rockies at San Diego Padres\">\n",
       "\t\t<tbody>       \n",
       "\t\t<tr class=\"winner\">\n",
       "\t\t\t<td><a href=\"/teams/COL/2023.shtml\">COL</a></td>\n",
       "\t\t\t<td class=\"right\">7</td>\n",
       "\t\t\t<td class=\"right gamelink\">\n",
       "\t\t\t\t<a href=\"/boxes/SDN/SDN202303300.shtml\">F<span class=\"no_mobile\">inal</span></a>\n",
       "\t\t\t\t\n",
       "\t\t\t</td>\n",
       "\t\t</tr>\n",
       "\t\t<tr class=\"loser\">\n",
       "\t\t\t<td><a href=\"/teams/SDP/2023.shtml\">SDP</a></td>\n",
       "\t\t\t<td class=\"right\">2</td>\n",
       "\t\t\t<td class=\"right\">\n",
       "\t\t\t</td>\n",
       "\t\t</tr>\n",
       "\t\t</tbody>\n",
       "\t</table>\n",
       "\t\n",
       "\n",
       "</div>\n",
       "\n",
       "      <div class=\"game_summary nohover \">\n",
       "\t<table class=\"teams poptip\" data-tip=\"Los Angeles Angels at Oakland Athletics\">\n",
       "\t\t<tbody>       \n",
       "\t\t<tr class=\"loser\">\n",
       "\t\t\t<td><a href=\"/teams/LAA/2023.shtml\">LAA</a></td>\n",
       "\t\t\t<td class=\"right\">1</td>\n",
       "\t\t\t<td class=\"right gamelink\">\n",
       "\t\t\t\t<a href=\"/boxes/OAK/OAK202303300.shtml\">F<span class=\"no_mobile\">inal</span></a>\n",
       "\t\t\t\t\n",
       "\t\t\t</td>\n",
       "\t\t</tr>\n",
       "\t\t<tr class=\"winner\">\n",
       "\t\t\t<td><a href=\"/teams/OAK/2023.shtml\">OAK</a></td>\n",
       "\t\t\t<td class=\"right\">2</td>\n",
       "\t\t\t<td class=\"right\">\n",
       "\t\t\t</td>\n",
       "\t\t</tr>\n",
       "\t\t</tbody>\n",
       "\t</table>\n",
       "\t\n",
       "\n",
       "</div>\n",
       "\n",
       "      <div class=\"game_summary nohover \">\n",
       "\t<table class=\"teams poptip\" data-tip=\"Arizona Diamondbacks at Los Angeles Dodgers\">\n",
       "\t\t<tbody>       \n",
       "\t\t<tr class=\"loser\">\n",
       "\t\t\t<td><a href=\"/teams/ARI/2023.shtml\">ARI</a></td>\n",
       "\t\t\t<td class=\"right\">2</td>\n",
       "\t\t\t<td class=\"right gamelink\">\n",
       "\t\t\t\t<a href=\"/boxes/LAN/LAN202303300.shtml\">F<span class=\"no_mobile\">inal</span></a>\n",
       "\t\t\t\t\n",
       "\t\t\t</td>\n",
       "\t\t</tr>\n",
       "\t\t<tr class=\"winner\">\n",
       "\t\t\t<td><a href=\"/teams/LAD/2023.shtml\">LAD</a></td>\n",
       "\t\t\t<td class=\"right\">8</td>\n",
       "\t\t\t<td class=\"right\">\n",
       "\t\t\t</td>\n",
       "\t\t</tr>\n",
       "\t\t</tbody>\n",
       "\t</table>\n",
       "\t\n",
       "\n",
       "</div>\n",
       "\n",
       "      <div class=\"game_summary nohover \">\n",
       "\t<table class=\"teams poptip\" data-tip=\"Cleveland Guardians at Seattle Mariners\">\n",
       "\t\t<tbody>       \n",
       "\t\t<tr class=\"loser\">\n",
       "\t\t\t<td><a href=\"/teams/CLE/2023.shtml\">CLE</a></td>\n",
       "\t\t\t<td class=\"right\">0</td>\n",
       "\t\t\t<td class=\"right gamelink\">\n",
       "\t\t\t\t<a href=\"/boxes/SEA/SEA202303300.shtml\">F<span class=\"no_mobile\">inal</span></a>\n",
       "\t\t\t\t\n",
       "\t\t\t</td>\n",
       "\t\t</tr>\n",
       "\t\t<tr class=\"winner\">\n",
       "\t\t\t<td><a href=\"/teams/SEA/2023.shtml\">SEA</a></td>\n",
       "\t\t\t<td class=\"right\">3</td>\n",
       "\t\t\t<td class=\"right\">\n",
       "\t\t\t</td>\n",
       "\t\t</tr>\n",
       "\t\t</tbody>\n",
       "\t</table>\n",
       "\t\n",
       "\n",
       "</div>\n",
       "\n",
       "   \n",
       "   <h2>\n",
       "   \n",
       "   <a href=\"/boxes/?year=2023&month=03&day=30\">MLB Scores &amp; Standings on this Day</a>\n",
       "   </h2>\n",
       "   \n",
       "</div>\n",
       "\n",
       "\t\t\n",
       "    </div>\n",
       "-->\n",
       "</div>\n",
       "<div class=\"scorebox\">\n",
       "<div>\n",
       "<div>\n",
       "<div class=\"media-item logo loader\">\n",
       "<img alt=\"2023 San Francisco Giants Logo\" class=\"teamlogo\" src=\"https://cdn.ssref.net/req/202305101/tlogo/br/SFG-2023.png\"/>\n",
       "<p><a href=\"http://www.sportslogos.net/\">via Sports Logos.net</a></p>\n",
       "<p><a href=\"https://www.sports-reference.com/blog/2016/06/redesign-team-and-league-logos-courtesy-sportslogos-net/\">About logos</a></p>\n",
       "</div>\n",
       "<strong>\n",
       "<a href=\"/teams/SFG/2023.shtml\">San Francisco Giants</a>\n",
       "</strong>\n",
       "</div>\n",
       "<div class=\"scores\">\n",
       "<div class=\"score\">0</div>\n",
       "</div><div>0-1</div>\n",
       "<div class=\"prevnext\">\n",
       "<a class=\"button2 next\" href=\"/boxes/NYA/NYA202304010.shtml\">Next Game</a>\n",
       "</div>\n",
       "</div>\n",
       "<div>\n",
       "<div>\n",
       "<div class=\"media-item logo loader\">\n",
       "<img alt=\"2023 New York Yankees Logo\" class=\"teamlogo\" src=\"https://cdn.ssref.net/req/202305101/tlogo/br/NYY-2023.png\"/>\n",
       "<p><a href=\"http://www.sportslogos.net/\">via Sports Logos.net</a></p>\n",
       "<p><a href=\"https://www.sports-reference.com/blog/2016/06/redesign-team-and-league-logos-courtesy-sportslogos-net/\">About logos</a></p>\n",
       "</div>\n",
       "<strong>\n",
       "<a href=\"/teams/NYY/2023.shtml\">New York Yankees</a>\n",
       "</strong>\n",
       "</div>\n",
       "<div class=\"scores\">\n",
       "<div class=\"score\">5</div>\n",
       "</div><div>1-0</div>\n",
       "<div class=\"prevnext\">\n",
       "<a class=\"button2 next\" href=\"/boxes/NYA/NYA202304010.shtml\">Next Game</a>\n",
       "</div>\n",
       "</div>\n",
       "<div class=\"scorebox_meta\">\n",
       "<div>Thursday, March 30, 2023</div><div>Start Time: 1:05 p.m. Local</div><div><strong>Attendance</strong>: 46,172</div><div><strong>Venue</strong>: Yankee Stadium III</div><div><strong>Game Duration</strong>: 2:33</div><div>Day Game, on grass</div>\n",
       "<div><em>Logos <a href=\"http://www.sportslogos.net/\">via Sports Logos.net</a>\n",
       "            / <a href=\"//www.sports-reference.com/blog/2016/06/redesign-team-and-league-logos-courtesy-sportslogos-net/\">About logos</a></em></div>\n",
       "</div>\n",
       "</div>\n",
       "<style>\n",
       ".fb .scorebox { position: relative; max-width: 640px; }\n",
       ".fb .scorebox > div:first-child .scores > div:after { position: absolute; left: 0; content: ':'; width: 100%; }\n",
       ".fb .scorebox .scorebox_meta { margin-top: 10px; }\n",
       ".fb .scorebox .score { font-size: 1.9em; font-weight: 800; }\n",
       ".fb .scorebox .score_pen, .fb .scorebox .score_aggr, .fb .scorebox .score_xg { font-size: 1.28em; font-weight: bold; margin-top: 12px; }\n",
       ".fb .scorebox > div:first-child .score_pen:before, .fb .scorebox > div:first-child .score_aggr:before, .fb .scorebox > div:first-child .score_xg:before {\n",
       "\tposition: absolute;\n",
       "\twidth: 100%;\n",
       "\tleft: 0;\n",
       "\tmargin-top: -11px;\n",
       "\tcolor: #777;\n",
       "\tfont-size: 13px;\n",
       "\tfont-weight: bold;\n",
       "}\n",
       ".fb .scorebox > div:first-child .score_pen:before  { content: 'Penalties'; }\n",
       ".fb .scorebox > div:first-child .score_aggr:before { content: 'Aggregate'; }\n",
       ".fb .scorebox > div:first-child .score_xg:before { content: 'xG'; }\n",
       "\n",
       "@media screen and (min-width: 470px) {\n",
       "\t.fb .scorebox .prevnext { min-width: 200px; }\n",
       "}\n",
       "\n",
       "@media screen and (min-width: 800px) {\n",
       "\t.fb .scorebox                   .scores  { position: absolute; top: 35px; left: 0; }\n",
       "\t.fb .scorebox > div:first-child .scores  { left: auto; right: 0; }\n",
       "\t\n",
       "\t.fb .scorebox .scores > div       { padding: 0 10px; }\n",
       "\t.fb .scorebox > div:first-child .scores > div:after { width: 200%; }\n",
       "\n",
       "\t.fb .scorebox .score { font-size: 2.7em; }\n",
       "\n",
       "\t.fb .scorebox .score_pen, .fb .scorebox .score_aggr, .fb .scorebox .score_xg { margin-top: 17px; }\n",
       "\t\n",
       "\t.fb .scorebox > div:first-child .score_pen:before, .fb .scorebox > div:first-child .score_aggr:before, .fb .scorebox > div:first-child .score_xg:before { width: 200%; margin-top: -15px; }\n",
       "\n",
       "\t.fb .scorebox > div { padding: 0 8%; position: relative; }\n",
       "\t.fb .scorebox .event { position: absolute; padding: 0; top: 15px; right: -160px; text-align: left; }\n",
       "\t.fb .scorebox .event#a { text-align: right; left: -160px; right: auto; }\n",
       "\t.fb .scorebox .event > div { margin-bottom: 6px; }\n",
       "}\n",
       "\n",
       "@media screen and (max-width: 1020px) {\n",
       "\t.fb .scorebox .event { display: none; }\n",
       "}\n",
       "</style>\n",
       "<div class=\"linescore_wrap\">\n",
       "<table class=\"linescore nohover stats_table no_freeze\">\n",
       "<thead>\n",
       "<tr>\n",
       "<th> </th>\n",
       "<th> </th>\n",
       "<th>1</th>\n",
       "<th>2</th>\n",
       "<th>3</th>\n",
       "<th>4</th>\n",
       "<th>5</th>\n",
       "<th>6</th>\n",
       "<th>7</th>\n",
       "<th>8</th>\n",
       "<th>9</th>\n",
       "<th>R</th>\n",
       "<th>H</th>\n",
       "<th>E</th>\n",
       "</tr>\n",
       "</thead>\n",
       "<tbody>\n",
       "<tr>\n",
       "<td class=\"center\">\n",
       "<div class=\"media-item logo loader\">\n",
       "<img alt=\"2023 San Francisco Giants Logo\" class=\"teamlogo\" src=\"https://cdn.ssref.net/req/202305101/tlogo/br/SFG-2023.png\"/>\n",
       "<p><a href=\"http://www.sportslogos.net/\">via Sports Logos.net</a></p>\n",
       "<p><a href=\"https://www.sports-reference.com/blog/2016/06/redesign-team-and-league-logos-courtesy-sportslogos-net/\">About logos</a></p>\n",
       "</div>\n",
       "</td>\n",
       "<td><a href=\"/teams/SFG/2023.shtml\">San Francisco Giants</a></td>\n",
       "<td class=\"center\">0</td>\n",
       "<td class=\"center\">0</td>\n",
       "<td class=\"center\">0</td>\n",
       "<td class=\"center\">0</td>\n",
       "<td class=\"center\">0</td>\n",
       "<td class=\"center\">0</td>\n",
       "<td class=\"center\">0</td>\n",
       "<td class=\"center\">0</td>\n",
       "<td class=\"center\">0</td>\n",
       "<td class=\"center\">0</td>\n",
       "<td class=\"center\">4</td>\n",
       "<td class=\"center\">0</td>\n",
       "</tr>\n",
       "<tr>\n",
       "<td class=\"center\">\n",
       "<div class=\"media-item logo loader\">\n",
       "<img alt=\"2023 New York Yankees Logo\" class=\"teamlogo\" src=\"https://cdn.ssref.net/req/202305101/tlogo/br/NYY-2023.png\"/>\n",
       "<p><a href=\"http://www.sportslogos.net/\">via Sports Logos.net</a></p>\n",
       "<p><a href=\"https://www.sports-reference.com/blog/2016/06/redesign-team-and-league-logos-courtesy-sportslogos-net/\">About logos</a></p>\n",
       "</div>\n",
       "</td>\n",
       "<td><a href=\"/teams/NYY/2023.shtml\">New York Yankees</a></td>\n",
       "<td class=\"center\">1</td>\n",
       "<td class=\"center\">0</td>\n",
       "<td class=\"center\">0</td>\n",
       "<td class=\"center\">2</td>\n",
       "<td class=\"center\">0</td>\n",
       "<td class=\"center\">0</td>\n",
       "<td class=\"center\">2</td>\n",
       "<td class=\"center\">0</td>\n",
       "<td class=\"center\">X</td>\n",
       "<td class=\"center\">5</td>\n",
       "<td class=\"center\">8</td>\n",
       "<td class=\"center\">0</td>\n",
       "</tr>\n",
       "</tbody>\n",
       "<tfoot>\n",
       "<tr><td colspan=\"14\">WP: Gerrit Cole (1-0) • LP: Logan Webb (0-1)</td></tr>\n",
       "</tfoot>\n",
       "</table>\n",
       "</div>\n",
       "<!-- fs_btf_3 -->\n",
       "<div class=\"adblock\">\n",
       "<!-- div#fs_fs_btf_3  -->\n",
       "<div align=\"center\" data-freestar-ad=\"__300x250 __970x90\" id=\"div-gpt-ad-728x90-BTF-3\">\n",
       "<script data-cfasync=\"false\" type=\"text/javascript\">\n",
       "    if (sr_detect_ie || sr_detect_edge || Modernizr.adfree) {\n",
       "    }\n",
       "    else {\n",
       "        console.log('push ad:div-gpt-ad-728x90-BTF-3');\n",
       "        freestar.queue.push(function() { googletag.display('div-gpt-ad-728x90-BTF-3'); });\n",
       "    }\n",
       "    </script>\n",
       "</div>\n",
       "<!-- /div.#fs_fs_btf_3 -->\n",
       "</div>\n",
       "<div class=\"table_wrapper setup_commented commented\" id=\"all_SanFranciscoGiantsbatting\">\n",
       "<div class=\"section_heading assoc_SanFranciscoGiantsbatting\" id=\"SanFranciscoGiantsbatting_sh\">\n",
       "<span class=\"section_anchor\" data-label=\"San Francisco Giants Batting\" id=\"SanFranciscoGiantsbatting_link\"></span><h2>San Francisco Giants</h2> <div class=\"section_heading_text\">\n",
       "<ul>\n",
       "</ul>\n",
       "</div>\n",
       "</div><div class=\"placeholder\"></div>\n",
       "<!--\n",
       "\n",
       "<div class=\"table_container\" id=\"div_SanFranciscoGiantsbatting\">\n",
       "    \n",
       "    <table class=\"sortable stats_table min_width shade_zero\" id=\"SanFranciscoGiantsbatting\" data-cols-to-freeze=\",1\">\n",
       "    <caption>San Francisco Giants Table</caption>\n",
       "    \n",
       "\n",
       "   <colgroup><col><col><col><col><col><col><col><col><col><col><col><col><col><col><col><col><col><col><col><col><col><col><col><col></colgroup>\n",
       "   <thead>      \n",
       "      <tr>\n",
       "         <th aria-label=\"Batting\" data-stat=\"player\" scope=\"col\" class=\" poptip sort_default_asc show_partial_when_sorting left\" data-tip=\"&lt;strong&gt;Player Name&lt;/strong&gt;&lt;br&gt;&lt;strong&gt;Bold&lt;/strong&gt; can mean player is active for this team&lt;br&gt;or player has appeared in the majors&lt;br&gt;* means LHP or LHB,&lt;br&gt;# means switch hitter,&lt;br&gt;+ can mean HOFer.\" >Batting</th>\n",
       "         <th aria-label=\"At Bats\" data-stat=\"AB\" scope=\"col\" class=\" poptip center\" data-tip=\"At Bats\" >AB</th>\n",
       "         <th aria-label=\"Runs Scored\" data-stat=\"R\" scope=\"col\" class=\" poptip center\" data-tip=\"Runs Scored/Allowed\" >R</th>\n",
       "         <th aria-label=\"Hits\" data-stat=\"H\" scope=\"col\" class=\" poptip center\" data-tip=\"Hits/Hits Allowed\" >H</th>\n",
       "         <th aria-label=\"Runs Batted In\" data-stat=\"RBI\" scope=\"col\" class=\" poptip center\" data-tip=\"Runs Batted In\" >RBI</th>\n",
       "         <th aria-label=\"Bases on Balls\" data-stat=\"BB\" scope=\"col\" class=\" poptip center\" data-tip=\"Bases on Balls/Walks\" >BB</th>\n",
       "         <th aria-label=\"Strikeouts\" data-stat=\"SO\" scope=\"col\" class=\" poptip center\" data-tip=\"Strikeouts\" >SO</th>\n",
       "         <th aria-label=\"Plate Appearances\" data-stat=\"PA\" scope=\"col\" class=\" poptip center\" data-tip=\"&lt;strong&gt;Plate Appearances&lt;/strong&gt;&lt;br&gt;When available, we use actual plate appearances from play-by-play game accounts&lt;br&gt;Otherwise estimated using AB + BB + HBP + SF + SH,&lt;br&gt;which excludes catcher interferences.&lt;br&gt;When &lt;span class=tooltip&gt;this color&lt;/span&gt; click for a summary of each PA.\" >PA</th>\n",
       "         <th aria-label=\"Batting Average\" data-stat=\"batting_avg\" scope=\"col\" class=\" poptip hide_non_quals center\" data-tip=\"&lt;strong&gt;Hits/At Bats&lt;/strong&gt;&lt;br&gt;For recent years, leaders need 3.1 PA&lt;br&gt;per team game played&lt;br&gt;Bold indicates highest BA using current stats&lt;br&gt;&lt;span class=&quot;all_time_record&quot;&gt;Gold&lt;/span&gt; means awarded title at end of year.\" data-filter=\"1\" data-name=\"Batting Average\" >BA</th>\n",
       "         <th aria-label=\"On-Base%\" data-stat=\"onbase_perc\" scope=\"col\" class=\" poptip hide_non_quals center\" data-tip=\"&lt;strong&gt;(H + BB + HBP)/(At Bats + BB + HBP + SF)&lt;/strong&gt;&lt;br&gt;For recent years, leaders need 3.1 PA&lt;br&gt;per team game played\" data-filter=\"1\" data-name=\"On-Base%\" >OBP</th>\n",
       "         <th aria-label=\"Slugging %\" data-stat=\"slugging_perc\" scope=\"col\" class=\" poptip hide_non_quals center\" data-tip=\"<strong>Total Bases/At Bats or <br>(1B + 2*2B + 3*3B + 4*HR)/AB</strong><br>For recent years, leaders need 3.1 PA<br>per team game played\" data-filter=\"1\" data-name=\"Slugging %\" >SLG</th>\n",
       "         <th aria-label=\"On-Base Plus Slugging\" data-stat=\"onbase_plus_slugging\" scope=\"col\" class=\" poptip hide_non_quals center\" data-tip=\"&lt;strong&gt;On-Base + Slugging Percentages &lt;/strong&gt;&lt;br&gt;For recent years, leaders need 3.1 PA&lt;br&gt;per team game played\" data-filter=\"1\" data-name=\"On-Base Plus Slugging\" >OPS</th>\n",
       "         <th aria-label=\"Pit\" data-stat=\"pitches\" scope=\"col\" class=\" poptip center\" data-tip=\"Number of pitches in the PA.\" >Pit</th>\n",
       "         <th aria-label=\"Str\" data-stat=\"strikes_total\" scope=\"col\" class=\" poptip center\" data-tip=\"&lt;strong&gt;Strikes&lt;/strong&gt;&lt;br&gt;Includes both pitches in the zone and those swung at out of the zone.\" >Str</th>\n",
       "         <th aria-label=\"Win Probability Added (WPA)\" data-stat=\"wpa_bat\" scope=\"col\" class=\" poptip center\" data-tip=\"&lt;strong&gt;Win Probability Added for Offensive Player&lt;/strong&gt;&lt;br&gt;Given average teams, this is the change in probability&lt;br&gt;caused by this batter during the game&lt;br&gt;A change of +/- 1 would indicate one win added or lost.\" data-filter=\"1\" data-name=\"Win Probability Added (WPA)\" >WPA</th>\n",
       "         <th aria-label=\"aLI\" data-stat=\"leverage_index_avg\" scope=\"col\" class=\" poptip hide_non_quals center\" data-tip=\"&lt;strong&gt;Average Leverage Index&lt;/strong&gt;&lt;br&gt;The average pressure the pitcher or batter saw in this game or season.&lt;br&gt;1.0 is average pressure, below 1.0 is low pressure and above 1.0 is high pressure.\" data-filter=\"1\" data-name=\"aLI\" >aLI</th>\n",
       "         <th aria-label=\"WPA+\" data-stat=\"wpa_bat_pos\" scope=\"col\" class=\" poptip center\" data-tip=\"&lt;strong&gt;Win Probability Added&lt;/strong&gt;&lt;br&gt;Sum of positive events for this batter.\" data-filter=\"1\" data-name=\"WPA+\" >WPA+</th>\n",
       "         <th aria-label=\"WPA-\" data-stat=\"wpa_bat_neg\" scope=\"col\" class=\" poptip center\" data-tip=\"&lt;strong&gt;Win Probability Subtracted&lt;/strong&gt;&lt;br&gt;Sum of negative events for this batter.\" data-filter=\"1\" data-name=\"WPA-\" >WPA-</th>\n",
       "         <th aria-label=\"Championship WPA (cWPA)\" data-stat=\"cwpa_bat\" scope=\"col\" class=\" poptip center\" data-tip=\"&lt;strong&gt;Championship Win Probability Added for Offensive Player&lt;/strong&gt;&lt;br&gt;Given average teams, this is the change in probability, displayed in percentage points.&lt;br&gt;A change of +/- 100% would indicate one world series win added or lost.\" data-filter=\"1\" data-name=\"Championship WPA (cWPA)\" >cWPA</th>\n",
       "         <th aria-label=\"acLI\" data-stat=\"cli_avg\" scope=\"col\" class=\" poptip hide_non_quals center\" data-tip=\"&lt;strong&gt;Average Championship Leverage Index&lt;/strong&gt;&lt;br&gt;The average pressure the pitcher or batter saw in this game or season.&lt;br&gt;1.0 is average pressure, below 1.0 is low pressure and above 1.0 is high pressure.\" data-filter=\"1\" data-name=\"acLI\" >acLI</th>\n",
       "         <th aria-label=\"Base-Out Runs Added (RE24)\" data-stat=\"re24_bat\" scope=\"col\" class=\" poptip center\" data-tip=\"&lt;strong&gt;Base-Out Runs Added&lt;/strong&gt;&lt;br&gt;Given the bases occupied/out situation, how many runs did the batter&lt;br&gt; or baserunner add in the resulting play.&lt;br&gt;Compared to average, so 0 is average, and above 0 is better than average\" data-filter=\"1\" data-name=\"Base-Out Runs Added (RE24)\" >RE24</th>\n",
       "         <th aria-label=\"Putouts\" data-stat=\"PO\" scope=\"col\" class=\" poptip center\" data-tip=\"Putouts\" >PO</th>\n",
       "         <th aria-label=\"Assists\" data-stat=\"A\" scope=\"col\" class=\" poptip center\" data-tip=\"Assists\" >A</th>\n",
       "         <th aria-label=\"details\" data-stat=\"details\" scope=\"col\" class=\" poptip center\" >Details</th>\n",
       "      </tr>\n",
       "      </thead>\n",
       "<tbody><tr ><th scope=\"row\" class=\"left \" data-append-csv=\"wadela01\" data-stat=\"player\" csk=\"6\" ><a href=\"/players/w/wadela01.shtml\">LaMonte Wade Jr.</a> 1B-LF</th><td class=\"right endpoint\" data-endpoint=\"/tools/be.cgi?html=1&game-id=NYA202303300-wadela01\" data-stat=\"AB\" >3</td><td class=\"right iz\" data-stat=\"R\" >0</td><td class=\"right iz\" data-stat=\"H\" >0</td><td class=\"right iz\" data-stat=\"RBI\" >0</td><td class=\"right \" data-stat=\"BB\" >1</td><td class=\"right iz\" data-stat=\"SO\" >0</td><td class=\"right \" data-stat=\"PA\" >4</td><td class=\"right iz\" data-stat=\"batting_avg\" >.000</td><td class=\"right \" data-stat=\"onbase_perc\" >.250</td><td class=\"right iz\" data-stat=\"slugging_perc\" >.000</td><td class=\"right \" data-stat=\"onbase_plus_slugging\" >.250</td><td class=\"right \" data-stat=\"pitches\" >16</td><td class=\"right \" data-stat=\"strikes_total\" >7</td><td class=\"right \" data-stat=\"wpa_bat\" >-0.006</td><td class=\"right \" data-stat=\"leverage_index_avg\" > 0.61</td><td class=\"right \" data-stat=\"wpa_bat_pos\" >0.036</td><td class=\"right \" data-stat=\"wpa_bat_neg\" >-0.042</td><td class=\"right \" data-stat=\"cwpa_bat\" >-0.00%</td><td class=\"right \" data-stat=\"cli_avg\" > 0.56</td><td class=\"right \" data-stat=\"re24_bat\" > -0.1</td><td class=\"right \" data-stat=\"PO\" >5</td><td class=\"right iz\" data-stat=\"A\" >0</td><td class=\"left iz\" data-stat=\"details\" ></td></tr>\n",
       "<tr ><th scope=\"row\" class=\"left \" data-append-csv=\"confomi01\" data-stat=\"player\" csk=\"7\" ><a href=\"/players/c/confomi01.shtml\">Michael Conforto</a> RF</th><td class=\"right endpoint\" data-endpoint=\"/tools/be.cgi?html=1&game-id=NYA202303300-confomi01\" data-stat=\"AB\" >4</td><td class=\"right iz\" data-stat=\"R\" >0</td><td class=\"right \" data-stat=\"H\" >1</td><td class=\"right iz\" data-stat=\"RBI\" >0</td><td class=\"right iz\" data-stat=\"BB\" >0</td><td class=\"right \" data-stat=\"SO\" >2</td><td class=\"right \" data-stat=\"PA\" >4</td><td class=\"right \" data-stat=\"batting_avg\" >.250</td><td class=\"right \" data-stat=\"onbase_perc\" >.250</td><td class=\"right \" data-stat=\"slugging_perc\" >.250</td><td class=\"right \" data-stat=\"onbase_plus_slugging\" >.500</td><td class=\"right \" data-stat=\"pitches\" >18</td><td class=\"right \" data-stat=\"strikes_total\" >13</td><td class=\"right \" data-stat=\"wpa_bat\" >-0.006</td><td class=\"right \" data-stat=\"leverage_index_avg\" > 0.72</td><td class=\"right \" data-stat=\"wpa_bat_pos\" >0.041</td><td class=\"right \" data-stat=\"wpa_bat_neg\" >-0.046</td><td class=\"right \" data-stat=\"cwpa_bat\" >-0.00%</td><td class=\"right \" data-stat=\"cli_avg\" > 0.66</td><td class=\"right \" data-stat=\"re24_bat\" > -0.2</td><td class=\"right iz\" data-stat=\"PO\" >0</td><td class=\"right iz\" data-stat=\"A\" >0</td><td class=\"left iz\" data-stat=\"details\" ></td></tr>\n",
       "<tr ><th scope=\"row\" class=\"left \" data-append-csv=\"florewi01\" data-stat=\"player\" csk=\"8\" ><a href=\"/players/f/florewi01.shtml\">Wilmer Flores</a> 3B</th><td class=\"right endpoint\" data-endpoint=\"/tools/be.cgi?html=1&game-id=NYA202303300-florewi01\" data-stat=\"AB\" >3</td><td class=\"right iz\" data-stat=\"R\" >0</td><td class=\"right iz\" data-stat=\"H\" >0</td><td class=\"right iz\" data-stat=\"RBI\" >0</td><td class=\"right \" data-stat=\"BB\" >1</td><td class=\"right \" data-stat=\"SO\" >1</td><td class=\"right \" data-stat=\"PA\" >4</td><td class=\"right iz\" data-stat=\"batting_avg\" >.000</td><td class=\"right \" data-stat=\"onbase_perc\" >.250</td><td class=\"right iz\" data-stat=\"slugging_perc\" >.000</td><td class=\"right \" data-stat=\"onbase_plus_slugging\" >.250</td><td class=\"right \" data-stat=\"pitches\" >23</td><td class=\"right \" data-stat=\"strikes_total\" >11</td><td class=\"right \" data-stat=\"wpa_bat\" >-0.061</td><td class=\"right \" data-stat=\"leverage_index_avg\" > 1.02</td><td class=\"right \" data-stat=\"wpa_bat_pos\" >0.048</td><td class=\"right \" data-stat=\"wpa_bat_neg\" >-0.109</td><td class=\"right \" data-stat=\"cwpa_bat\" >-0.03%</td><td class=\"right \" data-stat=\"cli_avg\" > 0.93</td><td class=\"right \" data-stat=\"re24_bat\" > -0.9</td><td class=\"right \" data-stat=\"PO\" >1</td><td class=\"right \" data-stat=\"A\" >1</td><td class=\"left \" data-stat=\"details\" >GDP</td></tr>\n",
       "<tr ><th scope=\"row\" class=\"left \" data-append-csv=\"pederjo01\" data-stat=\"player\" csk=\"9\" ><a href=\"/players/p/pederjo01.shtml\">Joc Pederson</a> DH</th><td class=\"right endpoint\" data-endpoint=\"/tools/be.cgi?html=1&game-id=NYA202303300-pederjo01\" data-stat=\"AB\" >3</td><td class=\"right iz\" data-stat=\"R\" >0</td><td class=\"right iz\" data-stat=\"H\" >0</td><td class=\"right iz\" data-stat=\"RBI\" >0</td><td class=\"right \" data-stat=\"BB\" >1</td><td class=\"right \" data-stat=\"SO\" >3</td><td class=\"right \" data-stat=\"PA\" >4</td><td class=\"right iz\" data-stat=\"batting_avg\" >.000</td><td class=\"right \" data-stat=\"onbase_perc\" >.250</td><td class=\"right iz\" data-stat=\"slugging_perc\" >.000</td><td class=\"right \" data-stat=\"onbase_plus_slugging\" >.250</td><td class=\"right \" data-stat=\"pitches\" >24</td><td class=\"right \" data-stat=\"strikes_total\" >15</td><td class=\"right \" data-stat=\"wpa_bat\" >-0.071</td><td class=\"right \" data-stat=\"leverage_index_avg\" > 0.79</td><td class=\"right \" data-stat=\"wpa_bat_pos\" >0.004</td><td class=\"right \" data-stat=\"wpa_bat_neg\" >-0.074</td><td class=\"right \" data-stat=\"cwpa_bat\" >-0.04%</td><td class=\"right \" data-stat=\"cli_avg\" > 0.72</td><td class=\"right \" data-stat=\"re24_bat\" > -0.4</td><td class=\"right iz\" data-stat=\"PO\" ></td><td class=\"right iz\" data-stat=\"A\" ></td><td class=\"left iz\" data-stat=\"details\" ></td></tr>\n",
       "<tr ><th scope=\"row\" class=\"left \" data-append-csv=\"yastrmi01\" data-stat=\"player\" csk=\"10\" ><a href=\"/players/y/yastrmi01.shtml\">Mike Yastrzemski</a> CF</th><td class=\"right endpoint\" data-endpoint=\"/tools/be.cgi?html=1&game-id=NYA202303300-yastrmi01\" data-stat=\"AB\" >2</td><td class=\"right iz\" data-stat=\"R\" >0</td><td class=\"right iz\" data-stat=\"H\" >0</td><td class=\"right iz\" data-stat=\"RBI\" >0</td><td class=\"right iz\" data-stat=\"BB\" >0</td><td class=\"right \" data-stat=\"SO\" >2</td><td class=\"right \" data-stat=\"PA\" >2</td><td class=\"right iz\" data-stat=\"batting_avg\" >.000</td><td class=\"right iz\" data-stat=\"onbase_perc\" >.000</td><td class=\"right iz\" data-stat=\"slugging_perc\" >.000</td><td class=\"right iz\" data-stat=\"onbase_plus_slugging\" >.000</td><td class=\"right \" data-stat=\"pitches\" >11</td><td class=\"right \" data-stat=\"strikes_total\" >6</td><td class=\"right \" data-stat=\"wpa_bat\" >-0.060</td><td class=\"right \" data-stat=\"leverage_index_avg\" > 1.25</td><td class=\"right \" data-stat=\"wpa_bat_pos\" >0.000</td><td class=\"right \" data-stat=\"wpa_bat_neg\" >-0.060</td><td class=\"right \" data-stat=\"cwpa_bat\" >-0.03%</td><td class=\"right \" data-stat=\"cli_avg\" > 1.14</td><td class=\"right \" data-stat=\"re24_bat\" > -0.5</td><td class=\"right iz\" data-stat=\"PO\" >0</td><td class=\"right iz\" data-stat=\"A\" >0</td><td class=\"left iz\" data-stat=\"details\" ></td></tr>\n",
       "<tr ><th scope=\"row\" class=\"left \" data-append-csv=\"davisjd01\" data-stat=\"player\" csk=\"11\" >&nbsp;&nbsp;&nbsp;<a href=\"/players/d/davisjd01.shtml\">J.D. Davis</a> PH-1B</th><td class=\"right endpoint\" data-endpoint=\"/tools/be.cgi?html=1&game-id=NYA202303300-davisjd01\" data-stat=\"AB\" >2</td><td class=\"right iz\" data-stat=\"R\" >0</td><td class=\"right iz\" data-stat=\"H\" >0</td><td class=\"right iz\" data-stat=\"RBI\" >0</td><td class=\"right iz\" data-stat=\"BB\" >0</td><td class=\"right \" data-stat=\"SO\" >2</td><td class=\"right \" data-stat=\"PA\" >2</td><td class=\"right iz\" data-stat=\"batting_avg\" >.000</td><td class=\"right iz\" data-stat=\"onbase_perc\" >.000</td><td class=\"right iz\" data-stat=\"slugging_perc\" >.000</td><td class=\"right iz\" data-stat=\"onbase_plus_slugging\" >.000</td><td class=\"right \" data-stat=\"pitches\" >10</td><td class=\"right \" data-stat=\"strikes_total\" >6</td><td class=\"right \" data-stat=\"wpa_bat\" >-0.027</td><td class=\"right \" data-stat=\"leverage_index_avg\" > 0.53</td><td class=\"right \" data-stat=\"wpa_bat_pos\" >0.000</td><td class=\"right \" data-stat=\"wpa_bat_neg\" >-0.027</td><td class=\"right \" data-stat=\"cwpa_bat\" >-0.01%</td><td class=\"right \" data-stat=\"cli_avg\" > 0.48</td><td class=\"right \" data-stat=\"re24_bat\" > -0.5</td><td class=\"right \" data-stat=\"PO\" >1</td><td class=\"right iz\" data-stat=\"A\" >0</td><td class=\"left iz\" data-stat=\"details\" ></td></tr>\n",
       "<tr ><th scope=\"row\" class=\"left \" data-append-csv=\"estrath01\" data-stat=\"player\" csk=\"12\" ><a href=\"/players/e/estrath01.shtml\">Thairo Estrada</a> 2B</th><td class=\"right endpoint\" data-endpoint=\"/tools/be.cgi?html=1&game-id=NYA202303300-estrath01\" data-stat=\"AB\" >4</td><td class=\"right iz\" data-stat=\"R\" >0</td><td class=\"right \" data-stat=\"H\" >2</td><td class=\"right iz\" data-stat=\"RBI\" >0</td><td class=\"right iz\" data-stat=\"BB\" >0</td><td class=\"right \" data-stat=\"SO\" >1</td><td class=\"right \" data-stat=\"PA\" >4</td><td class=\"right \" data-stat=\"batting_avg\" >.500</td><td class=\"right \" data-stat=\"onbase_perc\" >.500</td><td class=\"right \" data-stat=\"slugging_perc\" >.500</td><td class=\"right \" data-stat=\"onbase_plus_slugging\" >1.000</td><td class=\"right \" data-stat=\"pitches\" >10</td><td class=\"right \" data-stat=\"strikes_total\" >8</td><td class=\"right \" data-stat=\"wpa_bat\" >0.044</td><td class=\"right \" data-stat=\"leverage_index_avg\" > 0.73</td><td class=\"right \" data-stat=\"wpa_bat_pos\" >0.074</td><td class=\"right \" data-stat=\"wpa_bat_neg\" >-0.030</td><td class=\"right \" data-stat=\"cwpa_bat\" > 0.02%</td><td class=\"right \" data-stat=\"cli_avg\" > 0.67</td><td class=\"right \" data-stat=\"re24_bat\" > 0.3</td><td class=\"right iz\" data-stat=\"PO\" >0</td><td class=\"right \" data-stat=\"A\" >1</td><td class=\"left \" data-stat=\"details\" >SB</td></tr>\n",
       "<tr ><th scope=\"row\" class=\"left \" data-append-csv=\"crawfbr01\" data-stat=\"player\" csk=\"13\" ><a href=\"/players/c/crawfbr01.shtml\">Brandon Crawford</a> SS</th><td class=\"right endpoint\" data-endpoint=\"/tools/be.cgi?html=1&game-id=NYA202303300-crawfbr01\" data-stat=\"AB\" >3</td><td class=\"right iz\" data-stat=\"R\" >0</td><td class=\"right iz\" data-stat=\"H\" >0</td><td class=\"right iz\" data-stat=\"RBI\" >0</td><td class=\"right iz\" data-stat=\"BB\" >0</td><td class=\"right \" data-stat=\"SO\" >2</td><td class=\"right \" data-stat=\"PA\" >3</td><td class=\"right iz\" data-stat=\"batting_avg\" >.000</td><td class=\"right iz\" data-stat=\"onbase_perc\" >.000</td><td class=\"right iz\" data-stat=\"slugging_perc\" >.000</td><td class=\"right iz\" data-stat=\"onbase_plus_slugging\" >.000</td><td class=\"right \" data-stat=\"pitches\" >15</td><td class=\"right \" data-stat=\"strikes_total\" >10</td><td class=\"right \" data-stat=\"wpa_bat\" >-0.087</td><td class=\"right \" data-stat=\"leverage_index_avg\" > 1.13</td><td class=\"right \" data-stat=\"wpa_bat_pos\" >0.000</td><td class=\"right \" data-stat=\"wpa_bat_neg\" >-0.087</td><td class=\"right \" data-stat=\"cwpa_bat\" >-0.05%</td><td class=\"right \" data-stat=\"cli_avg\" > 1.03</td><td class=\"right \" data-stat=\"re24_bat\" > -0.9</td><td class=\"right iz\" data-stat=\"PO\" >0</td><td class=\"right \" data-stat=\"A\" >2</td><td class=\"left iz\" data-stat=\"details\" ></td></tr>\n",
       "<tr ><th scope=\"row\" class=\"left \" data-append-csv=\"sabolbl01\" data-stat=\"player\" csk=\"14\" ><a href=\"/players/s/sabolbl01.shtml\">Blake Sabol</a> LF</th><td class=\"right endpoint\" data-endpoint=\"/tools/be.cgi?html=1&game-id=NYA202303300-sabolbl01\" data-stat=\"AB\" >2</td><td class=\"right iz\" data-stat=\"R\" >0</td><td class=\"right iz\" data-stat=\"H\" >0</td><td class=\"right iz\" data-stat=\"RBI\" >0</td><td class=\"right iz\" data-stat=\"BB\" >0</td><td class=\"right \" data-stat=\"SO\" >1</td><td class=\"right \" data-stat=\"PA\" >2</td><td class=\"right iz\" data-stat=\"batting_avg\" >.000</td><td class=\"right iz\" data-stat=\"onbase_perc\" >.000</td><td class=\"right iz\" data-stat=\"slugging_perc\" >.000</td><td class=\"right iz\" data-stat=\"onbase_plus_slugging\" >.000</td><td class=\"right \" data-stat=\"pitches\" >7</td><td class=\"right \" data-stat=\"strikes_total\" >4</td><td class=\"right \" data-stat=\"wpa_bat\" >-0.049</td><td class=\"right \" data-stat=\"leverage_index_avg\" > 0.91</td><td class=\"right \" data-stat=\"wpa_bat_pos\" >0.000</td><td class=\"right \" data-stat=\"wpa_bat_neg\" >-0.049</td><td class=\"right \" data-stat=\"cwpa_bat\" >-0.03%</td><td class=\"right \" data-stat=\"cli_avg\" > 0.83</td><td class=\"right \" data-stat=\"re24_bat\" > -0.5</td><td class=\"right iz\" data-stat=\"PO\" >0</td><td class=\"right iz\" data-stat=\"A\" >0</td><td class=\"left iz\" data-stat=\"details\" ></td></tr>\n",
       "<tr ><th scope=\"row\" class=\"left \" data-append-csv=\"villada01\" data-stat=\"player\" csk=\"15\" >&nbsp;&nbsp;&nbsp;<a href=\"/players/v/villada01.shtml\">David Villar</a> PH</th><td class=\"right endpoint\" data-endpoint=\"/tools/be.cgi?html=1&game-id=NYA202303300-villada01\" data-stat=\"AB\" >1</td><td class=\"right iz\" data-stat=\"R\" >0</td><td class=\"right iz\" data-stat=\"H\" >0</td><td class=\"right iz\" data-stat=\"RBI\" >0</td><td class=\"right iz\" data-stat=\"BB\" >0</td><td class=\"right iz\" data-stat=\"SO\" >0</td><td class=\"right \" data-stat=\"PA\" >1</td><td class=\"right iz\" data-stat=\"batting_avg\" >.000</td><td class=\"right iz\" data-stat=\"onbase_perc\" >.000</td><td class=\"right iz\" data-stat=\"slugging_perc\" >.000</td><td class=\"right iz\" data-stat=\"onbase_plus_slugging\" >.000</td><td class=\"right \" data-stat=\"pitches\" >2</td><td class=\"right \" data-stat=\"strikes_total\" >2</td><td class=\"right \" data-stat=\"wpa_bat\" >-0.025</td><td class=\"right \" data-stat=\"leverage_index_avg\" > 0.88</td><td class=\"right \" data-stat=\"wpa_bat_pos\" >0.000</td><td class=\"right \" data-stat=\"wpa_bat_neg\" >-0.025</td><td class=\"right \" data-stat=\"cwpa_bat\" >-0.01%</td><td class=\"right \" data-stat=\"cli_avg\" > 0.80</td><td class=\"right \" data-stat=\"re24_bat\" > -0.3</td><td class=\"right iz\" data-stat=\"PO\" ></td><td class=\"right iz\" data-stat=\"A\" ></td><td class=\"left iz\" data-stat=\"details\" ></td></tr>\n",
       "<tr ><th scope=\"row\" class=\"left \" data-append-csv=\"wiselbr01\" data-stat=\"player\" csk=\"16\" >&nbsp;&nbsp;&nbsp;<a href=\"/players/w/wiselbr01.shtml\">Brett Wisely</a> CF</th><td class=\"right endpoint iz\" data-endpoint=\"/tools/be.cgi?html=1&game-id=NYA202303300-wiselbr01\" data-stat=\"AB\" >0</td><td class=\"right iz\" data-stat=\"R\" >0</td><td class=\"right iz\" data-stat=\"H\" >0</td><td class=\"right iz\" data-stat=\"RBI\" >0</td><td class=\"right iz\" data-stat=\"BB\" >0</td><td class=\"right iz\" data-stat=\"SO\" >0</td><td class=\"right iz\" data-stat=\"PA\" >0</td><td class=\"right iz\" data-stat=\"batting_avg\" ></td><td class=\"right iz\" data-stat=\"onbase_perc\" ></td><td class=\"right iz\" data-stat=\"slugging_perc\" ></td><td class=\"right iz\" data-stat=\"onbase_plus_slugging\" ></td><td class=\"right iz\" data-stat=\"pitches\" ></td><td class=\"right iz\" data-stat=\"strikes_total\" ></td><td class=\"right iz\" data-stat=\"wpa_bat\" ></td><td class=\"right iz\" data-stat=\"leverage_index_avg\" ></td><td class=\"right iz\" data-stat=\"wpa_bat_pos\" ></td><td class=\"right iz\" data-stat=\"wpa_bat_neg\" ></td><td class=\"right iz\" data-stat=\"cwpa_bat\" ></td><td class=\"right iz\" data-stat=\"cli_avg\" ></td><td class=\"right iz\" data-stat=\"re24_bat\" ></td><td class=\"right \" data-stat=\"PO\" >1</td><td class=\"right iz\" data-stat=\"A\" >0</td><td class=\"left iz\" data-stat=\"details\" ></td></tr>\n",
       "<tr ><th scope=\"row\" class=\"left \" data-append-csv=\"perezro02\" data-stat=\"player\" csk=\"17\" ><a href=\"/players/p/perezro02.shtml\">Roberto Pérez</a> C</th><td class=\"right endpoint\" data-endpoint=\"/tools/be.cgi?html=1&game-id=NYA202303300-perezro02\" data-stat=\"AB\" >2</td><td class=\"right iz\" data-stat=\"R\" >0</td><td class=\"right \" data-stat=\"H\" >1</td><td class=\"right iz\" data-stat=\"RBI\" >0</td><td class=\"right iz\" data-stat=\"BB\" >0</td><td class=\"right \" data-stat=\"SO\" >1</td><td class=\"right \" data-stat=\"PA\" >2</td><td class=\"right \" data-stat=\"batting_avg\" >.500</td><td class=\"right \" data-stat=\"onbase_perc\" >.500</td><td class=\"right \" data-stat=\"slugging_perc\" >.500</td><td class=\"right \" data-stat=\"onbase_plus_slugging\" >1.000</td><td class=\"right \" data-stat=\"pitches\" >8</td><td class=\"right \" data-stat=\"strikes_total\" >5</td><td class=\"right \" data-stat=\"wpa_bat\" >-0.014</td><td class=\"right \" data-stat=\"leverage_index_avg\" > 0.68</td><td class=\"right \" data-stat=\"wpa_bat_pos\" >0.012</td><td class=\"right \" data-stat=\"wpa_bat_neg\" >-0.026</td><td class=\"right \" data-stat=\"cwpa_bat\" >-0.01%</td><td class=\"right \" data-stat=\"cli_avg\" > 0.62</td><td class=\"right \" data-stat=\"re24_bat\" > -0.1</td><td class=\"right \" data-stat=\"PO\" >15</td><td class=\"right iz\" data-stat=\"A\" >0</td><td class=\"left iz\" data-stat=\"details\" ></td></tr>\n",
       "<tr ><th scope=\"row\" class=\"left \" data-append-csv=\"beatyma01\" data-stat=\"player\" csk=\"18\" >&nbsp;&nbsp;&nbsp;<a href=\"/players/b/beatyma01.shtml\">Matt Beaty</a> PH</th><td class=\"right endpoint\" data-endpoint=\"/tools/be.cgi?html=1&game-id=NYA202303300-beatyma01\" data-stat=\"AB\" >1</td><td class=\"right iz\" data-stat=\"R\" >0</td><td class=\"right iz\" data-stat=\"H\" >0</td><td class=\"right iz\" data-stat=\"RBI\" >0</td><td class=\"right iz\" data-stat=\"BB\" >0</td><td class=\"right \" data-stat=\"SO\" >1</td><td class=\"right \" data-stat=\"PA\" >1</td><td class=\"right iz\" data-stat=\"batting_avg\" >.000</td><td class=\"right iz\" data-stat=\"onbase_perc\" >.000</td><td class=\"right iz\" data-stat=\"slugging_perc\" >.000</td><td class=\"right iz\" data-stat=\"onbase_plus_slugging\" >.000</td><td class=\"right \" data-stat=\"pitches\" >6</td><td class=\"right \" data-stat=\"strikes_total\" >6</td><td class=\"right \" data-stat=\"wpa_bat\" >-0.006</td><td class=\"right \" data-stat=\"leverage_index_avg\" > 0.25</td><td class=\"right \" data-stat=\"wpa_bat_pos\" >0.000</td><td class=\"right \" data-stat=\"wpa_bat_neg\" >-0.006</td><td class=\"right \" data-stat=\"cwpa_bat\" >-0.00%</td><td class=\"right \" data-stat=\"cli_avg\" > 0.23</td><td class=\"right \" data-stat=\"re24_bat\" > -0.2</td><td class=\"right iz\" data-stat=\"PO\" ></td><td class=\"right iz\" data-stat=\"A\" ></td><td class=\"left iz\" data-stat=\"details\" ></td></tr>\n",
       "<tr ><th scope=\"row\" class=\"left \" data-append-csv=\"bartjo01\" data-stat=\"player\" csk=\"19\" >&nbsp;&nbsp;&nbsp;<a href=\"/players/b/bartjo01.shtml\">Joey Bart</a> C</th><td class=\"right endpoint iz\" data-endpoint=\"/tools/be.cgi?html=1&game-id=NYA202303300-bartjo01\" data-stat=\"AB\" >0</td><td class=\"right iz\" data-stat=\"R\" >0</td><td class=\"right iz\" data-stat=\"H\" >0</td><td class=\"right iz\" data-stat=\"RBI\" >0</td><td class=\"right iz\" data-stat=\"BB\" >0</td><td class=\"right iz\" data-stat=\"SO\" >0</td><td class=\"right iz\" data-stat=\"PA\" >0</td><td class=\"right iz\" data-stat=\"batting_avg\" ></td><td class=\"right iz\" data-stat=\"onbase_perc\" ></td><td class=\"right iz\" data-stat=\"slugging_perc\" ></td><td class=\"right iz\" data-stat=\"onbase_plus_slugging\" ></td><td class=\"right iz\" data-stat=\"pitches\" ></td><td class=\"right iz\" data-stat=\"strikes_total\" ></td><td class=\"right iz\" data-stat=\"wpa_bat\" ></td><td class=\"right iz\" data-stat=\"leverage_index_avg\" ></td><td class=\"right iz\" data-stat=\"wpa_bat_pos\" ></td><td class=\"right iz\" data-stat=\"wpa_bat_neg\" ></td><td class=\"right iz\" data-stat=\"cwpa_bat\" ></td><td class=\"right iz\" data-stat=\"cli_avg\" ></td><td class=\"right iz\" data-stat=\"re24_bat\" ></td><td class=\"right \" data-stat=\"PO\" >1</td><td class=\"right iz\" data-stat=\"A\" >0</td><td class=\"left iz\" data-stat=\"details\" ></td></tr>\n",
       "<tr class=\"spacer\" ><th scope=\"row\" class=\"left iz\" data-stat=\"player\" csk=\"99\" ></th><td class=\"right iz\" data-stat=\"AB\" ></td><td class=\"right iz\" data-stat=\"R\" ></td><td class=\"right iz\" data-stat=\"H\" ></td><td class=\"right iz\" data-stat=\"RBI\" ></td><td class=\"right iz\" data-stat=\"BB\" ></td><td class=\"right iz\" data-stat=\"SO\" ></td><td class=\"right iz\" data-stat=\"PA\" ></td><td class=\"right iz\" data-stat=\"batting_avg\" ></td><td class=\"right iz\" data-stat=\"onbase_perc\" ></td><td class=\"right iz\" data-stat=\"slugging_perc\" ></td><td class=\"right iz\" data-stat=\"onbase_plus_slugging\" ></td><td class=\"right iz\" data-stat=\"pitches\" ></td><td class=\"right iz\" data-stat=\"strikes_total\" ></td><td class=\"right iz\" data-stat=\"wpa_bat\" ></td><td class=\"right iz\" data-stat=\"leverage_index_avg\" ></td><td class=\"right iz\" data-stat=\"wpa_bat_pos\" ></td><td class=\"right iz\" data-stat=\"wpa_bat_neg\" ></td><td class=\"right iz\" data-stat=\"cwpa_bat\" ></td><td class=\"right iz\" data-stat=\"cli_avg\" ></td><td class=\"right iz\" data-stat=\"re24_bat\" ></td><td class=\"right iz\" data-stat=\"PO\" ></td><td class=\"right iz\" data-stat=\"A\" ></td><td class=\"left iz\" data-stat=\"details\" ></td></tr>\n",
       "<tr ><th scope=\"row\" class=\"left \" data-append-csv=\"webblo01\" data-stat=\"player\" csk=\"101\" ><a href=\"/players/w/webblo01.shtml\">Logan Webb</a> P</th><td class=\"right iz\" data-stat=\"AB\" ></td><td class=\"right iz\" data-stat=\"R\" ></td><td class=\"right iz\" data-stat=\"H\" ></td><td class=\"right iz\" data-stat=\"RBI\" ></td><td class=\"right iz\" data-stat=\"BB\" ></td><td class=\"right iz\" data-stat=\"SO\" ></td><td class=\"right iz\" data-stat=\"PA\" ></td><td class=\"right iz\" data-stat=\"batting_avg\" ></td><td class=\"right iz\" data-stat=\"onbase_perc\" ></td><td class=\"right iz\" data-stat=\"slugging_perc\" ></td><td class=\"right iz\" data-stat=\"onbase_plus_slugging\" ></td><td class=\"right iz\" data-stat=\"pitches\" ></td><td class=\"right iz\" data-stat=\"strikes_total\" ></td><td class=\"right iz\" data-stat=\"wpa_bat\" ></td><td class=\"right iz\" data-stat=\"leverage_index_avg\" ></td><td class=\"right iz\" data-stat=\"wpa_bat_pos\" ></td><td class=\"right iz\" data-stat=\"wpa_bat_neg\" ></td><td class=\"right iz\" data-stat=\"cwpa_bat\" ></td><td class=\"right iz\" data-stat=\"cli_avg\" ></td><td class=\"right iz\" data-stat=\"re24_bat\" ></td><td class=\"right iz\" data-stat=\"PO\" >0</td><td class=\"right iz\" data-stat=\"A\" >0</td><td class=\"left iz\" data-stat=\"details\" ></td></tr>\n",
       "<tr ><th scope=\"row\" class=\"left \" data-append-csv=\"brebbjo01\" data-stat=\"player\" csk=\"103\" >&nbsp;&nbsp;&nbsp;<a href=\"/players/b/brebbjo01.shtml\">John Brebbia</a> P</th><td class=\"right iz\" data-stat=\"AB\" ></td><td class=\"right iz\" data-stat=\"R\" ></td><td class=\"right iz\" data-stat=\"H\" ></td><td class=\"right iz\" data-stat=\"RBI\" ></td><td class=\"right iz\" data-stat=\"BB\" ></td><td class=\"right iz\" data-stat=\"SO\" ></td><td class=\"right iz\" data-stat=\"PA\" ></td><td class=\"right iz\" data-stat=\"batting_avg\" ></td><td class=\"right iz\" data-stat=\"onbase_perc\" ></td><td class=\"right iz\" data-stat=\"slugging_perc\" ></td><td class=\"right iz\" data-stat=\"onbase_plus_slugging\" ></td><td class=\"right iz\" data-stat=\"pitches\" ></td><td class=\"right iz\" data-stat=\"strikes_total\" ></td><td class=\"right iz\" data-stat=\"wpa_bat\" ></td><td class=\"right iz\" data-stat=\"leverage_index_avg\" ></td><td class=\"right iz\" data-stat=\"wpa_bat_pos\" ></td><td class=\"right iz\" data-stat=\"wpa_bat_neg\" ></td><td class=\"right iz\" data-stat=\"cwpa_bat\" ></td><td class=\"right iz\" data-stat=\"cli_avg\" ></td><td class=\"right iz\" data-stat=\"re24_bat\" ></td><td class=\"right iz\" data-stat=\"PO\" >0</td><td class=\"right iz\" data-stat=\"A\" >0</td><td class=\"left iz\" data-stat=\"details\" ></td></tr>\n",
       "<tr ><th scope=\"row\" class=\"left \" data-append-csv=\"rogerty01\" data-stat=\"player\" csk=\"105\" >&nbsp;&nbsp;&nbsp;<a href=\"/players/r/rogerty01.shtml\">Tyler Rogers</a> P</th><td class=\"right iz\" data-stat=\"AB\" ></td><td class=\"right iz\" data-stat=\"R\" ></td><td class=\"right iz\" data-stat=\"H\" ></td><td class=\"right iz\" data-stat=\"RBI\" ></td><td class=\"right iz\" data-stat=\"BB\" ></td><td class=\"right iz\" data-stat=\"SO\" ></td><td class=\"right iz\" data-stat=\"PA\" ></td><td class=\"right iz\" data-stat=\"batting_avg\" ></td><td class=\"right iz\" data-stat=\"onbase_perc\" ></td><td class=\"right iz\" data-stat=\"slugging_perc\" ></td><td class=\"right iz\" data-stat=\"onbase_plus_slugging\" ></td><td class=\"right iz\" data-stat=\"pitches\" ></td><td class=\"right iz\" data-stat=\"strikes_total\" ></td><td class=\"right iz\" data-stat=\"wpa_bat\" ></td><td class=\"right iz\" data-stat=\"leverage_index_avg\" ></td><td class=\"right iz\" data-stat=\"wpa_bat_pos\" ></td><td class=\"right iz\" data-stat=\"wpa_bat_neg\" ></td><td class=\"right iz\" data-stat=\"cwpa_bat\" ></td><td class=\"right iz\" data-stat=\"cli_avg\" ></td><td class=\"right iz\" data-stat=\"re24_bat\" ></td><td class=\"right iz\" data-stat=\"PO\" >0</td><td class=\"right \" data-stat=\"A\" >1</td><td class=\"left iz\" data-stat=\"details\" ></td></tr>\n",
       "</tbody><tfoot><tr ><th scope=\"row\" class=\"left \" data-stat=\"player\" >Team Totals</th><td class=\"right \" data-stat=\"AB\" >30</td><td class=\"right iz\" data-stat=\"R\" >0</td><td class=\"right \" data-stat=\"H\" >4</td><td class=\"right iz\" data-stat=\"RBI\" >0</td><td class=\"right \" data-stat=\"BB\" >3</td><td class=\"right \" data-stat=\"SO\" >16</td><td class=\"right \" data-stat=\"PA\" >33</td><td class=\"right \" data-stat=\"batting_avg\" >.133</td><td class=\"right \" data-stat=\"onbase_perc\" >.212</td><td class=\"right \" data-stat=\"slugging_perc\" >.133</td><td class=\"right \" data-stat=\"onbase_plus_slugging\" >.345</td><td class=\"right \" data-stat=\"pitches\" >150</td><td class=\"right \" data-stat=\"strikes_total\" >93</td><td class=\"right \" data-stat=\"wpa_bat\" >-0.368</td><td class=\"right \" data-stat=\"leverage_index_avg\" > 0.81</td><td class=\"right \" data-stat=\"wpa_bat_pos\" >0.215</td><td class=\"right \" data-stat=\"wpa_bat_neg\" >-0.581</td><td class=\"right \" data-stat=\"cwpa_bat\" >-0.20%</td><td class=\"right \" data-stat=\"cli_avg\" > 0.74</td><td class=\"right \" data-stat=\"re24_bat\" > -4.3</td><td class=\"right \" data-stat=\"PO\" >24</td><td class=\"right \" data-stat=\"A\" >5</td><td class=\"left iz\" data-stat=\"details\" ></td></tr>\n",
       "\n",
       "   </tfoot>\n",
       "\n",
       "</table>\n",
       "\n",
       "\n",
       "</div>\n",
       "<div class=\"footer no_hide_long\" id=\"tfooter_SanFranciscoGiantsbatting\">\n",
       "\n",
       "<div><div id='TB'><strong>TB:</strong> Thairo&nbsp;Estrada 2; Roberto&nbsp;Pérez; Michael&nbsp;Conforto.</div>\n",
       "<div id='GIDP'><strong>GIDP:</strong> Wilmer&nbsp;Flores (1).</div>\n",
       "<div id='teamlobvisitor'><strong>Team LOB:</strong> 6.</div><div id='teamrispvisitor'><strong>With RISP:</strong> 0 for 3.</div></div>\n",
       "<div><strong>Baserunning</strong>\n",
       "<div id='SBvisitor'><strong>SB:</strong> Thairo Estrada (1, 2nd base off Gerrit Cole/Jose Trevino).</div>\n",
       "</div></div>-->\n",
       "</div>\n",
       "<div class=\"table_wrapper setup_commented commented\" id=\"all_NewYorkYankeesbatting\">\n",
       "<div class=\"section_heading assoc_NewYorkYankeesbatting\" id=\"NewYorkYankeesbatting_sh\">\n",
       "<span class=\"section_anchor\" data-label=\"New York Yankees Batting\" id=\"NewYorkYankeesbatting_link\"></span><h2>New York Yankees</h2> <div class=\"section_heading_text\">\n",
       "<ul>\n",
       "</ul>\n",
       "</div>\n",
       "</div><div class=\"placeholder\"></div>\n",
       "<!--\n",
       "\n",
       "<div class=\"table_container\" id=\"div_NewYorkYankeesbatting\">\n",
       "    \n",
       "    <table class=\"sortable stats_table min_width shade_zero\" id=\"NewYorkYankeesbatting\" data-cols-to-freeze=\",1\">\n",
       "    <caption>New York Yankees Table</caption>\n",
       "    \n",
       "\n",
       "   <colgroup><col><col><col><col><col><col><col><col><col><col><col><col><col><col><col><col><col><col><col><col><col><col><col><col></colgroup>\n",
       "   <thead>      \n",
       "      <tr>\n",
       "         <th aria-label=\"Batting\" data-stat=\"player\" scope=\"col\" class=\" poptip sort_default_asc show_partial_when_sorting left\" data-tip=\"&lt;strong&gt;Player Name&lt;/strong&gt;&lt;br&gt;&lt;strong&gt;Bold&lt;/strong&gt; can mean player is active for this team&lt;br&gt;or player has appeared in the majors&lt;br&gt;* means LHP or LHB,&lt;br&gt;# means switch hitter,&lt;br&gt;+ can mean HOFer.\" >Batting</th>\n",
       "         <th aria-label=\"At Bats\" data-stat=\"AB\" scope=\"col\" class=\" poptip center\" data-tip=\"At Bats\" >AB</th>\n",
       "         <th aria-label=\"Runs Scored\" data-stat=\"R\" scope=\"col\" class=\" poptip center\" data-tip=\"Runs Scored/Allowed\" >R</th>\n",
       "         <th aria-label=\"Hits\" data-stat=\"H\" scope=\"col\" class=\" poptip center\" data-tip=\"Hits/Hits Allowed\" >H</th>\n",
       "         <th aria-label=\"Runs Batted In\" data-stat=\"RBI\" scope=\"col\" class=\" poptip center\" data-tip=\"Runs Batted In\" >RBI</th>\n",
       "         <th aria-label=\"Bases on Balls\" data-stat=\"BB\" scope=\"col\" class=\" poptip center\" data-tip=\"Bases on Balls/Walks\" >BB</th>\n",
       "         <th aria-label=\"Strikeouts\" data-stat=\"SO\" scope=\"col\" class=\" poptip center\" data-tip=\"Strikeouts\" >SO</th>\n",
       "         <th aria-label=\"Plate Appearances\" data-stat=\"PA\" scope=\"col\" class=\" poptip center\" data-tip=\"&lt;strong&gt;Plate Appearances&lt;/strong&gt;&lt;br&gt;When available, we use actual plate appearances from play-by-play game accounts&lt;br&gt;Otherwise estimated using AB + BB + HBP + SF + SH,&lt;br&gt;which excludes catcher interferences.&lt;br&gt;When &lt;span class=tooltip&gt;this color&lt;/span&gt; click for a summary of each PA.\" >PA</th>\n",
       "         <th aria-label=\"Batting Average\" data-stat=\"batting_avg\" scope=\"col\" class=\" poptip hide_non_quals center\" data-tip=\"&lt;strong&gt;Hits/At Bats&lt;/strong&gt;&lt;br&gt;For recent years, leaders need 3.1 PA&lt;br&gt;per team game played&lt;br&gt;Bold indicates highest BA using current stats&lt;br&gt;&lt;span class=&quot;all_time_record&quot;&gt;Gold&lt;/span&gt; means awarded title at end of year.\" data-filter=\"1\" data-name=\"Batting Average\" >BA</th>\n",
       "         <th aria-label=\"On-Base%\" data-stat=\"onbase_perc\" scope=\"col\" class=\" poptip hide_non_quals center\" data-tip=\"&lt;strong&gt;(H + BB + HBP)/(At Bats + BB + HBP + SF)&lt;/strong&gt;&lt;br&gt;For recent years, leaders need 3.1 PA&lt;br&gt;per team game played\" data-filter=\"1\" data-name=\"On-Base%\" >OBP</th>\n",
       "         <th aria-label=\"Slugging %\" data-stat=\"slugging_perc\" scope=\"col\" class=\" poptip hide_non_quals center\" data-tip=\"<strong>Total Bases/At Bats or <br>(1B + 2*2B + 3*3B + 4*HR)/AB</strong><br>For recent years, leaders need 3.1 PA<br>per team game played\" data-filter=\"1\" data-name=\"Slugging %\" >SLG</th>\n",
       "         <th aria-label=\"On-Base Plus Slugging\" data-stat=\"onbase_plus_slugging\" scope=\"col\" class=\" poptip hide_non_quals center\" data-tip=\"&lt;strong&gt;On-Base + Slugging Percentages &lt;/strong&gt;&lt;br&gt;For recent years, leaders need 3.1 PA&lt;br&gt;per team game played\" data-filter=\"1\" data-name=\"On-Base Plus Slugging\" >OPS</th>\n",
       "         <th aria-label=\"Pit\" data-stat=\"pitches\" scope=\"col\" class=\" poptip center\" data-tip=\"Number of pitches in the PA.\" >Pit</th>\n",
       "         <th aria-label=\"Str\" data-stat=\"strikes_total\" scope=\"col\" class=\" poptip center\" data-tip=\"&lt;strong&gt;Strikes&lt;/strong&gt;&lt;br&gt;Includes both pitches in the zone and those swung at out of the zone.\" >Str</th>\n",
       "         <th aria-label=\"Win Probability Added (WPA)\" data-stat=\"wpa_bat\" scope=\"col\" class=\" poptip center\" data-tip=\"&lt;strong&gt;Win Probability Added for Offensive Player&lt;/strong&gt;&lt;br&gt;Given average teams, this is the change in probability&lt;br&gt;caused by this batter during the game&lt;br&gt;A change of +/- 1 would indicate one win added or lost.\" data-filter=\"1\" data-name=\"Win Probability Added (WPA)\" >WPA</th>\n",
       "         <th aria-label=\"aLI\" data-stat=\"leverage_index_avg\" scope=\"col\" class=\" poptip hide_non_quals center\" data-tip=\"&lt;strong&gt;Average Leverage Index&lt;/strong&gt;&lt;br&gt;The average pressure the pitcher or batter saw in this game or season.&lt;br&gt;1.0 is average pressure, below 1.0 is low pressure and above 1.0 is high pressure.\" data-filter=\"1\" data-name=\"aLI\" >aLI</th>\n",
       "         <th aria-label=\"WPA+\" data-stat=\"wpa_bat_pos\" scope=\"col\" class=\" poptip center\" data-tip=\"&lt;strong&gt;Win Probability Added&lt;/strong&gt;&lt;br&gt;Sum of positive events for this batter.\" data-filter=\"1\" data-name=\"WPA+\" >WPA+</th>\n",
       "         <th aria-label=\"WPA-\" data-stat=\"wpa_bat_neg\" scope=\"col\" class=\" poptip center\" data-tip=\"&lt;strong&gt;Win Probability Subtracted&lt;/strong&gt;&lt;br&gt;Sum of negative events for this batter.\" data-filter=\"1\" data-name=\"WPA-\" >WPA-</th>\n",
       "         <th aria-label=\"Championship WPA (cWPA)\" data-stat=\"cwpa_bat\" scope=\"col\" class=\" poptip center\" data-tip=\"&lt;strong&gt;Championship Win Probability Added for Offensive Player&lt;/strong&gt;&lt;br&gt;Given average teams, this is the change in probability, displayed in percentage points.&lt;br&gt;A change of +/- 100% would indicate one world series win added or lost.\" data-filter=\"1\" data-name=\"Championship WPA (cWPA)\" >cWPA</th>\n",
       "         <th aria-label=\"acLI\" data-stat=\"cli_avg\" scope=\"col\" class=\" poptip hide_non_quals center\" data-tip=\"&lt;strong&gt;Average Championship Leverage Index&lt;/strong&gt;&lt;br&gt;The average pressure the pitcher or batter saw in this game or season.&lt;br&gt;1.0 is average pressure, below 1.0 is low pressure and above 1.0 is high pressure.\" data-filter=\"1\" data-name=\"acLI\" >acLI</th>\n",
       "         <th aria-label=\"Base-Out Runs Added (RE24)\" data-stat=\"re24_bat\" scope=\"col\" class=\" poptip center\" data-tip=\"&lt;strong&gt;Base-Out Runs Added&lt;/strong&gt;&lt;br&gt;Given the bases occupied/out situation, how many runs did the batter&lt;br&gt; or baserunner add in the resulting play.&lt;br&gt;Compared to average, so 0 is average, and above 0 is better than average\" data-filter=\"1\" data-name=\"Base-Out Runs Added (RE24)\" >RE24</th>\n",
       "         <th aria-label=\"Putouts\" data-stat=\"PO\" scope=\"col\" class=\" poptip center\" data-tip=\"Putouts\" >PO</th>\n",
       "         <th aria-label=\"Assists\" data-stat=\"A\" scope=\"col\" class=\" poptip center\" data-tip=\"Assists\" >A</th>\n",
       "         <th aria-label=\"details\" data-stat=\"details\" scope=\"col\" class=\" poptip center\" >Details</th>\n",
       "      </tr>\n",
       "      </thead>\n",
       "<tbody><tr ><th scope=\"row\" class=\"left \" data-append-csv=\"lemahdj01\" data-stat=\"player\" csk=\"8\" ><a href=\"/players/l/lemahdj01.shtml\">DJ LeMahieu</a> 2B</th><td class=\"right endpoint\" data-endpoint=\"/tools/be.cgi?html=1&game-id=NYA202303300-lemahdj01\" data-stat=\"AB\" >4</td><td class=\"right iz\" data-stat=\"R\" >0</td><td class=\"right \" data-stat=\"H\" >1</td><td class=\"right \" data-stat=\"RBI\" >1</td><td class=\"right iz\" data-stat=\"BB\" >0</td><td class=\"right \" data-stat=\"SO\" >3</td><td class=\"right \" data-stat=\"PA\" >4</td><td class=\"right \" data-stat=\"batting_avg\" >.250</td><td class=\"right \" data-stat=\"onbase_perc\" >.250</td><td class=\"right \" data-stat=\"slugging_perc\" >.250</td><td class=\"right \" data-stat=\"onbase_plus_slugging\" >.500</td><td class=\"right \" data-stat=\"pitches\" >12</td><td class=\"right \" data-stat=\"strikes_total\" >11</td><td class=\"right \" data-stat=\"wpa_bat\" >-0.032</td><td class=\"right \" data-stat=\"leverage_index_avg\" > 0.71</td><td class=\"right \" data-stat=\"wpa_bat_pos\" >0.026</td><td class=\"right \" data-stat=\"wpa_bat_neg\" >-0.058</td><td class=\"right \" data-stat=\"cwpa_bat\" >-0.02%</td><td class=\"right \" data-stat=\"cli_avg\" > 0.66</td><td class=\"right \" data-stat=\"re24_bat\" > 0.2</td><td class=\"right \" data-stat=\"PO\" >1</td><td class=\"right \" data-stat=\"A\" >2</td><td class=\"left iz\" data-stat=\"details\" ></td></tr>\n",
       "<tr ><th scope=\"row\" class=\"left \" data-append-csv=\"judgeaa01\" data-stat=\"player\" csk=\"9\" ><a href=\"/players/j/judgeaa01.shtml\">Aaron Judge</a> CF-RF</th><td class=\"right endpoint\" data-endpoint=\"/tools/be.cgi?html=1&game-id=NYA202303300-judgeaa01\" data-stat=\"AB\" >4</td><td class=\"right \" data-stat=\"R\" >1</td><td class=\"right \" data-stat=\"H\" >2</td><td class=\"right \" data-stat=\"RBI\" >2</td><td class=\"right iz\" data-stat=\"BB\" >0</td><td class=\"right \" data-stat=\"SO\" >2</td><td class=\"right \" data-stat=\"PA\" >4</td><td class=\"right \" data-stat=\"batting_avg\" >.500</td><td class=\"right \" data-stat=\"onbase_perc\" >.500</td><td class=\"right \" data-stat=\"slugging_perc\" >1.250</td><td class=\"right \" data-stat=\"onbase_plus_slugging\" >1.750</td><td class=\"right \" data-stat=\"pitches\" >16</td><td class=\"right \" data-stat=\"strikes_total\" >11</td><td class=\"right \" data-stat=\"wpa_bat\" >0.085</td><td class=\"right \" data-stat=\"leverage_index_avg\" > 0.57</td><td class=\"right \" data-stat=\"wpa_bat_pos\" >0.120</td><td class=\"right \" data-stat=\"wpa_bat_neg\" >-0.036</td><td class=\"right \" data-stat=\"cwpa_bat\" > 0.05%</td><td class=\"right \" data-stat=\"cli_avg\" > 0.53</td><td class=\"right \" data-stat=\"re24_bat\" > 1.6</td><td class=\"right \" data-stat=\"PO\" >1</td><td class=\"right iz\" data-stat=\"A\" >0</td><td class=\"left \" data-stat=\"details\" >HR</td></tr>\n",
       "<tr ><th scope=\"row\" class=\"left \" data-append-csv=\"rizzoan01\" data-stat=\"player\" csk=\"10\" ><a href=\"/players/r/rizzoan01.shtml\">Anthony Rizzo</a> 1B</th><td class=\"right endpoint\" data-endpoint=\"/tools/be.cgi?html=1&game-id=NYA202303300-rizzoan01\" data-stat=\"AB\" >4</td><td class=\"right iz\" data-stat=\"R\" >0</td><td class=\"right \" data-stat=\"H\" >1</td><td class=\"right iz\" data-stat=\"RBI\" >0</td><td class=\"right iz\" data-stat=\"BB\" >0</td><td class=\"right \" data-stat=\"SO\" >1</td><td class=\"right \" data-stat=\"PA\" >4</td><td class=\"right \" data-stat=\"batting_avg\" >.250</td><td class=\"right \" data-stat=\"onbase_perc\" >.250</td><td class=\"right \" data-stat=\"slugging_perc\" >.250</td><td class=\"right \" data-stat=\"onbase_plus_slugging\" >.500</td><td class=\"right \" data-stat=\"pitches\" >19</td><td class=\"right \" data-stat=\"strikes_total\" >12</td><td class=\"right \" data-stat=\"wpa_bat\" >-0.020</td><td class=\"right \" data-stat=\"leverage_index_avg\" > 0.51</td><td class=\"right \" data-stat=\"wpa_bat_pos\" >0.021</td><td class=\"right \" data-stat=\"wpa_bat_neg\" >-0.041</td><td class=\"right \" data-stat=\"cwpa_bat\" >-0.01%</td><td class=\"right \" data-stat=\"cli_avg\" > 0.47</td><td class=\"right \" data-stat=\"re24_bat\" > -0.8</td><td class=\"right \" data-stat=\"PO\" >5</td><td class=\"right \" data-stat=\"A\" >2</td><td class=\"left iz\" data-stat=\"details\" ></td></tr>\n",
       "<tr ><th scope=\"row\" class=\"left \" data-append-csv=\"stantmi03\" data-stat=\"player\" csk=\"11\" ><a href=\"/players/s/stantmi03.shtml\">Giancarlo Stanton</a> RF</th><td class=\"right endpoint\" data-endpoint=\"/tools/be.cgi?html=1&game-id=NYA202303300-stantmi03\" data-stat=\"AB\" >4</td><td class=\"right iz\" data-stat=\"R\" >0</td><td class=\"right \" data-stat=\"H\" >1</td><td class=\"right iz\" data-stat=\"RBI\" >0</td><td class=\"right iz\" data-stat=\"BB\" >0</td><td class=\"right \" data-stat=\"SO\" >1</td><td class=\"right \" data-stat=\"PA\" >4</td><td class=\"right \" data-stat=\"batting_avg\" >.250</td><td class=\"right \" data-stat=\"onbase_perc\" >.250</td><td class=\"right \" data-stat=\"slugging_perc\" >.250</td><td class=\"right \" data-stat=\"onbase_plus_slugging\" >.500</td><td class=\"right \" data-stat=\"pitches\" >13</td><td class=\"right \" data-stat=\"strikes_total\" >12</td><td class=\"right \" data-stat=\"wpa_bat\" >-0.049</td><td class=\"right \" data-stat=\"leverage_index_avg\" > 0.51</td><td class=\"right \" data-stat=\"wpa_bat_pos\" >0.001</td><td class=\"right \" data-stat=\"wpa_bat_neg\" >-0.049</td><td class=\"right \" data-stat=\"cwpa_bat\" >-0.03%</td><td class=\"right \" data-stat=\"cli_avg\" > 0.47</td><td class=\"right \" data-stat=\"re24_bat\" > -0.3</td><td class=\"right iz\" data-stat=\"PO\" >0</td><td class=\"right iz\" data-stat=\"A\" >0</td><td class=\"left iz\" data-stat=\"details\" ></td></tr>\n",
       "<tr ><th scope=\"row\" class=\"left \" data-append-csv=\"flories01\" data-stat=\"player\" csk=\"12\" >&nbsp;&nbsp;&nbsp;<a href=\"/players/f/flories01.shtml\">Estevan Florial</a> PR-CF</th><td class=\"right endpoint iz\" data-endpoint=\"/tools/be.cgi?html=1&game-id=NYA202303300-flories01\" data-stat=\"AB\" >0</td><td class=\"right iz\" data-stat=\"R\" >0</td><td class=\"right iz\" data-stat=\"H\" >0</td><td class=\"right iz\" data-stat=\"RBI\" >0</td><td class=\"right iz\" data-stat=\"BB\" >0</td><td class=\"right iz\" data-stat=\"SO\" >0</td><td class=\"right iz\" data-stat=\"PA\" >0</td><td class=\"right iz\" data-stat=\"batting_avg\" ></td><td class=\"right iz\" data-stat=\"onbase_perc\" ></td><td class=\"right iz\" data-stat=\"slugging_perc\" ></td><td class=\"right iz\" data-stat=\"onbase_plus_slugging\" ></td><td class=\"right iz\" data-stat=\"pitches\" ></td><td class=\"right iz\" data-stat=\"strikes_total\" ></td><td class=\"right iz\" data-stat=\"wpa_bat\" ></td><td class=\"right iz\" data-stat=\"leverage_index_avg\" ></td><td class=\"right iz\" data-stat=\"wpa_bat_pos\" ></td><td class=\"right iz\" data-stat=\"wpa_bat_neg\" ></td><td class=\"right iz\" data-stat=\"cwpa_bat\" ></td><td class=\"right iz\" data-stat=\"cli_avg\" ></td><td class=\"right iz\" data-stat=\"re24_bat\" ></td><td class=\"right iz\" data-stat=\"PO\" >0</td><td class=\"right iz\" data-stat=\"A\" >0</td><td class=\"left iz\" data-stat=\"details\" ></td></tr>\n",
       "<tr ><th scope=\"row\" class=\"left \" data-append-csv=\"donaljo02\" data-stat=\"player\" csk=\"13\" ><a href=\"/players/d/donaljo02.shtml\">Josh Donaldson</a> 3B</th><td class=\"right endpoint\" data-endpoint=\"/tools/be.cgi?html=1&game-id=NYA202303300-donaljo02\" data-stat=\"AB\" >4</td><td class=\"right \" data-stat=\"R\" >1</td><td class=\"right \" data-stat=\"H\" >1</td><td class=\"right iz\" data-stat=\"RBI\" >0</td><td class=\"right iz\" data-stat=\"BB\" >0</td><td class=\"right \" data-stat=\"SO\" >2</td><td class=\"right \" data-stat=\"PA\" >4</td><td class=\"right \" data-stat=\"batting_avg\" >.250</td><td class=\"right \" data-stat=\"onbase_perc\" >.250</td><td class=\"right \" data-stat=\"slugging_perc\" >.250</td><td class=\"right \" data-stat=\"onbase_plus_slugging\" >.500</td><td class=\"right \" data-stat=\"pitches\" >12</td><td class=\"right \" data-stat=\"strikes_total\" >9</td><td class=\"right \" data-stat=\"wpa_bat\" >-0.001</td><td class=\"right \" data-stat=\"leverage_index_avg\" > 0.36</td><td class=\"right \" data-stat=\"wpa_bat_pos\" >0.023</td><td class=\"right \" data-stat=\"wpa_bat_neg\" >-0.023</td><td class=\"right iz\" data-stat=\"cwpa_bat\" >0%</td><td class=\"right \" data-stat=\"cli_avg\" > 0.34</td><td class=\"right \" data-stat=\"re24_bat\" > -0.3</td><td class=\"right iz\" data-stat=\"PO\" >0</td><td class=\"right iz\" data-stat=\"A\" >0</td><td class=\"left iz\" data-stat=\"details\" ></td></tr>\n",
       "<tr ><th scope=\"row\" class=\"left \" data-append-csv=\"torregl01\" data-stat=\"player\" csk=\"14\" ><a href=\"/players/t/torregl01.shtml\">Gleyber Torres</a> DH</th><td class=\"right endpoint\" data-endpoint=\"/tools/be.cgi?html=1&game-id=NYA202303300-torregl01\" data-stat=\"AB\" >3</td><td class=\"right \" data-stat=\"R\" >2</td><td class=\"right \" data-stat=\"H\" >1</td><td class=\"right \" data-stat=\"RBI\" >2</td><td class=\"right \" data-stat=\"BB\" >1</td><td class=\"right iz\" data-stat=\"SO\" >0</td><td class=\"right \" data-stat=\"PA\" >4</td><td class=\"right \" data-stat=\"batting_avg\" >.333</td><td class=\"right \" data-stat=\"onbase_perc\" >.500</td><td class=\"right \" data-stat=\"slugging_perc\" >1.333</td><td class=\"right \" data-stat=\"onbase_plus_slugging\" >1.833</td><td class=\"right \" data-stat=\"pitches\" >13</td><td class=\"right \" data-stat=\"strikes_total\" >7</td><td class=\"right \" data-stat=\"wpa_bat\" >0.159</td><td class=\"right \" data-stat=\"leverage_index_avg\" > 0.48</td><td class=\"right \" data-stat=\"wpa_bat_pos\" >0.179</td><td class=\"right \" data-stat=\"wpa_bat_neg\" >-0.020</td><td class=\"right \" data-stat=\"cwpa_bat\" > 0.09%</td><td class=\"right \" data-stat=\"cli_avg\" > 0.45</td><td class=\"right \" data-stat=\"re24_bat\" > 1.7</td><td class=\"right iz\" data-stat=\"PO\" ></td><td class=\"right iz\" data-stat=\"A\" ></td><td class=\"left \" data-stat=\"details\" >HR,SB</td></tr>\n",
       "<tr ><th scope=\"row\" class=\"left \" data-append-csv=\"cabreos01\" data-stat=\"player\" csk=\"15\" ><a href=\"/players/c/cabreos01.shtml\">Oswaldo Cabrera</a> LF</th><td class=\"right endpoint\" data-endpoint=\"/tools/be.cgi?html=1&game-id=NYA202303300-cabreos01\" data-stat=\"AB\" >4</td><td class=\"right iz\" data-stat=\"R\" >0</td><td class=\"right iz\" data-stat=\"H\" >0</td><td class=\"right iz\" data-stat=\"RBI\" >0</td><td class=\"right iz\" data-stat=\"BB\" >0</td><td class=\"right \" data-stat=\"SO\" >4</td><td class=\"right \" data-stat=\"PA\" >4</td><td class=\"right iz\" data-stat=\"batting_avg\" >.000</td><td class=\"right iz\" data-stat=\"onbase_perc\" >.000</td><td class=\"right iz\" data-stat=\"slugging_perc\" >.000</td><td class=\"right iz\" data-stat=\"onbase_plus_slugging\" >.000</td><td class=\"right \" data-stat=\"pitches\" >19</td><td class=\"right \" data-stat=\"strikes_total\" >13</td><td class=\"right \" data-stat=\"wpa_bat\" >-0.029</td><td class=\"right \" data-stat=\"leverage_index_avg\" > 0.30</td><td class=\"right \" data-stat=\"wpa_bat_pos\" >0.000</td><td class=\"right \" data-stat=\"wpa_bat_neg\" >-0.029</td><td class=\"right \" data-stat=\"cwpa_bat\" >-0.02%</td><td class=\"right \" data-stat=\"cli_avg\" > 0.28</td><td class=\"right \" data-stat=\"re24_bat\" > -1.0</td><td class=\"right \" data-stat=\"PO\" >1</td><td class=\"right iz\" data-stat=\"A\" >0</td><td class=\"left iz\" data-stat=\"details\" ></td></tr>\n",
       "<tr ><th scope=\"row\" class=\"left \" data-append-csv=\"trevijo01\" data-stat=\"player\" csk=\"16\" ><a href=\"/players/t/trevijo01.shtml\">Jose Trevino</a> C</th><td class=\"right endpoint\" data-endpoint=\"/tools/be.cgi?html=1&game-id=NYA202303300-trevijo01\" data-stat=\"AB\" >3</td><td class=\"right \" data-stat=\"R\" >1</td><td class=\"right \" data-stat=\"H\" >1</td><td class=\"right iz\" data-stat=\"RBI\" >0</td><td class=\"right iz\" data-stat=\"BB\" >0</td><td class=\"right \" data-stat=\"SO\" >2</td><td class=\"right \" data-stat=\"PA\" >3</td><td class=\"right \" data-stat=\"batting_avg\" >.333</td><td class=\"right \" data-stat=\"onbase_perc\" >.333</td><td class=\"right \" data-stat=\"slugging_perc\" >.333</td><td class=\"right \" data-stat=\"onbase_plus_slugging\" >.667</td><td class=\"right \" data-stat=\"pitches\" >9</td><td class=\"right \" data-stat=\"strikes_total\" >7</td><td class=\"right \" data-stat=\"wpa_bat\" >-0.003</td><td class=\"right \" data-stat=\"leverage_index_avg\" > 0.28</td><td class=\"right \" data-stat=\"wpa_bat_pos\" >0.011</td><td class=\"right \" data-stat=\"wpa_bat_neg\" >-0.014</td><td class=\"right \" data-stat=\"cwpa_bat\" >-0.00%</td><td class=\"right \" data-stat=\"cli_avg\" > 0.26</td><td class=\"right \" data-stat=\"re24_bat\" > 0.3</td><td class=\"right \" data-stat=\"PO\" >17</td><td class=\"right iz\" data-stat=\"A\" >0</td><td class=\"left iz\" data-stat=\"details\" ></td></tr>\n",
       "<tr ><th scope=\"row\" class=\"left \" data-append-csv=\"volpean01\" data-stat=\"player\" csk=\"17\" ><a href=\"/players/v/volpean01.shtml\">Anthony Volpe</a> SS</th><td class=\"right endpoint\" data-endpoint=\"/tools/be.cgi?html=1&game-id=NYA202303300-volpean01\" data-stat=\"AB\" >2</td><td class=\"right iz\" data-stat=\"R\" >0</td><td class=\"right iz\" data-stat=\"H\" >0</td><td class=\"right iz\" data-stat=\"RBI\" >0</td><td class=\"right \" data-stat=\"BB\" >1</td><td class=\"right \" data-stat=\"SO\" >1</td><td class=\"right \" data-stat=\"PA\" >3</td><td class=\"right iz\" data-stat=\"batting_avg\" >.000</td><td class=\"right \" data-stat=\"onbase_perc\" >.333</td><td class=\"right iz\" data-stat=\"slugging_perc\" >.000</td><td class=\"right \" data-stat=\"onbase_plus_slugging\" >.333</td><td class=\"right \" data-stat=\"pitches\" >13</td><td class=\"right \" data-stat=\"strikes_total\" >7</td><td class=\"right \" data-stat=\"wpa_bat\" >0.024</td><td class=\"right \" data-stat=\"leverage_index_avg\" > 0.72</td><td class=\"right \" data-stat=\"wpa_bat_pos\" >0.048</td><td class=\"right \" data-stat=\"wpa_bat_neg\" >-0.024</td><td class=\"right \" data-stat=\"cwpa_bat\" > 0.01%</td><td class=\"right \" data-stat=\"cli_avg\" > 0.66</td><td class=\"right \" data-stat=\"re24_bat\" > -0.4</td><td class=\"right iz\" data-stat=\"PO\" >0</td><td class=\"right \" data-stat=\"A\" >3</td><td class=\"left \" data-stat=\"details\" >SB</td></tr>\n",
       "<tr class=\"spacer\" ><th scope=\"row\" class=\"left iz\" data-stat=\"player\" csk=\"99\" ></th><td class=\"right iz\" data-stat=\"AB\" ></td><td class=\"right iz\" data-stat=\"R\" ></td><td class=\"right iz\" data-stat=\"H\" ></td><td class=\"right iz\" data-stat=\"RBI\" ></td><td class=\"right iz\" data-stat=\"BB\" ></td><td class=\"right iz\" data-stat=\"SO\" ></td><td class=\"right iz\" data-stat=\"PA\" ></td><td class=\"right iz\" data-stat=\"batting_avg\" ></td><td class=\"right iz\" data-stat=\"onbase_perc\" ></td><td class=\"right iz\" data-stat=\"slugging_perc\" ></td><td class=\"right iz\" data-stat=\"onbase_plus_slugging\" ></td><td class=\"right iz\" data-stat=\"pitches\" ></td><td class=\"right iz\" data-stat=\"strikes_total\" ></td><td class=\"right iz\" data-stat=\"wpa_bat\" ></td><td class=\"right iz\" data-stat=\"leverage_index_avg\" ></td><td class=\"right iz\" data-stat=\"wpa_bat_pos\" ></td><td class=\"right iz\" data-stat=\"wpa_bat_neg\" ></td><td class=\"right iz\" data-stat=\"cwpa_bat\" ></td><td class=\"right iz\" data-stat=\"cli_avg\" ></td><td class=\"right iz\" data-stat=\"re24_bat\" ></td><td class=\"right iz\" data-stat=\"PO\" ></td><td class=\"right iz\" data-stat=\"A\" ></td><td class=\"left iz\" data-stat=\"details\" ></td></tr>\n",
       "<tr ><th scope=\"row\" class=\"left \" data-append-csv=\"colege01\" data-stat=\"player\" csk=\"101\" ><a href=\"/players/c/colege01.shtml\">Gerrit Cole</a> P</th><td class=\"right iz\" data-stat=\"AB\" ></td><td class=\"right iz\" data-stat=\"R\" ></td><td class=\"right iz\" data-stat=\"H\" ></td><td class=\"right iz\" data-stat=\"RBI\" ></td><td class=\"right iz\" data-stat=\"BB\" ></td><td class=\"right iz\" data-stat=\"SO\" ></td><td class=\"right iz\" data-stat=\"PA\" ></td><td class=\"right iz\" data-stat=\"batting_avg\" ></td><td class=\"right iz\" data-stat=\"onbase_perc\" ></td><td class=\"right iz\" data-stat=\"slugging_perc\" ></td><td class=\"right iz\" data-stat=\"onbase_plus_slugging\" ></td><td class=\"right iz\" data-stat=\"pitches\" ></td><td class=\"right iz\" data-stat=\"strikes_total\" ></td><td class=\"right iz\" data-stat=\"wpa_bat\" ></td><td class=\"right iz\" data-stat=\"leverage_index_avg\" ></td><td class=\"right iz\" data-stat=\"wpa_bat_pos\" ></td><td class=\"right iz\" data-stat=\"wpa_bat_neg\" ></td><td class=\"right iz\" data-stat=\"cwpa_bat\" ></td><td class=\"right iz\" data-stat=\"cli_avg\" ></td><td class=\"right iz\" data-stat=\"re24_bat\" ></td><td class=\"right \" data-stat=\"PO\" >1</td><td class=\"right iz\" data-stat=\"A\" >0</td><td class=\"left iz\" data-stat=\"details\" ></td></tr>\n",
       "<tr ><th scope=\"row\" class=\"left \" data-append-csv=\"peralwa01\" data-stat=\"player\" csk=\"103\" >&nbsp;&nbsp;&nbsp;<a href=\"/players/p/peralwa01.shtml\">Wandy Peralta</a> P</th><td class=\"right iz\" data-stat=\"AB\" ></td><td class=\"right iz\" data-stat=\"R\" ></td><td class=\"right iz\" data-stat=\"H\" ></td><td class=\"right iz\" data-stat=\"RBI\" ></td><td class=\"right iz\" data-stat=\"BB\" ></td><td class=\"right iz\" data-stat=\"SO\" ></td><td class=\"right iz\" data-stat=\"PA\" ></td><td class=\"right iz\" data-stat=\"batting_avg\" ></td><td class=\"right iz\" data-stat=\"onbase_perc\" ></td><td class=\"right iz\" data-stat=\"slugging_perc\" ></td><td class=\"right iz\" data-stat=\"onbase_plus_slugging\" ></td><td class=\"right iz\" data-stat=\"pitches\" ></td><td class=\"right iz\" data-stat=\"strikes_total\" ></td><td class=\"right iz\" data-stat=\"wpa_bat\" ></td><td class=\"right iz\" data-stat=\"leverage_index_avg\" ></td><td class=\"right iz\" data-stat=\"wpa_bat_pos\" ></td><td class=\"right iz\" data-stat=\"wpa_bat_neg\" ></td><td class=\"right iz\" data-stat=\"cwpa_bat\" ></td><td class=\"right iz\" data-stat=\"cli_avg\" ></td><td class=\"right iz\" data-stat=\"re24_bat\" ></td><td class=\"right iz\" data-stat=\"PO\" >0</td><td class=\"right iz\" data-stat=\"A\" >0</td><td class=\"left iz\" data-stat=\"details\" ></td></tr>\n",
       "<tr ><th scope=\"row\" class=\"left \" data-append-csv=\"loaisjo01\" data-stat=\"player\" csk=\"105\" >&nbsp;&nbsp;&nbsp;<a href=\"/players/l/loaisjo01.shtml\">Jonathan Loáisiga</a> P</th><td class=\"right iz\" data-stat=\"AB\" ></td><td class=\"right iz\" data-stat=\"R\" ></td><td class=\"right iz\" data-stat=\"H\" ></td><td class=\"right iz\" data-stat=\"RBI\" ></td><td class=\"right iz\" data-stat=\"BB\" ></td><td class=\"right iz\" data-stat=\"SO\" ></td><td class=\"right iz\" data-stat=\"PA\" ></td><td class=\"right iz\" data-stat=\"batting_avg\" ></td><td class=\"right iz\" data-stat=\"onbase_perc\" ></td><td class=\"right iz\" data-stat=\"slugging_perc\" ></td><td class=\"right iz\" data-stat=\"onbase_plus_slugging\" ></td><td class=\"right iz\" data-stat=\"pitches\" ></td><td class=\"right iz\" data-stat=\"strikes_total\" ></td><td class=\"right iz\" data-stat=\"wpa_bat\" ></td><td class=\"right iz\" data-stat=\"leverage_index_avg\" ></td><td class=\"right iz\" data-stat=\"wpa_bat_pos\" ></td><td class=\"right iz\" data-stat=\"wpa_bat_neg\" ></td><td class=\"right iz\" data-stat=\"cwpa_bat\" ></td><td class=\"right iz\" data-stat=\"cli_avg\" ></td><td class=\"right iz\" data-stat=\"re24_bat\" ></td><td class=\"right iz\" data-stat=\"PO\" >0</td><td class=\"right iz\" data-stat=\"A\" >0</td><td class=\"left iz\" data-stat=\"details\" ></td></tr>\n",
       "<tr ><th scope=\"row\" class=\"left \" data-append-csv=\"marinro01\" data-stat=\"player\" csk=\"107\" >&nbsp;&nbsp;&nbsp;<a href=\"/players/m/marinro01.shtml\">Ron Marinaccio</a> P</th><td class=\"right iz\" data-stat=\"AB\" ></td><td class=\"right iz\" data-stat=\"R\" ></td><td class=\"right iz\" data-stat=\"H\" ></td><td class=\"right iz\" data-stat=\"RBI\" ></td><td class=\"right iz\" data-stat=\"BB\" ></td><td class=\"right iz\" data-stat=\"SO\" ></td><td class=\"right iz\" data-stat=\"PA\" ></td><td class=\"right iz\" data-stat=\"batting_avg\" ></td><td class=\"right iz\" data-stat=\"onbase_perc\" ></td><td class=\"right iz\" data-stat=\"slugging_perc\" ></td><td class=\"right iz\" data-stat=\"onbase_plus_slugging\" ></td><td class=\"right iz\" data-stat=\"pitches\" ></td><td class=\"right iz\" data-stat=\"strikes_total\" ></td><td class=\"right iz\" data-stat=\"wpa_bat\" ></td><td class=\"right iz\" data-stat=\"leverage_index_avg\" ></td><td class=\"right iz\" data-stat=\"wpa_bat_pos\" ></td><td class=\"right iz\" data-stat=\"wpa_bat_neg\" ></td><td class=\"right iz\" data-stat=\"cwpa_bat\" ></td><td class=\"right iz\" data-stat=\"cli_avg\" ></td><td class=\"right iz\" data-stat=\"re24_bat\" ></td><td class=\"right \" data-stat=\"PO\" >1</td><td class=\"right iz\" data-stat=\"A\" >0</td><td class=\"left iz\" data-stat=\"details\" ></td></tr>\n",
       "</tbody><tfoot><tr ><th scope=\"row\" class=\"left \" data-stat=\"player\" >Team Totals</th><td class=\"right \" data-stat=\"AB\" >32</td><td class=\"right \" data-stat=\"R\" >5</td><td class=\"right \" data-stat=\"H\" >8</td><td class=\"right \" data-stat=\"RBI\" >5</td><td class=\"right \" data-stat=\"BB\" >2</td><td class=\"right \" data-stat=\"SO\" >16</td><td class=\"right \" data-stat=\"PA\" >34</td><td class=\"right \" data-stat=\"batting_avg\" >.250</td><td class=\"right \" data-stat=\"onbase_perc\" >.294</td><td class=\"right \" data-stat=\"slugging_perc\" >.438</td><td class=\"right \" data-stat=\"onbase_plus_slugging\" >.732</td><td class=\"right \" data-stat=\"pitches\" >126</td><td class=\"right \" data-stat=\"strikes_total\" >89</td><td class=\"right \" data-stat=\"wpa_bat\" >0.134</td><td class=\"right \" data-stat=\"leverage_index_avg\" > 0.48</td><td class=\"right \" data-stat=\"wpa_bat_pos\" >0.429</td><td class=\"right \" data-stat=\"wpa_bat_neg\" >-0.294</td><td class=\"right \" data-stat=\"cwpa_bat\" > 0.07%</td><td class=\"right \" data-stat=\"cli_avg\" > 0.45</td><td class=\"right \" data-stat=\"re24_bat\" > 1.2</td><td class=\"right \" data-stat=\"PO\" >27</td><td class=\"right \" data-stat=\"A\" >7</td><td class=\"left iz\" data-stat=\"details\" ></td></tr>\n",
       "\n",
       "   </tfoot>\n",
       "\n",
       "</table>\n",
       "\n",
       "\n",
       "</div>\n",
       "<div class=\"footer no_hide_long\" id=\"tfooter_NewYorkYankeesbatting\">\n",
       "\n",
       "<div><div id='HRhome'><strong>HR:</strong> Aaron Judge (1, off Logan Webb, 1st inn, 0 on, 1 out to Deep CF); Gleyber Torres (1, off Logan Webb, 4th inn, 1 on, 1 out to Deep RF).</div>\n",
       "<div id='TB'><strong>TB:</strong> Aaron&nbsp;Judge 5; Gleyber&nbsp;Torres 4; DJ&nbsp;LeMahieu; Jose&nbsp;Trevino; Giancarlo&nbsp;Stanton; Anthony&nbsp;Rizzo; Josh&nbsp;Donaldson.</div>\n",
       "<div id='RBI'><strong>RBI:</strong> Gleyber&nbsp;Torres 2 (2); Aaron&nbsp;Judge 2 (2); DJ&nbsp;LeMahieu (1).</div>\n",
       "<div id='RBI2out'><strong>2-out RBI:</strong> Aaron&nbsp;Judge; DJ&nbsp;LeMahieu.</div>\n",
       "<div id='teamlobhome'><strong>Team LOB:</strong> 5.</div><div id='teamrisphome'><strong>With RISP:</strong> 3 for 9.</div></div>\n",
       "<div><strong>Fielding</strong>\n",
       "<div><strong>DP:</strong> 1. Anthony&nbsp;Volpe-DJ&nbsp;LeMahieu-Anthony&nbsp;Rizzo.</div>\n",
       "</div><div><strong>Baserunning</strong>\n",
       "<div id='SBhome'><strong>SB:</strong> Anthony Volpe (1, 2nd base off Logan Webb/Roberto Pérez); Gleyber Torres (1, 2nd base off John Brebbia/Roberto Pérez).</div>\n",
       "</div></div>-->\n",
       "</div>\n",
       "<!-- fs_btf_1 -->\n",
       "<div class=\"adblock\">\n",
       "<!-- div#fs_fs_btf_1  -->\n",
       "<div align=\"center\" data-freestar-ad=\"__300x250 __970x90\" id=\"div-gpt-ad-728x90-BTF-1\">\n",
       "<script data-cfasync=\"false\" type=\"text/javascript\">\n",
       "    if (sr_detect_ie || sr_detect_edge || Modernizr.adfree) {\n",
       "    }\n",
       "    else {\n",
       "        console.log('push ad:div-gpt-ad-728x90-BTF-1');\n",
       "        freestar.queue.push(function() { googletag.display('div-gpt-ad-728x90-BTF-1'); });\n",
       "    }\n",
       "    </script>\n",
       "</div>\n",
       "<!-- /div.#fs_fs_btf_1 -->\n",
       "</div>\n",
       "<div class=\"section_wrapper setup_commented commented\" id=\"all_8623610671\">\n",
       "<div class=\"section_heading assoc_8623610671\" id=\"8623610671_sh\">\n",
       "<span class=\"section_anchor\" data-label=\"Pitching Lines and Info\" id=\"8623610671_link\"></span>\n",
       "</div><div class=\"placeholder\"></div>\n",
       "<!--     <div class=\"section_content\" id=\"div_8623610671\">\n",
       "\t    \n",
       "<div id=\"all_SanFranciscoGiantspitching\" class=\"table_wrapper\">\n",
       "\n",
       "<div class=\"section_heading assoc_SanFranciscoGiantspitching\" id=\"SanFranciscoGiantspitching_sh\">\n",
       "  <span class=\"section_anchor\" id=\"SanFranciscoGiantspitching_link\" data-label=\"San Francisco Giants\"></span><h2>San Francisco Giants</h2>    <div class=\"section_heading_text\">\n",
       "      <ul>\n",
       "      </ul>\n",
       "    </div>\n",
       "    \t\t\n",
       "</div>\n",
       "<div class=\"table_container\" id=\"div_SanFranciscoGiantspitching\">\n",
       "    \n",
       "    <table class=\"sortable stats_table min_width shade_zero\" id=\"SanFranciscoGiantspitching\" data-cols-to-freeze=\",1\">\n",
       "    <caption>San Francisco Giants Table</caption>\n",
       "    \n",
       "\n",
       "   <colgroup><col><col><col><col><col><col><col><col><col><col><col><col><col><col><col><col><col><col><col><col><col><col><col><col><col><col><col></colgroup>\n",
       "   <thead>      \n",
       "      <tr>\n",
       "         <th aria-label=\"Pitching\" data-stat=\"player\" scope=\"col\" class=\" poptip sort_default_asc show_partial_when_sorting left\" data-tip=\"&lt;strong&gt;Player Name&lt;/strong&gt;&lt;br&gt;&lt;strong&gt;Bold&lt;/strong&gt; can mean player is active for this team&lt;br&gt;or player has appeared in the majors&lt;br&gt;* means LHP or LHB,&lt;br&gt;# means switch hitter,&lt;br&gt;+ can mean HOFer.\" >Pitching</th>\n",
       "         <th aria-label=\"Innings Pitched\" data-stat=\"IP\" scope=\"col\" class=\" poptip center\" data-tip=\"Innings Pitched\" data-filter=\"1\" data-name=\"Innings Pitched\" >IP</th>\n",
       "         <th aria-label=\"Hits\" data-stat=\"H\" scope=\"col\" class=\" poptip center\" data-tip=\"Hits/Hits Allowed\" >H</th>\n",
       "         <th aria-label=\"Runs Scored\" data-stat=\"R\" scope=\"col\" class=\" poptip center\" data-tip=\"Runs Scored/Allowed\" >R</th>\n",
       "         <th aria-label=\"Earned Runs\" data-stat=\"ER\" scope=\"col\" class=\" poptip center\" data-tip=\"Earned Runs Allowed\" >ER</th>\n",
       "         <th aria-label=\"Bases on Balls\" data-stat=\"BB\" scope=\"col\" class=\" poptip center\" data-tip=\"Bases on Balls/Walks\" >BB</th>\n",
       "         <th aria-label=\"Strikeouts\" data-stat=\"SO\" scope=\"col\" class=\" poptip center\" data-tip=\"Strikeouts\" >SO</th>\n",
       "         <th aria-label=\"Home Runs\" data-stat=\"HR\" scope=\"col\" class=\" poptip center\" data-tip=\"Home Runs Hit/Allowed\" >HR</th>\n",
       "         <th aria-label=\"Earned Run Average\" data-stat=\"earned_run_avg\" scope=\"col\" class=\" poptip sort_default_asc hide_non_quals center\" data-tip=\"&lt;strong&gt;9 * ER / IP&lt;/strong&gt;&lt;br&gt;For recent years, leaders need 1 IP&lt;br&gt;per team game played.&lt;br&gt;Bold indicates lowest ERA using current stats&lt;br&gt;&lt;span class=glimmer&gt;Gold&lt;/span&gt; means awarded ERA title at end of year.\" data-filter=\"1\" data-name=\"Earned Run Average\" >ERA</th>\n",
       "         <th aria-label=\"Batters Faced\" data-stat=\"batters_faced\" scope=\"col\" class=\" poptip center\" data-tip=\"Batters Faced\" >BF</th>\n",
       "         <th aria-label=\"Pit\" data-stat=\"pitches\" scope=\"col\" class=\" poptip center\" data-tip=\"Number of pitches in the PA.\" >Pit</th>\n",
       "         <th aria-label=\"Str\" data-stat=\"strikes_total\" scope=\"col\" class=\" poptip center\" data-tip=\"&lt;strong&gt;Strikes&lt;/strong&gt;&lt;br&gt;Includes both pitches in the zone and those swung at out of the zone.\" >Str</th>\n",
       "         <th aria-label=\"Ctct\" data-stat=\"strikes_contact\" scope=\"col\" class=\" poptip center\" data-tip=\"&lt;strong&gt;Strikes by Contact&lt;/strong&gt;&lt;br&gt;Strikes from foul balls or balls put into play.\" >Ctct</th>\n",
       "         <th aria-label=\"StS\" data-stat=\"strikes_swinging\" scope=\"col\" class=\" poptip center\" data-tip=\"&lt;strong&gt;Strikes Swinging&lt;/strong&gt;&lt;br&gt;Strikes due to a swing and a miss.\" >StS</th>\n",
       "         <th aria-label=\"StL\" data-stat=\"strikes_looking\" scope=\"col\" class=\" poptip center\" data-tip=\"&lt;strong&gt;Strikes Looking&lt;/strong&gt;&lt;br&gt;Strikes called by the umpire.\" >StL</th>\n",
       "         <th aria-label=\"GB\" data-stat=\"inplay_gb_total\" scope=\"col\" class=\" poptip center\" data-tip=\"&lt;strong&gt;Ground Balls&lt;/strong&gt;&lt;br&gt;Includes bunts and all other ground balls.\" >GB</th>\n",
       "         <th aria-label=\"FB\" data-stat=\"inplay_fb_total\" scope=\"col\" class=\" poptip center\" data-tip=\"&lt;strong&gt;Fly Balls&lt;/strong&gt;&lt;br&gt;Includes Fly Balls, Line Drives, and Pop-Ups.\" >FB</th>\n",
       "         <th aria-label=\"LD\" data-stat=\"inplay_ld\" scope=\"col\" class=\" poptip center\" data-tip=\"&lt;strong&gt;Line Drives&lt;/strong&gt;&lt;br&gt;These are double-counted in Fly Balls as well.\" >LD</th>\n",
       "         <th aria-label=\"Unk\" data-stat=\"inplay_unk\" scope=\"col\" class=\" poptip center\" data-tip=\"&lt;strong&gt;Unknown batted ball type&lt;/strong&gt;&lt;br&gt;A ball in play for which we don&amp;#x2019;t know the type.\" >Unk</th>\n",
       "         <th aria-label=\"Game Score\" data-stat=\"game_score\" scope=\"col\" class=\" poptip center\" data-tip=\"&lt;strong&gt;Game Score&lt;/strong&gt;&lt;br&gt;Developed by Bill James&lt;br&gt;1. Start with 50 points.&lt;br&gt; 2. Add 1 point for each out recorded, so 3 points for every complete inning pitched.&lt;br&gt; 3. Add 2 points for each inning completed after the 4th.&lt;br&gt; 4. Add 1 point for each strikeout.&lt;br&gt; 5. Subtract 2 points for each hit allowed.&lt;br&gt; 6. Subtract 4 points for each earned run allowed.&lt;br&gt; 7. Subtract 2 points for each unearned run allowed.&lt;br&gt; 8. Subtract 1 point for each walk.&lt;br&gt;\" >GSc</th>\n",
       "         <th aria-label=\"IR\" data-stat=\"inherited_runners\" scope=\"col\" class=\" poptip center\" data-tip=\"&lt;strong&gt;Inherited Runners&lt;/strong&gt;&lt;br&gt;Number of runners on base when pitcher entered the game.\" >IR</th>\n",
       "         <th aria-label=\"IS\" data-stat=\"inherited_score\" scope=\"col\" class=\" poptip center\" data-tip=\"&lt;strong&gt;Inherited Score&lt;/strong&gt;&lt;br&gt;Number or percentage of runners on base when pitcher entered the game who subsequently scored.&lt;br&gt;These runners show up in the previous pitcher&amp;#x2019;s ERA.\" >IS</th>\n",
       "         <th aria-label=\"Win Probability Added (WPA)\" data-stat=\"wpa_def\" scope=\"col\" class=\" poptip center\" data-tip=\"&lt;strong&gt;Win Probability Added by Pitcher&lt;/strong&gt;&lt;br&gt;Given average teams, this is the change in probability&lt;br&gt;A change of +/- 1 would indicate one win added or lost.\" data-filter=\"1\" data-name=\"Win Probability Added (WPA)\" >WPA</th>\n",
       "         <th aria-label=\"aLI\" data-stat=\"leverage_index_avg\" scope=\"col\" class=\" poptip hide_non_quals center\" data-tip=\"&lt;strong&gt;Average Leverage Index&lt;/strong&gt;&lt;br&gt;The average pressure the pitcher or batter saw in this game or season.&lt;br&gt;1.0 is average pressure, below 1.0 is low pressure and above 1.0 is high pressure.\" data-filter=\"1\" data-name=\"aLI\" >aLI</th>\n",
       "         <th aria-label=\"Championship WPA (cWPA)\" data-stat=\"cwpa_def\" scope=\"col\" class=\" poptip center\" data-tip=\"&lt;strong&gt;Championship Win Probability Added by Pitcher&lt;/strong&gt;&lt;br&gt;Given average teams, this is the change in probability, displayed in percentage points.&lt;br&gt;A change of +/- 100% would indicate one world series win added or lost.\" data-filter=\"1\" data-name=\"Championship WPA (cWPA)\" >cWPA</th>\n",
       "         <th aria-label=\"acLI\" data-stat=\"cli_avg\" scope=\"col\" class=\" poptip hide_non_quals center\" data-tip=\"&lt;strong&gt;Average Championship Leverage Index&lt;/strong&gt;&lt;br&gt;The average pressure the pitcher or batter saw in this game or season.&lt;br&gt;1.0 is average pressure, below 1.0 is low pressure and above 1.0 is high pressure.\" data-filter=\"1\" data-name=\"acLI\" >acLI</th>\n",
       "         <th aria-label=\"Base-Out Runs Saved (RE24)\" data-stat=\"re24_def\" scope=\"col\" class=\" poptip center\" data-tip=\"&lt;strong&gt;Base-Out Runs Saved&lt;/strong&gt;&lt;br&gt;Given the bases occupied/out situation, how many runs did the pitcher&lt;br&gt;save in the resulting play. Compared to average, so 0 is average, and&lt;br&gt;above 0 is better than average\" data-filter=\"1\" data-name=\"Base-Out Runs Saved (RE24)\" >RE24</th>\n",
       "      </tr>\n",
       "      </thead>\n",
       "<tbody><tr ><th scope=\"row\" class=\"left \" data-append-csv=\"webblo01\" data-stat=\"player\" csk=\"0\" ><a href=\"/players/w/webblo01.shtml\">Logan Webb</a>, L (0-1)</th><td class=\"right endpoint\" data-endpoint=\"/tools/pe.cgi?html=1&game-id=NYA202303300-webblo01\" data-stat=\"IP\" > 6 </td><td class=\"right \" data-stat=\"H\" >4</td><td class=\"right \" data-stat=\"R\" >4</td><td class=\"right \" data-stat=\"ER\" >4</td><td class=\"right \" data-stat=\"BB\" >2</td><td class=\"right \" data-stat=\"SO\" >12</td><td class=\"right \" data-stat=\"HR\" >2</td><td class=\"right \" data-stat=\"earned_run_avg\" >6.00</td><td class=\"right \" data-stat=\"batters_faced\" >24</td><td class=\"right \" data-stat=\"pitches\" >92</td><td class=\"right \" data-stat=\"strikes_total\" >65</td><td class=\"right \" data-stat=\"strikes_contact\" >27</td><td class=\"right \" data-stat=\"strikes_swinging\" >15</td><td class=\"right \" data-stat=\"strikes_looking\" >23</td><td class=\"right \" data-stat=\"inplay_gb_total\" >5</td><td class=\"right \" data-stat=\"inplay_fb_total\" >5</td><td class=\"right \" data-stat=\"inplay_ld\" >1</td><td class=\"right iz\" data-stat=\"inplay_unk\" >0</td><td class=\"right \" data-stat=\"game_score\" >58</td><td class=\"right iz\" data-stat=\"inherited_runners\" ></td><td class=\"right iz\" data-stat=\"inherited_score\" ></td><td class=\"right \" data-stat=\"wpa_def\" >-0.104</td><td class=\"right \" data-stat=\"leverage_index_avg\" > 0.60</td><td class=\"right \" data-stat=\"cwpa_def\" >-0.06%</td><td class=\"right \" data-stat=\"cli_avg\" > 0.55</td><td class=\"right \" data-stat=\"re24_def\" > -0.5</td></tr>\n",
       "<tr ><th scope=\"row\" class=\"left \" data-append-csv=\"brebbjo01\" data-stat=\"player\" csk=\"1\" ><a href=\"/players/b/brebbjo01.shtml\">John Brebbia</a></th><td class=\"right endpoint\" data-endpoint=\"/tools/pe.cgi?html=1&game-id=NYA202303300-brebbjo01\" data-stat=\"IP\" > 1 </td><td class=\"right \" data-stat=\"H\" >3</td><td class=\"right \" data-stat=\"R\" >1</td><td class=\"right \" data-stat=\"ER\" >1</td><td class=\"right iz\" data-stat=\"BB\" >0</td><td class=\"right \" data-stat=\"SO\" >3</td><td class=\"right iz\" data-stat=\"HR\" >0</td><td class=\"right \" data-stat=\"earned_run_avg\" >9.00</td><td class=\"right \" data-stat=\"batters_faced\" >6</td><td class=\"right \" data-stat=\"pitches\" >23</td><td class=\"right \" data-stat=\"strikes_total\" >16</td><td class=\"right \" data-stat=\"strikes_contact\" >6</td><td class=\"right \" data-stat=\"strikes_swinging\" >7</td><td class=\"right \" data-stat=\"strikes_looking\" >3</td><td class=\"right \" data-stat=\"inplay_gb_total\" >1</td><td class=\"right \" data-stat=\"inplay_fb_total\" >2</td><td class=\"right \" data-stat=\"inplay_ld\" >1</td><td class=\"right iz\" data-stat=\"inplay_unk\" >0</td><td class=\"right iz\" data-stat=\"game_score\" ></td><td class=\"right \" data-stat=\"inherited_runners\" >1</td><td class=\"right \" data-stat=\"inherited_score\" >1</td><td class=\"right \" data-stat=\"wpa_def\" >-0.031</td><td class=\"right \" data-stat=\"leverage_index_avg\" > 0.32</td><td class=\"right \" data-stat=\"cwpa_def\" >-0.02%</td><td class=\"right \" data-stat=\"cli_avg\" > 0.29</td><td class=\"right \" data-stat=\"re24_def\" > -1.1</td></tr>\n",
       "<tr ><th scope=\"row\" class=\"left \" data-append-csv=\"rogerty01\" data-stat=\"player\" csk=\"2\" ><a href=\"/players/r/rogerty01.shtml\">Tyler Rogers</a></th><td class=\"right endpoint\" data-endpoint=\"/tools/pe.cgi?html=1&game-id=NYA202303300-rogerty01\" data-stat=\"IP\" > 1 </td><td class=\"right \" data-stat=\"H\" >1</td><td class=\"right iz\" data-stat=\"R\" >0</td><td class=\"right iz\" data-stat=\"ER\" >0</td><td class=\"right iz\" data-stat=\"BB\" >0</td><td class=\"right \" data-stat=\"SO\" >1</td><td class=\"right iz\" data-stat=\"HR\" >0</td><td class=\"right iz\" data-stat=\"earned_run_avg\" >0.00</td><td class=\"right \" data-stat=\"batters_faced\" >4</td><td class=\"right \" data-stat=\"pitches\" >11</td><td class=\"right \" data-stat=\"strikes_total\" >8</td><td class=\"right \" data-stat=\"strikes_contact\" >5</td><td class=\"right iz\" data-stat=\"strikes_swinging\" >0</td><td class=\"right \" data-stat=\"strikes_looking\" >3</td><td class=\"right \" data-stat=\"inplay_gb_total\" >2</td><td class=\"right \" data-stat=\"inplay_fb_total\" >1</td><td class=\"right iz\" data-stat=\"inplay_ld\" >0</td><td class=\"right iz\" data-stat=\"inplay_unk\" >0</td><td class=\"right iz\" data-stat=\"game_score\" ></td><td class=\"right iz\" data-stat=\"inherited_runners\" >0</td><td class=\"right iz\" data-stat=\"inherited_score\" >0</td><td class=\"right \" data-stat=\"wpa_def\" >0.001</td><td class=\"right \" data-stat=\"leverage_index_avg\" > 0.02</td><td class=\"right \" data-stat=\"cwpa_def\" > 0.00%</td><td class=\"right \" data-stat=\"cli_avg\" > 0.02</td><td class=\"right \" data-stat=\"re24_def\" > 0.5</td></tr>\n",
       "</tbody><tfoot><tr ><th scope=\"row\" class=\"left \" data-stat=\"player\" >Team Totals</th><td class=\"right \" data-stat=\"IP\" > 8 </td><td class=\"right \" data-stat=\"H\" >8</td><td class=\"right \" data-stat=\"R\" >5</td><td class=\"right \" data-stat=\"ER\" >5</td><td class=\"right \" data-stat=\"BB\" >2</td><td class=\"right \" data-stat=\"SO\" >16</td><td class=\"right \" data-stat=\"HR\" >2</td><td class=\"right \" data-stat=\"earned_run_avg\" > 5.62</td><td class=\"right \" data-stat=\"batters_faced\" >34</td><td class=\"right \" data-stat=\"pitches\" >126</td><td class=\"right \" data-stat=\"strikes_total\" >89</td><td class=\"right \" data-stat=\"strikes_contact\" >38</td><td class=\"right \" data-stat=\"strikes_swinging\" >22</td><td class=\"right \" data-stat=\"strikes_looking\" >29</td><td class=\"right \" data-stat=\"inplay_gb_total\" >8</td><td class=\"right \" data-stat=\"inplay_fb_total\" >8</td><td class=\"right \" data-stat=\"inplay_ld\" >2</td><td class=\"right iz\" data-stat=\"inplay_unk\" >0</td><td class=\"right \" data-stat=\"game_score\" >58</td><td class=\"right \" data-stat=\"inherited_runners\" >1</td><td class=\"right \" data-stat=\"inherited_score\" >1</td><td class=\"right \" data-stat=\"wpa_def\" >-0.134</td><td class=\"right \" data-stat=\"leverage_index_avg\" > 0.48</td><td class=\"right \" data-stat=\"cwpa_def\" >-0.07%</td><td class=\"right \" data-stat=\"cli_avg\" > 0.44</td><td class=\"right \" data-stat=\"re24_def\" > -1.2</td></tr>\n",
       "\n",
       "   </tfoot>\n",
       "\n",
       "</table>\n",
       "\n",
       "\n",
       "</div>\n",
       "\n",
       "\n",
       "\n",
       "</div>\n",
       "<p class=\"note\">Logan&nbsp;Webb faced 1 batter in the 7th inning.</p>\n",
       "<div id=\"all_NewYorkYankeespitching\" class=\"table_wrapper\">\n",
       "\n",
       "<div class=\"section_heading assoc_NewYorkYankeespitching\" id=\"NewYorkYankeespitching_sh\">\n",
       "  <span class=\"section_anchor\" id=\"NewYorkYankeespitching_link\" data-label=\"New York Yankees\"></span><h2>New York Yankees</h2>    <div class=\"section_heading_text\">\n",
       "      <ul>\n",
       "      </ul>\n",
       "    </div>\n",
       "    \t\t\n",
       "</div>\n",
       "<div class=\"table_container\" id=\"div_NewYorkYankeespitching\">\n",
       "    \n",
       "    <table class=\"sortable stats_table min_width shade_zero\" id=\"NewYorkYankeespitching\" data-cols-to-freeze=\",1\">\n",
       "    <caption>New York Yankees Table</caption>\n",
       "    \n",
       "\n",
       "   <colgroup><col><col><col><col><col><col><col><col><col><col><col><col><col><col><col><col><col><col><col><col><col><col><col><col><col><col><col></colgroup>\n",
       "   <thead>      \n",
       "      <tr>\n",
       "         <th aria-label=\"Pitching\" data-stat=\"player\" scope=\"col\" class=\" poptip sort_default_asc show_partial_when_sorting left\" data-tip=\"&lt;strong&gt;Player Name&lt;/strong&gt;&lt;br&gt;&lt;strong&gt;Bold&lt;/strong&gt; can mean player is active for this team&lt;br&gt;or player has appeared in the majors&lt;br&gt;* means LHP or LHB,&lt;br&gt;# means switch hitter,&lt;br&gt;+ can mean HOFer.\" >Pitching</th>\n",
       "         <th aria-label=\"Innings Pitched\" data-stat=\"IP\" scope=\"col\" class=\" poptip center\" data-tip=\"Innings Pitched\" data-filter=\"1\" data-name=\"Innings Pitched\" >IP</th>\n",
       "         <th aria-label=\"Hits\" data-stat=\"H\" scope=\"col\" class=\" poptip center\" data-tip=\"Hits/Hits Allowed\" >H</th>\n",
       "         <th aria-label=\"Runs Scored\" data-stat=\"R\" scope=\"col\" class=\" poptip center\" data-tip=\"Runs Scored/Allowed\" >R</th>\n",
       "         <th aria-label=\"Earned Runs\" data-stat=\"ER\" scope=\"col\" class=\" poptip center\" data-tip=\"Earned Runs Allowed\" >ER</th>\n",
       "         <th aria-label=\"Bases on Balls\" data-stat=\"BB\" scope=\"col\" class=\" poptip center\" data-tip=\"Bases on Balls/Walks\" >BB</th>\n",
       "         <th aria-label=\"Strikeouts\" data-stat=\"SO\" scope=\"col\" class=\" poptip center\" data-tip=\"Strikeouts\" >SO</th>\n",
       "         <th aria-label=\"Home Runs\" data-stat=\"HR\" scope=\"col\" class=\" poptip center\" data-tip=\"Home Runs Hit/Allowed\" >HR</th>\n",
       "         <th aria-label=\"Earned Run Average\" data-stat=\"earned_run_avg\" scope=\"col\" class=\" poptip sort_default_asc hide_non_quals center\" data-tip=\"&lt;strong&gt;9 * ER / IP&lt;/strong&gt;&lt;br&gt;For recent years, leaders need 1 IP&lt;br&gt;per team game played.&lt;br&gt;Bold indicates lowest ERA using current stats&lt;br&gt;&lt;span class=glimmer&gt;Gold&lt;/span&gt; means awarded ERA title at end of year.\" data-filter=\"1\" data-name=\"Earned Run Average\" >ERA</th>\n",
       "         <th aria-label=\"Batters Faced\" data-stat=\"batters_faced\" scope=\"col\" class=\" poptip center\" data-tip=\"Batters Faced\" >BF</th>\n",
       "         <th aria-label=\"Pit\" data-stat=\"pitches\" scope=\"col\" class=\" poptip center\" data-tip=\"Number of pitches in the PA.\" >Pit</th>\n",
       "         <th aria-label=\"Str\" data-stat=\"strikes_total\" scope=\"col\" class=\" poptip center\" data-tip=\"&lt;strong&gt;Strikes&lt;/strong&gt;&lt;br&gt;Includes both pitches in the zone and those swung at out of the zone.\" >Str</th>\n",
       "         <th aria-label=\"Ctct\" data-stat=\"strikes_contact\" scope=\"col\" class=\" poptip center\" data-tip=\"&lt;strong&gt;Strikes by Contact&lt;/strong&gt;&lt;br&gt;Strikes from foul balls or balls put into play.\" >Ctct</th>\n",
       "         <th aria-label=\"StS\" data-stat=\"strikes_swinging\" scope=\"col\" class=\" poptip center\" data-tip=\"&lt;strong&gt;Strikes Swinging&lt;/strong&gt;&lt;br&gt;Strikes due to a swing and a miss.\" >StS</th>\n",
       "         <th aria-label=\"StL\" data-stat=\"strikes_looking\" scope=\"col\" class=\" poptip center\" data-tip=\"&lt;strong&gt;Strikes Looking&lt;/strong&gt;&lt;br&gt;Strikes called by the umpire.\" >StL</th>\n",
       "         <th aria-label=\"GB\" data-stat=\"inplay_gb_total\" scope=\"col\" class=\" poptip center\" data-tip=\"&lt;strong&gt;Ground Balls&lt;/strong&gt;&lt;br&gt;Includes bunts and all other ground balls.\" >GB</th>\n",
       "         <th aria-label=\"FB\" data-stat=\"inplay_fb_total\" scope=\"col\" class=\" poptip center\" data-tip=\"&lt;strong&gt;Fly Balls&lt;/strong&gt;&lt;br&gt;Includes Fly Balls, Line Drives, and Pop-Ups.\" >FB</th>\n",
       "         <th aria-label=\"LD\" data-stat=\"inplay_ld\" scope=\"col\" class=\" poptip center\" data-tip=\"&lt;strong&gt;Line Drives&lt;/strong&gt;&lt;br&gt;These are double-counted in Fly Balls as well.\" >LD</th>\n",
       "         <th aria-label=\"Unk\" data-stat=\"inplay_unk\" scope=\"col\" class=\" poptip center\" data-tip=\"&lt;strong&gt;Unknown batted ball type&lt;/strong&gt;&lt;br&gt;A ball in play for which we don&amp;#x2019;t know the type.\" >Unk</th>\n",
       "         <th aria-label=\"Game Score\" data-stat=\"game_score\" scope=\"col\" class=\" poptip center\" data-tip=\"&lt;strong&gt;Game Score&lt;/strong&gt;&lt;br&gt;Developed by Bill James&lt;br&gt;1. Start with 50 points.&lt;br&gt; 2. Add 1 point for each out recorded, so 3 points for every complete inning pitched.&lt;br&gt; 3. Add 2 points for each inning completed after the 4th.&lt;br&gt; 4. Add 1 point for each strikeout.&lt;br&gt; 5. Subtract 2 points for each hit allowed.&lt;br&gt; 6. Subtract 4 points for each earned run allowed.&lt;br&gt; 7. Subtract 2 points for each unearned run allowed.&lt;br&gt; 8. Subtract 1 point for each walk.&lt;br&gt;\" >GSc</th>\n",
       "         <th aria-label=\"IR\" data-stat=\"inherited_runners\" scope=\"col\" class=\" poptip center\" data-tip=\"&lt;strong&gt;Inherited Runners&lt;/strong&gt;&lt;br&gt;Number of runners on base when pitcher entered the game.\" >IR</th>\n",
       "         <th aria-label=\"IS\" data-stat=\"inherited_score\" scope=\"col\" class=\" poptip center\" data-tip=\"&lt;strong&gt;Inherited Score&lt;/strong&gt;&lt;br&gt;Number or percentage of runners on base when pitcher entered the game who subsequently scored.&lt;br&gt;These runners show up in the previous pitcher&amp;#x2019;s ERA.\" >IS</th>\n",
       "         <th aria-label=\"Win Probability Added (WPA)\" data-stat=\"wpa_def\" scope=\"col\" class=\" poptip center\" data-tip=\"&lt;strong&gt;Win Probability Added by Pitcher&lt;/strong&gt;&lt;br&gt;Given average teams, this is the change in probability&lt;br&gt;A change of +/- 1 would indicate one win added or lost.\" data-filter=\"1\" data-name=\"Win Probability Added (WPA)\" >WPA</th>\n",
       "         <th aria-label=\"aLI\" data-stat=\"leverage_index_avg\" scope=\"col\" class=\" poptip hide_non_quals center\" data-tip=\"&lt;strong&gt;Average Leverage Index&lt;/strong&gt;&lt;br&gt;The average pressure the pitcher or batter saw in this game or season.&lt;br&gt;1.0 is average pressure, below 1.0 is low pressure and above 1.0 is high pressure.\" data-filter=\"1\" data-name=\"aLI\" >aLI</th>\n",
       "         <th aria-label=\"Championship WPA (cWPA)\" data-stat=\"cwpa_def\" scope=\"col\" class=\" poptip center\" data-tip=\"&lt;strong&gt;Championship Win Probability Added by Pitcher&lt;/strong&gt;&lt;br&gt;Given average teams, this is the change in probability, displayed in percentage points.&lt;br&gt;A change of +/- 100% would indicate one world series win added or lost.\" data-filter=\"1\" data-name=\"Championship WPA (cWPA)\" >cWPA</th>\n",
       "         <th aria-label=\"acLI\" data-stat=\"cli_avg\" scope=\"col\" class=\" poptip hide_non_quals center\" data-tip=\"&lt;strong&gt;Average Championship Leverage Index&lt;/strong&gt;&lt;br&gt;The average pressure the pitcher or batter saw in this game or season.&lt;br&gt;1.0 is average pressure, below 1.0 is low pressure and above 1.0 is high pressure.\" data-filter=\"1\" data-name=\"acLI\" >acLI</th>\n",
       "         <th aria-label=\"Base-Out Runs Saved (RE24)\" data-stat=\"re24_def\" scope=\"col\" class=\" poptip center\" data-tip=\"&lt;strong&gt;Base-Out Runs Saved&lt;/strong&gt;&lt;br&gt;Given the bases occupied/out situation, how many runs did the pitcher&lt;br&gt;save in the resulting play. Compared to average, so 0 is average, and&lt;br&gt;above 0 is better than average\" data-filter=\"1\" data-name=\"Base-Out Runs Saved (RE24)\" >RE24</th>\n",
       "      </tr>\n",
       "      </thead>\n",
       "<tbody><tr ><th scope=\"row\" class=\"left \" data-append-csv=\"colege01\" data-stat=\"player\" csk=\"0\" ><a href=\"/players/c/colege01.shtml\">Gerrit Cole</a>, W (1-0)</th><td class=\"right endpoint\" data-endpoint=\"/tools/pe.cgi?html=1&game-id=NYA202303300-colege01\" data-stat=\"IP\" > 6 </td><td class=\"right \" data-stat=\"H\" >3</td><td class=\"right iz\" data-stat=\"R\" >0</td><td class=\"right iz\" data-stat=\"ER\" >0</td><td class=\"right \" data-stat=\"BB\" >2</td><td class=\"right \" data-stat=\"SO\" >11</td><td class=\"right iz\" data-stat=\"HR\" >0</td><td class=\"right iz\" data-stat=\"earned_run_avg\" >0.00</td><td class=\"right \" data-stat=\"batters_faced\" >22</td><td class=\"right \" data-stat=\"pitches\" >95</td><td class=\"right \" data-stat=\"strikes_total\" >56</td><td class=\"right \" data-stat=\"strikes_contact\" >27</td><td class=\"right \" data-stat=\"strikes_swinging\" >17</td><td class=\"right \" data-stat=\"strikes_looking\" >12</td><td class=\"right \" data-stat=\"inplay_gb_total\" >5</td><td class=\"right \" data-stat=\"inplay_fb_total\" >4</td><td class=\"right \" data-stat=\"inplay_ld\" >3</td><td class=\"right iz\" data-stat=\"inplay_unk\" >0</td><td class=\"right \" data-stat=\"game_score\" >75</td><td class=\"right iz\" data-stat=\"inherited_runners\" ></td><td class=\"right iz\" data-stat=\"inherited_score\" ></td><td class=\"right \" data-stat=\"wpa_def\" >0.306</td><td class=\"right \" data-stat=\"leverage_index_avg\" > 0.98</td><td class=\"right \" data-stat=\"cwpa_def\" > 0.17%</td><td class=\"right \" data-stat=\"cli_avg\" > 0.91</td><td class=\"right \" data-stat=\"re24_def\" > 2.9</td></tr>\n",
       "<tr ><th scope=\"row\" class=\"left \" data-append-csv=\"peralwa01\" data-stat=\"player\" csk=\"1\" ><a href=\"/players/p/peralwa01.shtml\">Wandy Peralta</a>, H (1)</th><td class=\"right endpoint\" data-endpoint=\"/tools/pe.cgi?html=1&game-id=NYA202303300-peralwa01\" data-stat=\"IP\" > 0.2</td><td class=\"right \" data-stat=\"H\" >1</td><td class=\"right iz\" data-stat=\"R\" >0</td><td class=\"right iz\" data-stat=\"ER\" >0</td><td class=\"right iz\" data-stat=\"BB\" >0</td><td class=\"right \" data-stat=\"SO\" >2</td><td class=\"right iz\" data-stat=\"HR\" >0</td><td class=\"right iz\" data-stat=\"earned_run_avg\" >0.00</td><td class=\"right \" data-stat=\"batters_faced\" >3</td><td class=\"right \" data-stat=\"pitches\" >14</td><td class=\"right \" data-stat=\"strikes_total\" >8</td><td class=\"right \" data-stat=\"strikes_contact\" >1</td><td class=\"right \" data-stat=\"strikes_swinging\" >3</td><td class=\"right \" data-stat=\"strikes_looking\" >4</td><td class=\"right iz\" data-stat=\"inplay_gb_total\" >0</td><td class=\"right \" data-stat=\"inplay_fb_total\" >1</td><td class=\"right \" data-stat=\"inplay_ld\" >1</td><td class=\"right iz\" data-stat=\"inplay_unk\" >0</td><td class=\"right iz\" data-stat=\"game_score\" ></td><td class=\"right iz\" data-stat=\"inherited_runners\" >0</td><td class=\"right iz\" data-stat=\"inherited_score\" >0</td><td class=\"right \" data-stat=\"wpa_def\" >0.019</td><td class=\"right \" data-stat=\"leverage_index_avg\" > 0.97</td><td class=\"right \" data-stat=\"cwpa_def\" > 0.01%</td><td class=\"right \" data-stat=\"cli_avg\" > 0.90</td><td class=\"right \" data-stat=\"re24_def\" > 0.2</td></tr>\n",
       "<tr ><th scope=\"row\" class=\"left \" data-append-csv=\"loaisjo01\" data-stat=\"player\" csk=\"2\" ><a href=\"/players/l/loaisjo01.shtml\">Jonathan Loáisiga</a>, H (1)</th><td class=\"right endpoint\" data-endpoint=\"/tools/pe.cgi?html=1&game-id=NYA202303300-loaisjo01\" data-stat=\"IP\" > 0.1</td><td class=\"right iz\" data-stat=\"H\" >0</td><td class=\"right iz\" data-stat=\"R\" >0</td><td class=\"right iz\" data-stat=\"ER\" >0</td><td class=\"right iz\" data-stat=\"BB\" >0</td><td class=\"right iz\" data-stat=\"SO\" >0</td><td class=\"right iz\" data-stat=\"HR\" >0</td><td class=\"right iz\" data-stat=\"earned_run_avg\" >0.00</td><td class=\"right \" data-stat=\"batters_faced\" >1</td><td class=\"right \" data-stat=\"pitches\" >2</td><td class=\"right \" data-stat=\"strikes_total\" >2</td><td class=\"right \" data-stat=\"strikes_contact\" >1</td><td class=\"right iz\" data-stat=\"strikes_swinging\" >0</td><td class=\"right \" data-stat=\"strikes_looking\" >1</td><td class=\"right iz\" data-stat=\"inplay_gb_total\" >0</td><td class=\"right \" data-stat=\"inplay_fb_total\" >1</td><td class=\"right iz\" data-stat=\"inplay_ld\" >0</td><td class=\"right iz\" data-stat=\"inplay_unk\" >0</td><td class=\"right iz\" data-stat=\"game_score\" ></td><td class=\"right \" data-stat=\"inherited_runners\" >1</td><td class=\"right iz\" data-stat=\"inherited_score\" >0</td><td class=\"right \" data-stat=\"wpa_def\" >0.025</td><td class=\"right \" data-stat=\"leverage_index_avg\" > 0.88</td><td class=\"right \" data-stat=\"cwpa_def\" > 0.01%</td><td class=\"right \" data-stat=\"cli_avg\" > 0.81</td><td class=\"right \" data-stat=\"re24_def\" > 0.3</td></tr>\n",
       "<tr ><th scope=\"row\" class=\"left \" data-append-csv=\"marinro01\" data-stat=\"player\" csk=\"3\" ><a href=\"/players/m/marinro01.shtml\">Ron Marinaccio</a></th><td class=\"right endpoint\" data-endpoint=\"/tools/pe.cgi?html=1&game-id=NYA202303300-marinro01\" data-stat=\"IP\" > 2 </td><td class=\"right iz\" data-stat=\"H\" >0</td><td class=\"right iz\" data-stat=\"R\" >0</td><td class=\"right iz\" data-stat=\"ER\" >0</td><td class=\"right \" data-stat=\"BB\" >1</td><td class=\"right \" data-stat=\"SO\" >3</td><td class=\"right iz\" data-stat=\"HR\" >0</td><td class=\"right iz\" data-stat=\"earned_run_avg\" >0.00</td><td class=\"right \" data-stat=\"batters_faced\" >7</td><td class=\"right \" data-stat=\"pitches\" >39</td><td class=\"right \" data-stat=\"strikes_total\" >27</td><td class=\"right \" data-stat=\"strikes_contact\" >20</td><td class=\"right \" data-stat=\"strikes_swinging\" >3</td><td class=\"right \" data-stat=\"strikes_looking\" >4</td><td class=\"right \" data-stat=\"inplay_gb_total\" >2</td><td class=\"right \" data-stat=\"inplay_fb_total\" >1</td><td class=\"right iz\" data-stat=\"inplay_ld\" >0</td><td class=\"right iz\" data-stat=\"inplay_unk\" >0</td><td class=\"right iz\" data-stat=\"game_score\" ></td><td class=\"right iz\" data-stat=\"inherited_runners\" >0</td><td class=\"right iz\" data-stat=\"inherited_score\" >0</td><td class=\"right \" data-stat=\"wpa_def\" >0.017</td><td class=\"right \" data-stat=\"leverage_index_avg\" > 0.13</td><td class=\"right \" data-stat=\"cwpa_def\" > 0.01%</td><td class=\"right \" data-stat=\"cli_avg\" > 0.12</td><td class=\"right \" data-stat=\"re24_def\" > 1.0</td></tr>\n",
       "</tbody><tfoot><tr ><th scope=\"row\" class=\"left \" data-stat=\"player\" >Team Totals</th><td class=\"right \" data-stat=\"IP\" > 9 </td><td class=\"right \" data-stat=\"H\" >4</td><td class=\"right iz\" data-stat=\"R\" >0</td><td class=\"right iz\" data-stat=\"ER\" >0</td><td class=\"right \" data-stat=\"BB\" >3</td><td class=\"right \" data-stat=\"SO\" >16</td><td class=\"right iz\" data-stat=\"HR\" >0</td><td class=\"right \" data-stat=\"earned_run_avg\" > 0.00</td><td class=\"right \" data-stat=\"batters_faced\" >33</td><td class=\"right \" data-stat=\"pitches\" >150</td><td class=\"right \" data-stat=\"strikes_total\" >93</td><td class=\"right \" data-stat=\"strikes_contact\" >49</td><td class=\"right \" data-stat=\"strikes_swinging\" >23</td><td class=\"right \" data-stat=\"strikes_looking\" >21</td><td class=\"right \" data-stat=\"inplay_gb_total\" >7</td><td class=\"right \" data-stat=\"inplay_fb_total\" >7</td><td class=\"right \" data-stat=\"inplay_ld\" >4</td><td class=\"right iz\" data-stat=\"inplay_unk\" >0</td><td class=\"right \" data-stat=\"game_score\" >75</td><td class=\"right \" data-stat=\"inherited_runners\" >1</td><td class=\"right iz\" data-stat=\"inherited_score\" >0</td><td class=\"right \" data-stat=\"wpa_def\" >0.367</td><td class=\"right \" data-stat=\"leverage_index_avg\" > 0.81</td><td class=\"right \" data-stat=\"cwpa_def\" > 0.20%</td><td class=\"right \" data-stat=\"cli_avg\" > 0.75</td><td class=\"right \" data-stat=\"re24_def\" > 4.3</td></tr>\n",
       "\n",
       "   </tfoot>\n",
       "\n",
       "</table>\n",
       "\n",
       "\n",
       "</div>\n",
       "\n",
       "\n",
       "\n",
       "</div>\n",
       "<p class=\"note\"></p><div class=\"indiv_events\"><div>\n",
       "<div><strong>Balks:</strong> Wandy&nbsp;Peralta (1).</div>\n",
       "<div><strong>WP:</strong> None.</div>\n",
       "<div><strong>HBP:</strong> None.</div>\n",
       "<div><strong>IBB:</strong> None.</div>\n",
       "<div><strong>Pickoffs:</strong> None.</div>\n",
       "</div>\n",
       "</div>\n",
       "\t\t\n",
       "    </div>\n",
       "-->\n",
       "</div>\n",
       "<div class=\"section_wrapper setup_commented commented\" id=\"all_1581198871\">\n",
       "<div class=\"section_heading assoc_1581198871\" id=\"1581198871_sh\">\n",
       "<span class=\"section_anchor\" data-label=\"Other Info\" id=\"1581198871_link\"></span><h2>Other Info</h2> <div class=\"section_heading_text\">\n",
       "<ul>\n",
       "</ul>\n",
       "</div>\n",
       "</div><div class=\"placeholder\"></div>\n",
       "<!--     <div class=\"section_content\" id=\"div_1581198871\">\n",
       "\t    <div><strong>Umpires:</strong> HP - Laz Diaz, 1B - Andy Fletcher, 2B - Erich Bacchus, 3B - Mike Estabrook, LF - (none), RF - (none).</div><div><strong>Time of Game:</strong> 2:33.</div>\n",
       "<div><strong>Attendance:</strong> 46,172.</div>\n",
       "<div><strong>Field Condition:</strong> Unknown.</div>\n",
       "<div><strong>Start Time Weather:</strong> 39&deg; F, Wind 13mph from Left to Right, Sunny, No Precipitation.</div>\n",
       "\n",
       "\t\t\n",
       "    </div>\n",
       "-->\n",
       "</div>\n",
       "<!-- fs_btf_2 -->\n",
       "<div class=\"adblock\">\n",
       "<!-- div#fs_fs_btf_2  -->\n",
       "<div align=\"center\" data-freestar-ad=\"__300x250 __970x90\" id=\"div-gpt-ad-728x90-BTF-2\">\n",
       "<script data-cfasync=\"false\" type=\"text/javascript\">\n",
       "    if (sr_detect_ie || sr_detect_edge || Modernizr.adfree) {\n",
       "    }\n",
       "    else {\n",
       "        console.log('push ad:div-gpt-ad-728x90-BTF-2');\n",
       "        freestar.queue.push(function() { googletag.display('div-gpt-ad-728x90-BTF-2'); });\n",
       "    }\n",
       "    </script>\n",
       "</div>\n",
       "<!-- /div.#fs_fs_btf_2 -->\n",
       "<div><a href=\"https://stathead.com/?ref=br&amp;utm_source=web&amp;utm_medium=br&amp;utm_campaign=adfree_callouts\">Become a Stathead &amp; surf this site ad-free.</a></div>\n",
       "</div>\n",
       "<div class=\"grid_wrapper commented\" id=\"all_lineups\">\n",
       "<div class=\"section_heading assoc_lineups\" id=\"lineups_sh\">\n",
       "<span class=\"section_anchor\" data-label=\"Starting Lineups\" id=\"lineups_link\"></span><h2>Starting Lineups</h2> <div class=\"section_heading_text\">\n",
       "<ul>\n",
       "</ul>\n",
       "</div>\n",
       "</div><!-- \t<div data-no-overall-control class=\"data_grid \" id=\"div_lineups\">\n",
       "\t\t\n",
       "\t\t<div class=\"data_grid_group solo\">\n",
       "\t\t\n",
       "\t\t<div id=\"lineups_1\" class=\"data_grid_box\">\n",
       "\t\n",
       "\t<table>\n",
       "\t\t<caption>Giants</caption>\t\t\t\t<tr class=\"\">\n",
       "\t\t\t\t\t\t<td>1</td>\n",
       "\t\t\t\t\t\t<td><a href=\"/players/w/wadela01.shtml\">LaMonte Wade Jr.</a></td>\n",
       "\t\t\t\t\t\t<td>1B</td>\n",
       "\t\t\t\n",
       "\t\t</tr>\n",
       "\t\t\t\t<tr class=\"\">\n",
       "\t\t\t\t\t\t<td>2</td>\n",
       "\t\t\t\t\t\t<td><a href=\"/players/c/confomi01.shtml\">Michael Conforto</a></td>\n",
       "\t\t\t\t\t\t<td>RF</td>\n",
       "\t\t\t\n",
       "\t\t</tr>\n",
       "\t\t\t\t<tr class=\"\">\n",
       "\t\t\t\t\t\t<td>3</td>\n",
       "\t\t\t\t\t\t<td><a href=\"/players/f/florewi01.shtml\">Wilmer Flores</a></td>\n",
       "\t\t\t\t\t\t<td>3B</td>\n",
       "\t\t\t\n",
       "\t\t</tr>\n",
       "\t\t\t\t<tr class=\"\">\n",
       "\t\t\t\t\t\t<td>4</td>\n",
       "\t\t\t\t\t\t<td><a href=\"/players/p/pederjo01.shtml\">Joc Pederson</a></td>\n",
       "\t\t\t\t\t\t<td>DH</td>\n",
       "\t\t\t\n",
       "\t\t</tr>\n",
       "\t\t\t\t<tr class=\"\">\n",
       "\t\t\t\t\t\t<td>5</td>\n",
       "\t\t\t\t\t\t<td><a href=\"/players/y/yastrmi01.shtml\">Mike Yastrzemski</a></td>\n",
       "\t\t\t\t\t\t<td>CF</td>\n",
       "\t\t\t\n",
       "\t\t</tr>\n",
       "\t\t\t\t<tr class=\"\">\n",
       "\t\t\t\t\t\t<td>6</td>\n",
       "\t\t\t\t\t\t<td><a href=\"/players/e/estrath01.shtml\">Thairo Estrada</a></td>\n",
       "\t\t\t\t\t\t<td>2B</td>\n",
       "\t\t\t\n",
       "\t\t</tr>\n",
       "\t\t\t\t<tr class=\"\">\n",
       "\t\t\t\t\t\t<td>7</td>\n",
       "\t\t\t\t\t\t<td><a href=\"/players/c/crawfbr01.shtml\">Brandon Crawford</a></td>\n",
       "\t\t\t\t\t\t<td>SS</td>\n",
       "\t\t\t\n",
       "\t\t</tr>\n",
       "\t\t\t\t<tr class=\"\">\n",
       "\t\t\t\t\t\t<td>8</td>\n",
       "\t\t\t\t\t\t<td><a href=\"/players/s/sabolbl01.shtml\">Blake Sabol</a></td>\n",
       "\t\t\t\t\t\t<td>LF</td>\n",
       "\t\t\t\n",
       "\t\t</tr>\n",
       "\t\t\t\t<tr class=\"\">\n",
       "\t\t\t\t\t\t<td>9</td>\n",
       "\t\t\t\t\t\t<td><a href=\"/players/p/perezro02.shtml\">Roberto Pérez</a></td>\n",
       "\t\t\t\t\t\t<td>C</td>\n",
       "\t\t\t\n",
       "\t\t</tr>\n",
       "\t\t\t\t<tr class=\"\">\n",
       "\t\t\t\t\t\t<td></td>\n",
       "\t\t\t\t\t\t<td>   <a href=\"/players/w/webblo01.shtml\">Logan Webb</a></td>\n",
       "\t\t\t\t\t\t<td>P</td>\n",
       "\t\t\t\n",
       "\t\t</tr>\n",
       "\t\t\t</table>\t\n",
       "</div><div id=\"lineups_2\" class=\"data_grid_box\">\n",
       "\t\n",
       "\t<table>\n",
       "\t\t<caption>Yankees</caption>\t\t\t\t<tr class=\"\">\n",
       "\t\t\t\t\t\t<td>1</td>\n",
       "\t\t\t\t\t\t<td><a href=\"/players/l/lemahdj01.shtml\">DJ LeMahieu</a></td>\n",
       "\t\t\t\t\t\t<td>2B</td>\n",
       "\t\t\t\n",
       "\t\t</tr>\n",
       "\t\t\t\t<tr class=\"\">\n",
       "\t\t\t\t\t\t<td>2</td>\n",
       "\t\t\t\t\t\t<td><a href=\"/players/j/judgeaa01.shtml\">Aaron Judge</a></td>\n",
       "\t\t\t\t\t\t<td>CF</td>\n",
       "\t\t\t\n",
       "\t\t</tr>\n",
       "\t\t\t\t<tr class=\"\">\n",
       "\t\t\t\t\t\t<td>3</td>\n",
       "\t\t\t\t\t\t<td><a href=\"/players/r/rizzoan01.shtml\">Anthony Rizzo</a></td>\n",
       "\t\t\t\t\t\t<td>1B</td>\n",
       "\t\t\t\n",
       "\t\t</tr>\n",
       "\t\t\t\t<tr class=\"\">\n",
       "\t\t\t\t\t\t<td>4</td>\n",
       "\t\t\t\t\t\t<td><a href=\"/players/s/stantmi03.shtml\">Giancarlo Stanton</a></td>\n",
       "\t\t\t\t\t\t<td>RF</td>\n",
       "\t\t\t\n",
       "\t\t</tr>\n",
       "\t\t\t\t<tr class=\"\">\n",
       "\t\t\t\t\t\t<td>5</td>\n",
       "\t\t\t\t\t\t<td><a href=\"/players/d/donaljo02.shtml\">Josh Donaldson</a></td>\n",
       "\t\t\t\t\t\t<td>3B</td>\n",
       "\t\t\t\n",
       "\t\t</tr>\n",
       "\t\t\t\t<tr class=\"\">\n",
       "\t\t\t\t\t\t<td>6</td>\n",
       "\t\t\t\t\t\t<td><a href=\"/players/t/torregl01.shtml\">Gleyber Torres</a></td>\n",
       "\t\t\t\t\t\t<td>DH</td>\n",
       "\t\t\t\n",
       "\t\t</tr>\n",
       "\t\t\t\t<tr class=\"\">\n",
       "\t\t\t\t\t\t<td>7</td>\n",
       "\t\t\t\t\t\t<td><a href=\"/players/c/cabreos01.shtml\">Oswaldo Cabrera</a></td>\n",
       "\t\t\t\t\t\t<td>LF</td>\n",
       "\t\t\t\n",
       "\t\t</tr>\n",
       "\t\t\t\t<tr class=\"\">\n",
       "\t\t\t\t\t\t<td>8</td>\n",
       "\t\t\t\t\t\t<td><a href=\"/players/t/trevijo01.shtml\">Jose Trevino</a></td>\n",
       "\t\t\t\t\t\t<td>C</td>\n",
       "\t\t\t\n",
       "\t\t</tr>\n",
       "\t\t\t\t<tr class=\"\">\n",
       "\t\t\t\t\t\t<td>9</td>\n",
       "\t\t\t\t\t\t<td><a href=\"/players/v/volpean01.shtml\">Anthony Volpe</a></td>\n",
       "\t\t\t\t\t\t<td>SS</td>\n",
       "\t\t\t\n",
       "\t\t</tr>\n",
       "\t\t\t\t<tr class=\"\">\n",
       "\t\t\t\t\t\t<td></td>\n",
       "\t\t\t\t\t\t<td>   <a href=\"/players/c/colege01.shtml\">Gerrit Cole</a></td>\n",
       "\t\t\t\t\t\t<td>P</td>\n",
       "\t\t\t\n",
       "\t\t</tr>\n",
       "\t\t\t</table>\t\n",
       "</div>\n",
       "\n",
       "\t\t</div>\n",
       "\t\t</div>-->\n",
       "</div>\n",
       "<script src=\"https://www.google.com/jsapi\" type=\"text/javascript\"></script>\n",
       "<script type=\"text/javascript\">\n",
       "  var sr_chart = 1;\n",
       "  var sr_chart_data;\n",
       "\n",
       "  function sr_drawChart() {\n",
       "    sr_chart_data.addColumn('number', 'Inning');\n",
       "    sr_chart_data.addColumn('number', 'Win Pct');\n",
       "    sr_chart_data.addColumn({ type: 'string', role: 'tooltip', 'p' : { 'html' : true } }); // text for the above\n",
       "    sr_chart_data.addColumn({ type: 'string', role: 'annotation' }); // for big plays\n",
       "    sr_chart_data.addColumn({ type: 'boolean', role: 'scope' }); // text for the above\n",
       "\n",
       "    var chartData = [[1,0.5,\"Start of game\",null,false],[2,0.54,\"<b>Top 1, 0 out, ---, 3-0 count</b><br>LaMonte Wade Jr. batting against Gerrit Cole<br>SFG: 0, NYY: 0<br>SFG WinExp Start: 50%, End: 54%, Diff: +4%<br>NYY WinExp Start: 50%, End: 46%, Diff: -4%<br>Leverage Index: 0.87<br>Walk<br>SFG: 0, NYY: 0\",null,false],[3,0.5,\"<b>Top 1, 0 out, 1--, 1-2 count</b><br>Michael Conforto batting against Gerrit Cole<br>SFG: 0, NYY: 0<br>SFG WinExp Start: 54%, End: 50%, Diff: -3%<br>NYY WinExp Start: 46%, End: 50%, Diff: +3%<br>Leverage Index: 1.46<br>Strikeout Looking<br>SFG: 0, NYY: 0\",null,false],[4,0.48,\"<b>Top 1, 1 out, 1--, 2-2 count</b><br>Wilmer Flores batting against Gerrit Cole<br>SFG: 0, NYY: 0<br>SFG WinExp Start: 50%, End: 48%, Diff: -3%<br>NYY WinExp Start: 50%, End: 52%, Diff: +3%<br>Leverage Index: 1.15<br>Strikeout Looking<br>SFG: 0, NYY: 0\",null,false],[5,0.45,\"<b>Top 1, 2 out, 1--, 3-2 count</b><br>Joc Pederson batting against Gerrit Cole<br>SFG: 0, NYY: 0<br>SFG WinExp Start: 48%, End: 45%, Diff: -2%<br>NYY WinExp Start: 52%, End: 55%, Diff: +2%<br>Leverage Index: 0.79<br>Strikeout Swinging<br>SFG: 0, NYY: 0\",null,false],[6,0.47,\"<b>Bottom 1, 0 out, ---, 1-2 count</b><br>DJ LeMahieu batting against Logan Webb<br>NYY: 0, SFG: 0<br>SFG WinExp Start: 45%, End: 47%, Diff: +2%<br>NYY WinExp Start: 55%, End: 53%, Diff: -2%<br>Leverage Index: 0.87<br>Strikeout Swinging<br>NYY: 0, SFG: 0\",null,false],[7,0.37,\"<b>Bottom 1, 1 out, ---, 0-1 count</b><br>Aaron Judge batting against Logan Webb<br>NYY: 0, SFG: 0<br>SFG WinExp Start: 47%, End: 37%, Diff: -11%<br>NYY WinExp Start: 53%, End: 63%, Diff: +11%<br>Leverage Index: 0.62<br>Home Run (Fly Ball to Deep CF)<br>NYY: 1, SFG: 0\",null,true],[8,0.35,\"<b>Bottom 1, 1 out, ---, 2-2 count</b><br>Anthony Rizzo batting against Logan Webb<br>NYY: 1, SFG: 0<br>SFG WinExp Start: 37%, End: 35%, Diff: -2%<br>NYY WinExp Start: 63%, End: 65%, Diff: +2%<br>Leverage Index: 0.53<br>Single to LF (Line Drive)<br>NYY: 1, SFG: 0\",null,false],[9,0.37,\"<b>Bottom 1, 1 out, 1--, 1-2 count</b><br>Giancarlo Stanton batting against Logan Webb<br>NYY: 1, SFG: 0<br>SFG WinExp Start: 35%, End: 37%, Diff: +2%<br>NYY WinExp Start: 65%, End: 63%, Diff: -2%<br>Leverage Index: 1.00<br>Strikeout Looking<br>NYY: 1, SFG: 0\",null,false],[10,0.39,\"<b>Bottom 1, 2 out, 1--, 0-2 count</b><br>Josh Donaldson batting against Logan Webb<br>NYY: 1, SFG: 0<br>SFG WinExp Start: 37%, End: 39%, Diff: +2%<br>NYY WinExp Start: 63%, End: 61%, Diff: -2%<br>Leverage Index: 0.70<br>Strikeout Looking<br>NYY: 1, SFG: 0\",null,false],[11,0.37,\"<b>Top 2, 0 out, ---, 2-2 count</b><br>Mike Yastrzemski batting against Gerrit Cole<br>SFG: 0, NYY: 1<br>SFG WinExp Start: 39%, End: 37%, Diff: -2%<br>NYY WinExp Start: 61%, End: 63%, Diff: +2%<br>Leverage Index: 0.97<br>Strikeout Swinging<br>SFG: 0, NYY: 1\",null,false],[12,0.39,\"<b>Top 2, 1 out, ---, 0-1 count</b><br>Thairo Estrada batting against Gerrit Cole<br>SFG: 0, NYY: 1<br>SFG WinExp Start: 37%, End: 39%, Diff: +3%<br>NYY WinExp Start: 63%, End: 61%, Diff: -3%<br>Leverage Index: 0.68<br>Single to CF (Line Drive)<br>SFG: 0, NYY: 1\",null,false],[13,0.36,\"<b>Top 2, 1 out, 1--, 2-2 count</b><br>Brandon Crawford batting against Gerrit Cole<br>SFG: 0, NYY: 1<br>SFG WinExp Start: 39%, End: 36%, Diff: -3%<br>NYY WinExp Start: 61%, End: 64%, Diff: +3%<br>Leverage Index: 1.29<br>Strikeout Swinging<br>SFG: 0, NYY: 1\",null,false],[14,0.37,\"<b>Top 2, 2 out, 1--, 1-1 count</b><br>Blake Sabol batting against Gerrit Cole<br>SFG: 0, NYY: 1<br>SFG WinExp Start: 36%, End: 37%, Diff: +1%<br>NYY WinExp Start: 64%, End: 63%, Diff: -1%<br>Leverage Index: 0.86<br>Estrada Steals 2B<br>SFG: 0, NYY: 1\",null,false],[15,0.34,\"<b>Top 2, 2 out, -2-, 2-2 count</b><br>Blake Sabol batting against Gerrit Cole<br>SFG: 0, NYY: 1<br>SFG WinExp Start: 37%, End: 34%, Diff: -3%<br>NYY WinExp Start: 63%, End: 66%, Diff: +3%<br>Leverage Index: 1.23<br>Strikeout Swinging<br>SFG: 0, NYY: 1\",null,false],[16,0.36,\"<b>Bottom 2, 0 out, ---, 0-0 count</b><br>Gleyber Torres batting against Logan Webb<br>NYY: 1, SFG: 0<br>SFG WinExp Start: 34%, End: 36%, Diff: +2%<br>NYY WinExp Start: 66%, End: 64%, Diff: -2%<br>Leverage Index: 0.76<br>Groundout: SS-1B<br>NYY: 1, SFG: 0\",null,false],[17,0.37,\"<b>Bottom 2, 1 out, ---, 3-2 count</b><br>Oswaldo Cabrera batting against Logan Webb<br>NYY: 1, SFG: 0<br>SFG WinExp Start: 36%, End: 37%, Diff: +1%<br>NYY WinExp Start: 64%, End: 63%, Diff: -1%<br>Leverage Index: 0.56<br>Strikeout Swinging<br>NYY: 1, SFG: 0\",null,false],[18,0.38,\"<b>Bottom 2, 2 out, ---, 1-2 count</b><br>Jose Trevino batting against Logan Webb<br>NYY: 1, SFG: 0<br>SFG WinExp Start: 37%, End: 38%, Diff: +1%<br>NYY WinExp Start: 63%, End: 62%, Diff: -1%<br>Leverage Index: 0.37<br>Strikeout Looking<br>NYY: 1, SFG: 0\",null,false],[19,0.36,\"<b>Top 3, 0 out, ---, 2-2 count</b><br>Roberto Pérez batting against Gerrit Cole<br>SFG: 0, NYY: 1<br>SFG WinExp Start: 38%, End: 36%, Diff: -3%<br>NYY WinExp Start: 62%, End: 64%, Diff: +3%<br>Leverage Index: 1.03<br>Strikeout Looking<br>SFG: 0, NYY: 1\",null,false],[20,0.34,\"<b>Top 3, 1 out, ---, 2-2 count</b><br>LaMonte Wade Jr. batting against Gerrit Cole<br>SFG: 0, NYY: 1<br>SFG WinExp Start: 36%, End: 34%, Diff: -2%<br>NYY WinExp Start: 64%, End: 66%, Diff: +2%<br>Leverage Index: 0.73<br>Groundout: 2B-1B (Deep 2B)<br>SFG: 0, NYY: 1\",null,false],[21,0.33,\"<b>Top 3, 2 out, ---, 2-2 count</b><br>Michael Conforto batting against Gerrit Cole<br>SFG: 0, NYY: 1<br>SFG WinExp Start: 34%, End: 33%, Diff: -1%<br>NYY WinExp Start: 66%, End: 67%, Diff: +1%<br>Leverage Index: 0.46<br>Strikeout Looking<br>SFG: 0, NYY: 1\",null,false],[22,0.29,\"<b>Bottom 3, 0 out, ---, 3-2 count</b><br>Anthony Volpe batting against Logan Webb<br>NYY: 1, SFG: 0<br>SFG WinExp Start: 33%, End: 29%, Diff: -3%<br>NYY WinExp Start: 67%, End: 71%, Diff: +3%<br>Leverage Index: 0.79<br>Walk<br>NYY: 1, SFG: 0\",null,false],[23,0.31,\"<b>Bottom 3, 0 out, 1--, 0-2 count</b><br>DJ LeMahieu batting against Logan Webb<br>NYY: 1, SFG: 0<br>SFG WinExp Start: 29%, End: 31%, Diff: +1%<br>NYY WinExp Start: 71%, End: 69%, Diff: -1%<br>Leverage Index: 1.30<br>Strikeout Looking, Volpe Steals 2B<br>NYY: 1, SFG: 0\",null,false],[24,0.34,\"<b>Bottom 3, 1 out, -2-, 1-2 count</b><br>Aaron Judge batting against Logan Webb<br>NYY: 1, SFG: 0<br>SFG WinExp Start: 31%, End: 34%, Diff: +3%<br>NYY WinExp Start: 69%, End: 66%, Diff: -3%<br>Leverage Index: 1.13<br>Strikeout Swinging<br>NYY: 1, SFG: 0\",null,false],[25,0.37,\"<b>Bottom 3, 2 out, -2-, 3-2 count</b><br>Anthony Rizzo batting against Logan Webb<br>NYY: 1, SFG: 0<br>SFG WinExp Start: 34%, End: 37%, Diff: +3%<br>NYY WinExp Start: 66%, End: 63%, Diff: -3%<br>Leverage Index: 1.10<br>Popfly: 3B (Weak 3B)<br>NYY: 1, SFG: 0\",null,false],[26,0.42,\"<b>Top 4, 0 out, ---, 3-1 count</b><br>Wilmer Flores batting against Gerrit Cole<br>SFG: 0, NYY: 1<br>SFG WinExp Start: 37%, End: 42%, Diff: +5%<br>NYY WinExp Start: 63%, End: 58%, Diff: -5%<br>Leverage Index: 1.14<br>Walk<br>SFG: 0, NYY: 1\",null,false],[27,0.37,\"<b>Top 4, 0 out, 1--, 2-2 count</b><br>Joc Pederson batting against Gerrit Cole<br>SFG: 0, NYY: 1<br>SFG WinExp Start: 42%, End: 37%, Diff: -4%<br>NYY WinExp Start: 58%, End: 63%, Diff: +4%<br>Leverage Index: 1.93<br>Strikeout Swinging<br>SFG: 0, NYY: 1\",null,false],[28,0.34,\"<b>Top 4, 1 out, 1--, 3-2 count</b><br>Mike Yastrzemski batting against Gerrit Cole<br>SFG: 0, NYY: 1<br>SFG WinExp Start: 37%, End: 34%, Diff: -4%<br>NYY WinExp Start: 63%, End: 66%, Diff: +4%<br>Leverage Index: 1.52<br>Strikeout Swinging<br>SFG: 0, NYY: 1\",null,false],[29,0.31,\"<b>Top 4, 2 out, 1--, 0-0 count</b><br>Thairo Estrada batting against Gerrit Cole<br>SFG: 0, NYY: 1<br>SFG WinExp Start: 34%, End: 31%, Diff: -3%<br>NYY WinExp Start: 66%, End: 69%, Diff: +3%<br>Leverage Index: 1.04<br>Groundout: SS-1B<br>SFG: 0, NYY: 1\",null,false],[30,0.33,\"<b>Bottom 4, 0 out, ---, 0-1 count</b><br>Giancarlo Stanton batting against Logan Webb<br>NYY: 1, SFG: 0<br>SFG WinExp Start: 31%, End: 33%, Diff: +2%<br>NYY WinExp Start: 69%, End: 67%, Diff: -2%<br>Leverage Index: 0.82<br>Groundout: SS-1B<br>NYY: 1, SFG: 0\",null,false],[31,0.31,\"<b>Bottom 4, 1 out, ---, 1-1 count</b><br>Josh Donaldson batting against Logan Webb<br>NYY: 1, SFG: 0<br>SFG WinExp Start: 33%, End: 31%, Diff: -2%<br>NYY WinExp Start: 67%, End: 69%, Diff: +2%<br>Leverage Index: 0.59<br>Single to LF (Ground Ball thru SS-3B Hole)<br>NYY: 1, SFG: 0\",null,false],[32,0.14,\"<b>Bottom 4, 1 out, 1--, 0-0 count</b><br>Gleyber Torres batting against Logan Webb<br>NYY: 1, SFG: 0<br>SFG WinExp Start: 31%, End: 14%, Diff: -17%<br>NYY WinExp Start: 69%, End: 86%, Diff: +17%<br>Leverage Index: 1.10<br>Home Run (Fly Ball to Deep RF); Donaldson Scores<br>NYY: 3, SFG: 0\",null,true],[33,0.15,\"<b>Bottom 4, 1 out, ---, 1-2 count</b><br>Oswaldo Cabrera batting against Logan Webb<br>NYY: 3, SFG: 0<br>SFG WinExp Start: 14%, End: 15%, Diff: +1%<br>NYY WinExp Start: 86%, End: 85%, Diff: -1%<br>Leverage Index: 0.28<br>Strikeout Swinging<br>NYY: 3, SFG: 0\",null,false],[34,0.15,\"<b>Bottom 4, 2 out, ---, 1-2 count</b><br>Jose Trevino batting against Logan Webb<br>NYY: 3, SFG: 0<br>SFG WinExp Start: 15%, End: 15%, Diff: +1%<br>NYY WinExp Start: 85%, End: 85%, Diff: -1%<br>Leverage Index: 0.20<br>Strikeout Swinging<br>NYY: 3, SFG: 0\",null,false],[35,0.13,\"<b>Top 5, 0 out, ---, 1-2 count</b><br>Brandon Crawford batting against Gerrit Cole<br>SFG: 0, NYY: 3<br>SFG WinExp Start: 15%, End: 13%, Diff: -2%<br>NYY WinExp Start: 85%, End: 87%, Diff: +2%<br>Leverage Index: 0.88<br>Flyball: LF (Deep LF-CF)<br>SFG: 0, NYY: 3\",null,false],[36,0.12,\"<b>Top 5, 1 out, ---, 1-0 count</b><br>Blake Sabol batting against Gerrit Cole<br>SFG: 0, NYY: 3<br>SFG WinExp Start: 13%, End: 12%, Diff: -1%<br>NYY WinExp Start: 87%, End: 88%, Diff: +1%<br>Leverage Index: 0.59<br>Groundout: 1B-P (2B-1B)<br>SFG: 0, NYY: 3\",null,false],[37,0.13,\"<b>Top 5, 2 out, ---, 1-1 count</b><br>Roberto Pérez batting against Gerrit Cole<br>SFG: 0, NYY: 3<br>SFG WinExp Start: 12%, End: 13%, Diff: +1%<br>NYY WinExp Start: 88%, End: 87%, Diff: -1%<br>Leverage Index: 0.33<br>Single to CF (Line Drive to Deep CF-RF)<br>SFG: 0, NYY: 3\",null,false],[38,0.11,\"<b>Top 5, 2 out, 1--, 2-2 count</b><br>LaMonte Wade Jr. batting against Gerrit Cole<br>SFG: 0, NYY: 3<br>SFG WinExp Start: 13%, End: 11%, Diff: -2%<br>NYY WinExp Start: 87%, End: 89%, Diff: +2%<br>Leverage Index: 0.72<br>Groundout: 1B unassisted (Weak 1B)<br>SFG: 0, NYY: 3\",null,false],[39,0.12,\"<b>Bottom 5, 0 out, ---, 0-1 count</b><br>Anthony Volpe batting against Logan Webb<br>NYY: 3, SFG: 0<br>SFG WinExp Start: 11%, End: 12%, Diff: +1%<br>NYY WinExp Start: 89%, End: 88%, Diff: -1%<br>Leverage Index: 0.34<br>Groundout: 3B-1B (SS-3B Hole)<br>NYY: 3, SFG: 0\",null,false],[40,0.12,\"<b>Bottom 5, 1 out, ---, 0-2 count</b><br>DJ LeMahieu batting against Logan Webb<br>NYY: 3, SFG: 0<br>SFG WinExp Start: 12%, End: 12%, Diff: +1%<br>NYY WinExp Start: 88%, End: 88%, Diff: -1%<br>Leverage Index: 0.25<br>Strikeout Swinging<br>NYY: 3, SFG: 0\",null,false],[41,0.13,\"<b>Bottom 5, 2 out, ---, 2-2 count</b><br>Aaron Judge batting against Logan Webb<br>NYY: 3, SFG: 0<br>SFG WinExp Start: 12%, End: 13%, Diff: +0%<br>NYY WinExp Start: 88%, End: 87%, Diff: 0%<br>Leverage Index: 0.17<br>Strikeout Swinging<br>NYY: 3, SFG: 0\",null,false],[42,0.17,\"<b>Top 6, 0 out, ---, 0-0 count</b><br>Michael Conforto batting against Gerrit Cole<br>SFG: 0, NYY: 3<br>SFG WinExp Start: 13%, End: 17%, Diff: +4%<br>NYY WinExp Start: 87%, End: 83%, Diff: -4%<br>Leverage Index: 0.90<br>Single to LF (Line Drive to LF-CF)<br>SFG: 0, NYY: 3\",null,false],[43,0.09,\"<b>Top 6, 0 out, 1--, 3-2 count</b><br>Wilmer Flores batting against Gerrit Cole<br>SFG: 0, NYY: 3<br>SFG WinExp Start: 17%, End: 9%, Diff: -8%<br>NYY WinExp Start: 83%, End: 91%, Diff: +8%<br>Leverage Index: 1.64<br>Ground Ball Double Play: SS-2B-1B<br>SFG: 0, NYY: 3\",null,false],[44,0.08,\"<b>Top 6, 2 out, ---, 0-2 count</b><br>Joc Pederson batting against Gerrit Cole<br>SFG: 0, NYY: 3<br>SFG WinExp Start: 9%, End: 8%, Diff: -1%<br>NYY WinExp Start: 91%, End: 92%, Diff: +1%<br>Leverage Index: 0.33<br>Strikeout Swinging<br>SFG: 0, NYY: 3\",null,false],[45,0.09,\"<b>Bottom 6, 0 out, ---, 1-1 count</b><br>Anthony Rizzo batting against Logan Webb<br>NYY: 3, SFG: 0<br>SFG WinExp Start: 8%, End: 9%, Diff: +1%<br>NYY WinExp Start: 92%, End: 91%, Diff: -1%<br>Leverage Index: 0.28<br>Groundout: 2B-1B (2B-1B)<br>NYY: 3, SFG: 0\",null,false],[46,0.09,\"<b>Bottom 6, 1 out, ---, 0-2 count</b><br>Giancarlo Stanton batting against Logan Webb<br>NYY: 3, SFG: 0<br>SFG WinExp Start: 9%, End: 9%, Diff: +1%<br>NYY WinExp Start: 91%, End: 91%, Diff: -1%<br>Leverage Index: 0.21<br>Foul Popfly: 1B (1B into Foul Terr.)<br>NYY: 3, SFG: 0\",null,false],[47,0.1,\"<b>Bottom 6, 2 out, ---, 1-2 count</b><br>Josh Donaldson batting against Logan Webb<br>NYY: 3, SFG: 0<br>SFG WinExp Start: 9%, End: 10%, Diff: +0%<br>NYY WinExp Start: 91%, End: 90%, Diff: 0%<br>Leverage Index: 0.14<br>Strikeout Looking<br>NYY: 3, SFG: 0\",null,false],[48,0.08,\"<b>Top 7, 0 out, ---, 3-2 count</b><br>J.D. Davis batting against Wandy Peralta<br>SFG: 0, NYY: 3<br>SFG WinExp Start: 10%, End: 8%, Diff: -2%<br>NYY WinExp Start: 90%, End: 92%, Diff: +2%<br>Leverage Index: 0.89<br>Strikeout Looking<br>SFG: 0, NYY: 3\",null,false],[49,0.1,\"<b>Top 7, 1 out, ---, 1-1 count</b><br>Thairo Estrada batting against Wandy Peralta<br>SFG: 0, NYY: 3<br>SFG WinExp Start: 8%, End: 10%, Diff: +3%<br>NYY WinExp Start: 92%, End: 90%, Diff: -3%<br>Leverage Index: 0.57<br>Single to RF (Line Drive to Deep CF-RF)<br>SFG: 0, NYY: 3\",null,false],[50,0.11,\"<b>Top 7, 1 out, 1--, 1-2 count</b><br>Brandon Crawford batting against Wandy Peralta<br>SFG: 0, NYY: 3<br>SFG WinExp Start: 10%, End: 11%, Diff: +1%<br>NYY WinExp Start: 90%, End: 89%, Diff: -1%<br>Leverage Index: 1.19<br>Balk; Estrada to 2B<br>SFG: 0, NYY: 3\",null,false],[51,0.08,\"<b>Top 7, 1 out, -2-, 2-2 count</b><br>Brandon Crawford batting against Wandy Peralta<br>SFG: 0, NYY: 3<br>SFG WinExp Start: 11%, End: 8%, Diff: -3%<br>NYY WinExp Start: 89%, End: 92%, Diff: +3%<br>Leverage Index: 1.23<br>Strikeout Looking<br>SFG: 0, NYY: 3\",null,false],[52,0.05,\"<b>Top 7, 2 out, -2-, 0-1 count</b><br>David Villar batting against Jonathan Loáisiga<br>SFG: 0, NYY: 3<br>SFG WinExp Start: 8%, End: 5%, Diff: -2%<br>NYY WinExp Start: 92%, End: 95%, Diff: +2%<br>Leverage Index: 0.88<br>Flyball: CF<br>SFG: 0, NYY: 3\",null,false],[53,0.05,\"<b>Bottom 7, 0 out, ---, 3-2 count</b><br>Gleyber Torres batting against Logan Webb<br>NYY: 3, SFG: 0<br>SFG WinExp Start: 5%, End: 5%, Diff: -1%<br>NYY WinExp Start: 95%, End: 95%, Diff: +1%<br>Leverage Index: 0.23<br>Walk<br>NYY: 3, SFG: 0\",null,false],[54,0.05,\"<b>Bottom 7, 0 out, 1--, 2-2 count</b><br>Oswaldo Cabrera batting against John Brebbia<br>NYY: 3, SFG: 0<br>SFG WinExp Start: 5%, End: 5%, Diff: +0%<br>NYY WinExp Start: 95%, End: 95%, Diff: 0%<br>Leverage Index: 0.31<br>Strikeout Swinging, Torres Steals 2B<br>NYY: 3, SFG: 0\",null,false],[55,0.04,\"<b>Bottom 7, 1 out, -2-, 0-0 count</b><br>Jose Trevino batting against John Brebbia<br>NYY: 3, SFG: 0<br>SFG WinExp Start: 5%, End: 4%, Diff: -1%<br>NYY WinExp Start: 95%, End: 96%, Diff: +1%<br>Leverage Index: 0.28<br>Single to LF (Line Drive); Torres to 3B<br>NYY: 3, SFG: 0\",null,false],[56,0.05,\"<b>Bottom 7, 1 out, 1-3, 2-2 count</b><br>Anthony Volpe batting against John Brebbia<br>NYY: 3, SFG: 0<br>SFG WinExp Start: 4%, End: 5%, Diff: +2%<br>NYY WinExp Start: 96%, End: 95%, Diff: -2%<br>Leverage Index: 0.44<br>Strikeout Swinging<br>NYY: 3, SFG: 0\",null,false],[57,0.03,\"<b>Bottom 7, 2 out, 1-3, 0-0 count</b><br>DJ LeMahieu batting against John Brebbia<br>NYY: 3, SFG: 0<br>SFG WinExp Start: 5%, End: 3%, Diff: -3%<br>NYY WinExp Start: 95%, End: 97%, Diff: +3%<br>Leverage Index: 0.42<br>Single to LF (Ground Ball thru SS-3B Hole); Torres Scores; Trevino to 2B<br>NYY: 4, SFG: 0\",null,true],[58,0.01,\"<b>Bottom 7, 2 out, 12-, 2-2 count</b><br>Aaron Judge batting against John Brebbia<br>NYY: 4, SFG: 0<br>SFG WinExp Start: 3%, End: 1%, Diff: -1%<br>NYY WinExp Start: 97%, End: 99%, Diff: +1%<br>Leverage Index: 0.37<br>Single to CF (Fly Ball to Short CF); Trevino Scores; LeMahieu to 3B<br>NYY: 5, SFG: 0\",null,true],[59,0.02,\"<b>Bottom 7, 2 out, 1-3, 1-2 count</b><br>Anthony Rizzo batting against John Brebbia<br>NYY: 5, SFG: 0<br>SFG WinExp Start: 1%, End: 2%, Diff: +0%<br>NYY WinExp Start: 99%, End: 98%, Diff: 0%<br>Leverage Index: 0.11<br>Strikeout Swinging<br>NYY: 5, SFG: 0\",null,false],[60,0.01,\"<b>Top 8, 0 out, ---, 0-2 count</b><br>Matt Beaty batting against Ron Marinaccio<br>SFG: 0, NYY: 5<br>SFG WinExp Start: 2%, End: 1%, Diff: -1%<br>NYY WinExp Start: 98%, End: 99%, Diff: +1%<br>Leverage Index: 0.25<br>Strikeout Swinging<br>SFG: 0, NYY: 5\",null,false],[61,0.01,\"<b>Top 8, 1 out, ---, 1-0 count</b><br>LaMonte Wade Jr. batting against Ron Marinaccio<br>SFG: 0, NYY: 5<br>SFG WinExp Start: 1%, End: 1%, Diff: 0%<br>NYY WinExp Start: 99%, End: 99%, Diff: +0%<br>Leverage Index: 0.13<br>Foul Popfly: C (Behind Home)<br>SFG: 0, NYY: 5\",null,false],[62,0,\"<b>Top 8, 2 out, ---, 2-2 count</b><br>Michael Conforto batting against Ron Marinaccio<br>SFG: 0, NYY: 5<br>SFG WinExp Start: 1%, End: 0%, Diff: 0%<br>NYY WinExp Start: 99%, End: 100%, Diff: +0%<br>Leverage Index: 0.06<br>Groundout: 1B-P (2B-1B)<br>SFG: 0, NYY: 5\",null,false],[63,0,\"<b>Bottom 8, 0 out, ---, 0-1 count</b><br>Giancarlo Stanton batting against Tyler Rogers<br>NYY: 5, SFG: 0<br>SFG WinExp Start: 0%, End: 0%, Diff: 0%<br>NYY WinExp Start: 100%, End: 100%, Diff: +0%<br>Leverage Index: 0.02<br>Single to CF (Ground Ball thru SS-2B)<br>NYY: 5, SFG: 0\",null,false],[64,0,\"<b>Bottom 8, 0 out, 1--, 1-0 count</b><br>Josh Donaldson batting against Tyler Rogers<br>NYY: 5, SFG: 0<br>SFG WinExp Start: 0%, End: 0%, Diff: +0%<br>NYY WinExp Start: 100%, End: 100%, Diff: 0%<br>Leverage Index: 0.01<br>Groundout: P-1B (Front of Home); Florial to 2B<br>NYY: 5, SFG: 0\",null,false],[65,0,\"<b>Bottom 8, 1 out, -2-, 2-1 count</b><br>Gleyber Torres batting against Tyler Rogers<br>NYY: 5, SFG: 0<br>SFG WinExp Start: 0%, End: 0%, Diff: +0%<br>NYY WinExp Start: 100%, End: 100%, Diff: 0%<br>Leverage Index: 0.02<br>Flyball: CF (Deep CF); Florial to 3B<br>NYY: 5, SFG: 0\",null,false],[66,0.01,\"<b>Bottom 8, 2 out, --3, 0-2 count</b><br>Oswaldo Cabrera batting against Tyler Rogers<br>NYY: 5, SFG: 0<br>SFG WinExp Start: 0%, End: 1%, Diff: +0%<br>NYY WinExp Start: 100%, End: 99%, Diff: 0%<br>Leverage Index: 0.04<br>Strikeout Looking<br>NYY: 5, SFG: 0\",null,false],[67,0,\"<b>Top 9, 0 out, ---, 3-2 count</b><br>Wilmer Flores batting against Ron Marinaccio<br>SFG: 0, NYY: 5<br>SFG WinExp Start: 1%, End: 0%, Diff: 0%<br>NYY WinExp Start: 99%, End: 100%, Diff: +0%<br>Leverage Index: 0.15<br>Groundout: SS-1B<br>SFG: 0, NYY: 5\",null,false],[68,0.01,\"<b>Top 9, 1 out, ---, 3-2 count</b><br>Joc Pederson batting against Ron Marinaccio<br>SFG: 0, NYY: 5<br>SFG WinExp Start: 0%, End: 1%, Diff: +0%<br>NYY WinExp Start: 100%, End: 99%, Diff: 0%<br>Leverage Index: 0.11<br>Walk<br>SFG: 0, NYY: 5\",null,false],[69,0,\"<b>Top 9, 1 out, 1--, 1-2 count</b><br>J.D. Davis batting against Ron Marinaccio<br>SFG: 0, NYY: 5<br>SFG WinExp Start: 1%, End: 0%, Diff: 0%<br>NYY WinExp Start: 99%, End: 100%, Diff: +0%<br>Leverage Index: 0.17<br>Strikeout Looking<br>SFG: 0, NYY: 5\",null,false],[70,0,\"<b>Top 9, 2 out, 1--, 1-2 count</b><br>Thairo Estrada batting against Ron Marinaccio<br>SFG: 0, NYY: 5<br>SFG WinExp Start: 0%, End: 0%, Diff: 0%<br>NYY WinExp Start: 100%, End: 100%, Diff: +0%<br>Leverage Index: 0.05<br>Strikeout Looking<br>SFG: 0, NYY: 5\",null,false]];\n",
       "    sr_chart_data.addRows(chartData)\n",
       "  }\n",
       "\n",
       "  var sr_chart_options = {\n",
       "    title: 'Baseball-Reference.com Win Probability - San Francisco Giants vs. New York Yankees, March 30 2023',\n",
       "    titleTextStyle: { fontSize: 12 },\n",
       "    lineWidth: 2,\n",
       "    annotations: { textStyle: { color: 'red', fontSize: 14  }, stemColor: 'black', style: 'line' },\n",
       "    tooltip: { isHtml: true },\n",
       "    legend: { position: 'none'},\n",
       "    width: '100%',\n",
       "    height: '100%',\n",
       "    chartArea: { 'width': '80%', 'height': '80%', top: 30 },\n",
       "    vAxis: { maxValue: 1, minValue: 0, ticks: [{\"v\":0,\"f\":\"NYY\"},{\"v\":0.25,\"f\":\"\"},{\"v\":0.5,\"f\":\"50%\"},{\"v\":0.75,\"f\":\"\"},{\"v\":1,\"f\":\"SFG\"}] },\n",
       "    hAxis: { ticks: [{\"v\":0,\"f\":\"t1\"},{\"v\":5,\"f\":\"b1\"},{\"v\":10,\"f\":\"t2\"},{\"v\":15,\"f\":\"b2\"},{\"v\":18,\"f\":\"t3\"},{\"v\":21,\"f\":\"b3\"},{\"v\":25,\"f\":\"t4\"},{\"v\":29,\"f\":\"b4\"},{\"v\":34,\"f\":\"t5\"},{\"v\":38,\"f\":\"b5\"},{\"v\":41,\"f\":\"t6\"},{\"v\":44,\"f\":\"b6\"},{\"v\":47,\"f\":\"t7\"},{\"v\":52,\"f\":\"b7\"},{\"v\":59,\"f\":\"t8\"},{\"v\":62,\"f\":\"b8\"},{\"v\":66,\"f\":\"t9\"}] },\n",
       "    colors: ['red']\n",
       "  };\n",
       "</script>\n",
       "<div class=\"section_wrapper setup_commented commented\" id=\"all_chart\">\n",
       "<div class=\"section_heading assoc_chart\" id=\"chart_sh\">\n",
       "<span class=\"section_anchor\" data-label=\"Win Probability Chart\" id=\"chart_link\"></span><h2>Win Probability Chart</h2> <div class=\"section_heading_text\">\n",
       "<ul><li><a href=\"/about/wpa.shtml\">Explanation of WPA</a></li><li>Mouse over chart for play descriptions</li>\n",
       "</ul>\n",
       "</div>\n",
       "</div><div class=\"placeholder\"></div>\n",
       "<!--     <div class=\"section_content\" id=\"div_chart\">\n",
       "\t    <div id=\"chart\" data-chart-type=\"SteppedAreaChart\"></div>\n",
       "\t\t\n",
       "    </div><div class=\"footer\">The height of bar indicates the probability of a team winning the game given the current game state.</div>\n",
       "-->\n",
       "</div>\n",
       "<div class=\"table_wrapper setup_commented commented\" id=\"all_top_plays\">\n",
       "<div class=\"section_heading assoc_top_plays\" id=\"top_plays_sh\">\n",
       "<span class=\"section_anchor\" data-label=\"Top 5 Plays\" id=\"top_plays_link\"></span><h2>Top 5 Plays</h2> <div class=\"section_heading_text\">\n",
       "<ul><li><a href=\"/about/wpa.shtml\">wWE and wWPA Explanation</a></li>\n",
       "</ul>\n",
       "</div>\n",
       "</div><div class=\"placeholder\"></div>\n",
       "<!--\n",
       "\n",
       "<div class=\"table_container\" id=\"div_top_plays\">\n",
       "    \n",
       "    <table class=\"sortable stats_table min_width\" id=\"top_plays\" data-cols-to-freeze=\"1,2\" data-toggle-class=\"pitch_sequence\" data-toggle-text=\"Pitches\">\n",
       "    <caption>Top 5 Plays Table</caption>\n",
       "    \n",
       "\n",
       "   <colgroup><col><col><col><col><col><col><col><col><col><col><col><col></colgroup>\n",
       "   <thead>      \n",
       "      <tr>\n",
       "         <th aria-label=\"Inn\" data-stat=\"inning\" scope=\"col\" class=\" poptip sort_default_asc show_partial_when_sorting center\" data-tip=\"b is bottom, and t is top of the inning.\" >Inn</th>\n",
       "         <th aria-label=\"Score\" data-stat=\"score_batting_team\" scope=\"col\" class=\" poptip center\" data-tip=\"Score from the perspective of the batting team.\" >Score</th>\n",
       "         <th aria-label=\"Out\" data-stat=\"outs\" scope=\"col\" class=\" poptip sort_default_asc center\" data-tip=\"Number out at the start of the play.\" >Out</th>\n",
       "         <th aria-label=\"RoB\" data-stat=\"runners_on_bases_pbp\" scope=\"col\" class=\" poptip sort_default_asc center\" data-tip=\"Runners on Base at the start of the play.&lt;br&gt;Click to see the defensive players and runners on base.\" >RoB</th>\n",
       "         <th aria-label=\"Pit(cnt)\" data-stat=\"pitches_pbp\" scope=\"col\" class=\" poptip center\" data-tip=\"&lt;strong&gt;Pitches (Balls-Strikes)&lt;/strong&gt;&lt;br&gt;Pitches Seen in PA with abbreviations&lt;br&gt;Click to see the non-abbreviated pitch-by-pitch sequence&lt;br&gt;&lt;strong&gt;C&lt;/strong&gt;--called strike&lt;br&gt;&lt;strong&gt;S&lt;/strong&gt;--swinging strike&lt;br&gt;&lt;strong&gt;F&lt;/strong&gt;--foul&lt;br&gt;&lt;strong&gt;B&lt;/strong&gt;--ball&lt;br&gt;&lt;strong&gt;X&lt;/strong&gt;--ball put into play by batter&lt;br&gt;&lt;br&gt;&lt;strong&gt;T&lt;/strong&gt;--foul tip&lt;br&gt;&lt;strong&gt;K&lt;/strong&gt;--strike (unknown type)&lt;br&gt;&lt;strong&gt;I&lt;/strong&gt;--intentional ball&lt;br&gt;&lt;strong&gt;H&lt;/strong&gt;--hit batter&lt;br&gt;&lt;strong&gt;L&lt;/strong&gt;--foul bunt&lt;br&gt;&lt;strong&gt;M&lt;/strong&gt;--missed bunt attempt&lt;br&gt;&lt;strong&gt;N&lt;/strong&gt;--no pitch (on balks and interference calls)&lt;br&gt;&lt;strong&gt;O&lt;/strong&gt;--foul tip on bunt&lt;br&gt;&lt;strong&gt;P&lt;/strong&gt;--pitchout&lt;br&gt;&lt;strong&gt;Q&lt;/strong&gt;--swinging on pitchout&lt;br&gt;&lt;strong&gt;R&lt;/strong&gt;--foul ball on pitchout&lt;br&gt;&lt;strong&gt;U&lt;/strong&gt;--unknown or missed pitch&lt;br&gt;&lt;strong&gt;V&lt;/strong&gt;--called ball because pitcher went to his mouth or automatic intentional ball (after 2016)&lt;br&gt;&lt;strong&gt;Y&lt;/strong&gt;--ball put into play on pitchout&lt;br&gt;&lt;strong&gt;1&lt;/strong&gt;--pickoff throw to first&lt;br&gt;&lt;strong&gt;2&lt;/strong&gt;--pickoff throw to second&lt;br&gt;&lt;strong&gt;3&lt;/strong&gt;--pickoff throw to third&lt;br&gt;&lt;strong&gt;&amp;gt;&lt;/strong&gt;--Indicates a runner going on the pitch&lt;br&gt;&lt;strong&gt;+&lt;/strong&gt;--following pickoff throw by the catcher&lt;br&gt;&lt;strong&gt;*&lt;/strong&gt;--indicates the following pitch was blocked by the catcher.&lt;br&gt;&lt;strong&gt;.&lt;/strong&gt;--marker for play not involving the batter\" >Pit(cnt)</th>\n",
       "         <th aria-label=\"R/O\" data-stat=\"runs_outs_result\" scope=\"col\" class=\" poptip center\" data-tip=\"Number runs scored (&lt;strong&gt;R&lt;/strong&gt;) and outs made (&lt;strong&gt;O&lt;/strong&gt;) during the play.\" >R/O</th>\n",
       "         <th aria-label=\"@Bat\" data-stat=\"batting_team_id\" scope=\"col\" class=\" poptip sort_default_asc center\" data-tip=\"The team at bat\" >@Bat</th>\n",
       "         <th aria-label=\"Batter\" data-stat=\"batter\" scope=\"col\" class=\" poptip sort_default_asc center\" >Batter</th>\n",
       "         <th aria-label=\"Pitcher\" data-stat=\"pitcher\" scope=\"col\" class=\" poptip sort_default_asc center\" >Pitcher</th>\n",
       "         <th aria-label=\"wWPA\" data-stat=\"win_probability_added\" scope=\"col\" class=\" poptip center\" data-tip=\"&lt;strong&gt;Winning Team Win Probability Added (or Subtracted)&lt;/strong&gt;&lt;br&gt;Given average teams, this is the change in probability&lt;br&gt; of eventual winner winning the game from the start of this play to the end of the play.\" >wWPA</th>\n",
       "         <th aria-label=\"wWE\" data-stat=\"win_expectancy_post\" scope=\"col\" class=\" poptip center\" data-tip=\"&lt;strong&gt;Winning Team Win Expectancy&lt;/strong&gt;&lt;br&gt;Given average teams, this is the probability&lt;br&gt; of eventual winner winning the game at the end of this play.\" >wWE</th>\n",
       "         <th aria-label=\"Play Description\" data-stat=\"play_desc\" scope=\"col\" class=\" poptip sort_default_asc center\" >Play Description</th>\n",
       "      </tr>\n",
       "      </thead>\n",
       "<tbody><tr id=\"event_31\" class=\" bottom_inning\" ><th scope=\"row\" class=\"left \" data-stat=\"inning\" csk=\"31\" >b4</th><td class=\"left \" data-stat=\"score_batting_team\" >1-0</td><td class=\"right \" data-stat=\"outs\" >1</td><td class=\"left endpoint\" data-endpoint=\"/tools/def.cgi?html=1&game-event=NYA202303300-31\" data-stat=\"runners_on_bases_pbp\" csk=\"1.001\" >1--</td><td class=\"left endpoint\" data-endpoint=\"/tools/pitch.cgi?html=1&game-event=NYA202303300-31\" data-stat=\"pitches_pbp\" >1,(0-0)&nbsp;<span class=\"pitch_sequence\">X</span></td><td class=\"left \" data-stat=\"runs_outs_result\" >RR</td><td class=\"left \" data-stat=\"batting_team_id\" >NYY</td><td class=\"left \" data-stat=\"batter\" csk=\"Torres,Gleyber\" >Gleyber&nbsp;Torres</td><td class=\"left \" data-stat=\"pitcher\" csk=\"Webb,Logan\" >Logan&nbsp;Webb</td><td class=\"right \" data-stat=\"win_probability_added\" >17%</td><td class=\"right \" data-stat=\"win_expectancy_post\" >86%</td><td class=\"left \" data-stat=\"play_desc\" csk=\"23.031\" >Home Run (Fly Ball to Deep RF); Donaldson Scores</td></tr>\n",
       "<tr id=\"event_6\" class=\" bottom_inning\" ><th scope=\"row\" class=\"left \" data-stat=\"inning\" csk=\"6\" >b1</th><td class=\"left \" data-stat=\"score_batting_team\" >0-0</td><td class=\"right \" data-stat=\"outs\" >1</td><td class=\"left endpoint\" data-endpoint=\"/tools/def.cgi?html=1&game-event=NYA202303300-6\" data-stat=\"runners_on_bases_pbp\" csk=\"0.000\" >---</td><td class=\"left endpoint\" data-endpoint=\"/tools/pitch.cgi?html=1&game-event=NYA202303300-6\" data-stat=\"pitches_pbp\" >2,(0-1)&nbsp;<span class=\"pitch_sequence\">CX</span></td><td class=\"left \" data-stat=\"runs_outs_result\" >R</td><td class=\"left \" data-stat=\"batting_team_id\" >NYY</td><td class=\"left \" data-stat=\"batter\" csk=\"Judge,Aaron\" >Aaron&nbsp;Judge</td><td class=\"left \" data-stat=\"pitcher\" csk=\"Webb,Logan\" >Logan&nbsp;Webb</td><td class=\"right \" data-stat=\"win_probability_added\" >11%</td><td class=\"right \" data-stat=\"win_expectancy_post\" >63%</td><td class=\"left \" data-stat=\"play_desc\" csk=\"23.006\" >Home Run (Fly Ball to Deep CF)</td></tr>\n",
       "<tr id=\"event_42\" class=\" top_inning\" ><th scope=\"row\" class=\"left \" data-stat=\"inning\" csk=\"42\" >t6</th><td class=\"left \" data-stat=\"score_batting_team\" >0-3</td><td class=\"right iz\" data-stat=\"outs\" >0</td><td class=\"left endpoint\" data-endpoint=\"/tools/def.cgi?html=1&game-event=NYA202303300-42\" data-stat=\"runners_on_bases_pbp\" csk=\"1.001\" >1--</td><td class=\"left endpoint\" data-endpoint=\"/tools/pitch.cgi?html=1&game-event=NYA202303300-42\" data-stat=\"pitches_pbp\" >6,(3-2)&nbsp;<span class=\"pitch_sequence\">*BCBBFX</span></td><td class=\"left \" data-stat=\"runs_outs_result\" >OO</td><td class=\"left \" data-stat=\"batting_team_id\" >SFG</td><td class=\"left \" data-stat=\"batter\" csk=\"Flores,Wilmer\" >Wilmer&nbsp;Flores</td><td class=\"left \" data-stat=\"pitcher\" csk=\"Cole,Gerrit\" >Gerrit&nbsp;Cole</td><td class=\"right \" data-stat=\"win_probability_added\" >8%</td><td class=\"right \" data-stat=\"win_expectancy_post\" >91%</td><td class=\"left \" data-stat=\"play_desc\" csk=\"2.042\" >Ground Ball Double Play: SS-2B-1B</td></tr>\n",
       "<tr id=\"event_25\" class=\" top_inning\" ><th scope=\"row\" class=\"left \" data-stat=\"inning\" csk=\"25\" >t4</th><td class=\"left \" data-stat=\"score_batting_team\" >0-1</td><td class=\"right iz\" data-stat=\"outs\" >0</td><td class=\"left endpoint\" data-endpoint=\"/tools/def.cgi?html=1&game-event=NYA202303300-25\" data-stat=\"runners_on_bases_pbp\" csk=\"0.000\" >---</td><td class=\"left endpoint\" data-endpoint=\"/tools/pitch.cgi?html=1&game-event=NYA202303300-25\" data-stat=\"pitches_pbp\" >5,(3-1)&nbsp;<span class=\"pitch_sequence\">FBBBB</span></td><td class=\"left iz\" data-stat=\"runs_outs_result\" ></td><td class=\"left \" data-stat=\"batting_team_id\" >SFG</td><td class=\"left \" data-stat=\"batter\" csk=\"Flores,Wilmer\" >Wilmer&nbsp;Flores</td><td class=\"left \" data-stat=\"pitcher\" csk=\"Cole,Gerrit\" >Gerrit&nbsp;Cole</td><td class=\"right \" data-stat=\"win_probability_added\" >-5%</td><td class=\"right \" data-stat=\"win_expectancy_post\" >58%</td><td class=\"left \" data-stat=\"play_desc\" csk=\"14.025\" >Walk</td></tr>\n",
       "<tr id=\"event_26\" class=\" top_inning\" ><th scope=\"row\" class=\"left \" data-stat=\"inning\" csk=\"26\" >t4</th><td class=\"left \" data-stat=\"score_batting_team\" >0-1</td><td class=\"right iz\" data-stat=\"outs\" >0</td><td class=\"left endpoint\" data-endpoint=\"/tools/def.cgi?html=1&game-event=NYA202303300-26\" data-stat=\"runners_on_bases_pbp\" csk=\"1.001\" >1--</td><td class=\"left endpoint\" data-endpoint=\"/tools/pitch.cgi?html=1&game-event=NYA202303300-26\" data-stat=\"pitches_pbp\" >5,(2-2)&nbsp;<span class=\"pitch_sequence\">SFBBS</span></td><td class=\"left \" data-stat=\"runs_outs_result\" >O</td><td class=\"left \" data-stat=\"batting_team_id\" >SFG</td><td class=\"left \" data-stat=\"batter\" csk=\"Pederson,Joc\" >Joc&nbsp;Pederson</td><td class=\"left \" data-stat=\"pitcher\" csk=\"Cole,Gerrit\" >Gerrit&nbsp;Cole</td><td class=\"right \" data-stat=\"win_probability_added\" >4%</td><td class=\"right \" data-stat=\"win_expectancy_post\" >63%</td><td class=\"left \" data-stat=\"play_desc\" csk=\"3.026\" >Strikeout Swinging</td></tr>\n",
       "\n",
       "</table>\n",
       "\n",
       "\n",
       "</div>\n",
       "-->\n",
       "</div>\n",
       "<!-- fs_btf_3 -->\n",
       "<div class=\"adblock\">\n",
       "<!-- div#fs_fs_btf_3  -->\n",
       "<div align=\"center\" data-freestar-ad=\"__300x250 __970x90\" id=\"div-gpt-ad-728x90-BTF-3\">\n",
       "<script data-cfasync=\"false\" type=\"text/javascript\">\n",
       "    if (sr_detect_ie || sr_detect_edge || Modernizr.adfree) {\n",
       "    }\n",
       "    else {\n",
       "        console.log('push ad:div-gpt-ad-728x90-BTF-3');\n",
       "        freestar.queue.push(function() { googletag.display('div-gpt-ad-728x90-BTF-3'); });\n",
       "    }\n",
       "    </script>\n",
       "</div>\n",
       "<!-- /div.#fs_fs_btf_3 -->\n",
       "</div>\n",
       "<!-- CTA_FLAG -->\n",
       "<div class=\"callout light new_stathead_player_highlight stathead_event\">\n",
       "<div class=\"callout_logos\">\n",
       "<a class=\"sh-cta-button\" href=\"\n",
       "  \n",
       "https://stathead.com/sport/baseball/?&amp;utm_medium=sr_xsite&amp;utm_source=br&amp;utm_campaign=2023_03_bnnr_boxes_stathead&amp;utm_content=img_logo\" rel=\"noopener\" target=\"_blank\">\n",
       "<img alt=\"Stathead Logo\" onerror=\"this.src='https://cdn.ssref.net/req/202004233/logos/br-logo.png'; this.onerror = null;\" src=\"https://cdn.ssref.net/req/202004233/logos/stathead-br.svg\"/>\n",
       "</a>\n",
       "<div>POWERED BY</div>\n",
       "<a class=\"sh-cta-button\" href=\"\n",
       "  \n",
       "https://stathead.com/sport/baseball/?&amp;utm_medium=sr_xsite&amp;utm_source=br&amp;utm_campaign=2023_03_bnnr_boxes_stathead&amp;utm_content=img_logo\" rel=\"noopener\" target=\"_blank\">\n",
       "<img alt=\".com Logo\" onerror=\"this.src='https://cdn.ssref.net/req/202004233/logos/br-logo.png'; this.onerror = null;\" src=\"https://cdn.ssref.net/req/202004233/logos/br-logo.svg\"/>\n",
       "</a>\n",
       "</div>\n",
       "<div class=\"new_stathead_player_highlight_content\">\n",
       "<div><b>Looking for something amazing? Uncover the story that stats can tell with Stathead.</b></div>\n",
       "<div class=\"cta\">Search through thousands of plays from baseball history using our Event Finder tool.</div>\n",
       "<div>\n",
       "<a class=\"button\" href=\"\n",
       "  \n",
       "https://stathead.com/sport/baseball/?&amp;utm_medium=sr_xsite&amp;utm_source=br&amp;utm_campaign=2023_03_bnnr_boxes_stathead&amp;utm_content=bttn_cta\" rel=\"noopener\" target=\"_blank\">Try it &amp; get your first month FREE</a>\n",
       "</div>\n",
       "</div>\n",
       "</div>\n",
       "<div class=\"table_wrapper setup_commented commented\" id=\"all_play_by_play\">\n",
       "<div class=\"section_heading assoc_play_by_play\" id=\"play_by_play_sh\">\n",
       "<span class=\"section_anchor\" data-label=\"Play by Play\" id=\"play_by_play_link\"></span><h2>Play by Play</h2> <div class=\"section_heading_text\">\n",
       "<ul><li><button class=\"opener tooltip\" data-class=\"\" data-selector=\"span.pitch_sequence\" data-textclosed=\"View Pitches\" data-textopen=\"Hide Pitches\"><span>View Pitches</span> </button></li><li><a href=\"#explain\">Box Score Explanation</a></li><li><a href=\"/about/wpa.shtml\">wWE and wWPA Explanation</a></li>\n",
       "</ul>\n",
       "</div>\n",
       "</div><div class=\"placeholder\"></div>\n",
       "<!--\n",
       "\n",
       "<div class=\"table_container\" id=\"div_play_by_play\">\n",
       "    \n",
       "    <table class=\"suppress_headers sortable stats_table min_width\" id=\"play_by_play\" data-cols-to-freeze=\"1,2\">\n",
       "    <caption>Play by Play Table</caption>\n",
       "    \n",
       "\n",
       "   <colgroup><col><col><col><col><col><col><col><col><col><col><col><col></colgroup>\n",
       "   <thead>      \n",
       "      <tr>\n",
       "         <th aria-label=\"Inn\" data-stat=\"inning\" scope=\"col\" class=\" poptip sort_default_asc show_partial_when_sorting center\" data-tip=\"b is bottom, and t is top of the inning.\" >Inn</th>\n",
       "         <th aria-label=\"Score\" data-stat=\"score_batting_team\" scope=\"col\" class=\" poptip center\" data-tip=\"Score from the perspective of the batting team.\" >Score</th>\n",
       "         <th aria-label=\"Out\" data-stat=\"outs\" scope=\"col\" class=\" poptip sort_default_asc center\" data-tip=\"Number out at the start of the play.\" >Out</th>\n",
       "         <th aria-label=\"RoB\" data-stat=\"runners_on_bases_pbp\" scope=\"col\" class=\" poptip sort_default_asc center\" data-tip=\"Runners on Base at the start of the play.&lt;br&gt;Click to see the defensive players and runners on base.\" >RoB</th>\n",
       "         <th aria-label=\"Pit(cnt)\" data-stat=\"pitches_pbp\" scope=\"col\" class=\" poptip center\" data-tip=\"&lt;strong&gt;Pitches (Balls-Strikes)&lt;/strong&gt;&lt;br&gt;Pitches Seen in PA with abbreviations&lt;br&gt;Click to see the non-abbreviated pitch-by-pitch sequence&lt;br&gt;&lt;strong&gt;C&lt;/strong&gt;--called strike&lt;br&gt;&lt;strong&gt;S&lt;/strong&gt;--swinging strike&lt;br&gt;&lt;strong&gt;F&lt;/strong&gt;--foul&lt;br&gt;&lt;strong&gt;B&lt;/strong&gt;--ball&lt;br&gt;&lt;strong&gt;X&lt;/strong&gt;--ball put into play by batter&lt;br&gt;&lt;br&gt;&lt;strong&gt;T&lt;/strong&gt;--foul tip&lt;br&gt;&lt;strong&gt;K&lt;/strong&gt;--strike (unknown type)&lt;br&gt;&lt;strong&gt;I&lt;/strong&gt;--intentional ball&lt;br&gt;&lt;strong&gt;H&lt;/strong&gt;--hit batter&lt;br&gt;&lt;strong&gt;L&lt;/strong&gt;--foul bunt&lt;br&gt;&lt;strong&gt;M&lt;/strong&gt;--missed bunt attempt&lt;br&gt;&lt;strong&gt;N&lt;/strong&gt;--no pitch (on balks and interference calls)&lt;br&gt;&lt;strong&gt;O&lt;/strong&gt;--foul tip on bunt&lt;br&gt;&lt;strong&gt;P&lt;/strong&gt;--pitchout&lt;br&gt;&lt;strong&gt;Q&lt;/strong&gt;--swinging on pitchout&lt;br&gt;&lt;strong&gt;R&lt;/strong&gt;--foul ball on pitchout&lt;br&gt;&lt;strong&gt;U&lt;/strong&gt;--unknown or missed pitch&lt;br&gt;&lt;strong&gt;V&lt;/strong&gt;--called ball because pitcher went to his mouth or automatic intentional ball (after 2016)&lt;br&gt;&lt;strong&gt;Y&lt;/strong&gt;--ball put into play on pitchout&lt;br&gt;&lt;strong&gt;1&lt;/strong&gt;--pickoff throw to first&lt;br&gt;&lt;strong&gt;2&lt;/strong&gt;--pickoff throw to second&lt;br&gt;&lt;strong&gt;3&lt;/strong&gt;--pickoff throw to third&lt;br&gt;&lt;strong&gt;&amp;gt;&lt;/strong&gt;--Indicates a runner going on the pitch&lt;br&gt;&lt;strong&gt;+&lt;/strong&gt;--following pickoff throw by the catcher&lt;br&gt;&lt;strong&gt;*&lt;/strong&gt;--indicates the following pitch was blocked by the catcher.&lt;br&gt;&lt;strong&gt;.&lt;/strong&gt;--marker for play not involving the batter\" >Pit(cnt)</th>\n",
       "         <th aria-label=\"R/O\" data-stat=\"runs_outs_result\" scope=\"col\" class=\" poptip center\" data-tip=\"Number runs scored (&lt;strong&gt;R&lt;/strong&gt;) and outs made (&lt;strong&gt;O&lt;/strong&gt;) during the play.\" >R/O</th>\n",
       "         <th aria-label=\"@Bat\" data-stat=\"batting_team_id\" scope=\"col\" class=\" poptip sort_default_asc center\" data-tip=\"The team at bat\" >@Bat</th>\n",
       "         <th aria-label=\"Batter\" data-stat=\"batter\" scope=\"col\" class=\" poptip sort_default_asc center\" >Batter</th>\n",
       "         <th aria-label=\"Pitcher\" data-stat=\"pitcher\" scope=\"col\" class=\" poptip sort_default_asc center\" >Pitcher</th>\n",
       "         <th aria-label=\"wWPA\" data-stat=\"win_probability_added\" scope=\"col\" class=\" poptip center\" data-tip=\"&lt;strong&gt;Winning Team Win Probability Added (or Subtracted)&lt;/strong&gt;&lt;br&gt;Given average teams, this is the change in probability&lt;br&gt; of eventual winner winning the game from the start of this play to the end of the play.\" >wWPA</th>\n",
       "         <th aria-label=\"wWE\" data-stat=\"win_expectancy_post\" scope=\"col\" class=\" poptip center\" data-tip=\"&lt;strong&gt;Winning Team Win Expectancy&lt;/strong&gt;&lt;br&gt;Given average teams, this is the probability&lt;br&gt; of eventual winner winning the game at the end of this play.\" >wWE</th>\n",
       "         <th aria-label=\"Play Description\" data-stat=\"play_desc\" scope=\"col\" class=\" poptip sort_default_asc center\" >Play Description</th>\n",
       "      </tr>\n",
       "      </thead>\n",
       "<tbody><tr class=\"pbp_summary_top\" ><th scope=\"row\" class=\"left \" data-stat=\"inning_summary_12\" colspan=12 csk=\"0.9\" >Top of the 1st, Giants Batting, Tied 0-0, Yankees' Gerrit&nbsp;Cole facing 1-2-3 </th></tr>\n",
       "<tr id=\"event_1\" class=\" top_inning\" ><th scope=\"row\" class=\"left \" data-stat=\"inning\" csk=\"1\" >t1</th><td class=\"left \" data-stat=\"score_batting_team\" >0-0</td><td class=\"right iz\" data-stat=\"outs\" >0</td><td class=\"left endpoint\" data-endpoint=\"/tools/def.cgi?html=1&game-event=NYA202303300-1\" data-stat=\"runners_on_bases_pbp\" csk=\"0.000\" >---</td><td class=\"left endpoint\" data-endpoint=\"/tools/pitch.cgi?html=1&game-event=NYA202303300-1\" data-stat=\"pitches_pbp\" csk=\"4\" >4,(3-0)&nbsp;<span class=\"pitch_sequence\">BBBB</span></td><td class=\"left iz\" data-stat=\"runs_outs_result\" ></td><td class=\"left \" data-stat=\"batting_team_id\" csk=\"SFG.0.001\" >SFG</td><td class=\"left \" data-stat=\"batter\" csk=\"Wade,LaMonte0.001\" >LaMonte&nbsp;Wade&nbsp;Jr.</td><td class=\"left \" data-stat=\"pitcher\" csk=\"Cole,Gerrit0.001\" >Gerrit&nbsp;Cole</td><td class=\"right \" data-stat=\"win_probability_added\" >-4%</td><td class=\"right \" data-stat=\"win_expectancy_post\" >46%</td><td class=\"left \" data-stat=\"play_desc\" csk=\"14.001\" >Walk</td></tr>\n",
       "<tr id=\"event_2\" class=\" top_inning\" ><th scope=\"row\" class=\"left \" data-stat=\"inning\" csk=\"2\" >t1</th><td class=\"left \" data-stat=\"score_batting_team\" >0-0</td><td class=\"right iz\" data-stat=\"outs\" >0</td><td class=\"left endpoint\" data-endpoint=\"/tools/def.cgi?html=1&game-event=NYA202303300-2\" data-stat=\"runners_on_bases_pbp\" csk=\"1.001\" >1--</td><td class=\"left endpoint\" data-endpoint=\"/tools/pitch.cgi?html=1&game-event=NYA202303300-2\" data-stat=\"pitches_pbp\" csk=\"5\" >5,(1-2)&nbsp;<span class=\"pitch_sequence\">FBFFC</span></td><td class=\"left \" data-stat=\"runs_outs_result\" >O</td><td class=\"left \" data-stat=\"batting_team_id\" csk=\"SFG.0.002\" >SFG</td><td class=\"left \" data-stat=\"batter\" csk=\"Conforto,Michael0.002\" >Michael&nbsp;Conforto</td><td class=\"left \" data-stat=\"pitcher\" csk=\"Cole,Gerrit0.002\" >Gerrit&nbsp;Cole</td><td class=\"right \" data-stat=\"win_probability_added\" >3%</td><td class=\"right \" data-stat=\"win_expectancy_post\" >50%</td><td class=\"left \" data-stat=\"play_desc\" csk=\"3.002\" >Strikeout Looking</td></tr>\n",
       "<tr id=\"event_3\" class=\" top_inning\" ><th scope=\"row\" class=\"left \" data-stat=\"inning\" csk=\"3\" >t1</th><td class=\"left \" data-stat=\"score_batting_team\" >0-0</td><td class=\"right \" data-stat=\"outs\" >1</td><td class=\"left endpoint\" data-endpoint=\"/tools/def.cgi?html=1&game-event=NYA202303300-3\" data-stat=\"runners_on_bases_pbp\" csk=\"1.001\" >1--</td><td class=\"left endpoint\" data-endpoint=\"/tools/pitch.cgi?html=1&game-event=NYA202303300-3\" data-stat=\"pitches_pbp\" csk=\"5\" >5,(2-2)&nbsp;<span class=\"pitch_sequence\">CBBFC</span></td><td class=\"left \" data-stat=\"runs_outs_result\" >O</td><td class=\"left \" data-stat=\"batting_team_id\" csk=\"SFG.0.003\" >SFG</td><td class=\"left \" data-stat=\"batter\" csk=\"Flores,Wilmer0.003\" >Wilmer&nbsp;Flores</td><td class=\"left \" data-stat=\"pitcher\" csk=\"Cole,Gerrit0.003\" >Gerrit&nbsp;Cole</td><td class=\"right \" data-stat=\"win_probability_added\" >3%</td><td class=\"right \" data-stat=\"win_expectancy_post\" >52%</td><td class=\"left \" data-stat=\"play_desc\" csk=\"3.003\" >Strikeout Looking</td></tr>\n",
       "<tr id=\"event_4\" class=\" top_inning\" ><th scope=\"row\" class=\"left \" data-stat=\"inning\" csk=\"4\" >t1</th><td class=\"left \" data-stat=\"score_batting_team\" >0-0</td><td class=\"right \" data-stat=\"outs\" >2</td><td class=\"left endpoint\" data-endpoint=\"/tools/def.cgi?html=1&game-event=NYA202303300-4\" data-stat=\"runners_on_bases_pbp\" csk=\"1.001\" >1--</td><td class=\"left endpoint\" data-endpoint=\"/tools/pitch.cgi?html=1&game-event=NYA202303300-4\" data-stat=\"pitches_pbp\" csk=\"7\" >7,(3-2)&nbsp;<span class=\"pitch_sequence\">CB+1BSF1B.>S</span></td><td class=\"left \" data-stat=\"runs_outs_result\" >O</td><td class=\"left \" data-stat=\"batting_team_id\" csk=\"SFG.0.004\" >SFG</td><td class=\"left \" data-stat=\"batter\" csk=\"Pederson,Joc0.004\" >Joc&nbsp;Pederson</td><td class=\"left \" data-stat=\"pitcher\" csk=\"Cole,Gerrit0.004\" >Gerrit&nbsp;Cole</td><td class=\"right \" data-stat=\"win_probability_added\" >2%</td><td class=\"right \" data-stat=\"win_expectancy_post\" >55%</td><td class=\"left \" data-stat=\"play_desc\" csk=\"3.004\" >Strikeout Swinging</td></tr>\n",
       "<tr class=\"pbp_summary_bottom\" ><th scope=\"row\" class=\"left iz\" data-stat=\"inning\" csk=\"4.8\" ></th><td class=\"right iz\" data-stat=\"outs1\" ></td><td class=\"right iz\" data-stat=\"outs2\" ></td><td class=\"right iz\" data-stat=\"outs3\" ></td><td class=\"right iz\" data-stat=\"outs\" ></td><td class=\"right iz\" data-stat=\"outs\" ></td><td class=\"right iz\" data-stat=\"outs\" ></td><td class=\"right iz\" data-stat=\"outs\" ></td><td class=\"right iz\" data-stat=\"outs\" ></td><td class=\"left \" data-stat=\"inning_summary_3\" colspan=3 >0 runs, 0 hits, 0 errors, 1 LOB. Giants 0, Yankees 0.</td></tr>\n",
       "<tr class=\"pbp_summary_top\" ><th scope=\"row\" class=\"left \" data-stat=\"inning_summary_12\" colspan=12 csk=\"4.9\" >Bottom of the 1st, Yankees Batting, Tied 0-0, Giants' Logan&nbsp;Webb facing 1-2-3 </th></tr>\n",
       "<tr id=\"event_5\" class=\" bottom_inning\" ><th scope=\"row\" class=\"left \" data-stat=\"inning\" csk=\"5\" >b1</th><td class=\"left \" data-stat=\"score_batting_team\" >0-0</td><td class=\"right iz\" data-stat=\"outs\" >0</td><td class=\"left endpoint\" data-endpoint=\"/tools/def.cgi?html=1&game-event=NYA202303300-5\" data-stat=\"runners_on_bases_pbp\" csk=\"0.000\" >---</td><td class=\"left endpoint\" data-endpoint=\"/tools/pitch.cgi?html=1&game-event=NYA202303300-5\" data-stat=\"pitches_pbp\" csk=\"4\" >4,(1-2)&nbsp;<span class=\"pitch_sequence\">CBFS</span></td><td class=\"left \" data-stat=\"runs_outs_result\" >O</td><td class=\"left \" data-stat=\"batting_team_id\" csk=\"NYY.0.005\" >NYY</td><td class=\"left \" data-stat=\"batter\" csk=\"LeMahieu,DJ0.005\" >DJ&nbsp;LeMahieu</td><td class=\"left \" data-stat=\"pitcher\" csk=\"Webb,Logan0.005\" >Logan&nbsp;Webb</td><td class=\"right \" data-stat=\"win_probability_added\" >-2%</td><td class=\"right \" data-stat=\"win_expectancy_post\" >53%</td><td class=\"left \" data-stat=\"play_desc\" csk=\"3.005\" >Strikeout Swinging</td></tr>\n",
       "<tr id=\"event_6\" class=\" bottom_inning bold\" ><th scope=\"row\" class=\"left \" data-stat=\"inning\" csk=\"6\" >b1</th><td class=\"left \" data-stat=\"score_batting_team\" >0-0</td><td class=\"right \" data-stat=\"outs\" >1</td><td class=\"left endpoint\" data-endpoint=\"/tools/def.cgi?html=1&game-event=NYA202303300-6\" data-stat=\"runners_on_bases_pbp\" csk=\"0.000\" >---</td><td class=\"left endpoint\" data-endpoint=\"/tools/pitch.cgi?html=1&game-event=NYA202303300-6\" data-stat=\"pitches_pbp\" csk=\"2\" >2,(0-1)&nbsp;<span class=\"pitch_sequence\">CX</span></td><td class=\"left \" data-stat=\"runs_outs_result\" >R</td><td class=\"left \" data-stat=\"batting_team_id\" csk=\"NYY.0.006\" >NYY</td><td class=\"left \" data-stat=\"batter\" csk=\"Judge,Aaron0.006\" >Aaron&nbsp;Judge</td><td class=\"left \" data-stat=\"pitcher\" csk=\"Webb,Logan0.006\" >Logan&nbsp;Webb</td><td class=\"right \" data-stat=\"win_probability_added\" >11%</td><td class=\"right \" data-stat=\"win_expectancy_post\" >63%</td><td class=\"left \" data-stat=\"play_desc\" csk=\"23.006\" >Home Run (Fly Ball to Deep CF)</td></tr>\n",
       "<tr id=\"event_7\" class=\" bottom_inning\" ><th scope=\"row\" class=\"left \" data-stat=\"inning\" csk=\"7\" >b1</th><td class=\"left \" data-stat=\"score_batting_team\" >1-0</td><td class=\"right \" data-stat=\"outs\" >1</td><td class=\"left endpoint\" data-endpoint=\"/tools/def.cgi?html=1&game-event=NYA202303300-7\" data-stat=\"runners_on_bases_pbp\" csk=\"0.000\" >---</td><td class=\"left endpoint\" data-endpoint=\"/tools/pitch.cgi?html=1&game-event=NYA202303300-7\" data-stat=\"pitches_pbp\" csk=\"5\" >5,(2-2)&nbsp;<span class=\"pitch_sequence\">CCBB.X</span></td><td class=\"left iz\" data-stat=\"runs_outs_result\" ></td><td class=\"left \" data-stat=\"batting_team_id\" csk=\"NYY.0.007\" >NYY</td><td class=\"left \" data-stat=\"batter\" csk=\"Rizzo,Anthony0.007\" >Anthony&nbsp;Rizzo</td><td class=\"left \" data-stat=\"pitcher\" csk=\"Webb,Logan0.007\" >Logan&nbsp;Webb</td><td class=\"right \" data-stat=\"win_probability_added\" >2%</td><td class=\"right \" data-stat=\"win_expectancy_post\" >65%</td><td class=\"left \" data-stat=\"play_desc\" csk=\"20.007\" >Single to LF (Line Drive)</td></tr>\n",
       "<tr id=\"event_8\" class=\" bottom_inning\" ><th scope=\"row\" class=\"left \" data-stat=\"inning\" csk=\"8\" >b1</th><td class=\"left \" data-stat=\"score_batting_team\" >1-0</td><td class=\"right \" data-stat=\"outs\" >1</td><td class=\"left endpoint\" data-endpoint=\"/tools/def.cgi?html=1&game-event=NYA202303300-8\" data-stat=\"runners_on_bases_pbp\" csk=\"1.001\" >1--</td><td class=\"left endpoint\" data-endpoint=\"/tools/pitch.cgi?html=1&game-event=NYA202303300-8\" data-stat=\"pitches_pbp\" csk=\"6\" >6,(1-2)&nbsp;<span class=\"pitch_sequence\">CBSFFC</span></td><td class=\"left \" data-stat=\"runs_outs_result\" >O</td><td class=\"left \" data-stat=\"batting_team_id\" csk=\"NYY.0.008\" >NYY</td><td class=\"left \" data-stat=\"batter\" csk=\"Stanton,Giancarlo0.008\" >Giancarlo&nbsp;Stanton</td><td class=\"left \" data-stat=\"pitcher\" csk=\"Webb,Logan0.008\" >Logan&nbsp;Webb</td><td class=\"right \" data-stat=\"win_probability_added\" >-2%</td><td class=\"right \" data-stat=\"win_expectancy_post\" >63%</td><td class=\"left \" data-stat=\"play_desc\" csk=\"3.008\" >Strikeout Looking</td></tr>\n",
       "<tr id=\"event_9\" class=\" bottom_inning\" ><th scope=\"row\" class=\"left \" data-stat=\"inning\" csk=\"9\" >b1</th><td class=\"left \" data-stat=\"score_batting_team\" >1-0</td><td class=\"right \" data-stat=\"outs\" >2</td><td class=\"left endpoint\" data-endpoint=\"/tools/def.cgi?html=1&game-event=NYA202303300-9\" data-stat=\"runners_on_bases_pbp\" csk=\"1.001\" >1--</td><td class=\"left endpoint\" data-endpoint=\"/tools/pitch.cgi?html=1&game-event=NYA202303300-9\" data-stat=\"pitches_pbp\" csk=\"3\" >3,(0-2)&nbsp;<span class=\"pitch_sequence\">CFC</span></td><td class=\"left \" data-stat=\"runs_outs_result\" >O</td><td class=\"left \" data-stat=\"batting_team_id\" csk=\"NYY.0.009\" >NYY</td><td class=\"left \" data-stat=\"batter\" csk=\"Donaldson,Josh0.009\" >Josh&nbsp;Donaldson</td><td class=\"left \" data-stat=\"pitcher\" csk=\"Webb,Logan0.009\" >Logan&nbsp;Webb</td><td class=\"right \" data-stat=\"win_probability_added\" >-2%</td><td class=\"right \" data-stat=\"win_expectancy_post\" >61%</td><td class=\"left \" data-stat=\"play_desc\" csk=\"3.009\" >Strikeout Looking</td></tr>\n",
       "<tr class=\"pbp_summary_bottom\" ><th scope=\"row\" class=\"left iz\" data-stat=\"inning\" csk=\"9.8\" ></th><td class=\"right iz\" data-stat=\"outs1\" ></td><td class=\"right iz\" data-stat=\"outs2\" ></td><td class=\"right iz\" data-stat=\"outs3\" ></td><td class=\"right iz\" data-stat=\"outs\" ></td><td class=\"right iz\" data-stat=\"outs\" ></td><td class=\"right iz\" data-stat=\"outs\" ></td><td class=\"right iz\" data-stat=\"outs\" ></td><td class=\"right iz\" data-stat=\"outs\" ></td><td class=\"left \" data-stat=\"inning_summary_3\" colspan=3 >1 run, 2 hits, 0 errors, 1 LOB. Giants 0, Yankees 1.</td></tr>\n",
       "<tr class=\"pbp_summary_top\" ><th scope=\"row\" class=\"left \" data-stat=\"inning_summary_12\" colspan=12 csk=\"9.9\" >Top of the 2nd, Giants Batting, Behind 0-1, Yankees' Gerrit&nbsp;Cole facing 5-6-7 </th></tr>\n",
       "<tr id=\"event_10\" class=\" top_inning\" ><th scope=\"row\" class=\"left \" data-stat=\"inning\" csk=\"10\" >t2</th><td class=\"left \" data-stat=\"score_batting_team\" >0-1</td><td class=\"right iz\" data-stat=\"outs\" >0</td><td class=\"left endpoint\" data-endpoint=\"/tools/def.cgi?html=1&game-event=NYA202303300-10\" data-stat=\"runners_on_bases_pbp\" csk=\"0.000\" >---</td><td class=\"left endpoint\" data-endpoint=\"/tools/pitch.cgi?html=1&game-event=NYA202303300-10\" data-stat=\"pitches_pbp\" csk=\"5\" >5,(2-2)&nbsp;<span class=\"pitch_sequence\">FBFBS</span></td><td class=\"left \" data-stat=\"runs_outs_result\" >O</td><td class=\"left \" data-stat=\"batting_team_id\" csk=\"SFG.0.01\" >SFG</td><td class=\"left \" data-stat=\"batter\" csk=\"Yastrzemski,Mike0.01\" >Mike&nbsp;Yastrzemski</td><td class=\"left \" data-stat=\"pitcher\" csk=\"Cole,Gerrit0.01\" >Gerrit&nbsp;Cole</td><td class=\"right \" data-stat=\"win_probability_added\" >2%</td><td class=\"right \" data-stat=\"win_expectancy_post\" >63%</td><td class=\"left \" data-stat=\"play_desc\" csk=\"3.01\" >Strikeout Swinging</td></tr>\n",
       "<tr id=\"event_11\" class=\" top_inning\" ><th scope=\"row\" class=\"left \" data-stat=\"inning\" csk=\"11\" >t2</th><td class=\"left \" data-stat=\"score_batting_team\" >0-1</td><td class=\"right \" data-stat=\"outs\" >1</td><td class=\"left endpoint\" data-endpoint=\"/tools/def.cgi?html=1&game-event=NYA202303300-11\" data-stat=\"runners_on_bases_pbp\" csk=\"0.000\" >---</td><td class=\"left endpoint\" data-endpoint=\"/tools/pitch.cgi?html=1&game-event=NYA202303300-11\" data-stat=\"pitches_pbp\" csk=\"2\" >2,(0-1)&nbsp;<span class=\"pitch_sequence\">CX</span></td><td class=\"left iz\" data-stat=\"runs_outs_result\" ></td><td class=\"left \" data-stat=\"batting_team_id\" csk=\"SFG.0.011\" >SFG</td><td class=\"left \" data-stat=\"batter\" csk=\"Estrada,Thairo0.011\" >Thairo&nbsp;Estrada</td><td class=\"left \" data-stat=\"pitcher\" csk=\"Cole,Gerrit0.011\" >Gerrit&nbsp;Cole</td><td class=\"right \" data-stat=\"win_probability_added\" >-3%</td><td class=\"right \" data-stat=\"win_expectancy_post\" >61%</td><td class=\"left \" data-stat=\"play_desc\" csk=\"20.011\" >Single to CF (Line Drive)</td></tr>\n",
       "<tr id=\"event_12\" class=\" top_inning\" ><th scope=\"row\" class=\"left \" data-stat=\"inning\" csk=\"12\" >t2</th><td class=\"left \" data-stat=\"score_batting_team\" >0-1</td><td class=\"right \" data-stat=\"outs\" >1</td><td class=\"left endpoint\" data-endpoint=\"/tools/def.cgi?html=1&game-event=NYA202303300-12\" data-stat=\"runners_on_bases_pbp\" csk=\"1.001\" >1--</td><td class=\"left endpoint\" data-endpoint=\"/tools/pitch.cgi?html=1&game-event=NYA202303300-12\" data-stat=\"pitches_pbp\" csk=\"6\" >6,(2-2)&nbsp;<span class=\"pitch_sequence\">S1SB>FBS</span></td><td class=\"left \" data-stat=\"runs_outs_result\" >O</td><td class=\"left \" data-stat=\"batting_team_id\" csk=\"SFG.0.012\" >SFG</td><td class=\"left \" data-stat=\"batter\" csk=\"Crawford,Brandon0.012\" >Brandon&nbsp;Crawford</td><td class=\"left \" data-stat=\"pitcher\" csk=\"Cole,Gerrit0.012\" >Gerrit&nbsp;Cole</td><td class=\"right \" data-stat=\"win_probability_added\" >3%</td><td class=\"right \" data-stat=\"win_expectancy_post\" >64%</td><td class=\"left \" data-stat=\"play_desc\" csk=\"3.012\" >Strikeout Swinging</td></tr>\n",
       "<tr id=\"event_13\" class=\" top_inning\" ><th scope=\"row\" class=\"left \" data-stat=\"inning\" csk=\"13\" >t2</th><td class=\"left \" data-stat=\"score_batting_team\" >0-1</td><td class=\"right \" data-stat=\"outs\" >2</td><td class=\"left endpoint\" data-endpoint=\"/tools/def.cgi?html=1&game-event=NYA202303300-13\" data-stat=\"runners_on_bases_pbp\" csk=\"1.001\" >1--</td><td class=\"left endpoint\" data-endpoint=\"/tools/pitch.cgi?html=1&game-event=NYA202303300-13\" data-stat=\"pitches_pbp\" csk=\"3\" >3,(1-1)&nbsp;<span class=\"pitch_sequence\">SB>S</span></td><td class=\"left iz\" data-stat=\"runs_outs_result\" ></td><td class=\"left \" data-stat=\"batting_team_id\" csk=\"SFG.0.013\" >SFG</td><td class=\"left \" data-stat=\"batter\" csk=\"Sabol,Blake0.013\" >Blake&nbsp;Sabol</td><td class=\"left \" data-stat=\"pitcher\" csk=\"Cole,Gerrit0.013\" >Gerrit&nbsp;Cole</td><td class=\"right \" data-stat=\"win_probability_added\" >-1%</td><td class=\"right \" data-stat=\"win_expectancy_post\" >63%</td><td class=\"left \" data-stat=\"play_desc\" csk=\"4.013\" >Estrada Steals 2B</td></tr>\n",
       "<tr id=\"event_14\" class=\" top_inning\" ><th scope=\"row\" class=\"left \" data-stat=\"inning\" csk=\"14\" >t2</th><td class=\"left \" data-stat=\"score_batting_team\" >0-1</td><td class=\"right \" data-stat=\"outs\" >2</td><td class=\"left endpoint\" data-endpoint=\"/tools/def.cgi?html=1&game-event=NYA202303300-14\" data-stat=\"runners_on_bases_pbp\" csk=\"1.010\" >-2-</td><td class=\"left endpoint\" data-endpoint=\"/tools/pitch.cgi?html=1&game-event=NYA202303300-14\" data-stat=\"pitches_pbp\" csk=\"5\" >5,(2-2)&nbsp;<span class=\"pitch_sequence\">SB>S.*BS</span></td><td class=\"left \" data-stat=\"runs_outs_result\" >O</td><td class=\"left \" data-stat=\"batting_team_id\" csk=\"SFG.0.014\" >SFG</td><td class=\"left \" data-stat=\"batter\" csk=\"Sabol,Blake0.014\" >Blake&nbsp;Sabol</td><td class=\"left \" data-stat=\"pitcher\" csk=\"Cole,Gerrit0.014\" >Gerrit&nbsp;Cole</td><td class=\"right \" data-stat=\"win_probability_added\" >3%</td><td class=\"right \" data-stat=\"win_expectancy_post\" >66%</td><td class=\"left \" data-stat=\"play_desc\" csk=\"3.014\" >Strikeout Swinging</td></tr>\n",
       "<tr class=\"pbp_summary_bottom\" ><th scope=\"row\" class=\"left iz\" data-stat=\"inning\" csk=\"14.8\" ></th><td class=\"right iz\" data-stat=\"outs1\" ></td><td class=\"right iz\" data-stat=\"outs2\" ></td><td class=\"right iz\" data-stat=\"outs3\" ></td><td class=\"right iz\" data-stat=\"outs\" ></td><td class=\"right iz\" data-stat=\"outs\" ></td><td class=\"right iz\" data-stat=\"outs\" ></td><td class=\"right iz\" data-stat=\"outs\" ></td><td class=\"right iz\" data-stat=\"outs\" ></td><td class=\"left \" data-stat=\"inning_summary_3\" colspan=3 >0 runs, 1 hit, 0 errors, 1 LOB. Giants 0, Yankees 1.</td></tr>\n",
       "<tr class=\"pbp_summary_top\" ><th scope=\"row\" class=\"left \" data-stat=\"inning_summary_12\" colspan=12 csk=\"14.9\" >Bottom of the 2nd, Yankees Batting, Ahead 1-0, Giants' Logan&nbsp;Webb facing 6-7-8 </th></tr>\n",
       "<tr id=\"event_15\" class=\" bottom_inning\" ><th scope=\"row\" class=\"left \" data-stat=\"inning\" csk=\"15\" >b2</th><td class=\"left \" data-stat=\"score_batting_team\" >1-0</td><td class=\"right iz\" data-stat=\"outs\" >0</td><td class=\"left endpoint\" data-endpoint=\"/tools/def.cgi?html=1&game-event=NYA202303300-15\" data-stat=\"runners_on_bases_pbp\" csk=\"0.000\" >---</td><td class=\"left endpoint\" data-endpoint=\"/tools/pitch.cgi?html=1&game-event=NYA202303300-15\" data-stat=\"pitches_pbp\" csk=\"1\" >1,(0-0)&nbsp;<span class=\"pitch_sequence\">X</span></td><td class=\"left \" data-stat=\"runs_outs_result\" >O</td><td class=\"left \" data-stat=\"batting_team_id\" csk=\"NYY.0.015\" >NYY</td><td class=\"left \" data-stat=\"batter\" csk=\"Torres,Gleyber0.015\" >Gleyber&nbsp;Torres</td><td class=\"left \" data-stat=\"pitcher\" csk=\"Webb,Logan0.015\" >Logan&nbsp;Webb</td><td class=\"right \" data-stat=\"win_probability_added\" >-2%</td><td class=\"right \" data-stat=\"win_expectancy_post\" >64%</td><td class=\"left \" data-stat=\"play_desc\" csk=\"2.015\" >Groundout: SS-1B</td></tr>\n",
       "<tr id=\"event_16\" class=\" bottom_inning\" ><th scope=\"row\" class=\"left \" data-stat=\"inning\" csk=\"16\" >b2</th><td class=\"left \" data-stat=\"score_batting_team\" >1-0</td><td class=\"right \" data-stat=\"outs\" >1</td><td class=\"left endpoint\" data-endpoint=\"/tools/def.cgi?html=1&game-event=NYA202303300-16\" data-stat=\"runners_on_bases_pbp\" csk=\"0.000\" >---</td><td class=\"left endpoint\" data-endpoint=\"/tools/pitch.cgi?html=1&game-event=NYA202303300-16\" data-stat=\"pitches_pbp\" csk=\"6\" >6,(3-2)&nbsp;<span class=\"pitch_sequence\">CBCBBS</span></td><td class=\"left \" data-stat=\"runs_outs_result\" >O</td><td class=\"left \" data-stat=\"batting_team_id\" csk=\"NYY.0.016\" >NYY</td><td class=\"left \" data-stat=\"batter\" csk=\"Cabrera,Oswaldo0.016\" >Oswaldo&nbsp;Cabrera</td><td class=\"left \" data-stat=\"pitcher\" csk=\"Webb,Logan0.016\" >Logan&nbsp;Webb</td><td class=\"right \" data-stat=\"win_probability_added\" >-1%</td><td class=\"right \" data-stat=\"win_expectancy_post\" >63%</td><td class=\"left \" data-stat=\"play_desc\" csk=\"3.016\" >Strikeout Swinging</td></tr>\n",
       "<tr id=\"event_17\" class=\" bottom_inning\" ><th scope=\"row\" class=\"left \" data-stat=\"inning\" csk=\"17\" >b2</th><td class=\"left \" data-stat=\"score_batting_team\" >1-0</td><td class=\"right \" data-stat=\"outs\" >2</td><td class=\"left endpoint\" data-endpoint=\"/tools/def.cgi?html=1&game-event=NYA202303300-17\" data-stat=\"runners_on_bases_pbp\" csk=\"0.000\" >---</td><td class=\"left endpoint\" data-endpoint=\"/tools/pitch.cgi?html=1&game-event=NYA202303300-17\" data-stat=\"pitches_pbp\" csk=\"4\" >4,(1-2)&nbsp;<span class=\"pitch_sequence\">BCCC</span></td><td class=\"left \" data-stat=\"runs_outs_result\" >O</td><td class=\"left \" data-stat=\"batting_team_id\" csk=\"NYY.0.017\" >NYY</td><td class=\"left \" data-stat=\"batter\" csk=\"Trevino,Jose0.017\" >Jose&nbsp;Trevino</td><td class=\"left \" data-stat=\"pitcher\" csk=\"Webb,Logan0.017\" >Logan&nbsp;Webb</td><td class=\"right \" data-stat=\"win_probability_added\" >-1%</td><td class=\"right \" data-stat=\"win_expectancy_post\" >62%</td><td class=\"left \" data-stat=\"play_desc\" csk=\"3.017\" >Strikeout Looking</td></tr>\n",
       "<tr class=\"pbp_summary_bottom\" ><th scope=\"row\" class=\"left iz\" data-stat=\"inning\" csk=\"17.8\" ></th><td class=\"right iz\" data-stat=\"outs1\" ></td><td class=\"right iz\" data-stat=\"outs2\" ></td><td class=\"right iz\" data-stat=\"outs3\" ></td><td class=\"right iz\" data-stat=\"outs\" ></td><td class=\"right iz\" data-stat=\"outs\" ></td><td class=\"right iz\" data-stat=\"outs\" ></td><td class=\"right iz\" data-stat=\"outs\" ></td><td class=\"right iz\" data-stat=\"outs\" ></td><td class=\"left \" data-stat=\"inning_summary_3\" colspan=3 >0 runs, 0 hits, 0 errors, 0 LOB. Giants 0, Yankees 1.</td></tr>\n",
       "<tr class=\"pbp_summary_top\" ><th scope=\"row\" class=\"left \" data-stat=\"inning_summary_12\" colspan=12 csk=\"17.9\" >Top of the 3rd, Giants Batting, Behind 0-1, Yankees' Gerrit&nbsp;Cole facing 9-1-2 </th></tr>\n",
       "<tr id=\"event_18\" class=\" top_inning\" ><th scope=\"row\" class=\"left \" data-stat=\"inning\" csk=\"18\" >t3</th><td class=\"left \" data-stat=\"score_batting_team\" >0-1</td><td class=\"right iz\" data-stat=\"outs\" >0</td><td class=\"left endpoint\" data-endpoint=\"/tools/def.cgi?html=1&game-event=NYA202303300-18\" data-stat=\"runners_on_bases_pbp\" csk=\"0.000\" >---</td><td class=\"left endpoint\" data-endpoint=\"/tools/pitch.cgi?html=1&game-event=NYA202303300-18\" data-stat=\"pitches_pbp\" csk=\"5\" >5,(2-2)&nbsp;<span class=\"pitch_sequence\">FBF.BC</span></td><td class=\"left \" data-stat=\"runs_outs_result\" >O</td><td class=\"left \" data-stat=\"batting_team_id\" csk=\"SFG.0.018\" >SFG</td><td class=\"left \" data-stat=\"batter\" csk=\"Pérez,Roberto0.018\" >Roberto&nbsp;Pérez</td><td class=\"left \" data-stat=\"pitcher\" csk=\"Cole,Gerrit0.018\" >Gerrit&nbsp;Cole</td><td class=\"right \" data-stat=\"win_probability_added\" >3%</td><td class=\"right \" data-stat=\"win_expectancy_post\" >64%</td><td class=\"left \" data-stat=\"play_desc\" csk=\"3.018\" >Strikeout Looking</td></tr>\n",
       "<tr id=\"event_19\" class=\" top_inning\" ><th scope=\"row\" class=\"left \" data-stat=\"inning\" csk=\"19\" >t3</th><td class=\"left \" data-stat=\"score_batting_team\" >0-1</td><td class=\"right \" data-stat=\"outs\" >1</td><td class=\"left endpoint\" data-endpoint=\"/tools/def.cgi?html=1&game-event=NYA202303300-19\" data-stat=\"runners_on_bases_pbp\" csk=\"0.000\" >---</td><td class=\"left endpoint\" data-endpoint=\"/tools/pitch.cgi?html=1&game-event=NYA202303300-19\" data-stat=\"pitches_pbp\" csk=\"5\" >5,(2-2)&nbsp;<span class=\"pitch_sequence\">FLBBX</span></td><td class=\"left \" data-stat=\"runs_outs_result\" >O</td><td class=\"left \" data-stat=\"batting_team_id\" csk=\"SFG.0.019\" >SFG</td><td class=\"left \" data-stat=\"batter\" csk=\"Wade,LaMonte0.019\" >LaMonte&nbsp;Wade&nbsp;Jr.</td><td class=\"left \" data-stat=\"pitcher\" csk=\"Cole,Gerrit0.019\" >Gerrit&nbsp;Cole</td><td class=\"right \" data-stat=\"win_probability_added\" >2%</td><td class=\"right \" data-stat=\"win_expectancy_post\" >66%</td><td class=\"left \" data-stat=\"play_desc\" csk=\"2.019\" >Groundout: 2B-1B (Deep 2B)</td></tr>\n",
       "<tr id=\"event_20\" class=\" top_inning\" ><th scope=\"row\" class=\"left \" data-stat=\"inning\" csk=\"20\" >t3</th><td class=\"left \" data-stat=\"score_batting_team\" >0-1</td><td class=\"right \" data-stat=\"outs\" >2</td><td class=\"left endpoint\" data-endpoint=\"/tools/def.cgi?html=1&game-event=NYA202303300-20\" data-stat=\"runners_on_bases_pbp\" csk=\"0.000\" >---</td><td class=\"left endpoint\" data-endpoint=\"/tools/pitch.cgi?html=1&game-event=NYA202303300-20\" data-stat=\"pitches_pbp\" csk=\"5\" >5,(2-2)&nbsp;<span class=\"pitch_sequence\">CBB.FC</span></td><td class=\"left \" data-stat=\"runs_outs_result\" >O</td><td class=\"left \" data-stat=\"batting_team_id\" csk=\"SFG.0.02\" >SFG</td><td class=\"left \" data-stat=\"batter\" csk=\"Conforto,Michael0.02\" >Michael&nbsp;Conforto</td><td class=\"left \" data-stat=\"pitcher\" csk=\"Cole,Gerrit0.02\" >Gerrit&nbsp;Cole</td><td class=\"right \" data-stat=\"win_probability_added\" >1%</td><td class=\"right \" data-stat=\"win_expectancy_post\" >67%</td><td class=\"left \" data-stat=\"play_desc\" csk=\"3.02\" >Strikeout Looking</td></tr>\n",
       "<tr class=\"pbp_summary_bottom\" ><th scope=\"row\" class=\"left iz\" data-stat=\"inning\" csk=\"20.8\" ></th><td class=\"right iz\" data-stat=\"outs1\" ></td><td class=\"right iz\" data-stat=\"outs2\" ></td><td class=\"right iz\" data-stat=\"outs3\" ></td><td class=\"right iz\" data-stat=\"outs\" ></td><td class=\"right iz\" data-stat=\"outs\" ></td><td class=\"right iz\" data-stat=\"outs\" ></td><td class=\"right iz\" data-stat=\"outs\" ></td><td class=\"right iz\" data-stat=\"outs\" ></td><td class=\"left \" data-stat=\"inning_summary_3\" colspan=3 >0 runs, 0 hits, 0 errors, 0 LOB. Giants 0, Yankees 1.</td></tr>\n",
       "<tr class=\"pbp_summary_top\" ><th scope=\"row\" class=\"left \" data-stat=\"inning_summary_12\" colspan=12 csk=\"20.9\" >Bottom of the 3rd, Yankees Batting, Ahead 1-0, Giants' Logan&nbsp;Webb facing 9-1-2 </th></tr>\n",
       "<tr id=\"event_21\" class=\" bottom_inning\" ><th scope=\"row\" class=\"left \" data-stat=\"inning\" csk=\"21\" >b3</th><td class=\"left \" data-stat=\"score_batting_team\" >1-0</td><td class=\"right iz\" data-stat=\"outs\" >0</td><td class=\"left endpoint\" data-endpoint=\"/tools/def.cgi?html=1&game-event=NYA202303300-21\" data-stat=\"runners_on_bases_pbp\" csk=\"0.000\" >---</td><td class=\"left endpoint\" data-endpoint=\"/tools/pitch.cgi?html=1&game-event=NYA202303300-21\" data-stat=\"pitches_pbp\" csk=\"6\" >6,(3-2)&nbsp;<span class=\"pitch_sequence\">FBBCBB</span></td><td class=\"left iz\" data-stat=\"runs_outs_result\" ></td><td class=\"left \" data-stat=\"batting_team_id\" csk=\"NYY.0.021\" >NYY</td><td class=\"left \" data-stat=\"batter\" csk=\"Volpe,Anthony0.021\" >Anthony&nbsp;Volpe</td><td class=\"left \" data-stat=\"pitcher\" csk=\"Webb,Logan0.021\" >Logan&nbsp;Webb</td><td class=\"right \" data-stat=\"win_probability_added\" >3%</td><td class=\"right \" data-stat=\"win_expectancy_post\" >71%</td><td class=\"left \" data-stat=\"play_desc\" csk=\"14.021\" >Walk</td></tr>\n",
       "<tr id=\"event_22\" class=\" bottom_inning\" ><th scope=\"row\" class=\"left \" data-stat=\"inning\" csk=\"22\" >b3</th><td class=\"left \" data-stat=\"score_batting_team\" >1-0</td><td class=\"right iz\" data-stat=\"outs\" >0</td><td class=\"left endpoint\" data-endpoint=\"/tools/def.cgi?html=1&game-event=NYA202303300-22\" data-stat=\"runners_on_bases_pbp\" csk=\"1.001\" >1--</td><td class=\"left endpoint\" data-endpoint=\"/tools/pitch.cgi?html=1&game-event=NYA202303300-22\" data-stat=\"pitches_pbp\" csk=\"4\" >4,(0-2)&nbsp;<span class=\"pitch_sequence\">SF1F>C</span></td><td class=\"left \" data-stat=\"runs_outs_result\" >O</td><td class=\"left \" data-stat=\"batting_team_id\" csk=\"NYY.0.022\" >NYY</td><td class=\"left \" data-stat=\"batter\" csk=\"LeMahieu,DJ0.022\" >DJ&nbsp;LeMahieu</td><td class=\"left \" data-stat=\"pitcher\" csk=\"Webb,Logan0.022\" >Logan&nbsp;Webb</td><td class=\"right \" data-stat=\"win_probability_added\" >-1%</td><td class=\"right \" data-stat=\"win_expectancy_post\" >69%</td><td class=\"left \" data-stat=\"play_desc\" csk=\"3.022\" >Strikeout Looking, Volpe Steals 2B</td></tr>\n",
       "<tr id=\"event_23\" class=\" bottom_inning\" ><th scope=\"row\" class=\"left \" data-stat=\"inning\" csk=\"23\" >b3</th><td class=\"left \" data-stat=\"score_batting_team\" >1-0</td><td class=\"right \" data-stat=\"outs\" >1</td><td class=\"left endpoint\" data-endpoint=\"/tools/def.cgi?html=1&game-event=NYA202303300-23\" data-stat=\"runners_on_bases_pbp\" csk=\"1.010\" >-2-</td><td class=\"left endpoint\" data-endpoint=\"/tools/pitch.cgi?html=1&game-event=NYA202303300-23\" data-stat=\"pitches_pbp\" csk=\"4\" >4,(1-2)&nbsp;<span class=\"pitch_sequence\">CSBS</span></td><td class=\"left \" data-stat=\"runs_outs_result\" >O</td><td class=\"left \" data-stat=\"batting_team_id\" csk=\"NYY.0.023\" >NYY</td><td class=\"left \" data-stat=\"batter\" csk=\"Judge,Aaron0.023\" >Aaron&nbsp;Judge</td><td class=\"left \" data-stat=\"pitcher\" csk=\"Webb,Logan0.023\" >Logan&nbsp;Webb</td><td class=\"right \" data-stat=\"win_probability_added\" >-3%</td><td class=\"right \" data-stat=\"win_expectancy_post\" >66%</td><td class=\"left \" data-stat=\"play_desc\" csk=\"3.023\" >Strikeout Swinging</td></tr>\n",
       "<tr id=\"event_24\" class=\" bottom_inning\" ><th scope=\"row\" class=\"left \" data-stat=\"inning\" csk=\"24\" >b3</th><td class=\"left \" data-stat=\"score_batting_team\" >1-0</td><td class=\"right \" data-stat=\"outs\" >2</td><td class=\"left endpoint\" data-endpoint=\"/tools/def.cgi?html=1&game-event=NYA202303300-24\" data-stat=\"runners_on_bases_pbp\" csk=\"1.010\" >-2-</td><td class=\"left endpoint\" data-endpoint=\"/tools/pitch.cgi?html=1&game-event=NYA202303300-24\" data-stat=\"pitches_pbp\" csk=\"6\" >6,(3-2)&nbsp;<span class=\"pitch_sequence\">BFBFBX</span></td><td class=\"left \" data-stat=\"runs_outs_result\" >O</td><td class=\"left \" data-stat=\"batting_team_id\" csk=\"NYY.0.024\" >NYY</td><td class=\"left \" data-stat=\"batter\" csk=\"Rizzo,Anthony0.024\" >Anthony&nbsp;Rizzo</td><td class=\"left \" data-stat=\"pitcher\" csk=\"Webb,Logan0.024\" >Logan&nbsp;Webb</td><td class=\"right \" data-stat=\"win_probability_added\" >-3%</td><td class=\"right \" data-stat=\"win_expectancy_post\" >63%</td><td class=\"left \" data-stat=\"play_desc\" csk=\"2.024\" >Popfly: 3B (Weak 3B)</td></tr>\n",
       "<tr class=\"pbp_summary_bottom\" ><th scope=\"row\" class=\"left iz\" data-stat=\"inning\" csk=\"24.8\" ></th><td class=\"right iz\" data-stat=\"outs1\" ></td><td class=\"right iz\" data-stat=\"outs2\" ></td><td class=\"right iz\" data-stat=\"outs3\" ></td><td class=\"right iz\" data-stat=\"outs\" ></td><td class=\"right iz\" data-stat=\"outs\" ></td><td class=\"right iz\" data-stat=\"outs\" ></td><td class=\"right iz\" data-stat=\"outs\" ></td><td class=\"right iz\" data-stat=\"outs\" ></td><td class=\"left \" data-stat=\"inning_summary_3\" colspan=3 >0 runs, 0 hits, 0 errors, 1 LOB. Giants 0, Yankees 1.</td></tr>\n",
       "<tr class=\"pbp_summary_top\" ><th scope=\"row\" class=\"left \" data-stat=\"inning_summary_12\" colspan=12 csk=\"24.9\" >Top of the 4th, Giants Batting, Behind 0-1, Yankees' Gerrit&nbsp;Cole facing 3-4-5 </th></tr>\n",
       "<tr id=\"event_25\" class=\" top_inning\" ><th scope=\"row\" class=\"left \" data-stat=\"inning\" csk=\"25\" >t4</th><td class=\"left \" data-stat=\"score_batting_team\" >0-1</td><td class=\"right iz\" data-stat=\"outs\" >0</td><td class=\"left endpoint\" data-endpoint=\"/tools/def.cgi?html=1&game-event=NYA202303300-25\" data-stat=\"runners_on_bases_pbp\" csk=\"0.000\" >---</td><td class=\"left endpoint\" data-endpoint=\"/tools/pitch.cgi?html=1&game-event=NYA202303300-25\" data-stat=\"pitches_pbp\" csk=\"5\" >5,(3-1)&nbsp;<span class=\"pitch_sequence\">FBBBB</span></td><td class=\"left iz\" data-stat=\"runs_outs_result\" ></td><td class=\"left \" data-stat=\"batting_team_id\" csk=\"SFG.0.025\" >SFG</td><td class=\"left \" data-stat=\"batter\" csk=\"Flores,Wilmer0.025\" >Wilmer&nbsp;Flores</td><td class=\"left \" data-stat=\"pitcher\" csk=\"Cole,Gerrit0.025\" >Gerrit&nbsp;Cole</td><td class=\"right \" data-stat=\"win_probability_added\" >-5%</td><td class=\"right \" data-stat=\"win_expectancy_post\" >58%</td><td class=\"left \" data-stat=\"play_desc\" csk=\"14.025\" >Walk</td></tr>\n",
       "<tr id=\"event_26\" class=\" top_inning\" ><th scope=\"row\" class=\"left \" data-stat=\"inning\" csk=\"26\" >t4</th><td class=\"left \" data-stat=\"score_batting_team\" >0-1</td><td class=\"right iz\" data-stat=\"outs\" >0</td><td class=\"left endpoint\" data-endpoint=\"/tools/def.cgi?html=1&game-event=NYA202303300-26\" data-stat=\"runners_on_bases_pbp\" csk=\"1.001\" >1--</td><td class=\"left endpoint\" data-endpoint=\"/tools/pitch.cgi?html=1&game-event=NYA202303300-26\" data-stat=\"pitches_pbp\" csk=\"5\" >5,(2-2)&nbsp;<span class=\"pitch_sequence\">SFBBS</span></td><td class=\"left \" data-stat=\"runs_outs_result\" >O</td><td class=\"left \" data-stat=\"batting_team_id\" csk=\"SFG.0.026\" >SFG</td><td class=\"left \" data-stat=\"batter\" csk=\"Pederson,Joc0.026\" >Joc&nbsp;Pederson</td><td class=\"left \" data-stat=\"pitcher\" csk=\"Cole,Gerrit0.026\" >Gerrit&nbsp;Cole</td><td class=\"right \" data-stat=\"win_probability_added\" >4%</td><td class=\"right \" data-stat=\"win_expectancy_post\" >63%</td><td class=\"left \" data-stat=\"play_desc\" csk=\"3.026\" >Strikeout Swinging</td></tr>\n",
       "<tr id=\"event_27\" class=\" top_inning\" ><th scope=\"row\" class=\"left \" data-stat=\"inning\" csk=\"27\" >t4</th><td class=\"left \" data-stat=\"score_batting_team\" >0-1</td><td class=\"right \" data-stat=\"outs\" >1</td><td class=\"left endpoint\" data-endpoint=\"/tools/def.cgi?html=1&game-event=NYA202303300-27\" data-stat=\"runners_on_bases_pbp\" csk=\"1.001\" >1--</td><td class=\"left endpoint\" data-endpoint=\"/tools/pitch.cgi?html=1&game-event=NYA202303300-27\" data-stat=\"pitches_pbp\" csk=\"6\" >6,(3-2)&nbsp;<span class=\"pitch_sequence\">BBSSBS</span></td><td class=\"left \" data-stat=\"runs_outs_result\" >O</td><td class=\"left \" data-stat=\"batting_team_id\" csk=\"SFG.0.027\" >SFG</td><td class=\"left \" data-stat=\"batter\" csk=\"Yastrzemski,Mike0.027\" >Mike&nbsp;Yastrzemski</td><td class=\"left \" data-stat=\"pitcher\" csk=\"Cole,Gerrit0.027\" >Gerrit&nbsp;Cole</td><td class=\"right \" data-stat=\"win_probability_added\" >4%</td><td class=\"right \" data-stat=\"win_expectancy_post\" >66%</td><td class=\"left \" data-stat=\"play_desc\" csk=\"3.027\" >Strikeout Swinging</td></tr>\n",
       "<tr id=\"event_28\" class=\" top_inning\" ><th scope=\"row\" class=\"left \" data-stat=\"inning\" csk=\"28\" >t4</th><td class=\"left \" data-stat=\"score_batting_team\" >0-1</td><td class=\"right \" data-stat=\"outs\" >2</td><td class=\"left endpoint\" data-endpoint=\"/tools/def.cgi?html=1&game-event=NYA202303300-28\" data-stat=\"runners_on_bases_pbp\" csk=\"1.001\" >1--</td><td class=\"left endpoint\" data-endpoint=\"/tools/pitch.cgi?html=1&game-event=NYA202303300-28\" data-stat=\"pitches_pbp\" csk=\"1\" >1,(0-0)&nbsp;<span class=\"pitch_sequence\">X</span></td><td class=\"left \" data-stat=\"runs_outs_result\" >O</td><td class=\"left \" data-stat=\"batting_team_id\" csk=\"SFG.0.028\" >SFG</td><td class=\"left \" data-stat=\"batter\" csk=\"Estrada,Thairo0.028\" >Thairo&nbsp;Estrada</td><td class=\"left \" data-stat=\"pitcher\" csk=\"Cole,Gerrit0.028\" >Gerrit&nbsp;Cole</td><td class=\"right \" data-stat=\"win_probability_added\" >3%</td><td class=\"right \" data-stat=\"win_expectancy_post\" >69%</td><td class=\"left \" data-stat=\"play_desc\" csk=\"2.028\" >Groundout: SS-1B</td></tr>\n",
       "<tr class=\"pbp_summary_bottom\" ><th scope=\"row\" class=\"left iz\" data-stat=\"inning\" csk=\"28.8\" ></th><td class=\"right iz\" data-stat=\"outs1\" ></td><td class=\"right iz\" data-stat=\"outs2\" ></td><td class=\"right iz\" data-stat=\"outs3\" ></td><td class=\"right iz\" data-stat=\"outs\" ></td><td class=\"right iz\" data-stat=\"outs\" ></td><td class=\"right iz\" data-stat=\"outs\" ></td><td class=\"right iz\" data-stat=\"outs\" ></td><td class=\"right iz\" data-stat=\"outs\" ></td><td class=\"left \" data-stat=\"inning_summary_3\" colspan=3 >0 runs, 0 hits, 0 errors, 1 LOB. Giants 0, Yankees 1.</td></tr>\n",
       "<tr class=\"pbp_summary_top\" ><th scope=\"row\" class=\"left \" data-stat=\"inning_summary_12\" colspan=12 csk=\"28.9\" >Bottom of the 4th, Yankees Batting, Ahead 1-0, Giants' Logan&nbsp;Webb facing 4-5-6 </th></tr>\n",
       "<tr id=\"event_29\" class=\" bottom_inning\" ><th scope=\"row\" class=\"left \" data-stat=\"inning\" csk=\"29\" >b4</th><td class=\"left \" data-stat=\"score_batting_team\" >1-0</td><td class=\"right iz\" data-stat=\"outs\" >0</td><td class=\"left endpoint\" data-endpoint=\"/tools/def.cgi?html=1&game-event=NYA202303300-29\" data-stat=\"runners_on_bases_pbp\" csk=\"0.000\" >---</td><td class=\"left endpoint\" data-endpoint=\"/tools/pitch.cgi?html=1&game-event=NYA202303300-29\" data-stat=\"pitches_pbp\" csk=\"2\" >2,(0-1)&nbsp;<span class=\"pitch_sequence\">CX</span></td><td class=\"left \" data-stat=\"runs_outs_result\" >O</td><td class=\"left \" data-stat=\"batting_team_id\" csk=\"NYY.0.029\" >NYY</td><td class=\"left \" data-stat=\"batter\" csk=\"Stanton,Giancarlo0.029\" >Giancarlo&nbsp;Stanton</td><td class=\"left \" data-stat=\"pitcher\" csk=\"Webb,Logan0.029\" >Logan&nbsp;Webb</td><td class=\"right \" data-stat=\"win_probability_added\" >-2%</td><td class=\"right \" data-stat=\"win_expectancy_post\" >67%</td><td class=\"left \" data-stat=\"play_desc\" csk=\"2.029\" >Groundout: SS-1B</td></tr>\n",
       "<tr id=\"event_30\" class=\" bottom_inning\" ><th scope=\"row\" class=\"left \" data-stat=\"inning\" csk=\"30\" >b4</th><td class=\"left \" data-stat=\"score_batting_team\" >1-0</td><td class=\"right \" data-stat=\"outs\" >1</td><td class=\"left endpoint\" data-endpoint=\"/tools/def.cgi?html=1&game-event=NYA202303300-30\" data-stat=\"runners_on_bases_pbp\" csk=\"0.000\" >---</td><td class=\"left endpoint\" data-endpoint=\"/tools/pitch.cgi?html=1&game-event=NYA202303300-30\" data-stat=\"pitches_pbp\" csk=\"3\" >3,(1-1)&nbsp;<span class=\"pitch_sequence\">BCX</span></td><td class=\"left iz\" data-stat=\"runs_outs_result\" ></td><td class=\"left \" data-stat=\"batting_team_id\" csk=\"NYY.0.03\" >NYY</td><td class=\"left \" data-stat=\"batter\" csk=\"Donaldson,Josh0.03\" >Josh&nbsp;Donaldson</td><td class=\"left \" data-stat=\"pitcher\" csk=\"Webb,Logan0.03\" >Logan&nbsp;Webb</td><td class=\"right \" data-stat=\"win_probability_added\" >2%</td><td class=\"right \" data-stat=\"win_expectancy_post\" >69%</td><td class=\"left \" data-stat=\"play_desc\" csk=\"20.03\" >Single to LF (Ground Ball thru SS-3B Hole)</td></tr>\n",
       "<tr id=\"event_31\" class=\" bottom_inning bold\" ><th scope=\"row\" class=\"left \" data-stat=\"inning\" csk=\"31\" >b4</th><td class=\"left \" data-stat=\"score_batting_team\" >1-0</td><td class=\"right \" data-stat=\"outs\" >1</td><td class=\"left endpoint\" data-endpoint=\"/tools/def.cgi?html=1&game-event=NYA202303300-31\" data-stat=\"runners_on_bases_pbp\" csk=\"1.001\" >1--</td><td class=\"left endpoint\" data-endpoint=\"/tools/pitch.cgi?html=1&game-event=NYA202303300-31\" data-stat=\"pitches_pbp\" csk=\"1\" >1,(0-0)&nbsp;<span class=\"pitch_sequence\">X</span></td><td class=\"left \" data-stat=\"runs_outs_result\" >RR</td><td class=\"left \" data-stat=\"batting_team_id\" csk=\"NYY.0.031\" >NYY</td><td class=\"left \" data-stat=\"batter\" csk=\"Torres,Gleyber0.031\" >Gleyber&nbsp;Torres</td><td class=\"left \" data-stat=\"pitcher\" csk=\"Webb,Logan0.031\" >Logan&nbsp;Webb</td><td class=\"right \" data-stat=\"win_probability_added\" >17%</td><td class=\"right \" data-stat=\"win_expectancy_post\" >86%</td><td class=\"left \" data-stat=\"play_desc\" csk=\"23.031\" >Home Run (Fly Ball to Deep RF); Donaldson Scores</td></tr>\n",
       "<tr id=\"event_32\" class=\" bottom_inning\" ><th scope=\"row\" class=\"left \" data-stat=\"inning\" csk=\"32\" >b4</th><td class=\"left \" data-stat=\"score_batting_team\" >3-0</td><td class=\"right \" data-stat=\"outs\" >1</td><td class=\"left endpoint\" data-endpoint=\"/tools/def.cgi?html=1&game-event=NYA202303300-32\" data-stat=\"runners_on_bases_pbp\" csk=\"0.000\" >---</td><td class=\"left endpoint\" data-endpoint=\"/tools/pitch.cgi?html=1&game-event=NYA202303300-32\" data-stat=\"pitches_pbp\" csk=\"4\" >4,(1-2)&nbsp;<span class=\"pitch_sequence\">BFFS</span></td><td class=\"left \" data-stat=\"runs_outs_result\" >O</td><td class=\"left \" data-stat=\"batting_team_id\" csk=\"NYY.0.032\" >NYY</td><td class=\"left \" data-stat=\"batter\" csk=\"Cabrera,Oswaldo0.032\" >Oswaldo&nbsp;Cabrera</td><td class=\"left \" data-stat=\"pitcher\" csk=\"Webb,Logan0.032\" >Logan&nbsp;Webb</td><td class=\"right \" data-stat=\"win_probability_added\" >-1%</td><td class=\"right \" data-stat=\"win_expectancy_post\" >85%</td><td class=\"left \" data-stat=\"play_desc\" csk=\"3.032\" >Strikeout Swinging</td></tr>\n",
       "<tr id=\"event_33\" class=\" bottom_inning\" ><th scope=\"row\" class=\"left \" data-stat=\"inning\" csk=\"33\" >b4</th><td class=\"left \" data-stat=\"score_batting_team\" >3-0</td><td class=\"right \" data-stat=\"outs\" >2</td><td class=\"left endpoint\" data-endpoint=\"/tools/def.cgi?html=1&game-event=NYA202303300-33\" data-stat=\"runners_on_bases_pbp\" csk=\"0.000\" >---</td><td class=\"left endpoint\" data-endpoint=\"/tools/pitch.cgi?html=1&game-event=NYA202303300-33\" data-stat=\"pitches_pbp\" csk=\"4\" >4,(1-2)&nbsp;<span class=\"pitch_sequence\">CBFS</span></td><td class=\"left \" data-stat=\"runs_outs_result\" >O</td><td class=\"left \" data-stat=\"batting_team_id\" csk=\"NYY.0.033\" >NYY</td><td class=\"left \" data-stat=\"batter\" csk=\"Trevino,Jose0.033\" >Jose&nbsp;Trevino</td><td class=\"left \" data-stat=\"pitcher\" csk=\"Webb,Logan0.033\" >Logan&nbsp;Webb</td><td class=\"right \" data-stat=\"win_probability_added\" >-1%</td><td class=\"right \" data-stat=\"win_expectancy_post\" >85%</td><td class=\"left \" data-stat=\"play_desc\" csk=\"3.033\" >Strikeout Swinging</td></tr>\n",
       "<tr class=\"pbp_summary_bottom\" ><th scope=\"row\" class=\"left iz\" data-stat=\"inning\" csk=\"33.8\" ></th><td class=\"right iz\" data-stat=\"outs1\" ></td><td class=\"right iz\" data-stat=\"outs2\" ></td><td class=\"right iz\" data-stat=\"outs3\" ></td><td class=\"right iz\" data-stat=\"outs\" ></td><td class=\"right iz\" data-stat=\"outs\" ></td><td class=\"right iz\" data-stat=\"outs\" ></td><td class=\"right iz\" data-stat=\"outs\" ></td><td class=\"right iz\" data-stat=\"outs\" ></td><td class=\"left \" data-stat=\"inning_summary_3\" colspan=3 >2 runs, 2 hits, 0 errors, 0 LOB. Giants 0, Yankees 3.</td></tr>\n",
       "<tr class=\"pbp_summary_top\" ><th scope=\"row\" class=\"left \" data-stat=\"inning_summary_12\" colspan=12 csk=\"33.9\" >Top of the 5th, Giants Batting, Behind 0-3, Yankees' Gerrit&nbsp;Cole facing 7-8-9 </th></tr>\n",
       "<tr id=\"event_34\" class=\" top_inning\" ><th scope=\"row\" class=\"left \" data-stat=\"inning\" csk=\"34\" >t5</th><td class=\"left \" data-stat=\"score_batting_team\" >0-3</td><td class=\"right iz\" data-stat=\"outs\" >0</td><td class=\"left endpoint\" data-endpoint=\"/tools/def.cgi?html=1&game-event=NYA202303300-34\" data-stat=\"runners_on_bases_pbp\" csk=\"0.000\" >---</td><td class=\"left endpoint\" data-endpoint=\"/tools/pitch.cgi?html=1&game-event=NYA202303300-34\" data-stat=\"pitches_pbp\" csk=\"4\" >4,(1-2)&nbsp;<span class=\"pitch_sequence\">CBS.X</span></td><td class=\"left \" data-stat=\"runs_outs_result\" >O</td><td class=\"left \" data-stat=\"batting_team_id\" csk=\"SFG.0.034\" >SFG</td><td class=\"left \" data-stat=\"batter\" csk=\"Crawford,Brandon0.034\" >Brandon&nbsp;Crawford</td><td class=\"left \" data-stat=\"pitcher\" csk=\"Cole,Gerrit0.034\" >Gerrit&nbsp;Cole</td><td class=\"right \" data-stat=\"win_probability_added\" >2%</td><td class=\"right \" data-stat=\"win_expectancy_post\" >87%</td><td class=\"left \" data-stat=\"play_desc\" csk=\"2.034\" >Flyball: LF (Deep LF-CF)</td></tr>\n",
       "<tr id=\"event_35\" class=\" top_inning\" ><th scope=\"row\" class=\"left \" data-stat=\"inning\" csk=\"35\" >t5</th><td class=\"left \" data-stat=\"score_batting_team\" >0-3</td><td class=\"right \" data-stat=\"outs\" >1</td><td class=\"left endpoint\" data-endpoint=\"/tools/def.cgi?html=1&game-event=NYA202303300-35\" data-stat=\"runners_on_bases_pbp\" csk=\"0.000\" >---</td><td class=\"left endpoint\" data-endpoint=\"/tools/pitch.cgi?html=1&game-event=NYA202303300-35\" data-stat=\"pitches_pbp\" csk=\"2\" >2,(1-0)&nbsp;<span class=\"pitch_sequence\">BX</span></td><td class=\"left \" data-stat=\"runs_outs_result\" >O</td><td class=\"left \" data-stat=\"batting_team_id\" csk=\"SFG.0.035\" >SFG</td><td class=\"left \" data-stat=\"batter\" csk=\"Sabol,Blake0.035\" >Blake&nbsp;Sabol</td><td class=\"left \" data-stat=\"pitcher\" csk=\"Cole,Gerrit0.035\" >Gerrit&nbsp;Cole</td><td class=\"right \" data-stat=\"win_probability_added\" >1%</td><td class=\"right \" data-stat=\"win_expectancy_post\" >88%</td><td class=\"left \" data-stat=\"play_desc\" csk=\"2.035\" >Groundout: 1B-P (2B-1B)</td></tr>\n",
       "<tr id=\"event_36\" class=\" top_inning\" ><th scope=\"row\" class=\"left \" data-stat=\"inning\" csk=\"36\" >t5</th><td class=\"left \" data-stat=\"score_batting_team\" >0-3</td><td class=\"right \" data-stat=\"outs\" >2</td><td class=\"left endpoint\" data-endpoint=\"/tools/def.cgi?html=1&game-event=NYA202303300-36\" data-stat=\"runners_on_bases_pbp\" csk=\"0.000\" >---</td><td class=\"left endpoint\" data-endpoint=\"/tools/pitch.cgi?html=1&game-event=NYA202303300-36\" data-stat=\"pitches_pbp\" csk=\"3\" >3,(1-1)&nbsp;<span class=\"pitch_sequence\">CBX</span></td><td class=\"left iz\" data-stat=\"runs_outs_result\" ></td><td class=\"left \" data-stat=\"batting_team_id\" csk=\"SFG.0.036\" >SFG</td><td class=\"left \" data-stat=\"batter\" csk=\"Pérez,Roberto0.036\" >Roberto&nbsp;Pérez</td><td class=\"left \" data-stat=\"pitcher\" csk=\"Cole,Gerrit0.036\" >Gerrit&nbsp;Cole</td><td class=\"right \" data-stat=\"win_probability_added\" >-1%</td><td class=\"right \" data-stat=\"win_expectancy_post\" >87%</td><td class=\"left \" data-stat=\"play_desc\" csk=\"20.036\" >Single to CF (Line Drive to Deep CF-RF)</td></tr>\n",
       "<tr id=\"event_37\" class=\" top_inning\" ><th scope=\"row\" class=\"left \" data-stat=\"inning\" csk=\"37\" >t5</th><td class=\"left \" data-stat=\"score_batting_team\" >0-3</td><td class=\"right \" data-stat=\"outs\" >2</td><td class=\"left endpoint\" data-endpoint=\"/tools/def.cgi?html=1&game-event=NYA202303300-37\" data-stat=\"runners_on_bases_pbp\" csk=\"1.001\" >1--</td><td class=\"left endpoint\" data-endpoint=\"/tools/pitch.cgi?html=1&game-event=NYA202303300-37\" data-stat=\"pitches_pbp\" csk=\"5\" >5,(2-2)&nbsp;<span class=\"pitch_sequence\">CBF*BX</span></td><td class=\"left \" data-stat=\"runs_outs_result\" >O</td><td class=\"left \" data-stat=\"batting_team_id\" csk=\"SFG.0.037\" >SFG</td><td class=\"left \" data-stat=\"batter\" csk=\"Wade,LaMonte0.037\" >LaMonte&nbsp;Wade&nbsp;Jr.</td><td class=\"left \" data-stat=\"pitcher\" csk=\"Cole,Gerrit0.037\" >Gerrit&nbsp;Cole</td><td class=\"right \" data-stat=\"win_probability_added\" >2%</td><td class=\"right \" data-stat=\"win_expectancy_post\" >89%</td><td class=\"left \" data-stat=\"play_desc\" csk=\"2.037\" >Groundout: 1B unassisted (Weak 1B)</td></tr>\n",
       "<tr class=\"pbp_summary_bottom\" ><th scope=\"row\" class=\"left iz\" data-stat=\"inning\" csk=\"37.8\" ></th><td class=\"right iz\" data-stat=\"outs1\" ></td><td class=\"right iz\" data-stat=\"outs2\" ></td><td class=\"right iz\" data-stat=\"outs3\" ></td><td class=\"right iz\" data-stat=\"outs\" ></td><td class=\"right iz\" data-stat=\"outs\" ></td><td class=\"right iz\" data-stat=\"outs\" ></td><td class=\"right iz\" data-stat=\"outs\" ></td><td class=\"right iz\" data-stat=\"outs\" ></td><td class=\"left \" data-stat=\"inning_summary_3\" colspan=3 >0 runs, 1 hit, 0 errors, 1 LOB. Giants 0, Yankees 3.</td></tr>\n",
       "<tr class=\"pbp_summary_top\" ><th scope=\"row\" class=\"left \" data-stat=\"inning_summary_12\" colspan=12 csk=\"37.9\" >Bottom of the 5th, Yankees Batting, Ahead 3-0, Giants' Logan&nbsp;Webb facing 9-1-2 </th></tr>\n",
       "<tr id=\"event_38\" class=\" bottom_inning\" ><th scope=\"row\" class=\"left \" data-stat=\"inning\" csk=\"38\" >b5</th><td class=\"left \" data-stat=\"score_batting_team\" >3-0</td><td class=\"right iz\" data-stat=\"outs\" >0</td><td class=\"left endpoint\" data-endpoint=\"/tools/def.cgi?html=1&game-event=NYA202303300-38\" data-stat=\"runners_on_bases_pbp\" csk=\"0.000\" >---</td><td class=\"left endpoint\" data-endpoint=\"/tools/pitch.cgi?html=1&game-event=NYA202303300-38\" data-stat=\"pitches_pbp\" csk=\"2\" >2,(0-1)&nbsp;<span class=\"pitch_sequence\">FX</span></td><td class=\"left \" data-stat=\"runs_outs_result\" >O</td><td class=\"left \" data-stat=\"batting_team_id\" csk=\"NYY.0.038\" >NYY</td><td class=\"left \" data-stat=\"batter\" csk=\"Volpe,Anthony0.038\" >Anthony&nbsp;Volpe</td><td class=\"left \" data-stat=\"pitcher\" csk=\"Webb,Logan0.038\" >Logan&nbsp;Webb</td><td class=\"right \" data-stat=\"win_probability_added\" >-1%</td><td class=\"right \" data-stat=\"win_expectancy_post\" >88%</td><td class=\"left \" data-stat=\"play_desc\" csk=\"2.038\" >Groundout: 3B-1B (SS-3B Hole)</td></tr>\n",
       "<tr id=\"event_39\" class=\" bottom_inning\" ><th scope=\"row\" class=\"left \" data-stat=\"inning\" csk=\"39\" >b5</th><td class=\"left \" data-stat=\"score_batting_team\" >3-0</td><td class=\"right \" data-stat=\"outs\" >1</td><td class=\"left endpoint\" data-endpoint=\"/tools/def.cgi?html=1&game-event=NYA202303300-39\" data-stat=\"runners_on_bases_pbp\" csk=\"0.000\" >---</td><td class=\"left endpoint\" data-endpoint=\"/tools/pitch.cgi?html=1&game-event=NYA202303300-39\" data-stat=\"pitches_pbp\" csk=\"3\" >3,(0-2)&nbsp;<span class=\"pitch_sequence\">FCS</span></td><td class=\"left \" data-stat=\"runs_outs_result\" >O</td><td class=\"left \" data-stat=\"batting_team_id\" csk=\"NYY.0.039\" >NYY</td><td class=\"left \" data-stat=\"batter\" csk=\"LeMahieu,DJ0.039\" >DJ&nbsp;LeMahieu</td><td class=\"left \" data-stat=\"pitcher\" csk=\"Webb,Logan0.039\" >Logan&nbsp;Webb</td><td class=\"right \" data-stat=\"win_probability_added\" >-1%</td><td class=\"right \" data-stat=\"win_expectancy_post\" >88%</td><td class=\"left \" data-stat=\"play_desc\" csk=\"3.039\" >Strikeout Swinging</td></tr>\n",
       "<tr id=\"event_40\" class=\" bottom_inning\" ><th scope=\"row\" class=\"left \" data-stat=\"inning\" csk=\"40\" >b5</th><td class=\"left \" data-stat=\"score_batting_team\" >3-0</td><td class=\"right \" data-stat=\"outs\" >2</td><td class=\"left endpoint\" data-endpoint=\"/tools/def.cgi?html=1&game-event=NYA202303300-40\" data-stat=\"runners_on_bases_pbp\" csk=\"0.000\" >---</td><td class=\"left endpoint\" data-endpoint=\"/tools/pitch.cgi?html=1&game-event=NYA202303300-40\" data-stat=\"pitches_pbp\" csk=\"5\" >5,(2-2)&nbsp;<span class=\"pitch_sequence\">BSS.BS</span></td><td class=\"left \" data-stat=\"runs_outs_result\" >O</td><td class=\"left \" data-stat=\"batting_team_id\" csk=\"NYY.0.04\" >NYY</td><td class=\"left \" data-stat=\"batter\" csk=\"Judge,Aaron0.04\" >Aaron&nbsp;Judge</td><td class=\"left \" data-stat=\"pitcher\" csk=\"Webb,Logan0.04\" >Logan&nbsp;Webb</td><td class=\"right iz\" data-stat=\"win_probability_added\" >0%</td><td class=\"right \" data-stat=\"win_expectancy_post\" >87%</td><td class=\"left \" data-stat=\"play_desc\" csk=\"3.04\" >Strikeout Swinging</td></tr>\n",
       "<tr class=\"pbp_summary_bottom\" ><th scope=\"row\" class=\"left iz\" data-stat=\"inning\" csk=\"40.8\" ></th><td class=\"right iz\" data-stat=\"outs1\" ></td><td class=\"right iz\" data-stat=\"outs2\" ></td><td class=\"right iz\" data-stat=\"outs3\" ></td><td class=\"right iz\" data-stat=\"outs\" ></td><td class=\"right iz\" data-stat=\"outs\" ></td><td class=\"right iz\" data-stat=\"outs\" ></td><td class=\"right iz\" data-stat=\"outs\" ></td><td class=\"right iz\" data-stat=\"outs\" ></td><td class=\"left \" data-stat=\"inning_summary_3\" colspan=3 >0 runs, 0 hits, 0 errors, 0 LOB. Giants 0, Yankees 3.</td></tr>\n",
       "<tr class=\"pbp_summary_top\" ><th scope=\"row\" class=\"left \" data-stat=\"inning_summary_12\" colspan=12 csk=\"40.9\" >Top of the 6th, Giants Batting, Behind 0-3, Yankees' Gerrit&nbsp;Cole facing 2-3-4 </th></tr>\n",
       "<tr id=\"event_41\" class=\" top_inning\" ><th scope=\"row\" class=\"left \" data-stat=\"inning\" csk=\"41\" >t6</th><td class=\"left \" data-stat=\"score_batting_team\" >0-3</td><td class=\"right iz\" data-stat=\"outs\" >0</td><td class=\"left endpoint\" data-endpoint=\"/tools/def.cgi?html=1&game-event=NYA202303300-41\" data-stat=\"runners_on_bases_pbp\" csk=\"0.000\" >---</td><td class=\"left endpoint\" data-endpoint=\"/tools/pitch.cgi?html=1&game-event=NYA202303300-41\" data-stat=\"pitches_pbp\" csk=\"1\" >1,(0-0)&nbsp;<span class=\"pitch_sequence\">X</span></td><td class=\"left iz\" data-stat=\"runs_outs_result\" ></td><td class=\"left \" data-stat=\"batting_team_id\" csk=\"SFG.0.041\" >SFG</td><td class=\"left \" data-stat=\"batter\" csk=\"Conforto,Michael0.041\" >Michael&nbsp;Conforto</td><td class=\"left \" data-stat=\"pitcher\" csk=\"Cole,Gerrit0.041\" >Gerrit&nbsp;Cole</td><td class=\"right \" data-stat=\"win_probability_added\" >-4%</td><td class=\"right \" data-stat=\"win_expectancy_post\" >83%</td><td class=\"left \" data-stat=\"play_desc\" csk=\"20.041\" >Single to LF (Line Drive to LF-CF)</td></tr>\n",
       "<tr id=\"event_42\" class=\" top_inning\" ><th scope=\"row\" class=\"left \" data-stat=\"inning\" csk=\"42\" >t6</th><td class=\"left \" data-stat=\"score_batting_team\" >0-3</td><td class=\"right iz\" data-stat=\"outs\" >0</td><td class=\"left endpoint\" data-endpoint=\"/tools/def.cgi?html=1&game-event=NYA202303300-42\" data-stat=\"runners_on_bases_pbp\" csk=\"1.001\" >1--</td><td class=\"left endpoint\" data-endpoint=\"/tools/pitch.cgi?html=1&game-event=NYA202303300-42\" data-stat=\"pitches_pbp\" csk=\"6\" >6,(3-2)&nbsp;<span class=\"pitch_sequence\">*BCBBFX</span></td><td class=\"left \" data-stat=\"runs_outs_result\" >OO</td><td class=\"left \" data-stat=\"batting_team_id\" csk=\"SFG.0.042\" >SFG</td><td class=\"left \" data-stat=\"batter\" csk=\"Flores,Wilmer0.042\" >Wilmer&nbsp;Flores</td><td class=\"left \" data-stat=\"pitcher\" csk=\"Cole,Gerrit0.042\" >Gerrit&nbsp;Cole</td><td class=\"right \" data-stat=\"win_probability_added\" >8%</td><td class=\"right \" data-stat=\"win_expectancy_post\" >91%</td><td class=\"left \" data-stat=\"play_desc\" csk=\"2.042\" >Ground Ball Double Play: SS-2B-1B</td></tr>\n",
       "<tr id=\"event_43\" class=\" top_inning\" ><th scope=\"row\" class=\"left \" data-stat=\"inning\" csk=\"43\" >t6</th><td class=\"left \" data-stat=\"score_batting_team\" >0-3</td><td class=\"right \" data-stat=\"outs\" >2</td><td class=\"left endpoint\" data-endpoint=\"/tools/def.cgi?html=1&game-event=NYA202303300-43\" data-stat=\"runners_on_bases_pbp\" csk=\"0.000\" >---</td><td class=\"left endpoint\" data-endpoint=\"/tools/pitch.cgi?html=1&game-event=NYA202303300-43\" data-stat=\"pitches_pbp\" csk=\"3\" >3,(0-2)&nbsp;<span class=\"pitch_sequence\">SFS</span></td><td class=\"left \" data-stat=\"runs_outs_result\" >O</td><td class=\"left \" data-stat=\"batting_team_id\" csk=\"SFG.0.043\" >SFG</td><td class=\"left \" data-stat=\"batter\" csk=\"Pederson,Joc0.043\" >Joc&nbsp;Pederson</td><td class=\"left \" data-stat=\"pitcher\" csk=\"Cole,Gerrit0.043\" >Gerrit&nbsp;Cole</td><td class=\"right \" data-stat=\"win_probability_added\" >1%</td><td class=\"right \" data-stat=\"win_expectancy_post\" >92%</td><td class=\"left \" data-stat=\"play_desc\" csk=\"3.043\" >Strikeout Swinging</td></tr>\n",
       "<tr class=\"pbp_summary_bottom\" ><th scope=\"row\" class=\"left iz\" data-stat=\"inning\" csk=\"43.8\" ></th><td class=\"right iz\" data-stat=\"outs1\" ></td><td class=\"right iz\" data-stat=\"outs2\" ></td><td class=\"right iz\" data-stat=\"outs3\" ></td><td class=\"right iz\" data-stat=\"outs\" ></td><td class=\"right iz\" data-stat=\"outs\" ></td><td class=\"right iz\" data-stat=\"outs\" ></td><td class=\"right iz\" data-stat=\"outs\" ></td><td class=\"right iz\" data-stat=\"outs\" ></td><td class=\"left \" data-stat=\"inning_summary_3\" colspan=3 >0 runs, 1 hit, 0 errors, 0 LOB. Giants 0, Yankees 3.</td></tr>\n",
       "<tr class=\"pbp_summary_top\" ><th scope=\"row\" class=\"left \" data-stat=\"inning_summary_12\" colspan=12 csk=\"43.9\" >Bottom of the 6th, Yankees Batting, Ahead 3-0, Giants' Logan&nbsp;Webb facing 3-4-5 </th></tr>\n",
       "<tr id=\"event_44\" class=\" bottom_inning\" ><th scope=\"row\" class=\"left \" data-stat=\"inning\" csk=\"44\" >b6</th><td class=\"left \" data-stat=\"score_batting_team\" >3-0</td><td class=\"right iz\" data-stat=\"outs\" >0</td><td class=\"left endpoint\" data-endpoint=\"/tools/def.cgi?html=1&game-event=NYA202303300-44\" data-stat=\"runners_on_bases_pbp\" csk=\"0.000\" >---</td><td class=\"left endpoint\" data-endpoint=\"/tools/pitch.cgi?html=1&game-event=NYA202303300-44\" data-stat=\"pitches_pbp\" csk=\"3\" >3,(1-1)&nbsp;<span class=\"pitch_sequence\">FBX</span></td><td class=\"left \" data-stat=\"runs_outs_result\" >O</td><td class=\"left \" data-stat=\"batting_team_id\" csk=\"NYY.0.044\" >NYY</td><td class=\"left \" data-stat=\"batter\" csk=\"Rizzo,Anthony0.044\" >Anthony&nbsp;Rizzo</td><td class=\"left \" data-stat=\"pitcher\" csk=\"Webb,Logan0.044\" >Logan&nbsp;Webb</td><td class=\"right \" data-stat=\"win_probability_added\" >-1%</td><td class=\"right \" data-stat=\"win_expectancy_post\" >91%</td><td class=\"left \" data-stat=\"play_desc\" csk=\"2.044\" >Groundout: 2B-1B (2B-1B)</td></tr>\n",
       "<tr id=\"event_45\" class=\" bottom_inning\" ><th scope=\"row\" class=\"left \" data-stat=\"inning\" csk=\"45\" >b6</th><td class=\"left \" data-stat=\"score_batting_team\" >3-0</td><td class=\"right \" data-stat=\"outs\" >1</td><td class=\"left endpoint\" data-endpoint=\"/tools/def.cgi?html=1&game-event=NYA202303300-45\" data-stat=\"runners_on_bases_pbp\" csk=\"0.000\" >---</td><td class=\"left endpoint\" data-endpoint=\"/tools/pitch.cgi?html=1&game-event=NYA202303300-45\" data-stat=\"pitches_pbp\" csk=\"3\" >3,(0-2)&nbsp;<span class=\"pitch_sequence\">SCX</span></td><td class=\"left \" data-stat=\"runs_outs_result\" >O</td><td class=\"left \" data-stat=\"batting_team_id\" csk=\"NYY.0.045\" >NYY</td><td class=\"left \" data-stat=\"batter\" csk=\"Stanton,Giancarlo0.045\" >Giancarlo&nbsp;Stanton</td><td class=\"left \" data-stat=\"pitcher\" csk=\"Webb,Logan0.045\" >Logan&nbsp;Webb</td><td class=\"right \" data-stat=\"win_probability_added\" >-1%</td><td class=\"right \" data-stat=\"win_expectancy_post\" >91%</td><td class=\"left \" data-stat=\"play_desc\" csk=\"2.045\" >Foul Popfly: 1B (1B into Foul Terr.)</td></tr>\n",
       "<tr id=\"event_46\" class=\" bottom_inning\" ><th scope=\"row\" class=\"left \" data-stat=\"inning\" csk=\"46\" >b6</th><td class=\"left \" data-stat=\"score_batting_team\" >3-0</td><td class=\"right \" data-stat=\"outs\" >2</td><td class=\"left endpoint\" data-endpoint=\"/tools/def.cgi?html=1&game-event=NYA202303300-46\" data-stat=\"runners_on_bases_pbp\" csk=\"0.000\" >---</td><td class=\"left endpoint\" data-endpoint=\"/tools/pitch.cgi?html=1&game-event=NYA202303300-46\" data-stat=\"pitches_pbp\" csk=\"4\" >4,(1-2)&nbsp;<span class=\"pitch_sequence\">BCSC</span></td><td class=\"left \" data-stat=\"runs_outs_result\" >O</td><td class=\"left \" data-stat=\"batting_team_id\" csk=\"NYY.0.046\" >NYY</td><td class=\"left \" data-stat=\"batter\" csk=\"Donaldson,Josh0.046\" >Josh&nbsp;Donaldson</td><td class=\"left \" data-stat=\"pitcher\" csk=\"Webb,Logan0.046\" >Logan&nbsp;Webb</td><td class=\"right iz\" data-stat=\"win_probability_added\" >0%</td><td class=\"right \" data-stat=\"win_expectancy_post\" >90%</td><td class=\"left \" data-stat=\"play_desc\" csk=\"3.046\" >Strikeout Looking</td></tr>\n",
       "<tr class=\"pbp_summary_bottom\" ><th scope=\"row\" class=\"left iz\" data-stat=\"inning\" csk=\"46.8\" ></th><td class=\"right iz\" data-stat=\"outs1\" ></td><td class=\"right iz\" data-stat=\"outs2\" ></td><td class=\"right iz\" data-stat=\"outs3\" ></td><td class=\"right iz\" data-stat=\"outs\" ></td><td class=\"right iz\" data-stat=\"outs\" ></td><td class=\"right iz\" data-stat=\"outs\" ></td><td class=\"right iz\" data-stat=\"outs\" ></td><td class=\"right iz\" data-stat=\"outs\" ></td><td class=\"left \" data-stat=\"inning_summary_3\" colspan=3 >0 runs, 0 hits, 0 errors, 0 LOB. Giants 0, Yankees 3.</td></tr>\n",
       "<tr class=\"pbp_summary_top\" ><th scope=\"row\" class=\"left \" data-stat=\"inning_summary_12\" colspan=12 csk=\"46.9\" >Top of the 7th, Giants Batting, Behind 0-3, Yankees' Wandy&nbsp;Peralta facing 5-6-7 </th></tr>\n",
       "<tr class=\"ingame_substitution\" ><th scope=\"row\" class=\"left iz\" data-stat=\"inning\" csk=\"46.95\" ></th><td class=\"right iz\" data-stat=\"outs1\" ></td><td class=\"right iz\" data-stat=\"outs2\" ></td><td class=\"right iz\" data-stat=\"outs3\" ></td><td class=\"right iz\" data-stat=\"outs\" ></td><td class=\"right iz\" data-stat=\"outs\" ></td><td class=\"right iz\" data-stat=\"outs\" ></td><td class=\"right iz\" data-stat=\"outs\" ></td><td class=\"right iz\" data-stat=\"outs\" ></td><td class=\"left \" data-stat=\"inning_summary_3\" colspan=3 ><div>Wandy&nbsp;Peralta replaces Gerrit&nbsp;Cole pitching</div><div>J.D.&nbsp;Davis pinch hits for Mike&nbsp;Yastrzemski (CF) batting 5th</div></td></tr>\n",
       "<tr id=\"event_47\" class=\" top_inning\" ><th scope=\"row\" class=\"left \" data-stat=\"inning\" csk=\"47\" >t7</th><td class=\"left \" data-stat=\"score_batting_team\" >0-3</td><td class=\"right iz\" data-stat=\"outs\" >0</td><td class=\"left endpoint\" data-endpoint=\"/tools/def.cgi?html=1&game-event=NYA202303300-47\" data-stat=\"runners_on_bases_pbp\" csk=\"0.000\" >---</td><td class=\"left endpoint\" data-endpoint=\"/tools/pitch.cgi?html=1&game-event=NYA202303300-47\" data-stat=\"pitches_pbp\" csk=\"6\" >6,(3-2)&nbsp;<span class=\"pitch_sequence\">..BSBBSC</span></td><td class=\"left \" data-stat=\"runs_outs_result\" >O</td><td class=\"left \" data-stat=\"batting_team_id\" csk=\"SFG.0.047\" >SFG</td><td class=\"left \" data-stat=\"batter\" csk=\"Davis,J.D.0.047\" >J.D.&nbsp;Davis</td><td class=\"left \" data-stat=\"pitcher\" csk=\"Peralta,Wandy0.047\" >Wandy&nbsp;Peralta</td><td class=\"right \" data-stat=\"win_probability_added\" >2%</td><td class=\"right \" data-stat=\"win_expectancy_post\" >92%</td><td class=\"left \" data-stat=\"play_desc\" csk=\"3.047\" >Strikeout Looking</td></tr>\n",
       "<tr id=\"event_48\" class=\" top_inning\" ><th scope=\"row\" class=\"left \" data-stat=\"inning\" csk=\"48\" >t7</th><td class=\"left \" data-stat=\"score_batting_team\" >0-3</td><td class=\"right \" data-stat=\"outs\" >1</td><td class=\"left endpoint\" data-endpoint=\"/tools/def.cgi?html=1&game-event=NYA202303300-48\" data-stat=\"runners_on_bases_pbp\" csk=\"0.000\" >---</td><td class=\"left endpoint\" data-endpoint=\"/tools/pitch.cgi?html=1&game-event=NYA202303300-48\" data-stat=\"pitches_pbp\" csk=\"3\" >3,(1-1)&nbsp;<span class=\"pitch_sequence\">CBX</span></td><td class=\"left iz\" data-stat=\"runs_outs_result\" ></td><td class=\"left \" data-stat=\"batting_team_id\" csk=\"SFG.0.048\" >SFG</td><td class=\"left \" data-stat=\"batter\" csk=\"Estrada,Thairo0.048\" >Thairo&nbsp;Estrada</td><td class=\"left \" data-stat=\"pitcher\" csk=\"Peralta,Wandy0.048\" >Wandy&nbsp;Peralta</td><td class=\"right \" data-stat=\"win_probability_added\" >-3%</td><td class=\"right \" data-stat=\"win_expectancy_post\" >90%</td><td class=\"left \" data-stat=\"play_desc\" csk=\"20.048\" >Single to RF (Line Drive to Deep CF-RF)</td></tr>\n",
       "<tr id=\"event_49\" class=\" top_inning\" ><th scope=\"row\" class=\"left \" data-stat=\"inning\" csk=\"49\" >t7</th><td class=\"left \" data-stat=\"score_batting_team\" >0-3</td><td class=\"right \" data-stat=\"outs\" >1</td><td class=\"left endpoint\" data-endpoint=\"/tools/def.cgi?html=1&game-event=NYA202303300-49\" data-stat=\"runners_on_bases_pbp\" csk=\"1.001\" >1--</td><td class=\"left endpoint\" data-endpoint=\"/tools/pitch.cgi?html=1&game-event=NYA202303300-49\" data-stat=\"pitches_pbp\" csk=\"3\" >3,(1-2)&nbsp;<span class=\"pitch_sequence\">BCSN</span></td><td class=\"left iz\" data-stat=\"runs_outs_result\" ></td><td class=\"left \" data-stat=\"batting_team_id\" csk=\"SFG.0.049\" >SFG</td><td class=\"left \" data-stat=\"batter\" csk=\"Crawford,Brandon0.049\" >Brandon&nbsp;Crawford</td><td class=\"left \" data-stat=\"pitcher\" csk=\"Peralta,Wandy0.049\" >Wandy&nbsp;Peralta</td><td class=\"right \" data-stat=\"win_probability_added\" >-1%</td><td class=\"right \" data-stat=\"win_expectancy_post\" >89%</td><td class=\"left \" data-stat=\"play_desc\" csk=\"11.049\" >Balk; Estrada to 2B</td></tr>\n",
       "<tr id=\"event_50\" class=\" top_inning\" ><th scope=\"row\" class=\"left \" data-stat=\"inning\" csk=\"50\" >t7</th><td class=\"left \" data-stat=\"score_batting_team\" >0-3</td><td class=\"right \" data-stat=\"outs\" >1</td><td class=\"left endpoint\" data-endpoint=\"/tools/def.cgi?html=1&game-event=NYA202303300-50\" data-stat=\"runners_on_bases_pbp\" csk=\"1.010\" >-2-</td><td class=\"left endpoint\" data-endpoint=\"/tools/pitch.cgi?html=1&game-event=NYA202303300-50\" data-stat=\"pitches_pbp\" csk=\"5\" >5,(2-2)&nbsp;<span class=\"pitch_sequence\">BCSN.BC</span></td><td class=\"left \" data-stat=\"runs_outs_result\" >O</td><td class=\"left \" data-stat=\"batting_team_id\" csk=\"SFG.0.05\" >SFG</td><td class=\"left \" data-stat=\"batter\" csk=\"Crawford,Brandon0.05\" >Brandon&nbsp;Crawford</td><td class=\"left \" data-stat=\"pitcher\" csk=\"Peralta,Wandy0.05\" >Wandy&nbsp;Peralta</td><td class=\"right \" data-stat=\"win_probability_added\" >3%</td><td class=\"right \" data-stat=\"win_expectancy_post\" >92%</td><td class=\"left \" data-stat=\"play_desc\" csk=\"3.05\" >Strikeout Looking</td></tr>\n",
       "<tr class=\"ingame_substitution\" ><th scope=\"row\" class=\"left iz\" data-stat=\"inning\" csk=\"50.95\" ></th><td class=\"right iz\" data-stat=\"outs1\" ></td><td class=\"right iz\" data-stat=\"outs2\" ></td><td class=\"right iz\" data-stat=\"outs3\" ></td><td class=\"right iz\" data-stat=\"outs\" ></td><td class=\"right iz\" data-stat=\"outs\" ></td><td class=\"right iz\" data-stat=\"outs\" ></td><td class=\"right iz\" data-stat=\"outs\" ></td><td class=\"right iz\" data-stat=\"outs\" ></td><td class=\"left \" data-stat=\"inning_summary_3\" colspan=3 ><div>Jonathan&nbsp;Loáisiga replaces Wandy&nbsp;Peralta pitching</div><div>David&nbsp;Villar pinch hits for Blake&nbsp;Sabol (LF) batting 8th</div></td></tr>\n",
       "<tr id=\"event_51\" class=\" top_inning\" ><th scope=\"row\" class=\"left \" data-stat=\"inning\" csk=\"51\" >t7</th><td class=\"left \" data-stat=\"score_batting_team\" >0-3</td><td class=\"right \" data-stat=\"outs\" >2</td><td class=\"left endpoint\" data-endpoint=\"/tools/def.cgi?html=1&game-event=NYA202303300-51\" data-stat=\"runners_on_bases_pbp\" csk=\"1.010\" >-2-</td><td class=\"left endpoint\" data-endpoint=\"/tools/pitch.cgi?html=1&game-event=NYA202303300-51\" data-stat=\"pitches_pbp\" csk=\"2\" >2,(0-1)&nbsp;<span class=\"pitch_sequence\">..CX</span></td><td class=\"left \" data-stat=\"runs_outs_result\" >O</td><td class=\"left \" data-stat=\"batting_team_id\" csk=\"SFG.0.051\" >SFG</td><td class=\"left \" data-stat=\"batter\" csk=\"Villar,David0.051\" >David&nbsp;Villar</td><td class=\"left \" data-stat=\"pitcher\" csk=\"Loáisiga,Jonathan0.051\" >Jonathan&nbsp;Loáisiga</td><td class=\"right \" data-stat=\"win_probability_added\" >2%</td><td class=\"right \" data-stat=\"win_expectancy_post\" >95%</td><td class=\"left \" data-stat=\"play_desc\" csk=\"2.051\" >Flyball: CF</td></tr>\n",
       "<tr class=\"pbp_summary_bottom\" ><th scope=\"row\" class=\"left iz\" data-stat=\"inning\" csk=\"51.8\" ></th><td class=\"right iz\" data-stat=\"outs1\" ></td><td class=\"right iz\" data-stat=\"outs2\" ></td><td class=\"right iz\" data-stat=\"outs3\" ></td><td class=\"right iz\" data-stat=\"outs\" ></td><td class=\"right iz\" data-stat=\"outs\" ></td><td class=\"right iz\" data-stat=\"outs\" ></td><td class=\"right iz\" data-stat=\"outs\" ></td><td class=\"right iz\" data-stat=\"outs\" ></td><td class=\"left \" data-stat=\"inning_summary_3\" colspan=3 >0 runs, 1 hit, 0 errors, 1 LOB. Giants 0, Yankees 3.</td></tr>\n",
       "<tr class=\"pbp_summary_top\" ><th scope=\"row\" class=\"left \" data-stat=\"inning_summary_12\" colspan=12 csk=\"51.9\" >Bottom of the 7th, Yankees Batting, Ahead 3-0, Giants' Logan&nbsp;Webb facing 6-7-8 </th></tr>\n",
       "<tr class=\"ingame_substitution\" ><th scope=\"row\" class=\"left iz\" data-stat=\"inning\" csk=\"51.95\" ></th><td class=\"right iz\" data-stat=\"outs1\" ></td><td class=\"right iz\" data-stat=\"outs2\" ></td><td class=\"right iz\" data-stat=\"outs3\" ></td><td class=\"right iz\" data-stat=\"outs\" ></td><td class=\"right iz\" data-stat=\"outs\" ></td><td class=\"right iz\" data-stat=\"outs\" ></td><td class=\"right iz\" data-stat=\"outs\" ></td><td class=\"right iz\" data-stat=\"outs\" ></td><td class=\"left \" data-stat=\"inning_summary_3\" colspan=3 ><div>J.D.&nbsp;Davis moves from PH to 1B </div><div>LaMonte&nbsp;Wade&nbsp;Jr. moves from 1B to LF </div><div>Brett&nbsp;Wisely replaces David&nbsp;Villar (PH) playing CF batting 8th</div></td></tr>\n",
       "<tr id=\"event_52\" class=\" bottom_inning\" ><th scope=\"row\" class=\"left \" data-stat=\"inning\" csk=\"52\" >b7</th><td class=\"left \" data-stat=\"score_batting_team\" >3-0</td><td class=\"right iz\" data-stat=\"outs\" >0</td><td class=\"left endpoint\" data-endpoint=\"/tools/def.cgi?html=1&game-event=NYA202303300-52\" data-stat=\"runners_on_bases_pbp\" csk=\"0.000\" >---</td><td class=\"left endpoint\" data-endpoint=\"/tools/pitch.cgi?html=1&game-event=NYA202303300-52\" data-stat=\"pitches_pbp\" csk=\"7\" >7,(3-2)&nbsp;<span class=\"pitch_sequence\">...FBBSB.FB</span></td><td class=\"left iz\" data-stat=\"runs_outs_result\" ></td><td class=\"left \" data-stat=\"batting_team_id\" csk=\"NYY.0.052\" >NYY</td><td class=\"left \" data-stat=\"batter\" csk=\"Torres,Gleyber0.052\" >Gleyber&nbsp;Torres</td><td class=\"left \" data-stat=\"pitcher\" csk=\"Webb,Logan0.052\" >Logan&nbsp;Webb</td><td class=\"right \" data-stat=\"win_probability_added\" >1%</td><td class=\"right \" data-stat=\"win_expectancy_post\" >95%</td><td class=\"left \" data-stat=\"play_desc\" csk=\"14.052\" >Walk</td></tr>\n",
       "<tr class=\"ingame_substitution\" ><th scope=\"row\" class=\"left iz\" data-stat=\"inning\" csk=\"52.95\" ></th><td class=\"right iz\" data-stat=\"outs1\" ></td><td class=\"right iz\" data-stat=\"outs2\" ></td><td class=\"right iz\" data-stat=\"outs3\" ></td><td class=\"right iz\" data-stat=\"outs\" ></td><td class=\"right iz\" data-stat=\"outs\" ></td><td class=\"right iz\" data-stat=\"outs\" ></td><td class=\"right iz\" data-stat=\"outs\" ></td><td class=\"right iz\" data-stat=\"outs\" ></td><td class=\"left \" data-stat=\"inning_summary_3\" colspan=3 ><div>John&nbsp;Brebbia replaces Logan&nbsp;Webb pitching</div></td></tr>\n",
       "<tr id=\"event_53\" class=\" bottom_inning\" ><th scope=\"row\" class=\"left \" data-stat=\"inning\" csk=\"53\" >b7</th><td class=\"left \" data-stat=\"score_batting_team\" >3-0</td><td class=\"right iz\" data-stat=\"outs\" >0</td><td class=\"left endpoint\" data-endpoint=\"/tools/def.cgi?html=1&game-event=NYA202303300-53\" data-stat=\"runners_on_bases_pbp\" csk=\"1.001\" >1--</td><td class=\"left endpoint\" data-endpoint=\"/tools/pitch.cgi?html=1&game-event=NYA202303300-53\" data-stat=\"pitches_pbp\" csk=\"6\" >6,(2-2)&nbsp;<span class=\"pitch_sequence\">.FB1SFB>S</span></td><td class=\"left \" data-stat=\"runs_outs_result\" >O</td><td class=\"left \" data-stat=\"batting_team_id\" csk=\"NYY.0.053\" >NYY</td><td class=\"left \" data-stat=\"batter\" csk=\"Cabrera,Oswaldo0.053\" >Oswaldo&nbsp;Cabrera</td><td class=\"left \" data-stat=\"pitcher\" csk=\"Brebbia,John0.053\" >John&nbsp;Brebbia</td><td class=\"right iz\" data-stat=\"win_probability_added\" >0%</td><td class=\"right \" data-stat=\"win_expectancy_post\" >95%</td><td class=\"left \" data-stat=\"play_desc\" csk=\"3.053\" >Strikeout Swinging, Torres Steals 2B</td></tr>\n",
       "<tr id=\"event_54\" class=\" bottom_inning\" ><th scope=\"row\" class=\"left \" data-stat=\"inning\" csk=\"54\" >b7</th><td class=\"left \" data-stat=\"score_batting_team\" >3-0</td><td class=\"right \" data-stat=\"outs\" >1</td><td class=\"left endpoint\" data-endpoint=\"/tools/def.cgi?html=1&game-event=NYA202303300-54\" data-stat=\"runners_on_bases_pbp\" csk=\"1.010\" >-2-</td><td class=\"left endpoint\" data-endpoint=\"/tools/pitch.cgi?html=1&game-event=NYA202303300-54\" data-stat=\"pitches_pbp\" csk=\"1\" >1,(0-0)&nbsp;<span class=\"pitch_sequence\">X</span></td><td class=\"left iz\" data-stat=\"runs_outs_result\" ></td><td class=\"left \" data-stat=\"batting_team_id\" csk=\"NYY.0.054\" >NYY</td><td class=\"left \" data-stat=\"batter\" csk=\"Trevino,Jose0.054\" >Jose&nbsp;Trevino</td><td class=\"left \" data-stat=\"pitcher\" csk=\"Brebbia,John0.054\" >John&nbsp;Brebbia</td><td class=\"right \" data-stat=\"win_probability_added\" >1%</td><td class=\"right \" data-stat=\"win_expectancy_post\" >96%</td><td class=\"left \" data-stat=\"play_desc\" csk=\"20.054\" >Single to LF (Line Drive); Torres to 3B</td></tr>\n",
       "<tr id=\"event_55\" class=\" bottom_inning\" ><th scope=\"row\" class=\"left \" data-stat=\"inning\" csk=\"55\" >b7</th><td class=\"left \" data-stat=\"score_batting_team\" >3-0</td><td class=\"right \" data-stat=\"outs\" >1</td><td class=\"left endpoint\" data-endpoint=\"/tools/def.cgi?html=1&game-event=NYA202303300-55\" data-stat=\"runners_on_bases_pbp\" csk=\"2.101\" >1-3</td><td class=\"left endpoint\" data-endpoint=\"/tools/pitch.cgi?html=1&game-event=NYA202303300-55\" data-stat=\"pitches_pbp\" csk=\"5\" >5,(2-2)&nbsp;<span class=\"pitch_sequence\">CBBSS</span></td><td class=\"left \" data-stat=\"runs_outs_result\" >O</td><td class=\"left \" data-stat=\"batting_team_id\" csk=\"NYY.0.055\" >NYY</td><td class=\"left \" data-stat=\"batter\" csk=\"Volpe,Anthony0.055\" >Anthony&nbsp;Volpe</td><td class=\"left \" data-stat=\"pitcher\" csk=\"Brebbia,John0.055\" >John&nbsp;Brebbia</td><td class=\"right \" data-stat=\"win_probability_added\" >-2%</td><td class=\"right \" data-stat=\"win_expectancy_post\" >95%</td><td class=\"left \" data-stat=\"play_desc\" csk=\"3.055\" >Strikeout Swinging</td></tr>\n",
       "<tr id=\"event_56\" class=\" bottom_inning bold\" ><th scope=\"row\" class=\"left \" data-stat=\"inning\" csk=\"56\" >b7</th><td class=\"left \" data-stat=\"score_batting_team\" >3-0</td><td class=\"right \" data-stat=\"outs\" >2</td><td class=\"left endpoint\" data-endpoint=\"/tools/def.cgi?html=1&game-event=NYA202303300-56\" data-stat=\"runners_on_bases_pbp\" csk=\"2.101\" >1-3</td><td class=\"left endpoint\" data-endpoint=\"/tools/pitch.cgi?html=1&game-event=NYA202303300-56\" data-stat=\"pitches_pbp\" csk=\"1\" >1,(0-0)&nbsp;<span class=\"pitch_sequence\">X</span></td><td class=\"left \" data-stat=\"runs_outs_result\" >R</td><td class=\"left \" data-stat=\"batting_team_id\" csk=\"NYY.0.056\" >NYY</td><td class=\"left \" data-stat=\"batter\" csk=\"LeMahieu,DJ0.056\" >DJ&nbsp;LeMahieu</td><td class=\"left \" data-stat=\"pitcher\" csk=\"Brebbia,John0.056\" >John&nbsp;Brebbia</td><td class=\"right \" data-stat=\"win_probability_added\" >3%</td><td class=\"right \" data-stat=\"win_expectancy_post\" >97%</td><td class=\"left \" data-stat=\"play_desc\" csk=\"20.056\" >Single to LF (Ground Ball thru SS-3B Hole); Torres Scores; Trevino to 2B</td></tr>\n",
       "<tr id=\"event_57\" class=\" bottom_inning bold\" ><th scope=\"row\" class=\"left \" data-stat=\"inning\" csk=\"57\" >b7</th><td class=\"left \" data-stat=\"score_batting_team\" >4-0</td><td class=\"right \" data-stat=\"outs\" >2</td><td class=\"left endpoint\" data-endpoint=\"/tools/def.cgi?html=1&game-event=NYA202303300-57\" data-stat=\"runners_on_bases_pbp\" csk=\"2.011\" >12-</td><td class=\"left endpoint\" data-endpoint=\"/tools/pitch.cgi?html=1&game-event=NYA202303300-57\" data-stat=\"pitches_pbp\" csk=\"5\" >5,(2-2)&nbsp;<span class=\"pitch_sequence\">BCBSX</span></td><td class=\"left \" data-stat=\"runs_outs_result\" >R</td><td class=\"left \" data-stat=\"batting_team_id\" csk=\"NYY.0.057\" >NYY</td><td class=\"left \" data-stat=\"batter\" csk=\"Judge,Aaron0.057\" >Aaron&nbsp;Judge</td><td class=\"left \" data-stat=\"pitcher\" csk=\"Brebbia,John0.057\" >John&nbsp;Brebbia</td><td class=\"right \" data-stat=\"win_probability_added\" >1%</td><td class=\"right \" data-stat=\"win_expectancy_post\" >99%</td><td class=\"left \" data-stat=\"play_desc\" csk=\"20.057\" >Single to CF (Fly Ball to Short CF); Trevino Scores; LeMahieu to 3B</td></tr>\n",
       "<tr id=\"event_58\" class=\" bottom_inning\" ><th scope=\"row\" class=\"left \" data-stat=\"inning\" csk=\"58\" >b7</th><td class=\"left \" data-stat=\"score_batting_team\" >5-0</td><td class=\"right \" data-stat=\"outs\" >2</td><td class=\"left endpoint\" data-endpoint=\"/tools/def.cgi?html=1&game-event=NYA202303300-58\" data-stat=\"runners_on_bases_pbp\" csk=\"2.101\" >1-3</td><td class=\"left endpoint\" data-endpoint=\"/tools/pitch.cgi?html=1&game-event=NYA202303300-58\" data-stat=\"pitches_pbp\" csk=\"5\" >5,(1-2)&nbsp;<span class=\"pitch_sequence\">BCSFS</span></td><td class=\"left \" data-stat=\"runs_outs_result\" >O</td><td class=\"left \" data-stat=\"batting_team_id\" csk=\"NYY.0.058\" >NYY</td><td class=\"left \" data-stat=\"batter\" csk=\"Rizzo,Anthony0.058\" >Anthony&nbsp;Rizzo</td><td class=\"left \" data-stat=\"pitcher\" csk=\"Brebbia,John0.058\" >John&nbsp;Brebbia</td><td class=\"right iz\" data-stat=\"win_probability_added\" >0%</td><td class=\"right \" data-stat=\"win_expectancy_post\" >98%</td><td class=\"left \" data-stat=\"play_desc\" csk=\"3.058\" >Strikeout Swinging</td></tr>\n",
       "<tr class=\"pbp_summary_bottom\" ><th scope=\"row\" class=\"left iz\" data-stat=\"inning\" csk=\"58.8\" ></th><td class=\"right iz\" data-stat=\"outs1\" ></td><td class=\"right iz\" data-stat=\"outs2\" ></td><td class=\"right iz\" data-stat=\"outs3\" ></td><td class=\"right iz\" data-stat=\"outs\" ></td><td class=\"right iz\" data-stat=\"outs\" ></td><td class=\"right iz\" data-stat=\"outs\" ></td><td class=\"right iz\" data-stat=\"outs\" ></td><td class=\"right iz\" data-stat=\"outs\" ></td><td class=\"left \" data-stat=\"inning_summary_3\" colspan=3 >2 runs, 3 hits, 0 errors, 2 LOB. Giants 0, Yankees 5.</td></tr>\n",
       "<tr class=\"pbp_summary_top\" ><th scope=\"row\" class=\"left \" data-stat=\"inning_summary_12\" colspan=12 csk=\"58.9\" >Top of the 8th, Giants Batting, Behind 0-5, Yankees' Ron&nbsp;Marinaccio facing 9-1-2 </th></tr>\n",
       "<tr class=\"ingame_substitution\" ><th scope=\"row\" class=\"left iz\" data-stat=\"inning\" csk=\"58.95\" ></th><td class=\"right iz\" data-stat=\"outs1\" ></td><td class=\"right iz\" data-stat=\"outs2\" ></td><td class=\"right iz\" data-stat=\"outs3\" ></td><td class=\"right iz\" data-stat=\"outs\" ></td><td class=\"right iz\" data-stat=\"outs\" ></td><td class=\"right iz\" data-stat=\"outs\" ></td><td class=\"right iz\" data-stat=\"outs\" ></td><td class=\"right iz\" data-stat=\"outs\" ></td><td class=\"left \" data-stat=\"inning_summary_3\" colspan=3 ><div>Ron&nbsp;Marinaccio replaces Jonathan&nbsp;Loáisiga pitching</div><div>Matt&nbsp;Beaty pinch hits for Roberto&nbsp;Pérez (C) batting 9th</div></td></tr>\n",
       "<tr id=\"event_59\" class=\" top_inning\" ><th scope=\"row\" class=\"left \" data-stat=\"inning\" csk=\"59\" >t8</th><td class=\"left \" data-stat=\"score_batting_team\" >0-5</td><td class=\"right iz\" data-stat=\"outs\" >0</td><td class=\"left endpoint\" data-endpoint=\"/tools/def.cgi?html=1&game-event=NYA202303300-59\" data-stat=\"runners_on_bases_pbp\" csk=\"0.000\" >---</td><td class=\"left endpoint\" data-endpoint=\"/tools/pitch.cgi?html=1&game-event=NYA202303300-59\" data-stat=\"pitches_pbp\" csk=\"6\" >6,(0-2)&nbsp;<span class=\"pitch_sequence\">..FFFFFS</span></td><td class=\"left \" data-stat=\"runs_outs_result\" >O</td><td class=\"left \" data-stat=\"batting_team_id\" csk=\"SFG.0.059\" >SFG</td><td class=\"left \" data-stat=\"batter\" csk=\"Beaty,Matt0.059\" >Matt&nbsp;Beaty</td><td class=\"left \" data-stat=\"pitcher\" csk=\"Marinaccio,Ron0.059\" >Ron&nbsp;Marinaccio</td><td class=\"right \" data-stat=\"win_probability_added\" >1%</td><td class=\"right \" data-stat=\"win_expectancy_post\" >99%</td><td class=\"left \" data-stat=\"play_desc\" csk=\"3.059\" >Strikeout Swinging</td></tr>\n",
       "<tr id=\"event_60\" class=\" top_inning\" ><th scope=\"row\" class=\"left \" data-stat=\"inning\" csk=\"60\" >t8</th><td class=\"left \" data-stat=\"score_batting_team\" >0-5</td><td class=\"right \" data-stat=\"outs\" >1</td><td class=\"left endpoint\" data-endpoint=\"/tools/def.cgi?html=1&game-event=NYA202303300-60\" data-stat=\"runners_on_bases_pbp\" csk=\"0.000\" >---</td><td class=\"left endpoint\" data-endpoint=\"/tools/pitch.cgi?html=1&game-event=NYA202303300-60\" data-stat=\"pitches_pbp\" csk=\"2\" >2,(1-0)&nbsp;<span class=\"pitch_sequence\">BX</span></td><td class=\"left \" data-stat=\"runs_outs_result\" >O</td><td class=\"left \" data-stat=\"batting_team_id\" csk=\"SFG.0.06\" >SFG</td><td class=\"left \" data-stat=\"batter\" csk=\"Wade,LaMonte0.06\" >LaMonte&nbsp;Wade&nbsp;Jr.</td><td class=\"left \" data-stat=\"pitcher\" csk=\"Marinaccio,Ron0.06\" >Ron&nbsp;Marinaccio</td><td class=\"right iz\" data-stat=\"win_probability_added\" >0%</td><td class=\"right \" data-stat=\"win_expectancy_post\" >99%</td><td class=\"left \" data-stat=\"play_desc\" csk=\"2.06\" >Foul Popfly: C (Behind Home)</td></tr>\n",
       "<tr id=\"event_61\" class=\" top_inning\" ><th scope=\"row\" class=\"left \" data-stat=\"inning\" csk=\"61\" >t8</th><td class=\"left \" data-stat=\"score_batting_team\" >0-5</td><td class=\"right \" data-stat=\"outs\" >2</td><td class=\"left endpoint\" data-endpoint=\"/tools/def.cgi?html=1&game-event=NYA202303300-61\" data-stat=\"runners_on_bases_pbp\" csk=\"0.000\" >---</td><td class=\"left endpoint\" data-endpoint=\"/tools/pitch.cgi?html=1&game-event=NYA202303300-61\" data-stat=\"pitches_pbp\" csk=\"7\" >7,(2-2)&nbsp;<span class=\"pitch_sequence\">FF.BFBFX</span></td><td class=\"left \" data-stat=\"runs_outs_result\" >O</td><td class=\"left \" data-stat=\"batting_team_id\" csk=\"SFG.0.061\" >SFG</td><td class=\"left \" data-stat=\"batter\" csk=\"Conforto,Michael0.061\" >Michael&nbsp;Conforto</td><td class=\"left \" data-stat=\"pitcher\" csk=\"Marinaccio,Ron0.061\" >Ron&nbsp;Marinaccio</td><td class=\"right iz\" data-stat=\"win_probability_added\" >0%</td><td class=\"right \" data-stat=\"win_expectancy_post\" >100%</td><td class=\"left \" data-stat=\"play_desc\" csk=\"2.061\" >Groundout: 1B-P (2B-1B)</td></tr>\n",
       "<tr class=\"pbp_summary_bottom\" ><th scope=\"row\" class=\"left iz\" data-stat=\"inning\" csk=\"61.8\" ></th><td class=\"right iz\" data-stat=\"outs1\" ></td><td class=\"right iz\" data-stat=\"outs2\" ></td><td class=\"right iz\" data-stat=\"outs3\" ></td><td class=\"right iz\" data-stat=\"outs\" ></td><td class=\"right iz\" data-stat=\"outs\" ></td><td class=\"right iz\" data-stat=\"outs\" ></td><td class=\"right iz\" data-stat=\"outs\" ></td><td class=\"right iz\" data-stat=\"outs\" ></td><td class=\"left \" data-stat=\"inning_summary_3\" colspan=3 >0 runs, 0 hits, 0 errors, 0 LOB. Giants 0, Yankees 5.</td></tr>\n",
       "<tr class=\"pbp_summary_top\" ><th scope=\"row\" class=\"left \" data-stat=\"inning_summary_12\" colspan=12 csk=\"61.9\" >Bottom of the 8th, Yankees Batting, Ahead 5-0, Giants' Tyler&nbsp;Rogers facing 4-5-6 </th></tr>\n",
       "<tr class=\"ingame_substitution\" ><th scope=\"row\" class=\"left iz\" data-stat=\"inning\" csk=\"61.95\" ></th><td class=\"right iz\" data-stat=\"outs1\" ></td><td class=\"right iz\" data-stat=\"outs2\" ></td><td class=\"right iz\" data-stat=\"outs3\" ></td><td class=\"right iz\" data-stat=\"outs\" ></td><td class=\"right iz\" data-stat=\"outs\" ></td><td class=\"right iz\" data-stat=\"outs\" ></td><td class=\"right iz\" data-stat=\"outs\" ></td><td class=\"right iz\" data-stat=\"outs\" ></td><td class=\"left \" data-stat=\"inning_summary_3\" colspan=3 ><div>Tyler&nbsp;Rogers replaces John&nbsp;Brebbia pitching</div><div>Joey&nbsp;Bart replaces Matt&nbsp;Beaty (PH) playing C batting 9th</div></td></tr>\n",
       "<tr id=\"event_62\" class=\" bottom_inning\" ><th scope=\"row\" class=\"left \" data-stat=\"inning\" csk=\"62\" >b8</th><td class=\"left \" data-stat=\"score_batting_team\" >5-0</td><td class=\"right iz\" data-stat=\"outs\" >0</td><td class=\"left endpoint\" data-endpoint=\"/tools/def.cgi?html=1&game-event=NYA202303300-62\" data-stat=\"runners_on_bases_pbp\" csk=\"0.000\" >---</td><td class=\"left endpoint\" data-endpoint=\"/tools/pitch.cgi?html=1&game-event=NYA202303300-62\" data-stat=\"pitches_pbp\" csk=\"2\" >2,(0-1)&nbsp;<span class=\"pitch_sequence\">..CX</span></td><td class=\"left iz\" data-stat=\"runs_outs_result\" ></td><td class=\"left \" data-stat=\"batting_team_id\" csk=\"NYY.0.062\" >NYY</td><td class=\"left \" data-stat=\"batter\" csk=\"Stanton,Giancarlo0.062\" >Giancarlo&nbsp;Stanton</td><td class=\"left \" data-stat=\"pitcher\" csk=\"Rogers,Tyler0.062\" >Tyler&nbsp;Rogers</td><td class=\"right iz\" data-stat=\"win_probability_added\" >0%</td><td class=\"right \" data-stat=\"win_expectancy_post\" >100%</td><td class=\"left \" data-stat=\"play_desc\" csk=\"20.062\" >Single to CF (Ground Ball thru SS-2B)</td></tr>\n",
       "<tr class=\"ingame_substitution\" ><th scope=\"row\" class=\"left iz\" data-stat=\"inning\" csk=\"62.95\" ></th><td class=\"right iz\" data-stat=\"outs1\" ></td><td class=\"right iz\" data-stat=\"outs2\" ></td><td class=\"right iz\" data-stat=\"outs3\" ></td><td class=\"right iz\" data-stat=\"outs\" ></td><td class=\"right iz\" data-stat=\"outs\" ></td><td class=\"right iz\" data-stat=\"outs\" ></td><td class=\"right iz\" data-stat=\"outs\" ></td><td class=\"right iz\" data-stat=\"outs\" ></td><td class=\"left \" data-stat=\"inning_summary_3\" colspan=3 ><div>Estevan&nbsp;Florial pinch runs for Giancarlo&nbsp;Stanton (RF) batting 4th</div></td></tr>\n",
       "<tr id=\"event_63\" class=\" bottom_inning\" ><th scope=\"row\" class=\"left \" data-stat=\"inning\" csk=\"63\" >b8</th><td class=\"left \" data-stat=\"score_batting_team\" >5-0</td><td class=\"right iz\" data-stat=\"outs\" >0</td><td class=\"left endpoint\" data-endpoint=\"/tools/def.cgi?html=1&game-event=NYA202303300-63\" data-stat=\"runners_on_bases_pbp\" csk=\"1.001\" >1--</td><td class=\"left endpoint\" data-endpoint=\"/tools/pitch.cgi?html=1&game-event=NYA202303300-63\" data-stat=\"pitches_pbp\" csk=\"2\" >2,(1-0)&nbsp;<span class=\"pitch_sequence\">.BX</span></td><td class=\"left \" data-stat=\"runs_outs_result\" >O</td><td class=\"left \" data-stat=\"batting_team_id\" csk=\"NYY.0.063\" >NYY</td><td class=\"left \" data-stat=\"batter\" csk=\"Donaldson,Josh0.063\" >Josh&nbsp;Donaldson</td><td class=\"left \" data-stat=\"pitcher\" csk=\"Rogers,Tyler0.063\" >Tyler&nbsp;Rogers</td><td class=\"right iz\" data-stat=\"win_probability_added\" >0%</td><td class=\"right \" data-stat=\"win_expectancy_post\" >100%</td><td class=\"left \" data-stat=\"play_desc\" csk=\"2.063\" >Groundout: P-1B (Front of Home); Florial to 2B</td></tr>\n",
       "<tr id=\"event_64\" class=\" bottom_inning\" ><th scope=\"row\" class=\"left \" data-stat=\"inning\" csk=\"64\" >b8</th><td class=\"left \" data-stat=\"score_batting_team\" >5-0</td><td class=\"right \" data-stat=\"outs\" >1</td><td class=\"left endpoint\" data-endpoint=\"/tools/def.cgi?html=1&game-event=NYA202303300-64\" data-stat=\"runners_on_bases_pbp\" csk=\"1.010\" >-2-</td><td class=\"left endpoint\" data-endpoint=\"/tools/pitch.cgi?html=1&game-event=NYA202303300-64\" data-stat=\"pitches_pbp\" csk=\"4\" >4,(2-1)&nbsp;<span class=\"pitch_sequence\">BCBX</span></td><td class=\"left \" data-stat=\"runs_outs_result\" >O</td><td class=\"left \" data-stat=\"batting_team_id\" csk=\"NYY.0.064\" >NYY</td><td class=\"left \" data-stat=\"batter\" csk=\"Torres,Gleyber0.064\" >Gleyber&nbsp;Torres</td><td class=\"left \" data-stat=\"pitcher\" csk=\"Rogers,Tyler0.064\" >Tyler&nbsp;Rogers</td><td class=\"right iz\" data-stat=\"win_probability_added\" >0%</td><td class=\"right \" data-stat=\"win_expectancy_post\" >100%</td><td class=\"left \" data-stat=\"play_desc\" csk=\"2.064\" >Flyball: CF (Deep CF); Florial to 3B</td></tr>\n",
       "<tr id=\"event_65\" class=\" bottom_inning\" ><th scope=\"row\" class=\"left \" data-stat=\"inning\" csk=\"65\" >b8</th><td class=\"left \" data-stat=\"score_batting_team\" >5-0</td><td class=\"right \" data-stat=\"outs\" >2</td><td class=\"left endpoint\" data-endpoint=\"/tools/def.cgi?html=1&game-event=NYA202303300-65\" data-stat=\"runners_on_bases_pbp\" csk=\"1.100\" >--3</td><td class=\"left endpoint\" data-endpoint=\"/tools/pitch.cgi?html=1&game-event=NYA202303300-65\" data-stat=\"pitches_pbp\" csk=\"3\" >3,(0-2)&nbsp;<span class=\"pitch_sequence\">FFC</span></td><td class=\"left \" data-stat=\"runs_outs_result\" >O</td><td class=\"left \" data-stat=\"batting_team_id\" csk=\"NYY.0.065\" >NYY</td><td class=\"left \" data-stat=\"batter\" csk=\"Cabrera,Oswaldo0.065\" >Oswaldo&nbsp;Cabrera</td><td class=\"left \" data-stat=\"pitcher\" csk=\"Rogers,Tyler0.065\" >Tyler&nbsp;Rogers</td><td class=\"right iz\" data-stat=\"win_probability_added\" >0%</td><td class=\"right \" data-stat=\"win_expectancy_post\" >99%</td><td class=\"left \" data-stat=\"play_desc\" csk=\"3.065\" >Strikeout Looking</td></tr>\n",
       "<tr class=\"pbp_summary_bottom\" ><th scope=\"row\" class=\"left iz\" data-stat=\"inning\" csk=\"65.8\" ></th><td class=\"right iz\" data-stat=\"outs1\" ></td><td class=\"right iz\" data-stat=\"outs2\" ></td><td class=\"right iz\" data-stat=\"outs3\" ></td><td class=\"right iz\" data-stat=\"outs\" ></td><td class=\"right iz\" data-stat=\"outs\" ></td><td class=\"right iz\" data-stat=\"outs\" ></td><td class=\"right iz\" data-stat=\"outs\" ></td><td class=\"right iz\" data-stat=\"outs\" ></td><td class=\"left \" data-stat=\"inning_summary_3\" colspan=3 >0 runs, 1 hit, 0 errors, 1 LOB. Giants 0, Yankees 5.</td></tr>\n",
       "<tr class=\"pbp_summary_top\" ><th scope=\"row\" class=\"left \" data-stat=\"inning_summary_12\" colspan=12 csk=\"65.9\" >Top of the 9th, Giants Batting, Behind 0-5, Yankees' Ron&nbsp;Marinaccio facing 3-4-5 </th></tr>\n",
       "<tr class=\"ingame_substitution\" ><th scope=\"row\" class=\"left iz\" data-stat=\"inning\" csk=\"65.95\" ></th><td class=\"right iz\" data-stat=\"outs1\" ></td><td class=\"right iz\" data-stat=\"outs2\" ></td><td class=\"right iz\" data-stat=\"outs3\" ></td><td class=\"right iz\" data-stat=\"outs\" ></td><td class=\"right iz\" data-stat=\"outs\" ></td><td class=\"right iz\" data-stat=\"outs\" ></td><td class=\"right iz\" data-stat=\"outs\" ></td><td class=\"right iz\" data-stat=\"outs\" ></td><td class=\"left \" data-stat=\"inning_summary_3\" colspan=3 ><div>Estevan&nbsp;Florial moves from PR to CF </div><div>Aaron&nbsp;Judge moves from CF to RF </div></td></tr>\n",
       "<tr id=\"event_66\" class=\" top_inning\" ><th scope=\"row\" class=\"left \" data-stat=\"inning\" csk=\"66\" >t9</th><td class=\"left \" data-stat=\"score_batting_team\" >0-5</td><td class=\"right iz\" data-stat=\"outs\" >0</td><td class=\"left endpoint\" data-endpoint=\"/tools/def.cgi?html=1&game-event=NYA202303300-66\" data-stat=\"runners_on_bases_pbp\" csk=\"0.000\" >---</td><td class=\"left endpoint\" data-endpoint=\"/tools/pitch.cgi?html=1&game-event=NYA202303300-66\" data-stat=\"pitches_pbp\" csk=\"7\" >7,(3-2)&nbsp;<span class=\"pitch_sequence\">..BBCFF.BX</span></td><td class=\"left \" data-stat=\"runs_outs_result\" >O</td><td class=\"left \" data-stat=\"batting_team_id\" csk=\"SFG.0.066\" >SFG</td><td class=\"left \" data-stat=\"batter\" csk=\"Flores,Wilmer0.066\" >Wilmer&nbsp;Flores</td><td class=\"left \" data-stat=\"pitcher\" csk=\"Marinaccio,Ron0.066\" >Ron&nbsp;Marinaccio</td><td class=\"right iz\" data-stat=\"win_probability_added\" >0%</td><td class=\"right \" data-stat=\"win_expectancy_post\" >100%</td><td class=\"left \" data-stat=\"play_desc\" csk=\"2.066\" >Groundout: SS-1B</td></tr>\n",
       "<tr id=\"event_67\" class=\" top_inning\" ><th scope=\"row\" class=\"left \" data-stat=\"inning\" csk=\"67\" >t9</th><td class=\"left \" data-stat=\"score_batting_team\" >0-5</td><td class=\"right \" data-stat=\"outs\" >1</td><td class=\"left endpoint\" data-endpoint=\"/tools/def.cgi?html=1&game-event=NYA202303300-67\" data-stat=\"runners_on_bases_pbp\" csk=\"0.000\" >---</td><td class=\"left endpoint\" data-endpoint=\"/tools/pitch.cgi?html=1&game-event=NYA202303300-67\" data-stat=\"pitches_pbp\" csk=\"9\" >9,(3-2)&nbsp;<span class=\"pitch_sequence\">S.BBSFBFFB</span></td><td class=\"left iz\" data-stat=\"runs_outs_result\" ></td><td class=\"left \" data-stat=\"batting_team_id\" csk=\"SFG.0.067\" >SFG</td><td class=\"left \" data-stat=\"batter\" csk=\"Pederson,Joc0.067\" >Joc&nbsp;Pederson</td><td class=\"left \" data-stat=\"pitcher\" csk=\"Marinaccio,Ron0.067\" >Ron&nbsp;Marinaccio</td><td class=\"right iz\" data-stat=\"win_probability_added\" >0%</td><td class=\"right \" data-stat=\"win_expectancy_post\" >99%</td><td class=\"left \" data-stat=\"play_desc\" csk=\"14.067\" >Walk</td></tr>\n",
       "<tr id=\"event_68\" class=\" top_inning\" ><th scope=\"row\" class=\"left \" data-stat=\"inning\" csk=\"68\" >t9</th><td class=\"left \" data-stat=\"score_batting_team\" >0-5</td><td class=\"right \" data-stat=\"outs\" >1</td><td class=\"left endpoint\" data-endpoint=\"/tools/def.cgi?html=1&game-event=NYA202303300-68\" data-stat=\"runners_on_bases_pbp\" csk=\"1.001\" >1--</td><td class=\"left endpoint\" data-endpoint=\"/tools/pitch.cgi?html=1&game-event=NYA202303300-68\" data-stat=\"pitches_pbp\" csk=\"4\" >4,(1-2)&nbsp;<span class=\"pitch_sequence\">A>F*BFC</span></td><td class=\"left \" data-stat=\"runs_outs_result\" >O</td><td class=\"left \" data-stat=\"batting_team_id\" csk=\"SFG.0.068\" >SFG</td><td class=\"left \" data-stat=\"batter\" csk=\"Davis,J.D.0.068\" >J.D.&nbsp;Davis</td><td class=\"left \" data-stat=\"pitcher\" csk=\"Marinaccio,Ron0.068\" >Ron&nbsp;Marinaccio</td><td class=\"right iz\" data-stat=\"win_probability_added\" >0%</td><td class=\"right \" data-stat=\"win_expectancy_post\" >100%</td><td class=\"left \" data-stat=\"play_desc\" csk=\"3.068\" >Strikeout Looking</td></tr>\n",
       "<tr id=\"event_69\" class=\" top_inning\" ><th scope=\"row\" class=\"left \" data-stat=\"inning\" csk=\"69\" >t9</th><td class=\"left \" data-stat=\"score_batting_team\" >0-5</td><td class=\"right \" data-stat=\"outs\" >2</td><td class=\"left endpoint\" data-endpoint=\"/tools/def.cgi?html=1&game-event=NYA202303300-69\" data-stat=\"runners_on_bases_pbp\" csk=\"1.001\" >1--</td><td class=\"left endpoint\" data-endpoint=\"/tools/pitch.cgi?html=1&game-event=NYA202303300-69\" data-stat=\"pitches_pbp\" csk=\"4\" >4,(1-2)&nbsp;<span class=\"pitch_sequence\">BFC>C</span></td><td class=\"left \" data-stat=\"runs_outs_result\" >O</td><td class=\"left \" data-stat=\"batting_team_id\" csk=\"SFG.0.069\" >SFG</td><td class=\"left \" data-stat=\"batter\" csk=\"Estrada,Thairo0.069\" >Thairo&nbsp;Estrada</td><td class=\"left \" data-stat=\"pitcher\" csk=\"Marinaccio,Ron0.069\" >Ron&nbsp;Marinaccio</td><td class=\"right iz\" data-stat=\"win_probability_added\" >0%</td><td class=\"right \" data-stat=\"win_expectancy_post\" >100%</td><td class=\"left \" data-stat=\"play_desc\" csk=\"3.069\" >Strikeout Looking</td></tr>\n",
       "<tr class=\"pbp_summary_bottom\" ><th scope=\"row\" class=\"left iz\" data-stat=\"inning\" csk=\"69.2\" ></th><td class=\"right iz\" data-stat=\"outs1\" ></td><td class=\"right iz\" data-stat=\"outs2\" ></td><td class=\"right iz\" data-stat=\"outs3\" ></td><td class=\"right iz\" data-stat=\"outs\" ></td><td class=\"right iz\" data-stat=\"outs\" ></td><td class=\"right iz\" data-stat=\"outs\" ></td><td class=\"right iz\" data-stat=\"outs\" ></td><td class=\"right iz\" data-stat=\"outs\" ></td><td class=\"left \" data-stat=\"inning_summary_3\" colspan=3 ><span class=\"half_inning_summary\">0 runs, 0 hits, 0 errors, 1 LOB. Giants 0, Yankees 5.</span></td></tr>\n",
       "\n",
       "</table>\n",
       "\n",
       "\n",
       "</div>\n",
       "-->\n",
       "</div>\n",
       "<div class=\"section_wrapper setup_commented commented\" id=\"all_6920978085\">\n",
       "<div class=\"section_heading assoc_6920978085\" id=\"6920978085_sh\">\n",
       "<span class=\"section_anchor\" data-label=\"Links &amp; PBP Explanation\" id=\"6920978085_link\"></span>\n",
       "</div><div class=\"placeholder\"></div>\n",
       "<!--     <div class=\"section_content\" id=\"div_6920978085\">\n",
       "\t    <p>\n",
       "\t\n",
       "\n",
       "    \n",
       "</p>\n",
       "\n",
       "<a name='explain'>\n",
       "<h3>Play-by-Play Explanation</h3>\n",
       "<ul id=\"pbpexplain\">\n",
       "\n",
       "<li><strong>Score</strong>- The score from the perspective of the batting team.</li>\n",
       "\n",
       "<li><strong>RoB</strong>- This gives the baserunner (Runners on Base)\n",
       "configuration at the start of the play. \"1-3\" would mean runners on\n",
       "first and third.  Clicking on this will show the defensive players and\n",
       "baserunners on the field for this play.</li>\n",
       "\n",
       "<li><strong>Pit</strong>- When available, the number of pitches in this plate\n",
       "appearance. Clicking on this number will show the sequence of pitches\n",
       "thrown including, when available, things like runner going, ball\n",
       "blocked, attempted pickoffs and the like.  We believe this data to be\n",
       "as accurate as humanly possible, but there are going to be some errors\n",
       "in the data, so please take it with a grain of salt. Clicking on this\n",
       "will show the defensive players and baserunners on the field for this\n",
       "play.</li>\n",
       "\n",
       "<li><strong>R/O</strong>- This has a \"O\" for every out on the play and an\n",
       "\"R\" for every run that scored on the play.  Some plays will have both\n",
       "in no particular order. </li>\n",
       "\n",
       "<LI><strong>Batter</strong>- The batter at the plate when this play occurred. If\n",
       "the play is a baserunning event, then the batter's name will be\n",
       "repeated as indicated by quotes.</LI>\n",
       "\n",
       "<LI><strong>Pitcher</strong>- The pitcher on the mound when this play\n",
       "occurred. </LI>\n",
       "\n",
       "<LI><strong>wWPA</strong>- Winning Team's Win Probability Added.  The\n",
       "amount that this play increased or decreased the eventual winning\n",
       "team's probability of winning the game. <a\n",
       "href=\"/about/wpa.shtml\">More About Win Probability Added</a></li>\n",
       "\n",
       "<LI><strong>wWE</strong>- Winning Team's Win Expectancy.  The\n",
       "probability of the eventual winning team winning the game at the end of \n",
       "this play given two average teams playing each other. <a\n",
       "href=\"/about/wpa.shtml\">More About Win Probability Added</a></li>\n",
       "\n",
       "<LI><strong>Play Detail</strong>- This is an explanation of the play that\n",
       "occurred.  In some cases, batted ball location and type will be\n",
       "indicated within parentheses.  Again, these are best efforts to the\n",
       "record the game as it happened.  Also, plays made on the baserunners\n",
       "(including the batter as a baserunner) will be indicated in\n",
       "parentheses after the baserunner's name.  Advancement of baserunners\n",
       "is given in cases where the advancement is not easily deduced or\n",
       "obvious from the play.  For example, advancement for a walk will not\n",
       "be given, but for a single or double it will be given.</LI> \n",
       "</ul>\n",
       "\n",
       "<p>Please <a href=\"https://www.sports-reference.com/feedback/\">report any\n",
       "issues</a> or strangeness you see with the description of plays given\n",
       "above.  We have tested several hundred different types of plays, but,\n",
       "in all likelihood, there are still some errors or misinterpretations\n",
       "of the play-by-play data.</p>\n",
       "\n",
       "\n",
       "\n",
       "<p></p>\n",
       "\n",
       "<p class=\"note\">In some cases, the results from play-by-play data will contradict\n",
       "results in the official record.  The official record has many, many\n",
       "errors, but we have not undertaken to reconcile those errors.\n",
       "Pitch-by-pitch data should not be taken as completely accurate, though\n",
       "we believe it to be as accurate as is currently possible.</p>\n",
       "\n",
       "<p class=\"note\">Box scores and play-by-play outputs produced by Sports Reference LLC.  All Rights Reserved.</p>\n",
       "\n",
       "\t\t\n",
       "    </div>\n",
       "-->\n",
       "</div>\n",
       "<!-- global.nonempty_tables_num: 10, table_count: 10 -->\n",
       "<!-- no Local/Partials/NoteBottom.tt2 -->\n",
       "<div class=\"section_wrapper\" id=\"bottom_nav\">\n",
       "<div class=\"section_heading\"><span class=\"section_anchor\" data-label=\"Schedules, Scores, &amp; Boxes\" data-no-inpage=\"1\" id=\"inner_nav_bottom_link\"></span><h2>Schedules, Scores, &amp; Boxes</h2></div>\n",
       "<div class=\"section_content\" id=\"bottom_nav_container\">\n",
       "<p><a href=\"/boxes/\">MLB Scores &amp; Boxes</a></p>\n",
       "<ul class=\"\">\n",
       "<li><a href=\"/leagues/majors/2023-schedule.shtml\">2023 MLB Scores &amp; Schedule</a></li>\n",
       "<li><a href=\"/teams/NYY/2023-schedule-scores.shtml\">New York Yankees Schedule</a></li>\n",
       "<li><a href=\"/teams/SFG/2023-schedule-scores.shtml\">San Francisco Giants Schedule</a></li>\n",
       "</ul></div></div>\n",
       "<!-- fs_footer -->\n",
       "<div class=\"adblock\">\n",
       "<!-- div#fs_fs_footer  -->\n",
       "<div align=\"center\" data-freestar-ad=\"__300x250 __970x90\" id=\"div-gpt-ad-728x90-Footer\">\n",
       "<script data-cfasync=\"false\" type=\"text/javascript\">\n",
       "    if (sr_detect_ie || sr_detect_edge || Modernizr.adfree) {\n",
       "    }\n",
       "    else {\n",
       "        console.log('push ad:div-gpt-ad-728x90-Footer');\n",
       "        freestar.queue.push(function() { googletag.display('div-gpt-ad-728x90-Footer'); });\n",
       "    }\n",
       "    </script>\n",
       "</div>\n",
       "<!-- /div.#fs_fs_footer -->\n",
       "</div>\n",
       "</div><!-- div#content -->\n",
       "<div id=\"footer\" role=\"contentinfo\">\n",
       "<div id=\"footer_header\">\n",
       "<ul class=\"bullets-inline\"><li class=\"user logged_in\">Welcome <span class=\"username\"></span> · <a href=\"https://stathead.com/profile/?utm_source=br&amp;utm_medium=sr_xsite&amp;utm_campaign=2023_01_srnav_account\">Your Account</a></li>\n",
       "<li class=\"user logged_in\"><a class=\"logout\" href=\"https://stathead.com/profile/?do=logout\" onclick=\"sr_auth_logout_page_elements();if(!this.href.match('redirect_uri')){this.href += '&amp;redirect_uri='+escape(document.location.href)}\">Logout</a></li>\n",
       "<li class=\"user not_logged_in\"><a class=\"login\" href=\"https://stathead.com/users/login.cgi?token=1\" onclick=\"if(!this.href.match('redirect_uri')){this.href += '&amp;redirect_uri='+escape(document.location.href)}\">Login</a></li>\n",
       "<li class=\"user not_logged_in\"><a href=\"https://stathead.com/users/signup.cgi\">Create Account</a></li>\n",
       "</ul>\n",
       "<div class=\"breadcrumbs\">You are here: <span itemprop=\"itemListElement\" itemscope=\"\" itemtype=\"https://schema.org/ListItem\"><a href=\"/\" itemprop=\"item\"><span itemprop=\"name\">BR Home Page</span></a> <meta content=\"1\" itemprop=\"position\"/></span> &gt; <span itemprop=\"itemListElement\" itemscope=\"\" itemtype=\"https://schema.org/ListItem\"><a href=\"/boxes/\" itemprop=\"item\"><span itemprop=\"name\">Box Scores</span></a> <meta content=\"2\" itemprop=\"position\"/></span> &gt; <span itemprop=\"itemListElement\" itemscope=\"\" itemtype=\"https://schema.org/ListItem\"><a href=\"/leagues/majors/2023-schedule.shtml\" itemprop=\"item\"><span itemprop=\"name\">2023</span></a> <meta content=\"3\" itemprop=\"position\"/></span> &gt; <strong>San Francisco Giants vs New York Yankees Box Score: March 30, 2023</strong></div>\n",
       "</div><!-- div#footer_header -->\n",
       "<div id=\"footer_general\">\n",
       "<div aria-label=\"complete site index\" id=\"site_menu\" role=\"navigation\">\n",
       "<div class=\"section_heading assoc_site_menu\" id=\"site_menu_sh\">\n",
       "<span class=\"section_anchor\" data-label=\"Full Site Menu\" data-no-inpage=\"1\" id=\"site_menu_link\"></span><h2>Full Site Menu</h2> <div class=\"section_heading_text\">\n",
       "<ul><li><a data-scroll=\"\" href=\"#header\">Return to Top</a></li>\n",
       "</ul>\n",
       "</div>\n",
       "</div>\n",
       "<ul>\n",
       "<li><a href=\"/players/\">Major League Players</a>\n",
       "<div>Current Greats: <a href=\"/players/k/kershcl01.shtml\">Clayton Kershaw</a>, \n",
       "<a href=\"/players/t/troutmi01.shtml\">Mike Trout</a>, \n",
       "<a href=\"/players/b/bettsmo01.shtml\">Mookie Betts</a>, \n",
       "<a href=\"/players/d/degroja01.shtml\">Jacob deGrom</a>, \n",
       "<a href=\"/players/c/cabremi01.shtml\">Miguel Cabrera</a>, \n",
       "<a href=\"/players/g/greinza01.shtml\">Zack Greinke</a>, \n",
       "<a href=\"/players/a/altuvjo01.shtml\">Jose Altuve</a>,\n",
       "...   </div>\n",
       "<div>All-Time Greats:  \n",
       "<a href=\"/players/m/musiast01.shtml\">Stan Musial</a>, \n",
       "<a href=\"/players/b/bondsba01.shtml\">Barry Bonds</a>, \n",
       "<a href=\"/players/r/ruthba01.shtml\">Babe Ruth</a>, \n",
       "<a href=\"/players/j/jeterde01.shtml\">Derek Jeter</a>, \n",
       "<a href=\"/players/c/charlos99.shtml\">Oscar Charleston</a>, \n",
       "<a href=\"/players/g/griffke02.shtml\">Ken Griffey Jr</a>, \n",
       "<a href=\"/players/r/robinja02.shtml\">Jackie Robinson</a>, \n",
       "<a href=\"/players/a/aaronha01.shtml\">Hank Aaron</a>, ...</div>\n",
       "</li>\n",
       "<li><a href=\"/teams/\">Major League Teams</a>\n",
       "<div class=\"division\"><strong>NL East</strong>:\n",
       "<a href=\"/teams/ATL/\">Atlanta Braves</a>, \n",
       "<a href=\"/teams/FLA/\">Miami Marlins</a>, \n",
       "<a href=\"/teams/NYM/\">New York Mets</a>, \n",
       "<a href=\"/teams/PHI/\">Philadelphia Phillies</a>, \n",
       "<a href=\"/teams/WSN/\">Washington Nationals</a>\n",
       "</div>\n",
       "<div class=\"division\"><strong>NL Central</strong>:\n",
       "<a href=\"/teams/CHC/\">Chicago Cubs</a>, \n",
       "<a href=\"/teams/CIN/\">Cincinnati Reds</a>, \n",
       "<a href=\"/teams/MIL/\">Milwaukee Brewers</a>, \n",
       "<a href=\"/teams/PIT/\">Pittsburgh Pirates</a>, \n",
       "<a href=\"/teams/STL/\">St. Louis Cardinals</a>\n",
       "</div>\n",
       "<div class=\"division\"><strong>NL West</strong>:\n",
       "<a href=\"/teams/ARI/\">Arizona Diamondbacks</a>, \n",
       "<a href=\"/teams/COL/\">Colorado Rockies</a>, \n",
       "<a href=\"/teams/LAD/\">Los Angeles Dodgers </a>, \n",
       "<a href=\"/teams/SDP/\">San Diego Padres</a>, \n",
       "<a href=\"/teams/SFG/\">San Francisco Giants</a>\n",
       "</div>\n",
       "<div class=\"division\"><strong>AL East</strong>:\n",
       "<a href=\"/teams/BAL/\">Baltimore Orioles</a>, \n",
       "<a href=\"/teams/BOS/\">Boston Red Sox</a>, \n",
       "<a href=\"/teams/NYY/\">New York Yankees</a>, \n",
       "<a href=\"/teams/TBR/\">Tampa Bay Rays</a>, \n",
       "<a href=\"/teams/TOR/\">Toronto Blue Jays</a>\n",
       "</div>\n",
       "<div class=\"division\"><strong>AL Central</strong>:\n",
       "<a href=\"/teams/CHW/\">Chicago White Sox</a>, \n",
       "<a href=\"/teams/CLE/\">Cleveland Guardians</a>, \n",
       "<a href=\"/teams/DET/\">Detroit Tigers</a>, \n",
       "<a href=\"/teams/KCR/\">Kansas City Royals</a>, \n",
       "<a href=\"/teams/MIN/\">Minnesota Twins</a>\n",
       "</div>\n",
       "<div class=\"division\"><strong>AL West</strong>:\n",
       "<a href=\"/teams/HOU/\">Houston Astros</a>, \n",
       "<a href=\"/teams/LAA/\">Los Angeles Angels</a>, \n",
       "<a href=\"/teams/OAK/\">Oakland Athletics</a>, \n",
       "<a href=\"/teams/SEA/\">Seattle Mariners</a>, \n",
       "<a href=\"/teams/TEX/\">Texas Rangers</a>\n",
       "</div>\n",
       "</li>\n",
       "<li><a href=\"/leagues/\">Seasons</a>\n",
       "<div><a href=\"/leagues/majors/2023.shtml\">2023</a>,\n",
       "\t     <a href=\"/leagues/majors/2022.shtml\">2022</a>,\n",
       "\t     <a href=\"/leagues/majors/2023-standard-pitching.shtml\">2023 MLB Pitching</a>,\n",
       "\t     <a href=\"/leagues/majors/2023-standard-batting.shtml\">2023 MLB Batting</a>,\n",
       "\t     <a href=\"/leagues/majors/2023-standings.shtml\">2023 MLB Standings</a>,\n",
       "\t     <a href=\"/leagues/majors/2023-misc.shtml\">2023 MLB Attendance</a>,\n",
       "\t     <a href=\"/leagues/majors/2023-rookies.shtml\">2023 MLB Rookies</a>,\n",
       "\t     ...</div>\n",
       "</li>\n",
       "<li><a href=\"/leagues/MLB-leaders.shtml\">Major League Leaders</a>\n",
       "<div>\n",
       "<a href=\"/leagues/majors/2023-batting-leaders.shtml\">2023 MLB Batting</a>,\n",
       "\t     <a href=\"/leagues/majors/2023-pitching-leaders.shtml\">2023 MLB Pitching</a>,\n",
       "\t     <a href=\"/leaders/WAR_career.shtml\">Career WAR Leaders</a>,\n",
       "\t     <a href=\"/leaders/HR_season.shtml\">Single-Season Home Run Leaders</a>,\n",
       "\t     <a href=\"/leaders/SO_p_active.shtml\">Active Strikeout Leaders</a>,\n",
       "\t     <a href=\"/friv/milestones.cgi\">Upcoming Player Milestones</a>,\n",
       "\t     ...</div>\n",
       "</li>\n",
       "<li><a href=\"/boxes/\">MLB Scores</a>\n",
       "<div><a href=\"/boxes/\">Yesterday's MLB Games</a>,\n",
       "\t     <a href=\"/boxes/\">Scores from any date in Major League history</a>,\n",
       "\t     <a href=\"/previews/\">MLB Probable Pitchers</a>,\n",
       "\t     <a href=\"/stream-finder.shtml\">Baseball-Reference Stream Finder</a>,\n",
       "\t     ...</div>\n",
       "</li>\n",
       "<li><a href=\"/leagues/MLB-schedule.shtml\">MLB Schedule</a></li>\n",
       "<li><a href=\"/leagues/MLB-standings.shtml\">MLB Standings</a>\n",
       "<div>\n",
       "<a href=\"/leagues/AL/2023-standings.shtml\">AL Standings</a>,\n",
       "\t     <a href=\"/leagues/NL/2023-standings.shtml\">NL Standings</a>,\n",
       "\t     <a href=\"/boxes/\">Standings for any date in history</a>,\n",
       "\t     ...</div>\n",
       "</li>\n",
       "<li><a href=\"/postseason/\">Playoffs</a>\n",
       "<div>\n",
       "<a href=\"/postseason/world-series.shtml\">World Series Winners</a>,\n",
       "\t     <a href=\"/postseason/2019_WS.shtml\">2019 World Series: Astros vs Nationals</a>,\n",
       "\t     <a href=\"/postseason/2018_WS.shtml\">2018 World Series: Red Sox vs Dodgers</a>,\n",
       "\t     <a href=\"/postseason/2017_WS.shtml\">2017 World Series: Astros vs Dodgers</a>,\n",
       "\t     <a href=\"/postseason/WS_batting.shtml\">World Series Batting Leaders</a>,\n",
       "\t     <a href=\"/postseason/WS_pitching.shtml\">World Series Pitching Leaders</a>,\n",
       "\t     ...</div>\n",
       "</li>\n",
       "<li><a href=\"https://stathead.com/?ref=br&amp;utm_medium=sr_xsite&amp;utm_source=br&amp;utm_campaign=2023_01_footernav_stathead\" target=\"_blank\">Stathead</a>\n",
       "<div>Player Finders:\n",
       "\t     <a href=\"https://stathead.com/baseball/player-batting-season-finder.cgi?utm_medium=sr_xsite&amp;utm_source=br&amp;utm_campaign=2023_01_footernav_stathead\" target=\"_blank\">Season &amp; Career Finder</a>,\n",
       "\t     <a href=\"https://stathead.com/baseball/player-batting-game-finder.cgi?utm_medium=sr_xsite&amp;utm_source=br&amp;utm_campaign=2023_01_footernav_stathead\" target=\"_blank\">Game Finder</a>,\n",
       "\t     <a href=\"https://stathead.com/baseball/player-batting-streak-finder.cgi?utm_medium=sr_xsite&amp;utm_source=br&amp;utm_campaign=2023_01_footernav_stathead\" target=\"_blank\">Streak Finder</a>,\n",
       "\t     <a href=\"https://stathead.com/baseball/player-batting-span-finder.cgi?utm_medium=sr_xsite&amp;utm_source=br&amp;utm_campaign=2023_01_footernav_stathead\" target=\"_blank\">Span Finder</a>,\n",
       "\t     <a href=\"https://stathead.com/baseball/split_finder.cgi?type=b&amp;utm_medium=sr_xsite&amp;utm_source=br&amp;utm_campaign=2023_01_footernav_stathead\" target=\"_blank\">Split Finder</a>,\n",
       "\t     <a href=\"https://stathead.com/baseball/player-comparison.cgi?utm_medium=sr_xsite&amp;utm_source=br&amp;utm_campaign=2023_01_footernav_stathead\" target=\"_blank\">Player Comparison Finder</a>,\n",
       "\t     ...</div>\n",
       "<div>Team Finders:\n",
       "\t     <a href=\"https://stathead.com/baseball/team-batting-season-finder.cgi?utm_medium=sr_xsite&amp;utm_source=br&amp;utm_campaign=2023_01_footernav_stathead\" target=\"_blank\">Season Finder</a>,\n",
       "\t     <a href=\"https://stathead.com/baseball/team-batting-game-finder.cgi?utm_medium=sr_xsite&amp;utm_source=br&amp;utm_campaign=2023_01_footernav_stathead\" target=\"_blank\">Game Finder</a>,\n",
       "\t     <a href=\"https://stathead.com/baseball/team-batting-streak-finder.cgi?&amp;utm_medium=sr_xsite&amp;utm_source=br&amp;utm_campaign=2023_01_footernav_stathead\" target=\"_blank\">Streak Finder</a>,\n",
       "\t     <a href=\"https://stathead.com/baseball/team-batting-span-finder.cgi?class=team&amp;utm_medium=sr_xsite&amp;utm_source=br&amp;utm_campaign=2023_01_footernav_stathead\" target=\"_blank\">Span Finder</a>,\n",
       "\t     <a href=\"https://stathead.com/baseball/split_finder.cgi?class=team&amp;utm_medium=sr_xsite&amp;utm_source=br&amp;utm_campaign=2023_01_footernav_stathead\" target=\"_blank\">Split Finder</a>,\n",
       "\t     <a href=\"https://stathead.com/baseball/event_finder.cgi?class=team&amp;utm_medium=sr_xsite&amp;utm_source=br&amp;utm_campaign=2023_01_footernav_stathead\" target=\"_blank\">Event Finder</a>,\n",
       "\t     ...</div>\n",
       "<div>Other Finders:\n",
       "\t     <a href=\"/draft/\">Draft Finder</a>,\n",
       "\t     <a href=\"/friv/trade-partners.cgi\">Team Trade Histories</a>,\n",
       "\t     <a href=\"/teams/head2head.cgi\">Head-to-Head Records</a>,\n",
       "\t     ...</div>\n",
       "</li>\n",
       "<li><a href=\"/managers/\">Managers</a>\n",
       "<div>Active:\n",
       "\t     <a href=\"/managers/francte01.shtml\">Terry Francona</a>,\n",
       "\t     <a href=\"/managers/baldero01.shtml\">Rocco Baldelli</a>,\n",
       "\t     <a href=\"/managers/roberda07.shtml\">Dave Roberts</a>,\n",
       "\t     ...</div>\n",
       "<div>Retired:\n",
       "\t     <a href=\"/managers/mcgrajo01.shtml\">John McGraw</a>,\n",
       "\t     <a href=\"/managers/coxbo01.shtml\">Bobby Cox</a>,\n",
       "\t     <a href=\"/managers/weaveea99.shtml\">Earl Weaver</a>,\n",
       "\t     ...</div>\n",
       "</li>\n",
       "<li><a href=\"/awards/\">Awards</a>\n",
       "<div>\n",
       "<a href=\"/awards/hof.shtml\">Baseball Hall of Fame</a>,\n",
       "\t     <a href=\"/awards/mvp.shtml\">MLB MVP's</a>,\n",
       "\t     <a href=\"/awards/cya.shtml\">MLB Cy Young Award</a>,\n",
       "\t     <a href=\"/awards/roy.shtml\">MLB Rookie of the Year</a>,\n",
       "\t     <a href=\"/awards/gold_glove_nl.shtml\">Rawlings Gold Gloves</a>,\n",
       "\t     <a href=\"/awards/hof_2023.shtml\">2023 HOF results</a>,\n",
       "\t     <a href=\"/awards/hof_2024.shtml\">2024 Hall of Fame ballot</a>,\n",
       "\t     ...</div>\n",
       "</li>\n",
       "<li><a href=\"/allstar/\">All-Star Games</a>\n",
       "<div>\n",
       "<a href=\"/allstar/2023-allstar-game.shtml\">2023 All-Star Game</a>,\n",
       "\t     <a href=\"/allstar/2022-allstar-game.shtml\">2022 All-Star Game</a>,\n",
       "\t     <a href=\"/allstar/bat-register.shtml\">All-Time All-Star Batters</a>,\n",
       "\t     <a href=\"/allstar/pitch-register.shtml\">All-Time All-Star Pitchers</a>,\n",
       "\t     ...</div>\n",
       "</li>\n",
       "<li><a href=\"/friv/\">Frivolities</a> and More\n",
       "\t     <div>\n",
       "<a href=\"/oracle/\">Oracle of Baseball</a>,\n",
       "\t     <a href=\"/friv/numbers.cgi\">Uniform Number Tracker</a>,\n",
       "\t     <a href=\"/friv/coffee.shtml\">Cups of Coffee</a>,\n",
       "\t     <a href=\"/friv/baseball-player-name-pronunciation-guide.shtml\">Pronunciation Guide</a>,\n",
       "\t     <a href=\"/bio/\">Birthplaces</a>,\n",
       "\t     <a href=\"/schools/\">Players by School Attended</a>,\n",
       "\t     ....</div>\n",
       "</li>\n",
       "<li><a href=\"/draft/\">MLB Draft</a>\n",
       "<div>\n",
       "<a href=\"/draft/?query_type=year_round&amp;year_ID=2022&amp;draft_round=1&amp;draft_type=junreg&amp;\">2022 Draft</a>,\n",
       "\t     <a href=\"/draft/?query_type=year_round&amp;year_ID=2021&amp;draft_round=1&amp;draft_type=junreg&amp;\">2021 Draft</a>,\n",
       "\t     <a href=\"/draft/?query_type=year_round&amp;year_ID=2020&amp;draft_round=1&amp;draft_type=junreg&amp;\">2020 Draft</a>,\n",
       "\t     <a href=\"/draft/?overall_pick=1&amp;draft_type=junreg&amp;\">MLB Number One Picks</a>,\n",
       "\t     ...</div>\n",
       "</li>\n",
       "<li><a href=\"/register/\">Minor, Foreign, College, &amp; Black Baseball</a>\n",
       "<div>\n",
       "<a href=\"/register/minor-league-stats.shtml\">Minor League Stats</a>,\n",
       "\t     <a href=\"/register/negro-league-stats.shtml\">Black Baseball Stats</a>,\n",
       "\t     <a href=\"/register/npb-stats.shtml\">Nippon Pro Baseball Stats</a>,\n",
       "\t     <a href=\"/register/cuban-league-stats.shtml\">Cuban National Series Stats</a>,\n",
       "\t     <a href=\"/register/kbo-stats.shtml\">Korean Baseball Stats</a>,\n",
       "\t     <a href=\"/register/league.cgi?year=2023\">2023 Minor Leagues</a>,\n",
       "\t     <a href=\"/register/affiliate.cgi?year=2023\">2023 Affiliates</a>,\n",
       "\t     ...</div>\n",
       "</li>\n",
       "<li><a href=\"/bullpen/\">Baseball-Reference Bullpen</a>\n",
       "<div>\n",
       "<a href=\"/bullpen/\">100,000+ pages of baseball information</a>,\n",
       "\t     <a href=\"/bullpen/How_to_contribute\">How to Contribute</a>,\n",
       "\t     ...</div>\n",
       "</li>\n",
       "<li><a href=\"/about/\">About Baseball Reference</a>\n",
       "<div>\n",
       "<a href=\"/about/bat_glossary.shtml\">Batting Glossary</a>,\n",
       "\t     <a href=\"/about/pitch_glossary.shtml\">Pitching Glossary</a>,\n",
       "\t     <a href=\"/about/war_explained.shtml\">Wins Above Replacement Explainer</a>,\n",
       "\t     <a href=\"/data/\">WAR data archive</a>,\n",
       "\t     <a href=\"/about/coverage.shtml\">BR Data Coverage</a>,\n",
       "\t     <a href=\"/about/mlb-baseball-faqs.html\">Frequently Asked Questions about MLB and Baseball</a>,\n",
       "\t     ...</div>\n",
       "</li>\n",
       "</ul>\n",
       "<ul>\n",
       "<li></li>\n",
       "<li><a href=\"https://www.baseball-reference.com/br-blog/\">Baseball-Reference.com Blog and Articles</a></li>\n",
       "</ul></div><!-- div#site_menu -->\n",
       "<div>\n",
       "<div class=\"icon_group noload\" id=\"social\">\n",
       "<div class=\"section_heading assoc_\" id=\"_sh\">\n",
       "<span class=\"section_anchor\" data-label=\"We're Social...for Statheads\" data-no-inpage=\"1\" id=\"_link\"></span><h2>We're Social...for Statheads</h2>\n",
       "</div>\n",
       "<a aria-label=\"Telephone\" class=\"poptip\" data-label=\"Telephone\" data-tip=\"Call us on Telephone\" href=\"tel://888-512-8907\"><svg class=\"icon phone\"><use xlink:href=\"#ic-phone\"></use></svg></a>\n",
       "<a aria-label=\"Our Blog\" class=\"poptip\" data-label=\"Our Blog\" data-tip=\"The Sports Reference Blog\" href=\"//www.sports-reference.com/blog/\"><svg class=\"icon wordpress\"><use xlink:href=\"#ic-wordpress\"></use></svg></a>\n",
       "<a aria-label=\"RSS Feed\" class=\"poptip\" data-label=\"RSS Feed\" data-tip=\"Our Blog's RSS Feed\" href=\"https://www.sports-reference.com/blog/feed/\"><svg class=\"icon rss\"><use xlink:href=\"#ic-rss\"></use></svg></a>\n",
       "<a aria-label=\"Twitter\" class=\"poptip\" data-label=\"Twitter\" data-tip=\"Baseball-Reference.com at Twitter\" href=\"https://twitter.com/baseball_ref\"><svg class=\"icon twitter\"><use xlink:href=\"#ic-twitter\"></use></svg></a>\n",
       "<a aria-label=\"TikTok\" class=\"poptip\" data-label=\"TikTok\" data-tip=\"Baseball-Reference.com at TikTok\" href=\"https://www.tiktok.com/@baseball.reference\"><svg class=\"icon tiktok\"><use xlink:href=\"#ic-tiktok\"></use></svg></a>\n",
       "<a aria-label=\"Reddit/r/SR\" class=\"poptip\" data-label=\"Reddit/r/SR\" data-tip=\"Reddit/r/SportsReference\" href=\"https://reddit.com/r/SportsReference\"><svg class=\"icon reddit\"><use xlink:href=\"#ic-reddit\"></use></svg></a>\n",
       "<a aria-label=\"YouTube\" class=\"poptip\" data-label=\"YouTube\" data-tip=\"YouTube/SportsReference\" href=\"https://www.youtube.com/user/sportsreference\"><svg class=\"icon youtube\"><use xlink:href=\"#ic-youtube\"></use></svg></a>\n",
       "<a aria-label=\"LinkedIn\" class=\"poptip\" data-label=\"LinkedIn\" data-tip=\"Follow SR on LinkedIn\" href=\"https://www.linkedin.com/company/sports-reference-llc\"><svg class=\"icon linkedin\"><use xlink:href=\"#ic-linkedin\"></use></svg></a>\n",
       "<a aria-label=\"PayPal\" class=\"poptip\" data-label=\"PayPal\" data-tip=\"Send us money via PayPal\" href=\"https://www.paypal.me/sportsref\"><svg class=\"icon paypal\"><use xlink:href=\"#ic-paypal\"></use></svg></a>\n",
       "<p>Every <a href=\"https://www.sports-reference.com/blog/sports-reference-social-media/\">Sports Reference Social Media Account</a></p>\n",
       "<p><strong>Site Last Updated:</strong> Wednesday, May 17,  4:44AM\n",
       "</p>\n",
       "<p><a class=\"button\" href=\"https://www.sports-reference.com/feedback/\" style=\"display: block\">Question, Comment, Feedback, or Correction?</a></p>\n",
       "<p><a class=\"button\" href=\"https://www.baseball-reference.com/email\" style=\"display: block\">Subscribe to our Free Email Newsletter</a></p>\n",
       "<p><a class=\"button alt\" href=\"https://stathead.com/sport/baseball/?utm_medium=sr_xsite&amp;utm_source=br&amp;utm_campaign=2023_01_footerbttn_stathead\" style=\"background-color:#7e3e89; color: #fff;\">Subscribe to Stathead Baseball: Get your first month FREE<br/><em>Your All-Access Ticket to the Baseball Reference Database</em></a></p>\n",
       "<p><a href=\"https://www.sports-reference.com/blog/ways-sports-reference-can-help-your-website/?utm_medium=sr&amp;utm_source=br&amp;utm_campaign=site-footer-ways-help\">Do you have a sports website? Or write about sports? We have tools and resources that can help you use sports data.  Find out more.</a></p>\n",
       "</div><!-- div#social -->\n",
       "<div id=\"tips_tricks\">\n",
       "<div class=\"section_heading assoc_tips\" id=\"tips_sh\">\n",
       "<span class=\"section_anchor\" data-label=\"FAQs, Tip &amp; Tricks\" data-no-inpage=\"1\" id=\"tips_link\"></span><h2>FAQs, Tip &amp; Tricks</h2>\n",
       "</div>\n",
       "<ul>\n",
       "<li>Learn about the <a href=\"//www.baseball-reference.com/about/war_explained.shtml\">Wins Above Replacement Formula</a></li>\n",
       "<li><a href=\"//www.sports-reference.com/blog/category/tips-and-tricks/\">Tips and Tricks from our Blog.</a></li>\n",
       "<li><a href=\"/linker/\">Do you have a blog? Join our linker program.</a></li>\n",
       "<li><a href=\"https://www.sports-reference.com/blog/category/stathead-tutorial-series/\">Watch our How-To Videos to Become a Stathead</a></li>\n",
       "<li><a href=\"//stathead.com/?ref=br\">Subscribe to Stathead and get access to more data than you can imagine</a></li>\n",
       "</ul>\n",
       "</div><!-- div#tips_tricks -->\n",
       "<div id=\"credits\">\n",
       "<p>All logos are the trademark &amp; property of their owners and not Sports Reference LLC.  We present them here for purely educational purposes.\n",
       "\t\t\t\t<a href=\"https://www.sports-reference.com/blog/2016/06/redesign-team-and-league-logos-courtesy-sportslogos-net/\">Our reasoning for presenting offensive logos.</a></p>\n",
       "<p>\n",
       "\t\t\t\t\t\n",
       "\t\t\t\t\tLogos were compiled by the amazing <a href=\"http://sportslogos.net/\">SportsLogos.net.</a>\n",
       "</p>\n",
       "<p>Copyright © 2000-2023 <a href=\"//www.sports-reference.com/\">Sports Reference LLC</a>. All rights reserved.</p>\n",
       "<p>The SPORTS REFERENCE and STATHEAD trademarks are owned exclusively by Sports Reference LLC. Use without license or authorization is expressly prohibited.\n",
       "     <p>Much of the play-by-play, game results, and transaction information both shown and used to create certain data sets was obtained free of charge from and is copyrighted by <a href=\"https://www.retrosheet.org/\" rel=\"noopener nofollow\">RetroSheet</a>.</p>\n",
       "<p>Win Expectancy, Run Expectancy, and Leverage Index calculations provided by Tom Tango of <a href=\"http://www.tangotiger.com/index.php\" rel=\"noopener nofollow\">InsideTheBook.com</a>, and co-author of <a class=\"italic_text\" href=\"\" rel=\"nofollow\">The Book: Playing the Percentages in Baseball</a>.</p>\n",
       "<p>Total Zone Rating and initial framework for Wins above Replacement calculations provided by Sean Smith.</p>\n",
       "<p>Full-year historical Major League statistics provided by Pete Palmer and Gary Gillette of <a href=\"http://www.hiddengamesports.com/\" rel=\"noopener nofollow\">Hidden Game Sports</a>.</p>\n",
       "<p><a href=\"https://www.sportsinfosolutions.com/\" rel=\"noopener nofollow\"><img alt=\"Sports Info Solutions logo\" src=\"https://cdn.ssref.net/req/202305161/images/br/sis_logo.png\"/></a></p>\n",
       "<p>Some defensive statistics Copyright © <a href=\"https://www.sportsinfosolutions.com/\" rel=\"noopener nofollow\">Sports Info Solutions</a>, 2010-2023.</p>\n",
       "<p>Some high school data is courtesy David McWater.</p>\n",
       "<p>Many historical player head shots courtesy of David Davis. Many thanks to him. All images are property the copyright holder and are displayed here for informational purposes only.</p>\n",
       "<div class=\"notice\">\n",
       "<p>Data Provided By\n",
       "\t<a href=\"https://www.sportradar.com/\" rel=\"nofollow\"><img alt=\"SportRadar\" border=\"0\" src=\"https://cdn.ssref.net/req/202305161/images/klecko/sportradar.png\" style=\"background-color:#666; padding:.5em; border-radius:.25em\" width=\"275\"/></a>\n",
       "\tthe official stats partner of the NBA, NHL and MLB.</p>\n",
       "</div>\n",
       "</p></div><!-- div#credits -->\n",
       "</div>\n",
       "</div>\n",
       "<ul class=\"notranslate bullets-inline\" id=\"site_dirs\">\n",
       "<li><a href=\"https://www.sports-reference.com/?utm_source=br&amp;utm_medium=sr_xsite&amp;utm_campaign=2023_01_srnav_footer\"><svg height=\"15px\" width=\"20px\"><use xlink:href=\"#ic-sr-pennant\"></use></svg> Sports Reference ®</a></li>\n",
       "<li class=\"current\"><a href=\"https://www.baseball-reference.com/?utm_source=br&amp;utm_medium=sr_xsite&amp;utm_campaign=2023_01_srnav_footer\">Baseball</a></li>\n",
       "<li><a href=\"https://www.pro-football-reference.com/?utm_source=br&amp;utm_medium=sr_xsite&amp;utm_campaign=2023_01_srnav_footer\">Football</a> <a href=\"https://www.sports-reference.com/cfb/\">(college)</a></li>\n",
       "<li><a href=\"https://www.basketball-reference.com/?utm_source=br&amp;utm_medium=sr_xsite&amp;utm_campaign=2023_01_srnav_footer\">Basketball</a> <a href=\"https://www.sports-reference.com/cbb/\">(college)</a></li>\n",
       "<li><a href=\"https://www.hockey-reference.com/?utm_source=br&amp;utm_medium=sr_xsite&amp;utm_campaign=2023_01_srnav_footer\">Hockey</a></li>\n",
       "<li><a href=\"https://fbref.com/de/?utm_source=br&amp;utm_medium=sr_xsite&amp;utm_campaign=2023_01_srnav_footer\">Fußball</a></li>\n",
       "<li><a href=\"https://www.sports-reference.com/blog/?utm_source=br&amp;utm_medium=sr_xsite&amp;utm_campaign=2023_01_srnav_footer\">Blog</a></li>\n",
       "<li><a href=\"https://stathead.com/?utm_source=br&amp;utm_medium=sr_xsite&amp;utm_campaign=2023_01_srnav_footer\">Stathead ®</a></li>\n",
       "</ul>\n",
       "<div id=\"about\">\n",
       "<a href=\"//www.sports-reference.com/about.html\">About</a> •\n",
       "  <a href=\"//www.sports-reference.com/termsofuse.html\">Conditions &amp; Terms of Service</a> •\n",
       "  <a href=\"//www.sports-reference.com/advertise.html\">Advertise With Us</a>\n",
       " •\n",
       "  <a href=\"//www.sports-reference.com/jobs.html\">Jobs at SR</a>\n",
       "<br/><br/>\n",
       "Sports Reference Purpose: We will be the trusted source of information and tools that inspire and empower users to enjoy, understand, and share the sports they love.\n",
       "  <br/><br/>\n",
       "<a href=\"//www.sports-reference.com/privacy.html\">Privacy Policy</a> •\n",
       "  <a href=\"//www.sports-reference.com/gambling-revenue-policy.html\">Gambling Revenue Policy</a> •\n",
       "  <a href=\"//www.sports-reference.com/accessibility-policy.html\">Accessibility Policy</a> •\n",
       "  <a href=\"//www.sports-reference.com/data_use.html\">Use of Data</a>\n",
       "</div>\n",
       "<!-- div#about -->\n",
       "</div><!-- div#footer -->\n",
       "</div><!-- div#wrap -->\n",
       "<!-- yes sticky url:  https://www.baseball-reference.com/boxes/NYA/NYA202303300.shtml -->\n",
       "<div id=\"fs-select-footer\"></div>\n",
       "<!-- rails -->\n",
       "<div class=\"adblock rails left\"><!-- div#fs_fs_rails_left  -->\n",
       "<div align=\"center\" data-freestar-ad=\"\" id=\"div-gpt-ad-160x600-1\">\n",
       "<script data-cfasync=\"false\" type=\"text/javascript\">\n",
       "    if (sr_detect_ie || sr_detect_edge || Modernizr.adfree) {\n",
       "    }\n",
       "    else {\n",
       "        console.log('push ad:div-gpt-ad-160x600-1');\n",
       "        freestar.queue.push(function() { googletag.display('div-gpt-ad-160x600-1'); });\n",
       "    }\n",
       "    </script>\n",
       "</div>\n",
       "<!-- /div.#fs_fs_rails_left -->\n",
       "</div>\n",
       "<div class=\"adblock rails right\"><!-- div#fs_fs_rails_right  -->\n",
       "<div align=\"center\" data-freestar-ad=\"\" id=\"div-gpt-ad-160x600-2\">\n",
       "<script data-cfasync=\"false\" type=\"text/javascript\">\n",
       "    if (sr_detect_ie || sr_detect_edge || Modernizr.adfree) {\n",
       "    }\n",
       "    else {\n",
       "        console.log('push ad:div-gpt-ad-160x600-2');\n",
       "        freestar.queue.push(function() { googletag.display('div-gpt-ad-160x600-2'); });\n",
       "    }\n",
       "    </script>\n",
       "</div>\n",
       "<!-- /div.#fs_fs_rails_right -->\n",
       "</div>\n",
       "<!-- sr_gender is used in Templates/Assets/GoogleAnalytics.tt2 -->\n",
       "<script>var sr_gender = \"\";</script>\n",
       "<!-- Google Analytics --> <!-- new extra script, apparently we only use one of these, regardless of the number of products... https://developers.google.com/tag-platform/gtagjs/install#google-analytics --> <script async=\"\" src=\"https://www.googletagmanager.com/gtag/js?id=UA-1890630-1\"></script> <script> var sr_cookie = vjs_readCookie('stathead_user') || ''; var sr_cookie_split = sr_cookie.split(\"::\"); var sr_session_key = (sr_cookie_split.length > 1)?sr_cookie_split[2]:''; var sr_ad_free_key = \"2\"; var sr_site_id = \"br\"; var sr_is_subscriber = (sr_ad_free_key && sr_session_key.vjs_isMatch(new RegExp(sr_ad_free_key + \"$\"))) || sr_session_key.vjs_isMatch(/1$/) || (sr_site_id === 'stathead' && sr_session_key.vjs_isMatch(/[0-7]$/)); var sr_is_user = sr_cookie !== null && sr_cookie !== ''; var sr_seen_modal = vjs_readCookie('modal_ad') !== null; var sr_device = 'unk'; if (Modernizr.phone) { sr_device = 'phone'; } else if (Modernizr.tablet) { sr_device = 'tablet'; } else if (Modernizr.laptop) { sr_device = 'laptop'; } else if (Modernizr.desktop) { sr_device = 'desktop'; } var sr_stathead_site = vjs_readCookie('stathead_site') || ''; var sr_stathead_type = vjs_readCookie('stathead_type') || ''; /* new gtag theres an extra script tag we need to add that I'm not sure how that work for multiple ID's for GA, docs say to ignore it??? https://developers.google.com/tag-platform/gtagjs/install here they have 3 but just use the last one? */ window.dataLayer = window.dataLayer || []; function gtag(){dataLayer.push(arguments);} gtag('js', new Date()); /* OLD, could not find require within reference docs https://developers.google.com/tag-platform/gtagjs/reference ga('require', 'linkid', 'linkid.js'); ga('require', 'ecommerce', 'ecommerce.js'); ga('require', 'displayfeatures'); */ /* new, creates+sends+sets */ /* for fbref we want to allow for tracking of 'men' and 'women' pages for leagues, clubs and players, so we can track the most popular women players easily. In Footer.tt2 there is a place to set sr_gender. */ gtag('config', 'UA-1890630-1', { 'dimension1': sr_is_subscriber, 'dimension2': sr_is_user, 'dimension3': typeof(sr_gender) === 'string'? sr_gender: null, 'dimension4': sr_stathead_type, 'dimension5': sr_stathead_site, 'metric1': Modernizr.viewport_width }); /* all sr-sites together */ /* new, I believe linker works as a parameter here, although there didn\\'t seem to be a simple \"true\" value to set besides this one https://developers.google.com/analytics/devguides/collection/gtagjs/cross-domain */ gtag('config', 'UA-1890630-9', { 'linker': { 'domains' : ['stathead.com'] }, 'dimension1': sr_site_id, 'dimension2': sr_is_subscriber, 'dimension3': sr_is_user, 'dimension4': sr_seen_modal, 'dimension5': sr_device, 'dimension6': 'null', 'metric1': Modernizr.viewport_width, 'dimension8': (typeof sr_test == 'undefined')?'no-test':( sr_test ? 'non-blocking':'blocking') }); /* new, cribbed from: https://www.axllent.org/docs/track-outbound-links-with-gtag-js/ */ function _gaLt(event) { /* if GA is blocked or not loaded, or not main|middle|touch click then don\\'t track */ if (typeof gtag == \"undefined\" || (event.which != 1 && event.which != 2)) { return; } var el = event.srcElement || event.target; /* loop up the DOM tree through parent elements if clicked element is not a link (eg: an image inside a link) */ while ( el && (typeof el.tagName == \"undefined\" || el.tagName.toLowerCase() != \"a\" || !el.href) ) { el = el.parentNode; } /* if a link with valid href has been clicked */ if (el && el.href) { var link = el.href; /* only if it is an external link */ if (link.indexOf(location.host) == -1 && !link.match(/^javascript\\:/i)) { /* is target set and _(self|parent|top) */ var target = el.target && !el.target.match(/^_(self|parent|top)/i) ? el.target : false; /* assume a target if (ctrl|shift|meta)-click */ if ( event.ctrlKey || event.shiftKey || event.metaKey || event.which == 2 ) { target = \"_blank\"; } /* tracker has not yet run */ var hbrun = false; /* hitBack to open link in same window after tracker */ var hitBack = function () { /* run once only */ if (hbrun) return; hbrun = true; window.location.href = link; }; if (target) { /* if target opens a new window then just track */ gtag(\"event\", link, { event_category: \"Outgoing Links\", event_label: document.location.pathname + document.location.search, }); } else { /* Prevent standard click, track then open */ if (event.type == \"mousedown\") { var blockClick = function (event) { event.preventDefault(); /* remove click event after click */ el.removeEventListener(\"click\", boundClick); }; /* bind the click event */ var boundClick = blockClick.bind(event); /* prevent the click */ el.addEventListener(\"click\", boundClick); } event.preventDefault ? event.preventDefault() : (event.returnValue = !1); /* send event with callback */ gtag(\"event\", link, { event_category: \"Outgoing Links\", event_label: document.location.pathname + document.location.search, event_callback: hitBack, }); /* Run hitBack again if GA takes longer than 1 second */ setTimeout(hitBack, 1000); } } } } var _w = window; /* Use \"click\" if touchscreen device, else \"mousedown\" */ var _gaLtEvt = \"ontouchstart\" in _w ? \"click\" : \"mousedown\"; /* Attach the event to all clicks in the document after page has loaded */ _w.addEventListener( \"load\", function () { document.body.addEventListener(_gaLtEvt, _gaLt, !1); }, !1 ); </script><!-- End Google Analytics -->\n",
       "<!-- Start of HubSpot Embed Code -->\n",
       "<script async=\"\" defer=\"\" id=\"hs-script-loader\" src=\"//js.hs-scripts.com/20503178.js\" type=\"text/javascript\"></script>\n",
       "<!-- End of HubSpot Embed Code -->\n",
       "</body>\n",
       "<!-- SR -->\n",
       "</html>"
      ]
     },
     "execution_count": 164,
     "metadata": {},
     "output_type": "execute_result"
    }
   ],
   "source": [
    "soup"
   ]
  },
  {
   "cell_type": "code",
   "execution_count": 165,
   "id": "2cfbe9d7",
   "metadata": {},
   "outputs": [
    {
     "name": "stdout",
     "output_type": "stream",
     "text": [
      "20230330\n"
     ]
    }
   ],
   "source": [
    "date = re.search(r'\\d{8}', url).group()\n",
    "\n",
    "print(date)"
   ]
  },
  {
   "cell_type": "code",
   "execution_count": 166,
   "id": "11a16109",
   "metadata": {},
   "outputs": [],
   "source": [
    "Away_Team = [] \n",
    "Home_Team = []\n"
   ]
  },
  {
   "cell_type": "code",
   "execution_count": 167,
   "id": "d1942b07",
   "metadata": {},
   "outputs": [
    {
     "data": {
      "text/plain": [
       "'San Francisco Giants'"
      ]
     },
     "execution_count": 167,
     "metadata": {},
     "output_type": "execute_result"
    }
   ],
   "source": [
    "soup.select('strong')[1].get_text().strip()"
   ]
  },
  {
   "cell_type": "code",
   "execution_count": 168,
   "id": "065fe835",
   "metadata": {},
   "outputs": [
    {
     "name": "stdout",
     "output_type": "stream",
     "text": [
      "0 San Francisco Giants vs New York Yankees Box Score: March 30, 2023\n",
      "1 San Francisco Giants\n",
      "2 New York Yankees\n",
      "3 Attendance\n",
      "4 Venue\n",
      "5 Game Duration\n",
      "6 San Francisco Giants vs New York Yankees Box Score: March 30, 2023\n",
      "7 NL East\n",
      "8 NL Central\n",
      "9 NL West\n",
      "10 AL East\n",
      "11 AL Central\n",
      "12 AL West\n",
      "13 Site Last Updated:\n"
     ]
    }
   ],
   "source": [
    "for i in range(14):\n",
    "    print(i,soup.select('strong')[i].get_text().strip())"
   ]
  },
  {
   "cell_type": "code",
   "execution_count": 169,
   "id": "a340e4e2",
   "metadata": {},
   "outputs": [],
   "source": [
    "v_name = soup.select('strong')[1].get_text().strip()\n",
    "h_name = soup.select('strong')[2].get_text().strip()\n",
    "\n"
   ]
  },
  {
   "cell_type": "code",
   "execution_count": 170,
   "id": "68735b7e",
   "metadata": {},
   "outputs": [
    {
     "data": {
      "text/plain": [
       "[]"
      ]
     },
     "execution_count": 170,
     "metadata": {},
     "output_type": "execute_result"
    }
   ],
   "source": [
    "Away_Team"
   ]
  },
  {
   "cell_type": "code",
   "execution_count": 171,
   "id": "25199f96",
   "metadata": {},
   "outputs": [],
   "source": [
    "mapeo_siglas = {\n",
    "    'Red Sox': 'BOS',\n",
    "    'Yankees': 'NYY',\n",
    "    'Dodgers': 'LAD',\n",
    "    'Cubs': 'CHC',\n",
    "    'Reds': 'CIN',\n",
    "    'Orioles': 'BAL',\n",
    "    'Guardians':'CLE',\n",
    "    'Blue Jays': 'TOR',\n",
    "    'Rockies': 'COL',\n",
    "    'Tigers': 'DET',\n",
    "    'Marlins': 'MIA',\n",
    "    'Mets': 'NYN',\n",
    "    'Cardinals': 'SLN',\n",
    "    'Rangers': 'TEX',\n",
    "    'White Sox': 'CHA',\n",
    "    'Astros': 'HOU',\n",
    "    'Athletics': 'OAK',\n",
    "    'Padres': 'SDN',\n",
    "    'San Francisco Giants': 'SFN',\n",
    "    'Dodgers':'LAN',\n",
    "    'Angels' :'ANA',\n",
    "    'Pirates': 'PIT',\n",
    "    'Nationals': 'WAS',\n",
    "    'Mariners': 'SEA',\n",
    "    'Rays': 'TBA',\n",
    "    'Brewers':'MIL',\n",
    "    'Braves': 'ATL',\n",
    "    \"D'backs\" : 'ARI',\n",
    "    'Royals': 'KCA',\n",
    "    'Phillies': 'PHI',\n",
    "    'Twins': 'MIN'\n",
    "}"
   ]
  },
  {
   "cell_type": "code",
   "execution_count": 172,
   "id": "42ac0d55",
   "metadata": {},
   "outputs": [],
   "source": [
    "tfoot = soup.select('tfoot')[0]"
   ]
  },
  {
   "cell_type": "code",
   "execution_count": 173,
   "id": "f336780b",
   "metadata": {},
   "outputs": [],
   "source": [
    "resultado = tfoot.find(\"td\").text.strip()\n",
    "partes_resultado = resultado.split(\"•\")"
   ]
  },
  {
   "cell_type": "code",
   "execution_count": 174,
   "id": "7cb9d235",
   "metadata": {},
   "outputs": [
    {
     "data": {
      "text/plain": [
       "['WP:\\xa0Gerrit\\xa0Cole\\xa0(1-0) ', '\\xa0LP:\\xa0Logan\\xa0Webb\\xa0(0-1)']"
      ]
     },
     "execution_count": 174,
     "metadata": {},
     "output_type": "execute_result"
    }
   ],
   "source": [
    "partes_resultado"
   ]
  },
  {
   "cell_type": "code",
   "execution_count": 175,
   "id": "5f014ebf",
   "metadata": {},
   "outputs": [],
   "source": [
    "winning_pit = partes_resultado[0].split(\":\")[1].strip()"
   ]
  },
  {
   "cell_type": "code",
   "execution_count": 176,
   "id": "12d19e33",
   "metadata": {},
   "outputs": [],
   "source": [
    "winning_pit = winning_pit.replace('\\xa0', ' ')\n",
    "winning_pitcher_name = winning_pit.split('(')[0].strip()"
   ]
  },
  {
   "cell_type": "code",
   "execution_count": 177,
   "id": "b7f9db08",
   "metadata": {},
   "outputs": [
    {
     "data": {
      "text/plain": [
       "'Gerrit Cole'"
      ]
     },
     "execution_count": 177,
     "metadata": {},
     "output_type": "execute_result"
    }
   ],
   "source": [
    "winning_pitcher_name"
   ]
  },
  {
   "cell_type": "code",
   "execution_count": 178,
   "id": "79fadd46",
   "metadata": {},
   "outputs": [
    {
     "data": {
      "text/plain": [
       "'Logan\\xa0Webb\\xa0(0-1)'"
      ]
     },
     "execution_count": 178,
     "metadata": {},
     "output_type": "execute_result"
    }
   ],
   "source": [
    "lossing_pit = partes_resultado[1].split(\":\")[1].strip()\n",
    "lossing_pit"
   ]
  },
  {
   "cell_type": "code",
   "execution_count": 179,
   "id": "81741e2a",
   "metadata": {},
   "outputs": [],
   "source": [
    "lossing_pit = lossing_pit.replace('\\xa0', ' ')\n",
    "losing_pitcher_name = lossing_pit.split('(')[0].strip()"
   ]
  },
  {
   "cell_type": "code",
   "execution_count": 333,
   "id": "5b22a3e8",
   "metadata": {},
   "outputs": [
    {
     "data": {
      "text/plain": [
       "'Logan Webb'"
      ]
     },
     "execution_count": 333,
     "metadata": {},
     "output_type": "execute_result"
    }
   ],
   "source": [
    "losing_pitcher_name"
   ]
  },
  {
   "cell_type": "code",
   "execution_count": 336,
   "id": "6026d675",
   "metadata": {},
   "outputs": [],
   "source": [
    "for i in range (146):\n",
    "    if \"30<\" in soup.select('div')[0]:\n",
    "        print(i)"
   ]
  },
  {
   "cell_type": "code",
   "execution_count": 356,
   "id": "e4ea37e8",
   "metadata": {},
   "outputs": [
    {
     "name": "stdout",
     "output_type": "stream",
     "text": [
      "16\n",
      "48\n",
      "52\n"
     ]
    }
   ],
   "source": [
    "for i in range (100):\n",
    "  if \"30<\" in str(soup.select('div')[0].select('div')[i]):\n",
    "    print(i)"
   ]
  },
  {
   "cell_type": "code",
   "execution_count": 338,
   "id": "6fbc310b",
   "metadata": {},
   "outputs": [],
   "source": [
    "new=str(soup.select('div')[0].select('div')[48]).replace('<!--','').replace('-->','')#.select('\\-\\-')"
   ]
  },
  {
   "cell_type": "code",
   "execution_count": 353,
   "id": "bd7ed13c",
   "metadata": {},
   "outputs": [
    {
     "data": {
      "text/plain": [
       "<div class=\"table_wrapper setup_commented commented\" id=\"all_SanFranciscoGiantsbatting\">\n",
       "<div class=\"section_heading assoc_SanFranciscoGiantsbatting\" id=\"SanFranciscoGiantsbatting_sh\">\n",
       "<span class=\"section_anchor\" data-label=\"San Francisco Giants Batting\" id=\"SanFranciscoGiantsbatting_link\"></span><h2>San Francisco Giants</h2> <div class=\"section_heading_text\">\n",
       "<ul>\n",
       "</ul>\n",
       "</div>\n",
       "</div><div class=\"placeholder\"></div>\n",
       "<div class=\"table_container\" id=\"div_SanFranciscoGiantsbatting\">\n",
       "<table class=\"sortable stats_table min_width shade_zero\" data-cols-to-freeze=\",1\" id=\"SanFranciscoGiantsbatting\">\n",
       "<caption>San Francisco Giants Table</caption>\n",
       "<colgroup><col/><col/><col/><col/><col/><col/><col/><col/><col/><col/><col/><col/><col/><col/><col/><col/><col/><col/><col/><col/><col/><col/><col/><col/></colgroup>\n",
       "<thead>\n",
       "<tr>\n",
       "<th aria-label=\"Batting\" class=\"poptip sort_default_asc show_partial_when_sorting left\" data-stat=\"player\" data-tip=\"&lt;strong&gt;Player Name&lt;/strong&gt;&lt;br&gt;&lt;strong&gt;Bold&lt;/strong&gt; can mean player is active for this team&lt;br&gt;or player has appeared in the majors&lt;br&gt;* means LHP or LHB,&lt;br&gt;# means switch hitter,&lt;br&gt;+ can mean HOFer.\" scope=\"col\">Batting</th>\n",
       "<th aria-label=\"At Bats\" class=\"poptip center\" data-stat=\"AB\" data-tip=\"At Bats\" scope=\"col\">AB</th>\n",
       "<th aria-label=\"Runs Scored\" class=\"poptip center\" data-stat=\"R\" data-tip=\"Runs Scored/Allowed\" scope=\"col\">R</th>\n",
       "<th aria-label=\"Hits\" class=\"poptip center\" data-stat=\"H\" data-tip=\"Hits/Hits Allowed\" scope=\"col\">H</th>\n",
       "<th aria-label=\"Runs Batted In\" class=\"poptip center\" data-stat=\"RBI\" data-tip=\"Runs Batted In\" scope=\"col\">RBI</th>\n",
       "<th aria-label=\"Bases on Balls\" class=\"poptip center\" data-stat=\"BB\" data-tip=\"Bases on Balls/Walks\" scope=\"col\">BB</th>\n",
       "<th aria-label=\"Strikeouts\" class=\"poptip center\" data-stat=\"SO\" data-tip=\"Strikeouts\" scope=\"col\">SO</th>\n",
       "<th aria-label=\"Plate Appearances\" class=\"poptip center\" data-stat=\"PA\" data-tip=\"&lt;strong&gt;Plate Appearances&lt;/strong&gt;&lt;br&gt;When available, we use actual plate appearances from play-by-play game accounts&lt;br&gt;Otherwise estimated using AB + BB + HBP + SF + SH,&lt;br&gt;which excludes catcher interferences.&lt;br&gt;When &lt;span class=tooltip&gt;this color&lt;/span&gt; click for a summary of each PA.\" scope=\"col\">PA</th>\n",
       "<th aria-label=\"Batting Average\" class=\"poptip hide_non_quals center\" data-filter=\"1\" data-name=\"Batting Average\" data-stat=\"batting_avg\" data-tip='&lt;strong&gt;Hits/At Bats&lt;/strong&gt;&lt;br&gt;For recent years, leaders need 3.1 PA&lt;br&gt;per team game played&lt;br&gt;Bold indicates highest BA using current stats&lt;br&gt;&lt;span class=\"all_time_record\"&gt;Gold&lt;/span&gt; means awarded title at end of year.' scope=\"col\">BA</th>\n",
       "<th aria-label=\"On-Base%\" class=\"poptip hide_non_quals center\" data-filter=\"1\" data-name=\"On-Base%\" data-stat=\"onbase_perc\" data-tip=\"&lt;strong&gt;(H + BB + HBP)/(At Bats + BB + HBP + SF)&lt;/strong&gt;&lt;br&gt;For recent years, leaders need 3.1 PA&lt;br&gt;per team game played\" scope=\"col\">OBP</th>\n",
       "<th aria-label=\"Slugging %\" class=\"poptip hide_non_quals center\" data-filter=\"1\" data-name=\"Slugging %\" data-stat=\"slugging_perc\" data-tip=\"&lt;strong&gt;Total Bases/At Bats or &lt;br&gt;(1B + 2*2B + 3*3B + 4*HR)/AB&lt;/strong&gt;&lt;br&gt;For recent years, leaders need 3.1 PA&lt;br&gt;per team game played\" scope=\"col\">SLG</th>\n",
       "<th aria-label=\"On-Base Plus Slugging\" class=\"poptip hide_non_quals center\" data-filter=\"1\" data-name=\"On-Base Plus Slugging\" data-stat=\"onbase_plus_slugging\" data-tip=\"&lt;strong&gt;On-Base + Slugging Percentages &lt;/strong&gt;&lt;br&gt;For recent years, leaders need 3.1 PA&lt;br&gt;per team game played\" scope=\"col\">OPS</th>\n",
       "<th aria-label=\"Pit\" class=\"poptip center\" data-stat=\"pitches\" data-tip=\"Number of pitches in the PA.\" scope=\"col\">Pit</th>\n",
       "<th aria-label=\"Str\" class=\"poptip center\" data-stat=\"strikes_total\" data-tip=\"&lt;strong&gt;Strikes&lt;/strong&gt;&lt;br&gt;Includes both pitches in the zone and those swung at out of the zone.\" scope=\"col\">Str</th>\n",
       "<th aria-label=\"Win Probability Added (WPA)\" class=\"poptip center\" data-filter=\"1\" data-name=\"Win Probability Added (WPA)\" data-stat=\"wpa_bat\" data-tip=\"&lt;strong&gt;Win Probability Added for Offensive Player&lt;/strong&gt;&lt;br&gt;Given average teams, this is the change in probability&lt;br&gt;caused by this batter during the game&lt;br&gt;A change of +/- 1 would indicate one win added or lost.\" scope=\"col\">WPA</th>\n",
       "<th aria-label=\"aLI\" class=\"poptip hide_non_quals center\" data-filter=\"1\" data-name=\"aLI\" data-stat=\"leverage_index_avg\" data-tip=\"&lt;strong&gt;Average Leverage Index&lt;/strong&gt;&lt;br&gt;The average pressure the pitcher or batter saw in this game or season.&lt;br&gt;1.0 is average pressure, below 1.0 is low pressure and above 1.0 is high pressure.\" scope=\"col\">aLI</th>\n",
       "<th aria-label=\"WPA+\" class=\"poptip center\" data-filter=\"1\" data-name=\"WPA+\" data-stat=\"wpa_bat_pos\" data-tip=\"&lt;strong&gt;Win Probability Added&lt;/strong&gt;&lt;br&gt;Sum of positive events for this batter.\" scope=\"col\">WPA+</th>\n",
       "<th aria-label=\"WPA-\" class=\"poptip center\" data-filter=\"1\" data-name=\"WPA-\" data-stat=\"wpa_bat_neg\" data-tip=\"&lt;strong&gt;Win Probability Subtracted&lt;/strong&gt;&lt;br&gt;Sum of negative events for this batter.\" scope=\"col\">WPA-</th>\n",
       "<th aria-label=\"Championship WPA (cWPA)\" class=\"poptip center\" data-filter=\"1\" data-name=\"Championship WPA (cWPA)\" data-stat=\"cwpa_bat\" data-tip=\"&lt;strong&gt;Championship Win Probability Added for Offensive Player&lt;/strong&gt;&lt;br&gt;Given average teams, this is the change in probability, displayed in percentage points.&lt;br&gt;A change of +/- 100% would indicate one world series win added or lost.\" scope=\"col\">cWPA</th>\n",
       "<th aria-label=\"acLI\" class=\"poptip hide_non_quals center\" data-filter=\"1\" data-name=\"acLI\" data-stat=\"cli_avg\" data-tip=\"&lt;strong&gt;Average Championship Leverage Index&lt;/strong&gt;&lt;br&gt;The average pressure the pitcher or batter saw in this game or season.&lt;br&gt;1.0 is average pressure, below 1.0 is low pressure and above 1.0 is high pressure.\" scope=\"col\">acLI</th>\n",
       "<th aria-label=\"Base-Out Runs Added (RE24)\" class=\"poptip center\" data-filter=\"1\" data-name=\"Base-Out Runs Added (RE24)\" data-stat=\"re24_bat\" data-tip=\"&lt;strong&gt;Base-Out Runs Added&lt;/strong&gt;&lt;br&gt;Given the bases occupied/out situation, how many runs did the batter&lt;br&gt; or baserunner add in the resulting play.&lt;br&gt;Compared to average, so 0 is average, and above 0 is better than average\" scope=\"col\">RE24</th>\n",
       "<th aria-label=\"Putouts\" class=\"poptip center\" data-stat=\"PO\" data-tip=\"Putouts\" scope=\"col\">PO</th>\n",
       "<th aria-label=\"Assists\" class=\"poptip center\" data-stat=\"A\" data-tip=\"Assists\" scope=\"col\">A</th>\n",
       "<th aria-label=\"details\" class=\"poptip center\" data-stat=\"details\" scope=\"col\">Details</th>\n",
       "</tr>\n",
       "</thead>\n",
       "<tbody><tr><th class=\"left\" csk=\"6\" data-append-csv=\"wadela01\" data-stat=\"player\" scope=\"row\"><a href=\"/players/w/wadela01.shtml\">LaMonte Wade Jr.</a> 1B-LF</th><td class=\"right endpoint\" data-endpoint=\"/tools/be.cgi?html=1&amp;game-id=NYA202303300-wadela01\" data-stat=\"AB\">3</td><td class=\"right iz\" data-stat=\"R\">0</td><td class=\"right iz\" data-stat=\"H\">0</td><td class=\"right iz\" data-stat=\"RBI\">0</td><td class=\"right\" data-stat=\"BB\">1</td><td class=\"right iz\" data-stat=\"SO\">0</td><td class=\"right\" data-stat=\"PA\">4</td><td class=\"right iz\" data-stat=\"batting_avg\">.000</td><td class=\"right\" data-stat=\"onbase_perc\">.250</td><td class=\"right iz\" data-stat=\"slugging_perc\">.000</td><td class=\"right\" data-stat=\"onbase_plus_slugging\">.250</td><td class=\"right\" data-stat=\"pitches\">16</td><td class=\"right\" data-stat=\"strikes_total\">7</td><td class=\"right\" data-stat=\"wpa_bat\">-0.006</td><td class=\"right\" data-stat=\"leverage_index_avg\"> 0.61</td><td class=\"right\" data-stat=\"wpa_bat_pos\">0.036</td><td class=\"right\" data-stat=\"wpa_bat_neg\">-0.042</td><td class=\"right\" data-stat=\"cwpa_bat\">-0.00%</td><td class=\"right\" data-stat=\"cli_avg\"> 0.56</td><td class=\"right\" data-stat=\"re24_bat\"> -0.1</td><td class=\"right\" data-stat=\"PO\">5</td><td class=\"right iz\" data-stat=\"A\">0</td><td class=\"left iz\" data-stat=\"details\"></td></tr>\n",
       "<tr><th class=\"left\" csk=\"7\" data-append-csv=\"confomi01\" data-stat=\"player\" scope=\"row\"><a href=\"/players/c/confomi01.shtml\">Michael Conforto</a> RF</th><td class=\"right endpoint\" data-endpoint=\"/tools/be.cgi?html=1&amp;game-id=NYA202303300-confomi01\" data-stat=\"AB\">4</td><td class=\"right iz\" data-stat=\"R\">0</td><td class=\"right\" data-stat=\"H\">1</td><td class=\"right iz\" data-stat=\"RBI\">0</td><td class=\"right iz\" data-stat=\"BB\">0</td><td class=\"right\" data-stat=\"SO\">2</td><td class=\"right\" data-stat=\"PA\">4</td><td class=\"right\" data-stat=\"batting_avg\">.250</td><td class=\"right\" data-stat=\"onbase_perc\">.250</td><td class=\"right\" data-stat=\"slugging_perc\">.250</td><td class=\"right\" data-stat=\"onbase_plus_slugging\">.500</td><td class=\"right\" data-stat=\"pitches\">18</td><td class=\"right\" data-stat=\"strikes_total\">13</td><td class=\"right\" data-stat=\"wpa_bat\">-0.006</td><td class=\"right\" data-stat=\"leverage_index_avg\"> 0.72</td><td class=\"right\" data-stat=\"wpa_bat_pos\">0.041</td><td class=\"right\" data-stat=\"wpa_bat_neg\">-0.046</td><td class=\"right\" data-stat=\"cwpa_bat\">-0.00%</td><td class=\"right\" data-stat=\"cli_avg\"> 0.66</td><td class=\"right\" data-stat=\"re24_bat\"> -0.2</td><td class=\"right iz\" data-stat=\"PO\">0</td><td class=\"right iz\" data-stat=\"A\">0</td><td class=\"left iz\" data-stat=\"details\"></td></tr>\n",
       "<tr><th class=\"left\" csk=\"8\" data-append-csv=\"florewi01\" data-stat=\"player\" scope=\"row\"><a href=\"/players/f/florewi01.shtml\">Wilmer Flores</a> 3B</th><td class=\"right endpoint\" data-endpoint=\"/tools/be.cgi?html=1&amp;game-id=NYA202303300-florewi01\" data-stat=\"AB\">3</td><td class=\"right iz\" data-stat=\"R\">0</td><td class=\"right iz\" data-stat=\"H\">0</td><td class=\"right iz\" data-stat=\"RBI\">0</td><td class=\"right\" data-stat=\"BB\">1</td><td class=\"right\" data-stat=\"SO\">1</td><td class=\"right\" data-stat=\"PA\">4</td><td class=\"right iz\" data-stat=\"batting_avg\">.000</td><td class=\"right\" data-stat=\"onbase_perc\">.250</td><td class=\"right iz\" data-stat=\"slugging_perc\">.000</td><td class=\"right\" data-stat=\"onbase_plus_slugging\">.250</td><td class=\"right\" data-stat=\"pitches\">23</td><td class=\"right\" data-stat=\"strikes_total\">11</td><td class=\"right\" data-stat=\"wpa_bat\">-0.061</td><td class=\"right\" data-stat=\"leverage_index_avg\"> 1.02</td><td class=\"right\" data-stat=\"wpa_bat_pos\">0.048</td><td class=\"right\" data-stat=\"wpa_bat_neg\">-0.109</td><td class=\"right\" data-stat=\"cwpa_bat\">-0.03%</td><td class=\"right\" data-stat=\"cli_avg\"> 0.93</td><td class=\"right\" data-stat=\"re24_bat\"> -0.9</td><td class=\"right\" data-stat=\"PO\">1</td><td class=\"right\" data-stat=\"A\">1</td><td class=\"left\" data-stat=\"details\">GDP</td></tr>\n",
       "<tr><th class=\"left\" csk=\"9\" data-append-csv=\"pederjo01\" data-stat=\"player\" scope=\"row\"><a href=\"/players/p/pederjo01.shtml\">Joc Pederson</a> DH</th><td class=\"right endpoint\" data-endpoint=\"/tools/be.cgi?html=1&amp;game-id=NYA202303300-pederjo01\" data-stat=\"AB\">3</td><td class=\"right iz\" data-stat=\"R\">0</td><td class=\"right iz\" data-stat=\"H\">0</td><td class=\"right iz\" data-stat=\"RBI\">0</td><td class=\"right\" data-stat=\"BB\">1</td><td class=\"right\" data-stat=\"SO\">3</td><td class=\"right\" data-stat=\"PA\">4</td><td class=\"right iz\" data-stat=\"batting_avg\">.000</td><td class=\"right\" data-stat=\"onbase_perc\">.250</td><td class=\"right iz\" data-stat=\"slugging_perc\">.000</td><td class=\"right\" data-stat=\"onbase_plus_slugging\">.250</td><td class=\"right\" data-stat=\"pitches\">24</td><td class=\"right\" data-stat=\"strikes_total\">15</td><td class=\"right\" data-stat=\"wpa_bat\">-0.071</td><td class=\"right\" data-stat=\"leverage_index_avg\"> 0.79</td><td class=\"right\" data-stat=\"wpa_bat_pos\">0.004</td><td class=\"right\" data-stat=\"wpa_bat_neg\">-0.074</td><td class=\"right\" data-stat=\"cwpa_bat\">-0.04%</td><td class=\"right\" data-stat=\"cli_avg\"> 0.72</td><td class=\"right\" data-stat=\"re24_bat\"> -0.4</td><td class=\"right iz\" data-stat=\"PO\"></td><td class=\"right iz\" data-stat=\"A\"></td><td class=\"left iz\" data-stat=\"details\"></td></tr>\n",
       "<tr><th class=\"left\" csk=\"10\" data-append-csv=\"yastrmi01\" data-stat=\"player\" scope=\"row\"><a href=\"/players/y/yastrmi01.shtml\">Mike Yastrzemski</a> CF</th><td class=\"right endpoint\" data-endpoint=\"/tools/be.cgi?html=1&amp;game-id=NYA202303300-yastrmi01\" data-stat=\"AB\">2</td><td class=\"right iz\" data-stat=\"R\">0</td><td class=\"right iz\" data-stat=\"H\">0</td><td class=\"right iz\" data-stat=\"RBI\">0</td><td class=\"right iz\" data-stat=\"BB\">0</td><td class=\"right\" data-stat=\"SO\">2</td><td class=\"right\" data-stat=\"PA\">2</td><td class=\"right iz\" data-stat=\"batting_avg\">.000</td><td class=\"right iz\" data-stat=\"onbase_perc\">.000</td><td class=\"right iz\" data-stat=\"slugging_perc\">.000</td><td class=\"right iz\" data-stat=\"onbase_plus_slugging\">.000</td><td class=\"right\" data-stat=\"pitches\">11</td><td class=\"right\" data-stat=\"strikes_total\">6</td><td class=\"right\" data-stat=\"wpa_bat\">-0.060</td><td class=\"right\" data-stat=\"leverage_index_avg\"> 1.25</td><td class=\"right\" data-stat=\"wpa_bat_pos\">0.000</td><td class=\"right\" data-stat=\"wpa_bat_neg\">-0.060</td><td class=\"right\" data-stat=\"cwpa_bat\">-0.03%</td><td class=\"right\" data-stat=\"cli_avg\"> 1.14</td><td class=\"right\" data-stat=\"re24_bat\"> -0.5</td><td class=\"right iz\" data-stat=\"PO\">0</td><td class=\"right iz\" data-stat=\"A\">0</td><td class=\"left iz\" data-stat=\"details\"></td></tr>\n",
       "<tr><th class=\"left\" csk=\"11\" data-append-csv=\"davisjd01\" data-stat=\"player\" scope=\"row\">   <a href=\"/players/d/davisjd01.shtml\">J.D. Davis</a> PH-1B</th><td class=\"right endpoint\" data-endpoint=\"/tools/be.cgi?html=1&amp;game-id=NYA202303300-davisjd01\" data-stat=\"AB\">2</td><td class=\"right iz\" data-stat=\"R\">0</td><td class=\"right iz\" data-stat=\"H\">0</td><td class=\"right iz\" data-stat=\"RBI\">0</td><td class=\"right iz\" data-stat=\"BB\">0</td><td class=\"right\" data-stat=\"SO\">2</td><td class=\"right\" data-stat=\"PA\">2</td><td class=\"right iz\" data-stat=\"batting_avg\">.000</td><td class=\"right iz\" data-stat=\"onbase_perc\">.000</td><td class=\"right iz\" data-stat=\"slugging_perc\">.000</td><td class=\"right iz\" data-stat=\"onbase_plus_slugging\">.000</td><td class=\"right\" data-stat=\"pitches\">10</td><td class=\"right\" data-stat=\"strikes_total\">6</td><td class=\"right\" data-stat=\"wpa_bat\">-0.027</td><td class=\"right\" data-stat=\"leverage_index_avg\"> 0.53</td><td class=\"right\" data-stat=\"wpa_bat_pos\">0.000</td><td class=\"right\" data-stat=\"wpa_bat_neg\">-0.027</td><td class=\"right\" data-stat=\"cwpa_bat\">-0.01%</td><td class=\"right\" data-stat=\"cli_avg\"> 0.48</td><td class=\"right\" data-stat=\"re24_bat\"> -0.5</td><td class=\"right\" data-stat=\"PO\">1</td><td class=\"right iz\" data-stat=\"A\">0</td><td class=\"left iz\" data-stat=\"details\"></td></tr>\n",
       "<tr><th class=\"left\" csk=\"12\" data-append-csv=\"estrath01\" data-stat=\"player\" scope=\"row\"><a href=\"/players/e/estrath01.shtml\">Thairo Estrada</a> 2B</th><td class=\"right endpoint\" data-endpoint=\"/tools/be.cgi?html=1&amp;game-id=NYA202303300-estrath01\" data-stat=\"AB\">4</td><td class=\"right iz\" data-stat=\"R\">0</td><td class=\"right\" data-stat=\"H\">2</td><td class=\"right iz\" data-stat=\"RBI\">0</td><td class=\"right iz\" data-stat=\"BB\">0</td><td class=\"right\" data-stat=\"SO\">1</td><td class=\"right\" data-stat=\"PA\">4</td><td class=\"right\" data-stat=\"batting_avg\">.500</td><td class=\"right\" data-stat=\"onbase_perc\">.500</td><td class=\"right\" data-stat=\"slugging_perc\">.500</td><td class=\"right\" data-stat=\"onbase_plus_slugging\">1.000</td><td class=\"right\" data-stat=\"pitches\">10</td><td class=\"right\" data-stat=\"strikes_total\">8</td><td class=\"right\" data-stat=\"wpa_bat\">0.044</td><td class=\"right\" data-stat=\"leverage_index_avg\"> 0.73</td><td class=\"right\" data-stat=\"wpa_bat_pos\">0.074</td><td class=\"right\" data-stat=\"wpa_bat_neg\">-0.030</td><td class=\"right\" data-stat=\"cwpa_bat\"> 0.02%</td><td class=\"right\" data-stat=\"cli_avg\"> 0.67</td><td class=\"right\" data-stat=\"re24_bat\"> 0.3</td><td class=\"right iz\" data-stat=\"PO\">0</td><td class=\"right\" data-stat=\"A\">1</td><td class=\"left\" data-stat=\"details\">SB</td></tr>\n",
       "<tr><th class=\"left\" csk=\"13\" data-append-csv=\"crawfbr01\" data-stat=\"player\" scope=\"row\"><a href=\"/players/c/crawfbr01.shtml\">Brandon Crawford</a> SS</th><td class=\"right endpoint\" data-endpoint=\"/tools/be.cgi?html=1&amp;game-id=NYA202303300-crawfbr01\" data-stat=\"AB\">3</td><td class=\"right iz\" data-stat=\"R\">0</td><td class=\"right iz\" data-stat=\"H\">0</td><td class=\"right iz\" data-stat=\"RBI\">0</td><td class=\"right iz\" data-stat=\"BB\">0</td><td class=\"right\" data-stat=\"SO\">2</td><td class=\"right\" data-stat=\"PA\">3</td><td class=\"right iz\" data-stat=\"batting_avg\">.000</td><td class=\"right iz\" data-stat=\"onbase_perc\">.000</td><td class=\"right iz\" data-stat=\"slugging_perc\">.000</td><td class=\"right iz\" data-stat=\"onbase_plus_slugging\">.000</td><td class=\"right\" data-stat=\"pitches\">15</td><td class=\"right\" data-stat=\"strikes_total\">10</td><td class=\"right\" data-stat=\"wpa_bat\">-0.087</td><td class=\"right\" data-stat=\"leverage_index_avg\"> 1.13</td><td class=\"right\" data-stat=\"wpa_bat_pos\">0.000</td><td class=\"right\" data-stat=\"wpa_bat_neg\">-0.087</td><td class=\"right\" data-stat=\"cwpa_bat\">-0.05%</td><td class=\"right\" data-stat=\"cli_avg\"> 1.03</td><td class=\"right\" data-stat=\"re24_bat\"> -0.9</td><td class=\"right iz\" data-stat=\"PO\">0</td><td class=\"right\" data-stat=\"A\">2</td><td class=\"left iz\" data-stat=\"details\"></td></tr>\n",
       "<tr><th class=\"left\" csk=\"14\" data-append-csv=\"sabolbl01\" data-stat=\"player\" scope=\"row\"><a href=\"/players/s/sabolbl01.shtml\">Blake Sabol</a> LF</th><td class=\"right endpoint\" data-endpoint=\"/tools/be.cgi?html=1&amp;game-id=NYA202303300-sabolbl01\" data-stat=\"AB\">2</td><td class=\"right iz\" data-stat=\"R\">0</td><td class=\"right iz\" data-stat=\"H\">0</td><td class=\"right iz\" data-stat=\"RBI\">0</td><td class=\"right iz\" data-stat=\"BB\">0</td><td class=\"right\" data-stat=\"SO\">1</td><td class=\"right\" data-stat=\"PA\">2</td><td class=\"right iz\" data-stat=\"batting_avg\">.000</td><td class=\"right iz\" data-stat=\"onbase_perc\">.000</td><td class=\"right iz\" data-stat=\"slugging_perc\">.000</td><td class=\"right iz\" data-stat=\"onbase_plus_slugging\">.000</td><td class=\"right\" data-stat=\"pitches\">7</td><td class=\"right\" data-stat=\"strikes_total\">4</td><td class=\"right\" data-stat=\"wpa_bat\">-0.049</td><td class=\"right\" data-stat=\"leverage_index_avg\"> 0.91</td><td class=\"right\" data-stat=\"wpa_bat_pos\">0.000</td><td class=\"right\" data-stat=\"wpa_bat_neg\">-0.049</td><td class=\"right\" data-stat=\"cwpa_bat\">-0.03%</td><td class=\"right\" data-stat=\"cli_avg\"> 0.83</td><td class=\"right\" data-stat=\"re24_bat\"> -0.5</td><td class=\"right iz\" data-stat=\"PO\">0</td><td class=\"right iz\" data-stat=\"A\">0</td><td class=\"left iz\" data-stat=\"details\"></td></tr>\n",
       "<tr><th class=\"left\" csk=\"15\" data-append-csv=\"villada01\" data-stat=\"player\" scope=\"row\">   <a href=\"/players/v/villada01.shtml\">David Villar</a> PH</th><td class=\"right endpoint\" data-endpoint=\"/tools/be.cgi?html=1&amp;game-id=NYA202303300-villada01\" data-stat=\"AB\">1</td><td class=\"right iz\" data-stat=\"R\">0</td><td class=\"right iz\" data-stat=\"H\">0</td><td class=\"right iz\" data-stat=\"RBI\">0</td><td class=\"right iz\" data-stat=\"BB\">0</td><td class=\"right iz\" data-stat=\"SO\">0</td><td class=\"right\" data-stat=\"PA\">1</td><td class=\"right iz\" data-stat=\"batting_avg\">.000</td><td class=\"right iz\" data-stat=\"onbase_perc\">.000</td><td class=\"right iz\" data-stat=\"slugging_perc\">.000</td><td class=\"right iz\" data-stat=\"onbase_plus_slugging\">.000</td><td class=\"right\" data-stat=\"pitches\">2</td><td class=\"right\" data-stat=\"strikes_total\">2</td><td class=\"right\" data-stat=\"wpa_bat\">-0.025</td><td class=\"right\" data-stat=\"leverage_index_avg\"> 0.88</td><td class=\"right\" data-stat=\"wpa_bat_pos\">0.000</td><td class=\"right\" data-stat=\"wpa_bat_neg\">-0.025</td><td class=\"right\" data-stat=\"cwpa_bat\">-0.01%</td><td class=\"right\" data-stat=\"cli_avg\"> 0.80</td><td class=\"right\" data-stat=\"re24_bat\"> -0.3</td><td class=\"right iz\" data-stat=\"PO\"></td><td class=\"right iz\" data-stat=\"A\"></td><td class=\"left iz\" data-stat=\"details\"></td></tr>\n",
       "<tr><th class=\"left\" csk=\"16\" data-append-csv=\"wiselbr01\" data-stat=\"player\" scope=\"row\">   <a href=\"/players/w/wiselbr01.shtml\">Brett Wisely</a> CF</th><td class=\"right endpoint iz\" data-endpoint=\"/tools/be.cgi?html=1&amp;game-id=NYA202303300-wiselbr01\" data-stat=\"AB\">0</td><td class=\"right iz\" data-stat=\"R\">0</td><td class=\"right iz\" data-stat=\"H\">0</td><td class=\"right iz\" data-stat=\"RBI\">0</td><td class=\"right iz\" data-stat=\"BB\">0</td><td class=\"right iz\" data-stat=\"SO\">0</td><td class=\"right iz\" data-stat=\"PA\">0</td><td class=\"right iz\" data-stat=\"batting_avg\"></td><td class=\"right iz\" data-stat=\"onbase_perc\"></td><td class=\"right iz\" data-stat=\"slugging_perc\"></td><td class=\"right iz\" data-stat=\"onbase_plus_slugging\"></td><td class=\"right iz\" data-stat=\"pitches\"></td><td class=\"right iz\" data-stat=\"strikes_total\"></td><td class=\"right iz\" data-stat=\"wpa_bat\"></td><td class=\"right iz\" data-stat=\"leverage_index_avg\"></td><td class=\"right iz\" data-stat=\"wpa_bat_pos\"></td><td class=\"right iz\" data-stat=\"wpa_bat_neg\"></td><td class=\"right iz\" data-stat=\"cwpa_bat\"></td><td class=\"right iz\" data-stat=\"cli_avg\"></td><td class=\"right iz\" data-stat=\"re24_bat\"></td><td class=\"right\" data-stat=\"PO\">1</td><td class=\"right iz\" data-stat=\"A\">0</td><td class=\"left iz\" data-stat=\"details\"></td></tr>\n",
       "<tr><th class=\"left\" csk=\"17\" data-append-csv=\"perezro02\" data-stat=\"player\" scope=\"row\"><a href=\"/players/p/perezro02.shtml\">Roberto Pérez</a> C</th><td class=\"right endpoint\" data-endpoint=\"/tools/be.cgi?html=1&amp;game-id=NYA202303300-perezro02\" data-stat=\"AB\">2</td><td class=\"right iz\" data-stat=\"R\">0</td><td class=\"right\" data-stat=\"H\">1</td><td class=\"right iz\" data-stat=\"RBI\">0</td><td class=\"right iz\" data-stat=\"BB\">0</td><td class=\"right\" data-stat=\"SO\">1</td><td class=\"right\" data-stat=\"PA\">2</td><td class=\"right\" data-stat=\"batting_avg\">.500</td><td class=\"right\" data-stat=\"onbase_perc\">.500</td><td class=\"right\" data-stat=\"slugging_perc\">.500</td><td class=\"right\" data-stat=\"onbase_plus_slugging\">1.000</td><td class=\"right\" data-stat=\"pitches\">8</td><td class=\"right\" data-stat=\"strikes_total\">5</td><td class=\"right\" data-stat=\"wpa_bat\">-0.014</td><td class=\"right\" data-stat=\"leverage_index_avg\"> 0.68</td><td class=\"right\" data-stat=\"wpa_bat_pos\">0.012</td><td class=\"right\" data-stat=\"wpa_bat_neg\">-0.026</td><td class=\"right\" data-stat=\"cwpa_bat\">-0.01%</td><td class=\"right\" data-stat=\"cli_avg\"> 0.62</td><td class=\"right\" data-stat=\"re24_bat\"> -0.1</td><td class=\"right\" data-stat=\"PO\">15</td><td class=\"right iz\" data-stat=\"A\">0</td><td class=\"left iz\" data-stat=\"details\"></td></tr>\n",
       "<tr><th class=\"left\" csk=\"18\" data-append-csv=\"beatyma01\" data-stat=\"player\" scope=\"row\">   <a href=\"/players/b/beatyma01.shtml\">Matt Beaty</a> PH</th><td class=\"right endpoint\" data-endpoint=\"/tools/be.cgi?html=1&amp;game-id=NYA202303300-beatyma01\" data-stat=\"AB\">1</td><td class=\"right iz\" data-stat=\"R\">0</td><td class=\"right iz\" data-stat=\"H\">0</td><td class=\"right iz\" data-stat=\"RBI\">0</td><td class=\"right iz\" data-stat=\"BB\">0</td><td class=\"right\" data-stat=\"SO\">1</td><td class=\"right\" data-stat=\"PA\">1</td><td class=\"right iz\" data-stat=\"batting_avg\">.000</td><td class=\"right iz\" data-stat=\"onbase_perc\">.000</td><td class=\"right iz\" data-stat=\"slugging_perc\">.000</td><td class=\"right iz\" data-stat=\"onbase_plus_slugging\">.000</td><td class=\"right\" data-stat=\"pitches\">6</td><td class=\"right\" data-stat=\"strikes_total\">6</td><td class=\"right\" data-stat=\"wpa_bat\">-0.006</td><td class=\"right\" data-stat=\"leverage_index_avg\"> 0.25</td><td class=\"right\" data-stat=\"wpa_bat_pos\">0.000</td><td class=\"right\" data-stat=\"wpa_bat_neg\">-0.006</td><td class=\"right\" data-stat=\"cwpa_bat\">-0.00%</td><td class=\"right\" data-stat=\"cli_avg\"> 0.23</td><td class=\"right\" data-stat=\"re24_bat\"> -0.2</td><td class=\"right iz\" data-stat=\"PO\"></td><td class=\"right iz\" data-stat=\"A\"></td><td class=\"left iz\" data-stat=\"details\"></td></tr>\n",
       "<tr><th class=\"left\" csk=\"19\" data-append-csv=\"bartjo01\" data-stat=\"player\" scope=\"row\">   <a href=\"/players/b/bartjo01.shtml\">Joey Bart</a> C</th><td class=\"right endpoint iz\" data-endpoint=\"/tools/be.cgi?html=1&amp;game-id=NYA202303300-bartjo01\" data-stat=\"AB\">0</td><td class=\"right iz\" data-stat=\"R\">0</td><td class=\"right iz\" data-stat=\"H\">0</td><td class=\"right iz\" data-stat=\"RBI\">0</td><td class=\"right iz\" data-stat=\"BB\">0</td><td class=\"right iz\" data-stat=\"SO\">0</td><td class=\"right iz\" data-stat=\"PA\">0</td><td class=\"right iz\" data-stat=\"batting_avg\"></td><td class=\"right iz\" data-stat=\"onbase_perc\"></td><td class=\"right iz\" data-stat=\"slugging_perc\"></td><td class=\"right iz\" data-stat=\"onbase_plus_slugging\"></td><td class=\"right iz\" data-stat=\"pitches\"></td><td class=\"right iz\" data-stat=\"strikes_total\"></td><td class=\"right iz\" data-stat=\"wpa_bat\"></td><td class=\"right iz\" data-stat=\"leverage_index_avg\"></td><td class=\"right iz\" data-stat=\"wpa_bat_pos\"></td><td class=\"right iz\" data-stat=\"wpa_bat_neg\"></td><td class=\"right iz\" data-stat=\"cwpa_bat\"></td><td class=\"right iz\" data-stat=\"cli_avg\"></td><td class=\"right iz\" data-stat=\"re24_bat\"></td><td class=\"right\" data-stat=\"PO\">1</td><td class=\"right iz\" data-stat=\"A\">0</td><td class=\"left iz\" data-stat=\"details\"></td></tr>\n",
       "<tr class=\"spacer\"><th class=\"left iz\" csk=\"99\" data-stat=\"player\" scope=\"row\"></th><td class=\"right iz\" data-stat=\"AB\"></td><td class=\"right iz\" data-stat=\"R\"></td><td class=\"right iz\" data-stat=\"H\"></td><td class=\"right iz\" data-stat=\"RBI\"></td><td class=\"right iz\" data-stat=\"BB\"></td><td class=\"right iz\" data-stat=\"SO\"></td><td class=\"right iz\" data-stat=\"PA\"></td><td class=\"right iz\" data-stat=\"batting_avg\"></td><td class=\"right iz\" data-stat=\"onbase_perc\"></td><td class=\"right iz\" data-stat=\"slugging_perc\"></td><td class=\"right iz\" data-stat=\"onbase_plus_slugging\"></td><td class=\"right iz\" data-stat=\"pitches\"></td><td class=\"right iz\" data-stat=\"strikes_total\"></td><td class=\"right iz\" data-stat=\"wpa_bat\"></td><td class=\"right iz\" data-stat=\"leverage_index_avg\"></td><td class=\"right iz\" data-stat=\"wpa_bat_pos\"></td><td class=\"right iz\" data-stat=\"wpa_bat_neg\"></td><td class=\"right iz\" data-stat=\"cwpa_bat\"></td><td class=\"right iz\" data-stat=\"cli_avg\"></td><td class=\"right iz\" data-stat=\"re24_bat\"></td><td class=\"right iz\" data-stat=\"PO\"></td><td class=\"right iz\" data-stat=\"A\"></td><td class=\"left iz\" data-stat=\"details\"></td></tr>\n",
       "<tr><th class=\"left\" csk=\"101\" data-append-csv=\"webblo01\" data-stat=\"player\" scope=\"row\"><a href=\"/players/w/webblo01.shtml\">Logan Webb</a> P</th><td class=\"right iz\" data-stat=\"AB\"></td><td class=\"right iz\" data-stat=\"R\"></td><td class=\"right iz\" data-stat=\"H\"></td><td class=\"right iz\" data-stat=\"RBI\"></td><td class=\"right iz\" data-stat=\"BB\"></td><td class=\"right iz\" data-stat=\"SO\"></td><td class=\"right iz\" data-stat=\"PA\"></td><td class=\"right iz\" data-stat=\"batting_avg\"></td><td class=\"right iz\" data-stat=\"onbase_perc\"></td><td class=\"right iz\" data-stat=\"slugging_perc\"></td><td class=\"right iz\" data-stat=\"onbase_plus_slugging\"></td><td class=\"right iz\" data-stat=\"pitches\"></td><td class=\"right iz\" data-stat=\"strikes_total\"></td><td class=\"right iz\" data-stat=\"wpa_bat\"></td><td class=\"right iz\" data-stat=\"leverage_index_avg\"></td><td class=\"right iz\" data-stat=\"wpa_bat_pos\"></td><td class=\"right iz\" data-stat=\"wpa_bat_neg\"></td><td class=\"right iz\" data-stat=\"cwpa_bat\"></td><td class=\"right iz\" data-stat=\"cli_avg\"></td><td class=\"right iz\" data-stat=\"re24_bat\"></td><td class=\"right iz\" data-stat=\"PO\">0</td><td class=\"right iz\" data-stat=\"A\">0</td><td class=\"left iz\" data-stat=\"details\"></td></tr>\n",
       "<tr><th class=\"left\" csk=\"103\" data-append-csv=\"brebbjo01\" data-stat=\"player\" scope=\"row\">   <a href=\"/players/b/brebbjo01.shtml\">John Brebbia</a> P</th><td class=\"right iz\" data-stat=\"AB\"></td><td class=\"right iz\" data-stat=\"R\"></td><td class=\"right iz\" data-stat=\"H\"></td><td class=\"right iz\" data-stat=\"RBI\"></td><td class=\"right iz\" data-stat=\"BB\"></td><td class=\"right iz\" data-stat=\"SO\"></td><td class=\"right iz\" data-stat=\"PA\"></td><td class=\"right iz\" data-stat=\"batting_avg\"></td><td class=\"right iz\" data-stat=\"onbase_perc\"></td><td class=\"right iz\" data-stat=\"slugging_perc\"></td><td class=\"right iz\" data-stat=\"onbase_plus_slugging\"></td><td class=\"right iz\" data-stat=\"pitches\"></td><td class=\"right iz\" data-stat=\"strikes_total\"></td><td class=\"right iz\" data-stat=\"wpa_bat\"></td><td class=\"right iz\" data-stat=\"leverage_index_avg\"></td><td class=\"right iz\" data-stat=\"wpa_bat_pos\"></td><td class=\"right iz\" data-stat=\"wpa_bat_neg\"></td><td class=\"right iz\" data-stat=\"cwpa_bat\"></td><td class=\"right iz\" data-stat=\"cli_avg\"></td><td class=\"right iz\" data-stat=\"re24_bat\"></td><td class=\"right iz\" data-stat=\"PO\">0</td><td class=\"right iz\" data-stat=\"A\">0</td><td class=\"left iz\" data-stat=\"details\"></td></tr>\n",
       "<tr><th class=\"left\" csk=\"105\" data-append-csv=\"rogerty01\" data-stat=\"player\" scope=\"row\">   <a href=\"/players/r/rogerty01.shtml\">Tyler Rogers</a> P</th><td class=\"right iz\" data-stat=\"AB\"></td><td class=\"right iz\" data-stat=\"R\"></td><td class=\"right iz\" data-stat=\"H\"></td><td class=\"right iz\" data-stat=\"RBI\"></td><td class=\"right iz\" data-stat=\"BB\"></td><td class=\"right iz\" data-stat=\"SO\"></td><td class=\"right iz\" data-stat=\"PA\"></td><td class=\"right iz\" data-stat=\"batting_avg\"></td><td class=\"right iz\" data-stat=\"onbase_perc\"></td><td class=\"right iz\" data-stat=\"slugging_perc\"></td><td class=\"right iz\" data-stat=\"onbase_plus_slugging\"></td><td class=\"right iz\" data-stat=\"pitches\"></td><td class=\"right iz\" data-stat=\"strikes_total\"></td><td class=\"right iz\" data-stat=\"wpa_bat\"></td><td class=\"right iz\" data-stat=\"leverage_index_avg\"></td><td class=\"right iz\" data-stat=\"wpa_bat_pos\"></td><td class=\"right iz\" data-stat=\"wpa_bat_neg\"></td><td class=\"right iz\" data-stat=\"cwpa_bat\"></td><td class=\"right iz\" data-stat=\"cli_avg\"></td><td class=\"right iz\" data-stat=\"re24_bat\"></td><td class=\"right iz\" data-stat=\"PO\">0</td><td class=\"right\" data-stat=\"A\">1</td><td class=\"left iz\" data-stat=\"details\"></td></tr>\n",
       "</tbody><tfoot><tr><th class=\"left\" data-stat=\"player\" scope=\"row\">Team Totals</th><td class=\"right\" data-stat=\"AB\">30</td><td class=\"right iz\" data-stat=\"R\">0</td><td class=\"right\" data-stat=\"H\">4</td><td class=\"right iz\" data-stat=\"RBI\">0</td><td class=\"right\" data-stat=\"BB\">3</td><td class=\"right\" data-stat=\"SO\">16</td><td class=\"right\" data-stat=\"PA\">33</td><td class=\"right\" data-stat=\"batting_avg\">.133</td><td class=\"right\" data-stat=\"onbase_perc\">.212</td><td class=\"right\" data-stat=\"slugging_perc\">.133</td><td class=\"right\" data-stat=\"onbase_plus_slugging\">.345</td><td class=\"right\" data-stat=\"pitches\">150</td><td class=\"right\" data-stat=\"strikes_total\">93</td><td class=\"right\" data-stat=\"wpa_bat\">-0.368</td><td class=\"right\" data-stat=\"leverage_index_avg\"> 0.81</td><td class=\"right\" data-stat=\"wpa_bat_pos\">0.215</td><td class=\"right\" data-stat=\"wpa_bat_neg\">-0.581</td><td class=\"right\" data-stat=\"cwpa_bat\">-0.20%</td><td class=\"right\" data-stat=\"cli_avg\"> 0.74</td><td class=\"right\" data-stat=\"re24_bat\"> -4.3</td><td class=\"right\" data-stat=\"PO\">24</td><td class=\"right\" data-stat=\"A\">5</td><td class=\"left iz\" data-stat=\"details\"></td></tr>\n",
       "</tfoot>\n",
       "</table>\n",
       "</div>\n",
       "<div class=\"footer no_hide_long\" id=\"tfooter_SanFranciscoGiantsbatting\">\n",
       "<div><div id=\"TB\"><strong>TB:</strong> Thairo Estrada 2; Roberto Pérez; Michael Conforto.</div>\n",
       "<div id=\"GIDP\"><strong>GIDP:</strong> Wilmer Flores (1).</div>\n",
       "<div id=\"teamlobvisitor\"><strong>Team LOB:</strong> 6.</div><div id=\"teamrispvisitor\"><strong>With RISP:</strong> 0 for 3.</div></div>\n",
       "<div><strong>Baserunning</strong>\n",
       "<div id=\"SBvisitor\"><strong>SB:</strong> Thairo Estrada (1, 2nd base off Gerrit Cole/Jose Trevino).</div>\n",
       "</div></div>\n",
       "</div>"
      ]
     },
     "execution_count": 353,
     "metadata": {},
     "output_type": "execute_result"
    }
   ],
   "source": [
    "soupAway=BeautifulSoup(new,\"html.parser\")\n",
    "soup2"
   ]
  },
  {
   "cell_type": "code",
   "execution_count": 354,
   "id": "e9d1d88d",
   "metadata": {},
   "outputs": [
    {
     "name": "stdout",
     "output_type": "stream",
     "text": [
      "0\n",
      "4\n"
     ]
    }
   ],
   "source": [
    "for i in range (13):\n",
    "  if \"30<\" in str(soupAway.select('div')[i]):\n",
    "    print(i)"
   ]
  },
  {
   "cell_type": "code",
   "execution_count": 355,
   "id": "67b42d33",
   "metadata": {},
   "outputs": [
    {
     "data": {
      "text/plain": [
       "[<td class=\"right\" data-stat=\"AB\">30</td>,\n",
       " <td class=\"right iz\" data-stat=\"R\">0</td>,\n",
       " <td class=\"right\" data-stat=\"H\">4</td>,\n",
       " <td class=\"right iz\" data-stat=\"RBI\">0</td>,\n",
       " <td class=\"right\" data-stat=\"BB\">3</td>,\n",
       " <td class=\"right\" data-stat=\"SO\">16</td>,\n",
       " <td class=\"right\" data-stat=\"PA\">33</td>,\n",
       " <td class=\"right\" data-stat=\"batting_avg\">.133</td>,\n",
       " <td class=\"right\" data-stat=\"onbase_perc\">.212</td>,\n",
       " <td class=\"right\" data-stat=\"slugging_perc\">.133</td>,\n",
       " <td class=\"right\" data-stat=\"onbase_plus_slugging\">.345</td>,\n",
       " <td class=\"right\" data-stat=\"pitches\">150</td>,\n",
       " <td class=\"right\" data-stat=\"strikes_total\">93</td>,\n",
       " <td class=\"right\" data-stat=\"wpa_bat\">-0.368</td>,\n",
       " <td class=\"right\" data-stat=\"leverage_index_avg\"> 0.81</td>,\n",
       " <td class=\"right\" data-stat=\"wpa_bat_pos\">0.215</td>,\n",
       " <td class=\"right\" data-stat=\"wpa_bat_neg\">-0.581</td>,\n",
       " <td class=\"right\" data-stat=\"cwpa_bat\">-0.20%</td>,\n",
       " <td class=\"right\" data-stat=\"cli_avg\"> 0.74</td>,\n",
       " <td class=\"right\" data-stat=\"re24_bat\"> -4.3</td>,\n",
       " <td class=\"right\" data-stat=\"PO\">24</td>,\n",
       " <td class=\"right\" data-stat=\"A\">5</td>,\n",
       " <td class=\"left iz\" data-stat=\"details\"></td>]"
      ]
     },
     "execution_count": 355,
     "metadata": {},
     "output_type": "execute_result"
    }
   ],
   "source": [
    "soupAway.select('div')[0].select('table')[0].select('tfoot td')"
   ]
  },
  {
   "cell_type": "code",
   "execution_count": 372,
   "id": "6bcec05f",
   "metadata": {},
   "outputs": [],
   "source": [
    "v_score = int(soupAway.select('div')[0].select('table')[0].select('tfoot td')[1].get_text())\n",
    "v_at_bats = int(soupAway.select('div')[0].select('table')[0].select('tfoot td')[0].get_text())\n",
    "v_hits = int(soupAway.select('div')[0].select('table')[0].select('tfoot td')[2].get_text())\n"
   ]
  },
  {
   "cell_type": "code",
   "execution_count": 373,
   "id": "8a3ca071",
   "metadata": {},
   "outputs": [
    {
     "data": {
      "text/plain": [
       "4"
      ]
     },
     "execution_count": 373,
     "metadata": {},
     "output_type": "execute_result"
    }
   ],
   "source": [
    "v_hits"
   ]
  },
  {
   "cell_type": "code",
   "execution_count": null,
   "id": "f39f7c80",
   "metadata": {},
   "outputs": [],
   "source": []
  },
  {
   "cell_type": "code",
   "execution_count": null,
   "id": "6b5f0e97",
   "metadata": {},
   "outputs": [],
   "source": []
  },
  {
   "cell_type": "code",
   "execution_count": null,
   "id": "8a6381e6",
   "metadata": {},
   "outputs": [],
   "source": []
  },
  {
   "cell_type": "code",
   "execution_count": null,
   "id": "3c95baf9",
   "metadata": {},
   "outputs": [],
   "source": []
  },
  {
   "cell_type": "code",
   "execution_count": 359,
   "id": "256f9cef",
   "metadata": {},
   "outputs": [
    {
     "name": "stdout",
     "output_type": "stream",
     "text": [
      "16\n",
      "52\n",
      "58\n"
     ]
    }
   ],
   "source": [
    "for i in range (100):\n",
    "    if \"32<\" in str(soup.select('div')[0].select('div')[i]):\n",
    "        print(i)"
   ]
  },
  {
   "cell_type": "code",
   "execution_count": 362,
   "id": "54965b06",
   "metadata": {},
   "outputs": [],
   "source": [
    "new=str(soup.select('div')[0].select('div')[52]).replace('<!--','').replace('-->','')#.select('\\-\\-')"
   ]
  },
  {
   "cell_type": "code",
   "execution_count": 363,
   "id": "13008890",
   "metadata": {},
   "outputs": [
    {
     "data": {
      "text/plain": [
       "<div class=\"table_wrapper setup_commented commented\" id=\"all_NewYorkYankeesbatting\">\n",
       "<div class=\"section_heading assoc_NewYorkYankeesbatting\" id=\"NewYorkYankeesbatting_sh\">\n",
       "<span class=\"section_anchor\" data-label=\"New York Yankees Batting\" id=\"NewYorkYankeesbatting_link\"></span><h2>New York Yankees</h2> <div class=\"section_heading_text\">\n",
       "<ul>\n",
       "</ul>\n",
       "</div>\n",
       "</div><div class=\"placeholder\"></div>\n",
       "<div class=\"table_container\" id=\"div_NewYorkYankeesbatting\">\n",
       "<table class=\"sortable stats_table min_width shade_zero\" data-cols-to-freeze=\",1\" id=\"NewYorkYankeesbatting\">\n",
       "<caption>New York Yankees Table</caption>\n",
       "<colgroup><col/><col/><col/><col/><col/><col/><col/><col/><col/><col/><col/><col/><col/><col/><col/><col/><col/><col/><col/><col/><col/><col/><col/><col/></colgroup>\n",
       "<thead>\n",
       "<tr>\n",
       "<th aria-label=\"Batting\" class=\"poptip sort_default_asc show_partial_when_sorting left\" data-stat=\"player\" data-tip=\"&lt;strong&gt;Player Name&lt;/strong&gt;&lt;br&gt;&lt;strong&gt;Bold&lt;/strong&gt; can mean player is active for this team&lt;br&gt;or player has appeared in the majors&lt;br&gt;* means LHP or LHB,&lt;br&gt;# means switch hitter,&lt;br&gt;+ can mean HOFer.\" scope=\"col\">Batting</th>\n",
       "<th aria-label=\"At Bats\" class=\"poptip center\" data-stat=\"AB\" data-tip=\"At Bats\" scope=\"col\">AB</th>\n",
       "<th aria-label=\"Runs Scored\" class=\"poptip center\" data-stat=\"R\" data-tip=\"Runs Scored/Allowed\" scope=\"col\">R</th>\n",
       "<th aria-label=\"Hits\" class=\"poptip center\" data-stat=\"H\" data-tip=\"Hits/Hits Allowed\" scope=\"col\">H</th>\n",
       "<th aria-label=\"Runs Batted In\" class=\"poptip center\" data-stat=\"RBI\" data-tip=\"Runs Batted In\" scope=\"col\">RBI</th>\n",
       "<th aria-label=\"Bases on Balls\" class=\"poptip center\" data-stat=\"BB\" data-tip=\"Bases on Balls/Walks\" scope=\"col\">BB</th>\n",
       "<th aria-label=\"Strikeouts\" class=\"poptip center\" data-stat=\"SO\" data-tip=\"Strikeouts\" scope=\"col\">SO</th>\n",
       "<th aria-label=\"Plate Appearances\" class=\"poptip center\" data-stat=\"PA\" data-tip=\"&lt;strong&gt;Plate Appearances&lt;/strong&gt;&lt;br&gt;When available, we use actual plate appearances from play-by-play game accounts&lt;br&gt;Otherwise estimated using AB + BB + HBP + SF + SH,&lt;br&gt;which excludes catcher interferences.&lt;br&gt;When &lt;span class=tooltip&gt;this color&lt;/span&gt; click for a summary of each PA.\" scope=\"col\">PA</th>\n",
       "<th aria-label=\"Batting Average\" class=\"poptip hide_non_quals center\" data-filter=\"1\" data-name=\"Batting Average\" data-stat=\"batting_avg\" data-tip='&lt;strong&gt;Hits/At Bats&lt;/strong&gt;&lt;br&gt;For recent years, leaders need 3.1 PA&lt;br&gt;per team game played&lt;br&gt;Bold indicates highest BA using current stats&lt;br&gt;&lt;span class=\"all_time_record\"&gt;Gold&lt;/span&gt; means awarded title at end of year.' scope=\"col\">BA</th>\n",
       "<th aria-label=\"On-Base%\" class=\"poptip hide_non_quals center\" data-filter=\"1\" data-name=\"On-Base%\" data-stat=\"onbase_perc\" data-tip=\"&lt;strong&gt;(H + BB + HBP)/(At Bats + BB + HBP + SF)&lt;/strong&gt;&lt;br&gt;For recent years, leaders need 3.1 PA&lt;br&gt;per team game played\" scope=\"col\">OBP</th>\n",
       "<th aria-label=\"Slugging %\" class=\"poptip hide_non_quals center\" data-filter=\"1\" data-name=\"Slugging %\" data-stat=\"slugging_perc\" data-tip=\"&lt;strong&gt;Total Bases/At Bats or &lt;br&gt;(1B + 2*2B + 3*3B + 4*HR)/AB&lt;/strong&gt;&lt;br&gt;For recent years, leaders need 3.1 PA&lt;br&gt;per team game played\" scope=\"col\">SLG</th>\n",
       "<th aria-label=\"On-Base Plus Slugging\" class=\"poptip hide_non_quals center\" data-filter=\"1\" data-name=\"On-Base Plus Slugging\" data-stat=\"onbase_plus_slugging\" data-tip=\"&lt;strong&gt;On-Base + Slugging Percentages &lt;/strong&gt;&lt;br&gt;For recent years, leaders need 3.1 PA&lt;br&gt;per team game played\" scope=\"col\">OPS</th>\n",
       "<th aria-label=\"Pit\" class=\"poptip center\" data-stat=\"pitches\" data-tip=\"Number of pitches in the PA.\" scope=\"col\">Pit</th>\n",
       "<th aria-label=\"Str\" class=\"poptip center\" data-stat=\"strikes_total\" data-tip=\"&lt;strong&gt;Strikes&lt;/strong&gt;&lt;br&gt;Includes both pitches in the zone and those swung at out of the zone.\" scope=\"col\">Str</th>\n",
       "<th aria-label=\"Win Probability Added (WPA)\" class=\"poptip center\" data-filter=\"1\" data-name=\"Win Probability Added (WPA)\" data-stat=\"wpa_bat\" data-tip=\"&lt;strong&gt;Win Probability Added for Offensive Player&lt;/strong&gt;&lt;br&gt;Given average teams, this is the change in probability&lt;br&gt;caused by this batter during the game&lt;br&gt;A change of +/- 1 would indicate one win added or lost.\" scope=\"col\">WPA</th>\n",
       "<th aria-label=\"aLI\" class=\"poptip hide_non_quals center\" data-filter=\"1\" data-name=\"aLI\" data-stat=\"leverage_index_avg\" data-tip=\"&lt;strong&gt;Average Leverage Index&lt;/strong&gt;&lt;br&gt;The average pressure the pitcher or batter saw in this game or season.&lt;br&gt;1.0 is average pressure, below 1.0 is low pressure and above 1.0 is high pressure.\" scope=\"col\">aLI</th>\n",
       "<th aria-label=\"WPA+\" class=\"poptip center\" data-filter=\"1\" data-name=\"WPA+\" data-stat=\"wpa_bat_pos\" data-tip=\"&lt;strong&gt;Win Probability Added&lt;/strong&gt;&lt;br&gt;Sum of positive events for this batter.\" scope=\"col\">WPA+</th>\n",
       "<th aria-label=\"WPA-\" class=\"poptip center\" data-filter=\"1\" data-name=\"WPA-\" data-stat=\"wpa_bat_neg\" data-tip=\"&lt;strong&gt;Win Probability Subtracted&lt;/strong&gt;&lt;br&gt;Sum of negative events for this batter.\" scope=\"col\">WPA-</th>\n",
       "<th aria-label=\"Championship WPA (cWPA)\" class=\"poptip center\" data-filter=\"1\" data-name=\"Championship WPA (cWPA)\" data-stat=\"cwpa_bat\" data-tip=\"&lt;strong&gt;Championship Win Probability Added for Offensive Player&lt;/strong&gt;&lt;br&gt;Given average teams, this is the change in probability, displayed in percentage points.&lt;br&gt;A change of +/- 100% would indicate one world series win added or lost.\" scope=\"col\">cWPA</th>\n",
       "<th aria-label=\"acLI\" class=\"poptip hide_non_quals center\" data-filter=\"1\" data-name=\"acLI\" data-stat=\"cli_avg\" data-tip=\"&lt;strong&gt;Average Championship Leverage Index&lt;/strong&gt;&lt;br&gt;The average pressure the pitcher or batter saw in this game or season.&lt;br&gt;1.0 is average pressure, below 1.0 is low pressure and above 1.0 is high pressure.\" scope=\"col\">acLI</th>\n",
       "<th aria-label=\"Base-Out Runs Added (RE24)\" class=\"poptip center\" data-filter=\"1\" data-name=\"Base-Out Runs Added (RE24)\" data-stat=\"re24_bat\" data-tip=\"&lt;strong&gt;Base-Out Runs Added&lt;/strong&gt;&lt;br&gt;Given the bases occupied/out situation, how many runs did the batter&lt;br&gt; or baserunner add in the resulting play.&lt;br&gt;Compared to average, so 0 is average, and above 0 is better than average\" scope=\"col\">RE24</th>\n",
       "<th aria-label=\"Putouts\" class=\"poptip center\" data-stat=\"PO\" data-tip=\"Putouts\" scope=\"col\">PO</th>\n",
       "<th aria-label=\"Assists\" class=\"poptip center\" data-stat=\"A\" data-tip=\"Assists\" scope=\"col\">A</th>\n",
       "<th aria-label=\"details\" class=\"poptip center\" data-stat=\"details\" scope=\"col\">Details</th>\n",
       "</tr>\n",
       "</thead>\n",
       "<tbody><tr><th class=\"left\" csk=\"8\" data-append-csv=\"lemahdj01\" data-stat=\"player\" scope=\"row\"><a href=\"/players/l/lemahdj01.shtml\">DJ LeMahieu</a> 2B</th><td class=\"right endpoint\" data-endpoint=\"/tools/be.cgi?html=1&amp;game-id=NYA202303300-lemahdj01\" data-stat=\"AB\">4</td><td class=\"right iz\" data-stat=\"R\">0</td><td class=\"right\" data-stat=\"H\">1</td><td class=\"right\" data-stat=\"RBI\">1</td><td class=\"right iz\" data-stat=\"BB\">0</td><td class=\"right\" data-stat=\"SO\">3</td><td class=\"right\" data-stat=\"PA\">4</td><td class=\"right\" data-stat=\"batting_avg\">.250</td><td class=\"right\" data-stat=\"onbase_perc\">.250</td><td class=\"right\" data-stat=\"slugging_perc\">.250</td><td class=\"right\" data-stat=\"onbase_plus_slugging\">.500</td><td class=\"right\" data-stat=\"pitches\">12</td><td class=\"right\" data-stat=\"strikes_total\">11</td><td class=\"right\" data-stat=\"wpa_bat\">-0.032</td><td class=\"right\" data-stat=\"leverage_index_avg\"> 0.71</td><td class=\"right\" data-stat=\"wpa_bat_pos\">0.026</td><td class=\"right\" data-stat=\"wpa_bat_neg\">-0.058</td><td class=\"right\" data-stat=\"cwpa_bat\">-0.02%</td><td class=\"right\" data-stat=\"cli_avg\"> 0.66</td><td class=\"right\" data-stat=\"re24_bat\"> 0.2</td><td class=\"right\" data-stat=\"PO\">1</td><td class=\"right\" data-stat=\"A\">2</td><td class=\"left iz\" data-stat=\"details\"></td></tr>\n",
       "<tr><th class=\"left\" csk=\"9\" data-append-csv=\"judgeaa01\" data-stat=\"player\" scope=\"row\"><a href=\"/players/j/judgeaa01.shtml\">Aaron Judge</a> CF-RF</th><td class=\"right endpoint\" data-endpoint=\"/tools/be.cgi?html=1&amp;game-id=NYA202303300-judgeaa01\" data-stat=\"AB\">4</td><td class=\"right\" data-stat=\"R\">1</td><td class=\"right\" data-stat=\"H\">2</td><td class=\"right\" data-stat=\"RBI\">2</td><td class=\"right iz\" data-stat=\"BB\">0</td><td class=\"right\" data-stat=\"SO\">2</td><td class=\"right\" data-stat=\"PA\">4</td><td class=\"right\" data-stat=\"batting_avg\">.500</td><td class=\"right\" data-stat=\"onbase_perc\">.500</td><td class=\"right\" data-stat=\"slugging_perc\">1.250</td><td class=\"right\" data-stat=\"onbase_plus_slugging\">1.750</td><td class=\"right\" data-stat=\"pitches\">16</td><td class=\"right\" data-stat=\"strikes_total\">11</td><td class=\"right\" data-stat=\"wpa_bat\">0.085</td><td class=\"right\" data-stat=\"leverage_index_avg\"> 0.57</td><td class=\"right\" data-stat=\"wpa_bat_pos\">0.120</td><td class=\"right\" data-stat=\"wpa_bat_neg\">-0.036</td><td class=\"right\" data-stat=\"cwpa_bat\"> 0.05%</td><td class=\"right\" data-stat=\"cli_avg\"> 0.53</td><td class=\"right\" data-stat=\"re24_bat\"> 1.6</td><td class=\"right\" data-stat=\"PO\">1</td><td class=\"right iz\" data-stat=\"A\">0</td><td class=\"left\" data-stat=\"details\">HR</td></tr>\n",
       "<tr><th class=\"left\" csk=\"10\" data-append-csv=\"rizzoan01\" data-stat=\"player\" scope=\"row\"><a href=\"/players/r/rizzoan01.shtml\">Anthony Rizzo</a> 1B</th><td class=\"right endpoint\" data-endpoint=\"/tools/be.cgi?html=1&amp;game-id=NYA202303300-rizzoan01\" data-stat=\"AB\">4</td><td class=\"right iz\" data-stat=\"R\">0</td><td class=\"right\" data-stat=\"H\">1</td><td class=\"right iz\" data-stat=\"RBI\">0</td><td class=\"right iz\" data-stat=\"BB\">0</td><td class=\"right\" data-stat=\"SO\">1</td><td class=\"right\" data-stat=\"PA\">4</td><td class=\"right\" data-stat=\"batting_avg\">.250</td><td class=\"right\" data-stat=\"onbase_perc\">.250</td><td class=\"right\" data-stat=\"slugging_perc\">.250</td><td class=\"right\" data-stat=\"onbase_plus_slugging\">.500</td><td class=\"right\" data-stat=\"pitches\">19</td><td class=\"right\" data-stat=\"strikes_total\">12</td><td class=\"right\" data-stat=\"wpa_bat\">-0.020</td><td class=\"right\" data-stat=\"leverage_index_avg\"> 0.51</td><td class=\"right\" data-stat=\"wpa_bat_pos\">0.021</td><td class=\"right\" data-stat=\"wpa_bat_neg\">-0.041</td><td class=\"right\" data-stat=\"cwpa_bat\">-0.01%</td><td class=\"right\" data-stat=\"cli_avg\"> 0.47</td><td class=\"right\" data-stat=\"re24_bat\"> -0.8</td><td class=\"right\" data-stat=\"PO\">5</td><td class=\"right\" data-stat=\"A\">2</td><td class=\"left iz\" data-stat=\"details\"></td></tr>\n",
       "<tr><th class=\"left\" csk=\"11\" data-append-csv=\"stantmi03\" data-stat=\"player\" scope=\"row\"><a href=\"/players/s/stantmi03.shtml\">Giancarlo Stanton</a> RF</th><td class=\"right endpoint\" data-endpoint=\"/tools/be.cgi?html=1&amp;game-id=NYA202303300-stantmi03\" data-stat=\"AB\">4</td><td class=\"right iz\" data-stat=\"R\">0</td><td class=\"right\" data-stat=\"H\">1</td><td class=\"right iz\" data-stat=\"RBI\">0</td><td class=\"right iz\" data-stat=\"BB\">0</td><td class=\"right\" data-stat=\"SO\">1</td><td class=\"right\" data-stat=\"PA\">4</td><td class=\"right\" data-stat=\"batting_avg\">.250</td><td class=\"right\" data-stat=\"onbase_perc\">.250</td><td class=\"right\" data-stat=\"slugging_perc\">.250</td><td class=\"right\" data-stat=\"onbase_plus_slugging\">.500</td><td class=\"right\" data-stat=\"pitches\">13</td><td class=\"right\" data-stat=\"strikes_total\">12</td><td class=\"right\" data-stat=\"wpa_bat\">-0.049</td><td class=\"right\" data-stat=\"leverage_index_avg\"> 0.51</td><td class=\"right\" data-stat=\"wpa_bat_pos\">0.001</td><td class=\"right\" data-stat=\"wpa_bat_neg\">-0.049</td><td class=\"right\" data-stat=\"cwpa_bat\">-0.03%</td><td class=\"right\" data-stat=\"cli_avg\"> 0.47</td><td class=\"right\" data-stat=\"re24_bat\"> -0.3</td><td class=\"right iz\" data-stat=\"PO\">0</td><td class=\"right iz\" data-stat=\"A\">0</td><td class=\"left iz\" data-stat=\"details\"></td></tr>\n",
       "<tr><th class=\"left\" csk=\"12\" data-append-csv=\"flories01\" data-stat=\"player\" scope=\"row\">   <a href=\"/players/f/flories01.shtml\">Estevan Florial</a> PR-CF</th><td class=\"right endpoint iz\" data-endpoint=\"/tools/be.cgi?html=1&amp;game-id=NYA202303300-flories01\" data-stat=\"AB\">0</td><td class=\"right iz\" data-stat=\"R\">0</td><td class=\"right iz\" data-stat=\"H\">0</td><td class=\"right iz\" data-stat=\"RBI\">0</td><td class=\"right iz\" data-stat=\"BB\">0</td><td class=\"right iz\" data-stat=\"SO\">0</td><td class=\"right iz\" data-stat=\"PA\">0</td><td class=\"right iz\" data-stat=\"batting_avg\"></td><td class=\"right iz\" data-stat=\"onbase_perc\"></td><td class=\"right iz\" data-stat=\"slugging_perc\"></td><td class=\"right iz\" data-stat=\"onbase_plus_slugging\"></td><td class=\"right iz\" data-stat=\"pitches\"></td><td class=\"right iz\" data-stat=\"strikes_total\"></td><td class=\"right iz\" data-stat=\"wpa_bat\"></td><td class=\"right iz\" data-stat=\"leverage_index_avg\"></td><td class=\"right iz\" data-stat=\"wpa_bat_pos\"></td><td class=\"right iz\" data-stat=\"wpa_bat_neg\"></td><td class=\"right iz\" data-stat=\"cwpa_bat\"></td><td class=\"right iz\" data-stat=\"cli_avg\"></td><td class=\"right iz\" data-stat=\"re24_bat\"></td><td class=\"right iz\" data-stat=\"PO\">0</td><td class=\"right iz\" data-stat=\"A\">0</td><td class=\"left iz\" data-stat=\"details\"></td></tr>\n",
       "<tr><th class=\"left\" csk=\"13\" data-append-csv=\"donaljo02\" data-stat=\"player\" scope=\"row\"><a href=\"/players/d/donaljo02.shtml\">Josh Donaldson</a> 3B</th><td class=\"right endpoint\" data-endpoint=\"/tools/be.cgi?html=1&amp;game-id=NYA202303300-donaljo02\" data-stat=\"AB\">4</td><td class=\"right\" data-stat=\"R\">1</td><td class=\"right\" data-stat=\"H\">1</td><td class=\"right iz\" data-stat=\"RBI\">0</td><td class=\"right iz\" data-stat=\"BB\">0</td><td class=\"right\" data-stat=\"SO\">2</td><td class=\"right\" data-stat=\"PA\">4</td><td class=\"right\" data-stat=\"batting_avg\">.250</td><td class=\"right\" data-stat=\"onbase_perc\">.250</td><td class=\"right\" data-stat=\"slugging_perc\">.250</td><td class=\"right\" data-stat=\"onbase_plus_slugging\">.500</td><td class=\"right\" data-stat=\"pitches\">12</td><td class=\"right\" data-stat=\"strikes_total\">9</td><td class=\"right\" data-stat=\"wpa_bat\">-0.001</td><td class=\"right\" data-stat=\"leverage_index_avg\"> 0.36</td><td class=\"right\" data-stat=\"wpa_bat_pos\">0.023</td><td class=\"right\" data-stat=\"wpa_bat_neg\">-0.023</td><td class=\"right iz\" data-stat=\"cwpa_bat\">0%</td><td class=\"right\" data-stat=\"cli_avg\"> 0.34</td><td class=\"right\" data-stat=\"re24_bat\"> -0.3</td><td class=\"right iz\" data-stat=\"PO\">0</td><td class=\"right iz\" data-stat=\"A\">0</td><td class=\"left iz\" data-stat=\"details\"></td></tr>\n",
       "<tr><th class=\"left\" csk=\"14\" data-append-csv=\"torregl01\" data-stat=\"player\" scope=\"row\"><a href=\"/players/t/torregl01.shtml\">Gleyber Torres</a> DH</th><td class=\"right endpoint\" data-endpoint=\"/tools/be.cgi?html=1&amp;game-id=NYA202303300-torregl01\" data-stat=\"AB\">3</td><td class=\"right\" data-stat=\"R\">2</td><td class=\"right\" data-stat=\"H\">1</td><td class=\"right\" data-stat=\"RBI\">2</td><td class=\"right\" data-stat=\"BB\">1</td><td class=\"right iz\" data-stat=\"SO\">0</td><td class=\"right\" data-stat=\"PA\">4</td><td class=\"right\" data-stat=\"batting_avg\">.333</td><td class=\"right\" data-stat=\"onbase_perc\">.500</td><td class=\"right\" data-stat=\"slugging_perc\">1.333</td><td class=\"right\" data-stat=\"onbase_plus_slugging\">1.833</td><td class=\"right\" data-stat=\"pitches\">13</td><td class=\"right\" data-stat=\"strikes_total\">7</td><td class=\"right\" data-stat=\"wpa_bat\">0.159</td><td class=\"right\" data-stat=\"leverage_index_avg\"> 0.48</td><td class=\"right\" data-stat=\"wpa_bat_pos\">0.179</td><td class=\"right\" data-stat=\"wpa_bat_neg\">-0.020</td><td class=\"right\" data-stat=\"cwpa_bat\"> 0.09%</td><td class=\"right\" data-stat=\"cli_avg\"> 0.45</td><td class=\"right\" data-stat=\"re24_bat\"> 1.7</td><td class=\"right iz\" data-stat=\"PO\"></td><td class=\"right iz\" data-stat=\"A\"></td><td class=\"left\" data-stat=\"details\">HR,SB</td></tr>\n",
       "<tr><th class=\"left\" csk=\"15\" data-append-csv=\"cabreos01\" data-stat=\"player\" scope=\"row\"><a href=\"/players/c/cabreos01.shtml\">Oswaldo Cabrera</a> LF</th><td class=\"right endpoint\" data-endpoint=\"/tools/be.cgi?html=1&amp;game-id=NYA202303300-cabreos01\" data-stat=\"AB\">4</td><td class=\"right iz\" data-stat=\"R\">0</td><td class=\"right iz\" data-stat=\"H\">0</td><td class=\"right iz\" data-stat=\"RBI\">0</td><td class=\"right iz\" data-stat=\"BB\">0</td><td class=\"right\" data-stat=\"SO\">4</td><td class=\"right\" data-stat=\"PA\">4</td><td class=\"right iz\" data-stat=\"batting_avg\">.000</td><td class=\"right iz\" data-stat=\"onbase_perc\">.000</td><td class=\"right iz\" data-stat=\"slugging_perc\">.000</td><td class=\"right iz\" data-stat=\"onbase_plus_slugging\">.000</td><td class=\"right\" data-stat=\"pitches\">19</td><td class=\"right\" data-stat=\"strikes_total\">13</td><td class=\"right\" data-stat=\"wpa_bat\">-0.029</td><td class=\"right\" data-stat=\"leverage_index_avg\"> 0.30</td><td class=\"right\" data-stat=\"wpa_bat_pos\">0.000</td><td class=\"right\" data-stat=\"wpa_bat_neg\">-0.029</td><td class=\"right\" data-stat=\"cwpa_bat\">-0.02%</td><td class=\"right\" data-stat=\"cli_avg\"> 0.28</td><td class=\"right\" data-stat=\"re24_bat\"> -1.0</td><td class=\"right\" data-stat=\"PO\">1</td><td class=\"right iz\" data-stat=\"A\">0</td><td class=\"left iz\" data-stat=\"details\"></td></tr>\n",
       "<tr><th class=\"left\" csk=\"16\" data-append-csv=\"trevijo01\" data-stat=\"player\" scope=\"row\"><a href=\"/players/t/trevijo01.shtml\">Jose Trevino</a> C</th><td class=\"right endpoint\" data-endpoint=\"/tools/be.cgi?html=1&amp;game-id=NYA202303300-trevijo01\" data-stat=\"AB\">3</td><td class=\"right\" data-stat=\"R\">1</td><td class=\"right\" data-stat=\"H\">1</td><td class=\"right iz\" data-stat=\"RBI\">0</td><td class=\"right iz\" data-stat=\"BB\">0</td><td class=\"right\" data-stat=\"SO\">2</td><td class=\"right\" data-stat=\"PA\">3</td><td class=\"right\" data-stat=\"batting_avg\">.333</td><td class=\"right\" data-stat=\"onbase_perc\">.333</td><td class=\"right\" data-stat=\"slugging_perc\">.333</td><td class=\"right\" data-stat=\"onbase_plus_slugging\">.667</td><td class=\"right\" data-stat=\"pitches\">9</td><td class=\"right\" data-stat=\"strikes_total\">7</td><td class=\"right\" data-stat=\"wpa_bat\">-0.003</td><td class=\"right\" data-stat=\"leverage_index_avg\"> 0.28</td><td class=\"right\" data-stat=\"wpa_bat_pos\">0.011</td><td class=\"right\" data-stat=\"wpa_bat_neg\">-0.014</td><td class=\"right\" data-stat=\"cwpa_bat\">-0.00%</td><td class=\"right\" data-stat=\"cli_avg\"> 0.26</td><td class=\"right\" data-stat=\"re24_bat\"> 0.3</td><td class=\"right\" data-stat=\"PO\">17</td><td class=\"right iz\" data-stat=\"A\">0</td><td class=\"left iz\" data-stat=\"details\"></td></tr>\n",
       "<tr><th class=\"left\" csk=\"17\" data-append-csv=\"volpean01\" data-stat=\"player\" scope=\"row\"><a href=\"/players/v/volpean01.shtml\">Anthony Volpe</a> SS</th><td class=\"right endpoint\" data-endpoint=\"/tools/be.cgi?html=1&amp;game-id=NYA202303300-volpean01\" data-stat=\"AB\">2</td><td class=\"right iz\" data-stat=\"R\">0</td><td class=\"right iz\" data-stat=\"H\">0</td><td class=\"right iz\" data-stat=\"RBI\">0</td><td class=\"right\" data-stat=\"BB\">1</td><td class=\"right\" data-stat=\"SO\">1</td><td class=\"right\" data-stat=\"PA\">3</td><td class=\"right iz\" data-stat=\"batting_avg\">.000</td><td class=\"right\" data-stat=\"onbase_perc\">.333</td><td class=\"right iz\" data-stat=\"slugging_perc\">.000</td><td class=\"right\" data-stat=\"onbase_plus_slugging\">.333</td><td class=\"right\" data-stat=\"pitches\">13</td><td class=\"right\" data-stat=\"strikes_total\">7</td><td class=\"right\" data-stat=\"wpa_bat\">0.024</td><td class=\"right\" data-stat=\"leverage_index_avg\"> 0.72</td><td class=\"right\" data-stat=\"wpa_bat_pos\">0.048</td><td class=\"right\" data-stat=\"wpa_bat_neg\">-0.024</td><td class=\"right\" data-stat=\"cwpa_bat\"> 0.01%</td><td class=\"right\" data-stat=\"cli_avg\"> 0.66</td><td class=\"right\" data-stat=\"re24_bat\"> -0.4</td><td class=\"right iz\" data-stat=\"PO\">0</td><td class=\"right\" data-stat=\"A\">3</td><td class=\"left\" data-stat=\"details\">SB</td></tr>\n",
       "<tr class=\"spacer\"><th class=\"left iz\" csk=\"99\" data-stat=\"player\" scope=\"row\"></th><td class=\"right iz\" data-stat=\"AB\"></td><td class=\"right iz\" data-stat=\"R\"></td><td class=\"right iz\" data-stat=\"H\"></td><td class=\"right iz\" data-stat=\"RBI\"></td><td class=\"right iz\" data-stat=\"BB\"></td><td class=\"right iz\" data-stat=\"SO\"></td><td class=\"right iz\" data-stat=\"PA\"></td><td class=\"right iz\" data-stat=\"batting_avg\"></td><td class=\"right iz\" data-stat=\"onbase_perc\"></td><td class=\"right iz\" data-stat=\"slugging_perc\"></td><td class=\"right iz\" data-stat=\"onbase_plus_slugging\"></td><td class=\"right iz\" data-stat=\"pitches\"></td><td class=\"right iz\" data-stat=\"strikes_total\"></td><td class=\"right iz\" data-stat=\"wpa_bat\"></td><td class=\"right iz\" data-stat=\"leverage_index_avg\"></td><td class=\"right iz\" data-stat=\"wpa_bat_pos\"></td><td class=\"right iz\" data-stat=\"wpa_bat_neg\"></td><td class=\"right iz\" data-stat=\"cwpa_bat\"></td><td class=\"right iz\" data-stat=\"cli_avg\"></td><td class=\"right iz\" data-stat=\"re24_bat\"></td><td class=\"right iz\" data-stat=\"PO\"></td><td class=\"right iz\" data-stat=\"A\"></td><td class=\"left iz\" data-stat=\"details\"></td></tr>\n",
       "<tr><th class=\"left\" csk=\"101\" data-append-csv=\"colege01\" data-stat=\"player\" scope=\"row\"><a href=\"/players/c/colege01.shtml\">Gerrit Cole</a> P</th><td class=\"right iz\" data-stat=\"AB\"></td><td class=\"right iz\" data-stat=\"R\"></td><td class=\"right iz\" data-stat=\"H\"></td><td class=\"right iz\" data-stat=\"RBI\"></td><td class=\"right iz\" data-stat=\"BB\"></td><td class=\"right iz\" data-stat=\"SO\"></td><td class=\"right iz\" data-stat=\"PA\"></td><td class=\"right iz\" data-stat=\"batting_avg\"></td><td class=\"right iz\" data-stat=\"onbase_perc\"></td><td class=\"right iz\" data-stat=\"slugging_perc\"></td><td class=\"right iz\" data-stat=\"onbase_plus_slugging\"></td><td class=\"right iz\" data-stat=\"pitches\"></td><td class=\"right iz\" data-stat=\"strikes_total\"></td><td class=\"right iz\" data-stat=\"wpa_bat\"></td><td class=\"right iz\" data-stat=\"leverage_index_avg\"></td><td class=\"right iz\" data-stat=\"wpa_bat_pos\"></td><td class=\"right iz\" data-stat=\"wpa_bat_neg\"></td><td class=\"right iz\" data-stat=\"cwpa_bat\"></td><td class=\"right iz\" data-stat=\"cli_avg\"></td><td class=\"right iz\" data-stat=\"re24_bat\"></td><td class=\"right\" data-stat=\"PO\">1</td><td class=\"right iz\" data-stat=\"A\">0</td><td class=\"left iz\" data-stat=\"details\"></td></tr>\n",
       "<tr><th class=\"left\" csk=\"103\" data-append-csv=\"peralwa01\" data-stat=\"player\" scope=\"row\">   <a href=\"/players/p/peralwa01.shtml\">Wandy Peralta</a> P</th><td class=\"right iz\" data-stat=\"AB\"></td><td class=\"right iz\" data-stat=\"R\"></td><td class=\"right iz\" data-stat=\"H\"></td><td class=\"right iz\" data-stat=\"RBI\"></td><td class=\"right iz\" data-stat=\"BB\"></td><td class=\"right iz\" data-stat=\"SO\"></td><td class=\"right iz\" data-stat=\"PA\"></td><td class=\"right iz\" data-stat=\"batting_avg\"></td><td class=\"right iz\" data-stat=\"onbase_perc\"></td><td class=\"right iz\" data-stat=\"slugging_perc\"></td><td class=\"right iz\" data-stat=\"onbase_plus_slugging\"></td><td class=\"right iz\" data-stat=\"pitches\"></td><td class=\"right iz\" data-stat=\"strikes_total\"></td><td class=\"right iz\" data-stat=\"wpa_bat\"></td><td class=\"right iz\" data-stat=\"leverage_index_avg\"></td><td class=\"right iz\" data-stat=\"wpa_bat_pos\"></td><td class=\"right iz\" data-stat=\"wpa_bat_neg\"></td><td class=\"right iz\" data-stat=\"cwpa_bat\"></td><td class=\"right iz\" data-stat=\"cli_avg\"></td><td class=\"right iz\" data-stat=\"re24_bat\"></td><td class=\"right iz\" data-stat=\"PO\">0</td><td class=\"right iz\" data-stat=\"A\">0</td><td class=\"left iz\" data-stat=\"details\"></td></tr>\n",
       "<tr><th class=\"left\" csk=\"105\" data-append-csv=\"loaisjo01\" data-stat=\"player\" scope=\"row\">   <a href=\"/players/l/loaisjo01.shtml\">Jonathan Loáisiga</a> P</th><td class=\"right iz\" data-stat=\"AB\"></td><td class=\"right iz\" data-stat=\"R\"></td><td class=\"right iz\" data-stat=\"H\"></td><td class=\"right iz\" data-stat=\"RBI\"></td><td class=\"right iz\" data-stat=\"BB\"></td><td class=\"right iz\" data-stat=\"SO\"></td><td class=\"right iz\" data-stat=\"PA\"></td><td class=\"right iz\" data-stat=\"batting_avg\"></td><td class=\"right iz\" data-stat=\"onbase_perc\"></td><td class=\"right iz\" data-stat=\"slugging_perc\"></td><td class=\"right iz\" data-stat=\"onbase_plus_slugging\"></td><td class=\"right iz\" data-stat=\"pitches\"></td><td class=\"right iz\" data-stat=\"strikes_total\"></td><td class=\"right iz\" data-stat=\"wpa_bat\"></td><td class=\"right iz\" data-stat=\"leverage_index_avg\"></td><td class=\"right iz\" data-stat=\"wpa_bat_pos\"></td><td class=\"right iz\" data-stat=\"wpa_bat_neg\"></td><td class=\"right iz\" data-stat=\"cwpa_bat\"></td><td class=\"right iz\" data-stat=\"cli_avg\"></td><td class=\"right iz\" data-stat=\"re24_bat\"></td><td class=\"right iz\" data-stat=\"PO\">0</td><td class=\"right iz\" data-stat=\"A\">0</td><td class=\"left iz\" data-stat=\"details\"></td></tr>\n",
       "<tr><th class=\"left\" csk=\"107\" data-append-csv=\"marinro01\" data-stat=\"player\" scope=\"row\">   <a href=\"/players/m/marinro01.shtml\">Ron Marinaccio</a> P</th><td class=\"right iz\" data-stat=\"AB\"></td><td class=\"right iz\" data-stat=\"R\"></td><td class=\"right iz\" data-stat=\"H\"></td><td class=\"right iz\" data-stat=\"RBI\"></td><td class=\"right iz\" data-stat=\"BB\"></td><td class=\"right iz\" data-stat=\"SO\"></td><td class=\"right iz\" data-stat=\"PA\"></td><td class=\"right iz\" data-stat=\"batting_avg\"></td><td class=\"right iz\" data-stat=\"onbase_perc\"></td><td class=\"right iz\" data-stat=\"slugging_perc\"></td><td class=\"right iz\" data-stat=\"onbase_plus_slugging\"></td><td class=\"right iz\" data-stat=\"pitches\"></td><td class=\"right iz\" data-stat=\"strikes_total\"></td><td class=\"right iz\" data-stat=\"wpa_bat\"></td><td class=\"right iz\" data-stat=\"leverage_index_avg\"></td><td class=\"right iz\" data-stat=\"wpa_bat_pos\"></td><td class=\"right iz\" data-stat=\"wpa_bat_neg\"></td><td class=\"right iz\" data-stat=\"cwpa_bat\"></td><td class=\"right iz\" data-stat=\"cli_avg\"></td><td class=\"right iz\" data-stat=\"re24_bat\"></td><td class=\"right\" data-stat=\"PO\">1</td><td class=\"right iz\" data-stat=\"A\">0</td><td class=\"left iz\" data-stat=\"details\"></td></tr>\n",
       "</tbody><tfoot><tr><th class=\"left\" data-stat=\"player\" scope=\"row\">Team Totals</th><td class=\"right\" data-stat=\"AB\">32</td><td class=\"right\" data-stat=\"R\">5</td><td class=\"right\" data-stat=\"H\">8</td><td class=\"right\" data-stat=\"RBI\">5</td><td class=\"right\" data-stat=\"BB\">2</td><td class=\"right\" data-stat=\"SO\">16</td><td class=\"right\" data-stat=\"PA\">34</td><td class=\"right\" data-stat=\"batting_avg\">.250</td><td class=\"right\" data-stat=\"onbase_perc\">.294</td><td class=\"right\" data-stat=\"slugging_perc\">.438</td><td class=\"right\" data-stat=\"onbase_plus_slugging\">.732</td><td class=\"right\" data-stat=\"pitches\">126</td><td class=\"right\" data-stat=\"strikes_total\">89</td><td class=\"right\" data-stat=\"wpa_bat\">0.134</td><td class=\"right\" data-stat=\"leverage_index_avg\"> 0.48</td><td class=\"right\" data-stat=\"wpa_bat_pos\">0.429</td><td class=\"right\" data-stat=\"wpa_bat_neg\">-0.294</td><td class=\"right\" data-stat=\"cwpa_bat\"> 0.07%</td><td class=\"right\" data-stat=\"cli_avg\"> 0.45</td><td class=\"right\" data-stat=\"re24_bat\"> 1.2</td><td class=\"right\" data-stat=\"PO\">27</td><td class=\"right\" data-stat=\"A\">7</td><td class=\"left iz\" data-stat=\"details\"></td></tr>\n",
       "</tfoot>\n",
       "</table>\n",
       "</div>\n",
       "<div class=\"footer no_hide_long\" id=\"tfooter_NewYorkYankeesbatting\">\n",
       "<div><div id=\"HRhome\"><strong>HR:</strong> Aaron Judge (1, off Logan Webb, 1st inn, 0 on, 1 out to Deep CF); Gleyber Torres (1, off Logan Webb, 4th inn, 1 on, 1 out to Deep RF).</div>\n",
       "<div id=\"TB\"><strong>TB:</strong> Aaron Judge 5; Gleyber Torres 4; DJ LeMahieu; Jose Trevino; Giancarlo Stanton; Anthony Rizzo; Josh Donaldson.</div>\n",
       "<div id=\"RBI\"><strong>RBI:</strong> Gleyber Torres 2 (2); Aaron Judge 2 (2); DJ LeMahieu (1).</div>\n",
       "<div id=\"RBI2out\"><strong>2-out RBI:</strong> Aaron Judge; DJ LeMahieu.</div>\n",
       "<div id=\"teamlobhome\"><strong>Team LOB:</strong> 5.</div><div id=\"teamrisphome\"><strong>With RISP:</strong> 3 for 9.</div></div>\n",
       "<div><strong>Fielding</strong>\n",
       "<div><strong>DP:</strong> 1. Anthony Volpe-DJ LeMahieu-Anthony Rizzo.</div>\n",
       "</div><div><strong>Baserunning</strong>\n",
       "<div id=\"SBhome\"><strong>SB:</strong> Anthony Volpe (1, 2nd base off Logan Webb/Roberto Pérez); Gleyber Torres (1, 2nd base off John Brebbia/Roberto Pérez).</div>\n",
       "</div></div>\n",
       "</div>"
      ]
     },
     "execution_count": 363,
     "metadata": {},
     "output_type": "execute_result"
    }
   ],
   "source": [
    "soupHome=BeautifulSoup(new,\"html.parser\")\n",
    "soupHome"
   ]
  },
  {
   "cell_type": "code",
   "execution_count": 364,
   "id": "7f0732ff",
   "metadata": {},
   "outputs": [
    {
     "data": {
      "text/plain": [
       "[<td class=\"right\" data-stat=\"AB\">32</td>,\n",
       " <td class=\"right\" data-stat=\"R\">5</td>,\n",
       " <td class=\"right\" data-stat=\"H\">8</td>,\n",
       " <td class=\"right\" data-stat=\"RBI\">5</td>,\n",
       " <td class=\"right\" data-stat=\"BB\">2</td>,\n",
       " <td class=\"right\" data-stat=\"SO\">16</td>,\n",
       " <td class=\"right\" data-stat=\"PA\">34</td>,\n",
       " <td class=\"right\" data-stat=\"batting_avg\">.250</td>,\n",
       " <td class=\"right\" data-stat=\"onbase_perc\">.294</td>,\n",
       " <td class=\"right\" data-stat=\"slugging_perc\">.438</td>,\n",
       " <td class=\"right\" data-stat=\"onbase_plus_slugging\">.732</td>,\n",
       " <td class=\"right\" data-stat=\"pitches\">126</td>,\n",
       " <td class=\"right\" data-stat=\"strikes_total\">89</td>,\n",
       " <td class=\"right\" data-stat=\"wpa_bat\">0.134</td>,\n",
       " <td class=\"right\" data-stat=\"leverage_index_avg\"> 0.48</td>,\n",
       " <td class=\"right\" data-stat=\"wpa_bat_pos\">0.429</td>,\n",
       " <td class=\"right\" data-stat=\"wpa_bat_neg\">-0.294</td>,\n",
       " <td class=\"right\" data-stat=\"cwpa_bat\"> 0.07%</td>,\n",
       " <td class=\"right\" data-stat=\"cli_avg\"> 0.45</td>,\n",
       " <td class=\"right\" data-stat=\"re24_bat\"> 1.2</td>,\n",
       " <td class=\"right\" data-stat=\"PO\">27</td>,\n",
       " <td class=\"right\" data-stat=\"A\">7</td>,\n",
       " <td class=\"left iz\" data-stat=\"details\"></td>]"
      ]
     },
     "execution_count": 364,
     "metadata": {},
     "output_type": "execute_result"
    }
   ],
   "source": [
    "soupHome.select('div')[0].select('table')[0].select('tfoot td')"
   ]
  },
  {
   "cell_type": "code",
   "execution_count": 374,
   "id": "276c6a4b",
   "metadata": {},
   "outputs": [],
   "source": [
    "h_score = int(soupHome.select('div')[0].select('table')[0].select('tfoot td')[1].get_text())\n",
    "h_at_bats = int(soupHome.select('div')[0].select('table')[0].select('tfoot td')[0].get_text())\n",
    "h_hits = int(soupHome.select('div')[0].select('table')[0].select('tfoot td')[2].get_text())"
   ]
  },
  {
   "cell_type": "code",
   "execution_count": 377,
   "id": "6e996c78",
   "metadata": {},
   "outputs": [
    {
     "data": {
      "text/plain": [
       "{'v_name': 'San Francisco Giants', 'h_name': 'New York Yankees'}"
      ]
     },
     "execution_count": 377,
     "metadata": {},
     "output_type": "execute_result"
    }
   ],
   "source": [
    "Game_Data = {\n",
    "    'v_name' : v_name, \n",
    "    'h_name' : h_name,\n",
    "}\n",
    "Game_Data"
   ]
  },
  {
   "cell_type": "code",
   "execution_count": 431,
   "id": "f3c13c01",
   "metadata": {},
   "outputs": [],
   "source": [
    "Data2023 = pd.DataFrame(columns=['date', 'v_name', 'h_name', 'winning_pitcher_name',\n",
    "                                 'losing_pitcher_name', 'v_score', 'v_at_bats',\n",
    "                                 'v_hits', 'h_score', 'h_at_bats', 'h_hits'])"
   ]
  },
  {
   "cell_type": "code",
   "execution_count": 500,
   "id": "bf082405",
   "metadata": {},
   "outputs": [],
   "source": [
    "def Get_Game(url, Data2023):\n",
    "    response = requests.get(url)\n",
    "    soup = BeautifulSoup(response.content, \"html.parser\")\n",
    "    \n",
    "    #date\n",
    "    date = re.search(r'\\d{8}', url).group()\n",
    "\n",
    "    #teams\n",
    "    v_name = soup.select('strong')[1].get_text().strip()\n",
    "    h_name = soup.select('strong')[2].get_text().strip()\n",
    "\n",
    "    #pitchers\n",
    "    tfoot = soup.select('tfoot')[0]\n",
    "    resultado = tfoot.find(\"td\").text.strip()\n",
    "    partes_resultado = resultado.split(\"•\")\n",
    "    #winner\n",
    "    winning_pit = partes_resultado[0].split(\":\")[1].strip()\n",
    "    winning_pit = winning_pit.replace('\\xa0', ' ')\n",
    "    winning_pitcher_name = winning_pit.split('(')[0].strip()\n",
    "    #looser\n",
    "    lossing_pit = partes_resultado[1].split(\":\")[1].strip()\n",
    "    lossing_pit = lossing_pit.replace('\\xa0', ' ')\n",
    "    losing_pitcher_name = lossing_pit.split('(')[0].strip()\n",
    "    \n",
    "    #Stats\n",
    "    new=str(soup.select('div')[0].select('div')[48]).replace('<!--','').replace('-->','')#.select('\\-\\-')\n",
    "    soupAway=BeautifulSoup(new,\"html.parser\")\n",
    "    v_score = int(soupAway.select('div')[0].select('table')[0].select('tfoot td')[1].get_text())\n",
    "    v_at_bats = int(soupAway.select('div')[0].select('table')[0].select('tfoot td')[0].get_text())\n",
    "    v_hits = int(soupAway.select('div')[0].select('table')[0].select('tfoot td')[2].get_text())\n",
    "\n",
    "    new=str(soup.select('div')[0].select('div')[52]).replace('<!--','').replace('-->','')#.select('\\-\\-')\n",
    "    soupHome=BeautifulSoup(new,\"html.parser\")\n",
    "    soupHome.select('div')[0].select('table')[0].select('tfoot td')\n",
    "    h_score = int(soupHome.select('div')[0].select('table')[0].select('tfoot td')[1].get_text())\n",
    "    h_at_bats = int(soupHome.select('div')[0].select('table')[0].select('tfoot td')[0].get_text())\n",
    "    h_hits = int(soupHome.select('div')[0].select('table')[0].select('tfoot td')[2].get_text())\n",
    "    \n",
    "    data = {'date': [date], 'v_name': [v_name], 'h_name': [h_name], 'winning_pitcher_name' : [winning_pitcher_name], \n",
    "            'losing_pitcher_name' : [losing_pitcher_name], 'v_score': [v_score], 'v_at_bats' : [v_at_bats], 'v_hits': [v_hits],\n",
    "            'h_score' : [h_score], 'h_at_bats' : [h_at_bats], 'h_hits' : [h_hits]\n",
    "           }\n",
    "    Data2023 = Data2023.append(pd.DataFrame(data), ignore_index=True)\n",
    "\n",
    "    return Data2023\n"
   ]
  },
  {
   "cell_type": "code",
   "execution_count": 453,
   "id": "b5979571",
   "metadata": {},
   "outputs": [
    {
     "name": "stderr",
     "output_type": "stream",
     "text": [
      "C:\\Users\\sanch\\AppData\\Local\\Temp\\ipykernel_11992\\723683626.py:43: FutureWarning: The frame.append method is deprecated and will be removed from pandas in a future version. Use pandas.concat instead.\n",
      "  Data2023 = Data2023.append(pd.DataFrame(data), ignore_index=True)\n"
     ]
    },
    {
     "data": {
      "text/html": [
       "<div>\n",
       "<style scoped>\n",
       "    .dataframe tbody tr th:only-of-type {\n",
       "        vertical-align: middle;\n",
       "    }\n",
       "\n",
       "    .dataframe tbody tr th {\n",
       "        vertical-align: top;\n",
       "    }\n",
       "\n",
       "    .dataframe thead th {\n",
       "        text-align: right;\n",
       "    }\n",
       "</style>\n",
       "<table border=\"1\" class=\"dataframe\">\n",
       "  <thead>\n",
       "    <tr style=\"text-align: right;\">\n",
       "      <th></th>\n",
       "      <th>date</th>\n",
       "      <th>v_name</th>\n",
       "      <th>h_name</th>\n",
       "      <th>winning_pitcher_name</th>\n",
       "      <th>losing_pitcher_name</th>\n",
       "      <th>v_score</th>\n",
       "      <th>v_at_bats</th>\n",
       "      <th>v_hits</th>\n",
       "      <th>h_score</th>\n",
       "      <th>h_at_bats</th>\n",
       "      <th>h_hits</th>\n",
       "    </tr>\n",
       "  </thead>\n",
       "  <tbody>\n",
       "    <tr>\n",
       "      <th>0</th>\n",
       "      <td>20230330</td>\n",
       "      <td>San Francisco Giants</td>\n",
       "      <td>New York Yankees</td>\n",
       "      <td>Gerrit Cole</td>\n",
       "      <td>Logan Webb</td>\n",
       "      <td>0</td>\n",
       "      <td>30</td>\n",
       "      <td>4</td>\n",
       "      <td>5</td>\n",
       "      <td>32</td>\n",
       "      <td>8</td>\n",
       "    </tr>\n",
       "    <tr>\n",
       "      <th>1</th>\n",
       "      <td>20230330</td>\n",
       "      <td>Atlanta Braves</td>\n",
       "      <td>Washington Nationals</td>\n",
       "      <td>Gerrit Cole</td>\n",
       "      <td>Logan Webb</td>\n",
       "      <td>7</td>\n",
       "      <td>40</td>\n",
       "      <td>12</td>\n",
       "      <td>2</td>\n",
       "      <td>33</td>\n",
       "      <td>8</td>\n",
       "    </tr>\n",
       "    <tr>\n",
       "      <th>2</th>\n",
       "      <td>20230330</td>\n",
       "      <td>Baltimore Orioles</td>\n",
       "      <td>Boston Red Sox</td>\n",
       "      <td>Gerrit Cole</td>\n",
       "      <td>Logan Webb</td>\n",
       "      <td>10</td>\n",
       "      <td>38</td>\n",
       "      <td>15</td>\n",
       "      <td>9</td>\n",
       "      <td>35</td>\n",
       "      <td>11</td>\n",
       "    </tr>\n",
       "    <tr>\n",
       "      <th>3</th>\n",
       "      <td>20230330</td>\n",
       "      <td>Milwaukee Brewers</td>\n",
       "      <td>Chicago Cubs</td>\n",
       "      <td>Gerrit Cole</td>\n",
       "      <td>Logan Webb</td>\n",
       "      <td>0</td>\n",
       "      <td>29</td>\n",
       "      <td>4</td>\n",
       "      <td>4</td>\n",
       "      <td>30</td>\n",
       "      <td>6</td>\n",
       "    </tr>\n",
       "    <tr>\n",
       "      <th>4</th>\n",
       "      <td>20230330</td>\n",
       "      <td>Detroit Tigers</td>\n",
       "      <td>Tampa Bay Rays</td>\n",
       "      <td>Gerrit Cole</td>\n",
       "      <td>Logan Webb</td>\n",
       "      <td>0</td>\n",
       "      <td>32</td>\n",
       "      <td>6</td>\n",
       "      <td>4</td>\n",
       "      <td>29</td>\n",
       "      <td>6</td>\n",
       "    </tr>\n",
       "    <tr>\n",
       "      <th>5</th>\n",
       "      <td>20230330</td>\n",
       "      <td>Philadelphia Phillies</td>\n",
       "      <td>Texas Rangers</td>\n",
       "      <td>Gerrit Cole</td>\n",
       "      <td>Logan Webb</td>\n",
       "      <td>7</td>\n",
       "      <td>39</td>\n",
       "      <td>12</td>\n",
       "      <td>11</td>\n",
       "      <td>32</td>\n",
       "      <td>10</td>\n",
       "    </tr>\n",
       "    <tr>\n",
       "      <th>6</th>\n",
       "      <td>20230330</td>\n",
       "      <td>Pittsburgh Pirates</td>\n",
       "      <td>Cincinnati Reds</td>\n",
       "      <td>Gerrit Cole</td>\n",
       "      <td>Logan Webb</td>\n",
       "      <td>5</td>\n",
       "      <td>30</td>\n",
       "      <td>6</td>\n",
       "      <td>4</td>\n",
       "      <td>33</td>\n",
       "      <td>7</td>\n",
       "    </tr>\n",
       "    <tr>\n",
       "      <th>7</th>\n",
       "      <td>20230330</td>\n",
       "      <td>Minnesota Twins</td>\n",
       "      <td>Kansas City Royals</td>\n",
       "      <td>Gerrit Cole</td>\n",
       "      <td>Logan Webb</td>\n",
       "      <td>2</td>\n",
       "      <td>37</td>\n",
       "      <td>11</td>\n",
       "      <td>0</td>\n",
       "      <td>27</td>\n",
       "      <td>2</td>\n",
       "    </tr>\n",
       "    <tr>\n",
       "      <th>8</th>\n",
       "      <td>20230330</td>\n",
       "      <td>New York Mets</td>\n",
       "      <td>Miami Marlins</td>\n",
       "      <td>Gerrit Cole</td>\n",
       "      <td>Logan Webb</td>\n",
       "      <td>5</td>\n",
       "      <td>32</td>\n",
       "      <td>8</td>\n",
       "      <td>3</td>\n",
       "      <td>30</td>\n",
       "      <td>5</td>\n",
       "    </tr>\n",
       "    <tr>\n",
       "      <th>9</th>\n",
       "      <td>20230330</td>\n",
       "      <td>Toronto Blue Jays</td>\n",
       "      <td>St. Louis Cardinals</td>\n",
       "      <td>Gerrit Cole</td>\n",
       "      <td>Logan Webb</td>\n",
       "      <td>10</td>\n",
       "      <td>43</td>\n",
       "      <td>19</td>\n",
       "      <td>9</td>\n",
       "      <td>41</td>\n",
       "      <td>15</td>\n",
       "    </tr>\n",
       "    <tr>\n",
       "      <th>10</th>\n",
       "      <td>20230330</td>\n",
       "      <td>Chicago White Sox</td>\n",
       "      <td>Houston Astros</td>\n",
       "      <td>Gerrit Cole</td>\n",
       "      <td>Logan Webb</td>\n",
       "      <td>3</td>\n",
       "      <td>38</td>\n",
       "      <td>11</td>\n",
       "      <td>2</td>\n",
       "      <td>30</td>\n",
       "      <td>4</td>\n",
       "    </tr>\n",
       "    <tr>\n",
       "      <th>11</th>\n",
       "      <td>20230330</td>\n",
       "      <td>Colorado Rockies</td>\n",
       "      <td>San Diego Padres</td>\n",
       "      <td>Gerrit Cole</td>\n",
       "      <td>Logan Webb</td>\n",
       "      <td>7</td>\n",
       "      <td>44</td>\n",
       "      <td>17</td>\n",
       "      <td>2</td>\n",
       "      <td>32</td>\n",
       "      <td>7</td>\n",
       "    </tr>\n",
       "    <tr>\n",
       "      <th>12</th>\n",
       "      <td>20230330</td>\n",
       "      <td>Los Angeles Angels</td>\n",
       "      <td>Oakland Athletics</td>\n",
       "      <td>Gerrit Cole</td>\n",
       "      <td>Logan Webb</td>\n",
       "      <td>1</td>\n",
       "      <td>31</td>\n",
       "      <td>5</td>\n",
       "      <td>2</td>\n",
       "      <td>29</td>\n",
       "      <td>6</td>\n",
       "    </tr>\n",
       "    <tr>\n",
       "      <th>13</th>\n",
       "      <td>20230330</td>\n",
       "      <td>Arizona Diamondbacks</td>\n",
       "      <td>Los Angeles Dodgers</td>\n",
       "      <td>Gerrit Cole</td>\n",
       "      <td>Logan Webb</td>\n",
       "      <td>2</td>\n",
       "      <td>28</td>\n",
       "      <td>4</td>\n",
       "      <td>8</td>\n",
       "      <td>34</td>\n",
       "      <td>12</td>\n",
       "    </tr>\n",
       "    <tr>\n",
       "      <th>14</th>\n",
       "      <td>20230330</td>\n",
       "      <td>Cleveland Guardians</td>\n",
       "      <td>Seattle Mariners</td>\n",
       "      <td>Gerrit Cole</td>\n",
       "      <td>Logan Webb</td>\n",
       "      <td>0</td>\n",
       "      <td>31</td>\n",
       "      <td>4</td>\n",
       "      <td>3</td>\n",
       "      <td>30</td>\n",
       "      <td>7</td>\n",
       "    </tr>\n",
       "    <tr>\n",
       "      <th>15</th>\n",
       "      <td>20230330</td>\n",
       "      <td>Atlanta Braves</td>\n",
       "      <td>Washington Nationals</td>\n",
       "      <td>Lucas Luetge</td>\n",
       "      <td>Patrick Corbin</td>\n",
       "      <td>7</td>\n",
       "      <td>40</td>\n",
       "      <td>12</td>\n",
       "      <td>2</td>\n",
       "      <td>33</td>\n",
       "      <td>8</td>\n",
       "    </tr>\n",
       "  </tbody>\n",
       "</table>\n",
       "</div>"
      ],
      "text/plain": [
       "        date                 v_name                h_name  \\\n",
       "0   20230330   San Francisco Giants      New York Yankees   \n",
       "1   20230330         Atlanta Braves  Washington Nationals   \n",
       "2   20230330      Baltimore Orioles        Boston Red Sox   \n",
       "3   20230330      Milwaukee Brewers          Chicago Cubs   \n",
       "4   20230330         Detroit Tigers        Tampa Bay Rays   \n",
       "5   20230330  Philadelphia Phillies         Texas Rangers   \n",
       "6   20230330     Pittsburgh Pirates       Cincinnati Reds   \n",
       "7   20230330        Minnesota Twins    Kansas City Royals   \n",
       "8   20230330          New York Mets         Miami Marlins   \n",
       "9   20230330      Toronto Blue Jays   St. Louis Cardinals   \n",
       "10  20230330      Chicago White Sox        Houston Astros   \n",
       "11  20230330       Colorado Rockies      San Diego Padres   \n",
       "12  20230330     Los Angeles Angels     Oakland Athletics   \n",
       "13  20230330   Arizona Diamondbacks   Los Angeles Dodgers   \n",
       "14  20230330    Cleveland Guardians      Seattle Mariners   \n",
       "15  20230330         Atlanta Braves  Washington Nationals   \n",
       "\n",
       "   winning_pitcher_name losing_pitcher_name v_score v_at_bats v_hits h_score  \\\n",
       "0           Gerrit Cole          Logan Webb       0        30      4       5   \n",
       "1           Gerrit Cole          Logan Webb       7        40     12       2   \n",
       "2           Gerrit Cole          Logan Webb      10        38     15       9   \n",
       "3           Gerrit Cole          Logan Webb       0        29      4       4   \n",
       "4           Gerrit Cole          Logan Webb       0        32      6       4   \n",
       "5           Gerrit Cole          Logan Webb       7        39     12      11   \n",
       "6           Gerrit Cole          Logan Webb       5        30      6       4   \n",
       "7           Gerrit Cole          Logan Webb       2        37     11       0   \n",
       "8           Gerrit Cole          Logan Webb       5        32      8       3   \n",
       "9           Gerrit Cole          Logan Webb      10        43     19       9   \n",
       "10          Gerrit Cole          Logan Webb       3        38     11       2   \n",
       "11          Gerrit Cole          Logan Webb       7        44     17       2   \n",
       "12          Gerrit Cole          Logan Webb       1        31      5       2   \n",
       "13          Gerrit Cole          Logan Webb       2        28      4       8   \n",
       "14          Gerrit Cole          Logan Webb       0        31      4       3   \n",
       "15         Lucas Luetge      Patrick Corbin       7        40     12       2   \n",
       "\n",
       "   h_at_bats h_hits  \n",
       "0         32      8  \n",
       "1         33      8  \n",
       "2         35     11  \n",
       "3         30      6  \n",
       "4         29      6  \n",
       "5         32     10  \n",
       "6         33      7  \n",
       "7         27      2  \n",
       "8         30      5  \n",
       "9         41     15  \n",
       "10        30      4  \n",
       "11        32      7  \n",
       "12        29      6  \n",
       "13        34     12  \n",
       "14        30      7  \n",
       "15        33      8  "
      ]
     },
     "execution_count": 453,
     "metadata": {},
     "output_type": "execute_result"
    }
   ],
   "source": [
    "Get_Game('https://www.baseball-reference.com//boxes/WAS/WAS202303300.shtml', Data2023)"
   ]
  },
  {
   "cell_type": "code",
   "execution_count": 503,
   "id": "44704466",
   "metadata": {},
   "outputs": [
    {
     "data": {
      "text/html": [
       "<div>\n",
       "<style scoped>\n",
       "    .dataframe tbody tr th:only-of-type {\n",
       "        vertical-align: middle;\n",
       "    }\n",
       "\n",
       "    .dataframe tbody tr th {\n",
       "        vertical-align: top;\n",
       "    }\n",
       "\n",
       "    .dataframe thead th {\n",
       "        text-align: right;\n",
       "    }\n",
       "</style>\n",
       "<table border=\"1\" class=\"dataframe\">\n",
       "  <thead>\n",
       "    <tr style=\"text-align: right;\">\n",
       "      <th></th>\n",
       "      <th>date</th>\n",
       "      <th>v_name</th>\n",
       "      <th>h_name</th>\n",
       "      <th>winning_pitcher_name</th>\n",
       "      <th>losing_pitcher_name</th>\n",
       "      <th>v_score</th>\n",
       "      <th>v_at_bats</th>\n",
       "      <th>v_hits</th>\n",
       "      <th>h_score</th>\n",
       "      <th>h_at_bats</th>\n",
       "      <th>h_hits</th>\n",
       "    </tr>\n",
       "  </thead>\n",
       "  <tbody>\n",
       "  </tbody>\n",
       "</table>\n",
       "</div>"
      ],
      "text/plain": [
       "Empty DataFrame\n",
       "Columns: [date, v_name, h_name, winning_pitcher_name, losing_pitcher_name, v_score, v_at_bats, v_hits, h_score, h_at_bats, h_hits]\n",
       "Index: []"
      ]
     },
     "execution_count": 503,
     "metadata": {},
     "output_type": "execute_result"
    }
   ],
   "source": [
    "Data2023 = pd.DataFrame(columns=['date', 'v_name', 'h_name', 'winning_pitcher_name',\n",
    "                                 'losing_pitcher_name', 'v_score', 'v_at_bats',\n",
    "                                 'v_hits', 'h_score', 'h_at_bats', 'h_hits'])\n",
    "Data2023"
   ]
  },
  {
   "cell_type": "code",
   "execution_count": 504,
   "id": "d0a37973",
   "metadata": {},
   "outputs": [],
   "source": [
    "for link in links:\n",
    "    url = \"https://www.baseball-reference.com\" + link\n",
    "    Data2023 = Get_Game(url, Data2023)\n",
    "    print(url)"
   ]
  },
  {
   "cell_type": "code",
   "execution_count": 505,
   "id": "23edfe62",
   "metadata": {},
   "outputs": [
    {
     "data": {
      "text/html": [
       "<div>\n",
       "<style scoped>\n",
       "    .dataframe tbody tr th:only-of-type {\n",
       "        vertical-align: middle;\n",
       "    }\n",
       "\n",
       "    .dataframe tbody tr th {\n",
       "        vertical-align: top;\n",
       "    }\n",
       "\n",
       "    .dataframe thead th {\n",
       "        text-align: right;\n",
       "    }\n",
       "</style>\n",
       "<table border=\"1\" class=\"dataframe\">\n",
       "  <thead>\n",
       "    <tr style=\"text-align: right;\">\n",
       "      <th></th>\n",
       "      <th>date</th>\n",
       "      <th>v_name</th>\n",
       "      <th>h_name</th>\n",
       "      <th>winning_pitcher_name</th>\n",
       "      <th>losing_pitcher_name</th>\n",
       "      <th>v_score</th>\n",
       "      <th>v_at_bats</th>\n",
       "      <th>v_hits</th>\n",
       "      <th>h_score</th>\n",
       "      <th>h_at_bats</th>\n",
       "      <th>h_hits</th>\n",
       "    </tr>\n",
       "  </thead>\n",
       "  <tbody>\n",
       "  </tbody>\n",
       "</table>\n",
       "</div>"
      ],
      "text/plain": [
       "Empty DataFrame\n",
       "Columns: [date, v_name, h_name, winning_pitcher_name, losing_pitcher_name, v_score, v_at_bats, v_hits, h_score, h_at_bats, h_hits]\n",
       "Index: []"
      ]
     },
     "execution_count": 505,
     "metadata": {},
     "output_type": "execute_result"
    }
   ],
   "source": [
    "Data2023"
   ]
  },
  {
   "cell_type": "code",
   "execution_count": 506,
   "id": "bef98935",
   "metadata": {},
   "outputs": [],
   "source": [
    "# URL de la página que quieres raspar\n",
    "url = \"https://www.baseball-reference.com/boxes/?year=2023&month=3&day=31\"\n",
    "\n",
    "# Realizar la solicitud GET a la página\n",
    "response = requests.get(url)\n",
    "\n",
    "soup = BeautifulSoup(response.content, \"html.parser\")\n",
    "\n",
    "enlaces = soup.select('table a')\n",
    "\n",
    "links = []\n",
    "for i in range(1,len(enlaces),3):\n",
    "    href = enlaces[i].get('href')\n",
    "    if href.startswith('/boxes'):\n",
    "        links.append(href)"
   ]
  },
  {
   "cell_type": "code",
   "execution_count": 507,
   "id": "87b48476",
   "metadata": {},
   "outputs": [
    {
     "ename": "IndexError",
     "evalue": "list index out of range",
     "output_type": "error",
     "traceback": [
      "\u001b[1;31m---------------------------------------------------------------------------\u001b[0m",
      "\u001b[1;31mIndexError\u001b[0m                                Traceback (most recent call last)",
      "Cell \u001b[1;32mIn[507], line 3\u001b[0m\n\u001b[0;32m      1\u001b[0m \u001b[38;5;28;01mfor\u001b[39;00m link \u001b[38;5;129;01min\u001b[39;00m links:\n\u001b[0;32m      2\u001b[0m     url \u001b[38;5;241m=\u001b[39m \u001b[38;5;124m\"\u001b[39m\u001b[38;5;124mhttps://www.baseball-reference.com\u001b[39m\u001b[38;5;124m\"\u001b[39m \u001b[38;5;241m+\u001b[39m link\n\u001b[1;32m----> 3\u001b[0m     Data2023 \u001b[38;5;241m=\u001b[39m \u001b[43mGet_Game\u001b[49m\u001b[43m(\u001b[49m\u001b[43murl\u001b[49m\u001b[43m,\u001b[49m\u001b[43m \u001b[49m\u001b[43mData2023\u001b[49m\u001b[43m)\u001b[49m\n\u001b[0;32m      4\u001b[0m     \u001b[38;5;28mprint\u001b[39m(url)\n",
      "Cell \u001b[1;32mIn[500], line 10\u001b[0m, in \u001b[0;36mGet_Game\u001b[1;34m(url, Data2023)\u001b[0m\n\u001b[0;32m      8\u001b[0m \u001b[38;5;66;03m#teams\u001b[39;00m\n\u001b[0;32m      9\u001b[0m v_name \u001b[38;5;241m=\u001b[39m soup\u001b[38;5;241m.\u001b[39mselect(\u001b[38;5;124m'\u001b[39m\u001b[38;5;124mstrong\u001b[39m\u001b[38;5;124m'\u001b[39m)[\u001b[38;5;241m1\u001b[39m]\u001b[38;5;241m.\u001b[39mget_text()\u001b[38;5;241m.\u001b[39mstrip()\n\u001b[1;32m---> 10\u001b[0m h_name \u001b[38;5;241m=\u001b[39m \u001b[43msoup\u001b[49m\u001b[38;5;241;43m.\u001b[39;49m\u001b[43mselect\u001b[49m\u001b[43m(\u001b[49m\u001b[38;5;124;43m'\u001b[39;49m\u001b[38;5;124;43mstrong\u001b[39;49m\u001b[38;5;124;43m'\u001b[39;49m\u001b[43m)\u001b[49m\u001b[43m[\u001b[49m\u001b[38;5;241;43m2\u001b[39;49m\u001b[43m]\u001b[49m\u001b[38;5;241m.\u001b[39mget_text()\u001b[38;5;241m.\u001b[39mstrip()\n\u001b[0;32m     12\u001b[0m \u001b[38;5;66;03m#pitchers\u001b[39;00m\n\u001b[0;32m     13\u001b[0m tfoot \u001b[38;5;241m=\u001b[39m soup\u001b[38;5;241m.\u001b[39mselect(\u001b[38;5;124m'\u001b[39m\u001b[38;5;124mtfoot\u001b[39m\u001b[38;5;124m'\u001b[39m)[\u001b[38;5;241m0\u001b[39m]\n",
      "\u001b[1;31mIndexError\u001b[0m: list index out of range"
     ]
    }
   ],
   "source": [
    "for link in links:\n",
    "    url = \"https://www.baseball-reference.com\" + link\n",
    "    Data2023 = Get_Game(url, Data2023)\n",
    "    print(url)"
   ]
  },
  {
   "cell_type": "code",
   "execution_count": 463,
   "id": "69f0bf77",
   "metadata": {},
   "outputs": [
    {
     "data": {
      "text/html": [
       "<div>\n",
       "<style scoped>\n",
       "    .dataframe tbody tr th:only-of-type {\n",
       "        vertical-align: middle;\n",
       "    }\n",
       "\n",
       "    .dataframe tbody tr th {\n",
       "        vertical-align: top;\n",
       "    }\n",
       "\n",
       "    .dataframe thead th {\n",
       "        text-align: right;\n",
       "    }\n",
       "</style>\n",
       "<table border=\"1\" class=\"dataframe\">\n",
       "  <thead>\n",
       "    <tr style=\"text-align: right;\">\n",
       "      <th></th>\n",
       "      <th>date</th>\n",
       "      <th>v_name</th>\n",
       "      <th>h_name</th>\n",
       "      <th>winning_pitcher_name</th>\n",
       "      <th>losing_pitcher_name</th>\n",
       "      <th>v_score</th>\n",
       "      <th>v_at_bats</th>\n",
       "      <th>v_hits</th>\n",
       "      <th>h_score</th>\n",
       "      <th>h_at_bats</th>\n",
       "      <th>h_hits</th>\n",
       "    </tr>\n",
       "  </thead>\n",
       "  <tbody>\n",
       "    <tr>\n",
       "      <th>0</th>\n",
       "      <td>20230330</td>\n",
       "      <td>San Francisco Giants</td>\n",
       "      <td>New York Yankees</td>\n",
       "      <td>Gerrit Cole</td>\n",
       "      <td>Logan Webb</td>\n",
       "      <td>0</td>\n",
       "      <td>30</td>\n",
       "      <td>4</td>\n",
       "      <td>5</td>\n",
       "      <td>32</td>\n",
       "      <td>8</td>\n",
       "    </tr>\n",
       "    <tr>\n",
       "      <th>1</th>\n",
       "      <td>20230330</td>\n",
       "      <td>Atlanta Braves</td>\n",
       "      <td>Washington Nationals</td>\n",
       "      <td>Lucas Luetge</td>\n",
       "      <td>Patrick Corbin</td>\n",
       "      <td>7</td>\n",
       "      <td>40</td>\n",
       "      <td>12</td>\n",
       "      <td>2</td>\n",
       "      <td>33</td>\n",
       "      <td>8</td>\n",
       "    </tr>\n",
       "    <tr>\n",
       "      <th>2</th>\n",
       "      <td>20230330</td>\n",
       "      <td>Baltimore Orioles</td>\n",
       "      <td>Boston Red Sox</td>\n",
       "      <td>Kyle Gibson</td>\n",
       "      <td>Corey Kluber</td>\n",
       "      <td>10</td>\n",
       "      <td>38</td>\n",
       "      <td>15</td>\n",
       "      <td>9</td>\n",
       "      <td>35</td>\n",
       "      <td>11</td>\n",
       "    </tr>\n",
       "    <tr>\n",
       "      <th>3</th>\n",
       "      <td>20230330</td>\n",
       "      <td>Milwaukee Brewers</td>\n",
       "      <td>Chicago Cubs</td>\n",
       "      <td>Marcus Stroman</td>\n",
       "      <td>Corbin Burnes</td>\n",
       "      <td>0</td>\n",
       "      <td>29</td>\n",
       "      <td>4</td>\n",
       "      <td>4</td>\n",
       "      <td>30</td>\n",
       "      <td>6</td>\n",
       "    </tr>\n",
       "    <tr>\n",
       "      <th>4</th>\n",
       "      <td>20230330</td>\n",
       "      <td>Detroit Tigers</td>\n",
       "      <td>Tampa Bay Rays</td>\n",
       "      <td>Shane McClanahan</td>\n",
       "      <td>Eduardo Rodriguez</td>\n",
       "      <td>0</td>\n",
       "      <td>32</td>\n",
       "      <td>6</td>\n",
       "      <td>4</td>\n",
       "      <td>29</td>\n",
       "      <td>6</td>\n",
       "    </tr>\n",
       "    <tr>\n",
       "      <th>5</th>\n",
       "      <td>20230330</td>\n",
       "      <td>Philadelphia Phillies</td>\n",
       "      <td>Texas Rangers</td>\n",
       "      <td>Cole Ragans</td>\n",
       "      <td>Gregory Soto</td>\n",
       "      <td>7</td>\n",
       "      <td>39</td>\n",
       "      <td>12</td>\n",
       "      <td>11</td>\n",
       "      <td>32</td>\n",
       "      <td>10</td>\n",
       "    </tr>\n",
       "    <tr>\n",
       "      <th>6</th>\n",
       "      <td>20230330</td>\n",
       "      <td>Pittsburgh Pirates</td>\n",
       "      <td>Cincinnati Reds</td>\n",
       "      <td>Rob Zastryzny</td>\n",
       "      <td>Buck Farmer</td>\n",
       "      <td>5</td>\n",
       "      <td>30</td>\n",
       "      <td>6</td>\n",
       "      <td>4</td>\n",
       "      <td>33</td>\n",
       "      <td>7</td>\n",
       "    </tr>\n",
       "    <tr>\n",
       "      <th>7</th>\n",
       "      <td>20230330</td>\n",
       "      <td>Minnesota Twins</td>\n",
       "      <td>Kansas City Royals</td>\n",
       "      <td>Pablo López</td>\n",
       "      <td>Zack Greinke</td>\n",
       "      <td>2</td>\n",
       "      <td>37</td>\n",
       "      <td>11</td>\n",
       "      <td>0</td>\n",
       "      <td>27</td>\n",
       "      <td>2</td>\n",
       "    </tr>\n",
       "    <tr>\n",
       "      <th>8</th>\n",
       "      <td>20230330</td>\n",
       "      <td>New York Mets</td>\n",
       "      <td>Miami Marlins</td>\n",
       "      <td>Max Scherzer</td>\n",
       "      <td>Tanner Scott</td>\n",
       "      <td>5</td>\n",
       "      <td>32</td>\n",
       "      <td>8</td>\n",
       "      <td>3</td>\n",
       "      <td>30</td>\n",
       "      <td>5</td>\n",
       "    </tr>\n",
       "    <tr>\n",
       "      <th>9</th>\n",
       "      <td>20230330</td>\n",
       "      <td>Toronto Blue Jays</td>\n",
       "      <td>St. Louis Cardinals</td>\n",
       "      <td>Yimi García</td>\n",
       "      <td>Ryan Helsley</td>\n",
       "      <td>10</td>\n",
       "      <td>43</td>\n",
       "      <td>19</td>\n",
       "      <td>9</td>\n",
       "      <td>41</td>\n",
       "      <td>15</td>\n",
       "    </tr>\n",
       "    <tr>\n",
       "      <th>10</th>\n",
       "      <td>20230330</td>\n",
       "      <td>Chicago White Sox</td>\n",
       "      <td>Houston Astros</td>\n",
       "      <td>Kendall Graveman</td>\n",
       "      <td>Ryan Pressly</td>\n",
       "      <td>3</td>\n",
       "      <td>38</td>\n",
       "      <td>11</td>\n",
       "      <td>2</td>\n",
       "      <td>30</td>\n",
       "      <td>4</td>\n",
       "    </tr>\n",
       "    <tr>\n",
       "      <th>11</th>\n",
       "      <td>20230330</td>\n",
       "      <td>Colorado Rockies</td>\n",
       "      <td>San Diego Padres</td>\n",
       "      <td>Germán Márquez</td>\n",
       "      <td>Blake Snell</td>\n",
       "      <td>7</td>\n",
       "      <td>44</td>\n",
       "      <td>17</td>\n",
       "      <td>2</td>\n",
       "      <td>32</td>\n",
       "      <td>7</td>\n",
       "    </tr>\n",
       "    <tr>\n",
       "      <th>12</th>\n",
       "      <td>20230330</td>\n",
       "      <td>Los Angeles Angels</td>\n",
       "      <td>Oakland Athletics</td>\n",
       "      <td>Trevor May</td>\n",
       "      <td>Aaron Loup</td>\n",
       "      <td>1</td>\n",
       "      <td>31</td>\n",
       "      <td>5</td>\n",
       "      <td>2</td>\n",
       "      <td>29</td>\n",
       "      <td>6</td>\n",
       "    </tr>\n",
       "    <tr>\n",
       "      <th>13</th>\n",
       "      <td>20230330</td>\n",
       "      <td>Arizona Diamondbacks</td>\n",
       "      <td>Los Angeles Dodgers</td>\n",
       "      <td>Julio Urías</td>\n",
       "      <td>Zac Gallen</td>\n",
       "      <td>2</td>\n",
       "      <td>28</td>\n",
       "      <td>4</td>\n",
       "      <td>8</td>\n",
       "      <td>34</td>\n",
       "      <td>12</td>\n",
       "    </tr>\n",
       "    <tr>\n",
       "      <th>14</th>\n",
       "      <td>20230330</td>\n",
       "      <td>Cleveland Guardians</td>\n",
       "      <td>Seattle Mariners</td>\n",
       "      <td>Paul Sewald</td>\n",
       "      <td>James Karinchak</td>\n",
       "      <td>0</td>\n",
       "      <td>31</td>\n",
       "      <td>4</td>\n",
       "      <td>3</td>\n",
       "      <td>30</td>\n",
       "      <td>7</td>\n",
       "    </tr>\n",
       "    <tr>\n",
       "      <th>15</th>\n",
       "      <td>20230331</td>\n",
       "      <td>New York Mets</td>\n",
       "      <td>Miami Marlins</td>\n",
       "      <td>Jesús Luzardo</td>\n",
       "      <td>David Peterson</td>\n",
       "      <td>1</td>\n",
       "      <td>29</td>\n",
       "      <td>4</td>\n",
       "      <td>2</td>\n",
       "      <td>32</td>\n",
       "      <td>10</td>\n",
       "    </tr>\n",
       "    <tr>\n",
       "      <th>16</th>\n",
       "      <td>20230331</td>\n",
       "      <td>Chicago White Sox</td>\n",
       "      <td>Houston Astros</td>\n",
       "      <td>Seth Martinez</td>\n",
       "      <td>Kendall Graveman</td>\n",
       "      <td>3</td>\n",
       "      <td>37</td>\n",
       "      <td>11</td>\n",
       "      <td>6</td>\n",
       "      <td>28</td>\n",
       "      <td>7</td>\n",
       "    </tr>\n",
       "    <tr>\n",
       "      <th>17</th>\n",
       "      <td>20230331</td>\n",
       "      <td>Colorado Rockies</td>\n",
       "      <td>San Diego Padres</td>\n",
       "      <td>Kyle Freeland</td>\n",
       "      <td>Nick Martinez</td>\n",
       "      <td>4</td>\n",
       "      <td>35</td>\n",
       "      <td>9</td>\n",
       "      <td>1</td>\n",
       "      <td>29</td>\n",
       "      <td>5</td>\n",
       "    </tr>\n",
       "    <tr>\n",
       "      <th>18</th>\n",
       "      <td>20230331</td>\n",
       "      <td>Arizona Diamondbacks</td>\n",
       "      <td>Los Angeles Dodgers</td>\n",
       "      <td>Drey Jameson</td>\n",
       "      <td>Alex Vesia</td>\n",
       "      <td>2</td>\n",
       "      <td>34</td>\n",
       "      <td>7</td>\n",
       "      <td>1</td>\n",
       "      <td>31</td>\n",
       "      <td>5</td>\n",
       "    </tr>\n",
       "    <tr>\n",
       "      <th>19</th>\n",
       "      <td>20230331</td>\n",
       "      <td>Cleveland Guardians</td>\n",
       "      <td>Seattle Mariners</td>\n",
       "      <td>Nick Sandlin</td>\n",
       "      <td>Robbie Ray</td>\n",
       "      <td>9</td>\n",
       "      <td>39</td>\n",
       "      <td>13</td>\n",
       "      <td>4</td>\n",
       "      <td>34</td>\n",
       "      <td>7</td>\n",
       "    </tr>\n",
       "  </tbody>\n",
       "</table>\n",
       "</div>"
      ],
      "text/plain": [
       "        date                 v_name                h_name  \\\n",
       "0   20230330   San Francisco Giants      New York Yankees   \n",
       "1   20230330         Atlanta Braves  Washington Nationals   \n",
       "2   20230330      Baltimore Orioles        Boston Red Sox   \n",
       "3   20230330      Milwaukee Brewers          Chicago Cubs   \n",
       "4   20230330         Detroit Tigers        Tampa Bay Rays   \n",
       "5   20230330  Philadelphia Phillies         Texas Rangers   \n",
       "6   20230330     Pittsburgh Pirates       Cincinnati Reds   \n",
       "7   20230330        Minnesota Twins    Kansas City Royals   \n",
       "8   20230330          New York Mets         Miami Marlins   \n",
       "9   20230330      Toronto Blue Jays   St. Louis Cardinals   \n",
       "10  20230330      Chicago White Sox        Houston Astros   \n",
       "11  20230330       Colorado Rockies      San Diego Padres   \n",
       "12  20230330     Los Angeles Angels     Oakland Athletics   \n",
       "13  20230330   Arizona Diamondbacks   Los Angeles Dodgers   \n",
       "14  20230330    Cleveland Guardians      Seattle Mariners   \n",
       "15  20230331          New York Mets         Miami Marlins   \n",
       "16  20230331      Chicago White Sox        Houston Astros   \n",
       "17  20230331       Colorado Rockies      San Diego Padres   \n",
       "18  20230331   Arizona Diamondbacks   Los Angeles Dodgers   \n",
       "19  20230331    Cleveland Guardians      Seattle Mariners   \n",
       "\n",
       "   winning_pitcher_name losing_pitcher_name v_score v_at_bats v_hits h_score  \\\n",
       "0           Gerrit Cole          Logan Webb       0        30      4       5   \n",
       "1          Lucas Luetge      Patrick Corbin       7        40     12       2   \n",
       "2           Kyle Gibson        Corey Kluber      10        38     15       9   \n",
       "3        Marcus Stroman       Corbin Burnes       0        29      4       4   \n",
       "4      Shane McClanahan   Eduardo Rodriguez       0        32      6       4   \n",
       "5           Cole Ragans        Gregory Soto       7        39     12      11   \n",
       "6         Rob Zastryzny         Buck Farmer       5        30      6       4   \n",
       "7           Pablo López        Zack Greinke       2        37     11       0   \n",
       "8          Max Scherzer        Tanner Scott       5        32      8       3   \n",
       "9           Yimi García        Ryan Helsley      10        43     19       9   \n",
       "10     Kendall Graveman        Ryan Pressly       3        38     11       2   \n",
       "11       Germán Márquez         Blake Snell       7        44     17       2   \n",
       "12           Trevor May          Aaron Loup       1        31      5       2   \n",
       "13          Julio Urías          Zac Gallen       2        28      4       8   \n",
       "14          Paul Sewald     James Karinchak       0        31      4       3   \n",
       "15        Jesús Luzardo      David Peterson       1        29      4       2   \n",
       "16        Seth Martinez    Kendall Graveman       3        37     11       6   \n",
       "17        Kyle Freeland       Nick Martinez       4        35      9       1   \n",
       "18         Drey Jameson          Alex Vesia       2        34      7       1   \n",
       "19         Nick Sandlin          Robbie Ray       9        39     13       4   \n",
       "\n",
       "   h_at_bats h_hits  \n",
       "0         32      8  \n",
       "1         33      8  \n",
       "2         35     11  \n",
       "3         30      6  \n",
       "4         29      6  \n",
       "5         32     10  \n",
       "6         33      7  \n",
       "7         27      2  \n",
       "8         30      5  \n",
       "9         41     15  \n",
       "10        30      4  \n",
       "11        32      7  \n",
       "12        29      6  \n",
       "13        34     12  \n",
       "14        30      7  \n",
       "15        32     10  \n",
       "16        28      7  \n",
       "17        29      5  \n",
       "18        31      5  \n",
       "19        34      7  "
      ]
     },
     "execution_count": 463,
     "metadata": {},
     "output_type": "execute_result"
    }
   ],
   "source": [
    "Data2023"
   ]
  },
  {
   "cell_type": "code",
   "execution_count": 468,
   "id": "88562e0f",
   "metadata": {},
   "outputs": [],
   "source": [
    "import time"
   ]
  },
  {
   "cell_type": "code",
   "execution_count": 476,
   "id": "3b7ba4b1",
   "metadata": {},
   "outputs": [
    {
     "name": "stdout",
     "output_type": "stream",
     "text": [
      "https://www.baseball-reference.com/boxes/?year=2023&month=4&day=1\n",
      "https://www.baseball-reference.com/boxes/?year=2023&month=4&day=2\n",
      "https://www.baseball-reference.com/boxes/?year=2023&month=4&day=3\n",
      "https://www.baseball-reference.com/boxes/?year=2023&month=4&day=4\n",
      "https://www.baseball-reference.com/boxes/?year=2023&month=4&day=5\n",
      "https://www.baseball-reference.com/boxes/?year=2023&month=4&day=6\n",
      "https://www.baseball-reference.com/boxes/?year=2023&month=4&day=7\n",
      "https://www.baseball-reference.com/boxes/?year=2023&month=4&day=8\n",
      "https://www.baseball-reference.com/boxes/?year=2023&month=4&day=9\n",
      "https://www.baseball-reference.com/boxes/?year=2023&month=4&day=10\n",
      "https://www.baseball-reference.com/boxes/?year=2023&month=4&day=11\n",
      "https://www.baseball-reference.com/boxes/?year=2023&month=4&day=12\n",
      "https://www.baseball-reference.com/boxes/?year=2023&month=4&day=13\n",
      "https://www.baseball-reference.com/boxes/?year=2023&month=4&day=14\n",
      "https://www.baseball-reference.com/boxes/?year=2023&month=4&day=15\n",
      "https://www.baseball-reference.com/boxes/?year=2023&month=4&day=16\n",
      "https://www.baseball-reference.com/boxes/?year=2023&month=4&day=17\n",
      "https://www.baseball-reference.com/boxes/?year=2023&month=4&day=18\n",
      "https://www.baseball-reference.com/boxes/?year=2023&month=4&day=19\n",
      "https://www.baseball-reference.com/boxes/?year=2023&month=4&day=20\n",
      "https://www.baseball-reference.com/boxes/?year=2023&month=4&day=21\n",
      "https://www.baseball-reference.com/boxes/?year=2023&month=4&day=22\n",
      "https://www.baseball-reference.com/boxes/?year=2023&month=4&day=23\n",
      "https://www.baseball-reference.com/boxes/?year=2023&month=4&day=24\n",
      "https://www.baseball-reference.com/boxes/?year=2023&month=4&day=25\n",
      "https://www.baseball-reference.com/boxes/?year=2023&month=4&day=26\n",
      "https://www.baseball-reference.com/boxes/?year=2023&month=4&day=27\n",
      "https://www.baseball-reference.com/boxes/?year=2023&month=4&day=28\n",
      "https://www.baseball-reference.com/boxes/?year=2023&month=4&day=29\n",
      "https://www.baseball-reference.com/boxes/?year=2023&month=4&day=30\n"
     ]
    }
   ],
   "source": [
    "#Mes 4\n",
    "links4 = []\n",
    "for i in range(1,31):\n",
    "    # URL de la página que quieres raspar\n",
    "    url = \"https://www.baseball-reference.com/boxes/?year=2023&month=4&day=\"+str(i)\n",
    "    print(url)\n",
    "    # Realizar la solicitud GET a la página\n",
    "    response = requests.get(url)\n",
    "    soup = BeautifulSoup(response.content, \"html.parser\")\n",
    "    time.sleep(.2)\n",
    "    enlaces = soup.select('table a')\n",
    "\n",
    "    links = []\n",
    "    for i in range(1,len(enlaces),3):\n",
    "        href = enlaces[i].get('href')\n",
    "        if href.startswith('/boxes'):\n",
    "            links4.append(href)\n",
    "            time.sleep(.1)\n",
    "    #links4.append(links)"
   ]
  },
  {
   "cell_type": "code",
   "execution_count": 477,
   "id": "99a860ee",
   "metadata": {},
   "outputs": [
    {
     "data": {
      "text/plain": [
       "['/boxes/HOU/HOU202304010.shtml',\n",
       " '/boxes/SLN/SLN202304010.shtml',\n",
       " '/boxes/CHN/CHN202304010.shtml',\n",
       " '/boxes/NYA/NYA202304010.shtml',\n",
       " '/boxes/TEX/TEX202304010.shtml',\n",
       " '/boxes/WAS/WAS202304010.shtml',\n",
       " '/boxes/OAK/OAK202304010.shtml',\n",
       " '/boxes/BOS/BOS202304010.shtml',\n",
       " '/boxes/CIN/CIN202304010.shtml',\n",
       " '/boxes/KCA/KCA202304010.shtml',\n",
       " '/boxes/MIA/MIA202304010.shtml',\n",
       " '/boxes/TBA/TBA202304010.shtml',\n",
       " '/boxes/SDN/SDN202304010.shtml',\n",
       " '/boxes/LAN/LAN202304010.shtml',\n",
       " '/boxes/SEA/SEA202304010.shtml',\n",
       " '/boxes/TBA/TBA202304020.shtml',\n",
       " '/boxes/BOS/BOS202304020.shtml',\n",
       " '/boxes/NYA/NYA202304020.shtml',\n",
       " '/boxes/WAS/WAS202304020.shtml',\n",
       " '/boxes/CIN/CIN202304020.shtml',\n",
       " '/boxes/MIA/MIA202304020.shtml',\n",
       " '/boxes/HOU/HOU202304020.shtml',\n",
       " '/boxes/KCA/KCA202304020.shtml',\n",
       " '/boxes/SLN/SLN202304020.shtml',\n",
       " '/boxes/CHN/CHN202304020.shtml',\n",
       " '/boxes/OAK/OAK202304020.shtml',\n",
       " '/boxes/LAN/LAN202304020.shtml',\n",
       " '/boxes/SDN/SDN202304020.shtml',\n",
       " '/boxes/SEA/SEA202304020.shtml',\n",
       " '/boxes/TEX/TEX202304020.shtml',\n",
       " '/boxes/MIL/MIL202304030.shtml',\n",
       " '/boxes/CHA/CHA202304030.shtml',\n",
       " '/boxes/CIN/CIN202304030.shtml',\n",
       " '/boxes/MIA/MIA202304030.shtml',\n",
       " '/boxes/NYA/NYA202304030.shtml',\n",
       " '/boxes/WAS/WAS202304030.shtml',\n",
       " '/boxes/BOS/BOS202304030.shtml',\n",
       " '/boxes/KCA/KCA202304030.shtml',\n",
       " '/boxes/SLN/SLN202304030.shtml',\n",
       " '/boxes/TEX/TEX202304030.shtml',\n",
       " '/boxes/HOU/HOU202304030.shtml',\n",
       " '/boxes/OAK/OAK202304030.shtml',\n",
       " '/boxes/SDN/SDN202304030.shtml',\n",
       " '/boxes/SEA/SEA202304030.shtml',\n",
       " '/boxes/LAN/LAN202304030.shtml',\n",
       " '/boxes/SDN/SDN202304040.shtml',\n",
       " '/boxes/CIN/CIN202304040.shtml',\n",
       " '/boxes/MIA/MIA202304040.shtml',\n",
       " '/boxes/NYA/NYA202304040.shtml',\n",
       " '/boxes/WAS/WAS202304040.shtml',\n",
       " '/boxes/BOS/BOS202304040.shtml',\n",
       " '/boxes/KCA/KCA202304040.shtml',\n",
       " '/boxes/MIL/MIL202304040.shtml',\n",
       " '/boxes/SLN/SLN202304040.shtml',\n",
       " '/boxes/TEX/TEX202304040.shtml',\n",
       " '/boxes/HOU/HOU202304040.shtml',\n",
       " '/boxes/OAK/OAK202304040.shtml',\n",
       " '/boxes/SEA/SEA202304040.shtml',\n",
       " '/boxes/LAN/LAN202304040.shtml',\n",
       " '/boxes/NYA/NYA202304050.shtml',\n",
       " '/boxes/WAS/WAS202304050.shtml',\n",
       " '/boxes/MIA/MIA202304050.shtml',\n",
       " '/boxes/SLN/SLN202304050.shtml',\n",
       " '/boxes/BOS/BOS202304050.shtml',\n",
       " '/boxes/MIL/MIL202304050.shtml',\n",
       " '/boxes/TEX/TEX202304050.shtml',\n",
       " '/boxes/CHA/CHA202304050.shtml',\n",
       " '/boxes/HOU/HOU202304050.shtml',\n",
       " '/boxes/OAK/OAK202304050.shtml',\n",
       " '/boxes/SEA/SEA202304050.shtml',\n",
       " '/boxes/KCA/KCA202304050.shtml',\n",
       " '/boxes/DET/DET202304060.shtml',\n",
       " '/boxes/CHA/CHA202304060.shtml',\n",
       " '/boxes/KCA/KCA202304060.shtml',\n",
       " '/boxes/COL/COL202304060.shtml',\n",
       " '/boxes/ATL/ATL202304060.shtml',\n",
       " '/boxes/ARI/ARI202304060.shtml',\n",
       " '/boxes/NYN/NYN202304070.shtml',\n",
       " '/boxes/CHN/CHN202304070.shtml',\n",
       " '/boxes/BAL/BAL202304070.shtml',\n",
       " '/boxes/PHI/PHI202304070.shtml',\n",
       " '/boxes/CLE/CLE202304070.shtml',\n",
       " '/boxes/MIN/MIN202304070.shtml',\n",
       " '/boxes/PIT/PIT202304070.shtml',\n",
       " '/boxes/SFN/SFN202304070.shtml',\n",
       " '/boxes/TBA/TBA202304070.shtml',\n",
       " '/boxes/ATL/ATL202304070.shtml',\n",
       " '/boxes/MIL/MIL202304070.shtml',\n",
       " '/boxes/COL/COL202304070.shtml',\n",
       " '/boxes/ANA/ANA202304070.shtml',\n",
       " '/boxes/ARI/ARI202304070.shtml',\n",
       " '/boxes/MIN/MIN202304080.shtml',\n",
       " '/boxes/CHN/CHN202304080.shtml',\n",
       " '/boxes/PHI/PHI202304080.shtml',\n",
       " '/boxes/SFN/SFN202304080.shtml',\n",
       " '/boxes/DET/DET202304080.shtml',\n",
       " '/boxes/NYN/NYN202304080.shtml',\n",
       " '/boxes/TBA/TBA202304080.shtml',\n",
       " '/boxes/CLE/CLE202304080.shtml',\n",
       " '/boxes/PIT/PIT202304080.shtml',\n",
       " '/boxes/BAL/BAL202304080.shtml',\n",
       " '/boxes/MIL/MIL202304080.shtml',\n",
       " '/boxes/ATL/ATL202304080.shtml',\n",
       " '/boxes/ARI/ARI202304080.shtml',\n",
       " '/boxes/COL/COL202304080.shtml',\n",
       " '/boxes/ANA/ANA202304080.shtml',\n",
       " '/boxes/PHI/PHI202304090.shtml',\n",
       " '/boxes/DET/DET202304090.shtml',\n",
       " '/boxes/TBA/TBA202304090.shtml',\n",
       " '/boxes/BAL/BAL202304090.shtml',\n",
       " '/boxes/PIT/PIT202304090.shtml',\n",
       " '/boxes/CLE/CLE202304090.shtml',\n",
       " '/boxes/NYN/NYN202304090.shtml',\n",
       " '/boxes/MIL/MIL202304090.shtml',\n",
       " '/boxes/MIN/MIN202304090.shtml',\n",
       " '/boxes/CHN/CHN202304090.shtml',\n",
       " '/boxes/COL/COL202304090.shtml',\n",
       " '/boxes/SFN/SFN202304090.shtml',\n",
       " '/boxes/ANA/ANA202304090.shtml',\n",
       " '/boxes/ARI/ARI202304090.shtml',\n",
       " '/boxes/ATL/ATL202304090.shtml',\n",
       " '/boxes/MIN/MIN202304100.shtml',\n",
       " '/boxes/CLE/CLE202304100.shtml',\n",
       " '/boxes/BAL/BAL202304100.shtml',\n",
       " '/boxes/PIT/PIT202304100.shtml',\n",
       " '/boxes/PHI/PHI202304100.shtml',\n",
       " '/boxes/TBA/TBA202304100.shtml',\n",
       " '/boxes/NYN/NYN202304100.shtml',\n",
       " '/boxes/ATL/ATL202304100.shtml',\n",
       " '/boxes/CHN/CHN202304100.shtml',\n",
       " '/boxes/TEX/TEX202304100.shtml',\n",
       " '/boxes/COL/COL202304100.shtml',\n",
       " '/boxes/ANA/ANA202304100.shtml',\n",
       " '/boxes/ARI/ARI202304100.shtml',\n",
       " '/boxes/SFN/SFN202304100.shtml',\n",
       " '/boxes/CLE/CLE202304110.shtml',\n",
       " '/boxes/BAL/BAL202304110.shtml',\n",
       " '/boxes/PIT/PIT202304110.shtml',\n",
       " '/boxes/PHI/PHI202304110.shtml',\n",
       " '/boxes/TBA/TBA202304110.shtml',\n",
       " '/boxes/TOR/TOR202304110.shtml',\n",
       " '/boxes/NYN/NYN202304110.shtml',\n",
       " '/boxes/ATL/ATL202304110.shtml',\n",
       " '/boxes/CHN/CHN202304110.shtml',\n",
       " '/boxes/MIN/MIN202304110.shtml',\n",
       " '/boxes/TEX/TEX202304110.shtml',\n",
       " '/boxes/COL/COL202304110.shtml',\n",
       " '/boxes/ANA/ANA202304110.shtml',\n",
       " '/boxes/ARI/ARI202304110.shtml',\n",
       " '/boxes/SFN/SFN202304110.shtml',\n",
       " '/boxes/PIT/PIT202304120.shtml',\n",
       " '/boxes/CLE/CLE202304120.shtml',\n",
       " '/boxes/MIN/MIN202304120.shtml',\n",
       " '/boxes/NYN/NYN202304120.shtml',\n",
       " '/boxes/CHN/CHN202304120.shtml',\n",
       " '/boxes/COL/COL202304120.shtml',\n",
       " '/boxes/ARI/ARI202304120.shtml',\n",
       " '/boxes/PHI/PHI202304120.shtml',\n",
       " '/boxes/ANA/ANA202304120.shtml',\n",
       " '/boxes/BAL/BAL202304120.shtml',\n",
       " '/boxes/TBA/TBA202304120.shtml',\n",
       " '/boxes/TOR/TOR202304120.shtml',\n",
       " '/boxes/ATL/ATL202304120.shtml',\n",
       " '/boxes/TEX/TEX202304120.shtml',\n",
       " '/boxes/SFN/SFN202304120.shtml',\n",
       " '/boxes/BAL/BAL202304130.shtml',\n",
       " '/boxes/TBA/TBA202304130.shtml',\n",
       " '/boxes/CIN/CIN202304130.shtml',\n",
       " '/boxes/NYA/NYA202304130.shtml',\n",
       " '/boxes/TOR/TOR202304130.shtml',\n",
       " '/boxes/SLN/SLN202304130.shtml',\n",
       " '/boxes/SDN/SDN202304130.shtml',\n",
       " '/boxes/CIN/CIN202304140.shtml',\n",
       " '/boxes/DET/DET202304140.shtml',\n",
       " '/boxes/MIA/MIA202304140.shtml',\n",
       " '/boxes/NYA/NYA202304140.shtml',\n",
       " '/boxes/WAS/WAS202304140.shtml',\n",
       " '/boxes/TOR/TOR202304140.shtml',\n",
       " '/boxes/BOS/BOS202304140.shtml',\n",
       " '/boxes/CHA/CHA202304140.shtml',\n",
       " '/boxes/HOU/HOU202304140.shtml',\n",
       " '/boxes/KCA/KCA202304140.shtml',\n",
       " '/boxes/SLN/SLN202304140.shtml',\n",
       " '/boxes/OAK/OAK202304140.shtml',\n",
       " '/boxes/SDN/SDN202304140.shtml',\n",
       " '/boxes/LAN/LAN202304140.shtml',\n",
       " '/boxes/SEA/SEA202304140.shtml',\n",
       " '/boxes/NYA/NYA202304150.shtml',\n",
       " '/boxes/DET/DET202304150.shtml',\n",
       " '/boxes/CHA/CHA202304150.shtml',\n",
       " '/boxes/SLN/SLN202304150.shtml',\n",
       " '/boxes/TOR/TOR202304150.shtml',\n",
       " '/boxes/SDN/SDN202304150.shtml',\n",
       " '/boxes/WAS/WAS202304150.shtml',\n",
       " '/boxes/OAK/OAK202304150.shtml',\n",
       " '/boxes/BOS/BOS202304150.shtml',\n",
       " '/boxes/CIN/CIN202304150.shtml',\n",
       " '/boxes/KCA/KCA202304150.shtml',\n",
       " '/boxes/MIA/MIA202304150.shtml',\n",
       " '/boxes/HOU/HOU202304150.shtml',\n",
       " '/boxes/LAN/LAN202304150.shtml',\n",
       " '/boxes/SEA/SEA202304150.shtml',\n",
       " '/boxes/BOS/BOS202304160.shtml',\n",
       " '/boxes/NYA/NYA202304160.shtml',\n",
       " '/boxes/WAS/WAS202304160.shtml',\n",
       " '/boxes/TOR/TOR202304160.shtml',\n",
       " '/boxes/CIN/CIN202304160.shtml',\n",
       " '/boxes/MIA/MIA202304160.shtml',\n",
       " '/boxes/CHA/CHA202304160.shtml',\n",
       " '/boxes/KCA/KCA202304160.shtml',\n",
       " '/boxes/SLN/SLN202304160.shtml',\n",
       " '/boxes/OAK/OAK202304160.shtml',\n",
       " '/boxes/LAN/LAN202304160.shtml',\n",
       " '/boxes/SDN/SDN202304160.shtml',\n",
       " '/boxes/SEA/SEA202304160.shtml',\n",
       " '/boxes/HOU/HOU202304160.shtml',\n",
       " '/boxes/BOS/BOS202304170.shtml',\n",
       " '/boxes/CIN/CIN202304170.shtml',\n",
       " '/boxes/MIA/MIA202304170.shtml',\n",
       " '/boxes/KCA/KCA202304170.shtml',\n",
       " '/boxes/SLN/SLN202304170.shtml',\n",
       " '/boxes/HOU/HOU202304170.shtml',\n",
       " '/boxes/COL/COL202304170.shtml',\n",
       " '/boxes/OAK/OAK202304170.shtml',\n",
       " '/boxes/SDN/SDN202304170.shtml',\n",
       " '/boxes/SEA/SEA202304170.shtml',\n",
       " '/boxes/LAN/LAN202304170.shtml',\n",
       " '/boxes/CHA/CHA202304182.shtml',\n",
       " '/boxes/DET/DET202304182.shtml',\n",
       " '/boxes/DET/DET202304181.shtml',\n",
       " '/boxes/CHA/CHA202304181.shtml',\n",
       " '/boxes/CIN/CIN202304180.shtml',\n",
       " '/boxes/MIA/MIA202304180.shtml',\n",
       " '/boxes/NYA/NYA202304180.shtml',\n",
       " '/boxes/WAS/WAS202304180.shtml',\n",
       " '/boxes/BOS/BOS202304180.shtml',\n",
       " '/boxes/KCA/KCA202304180.shtml',\n",
       " '/boxes/SLN/SLN202304180.shtml',\n",
       " '/boxes/HOU/HOU202304180.shtml',\n",
       " '/boxes/COL/COL202304180.shtml',\n",
       " '/boxes/OAK/OAK202304180.shtml',\n",
       " '/boxes/SDN/SDN202304180.shtml',\n",
       " '/boxes/SEA/SEA202304180.shtml',\n",
       " '/boxes/LAN/LAN202304180.shtml',\n",
       " '/boxes/CIN/CIN202304190.shtml',\n",
       " '/boxes/DET/DET202304190.shtml',\n",
       " '/boxes/MIA/MIA202304190.shtml',\n",
       " '/boxes/SLN/SLN202304190.shtml',\n",
       " '/boxes/CHA/CHA202304190.shtml',\n",
       " '/boxes/KCA/KCA202304190.shtml',\n",
       " '/boxes/COL/COL202304190.shtml',\n",
       " '/boxes/LAN/LAN202304190.shtml',\n",
       " '/boxes/OAK/OAK202304190.shtml',\n",
       " '/boxes/SDN/SDN202304190.shtml',\n",
       " '/boxes/SEA/SEA202304190.shtml',\n",
       " '/boxes/NYA/NYA202304190.shtml',\n",
       " '/boxes/WAS/WAS202304190.shtml',\n",
       " '/boxes/BOS/BOS202304190.shtml',\n",
       " '/boxes/HOU/HOU202304190.shtml',\n",
       " '/boxes/BOS/BOS202304200.shtml',\n",
       " '/boxes/NYA/NYA202304200.shtml',\n",
       " '/boxes/PIT/PIT202304200.shtml',\n",
       " '/boxes/PHI/PHI202304200.shtml',\n",
       " '/boxes/CHN/CHN202304200.shtml',\n",
       " '/boxes/ARI/ARI202304200.shtml',\n",
       " '/boxes/SFN/SFN202304200.shtml',\n",
       " '/boxes/CHN/CHN202304210.shtml',\n",
       " '/boxes/PIT/PIT202304210.shtml',\n",
       " '/boxes/TBA/TBA202304210.shtml',\n",
       " '/boxes/BAL/BAL202304210.shtml',\n",
       " '/boxes/NYA/NYA202304210.shtml',\n",
       " '/boxes/PHI/PHI202304210.shtml',\n",
       " '/boxes/ATL/ATL202304210.shtml',\n",
       " '/boxes/TEX/TEX202304210.shtml',\n",
       " '/boxes/MIL/MIL202304210.shtml',\n",
       " '/boxes/MIN/MIN202304210.shtml',\n",
       " '/boxes/ANA/ANA202304210.shtml',\n",
       " '/boxes/ARI/ARI202304210.shtml',\n",
       " '/boxes/SEA/SEA202304210.shtml',\n",
       " '/boxes/SFN/SFN202304210.shtml',\n",
       " '/boxes/CLE/CLE202304222.shtml',\n",
       " '/boxes/NYA/NYA202304220.shtml',\n",
       " '/boxes/MIN/MIN202304220.shtml',\n",
       " '/boxes/CHN/CHN202304220.shtml',\n",
       " '/boxes/PHI/PHI202304220.shtml',\n",
       " '/boxes/CLE/CLE202304221.shtml',\n",
       " '/boxes/SFN/SFN202304220.shtml',\n",
       " '/boxes/TBA/TBA202304220.shtml',\n",
       " '/boxes/PIT/PIT202304220.shtml',\n",
       " '/boxes/BAL/BAL202304220.shtml',\n",
       " '/boxes/TEX/TEX202304220.shtml',\n",
       " '/boxes/MIL/MIL202304220.shtml',\n",
       " '/boxes/ATL/ATL202304220.shtml',\n",
       " '/boxes/ARI/ARI202304220.shtml',\n",
       " '/boxes/ANA/ANA202304220.shtml',\n",
       " '/boxes/SEA/SEA202304220.shtml',\n",
       " '/boxes/PHI/PHI202304230.shtml',\n",
       " '/boxes/ATL/ATL202304230.shtml',\n",
       " '/boxes/BAL/BAL202304230.shtml',\n",
       " '/boxes/NYA/NYA202304230.shtml',\n",
       " '/boxes/PIT/PIT202304230.shtml',\n",
       " '/boxes/CLE/CLE202304230.shtml',\n",
       " '/boxes/TBA/TBA202304230.shtml',\n",
       " '/boxes/MIL/MIL202304230.shtml',\n",
       " '/boxes/MIN/MIN202304230.shtml',\n",
       " '/boxes/CHN/CHN202304230.shtml',\n",
       " '/boxes/TEX/TEX202304230.shtml',\n",
       " '/boxes/ANA/ANA202304230.shtml',\n",
       " '/boxes/ARI/ARI202304230.shtml',\n",
       " '/boxes/SEA/SEA202304230.shtml',\n",
       " '/boxes/SFN/SFN202304230.shtml',\n",
       " '/boxes/CLE/CLE202304240.shtml',\n",
       " '/boxes/BAL/BAL202304240.shtml',\n",
       " '/boxes/CIN/CIN202304240.shtml',\n",
       " '/boxes/TBA/TBA202304240.shtml',\n",
       " '/boxes/TOR/TOR202304240.shtml',\n",
       " '/boxes/ATL/ATL202304240.shtml',\n",
       " '/boxes/MIL/MIL202304240.shtml',\n",
       " '/boxes/MIN/MIN202304240.shtml',\n",
       " '/boxes/ANA/ANA202304240.shtml',\n",
       " '/boxes/ARI/ARI202304240.shtml',\n",
       " '/boxes/SFN/SFN202304240.shtml',\n",
       " '/boxes/CLE/CLE202304250.shtml',\n",
       " '/boxes/BAL/BAL202304250.shtml',\n",
       " '/boxes/PIT/PIT202304250.shtml',\n",
       " '/boxes/CIN/CIN202304250.shtml',\n",
       " '/boxes/PHI/PHI202304250.shtml',\n",
       " '/boxes/TBA/TBA202304250.shtml',\n",
       " '/boxes/TOR/TOR202304250.shtml',\n",
       " '/boxes/NYN/NYN202304250.shtml',\n",
       " '/boxes/ATL/ATL202304250.shtml',\n",
       " '/boxes/CHN/CHN202304250.shtml',\n",
       " '/boxes/MIL/MIL202304250.shtml',\n",
       " '/boxes/MIN/MIN202304250.shtml',\n",
       " '/boxes/ANA/ANA202304250.shtml',\n",
       " '/boxes/ARI/ARI202304250.shtml',\n",
       " '/boxes/SFN/SFN202304250.shtml',\n",
       " '/boxes/CIN/CIN202304260.shtml',\n",
       " '/boxes/BAL/BAL202304260.shtml',\n",
       " '/boxes/TOR/TOR202304260.shtml',\n",
       " '/boxes/CLE/CLE202304260.shtml',\n",
       " '/boxes/MIN/MIN202304260.shtml',\n",
       " '/boxes/MIL/MIL202304260.shtml',\n",
       " '/boxes/ARI/ARI202304260.shtml',\n",
       " '/boxes/PIT/PIT202304260.shtml',\n",
       " '/boxes/PHI/PHI202304260.shtml',\n",
       " '/boxes/TBA/TBA202304260.shtml',\n",
       " '/boxes/NYN/NYN202304260.shtml',\n",
       " '/boxes/ATL/ATL202304260.shtml',\n",
       " '/boxes/CHN/CHN202304260.shtml',\n",
       " '/boxes/ANA/ANA202304260.shtml',\n",
       " '/boxes/SFN/SFN202304260.shtml',\n",
       " '/boxes/ATL/ATL202304270.shtml',\n",
       " '/boxes/PIT/PIT202304270.shtml',\n",
       " '/boxes/PHI/PHI202304270.shtml',\n",
       " '/boxes/CHN/CHN202304270.shtml',\n",
       " '/boxes/SFN/SFN202304270.shtml',\n",
       " '/boxes/ANA/ANA202304270.shtml',\n",
       " '/boxes/DET/DET202304270.shtml',\n",
       " '/boxes/CHA/CHA202304270.shtml',\n",
       " '/boxes/NYN/NYN202304270.shtml',\n",
       " '/boxes/MIN/MIN202304270.shtml',\n",
       " '/boxes/TEX/TEX202304270.shtml',\n",
       " '/boxes/MIN/MIN202304280.shtml',\n",
       " '/boxes/MIA/MIA202304280.shtml',\n",
       " '/boxes/TOR/TOR202304280.shtml',\n",
       " '/boxes/BOS/BOS202304280.shtml',\n",
       " '/boxes/CHA/CHA202304280.shtml',\n",
       " '/boxes/NYN/NYN202304280.shtml',\n",
       " '/boxes/TEX/TEX202304280.shtml',\n",
       " '/boxes/HOU/HOU202304280.shtml',\n",
       " '/boxes/MIL/MIL202304280.shtml',\n",
       " '/boxes/COL/COL202304280.shtml',\n",
       " '/boxes/OAK/OAK202304280.shtml',\n",
       " '/boxes/LAN/LAN202304280.shtml',\n",
       " '/boxes/DET/DET202304291.shtml',\n",
       " '/boxes/WAS/WAS202304291.shtml',\n",
       " '/boxes/MIN/MIN202304290.shtml',\n",
       " '/boxes/TOR/TOR202304290.shtml',\n",
       " '/boxes/MIA/MIA202304290.shtml',\n",
       " '/boxes/OAK/OAK202304290.shtml',\n",
       " '/boxes/BOS/BOS202304290.shtml',\n",
       " '/boxes/DET/DET202304292.shtml',\n",
       " '/boxes/HOU/HOU202304290.shtml',\n",
       " '/boxes/SDN/SDN202304290.shtml',\n",
       " '/boxes/WAS/WAS202304292.shtml',\n",
       " '/boxes/TEX/TEX202304290.shtml',\n",
       " '/boxes/CHA/CHA202304290.shtml',\n",
       " '/boxes/MIL/MIL202304290.shtml',\n",
       " '/boxes/COL/COL202304290.shtml',\n",
       " '/boxes/LAN/LAN202304290.shtml',\n",
       " '/boxes/MIA/MIA202304300.shtml',\n",
       " '/boxes/BOS/BOS202304300.shtml',\n",
       " '/boxes/WAS/WAS202304300.shtml',\n",
       " '/boxes/TOR/TOR202304300.shtml',\n",
       " '/boxes/DET/DET202304300.shtml',\n",
       " '/boxes/CHA/CHA202304300.shtml',\n",
       " '/boxes/MIL/MIL202304300.shtml',\n",
       " '/boxes/MIN/MIN202304300.shtml',\n",
       " '/boxes/TEX/TEX202304300.shtml',\n",
       " '/boxes/COL/COL202304300.shtml',\n",
       " '/boxes/SDN/SDN202304300.shtml',\n",
       " '/boxes/OAK/OAK202304300.shtml',\n",
       " '/boxes/LAN/LAN202304300.shtml',\n",
       " '/boxes/HOU/HOU202304300.shtml']"
      ]
     },
     "execution_count": 477,
     "metadata": {},
     "output_type": "execute_result"
    }
   ],
   "source": [
    "links4"
   ]
  },
  {
   "cell_type": "code",
   "execution_count": 496,
   "id": "f2e48f45",
   "metadata": {},
   "outputs": [
    {
     "data": {
      "text/plain": [
       "405"
      ]
     },
     "execution_count": 496,
     "metadata": {},
     "output_type": "execute_result"
    }
   ],
   "source": [
    "len(links4)"
   ]
  },
  {
   "cell_type": "code",
   "execution_count": 508,
   "id": "13ef800e",
   "metadata": {},
   "outputs": [
    {
     "name": "stdout",
     "output_type": "stream",
     "text": [
      "<Response [200]>\n",
      "Error: Índice fuera de rango. Se salta el enlace: https://www.baseball-reference.com/boxes/HOU/HOU202304010.shtml\n",
      "<Response [200]>\n"
     ]
    },
    {
     "name": "stderr",
     "output_type": "stream",
     "text": [
      "C:\\Users\\sanch\\AppData\\Local\\Temp\\ipykernel_11992\\723683626.py:43: FutureWarning: The frame.append method is deprecated and will be removed from pandas in a future version. Use pandas.concat instead.\n",
      "  Data2023 = Data2023.append(pd.DataFrame(data), ignore_index=True)\n"
     ]
    },
    {
     "name": "stdout",
     "output_type": "stream",
     "text": [
      "https://www.baseball-reference.com/boxes/SLN/SLN202304010.shtml\n",
      "<Response [200]>\n"
     ]
    },
    {
     "name": "stderr",
     "output_type": "stream",
     "text": [
      "C:\\Users\\sanch\\AppData\\Local\\Temp\\ipykernel_11992\\723683626.py:43: FutureWarning: The frame.append method is deprecated and will be removed from pandas in a future version. Use pandas.concat instead.\n",
      "  Data2023 = Data2023.append(pd.DataFrame(data), ignore_index=True)\n"
     ]
    },
    {
     "name": "stdout",
     "output_type": "stream",
     "text": [
      "https://www.baseball-reference.com/boxes/CHN/CHN202304010.shtml\n",
      "<Response [200]>\n",
      "Error: Índice fuera de rango. Se salta el enlace: https://www.baseball-reference.com/boxes/NYA/NYA202304010.shtml\n",
      "<Response [200]>\n"
     ]
    },
    {
     "name": "stderr",
     "output_type": "stream",
     "text": [
      "C:\\Users\\sanch\\AppData\\Local\\Temp\\ipykernel_11992\\723683626.py:43: FutureWarning: The frame.append method is deprecated and will be removed from pandas in a future version. Use pandas.concat instead.\n",
      "  Data2023 = Data2023.append(pd.DataFrame(data), ignore_index=True)\n"
     ]
    },
    {
     "name": "stdout",
     "output_type": "stream",
     "text": [
      "https://www.baseball-reference.com/boxes/TEX/TEX202304010.shtml\n",
      "<Response [200]>\n"
     ]
    },
    {
     "name": "stderr",
     "output_type": "stream",
     "text": [
      "C:\\Users\\sanch\\AppData\\Local\\Temp\\ipykernel_11992\\723683626.py:43: FutureWarning: The frame.append method is deprecated and will be removed from pandas in a future version. Use pandas.concat instead.\n",
      "  Data2023 = Data2023.append(pd.DataFrame(data), ignore_index=True)\n"
     ]
    },
    {
     "name": "stdout",
     "output_type": "stream",
     "text": [
      "https://www.baseball-reference.com/boxes/WAS/WAS202304010.shtml\n",
      "<Response [200]>\n"
     ]
    },
    {
     "name": "stderr",
     "output_type": "stream",
     "text": [
      "C:\\Users\\sanch\\AppData\\Local\\Temp\\ipykernel_11992\\723683626.py:43: FutureWarning: The frame.append method is deprecated and will be removed from pandas in a future version. Use pandas.concat instead.\n",
      "  Data2023 = Data2023.append(pd.DataFrame(data), ignore_index=True)\n"
     ]
    },
    {
     "name": "stdout",
     "output_type": "stream",
     "text": [
      "https://www.baseball-reference.com/boxes/OAK/OAK202304010.shtml\n",
      "<Response [200]>\n"
     ]
    },
    {
     "name": "stderr",
     "output_type": "stream",
     "text": [
      "C:\\Users\\sanch\\AppData\\Local\\Temp\\ipykernel_11992\\723683626.py:43: FutureWarning: The frame.append method is deprecated and will be removed from pandas in a future version. Use pandas.concat instead.\n",
      "  Data2023 = Data2023.append(pd.DataFrame(data), ignore_index=True)\n"
     ]
    },
    {
     "name": "stdout",
     "output_type": "stream",
     "text": [
      "https://www.baseball-reference.com/boxes/BOS/BOS202304010.shtml\n",
      "<Response [200]>\n"
     ]
    },
    {
     "name": "stderr",
     "output_type": "stream",
     "text": [
      "C:\\Users\\sanch\\AppData\\Local\\Temp\\ipykernel_11992\\723683626.py:43: FutureWarning: The frame.append method is deprecated and will be removed from pandas in a future version. Use pandas.concat instead.\n",
      "  Data2023 = Data2023.append(pd.DataFrame(data), ignore_index=True)\n"
     ]
    },
    {
     "name": "stdout",
     "output_type": "stream",
     "text": [
      "https://www.baseball-reference.com/boxes/CIN/CIN202304010.shtml\n",
      "<Response [200]>\n"
     ]
    },
    {
     "name": "stderr",
     "output_type": "stream",
     "text": [
      "C:\\Users\\sanch\\AppData\\Local\\Temp\\ipykernel_11992\\723683626.py:43: FutureWarning: The frame.append method is deprecated and will be removed from pandas in a future version. Use pandas.concat instead.\n",
      "  Data2023 = Data2023.append(pd.DataFrame(data), ignore_index=True)\n"
     ]
    },
    {
     "name": "stdout",
     "output_type": "stream",
     "text": [
      "https://www.baseball-reference.com/boxes/KCA/KCA202304010.shtml\n",
      "<Response [200]>\n",
      "Error: Índice fuera de rango. Se salta el enlace: https://www.baseball-reference.com/boxes/MIA/MIA202304010.shtml\n",
      "<Response [200]>\n"
     ]
    },
    {
     "name": "stderr",
     "output_type": "stream",
     "text": [
      "C:\\Users\\sanch\\AppData\\Local\\Temp\\ipykernel_11992\\723683626.py:43: FutureWarning: The frame.append method is deprecated and will be removed from pandas in a future version. Use pandas.concat instead.\n",
      "  Data2023 = Data2023.append(pd.DataFrame(data), ignore_index=True)\n"
     ]
    },
    {
     "name": "stdout",
     "output_type": "stream",
     "text": [
      "https://www.baseball-reference.com/boxes/TBA/TBA202304010.shtml\n",
      "<Response [200]>\n"
     ]
    },
    {
     "name": "stderr",
     "output_type": "stream",
     "text": [
      "C:\\Users\\sanch\\AppData\\Local\\Temp\\ipykernel_11992\\723683626.py:43: FutureWarning: The frame.append method is deprecated and will be removed from pandas in a future version. Use pandas.concat instead.\n",
      "  Data2023 = Data2023.append(pd.DataFrame(data), ignore_index=True)\n"
     ]
    },
    {
     "name": "stdout",
     "output_type": "stream",
     "text": [
      "https://www.baseball-reference.com/boxes/SDN/SDN202304010.shtml\n",
      "<Response [200]>\n",
      "Error: Índice fuera de rango. Se salta el enlace: https://www.baseball-reference.com/boxes/LAN/LAN202304010.shtml\n",
      "<Response [200]>\n"
     ]
    },
    {
     "name": "stderr",
     "output_type": "stream",
     "text": [
      "C:\\Users\\sanch\\AppData\\Local\\Temp\\ipykernel_11992\\723683626.py:43: FutureWarning: The frame.append method is deprecated and will be removed from pandas in a future version. Use pandas.concat instead.\n",
      "  Data2023 = Data2023.append(pd.DataFrame(data), ignore_index=True)\n"
     ]
    },
    {
     "name": "stdout",
     "output_type": "stream",
     "text": [
      "https://www.baseball-reference.com/boxes/SEA/SEA202304010.shtml\n",
      "<Response [200]>\n",
      "Error: Índice fuera de rango. Se salta el enlace: https://www.baseball-reference.com/boxes/TBA/TBA202304020.shtml\n",
      "<Response [200]>\n",
      "Error: Índice fuera de rango. Se salta el enlace: https://www.baseball-reference.com/boxes/BOS/BOS202304020.shtml\n",
      "<Response [200]>\n"
     ]
    },
    {
     "name": "stderr",
     "output_type": "stream",
     "text": [
      "C:\\Users\\sanch\\AppData\\Local\\Temp\\ipykernel_11992\\723683626.py:43: FutureWarning: The frame.append method is deprecated and will be removed from pandas in a future version. Use pandas.concat instead.\n",
      "  Data2023 = Data2023.append(pd.DataFrame(data), ignore_index=True)\n"
     ]
    },
    {
     "name": "stdout",
     "output_type": "stream",
     "text": [
      "https://www.baseball-reference.com/boxes/NYA/NYA202304020.shtml\n",
      "<Response [200]>\n",
      "Error: Índice fuera de rango. Se salta el enlace: https://www.baseball-reference.com/boxes/WAS/WAS202304020.shtml\n",
      "<Response [200]>\n",
      "Error: Índice fuera de rango. Se salta el enlace: https://www.baseball-reference.com/boxes/CIN/CIN202304020.shtml\n",
      "<Response [200]>\n",
      "Error: Índice fuera de rango. Se salta el enlace: https://www.baseball-reference.com/boxes/MIA/MIA202304020.shtml\n",
      "<Response [200]>\n",
      "Error: Índice fuera de rango. Se salta el enlace: https://www.baseball-reference.com/boxes/HOU/HOU202304020.shtml\n",
      "<Response [200]>\n"
     ]
    },
    {
     "name": "stderr",
     "output_type": "stream",
     "text": [
      "C:\\Users\\sanch\\AppData\\Local\\Temp\\ipykernel_11992\\723683626.py:43: FutureWarning: The frame.append method is deprecated and will be removed from pandas in a future version. Use pandas.concat instead.\n",
      "  Data2023 = Data2023.append(pd.DataFrame(data), ignore_index=True)\n"
     ]
    },
    {
     "name": "stdout",
     "output_type": "stream",
     "text": [
      "https://www.baseball-reference.com/boxes/KCA/KCA202304020.shtml\n",
      "<Response [200]>\n",
      "Error: Índice fuera de rango. Se salta el enlace: https://www.baseball-reference.com/boxes/SLN/SLN202304020.shtml\n",
      "<Response [200]>\n",
      "Error: Índice fuera de rango. Se salta el enlace: https://www.baseball-reference.com/boxes/CHN/CHN202304020.shtml\n",
      "<Response [200]>\n",
      "Error: Índice fuera de rango. Se salta el enlace: https://www.baseball-reference.com/boxes/OAK/OAK202304020.shtml\n",
      "<Response [200]>\n"
     ]
    },
    {
     "name": "stderr",
     "output_type": "stream",
     "text": [
      "C:\\Users\\sanch\\AppData\\Local\\Temp\\ipykernel_11992\\723683626.py:43: FutureWarning: The frame.append method is deprecated and will be removed from pandas in a future version. Use pandas.concat instead.\n",
      "  Data2023 = Data2023.append(pd.DataFrame(data), ignore_index=True)\n"
     ]
    },
    {
     "name": "stdout",
     "output_type": "stream",
     "text": [
      "https://www.baseball-reference.com/boxes/LAN/LAN202304020.shtml\n",
      "<Response [200]>\n"
     ]
    },
    {
     "name": "stderr",
     "output_type": "stream",
     "text": [
      "C:\\Users\\sanch\\AppData\\Local\\Temp\\ipykernel_11992\\723683626.py:43: FutureWarning: The frame.append method is deprecated and will be removed from pandas in a future version. Use pandas.concat instead.\n",
      "  Data2023 = Data2023.append(pd.DataFrame(data), ignore_index=True)\n"
     ]
    },
    {
     "name": "stdout",
     "output_type": "stream",
     "text": [
      "https://www.baseball-reference.com/boxes/SDN/SDN202304020.shtml\n",
      "<Response [200]>\n"
     ]
    },
    {
     "name": "stderr",
     "output_type": "stream",
     "text": [
      "C:\\Users\\sanch\\AppData\\Local\\Temp\\ipykernel_11992\\723683626.py:43: FutureWarning: The frame.append method is deprecated and will be removed from pandas in a future version. Use pandas.concat instead.\n",
      "  Data2023 = Data2023.append(pd.DataFrame(data), ignore_index=True)\n"
     ]
    },
    {
     "name": "stdout",
     "output_type": "stream",
     "text": [
      "https://www.baseball-reference.com/boxes/SEA/SEA202304020.shtml\n",
      "<Response [200]>\n",
      "Error: Índice fuera de rango. Se salta el enlace: https://www.baseball-reference.com/boxes/TEX/TEX202304020.shtml\n",
      "<Response [200]>\n",
      "Error: Índice fuera de rango. Se salta el enlace: https://www.baseball-reference.com/boxes/MIL/MIL202304030.shtml\n",
      "<Response [200]>\n",
      "Error: Índice fuera de rango. Se salta el enlace: https://www.baseball-reference.com/boxes/CHA/CHA202304030.shtml\n",
      "<Response [200]>\n",
      "Error: Índice fuera de rango. Se salta el enlace: https://www.baseball-reference.com/boxes/CIN/CIN202304030.shtml\n",
      "<Response [200]>\n",
      "Error: Índice fuera de rango. Se salta el enlace: https://www.baseball-reference.com/boxes/MIA/MIA202304030.shtml\n",
      "<Response [200]>\n",
      "Error: Índice fuera de rango. Se salta el enlace: https://www.baseball-reference.com/boxes/NYA/NYA202304030.shtml\n",
      "<Response [200]>\n"
     ]
    },
    {
     "name": "stderr",
     "output_type": "stream",
     "text": [
      "C:\\Users\\sanch\\AppData\\Local\\Temp\\ipykernel_11992\\723683626.py:43: FutureWarning: The frame.append method is deprecated and will be removed from pandas in a future version. Use pandas.concat instead.\n",
      "  Data2023 = Data2023.append(pd.DataFrame(data), ignore_index=True)\n"
     ]
    },
    {
     "name": "stdout",
     "output_type": "stream",
     "text": [
      "https://www.baseball-reference.com/boxes/WAS/WAS202304030.shtml\n",
      "<Response [200]>\n"
     ]
    },
    {
     "name": "stderr",
     "output_type": "stream",
     "text": [
      "C:\\Users\\sanch\\AppData\\Local\\Temp\\ipykernel_11992\\723683626.py:43: FutureWarning: The frame.append method is deprecated and will be removed from pandas in a future version. Use pandas.concat instead.\n",
      "  Data2023 = Data2023.append(pd.DataFrame(data), ignore_index=True)\n"
     ]
    },
    {
     "name": "stdout",
     "output_type": "stream",
     "text": [
      "https://www.baseball-reference.com/boxes/BOS/BOS202304030.shtml\n",
      "<Response [200]>\n",
      "Error: Índice fuera de rango. Se salta el enlace: https://www.baseball-reference.com/boxes/KCA/KCA202304030.shtml\n",
      "<Response [200]>\n",
      "Error: Índice fuera de rango. Se salta el enlace: https://www.baseball-reference.com/boxes/SLN/SLN202304030.shtml\n",
      "<Response [200]>\n",
      "Error: Índice fuera de rango. Se salta el enlace: https://www.baseball-reference.com/boxes/TEX/TEX202304030.shtml\n",
      "<Response [200]>\n"
     ]
    },
    {
     "name": "stderr",
     "output_type": "stream",
     "text": [
      "C:\\Users\\sanch\\AppData\\Local\\Temp\\ipykernel_11992\\723683626.py:43: FutureWarning: The frame.append method is deprecated and will be removed from pandas in a future version. Use pandas.concat instead.\n",
      "  Data2023 = Data2023.append(pd.DataFrame(data), ignore_index=True)\n"
     ]
    },
    {
     "name": "stdout",
     "output_type": "stream",
     "text": [
      "https://www.baseball-reference.com/boxes/HOU/HOU202304030.shtml\n",
      "<Response [200]>\n"
     ]
    },
    {
     "name": "stderr",
     "output_type": "stream",
     "text": [
      "C:\\Users\\sanch\\AppData\\Local\\Temp\\ipykernel_11992\\723683626.py:43: FutureWarning: The frame.append method is deprecated and will be removed from pandas in a future version. Use pandas.concat instead.\n",
      "  Data2023 = Data2023.append(pd.DataFrame(data), ignore_index=True)\n"
     ]
    },
    {
     "name": "stdout",
     "output_type": "stream",
     "text": [
      "https://www.baseball-reference.com/boxes/OAK/OAK202304030.shtml\n",
      "<Response [200]>\n",
      "Error: Índice fuera de rango. Se salta el enlace: https://www.baseball-reference.com/boxes/SDN/SDN202304030.shtml\n",
      "<Response [200]>\n",
      "Error: Índice fuera de rango. Se salta el enlace: https://www.baseball-reference.com/boxes/SEA/SEA202304030.shtml\n",
      "<Response [200]>\n"
     ]
    },
    {
     "name": "stderr",
     "output_type": "stream",
     "text": [
      "C:\\Users\\sanch\\AppData\\Local\\Temp\\ipykernel_11992\\723683626.py:43: FutureWarning: The frame.append method is deprecated and will be removed from pandas in a future version. Use pandas.concat instead.\n",
      "  Data2023 = Data2023.append(pd.DataFrame(data), ignore_index=True)\n"
     ]
    },
    {
     "name": "stdout",
     "output_type": "stream",
     "text": [
      "https://www.baseball-reference.com/boxes/LAN/LAN202304030.shtml\n",
      "<Response [200]>\n",
      "Error: Índice fuera de rango. Se salta el enlace: https://www.baseball-reference.com/boxes/SDN/SDN202304040.shtml\n",
      "<Response [200]>\n",
      "Error: Índice fuera de rango. Se salta el enlace: https://www.baseball-reference.com/boxes/CIN/CIN202304040.shtml\n",
      "<Response [200]>\n",
      "Error: Índice fuera de rango. Se salta el enlace: https://www.baseball-reference.com/boxes/MIA/MIA202304040.shtml\n",
      "<Response [200]>\n",
      "Error: Índice fuera de rango. Se salta el enlace: https://www.baseball-reference.com/boxes/NYA/NYA202304040.shtml\n",
      "<Response [200]>\n",
      "Error: Índice fuera de rango. Se salta el enlace: https://www.baseball-reference.com/boxes/WAS/WAS202304040.shtml\n",
      "<Response [200]>\n",
      "Error: Índice fuera de rango. Se salta el enlace: https://www.baseball-reference.com/boxes/BOS/BOS202304040.shtml\n",
      "<Response [200]>\n",
      "Error: Índice fuera de rango. Se salta el enlace: https://www.baseball-reference.com/boxes/KCA/KCA202304040.shtml\n",
      "<Response [200]>\n",
      "Error: Índice fuera de rango. Se salta el enlace: https://www.baseball-reference.com/boxes/MIL/MIL202304040.shtml\n",
      "<Response [200]>\n"
     ]
    },
    {
     "name": "stderr",
     "output_type": "stream",
     "text": [
      "C:\\Users\\sanch\\AppData\\Local\\Temp\\ipykernel_11992\\723683626.py:43: FutureWarning: The frame.append method is deprecated and will be removed from pandas in a future version. Use pandas.concat instead.\n",
      "  Data2023 = Data2023.append(pd.DataFrame(data), ignore_index=True)\n"
     ]
    },
    {
     "name": "stdout",
     "output_type": "stream",
     "text": [
      "https://www.baseball-reference.com/boxes/SLN/SLN202304040.shtml\n",
      "<Response [200]>\n"
     ]
    },
    {
     "name": "stderr",
     "output_type": "stream",
     "text": [
      "C:\\Users\\sanch\\AppData\\Local\\Temp\\ipykernel_11992\\723683626.py:43: FutureWarning: The frame.append method is deprecated and will be removed from pandas in a future version. Use pandas.concat instead.\n",
      "  Data2023 = Data2023.append(pd.DataFrame(data), ignore_index=True)\n"
     ]
    },
    {
     "name": "stdout",
     "output_type": "stream",
     "text": [
      "https://www.baseball-reference.com/boxes/TEX/TEX202304040.shtml\n",
      "<Response [200]>\n"
     ]
    },
    {
     "name": "stderr",
     "output_type": "stream",
     "text": [
      "C:\\Users\\sanch\\AppData\\Local\\Temp\\ipykernel_11992\\723683626.py:43: FutureWarning: The frame.append method is deprecated and will be removed from pandas in a future version. Use pandas.concat instead.\n",
      "  Data2023 = Data2023.append(pd.DataFrame(data), ignore_index=True)\n"
     ]
    },
    {
     "name": "stdout",
     "output_type": "stream",
     "text": [
      "https://www.baseball-reference.com/boxes/HOU/HOU202304040.shtml\n",
      "<Response [200]>\n",
      "Error: Índice fuera de rango. Se salta el enlace: https://www.baseball-reference.com/boxes/OAK/OAK202304040.shtml\n",
      "<Response [200]>\n"
     ]
    },
    {
     "name": "stderr",
     "output_type": "stream",
     "text": [
      "C:\\Users\\sanch\\AppData\\Local\\Temp\\ipykernel_11992\\723683626.py:43: FutureWarning: The frame.append method is deprecated and will be removed from pandas in a future version. Use pandas.concat instead.\n",
      "  Data2023 = Data2023.append(pd.DataFrame(data), ignore_index=True)\n"
     ]
    },
    {
     "name": "stdout",
     "output_type": "stream",
     "text": [
      "https://www.baseball-reference.com/boxes/SEA/SEA202304040.shtml\n",
      "<Response [200]>\n"
     ]
    },
    {
     "name": "stderr",
     "output_type": "stream",
     "text": [
      "C:\\Users\\sanch\\AppData\\Local\\Temp\\ipykernel_11992\\723683626.py:43: FutureWarning: The frame.append method is deprecated and will be removed from pandas in a future version. Use pandas.concat instead.\n",
      "  Data2023 = Data2023.append(pd.DataFrame(data), ignore_index=True)\n"
     ]
    },
    {
     "name": "stdout",
     "output_type": "stream",
     "text": [
      "https://www.baseball-reference.com/boxes/LAN/LAN202304040.shtml\n",
      "<Response [200]>\n",
      "Error: Índice fuera de rango. Se salta el enlace: https://www.baseball-reference.com/boxes/NYA/NYA202304050.shtml\n",
      "<Response [200]>\n"
     ]
    },
    {
     "name": "stderr",
     "output_type": "stream",
     "text": [
      "C:\\Users\\sanch\\AppData\\Local\\Temp\\ipykernel_11992\\723683626.py:43: FutureWarning: The frame.append method is deprecated and will be removed from pandas in a future version. Use pandas.concat instead.\n",
      "  Data2023 = Data2023.append(pd.DataFrame(data), ignore_index=True)\n"
     ]
    },
    {
     "name": "stdout",
     "output_type": "stream",
     "text": [
      "https://www.baseball-reference.com/boxes/WAS/WAS202304050.shtml\n",
      "<Response [200]>\n",
      "Error: Índice fuera de rango. Se salta el enlace: https://www.baseball-reference.com/boxes/MIA/MIA202304050.shtml\n",
      "<Response [200]>\n"
     ]
    },
    {
     "name": "stderr",
     "output_type": "stream",
     "text": [
      "C:\\Users\\sanch\\AppData\\Local\\Temp\\ipykernel_11992\\723683626.py:43: FutureWarning: The frame.append method is deprecated and will be removed from pandas in a future version. Use pandas.concat instead.\n",
      "  Data2023 = Data2023.append(pd.DataFrame(data), ignore_index=True)\n"
     ]
    },
    {
     "name": "stdout",
     "output_type": "stream",
     "text": [
      "https://www.baseball-reference.com/boxes/SLN/SLN202304050.shtml\n",
      "<Response [200]>\n",
      "Error: Índice fuera de rango. Se salta el enlace: https://www.baseball-reference.com/boxes/BOS/BOS202304050.shtml\n",
      "<Response [200]>\n",
      "Error: Índice fuera de rango. Se salta el enlace: https://www.baseball-reference.com/boxes/MIL/MIL202304050.shtml\n",
      "<Response [200]>\n"
     ]
    },
    {
     "name": "stderr",
     "output_type": "stream",
     "text": [
      "C:\\Users\\sanch\\AppData\\Local\\Temp\\ipykernel_11992\\723683626.py:43: FutureWarning: The frame.append method is deprecated and will be removed from pandas in a future version. Use pandas.concat instead.\n",
      "  Data2023 = Data2023.append(pd.DataFrame(data), ignore_index=True)\n"
     ]
    },
    {
     "name": "stdout",
     "output_type": "stream",
     "text": [
      "https://www.baseball-reference.com/boxes/TEX/TEX202304050.shtml\n",
      "<Response [200]>\n"
     ]
    },
    {
     "name": "stderr",
     "output_type": "stream",
     "text": [
      "C:\\Users\\sanch\\AppData\\Local\\Temp\\ipykernel_11992\\723683626.py:43: FutureWarning: The frame.append method is deprecated and will be removed from pandas in a future version. Use pandas.concat instead.\n",
      "  Data2023 = Data2023.append(pd.DataFrame(data), ignore_index=True)\n"
     ]
    },
    {
     "name": "stdout",
     "output_type": "stream",
     "text": [
      "https://www.baseball-reference.com/boxes/CHA/CHA202304050.shtml\n",
      "<Response [200]>\n",
      "Error: Índice fuera de rango. Se salta el enlace: https://www.baseball-reference.com/boxes/HOU/HOU202304050.shtml\n",
      "<Response [200]>\n",
      "Error: Índice fuera de rango. Se salta el enlace: https://www.baseball-reference.com/boxes/OAK/OAK202304050.shtml\n",
      "<Response [200]>\n",
      "Error: Índice fuera de rango. Se salta el enlace: https://www.baseball-reference.com/boxes/SEA/SEA202304050.shtml\n",
      "<Response [200]>\n",
      "Error: Índice fuera de rango. Se salta el enlace: https://www.baseball-reference.com/boxes/KCA/KCA202304050.shtml\n",
      "<Response [200]>\n"
     ]
    },
    {
     "name": "stderr",
     "output_type": "stream",
     "text": [
      "C:\\Users\\sanch\\AppData\\Local\\Temp\\ipykernel_11992\\723683626.py:43: FutureWarning: The frame.append method is deprecated and will be removed from pandas in a future version. Use pandas.concat instead.\n",
      "  Data2023 = Data2023.append(pd.DataFrame(data), ignore_index=True)\n"
     ]
    },
    {
     "name": "stdout",
     "output_type": "stream",
     "text": [
      "https://www.baseball-reference.com/boxes/DET/DET202304060.shtml\n",
      "<Response [200]>\n"
     ]
    },
    {
     "name": "stderr",
     "output_type": "stream",
     "text": [
      "C:\\Users\\sanch\\AppData\\Local\\Temp\\ipykernel_11992\\723683626.py:43: FutureWarning: The frame.append method is deprecated and will be removed from pandas in a future version. Use pandas.concat instead.\n",
      "  Data2023 = Data2023.append(pd.DataFrame(data), ignore_index=True)\n"
     ]
    },
    {
     "name": "stdout",
     "output_type": "stream",
     "text": [
      "https://www.baseball-reference.com/boxes/CHA/CHA202304060.shtml\n",
      "<Response [200]>\n",
      "Error: Índice fuera de rango. Se salta el enlace: https://www.baseball-reference.com/boxes/KCA/KCA202304060.shtml\n",
      "<Response [200]>\n"
     ]
    },
    {
     "name": "stderr",
     "output_type": "stream",
     "text": [
      "C:\\Users\\sanch\\AppData\\Local\\Temp\\ipykernel_11992\\723683626.py:43: FutureWarning: The frame.append method is deprecated and will be removed from pandas in a future version. Use pandas.concat instead.\n",
      "  Data2023 = Data2023.append(pd.DataFrame(data), ignore_index=True)\n"
     ]
    },
    {
     "name": "stdout",
     "output_type": "stream",
     "text": [
      "https://www.baseball-reference.com/boxes/COL/COL202304060.shtml\n",
      "<Response [200]>\n"
     ]
    },
    {
     "name": "stderr",
     "output_type": "stream",
     "text": [
      "C:\\Users\\sanch\\AppData\\Local\\Temp\\ipykernel_11992\\723683626.py:43: FutureWarning: The frame.append method is deprecated and will be removed from pandas in a future version. Use pandas.concat instead.\n",
      "  Data2023 = Data2023.append(pd.DataFrame(data), ignore_index=True)\n"
     ]
    },
    {
     "name": "stdout",
     "output_type": "stream",
     "text": [
      "https://www.baseball-reference.com/boxes/ATL/ATL202304060.shtml\n",
      "<Response [200]>\n",
      "Error: Índice fuera de rango. Se salta el enlace: https://www.baseball-reference.com/boxes/ARI/ARI202304060.shtml\n",
      "<Response [200]>\n"
     ]
    },
    {
     "name": "stderr",
     "output_type": "stream",
     "text": [
      "C:\\Users\\sanch\\AppData\\Local\\Temp\\ipykernel_11992\\723683626.py:43: FutureWarning: The frame.append method is deprecated and will be removed from pandas in a future version. Use pandas.concat instead.\n",
      "  Data2023 = Data2023.append(pd.DataFrame(data), ignore_index=True)\n"
     ]
    },
    {
     "name": "stdout",
     "output_type": "stream",
     "text": [
      "https://www.baseball-reference.com/boxes/NYN/NYN202304070.shtml\n",
      "<Response [200]>\n",
      "Error: Índice fuera de rango. Se salta el enlace: https://www.baseball-reference.com/boxes/CHN/CHN202304070.shtml\n",
      "<Response [200]>\n"
     ]
    },
    {
     "name": "stderr",
     "output_type": "stream",
     "text": [
      "C:\\Users\\sanch\\AppData\\Local\\Temp\\ipykernel_11992\\723683626.py:43: FutureWarning: The frame.append method is deprecated and will be removed from pandas in a future version. Use pandas.concat instead.\n",
      "  Data2023 = Data2023.append(pd.DataFrame(data), ignore_index=True)\n"
     ]
    },
    {
     "name": "stdout",
     "output_type": "stream",
     "text": [
      "https://www.baseball-reference.com/boxes/BAL/BAL202304070.shtml\n",
      "<Response [200]>\n",
      "Error: Índice fuera de rango. Se salta el enlace: https://www.baseball-reference.com/boxes/PHI/PHI202304070.shtml\n",
      "<Response [200]>\n",
      "Error: Índice fuera de rango. Se salta el enlace: https://www.baseball-reference.com/boxes/CLE/CLE202304070.shtml\n",
      "<Response [200]>\n"
     ]
    },
    {
     "name": "stderr",
     "output_type": "stream",
     "text": [
      "C:\\Users\\sanch\\AppData\\Local\\Temp\\ipykernel_11992\\723683626.py:43: FutureWarning: The frame.append method is deprecated and will be removed from pandas in a future version. Use pandas.concat instead.\n",
      "  Data2023 = Data2023.append(pd.DataFrame(data), ignore_index=True)\n"
     ]
    },
    {
     "name": "stdout",
     "output_type": "stream",
     "text": [
      "https://www.baseball-reference.com/boxes/MIN/MIN202304070.shtml\n",
      "<Response [200]>\n"
     ]
    },
    {
     "name": "stderr",
     "output_type": "stream",
     "text": [
      "C:\\Users\\sanch\\AppData\\Local\\Temp\\ipykernel_11992\\723683626.py:43: FutureWarning: The frame.append method is deprecated and will be removed from pandas in a future version. Use pandas.concat instead.\n",
      "  Data2023 = Data2023.append(pd.DataFrame(data), ignore_index=True)\n"
     ]
    },
    {
     "name": "stdout",
     "output_type": "stream",
     "text": [
      "https://www.baseball-reference.com/boxes/PIT/PIT202304070.shtml\n",
      "<Response [200]>\n"
     ]
    },
    {
     "name": "stderr",
     "output_type": "stream",
     "text": [
      "C:\\Users\\sanch\\AppData\\Local\\Temp\\ipykernel_11992\\723683626.py:43: FutureWarning: The frame.append method is deprecated and will be removed from pandas in a future version. Use pandas.concat instead.\n",
      "  Data2023 = Data2023.append(pd.DataFrame(data), ignore_index=True)\n"
     ]
    },
    {
     "name": "stdout",
     "output_type": "stream",
     "text": [
      "https://www.baseball-reference.com/boxes/SFN/SFN202304070.shtml\n",
      "<Response [200]>\n",
      "Error: Índice fuera de rango. Se salta el enlace: https://www.baseball-reference.com/boxes/TBA/TBA202304070.shtml\n",
      "<Response [200]>\n",
      "Error: Índice fuera de rango. Se salta el enlace: https://www.baseball-reference.com/boxes/ATL/ATL202304070.shtml\n",
      "<Response [200]>\n",
      "Error: Índice fuera de rango. Se salta el enlace: https://www.baseball-reference.com/boxes/MIL/MIL202304070.shtml\n",
      "<Response [200]>\n"
     ]
    },
    {
     "name": "stderr",
     "output_type": "stream",
     "text": [
      "C:\\Users\\sanch\\AppData\\Local\\Temp\\ipykernel_11992\\723683626.py:43: FutureWarning: The frame.append method is deprecated and will be removed from pandas in a future version. Use pandas.concat instead.\n",
      "  Data2023 = Data2023.append(pd.DataFrame(data), ignore_index=True)\n"
     ]
    },
    {
     "name": "stdout",
     "output_type": "stream",
     "text": [
      "https://www.baseball-reference.com/boxes/COL/COL202304070.shtml\n",
      "<Response [200]>\n",
      "Error: Índice fuera de rango. Se salta el enlace: https://www.baseball-reference.com/boxes/ANA/ANA202304070.shtml\n",
      "<Response [200]>\n"
     ]
    },
    {
     "name": "stderr",
     "output_type": "stream",
     "text": [
      "C:\\Users\\sanch\\AppData\\Local\\Temp\\ipykernel_11992\\723683626.py:43: FutureWarning: The frame.append method is deprecated and will be removed from pandas in a future version. Use pandas.concat instead.\n",
      "  Data2023 = Data2023.append(pd.DataFrame(data), ignore_index=True)\n"
     ]
    },
    {
     "name": "stdout",
     "output_type": "stream",
     "text": [
      "https://www.baseball-reference.com/boxes/ARI/ARI202304070.shtml\n",
      "<Response [200]>\n"
     ]
    },
    {
     "name": "stderr",
     "output_type": "stream",
     "text": [
      "C:\\Users\\sanch\\AppData\\Local\\Temp\\ipykernel_11992\\723683626.py:43: FutureWarning: The frame.append method is deprecated and will be removed from pandas in a future version. Use pandas.concat instead.\n",
      "  Data2023 = Data2023.append(pd.DataFrame(data), ignore_index=True)\n"
     ]
    },
    {
     "name": "stdout",
     "output_type": "stream",
     "text": [
      "https://www.baseball-reference.com/boxes/MIN/MIN202304080.shtml\n",
      "<Response [200]>\n",
      "Error: Índice fuera de rango. Se salta el enlace: https://www.baseball-reference.com/boxes/CHN/CHN202304080.shtml\n",
      "<Response [200]>\n",
      "Error: Índice fuera de rango. Se salta el enlace: https://www.baseball-reference.com/boxes/PHI/PHI202304080.shtml\n",
      "<Response [200]>\n",
      "Error: Índice fuera de rango. Se salta el enlace: https://www.baseball-reference.com/boxes/SFN/SFN202304080.shtml\n",
      "<Response [200]>\n"
     ]
    },
    {
     "name": "stderr",
     "output_type": "stream",
     "text": [
      "C:\\Users\\sanch\\AppData\\Local\\Temp\\ipykernel_11992\\723683626.py:43: FutureWarning: The frame.append method is deprecated and will be removed from pandas in a future version. Use pandas.concat instead.\n",
      "  Data2023 = Data2023.append(pd.DataFrame(data), ignore_index=True)\n"
     ]
    },
    {
     "name": "stdout",
     "output_type": "stream",
     "text": [
      "https://www.baseball-reference.com/boxes/DET/DET202304080.shtml\n",
      "<Response [200]>\n",
      "Error: Índice fuera de rango. Se salta el enlace: https://www.baseball-reference.com/boxes/NYN/NYN202304080.shtml\n",
      "<Response [200]>\n"
     ]
    },
    {
     "name": "stderr",
     "output_type": "stream",
     "text": [
      "C:\\Users\\sanch\\AppData\\Local\\Temp\\ipykernel_11992\\723683626.py:43: FutureWarning: The frame.append method is deprecated and will be removed from pandas in a future version. Use pandas.concat instead.\n",
      "  Data2023 = Data2023.append(pd.DataFrame(data), ignore_index=True)\n"
     ]
    },
    {
     "name": "stdout",
     "output_type": "stream",
     "text": [
      "https://www.baseball-reference.com/boxes/TBA/TBA202304080.shtml\n",
      "<Response [200]>\n"
     ]
    },
    {
     "name": "stderr",
     "output_type": "stream",
     "text": [
      "C:\\Users\\sanch\\AppData\\Local\\Temp\\ipykernel_11992\\723683626.py:43: FutureWarning: The frame.append method is deprecated and will be removed from pandas in a future version. Use pandas.concat instead.\n",
      "  Data2023 = Data2023.append(pd.DataFrame(data), ignore_index=True)\n"
     ]
    },
    {
     "name": "stdout",
     "output_type": "stream",
     "text": [
      "https://www.baseball-reference.com/boxes/CLE/CLE202304080.shtml\n",
      "<Response [200]>\n",
      "Error: Índice fuera de rango. Se salta el enlace: https://www.baseball-reference.com/boxes/PIT/PIT202304080.shtml\n",
      "<Response [200]>\n",
      "Error: Índice fuera de rango. Se salta el enlace: https://www.baseball-reference.com/boxes/BAL/BAL202304080.shtml\n",
      "<Response [200]>\n"
     ]
    },
    {
     "name": "stderr",
     "output_type": "stream",
     "text": [
      "C:\\Users\\sanch\\AppData\\Local\\Temp\\ipykernel_11992\\723683626.py:43: FutureWarning: The frame.append method is deprecated and will be removed from pandas in a future version. Use pandas.concat instead.\n",
      "  Data2023 = Data2023.append(pd.DataFrame(data), ignore_index=True)\n"
     ]
    },
    {
     "name": "stdout",
     "output_type": "stream",
     "text": [
      "https://www.baseball-reference.com/boxes/MIL/MIL202304080.shtml\n",
      "<Response [200]>\n",
      "Error: Índice fuera de rango. Se salta el enlace: https://www.baseball-reference.com/boxes/ATL/ATL202304080.shtml\n",
      "<Response [200]>\n",
      "Error: Índice fuera de rango. Se salta el enlace: https://www.baseball-reference.com/boxes/ARI/ARI202304080.shtml\n",
      "<Response [200]>\n",
      "Error: Índice fuera de rango. Se salta el enlace: https://www.baseball-reference.com/boxes/COL/COL202304080.shtml\n",
      "<Response [200]>\n"
     ]
    },
    {
     "name": "stderr",
     "output_type": "stream",
     "text": [
      "C:\\Users\\sanch\\AppData\\Local\\Temp\\ipykernel_11992\\723683626.py:43: FutureWarning: The frame.append method is deprecated and will be removed from pandas in a future version. Use pandas.concat instead.\n",
      "  Data2023 = Data2023.append(pd.DataFrame(data), ignore_index=True)\n"
     ]
    },
    {
     "name": "stdout",
     "output_type": "stream",
     "text": [
      "https://www.baseball-reference.com/boxes/ANA/ANA202304080.shtml\n",
      "<Response [200]>\n"
     ]
    },
    {
     "name": "stderr",
     "output_type": "stream",
     "text": [
      "C:\\Users\\sanch\\AppData\\Local\\Temp\\ipykernel_11992\\723683626.py:43: FutureWarning: The frame.append method is deprecated and will be removed from pandas in a future version. Use pandas.concat instead.\n",
      "  Data2023 = Data2023.append(pd.DataFrame(data), ignore_index=True)\n"
     ]
    },
    {
     "name": "stdout",
     "output_type": "stream",
     "text": [
      "https://www.baseball-reference.com/boxes/PHI/PHI202304090.shtml\n",
      "<Response [200]>\n",
      "Error: Índice fuera de rango. Se salta el enlace: https://www.baseball-reference.com/boxes/DET/DET202304090.shtml\n",
      "<Response [200]>\n",
      "Error: Índice fuera de rango. Se salta el enlace: https://www.baseball-reference.com/boxes/TBA/TBA202304090.shtml\n",
      "<Response [200]>\n"
     ]
    },
    {
     "name": "stderr",
     "output_type": "stream",
     "text": [
      "C:\\Users\\sanch\\AppData\\Local\\Temp\\ipykernel_11992\\723683626.py:43: FutureWarning: The frame.append method is deprecated and will be removed from pandas in a future version. Use pandas.concat instead.\n",
      "  Data2023 = Data2023.append(pd.DataFrame(data), ignore_index=True)\n"
     ]
    },
    {
     "name": "stdout",
     "output_type": "stream",
     "text": [
      "https://www.baseball-reference.com/boxes/BAL/BAL202304090.shtml\n",
      "<Response [200]>\n"
     ]
    },
    {
     "name": "stderr",
     "output_type": "stream",
     "text": [
      "C:\\Users\\sanch\\AppData\\Local\\Temp\\ipykernel_11992\\723683626.py:43: FutureWarning: The frame.append method is deprecated and will be removed from pandas in a future version. Use pandas.concat instead.\n",
      "  Data2023 = Data2023.append(pd.DataFrame(data), ignore_index=True)\n"
     ]
    },
    {
     "name": "stdout",
     "output_type": "stream",
     "text": [
      "https://www.baseball-reference.com/boxes/PIT/PIT202304090.shtml\n",
      "<Response [200]>\n"
     ]
    },
    {
     "name": "stderr",
     "output_type": "stream",
     "text": [
      "C:\\Users\\sanch\\AppData\\Local\\Temp\\ipykernel_11992\\723683626.py:43: FutureWarning: The frame.append method is deprecated and will be removed from pandas in a future version. Use pandas.concat instead.\n",
      "  Data2023 = Data2023.append(pd.DataFrame(data), ignore_index=True)\n"
     ]
    },
    {
     "name": "stdout",
     "output_type": "stream",
     "text": [
      "https://www.baseball-reference.com/boxes/CLE/CLE202304090.shtml\n",
      "<Response [200]>\n"
     ]
    },
    {
     "name": "stderr",
     "output_type": "stream",
     "text": [
      "C:\\Users\\sanch\\AppData\\Local\\Temp\\ipykernel_11992\\723683626.py:43: FutureWarning: The frame.append method is deprecated and will be removed from pandas in a future version. Use pandas.concat instead.\n",
      "  Data2023 = Data2023.append(pd.DataFrame(data), ignore_index=True)\n"
     ]
    },
    {
     "name": "stdout",
     "output_type": "stream",
     "text": [
      "https://www.baseball-reference.com/boxes/NYN/NYN202304090.shtml\n",
      "<Response [200]>\n"
     ]
    },
    {
     "name": "stderr",
     "output_type": "stream",
     "text": [
      "C:\\Users\\sanch\\AppData\\Local\\Temp\\ipykernel_11992\\723683626.py:43: FutureWarning: The frame.append method is deprecated and will be removed from pandas in a future version. Use pandas.concat instead.\n",
      "  Data2023 = Data2023.append(pd.DataFrame(data), ignore_index=True)\n"
     ]
    },
    {
     "name": "stdout",
     "output_type": "stream",
     "text": [
      "https://www.baseball-reference.com/boxes/MIL/MIL202304090.shtml\n",
      "<Response [200]>\n",
      "Error: Índice fuera de rango. Se salta el enlace: https://www.baseball-reference.com/boxes/MIN/MIN202304090.shtml\n",
      "<Response [200]>\n",
      "Error: Índice fuera de rango. Se salta el enlace: https://www.baseball-reference.com/boxes/CHN/CHN202304090.shtml\n",
      "<Response [200]>\n"
     ]
    },
    {
     "name": "stderr",
     "output_type": "stream",
     "text": [
      "C:\\Users\\sanch\\AppData\\Local\\Temp\\ipykernel_11992\\723683626.py:43: FutureWarning: The frame.append method is deprecated and will be removed from pandas in a future version. Use pandas.concat instead.\n",
      "  Data2023 = Data2023.append(pd.DataFrame(data), ignore_index=True)\n"
     ]
    },
    {
     "name": "stdout",
     "output_type": "stream",
     "text": [
      "https://www.baseball-reference.com/boxes/COL/COL202304090.shtml\n",
      "<Response [200]>\n"
     ]
    },
    {
     "name": "stderr",
     "output_type": "stream",
     "text": [
      "C:\\Users\\sanch\\AppData\\Local\\Temp\\ipykernel_11992\\723683626.py:43: FutureWarning: The frame.append method is deprecated and will be removed from pandas in a future version. Use pandas.concat instead.\n",
      "  Data2023 = Data2023.append(pd.DataFrame(data), ignore_index=True)\n"
     ]
    },
    {
     "name": "stdout",
     "output_type": "stream",
     "text": [
      "https://www.baseball-reference.com/boxes/SFN/SFN202304090.shtml\n",
      "<Response [200]>\n",
      "Error: Índice fuera de rango. Se salta el enlace: https://www.baseball-reference.com/boxes/ANA/ANA202304090.shtml\n",
      "<Response [200]>\n"
     ]
    },
    {
     "name": "stderr",
     "output_type": "stream",
     "text": [
      "C:\\Users\\sanch\\AppData\\Local\\Temp\\ipykernel_11992\\723683626.py:43: FutureWarning: The frame.append method is deprecated and will be removed from pandas in a future version. Use pandas.concat instead.\n",
      "  Data2023 = Data2023.append(pd.DataFrame(data), ignore_index=True)\n"
     ]
    },
    {
     "name": "stdout",
     "output_type": "stream",
     "text": [
      "https://www.baseball-reference.com/boxes/ARI/ARI202304090.shtml\n",
      "<Response [200]>\n",
      "Error: Índice fuera de rango. Se salta el enlace: https://www.baseball-reference.com/boxes/ATL/ATL202304090.shtml\n",
      "<Response [200]>\n"
     ]
    },
    {
     "name": "stderr",
     "output_type": "stream",
     "text": [
      "C:\\Users\\sanch\\AppData\\Local\\Temp\\ipykernel_11992\\723683626.py:43: FutureWarning: The frame.append method is deprecated and will be removed from pandas in a future version. Use pandas.concat instead.\n",
      "  Data2023 = Data2023.append(pd.DataFrame(data), ignore_index=True)\n"
     ]
    },
    {
     "name": "stdout",
     "output_type": "stream",
     "text": [
      "https://www.baseball-reference.com/boxes/MIN/MIN202304100.shtml\n",
      "<Response [200]>\n",
      "Error: Índice fuera de rango. Se salta el enlace: https://www.baseball-reference.com/boxes/CLE/CLE202304100.shtml\n",
      "<Response [200]>\n",
      "Error: Índice fuera de rango. Se salta el enlace: https://www.baseball-reference.com/boxes/BAL/BAL202304100.shtml\n",
      "<Response [200]>\n"
     ]
    },
    {
     "name": "stderr",
     "output_type": "stream",
     "text": [
      "C:\\Users\\sanch\\AppData\\Local\\Temp\\ipykernel_11992\\723683626.py:43: FutureWarning: The frame.append method is deprecated and will be removed from pandas in a future version. Use pandas.concat instead.\n",
      "  Data2023 = Data2023.append(pd.DataFrame(data), ignore_index=True)\n"
     ]
    },
    {
     "name": "stdout",
     "output_type": "stream",
     "text": [
      "https://www.baseball-reference.com/boxes/PIT/PIT202304100.shtml\n",
      "<Response [200]>\n"
     ]
    },
    {
     "name": "stderr",
     "output_type": "stream",
     "text": [
      "C:\\Users\\sanch\\AppData\\Local\\Temp\\ipykernel_11992\\723683626.py:43: FutureWarning: The frame.append method is deprecated and will be removed from pandas in a future version. Use pandas.concat instead.\n",
      "  Data2023 = Data2023.append(pd.DataFrame(data), ignore_index=True)\n"
     ]
    },
    {
     "name": "stdout",
     "output_type": "stream",
     "text": [
      "https://www.baseball-reference.com/boxes/PHI/PHI202304100.shtml\n",
      "<Response [200]>\n"
     ]
    },
    {
     "name": "stderr",
     "output_type": "stream",
     "text": [
      "C:\\Users\\sanch\\AppData\\Local\\Temp\\ipykernel_11992\\723683626.py:43: FutureWarning: The frame.append method is deprecated and will be removed from pandas in a future version. Use pandas.concat instead.\n",
      "  Data2023 = Data2023.append(pd.DataFrame(data), ignore_index=True)\n"
     ]
    },
    {
     "name": "stdout",
     "output_type": "stream",
     "text": [
      "https://www.baseball-reference.com/boxes/TBA/TBA202304100.shtml\n",
      "<Response [200]>\n"
     ]
    },
    {
     "name": "stderr",
     "output_type": "stream",
     "text": [
      "C:\\Users\\sanch\\AppData\\Local\\Temp\\ipykernel_11992\\723683626.py:43: FutureWarning: The frame.append method is deprecated and will be removed from pandas in a future version. Use pandas.concat instead.\n",
      "  Data2023 = Data2023.append(pd.DataFrame(data), ignore_index=True)\n"
     ]
    },
    {
     "name": "stdout",
     "output_type": "stream",
     "text": [
      "https://www.baseball-reference.com/boxes/NYN/NYN202304100.shtml\n",
      "<Response [200]>\n",
      "Error: Índice fuera de rango. Se salta el enlace: https://www.baseball-reference.com/boxes/ATL/ATL202304100.shtml\n",
      "<Response [200]>\n",
      "Error: Índice fuera de rango. Se salta el enlace: https://www.baseball-reference.com/boxes/CHN/CHN202304100.shtml\n",
      "<Response [200]>\n",
      "Error: Índice fuera de rango. Se salta el enlace: https://www.baseball-reference.com/boxes/TEX/TEX202304100.shtml\n",
      "<Response [200]>\n"
     ]
    },
    {
     "name": "stderr",
     "output_type": "stream",
     "text": [
      "C:\\Users\\sanch\\AppData\\Local\\Temp\\ipykernel_11992\\723683626.py:43: FutureWarning: The frame.append method is deprecated and will be removed from pandas in a future version. Use pandas.concat instead.\n",
      "  Data2023 = Data2023.append(pd.DataFrame(data), ignore_index=True)\n"
     ]
    },
    {
     "name": "stdout",
     "output_type": "stream",
     "text": [
      "https://www.baseball-reference.com/boxes/COL/COL202304100.shtml\n",
      "<Response [200]>\n"
     ]
    },
    {
     "name": "stderr",
     "output_type": "stream",
     "text": [
      "C:\\Users\\sanch\\AppData\\Local\\Temp\\ipykernel_11992\\723683626.py:43: FutureWarning: The frame.append method is deprecated and will be removed from pandas in a future version. Use pandas.concat instead.\n",
      "  Data2023 = Data2023.append(pd.DataFrame(data), ignore_index=True)\n"
     ]
    },
    {
     "name": "stdout",
     "output_type": "stream",
     "text": [
      "https://www.baseball-reference.com/boxes/ANA/ANA202304100.shtml\n",
      "<Response [200]>\n"
     ]
    },
    {
     "name": "stderr",
     "output_type": "stream",
     "text": [
      "C:\\Users\\sanch\\AppData\\Local\\Temp\\ipykernel_11992\\723683626.py:43: FutureWarning: The frame.append method is deprecated and will be removed from pandas in a future version. Use pandas.concat instead.\n",
      "  Data2023 = Data2023.append(pd.DataFrame(data), ignore_index=True)\n"
     ]
    },
    {
     "name": "stdout",
     "output_type": "stream",
     "text": [
      "https://www.baseball-reference.com/boxes/ARI/ARI202304100.shtml\n",
      "<Response [200]>\n"
     ]
    },
    {
     "name": "stderr",
     "output_type": "stream",
     "text": [
      "C:\\Users\\sanch\\AppData\\Local\\Temp\\ipykernel_11992\\723683626.py:43: FutureWarning: The frame.append method is deprecated and will be removed from pandas in a future version. Use pandas.concat instead.\n",
      "  Data2023 = Data2023.append(pd.DataFrame(data), ignore_index=True)\n"
     ]
    },
    {
     "name": "stdout",
     "output_type": "stream",
     "text": [
      "https://www.baseball-reference.com/boxes/SFN/SFN202304100.shtml\n",
      "<Response [200]>\n"
     ]
    },
    {
     "name": "stderr",
     "output_type": "stream",
     "text": [
      "C:\\Users\\sanch\\AppData\\Local\\Temp\\ipykernel_11992\\723683626.py:43: FutureWarning: The frame.append method is deprecated and will be removed from pandas in a future version. Use pandas.concat instead.\n",
      "  Data2023 = Data2023.append(pd.DataFrame(data), ignore_index=True)\n"
     ]
    },
    {
     "name": "stdout",
     "output_type": "stream",
     "text": [
      "https://www.baseball-reference.com/boxes/CLE/CLE202304110.shtml\n",
      "<Response [200]>\n"
     ]
    },
    {
     "name": "stderr",
     "output_type": "stream",
     "text": [
      "C:\\Users\\sanch\\AppData\\Local\\Temp\\ipykernel_11992\\723683626.py:43: FutureWarning: The frame.append method is deprecated and will be removed from pandas in a future version. Use pandas.concat instead.\n",
      "  Data2023 = Data2023.append(pd.DataFrame(data), ignore_index=True)\n"
     ]
    },
    {
     "name": "stdout",
     "output_type": "stream",
     "text": [
      "https://www.baseball-reference.com/boxes/BAL/BAL202304110.shtml\n",
      "<Response [200]>\n",
      "Error: Índice fuera de rango. Se salta el enlace: https://www.baseball-reference.com/boxes/PIT/PIT202304110.shtml\n",
      "<Response [200]>\n"
     ]
    },
    {
     "name": "stderr",
     "output_type": "stream",
     "text": [
      "C:\\Users\\sanch\\AppData\\Local\\Temp\\ipykernel_11992\\723683626.py:43: FutureWarning: The frame.append method is deprecated and will be removed from pandas in a future version. Use pandas.concat instead.\n",
      "  Data2023 = Data2023.append(pd.DataFrame(data), ignore_index=True)\n"
     ]
    },
    {
     "name": "stdout",
     "output_type": "stream",
     "text": [
      "https://www.baseball-reference.com/boxes/PHI/PHI202304110.shtml\n",
      "<Response [200]>\n",
      "Error: Índice fuera de rango. Se salta el enlace: https://www.baseball-reference.com/boxes/TBA/TBA202304110.shtml\n",
      "<Response [200]>\n",
      "Error: Índice fuera de rango. Se salta el enlace: https://www.baseball-reference.com/boxes/TOR/TOR202304110.shtml\n",
      "<Response [200]>\n"
     ]
    },
    {
     "name": "stderr",
     "output_type": "stream",
     "text": [
      "C:\\Users\\sanch\\AppData\\Local\\Temp\\ipykernel_11992\\723683626.py:43: FutureWarning: The frame.append method is deprecated and will be removed from pandas in a future version. Use pandas.concat instead.\n",
      "  Data2023 = Data2023.append(pd.DataFrame(data), ignore_index=True)\n"
     ]
    },
    {
     "name": "stdout",
     "output_type": "stream",
     "text": [
      "https://www.baseball-reference.com/boxes/NYN/NYN202304110.shtml\n",
      "<Response [200]>\n",
      "Error: Índice fuera de rango. Se salta el enlace: https://www.baseball-reference.com/boxes/ATL/ATL202304110.shtml\n",
      "<Response [200]>\n",
      "Error: Índice fuera de rango. Se salta el enlace: https://www.baseball-reference.com/boxes/CHN/CHN202304110.shtml\n",
      "<Response [200]>\n",
      "Error: Índice fuera de rango. Se salta el enlace: https://www.baseball-reference.com/boxes/MIN/MIN202304110.shtml\n",
      "<Response [200]>\n"
     ]
    },
    {
     "name": "stderr",
     "output_type": "stream",
     "text": [
      "C:\\Users\\sanch\\AppData\\Local\\Temp\\ipykernel_11992\\723683626.py:43: FutureWarning: The frame.append method is deprecated and will be removed from pandas in a future version. Use pandas.concat instead.\n",
      "  Data2023 = Data2023.append(pd.DataFrame(data), ignore_index=True)\n"
     ]
    },
    {
     "name": "stdout",
     "output_type": "stream",
     "text": [
      "https://www.baseball-reference.com/boxes/TEX/TEX202304110.shtml\n",
      "<Response [200]>\n",
      "Error: Índice fuera de rango. Se salta el enlace: https://www.baseball-reference.com/boxes/COL/COL202304110.shtml\n",
      "<Response [200]>\n",
      "Error: Índice fuera de rango. Se salta el enlace: https://www.baseball-reference.com/boxes/ANA/ANA202304110.shtml\n",
      "<Response [200]>\n",
      "Error: Índice fuera de rango. Se salta el enlace: https://www.baseball-reference.com/boxes/ARI/ARI202304110.shtml\n",
      "<Response [200]>\n",
      "Error: Índice fuera de rango. Se salta el enlace: https://www.baseball-reference.com/boxes/SFN/SFN202304110.shtml\n",
      "<Response [200]>\n",
      "Error: Índice fuera de rango. Se salta el enlace: https://www.baseball-reference.com/boxes/PIT/PIT202304120.shtml\n",
      "<Response [200]>\n"
     ]
    },
    {
     "name": "stderr",
     "output_type": "stream",
     "text": [
      "C:\\Users\\sanch\\AppData\\Local\\Temp\\ipykernel_11992\\723683626.py:43: FutureWarning: The frame.append method is deprecated and will be removed from pandas in a future version. Use pandas.concat instead.\n",
      "  Data2023 = Data2023.append(pd.DataFrame(data), ignore_index=True)\n"
     ]
    },
    {
     "name": "stdout",
     "output_type": "stream",
     "text": [
      "https://www.baseball-reference.com/boxes/CLE/CLE202304120.shtml\n",
      "<Response [200]>\n",
      "Error: Índice fuera de rango. Se salta el enlace: https://www.baseball-reference.com/boxes/MIN/MIN202304120.shtml\n",
      "<Response [200]>\n"
     ]
    },
    {
     "name": "stderr",
     "output_type": "stream",
     "text": [
      "C:\\Users\\sanch\\AppData\\Local\\Temp\\ipykernel_11992\\723683626.py:43: FutureWarning: The frame.append method is deprecated and will be removed from pandas in a future version. Use pandas.concat instead.\n",
      "  Data2023 = Data2023.append(pd.DataFrame(data), ignore_index=True)\n"
     ]
    },
    {
     "name": "stdout",
     "output_type": "stream",
     "text": [
      "https://www.baseball-reference.com/boxes/NYN/NYN202304120.shtml\n",
      "<Response [200]>\n",
      "Error: Índice fuera de rango. Se salta el enlace: https://www.baseball-reference.com/boxes/CHN/CHN202304120.shtml\n",
      "<Response [200]>\n",
      "Error: Índice fuera de rango. Se salta el enlace: https://www.baseball-reference.com/boxes/COL/COL202304120.shtml\n",
      "<Response [200]>\n",
      "Error: Índice fuera de rango. Se salta el enlace: https://www.baseball-reference.com/boxes/ARI/ARI202304120.shtml\n",
      "<Response [200]>\n"
     ]
    },
    {
     "name": "stderr",
     "output_type": "stream",
     "text": [
      "C:\\Users\\sanch\\AppData\\Local\\Temp\\ipykernel_11992\\723683626.py:43: FutureWarning: The frame.append method is deprecated and will be removed from pandas in a future version. Use pandas.concat instead.\n",
      "  Data2023 = Data2023.append(pd.DataFrame(data), ignore_index=True)\n"
     ]
    },
    {
     "name": "stdout",
     "output_type": "stream",
     "text": [
      "https://www.baseball-reference.com/boxes/PHI/PHI202304120.shtml\n",
      "<Response [200]>\n",
      "Error: Índice fuera de rango. Se salta el enlace: https://www.baseball-reference.com/boxes/ANA/ANA202304120.shtml\n",
      "<Response [200]>\n",
      "Error: Índice fuera de rango. Se salta el enlace: https://www.baseball-reference.com/boxes/BAL/BAL202304120.shtml\n",
      "<Response [200]>\n",
      "Error: Índice fuera de rango. Se salta el enlace: https://www.baseball-reference.com/boxes/TBA/TBA202304120.shtml\n",
      "<Response [200]>\n"
     ]
    },
    {
     "name": "stderr",
     "output_type": "stream",
     "text": [
      "C:\\Users\\sanch\\AppData\\Local\\Temp\\ipykernel_11992\\723683626.py:43: FutureWarning: The frame.append method is deprecated and will be removed from pandas in a future version. Use pandas.concat instead.\n",
      "  Data2023 = Data2023.append(pd.DataFrame(data), ignore_index=True)\n"
     ]
    },
    {
     "name": "stdout",
     "output_type": "stream",
     "text": [
      "https://www.baseball-reference.com/boxes/TOR/TOR202304120.shtml\n",
      "<Response [200]>\n",
      "Error: Índice fuera de rango. Se salta el enlace: https://www.baseball-reference.com/boxes/ATL/ATL202304120.shtml\n",
      "<Response [200]>\n",
      "Error: Índice fuera de rango. Se salta el enlace: https://www.baseball-reference.com/boxes/TEX/TEX202304120.shtml\n",
      "<Response [200]>\n"
     ]
    },
    {
     "name": "stderr",
     "output_type": "stream",
     "text": [
      "C:\\Users\\sanch\\AppData\\Local\\Temp\\ipykernel_11992\\723683626.py:43: FutureWarning: The frame.append method is deprecated and will be removed from pandas in a future version. Use pandas.concat instead.\n",
      "  Data2023 = Data2023.append(pd.DataFrame(data), ignore_index=True)\n"
     ]
    },
    {
     "name": "stdout",
     "output_type": "stream",
     "text": [
      "https://www.baseball-reference.com/boxes/SFN/SFN202304120.shtml\n",
      "<Response [200]>\n",
      "Error: Índice fuera de rango. Se salta el enlace: https://www.baseball-reference.com/boxes/BAL/BAL202304130.shtml\n",
      "<Response [200]>\n"
     ]
    },
    {
     "name": "stderr",
     "output_type": "stream",
     "text": [
      "C:\\Users\\sanch\\AppData\\Local\\Temp\\ipykernel_11992\\723683626.py:43: FutureWarning: The frame.append method is deprecated and will be removed from pandas in a future version. Use pandas.concat instead.\n",
      "  Data2023 = Data2023.append(pd.DataFrame(data), ignore_index=True)\n"
     ]
    },
    {
     "name": "stdout",
     "output_type": "stream",
     "text": [
      "https://www.baseball-reference.com/boxes/TBA/TBA202304130.shtml\n",
      "<Response [200]>\n"
     ]
    },
    {
     "name": "stderr",
     "output_type": "stream",
     "text": [
      "C:\\Users\\sanch\\AppData\\Local\\Temp\\ipykernel_11992\\723683626.py:43: FutureWarning: The frame.append method is deprecated and will be removed from pandas in a future version. Use pandas.concat instead.\n",
      "  Data2023 = Data2023.append(pd.DataFrame(data), ignore_index=True)\n"
     ]
    },
    {
     "name": "stdout",
     "output_type": "stream",
     "text": [
      "https://www.baseball-reference.com/boxes/CIN/CIN202304130.shtml\n",
      "<Response [200]>\n"
     ]
    },
    {
     "name": "stderr",
     "output_type": "stream",
     "text": [
      "C:\\Users\\sanch\\AppData\\Local\\Temp\\ipykernel_11992\\723683626.py:43: FutureWarning: The frame.append method is deprecated and will be removed from pandas in a future version. Use pandas.concat instead.\n",
      "  Data2023 = Data2023.append(pd.DataFrame(data), ignore_index=True)\n"
     ]
    },
    {
     "name": "stdout",
     "output_type": "stream",
     "text": [
      "https://www.baseball-reference.com/boxes/NYA/NYA202304130.shtml\n",
      "<Response [200]>\n",
      "Error: Índice fuera de rango. Se salta el enlace: https://www.baseball-reference.com/boxes/TOR/TOR202304130.shtml\n",
      "<Response [200]>\n"
     ]
    },
    {
     "name": "stderr",
     "output_type": "stream",
     "text": [
      "C:\\Users\\sanch\\AppData\\Local\\Temp\\ipykernel_11992\\723683626.py:43: FutureWarning: The frame.append method is deprecated and will be removed from pandas in a future version. Use pandas.concat instead.\n",
      "  Data2023 = Data2023.append(pd.DataFrame(data), ignore_index=True)\n"
     ]
    },
    {
     "name": "stdout",
     "output_type": "stream",
     "text": [
      "https://www.baseball-reference.com/boxes/SLN/SLN202304130.shtml\n",
      "<Response [200]>\n"
     ]
    },
    {
     "name": "stderr",
     "output_type": "stream",
     "text": [
      "C:\\Users\\sanch\\AppData\\Local\\Temp\\ipykernel_11992\\723683626.py:43: FutureWarning: The frame.append method is deprecated and will be removed from pandas in a future version. Use pandas.concat instead.\n",
      "  Data2023 = Data2023.append(pd.DataFrame(data), ignore_index=True)\n"
     ]
    },
    {
     "name": "stdout",
     "output_type": "stream",
     "text": [
      "https://www.baseball-reference.com/boxes/SDN/SDN202304130.shtml\n",
      "<Response [200]>\n"
     ]
    },
    {
     "name": "stderr",
     "output_type": "stream",
     "text": [
      "C:\\Users\\sanch\\AppData\\Local\\Temp\\ipykernel_11992\\723683626.py:43: FutureWarning: The frame.append method is deprecated and will be removed from pandas in a future version. Use pandas.concat instead.\n",
      "  Data2023 = Data2023.append(pd.DataFrame(data), ignore_index=True)\n"
     ]
    },
    {
     "name": "stdout",
     "output_type": "stream",
     "text": [
      "https://www.baseball-reference.com/boxes/CIN/CIN202304140.shtml\n",
      "<Response [200]>\n"
     ]
    },
    {
     "name": "stderr",
     "output_type": "stream",
     "text": [
      "C:\\Users\\sanch\\AppData\\Local\\Temp\\ipykernel_11992\\723683626.py:43: FutureWarning: The frame.append method is deprecated and will be removed from pandas in a future version. Use pandas.concat instead.\n",
      "  Data2023 = Data2023.append(pd.DataFrame(data), ignore_index=True)\n"
     ]
    },
    {
     "name": "stdout",
     "output_type": "stream",
     "text": [
      "https://www.baseball-reference.com/boxes/DET/DET202304140.shtml\n",
      "<Response [200]>\n",
      "Error: Índice fuera de rango. Se salta el enlace: https://www.baseball-reference.com/boxes/MIA/MIA202304140.shtml\n",
      "<Response [200]>\n",
      "Error: Índice fuera de rango. Se salta el enlace: https://www.baseball-reference.com/boxes/NYA/NYA202304140.shtml\n",
      "<Response [200]>\n",
      "Error: Índice fuera de rango. Se salta el enlace: https://www.baseball-reference.com/boxes/WAS/WAS202304140.shtml\n",
      "<Response [200]>\n"
     ]
    },
    {
     "name": "stderr",
     "output_type": "stream",
     "text": [
      "C:\\Users\\sanch\\AppData\\Local\\Temp\\ipykernel_11992\\723683626.py:43: FutureWarning: The frame.append method is deprecated and will be removed from pandas in a future version. Use pandas.concat instead.\n",
      "  Data2023 = Data2023.append(pd.DataFrame(data), ignore_index=True)\n"
     ]
    },
    {
     "name": "stdout",
     "output_type": "stream",
     "text": [
      "https://www.baseball-reference.com/boxes/TOR/TOR202304140.shtml\n",
      "<Response [200]>\n",
      "Error: Índice fuera de rango. Se salta el enlace: https://www.baseball-reference.com/boxes/BOS/BOS202304140.shtml\n",
      "<Response [200]>\n"
     ]
    },
    {
     "name": "stderr",
     "output_type": "stream",
     "text": [
      "C:\\Users\\sanch\\AppData\\Local\\Temp\\ipykernel_11992\\723683626.py:43: FutureWarning: The frame.append method is deprecated and will be removed from pandas in a future version. Use pandas.concat instead.\n",
      "  Data2023 = Data2023.append(pd.DataFrame(data), ignore_index=True)\n"
     ]
    },
    {
     "name": "stdout",
     "output_type": "stream",
     "text": [
      "https://www.baseball-reference.com/boxes/CHA/CHA202304140.shtml\n",
      "<Response [200]>\n"
     ]
    },
    {
     "name": "stderr",
     "output_type": "stream",
     "text": [
      "C:\\Users\\sanch\\AppData\\Local\\Temp\\ipykernel_11992\\723683626.py:43: FutureWarning: The frame.append method is deprecated and will be removed from pandas in a future version. Use pandas.concat instead.\n",
      "  Data2023 = Data2023.append(pd.DataFrame(data), ignore_index=True)\n"
     ]
    },
    {
     "name": "stdout",
     "output_type": "stream",
     "text": [
      "https://www.baseball-reference.com/boxes/HOU/HOU202304140.shtml\n",
      "<Response [200]>\n",
      "Error: Índice fuera de rango. Se salta el enlace: https://www.baseball-reference.com/boxes/KCA/KCA202304140.shtml\n",
      "<Response [200]>\n",
      "Error: Índice fuera de rango. Se salta el enlace: https://www.baseball-reference.com/boxes/SLN/SLN202304140.shtml\n",
      "<Response [200]>\n",
      "Error: Índice fuera de rango. Se salta el enlace: https://www.baseball-reference.com/boxes/OAK/OAK202304140.shtml\n",
      "<Response [200]>\n"
     ]
    },
    {
     "name": "stderr",
     "output_type": "stream",
     "text": [
      "C:\\Users\\sanch\\AppData\\Local\\Temp\\ipykernel_11992\\723683626.py:43: FutureWarning: The frame.append method is deprecated and will be removed from pandas in a future version. Use pandas.concat instead.\n",
      "  Data2023 = Data2023.append(pd.DataFrame(data), ignore_index=True)\n"
     ]
    },
    {
     "name": "stdout",
     "output_type": "stream",
     "text": [
      "https://www.baseball-reference.com/boxes/SDN/SDN202304140.shtml\n",
      "<Response [200]>\n"
     ]
    },
    {
     "name": "stderr",
     "output_type": "stream",
     "text": [
      "C:\\Users\\sanch\\AppData\\Local\\Temp\\ipykernel_11992\\723683626.py:43: FutureWarning: The frame.append method is deprecated and will be removed from pandas in a future version. Use pandas.concat instead.\n",
      "  Data2023 = Data2023.append(pd.DataFrame(data), ignore_index=True)\n"
     ]
    },
    {
     "name": "stdout",
     "output_type": "stream",
     "text": [
      "https://www.baseball-reference.com/boxes/LAN/LAN202304140.shtml\n",
      "<Response [200]>\n",
      "Error: Índice fuera de rango. Se salta el enlace: https://www.baseball-reference.com/boxes/SEA/SEA202304140.shtml\n",
      "<Response [200]>\n"
     ]
    },
    {
     "name": "stderr",
     "output_type": "stream",
     "text": [
      "C:\\Users\\sanch\\AppData\\Local\\Temp\\ipykernel_11992\\723683626.py:43: FutureWarning: The frame.append method is deprecated and will be removed from pandas in a future version. Use pandas.concat instead.\n",
      "  Data2023 = Data2023.append(pd.DataFrame(data), ignore_index=True)\n"
     ]
    },
    {
     "name": "stdout",
     "output_type": "stream",
     "text": [
      "https://www.baseball-reference.com/boxes/NYA/NYA202304150.shtml\n",
      "<Response [200]>\n"
     ]
    },
    {
     "name": "stderr",
     "output_type": "stream",
     "text": [
      "C:\\Users\\sanch\\AppData\\Local\\Temp\\ipykernel_11992\\723683626.py:43: FutureWarning: The frame.append method is deprecated and will be removed from pandas in a future version. Use pandas.concat instead.\n",
      "  Data2023 = Data2023.append(pd.DataFrame(data), ignore_index=True)\n"
     ]
    },
    {
     "name": "stdout",
     "output_type": "stream",
     "text": [
      "https://www.baseball-reference.com/boxes/DET/DET202304150.shtml\n",
      "<Response [200]>\n",
      "Error: Índice fuera de rango. Se salta el enlace: https://www.baseball-reference.com/boxes/CHA/CHA202304150.shtml\n",
      "<Response [200]>\n"
     ]
    },
    {
     "name": "stderr",
     "output_type": "stream",
     "text": [
      "C:\\Users\\sanch\\AppData\\Local\\Temp\\ipykernel_11992\\723683626.py:43: FutureWarning: The frame.append method is deprecated and will be removed from pandas in a future version. Use pandas.concat instead.\n",
      "  Data2023 = Data2023.append(pd.DataFrame(data), ignore_index=True)\n"
     ]
    },
    {
     "name": "stdout",
     "output_type": "stream",
     "text": [
      "https://www.baseball-reference.com/boxes/SLN/SLN202304150.shtml\n",
      "<Response [200]>\n"
     ]
    },
    {
     "name": "stderr",
     "output_type": "stream",
     "text": [
      "C:\\Users\\sanch\\AppData\\Local\\Temp\\ipykernel_11992\\723683626.py:43: FutureWarning: The frame.append method is deprecated and will be removed from pandas in a future version. Use pandas.concat instead.\n",
      "  Data2023 = Data2023.append(pd.DataFrame(data), ignore_index=True)\n"
     ]
    },
    {
     "name": "stdout",
     "output_type": "stream",
     "text": [
      "https://www.baseball-reference.com/boxes/TOR/TOR202304150.shtml\n",
      "<Response [200]>\n"
     ]
    },
    {
     "name": "stderr",
     "output_type": "stream",
     "text": [
      "C:\\Users\\sanch\\AppData\\Local\\Temp\\ipykernel_11992\\723683626.py:43: FutureWarning: The frame.append method is deprecated and will be removed from pandas in a future version. Use pandas.concat instead.\n",
      "  Data2023 = Data2023.append(pd.DataFrame(data), ignore_index=True)\n"
     ]
    },
    {
     "name": "stdout",
     "output_type": "stream",
     "text": [
      "https://www.baseball-reference.com/boxes/SDN/SDN202304150.shtml\n",
      "<Response [200]>\n"
     ]
    },
    {
     "name": "stderr",
     "output_type": "stream",
     "text": [
      "C:\\Users\\sanch\\AppData\\Local\\Temp\\ipykernel_11992\\723683626.py:43: FutureWarning: The frame.append method is deprecated and will be removed from pandas in a future version. Use pandas.concat instead.\n",
      "  Data2023 = Data2023.append(pd.DataFrame(data), ignore_index=True)\n"
     ]
    },
    {
     "name": "stdout",
     "output_type": "stream",
     "text": [
      "https://www.baseball-reference.com/boxes/WAS/WAS202304150.shtml\n",
      "<Response [200]>\n"
     ]
    },
    {
     "name": "stderr",
     "output_type": "stream",
     "text": [
      "C:\\Users\\sanch\\AppData\\Local\\Temp\\ipykernel_11992\\723683626.py:43: FutureWarning: The frame.append method is deprecated and will be removed from pandas in a future version. Use pandas.concat instead.\n",
      "  Data2023 = Data2023.append(pd.DataFrame(data), ignore_index=True)\n"
     ]
    },
    {
     "name": "stdout",
     "output_type": "stream",
     "text": [
      "https://www.baseball-reference.com/boxes/OAK/OAK202304150.shtml\n",
      "<Response [200]>\n"
     ]
    },
    {
     "name": "stderr",
     "output_type": "stream",
     "text": [
      "C:\\Users\\sanch\\AppData\\Local\\Temp\\ipykernel_11992\\723683626.py:43: FutureWarning: The frame.append method is deprecated and will be removed from pandas in a future version. Use pandas.concat instead.\n",
      "  Data2023 = Data2023.append(pd.DataFrame(data), ignore_index=True)\n"
     ]
    },
    {
     "name": "stdout",
     "output_type": "stream",
     "text": [
      "https://www.baseball-reference.com/boxes/BOS/BOS202304150.shtml\n",
      "<Response [200]>\n"
     ]
    },
    {
     "name": "stderr",
     "output_type": "stream",
     "text": [
      "C:\\Users\\sanch\\AppData\\Local\\Temp\\ipykernel_11992\\723683626.py:43: FutureWarning: The frame.append method is deprecated and will be removed from pandas in a future version. Use pandas.concat instead.\n",
      "  Data2023 = Data2023.append(pd.DataFrame(data), ignore_index=True)\n"
     ]
    },
    {
     "name": "stdout",
     "output_type": "stream",
     "text": [
      "https://www.baseball-reference.com/boxes/CIN/CIN202304150.shtml\n",
      "<Response [200]>\n"
     ]
    },
    {
     "name": "stderr",
     "output_type": "stream",
     "text": [
      "C:\\Users\\sanch\\AppData\\Local\\Temp\\ipykernel_11992\\723683626.py:43: FutureWarning: The frame.append method is deprecated and will be removed from pandas in a future version. Use pandas.concat instead.\n",
      "  Data2023 = Data2023.append(pd.DataFrame(data), ignore_index=True)\n"
     ]
    },
    {
     "name": "stdout",
     "output_type": "stream",
     "text": [
      "https://www.baseball-reference.com/boxes/KCA/KCA202304150.shtml\n",
      "<Response [200]>\n"
     ]
    },
    {
     "name": "stderr",
     "output_type": "stream",
     "text": [
      "C:\\Users\\sanch\\AppData\\Local\\Temp\\ipykernel_11992\\723683626.py:43: FutureWarning: The frame.append method is deprecated and will be removed from pandas in a future version. Use pandas.concat instead.\n",
      "  Data2023 = Data2023.append(pd.DataFrame(data), ignore_index=True)\n"
     ]
    },
    {
     "name": "stdout",
     "output_type": "stream",
     "text": [
      "https://www.baseball-reference.com/boxes/MIA/MIA202304150.shtml\n",
      "<Response [200]>\n",
      "Error: Índice fuera de rango. Se salta el enlace: https://www.baseball-reference.com/boxes/HOU/HOU202304150.shtml\n",
      "<Response [200]>\n",
      "Error: Índice fuera de rango. Se salta el enlace: https://www.baseball-reference.com/boxes/LAN/LAN202304150.shtml\n",
      "<Response [200]>\n",
      "Error: Índice fuera de rango. Se salta el enlace: https://www.baseball-reference.com/boxes/SEA/SEA202304150.shtml\n",
      "<Response [200]>\n",
      "Error: Índice fuera de rango. Se salta el enlace: https://www.baseball-reference.com/boxes/BOS/BOS202304160.shtml\n",
      "<Response [200]>\n"
     ]
    },
    {
     "name": "stderr",
     "output_type": "stream",
     "text": [
      "C:\\Users\\sanch\\AppData\\Local\\Temp\\ipykernel_11992\\723683626.py:43: FutureWarning: The frame.append method is deprecated and will be removed from pandas in a future version. Use pandas.concat instead.\n",
      "  Data2023 = Data2023.append(pd.DataFrame(data), ignore_index=True)\n"
     ]
    },
    {
     "name": "stdout",
     "output_type": "stream",
     "text": [
      "https://www.baseball-reference.com/boxes/NYA/NYA202304160.shtml\n",
      "<Response [200]>\n",
      "Error: Índice fuera de rango. Se salta el enlace: https://www.baseball-reference.com/boxes/WAS/WAS202304160.shtml\n",
      "<Response [200]>\n",
      "Error: Índice fuera de rango. Se salta el enlace: https://www.baseball-reference.com/boxes/TOR/TOR202304160.shtml\n",
      "<Response [200]>\n"
     ]
    },
    {
     "name": "stderr",
     "output_type": "stream",
     "text": [
      "C:\\Users\\sanch\\AppData\\Local\\Temp\\ipykernel_11992\\723683626.py:43: FutureWarning: The frame.append method is deprecated and will be removed from pandas in a future version. Use pandas.concat instead.\n",
      "  Data2023 = Data2023.append(pd.DataFrame(data), ignore_index=True)\n"
     ]
    },
    {
     "name": "stdout",
     "output_type": "stream",
     "text": [
      "https://www.baseball-reference.com/boxes/CIN/CIN202304160.shtml\n",
      "<Response [200]>\n"
     ]
    },
    {
     "name": "stderr",
     "output_type": "stream",
     "text": [
      "C:\\Users\\sanch\\AppData\\Local\\Temp\\ipykernel_11992\\723683626.py:43: FutureWarning: The frame.append method is deprecated and will be removed from pandas in a future version. Use pandas.concat instead.\n",
      "  Data2023 = Data2023.append(pd.DataFrame(data), ignore_index=True)\n"
     ]
    },
    {
     "name": "stdout",
     "output_type": "stream",
     "text": [
      "https://www.baseball-reference.com/boxes/MIA/MIA202304160.shtml\n",
      "<Response [200]>\n"
     ]
    },
    {
     "name": "stderr",
     "output_type": "stream",
     "text": [
      "C:\\Users\\sanch\\AppData\\Local\\Temp\\ipykernel_11992\\723683626.py:43: FutureWarning: The frame.append method is deprecated and will be removed from pandas in a future version. Use pandas.concat instead.\n",
      "  Data2023 = Data2023.append(pd.DataFrame(data), ignore_index=True)\n"
     ]
    },
    {
     "name": "stdout",
     "output_type": "stream",
     "text": [
      "https://www.baseball-reference.com/boxes/CHA/CHA202304160.shtml\n",
      "<Response [200]>\n",
      "Error: Índice fuera de rango. Se salta el enlace: https://www.baseball-reference.com/boxes/KCA/KCA202304160.shtml\n",
      "<Response [200]>\n"
     ]
    },
    {
     "name": "stderr",
     "output_type": "stream",
     "text": [
      "C:\\Users\\sanch\\AppData\\Local\\Temp\\ipykernel_11992\\723683626.py:43: FutureWarning: The frame.append method is deprecated and will be removed from pandas in a future version. Use pandas.concat instead.\n",
      "  Data2023 = Data2023.append(pd.DataFrame(data), ignore_index=True)\n"
     ]
    },
    {
     "name": "stdout",
     "output_type": "stream",
     "text": [
      "https://www.baseball-reference.com/boxes/SLN/SLN202304160.shtml\n",
      "<Response [200]>\n"
     ]
    },
    {
     "name": "stderr",
     "output_type": "stream",
     "text": [
      "C:\\Users\\sanch\\AppData\\Local\\Temp\\ipykernel_11992\\723683626.py:43: FutureWarning: The frame.append method is deprecated and will be removed from pandas in a future version. Use pandas.concat instead.\n",
      "  Data2023 = Data2023.append(pd.DataFrame(data), ignore_index=True)\n"
     ]
    },
    {
     "name": "stdout",
     "output_type": "stream",
     "text": [
      "https://www.baseball-reference.com/boxes/OAK/OAK202304160.shtml\n",
      "<Response [200]>\n",
      "Error: Índice fuera de rango. Se salta el enlace: https://www.baseball-reference.com/boxes/LAN/LAN202304160.shtml\n",
      "<Response [200]>\n"
     ]
    },
    {
     "name": "stderr",
     "output_type": "stream",
     "text": [
      "C:\\Users\\sanch\\AppData\\Local\\Temp\\ipykernel_11992\\723683626.py:43: FutureWarning: The frame.append method is deprecated and will be removed from pandas in a future version. Use pandas.concat instead.\n",
      "  Data2023 = Data2023.append(pd.DataFrame(data), ignore_index=True)\n"
     ]
    },
    {
     "name": "stdout",
     "output_type": "stream",
     "text": [
      "https://www.baseball-reference.com/boxes/SDN/SDN202304160.shtml\n",
      "<Response [200]>\n"
     ]
    },
    {
     "name": "stderr",
     "output_type": "stream",
     "text": [
      "C:\\Users\\sanch\\AppData\\Local\\Temp\\ipykernel_11992\\723683626.py:43: FutureWarning: The frame.append method is deprecated and will be removed from pandas in a future version. Use pandas.concat instead.\n",
      "  Data2023 = Data2023.append(pd.DataFrame(data), ignore_index=True)\n"
     ]
    },
    {
     "name": "stdout",
     "output_type": "stream",
     "text": [
      "https://www.baseball-reference.com/boxes/SEA/SEA202304160.shtml\n",
      "<Response [200]>\n",
      "Error: Índice fuera de rango. Se salta el enlace: https://www.baseball-reference.com/boxes/HOU/HOU202304160.shtml\n",
      "<Response [200]>\n",
      "Error: Índice fuera de rango. Se salta el enlace: https://www.baseball-reference.com/boxes/BOS/BOS202304170.shtml\n",
      "<Response [200]>\n",
      "Error: Índice fuera de rango. Se salta el enlace: https://www.baseball-reference.com/boxes/CIN/CIN202304170.shtml\n",
      "<Response [200]>\n"
     ]
    },
    {
     "name": "stderr",
     "output_type": "stream",
     "text": [
      "C:\\Users\\sanch\\AppData\\Local\\Temp\\ipykernel_11992\\723683626.py:43: FutureWarning: The frame.append method is deprecated and will be removed from pandas in a future version. Use pandas.concat instead.\n",
      "  Data2023 = Data2023.append(pd.DataFrame(data), ignore_index=True)\n"
     ]
    },
    {
     "name": "stdout",
     "output_type": "stream",
     "text": [
      "https://www.baseball-reference.com/boxes/MIA/MIA202304170.shtml\n",
      "<Response [200]>\n",
      "Error: Índice fuera de rango. Se salta el enlace: https://www.baseball-reference.com/boxes/KCA/KCA202304170.shtml\n",
      "<Response [200]>\n",
      "Error: Índice fuera de rango. Se salta el enlace: https://www.baseball-reference.com/boxes/SLN/SLN202304170.shtml\n",
      "<Response [200]>\n",
      "Error: Índice fuera de rango. Se salta el enlace: https://www.baseball-reference.com/boxes/HOU/HOU202304170.shtml\n",
      "<Response [200]>\n",
      "Error: Índice fuera de rango. Se salta el enlace: https://www.baseball-reference.com/boxes/COL/COL202304170.shtml\n",
      "<Response [200]>\n"
     ]
    },
    {
     "name": "stderr",
     "output_type": "stream",
     "text": [
      "C:\\Users\\sanch\\AppData\\Local\\Temp\\ipykernel_11992\\723683626.py:43: FutureWarning: The frame.append method is deprecated and will be removed from pandas in a future version. Use pandas.concat instead.\n",
      "  Data2023 = Data2023.append(pd.DataFrame(data), ignore_index=True)\n"
     ]
    },
    {
     "name": "stdout",
     "output_type": "stream",
     "text": [
      "https://www.baseball-reference.com/boxes/OAK/OAK202304170.shtml\n",
      "<Response [200]>\n"
     ]
    },
    {
     "name": "stderr",
     "output_type": "stream",
     "text": [
      "C:\\Users\\sanch\\AppData\\Local\\Temp\\ipykernel_11992\\723683626.py:43: FutureWarning: The frame.append method is deprecated and will be removed from pandas in a future version. Use pandas.concat instead.\n",
      "  Data2023 = Data2023.append(pd.DataFrame(data), ignore_index=True)\n"
     ]
    },
    {
     "name": "stdout",
     "output_type": "stream",
     "text": [
      "https://www.baseball-reference.com/boxes/SDN/SDN202304170.shtml\n",
      "<Response [200]>\n",
      "Error: Índice fuera de rango. Se salta el enlace: https://www.baseball-reference.com/boxes/SEA/SEA202304170.shtml\n",
      "<Response [200]>\n"
     ]
    },
    {
     "name": "stderr",
     "output_type": "stream",
     "text": [
      "C:\\Users\\sanch\\AppData\\Local\\Temp\\ipykernel_11992\\723683626.py:43: FutureWarning: The frame.append method is deprecated and will be removed from pandas in a future version. Use pandas.concat instead.\n",
      "  Data2023 = Data2023.append(pd.DataFrame(data), ignore_index=True)\n"
     ]
    },
    {
     "name": "stdout",
     "output_type": "stream",
     "text": [
      "https://www.baseball-reference.com/boxes/LAN/LAN202304170.shtml\n",
      "<Response [200]>\n",
      "Error: Índice fuera de rango. Se salta el enlace: https://www.baseball-reference.com/boxes/CHA/CHA202304182.shtml\n",
      "<Response [200]>\n",
      "Error: Índice fuera de rango. Se salta el enlace: https://www.baseball-reference.com/boxes/DET/DET202304182.shtml\n",
      "<Response [200]>\n",
      "Error: Índice fuera de rango. Se salta el enlace: https://www.baseball-reference.com/boxes/DET/DET202304181.shtml\n",
      "<Response [200]>\n",
      "Error: Índice fuera de rango. Se salta el enlace: https://www.baseball-reference.com/boxes/CHA/CHA202304181.shtml\n",
      "<Response [200]>\n"
     ]
    },
    {
     "name": "stderr",
     "output_type": "stream",
     "text": [
      "C:\\Users\\sanch\\AppData\\Local\\Temp\\ipykernel_11992\\723683626.py:43: FutureWarning: The frame.append method is deprecated and will be removed from pandas in a future version. Use pandas.concat instead.\n",
      "  Data2023 = Data2023.append(pd.DataFrame(data), ignore_index=True)\n"
     ]
    },
    {
     "name": "stdout",
     "output_type": "stream",
     "text": [
      "https://www.baseball-reference.com/boxes/CIN/CIN202304180.shtml\n",
      "<Response [200]>\n",
      "Error: Índice fuera de rango. Se salta el enlace: https://www.baseball-reference.com/boxes/MIA/MIA202304180.shtml\n",
      "<Response [200]>\n",
      "Error: Índice fuera de rango. Se salta el enlace: https://www.baseball-reference.com/boxes/NYA/NYA202304180.shtml\n",
      "<Response [200]>\n",
      "Error: Índice fuera de rango. Se salta el enlace: https://www.baseball-reference.com/boxes/WAS/WAS202304180.shtml\n",
      "<Response [200]>\n",
      "Error: Índice fuera de rango. Se salta el enlace: https://www.baseball-reference.com/boxes/BOS/BOS202304180.shtml\n",
      "<Response [200]>\n",
      "Error: Índice fuera de rango. Se salta el enlace: https://www.baseball-reference.com/boxes/KCA/KCA202304180.shtml\n",
      "<Response [200]>\n",
      "Error: Índice fuera de rango. Se salta el enlace: https://www.baseball-reference.com/boxes/SLN/SLN202304180.shtml\n",
      "<Response [200]>\n"
     ]
    },
    {
     "name": "stderr",
     "output_type": "stream",
     "text": [
      "C:\\Users\\sanch\\AppData\\Local\\Temp\\ipykernel_11992\\723683626.py:43: FutureWarning: The frame.append method is deprecated and will be removed from pandas in a future version. Use pandas.concat instead.\n",
      "  Data2023 = Data2023.append(pd.DataFrame(data), ignore_index=True)\n"
     ]
    },
    {
     "name": "stdout",
     "output_type": "stream",
     "text": [
      "https://www.baseball-reference.com/boxes/HOU/HOU202304180.shtml\n",
      "<Response [200]>\n",
      "Error: Índice fuera de rango. Se salta el enlace: https://www.baseball-reference.com/boxes/COL/COL202304180.shtml\n",
      "<Response [200]>\n"
     ]
    },
    {
     "name": "stderr",
     "output_type": "stream",
     "text": [
      "C:\\Users\\sanch\\AppData\\Local\\Temp\\ipykernel_11992\\723683626.py:43: FutureWarning: The frame.append method is deprecated and will be removed from pandas in a future version. Use pandas.concat instead.\n",
      "  Data2023 = Data2023.append(pd.DataFrame(data), ignore_index=True)\n"
     ]
    },
    {
     "name": "stdout",
     "output_type": "stream",
     "text": [
      "https://www.baseball-reference.com/boxes/OAK/OAK202304180.shtml\n",
      "<Response [200]>\n",
      "Error: Índice fuera de rango. Se salta el enlace: https://www.baseball-reference.com/boxes/SDN/SDN202304180.shtml\n",
      "<Response [200]>\n"
     ]
    },
    {
     "name": "stderr",
     "output_type": "stream",
     "text": [
      "C:\\Users\\sanch\\AppData\\Local\\Temp\\ipykernel_11992\\723683626.py:43: FutureWarning: The frame.append method is deprecated and will be removed from pandas in a future version. Use pandas.concat instead.\n",
      "  Data2023 = Data2023.append(pd.DataFrame(data), ignore_index=True)\n"
     ]
    },
    {
     "name": "stdout",
     "output_type": "stream",
     "text": [
      "https://www.baseball-reference.com/boxes/SEA/SEA202304180.shtml\n",
      "<Response [200]>\n"
     ]
    },
    {
     "name": "stderr",
     "output_type": "stream",
     "text": [
      "C:\\Users\\sanch\\AppData\\Local\\Temp\\ipykernel_11992\\723683626.py:43: FutureWarning: The frame.append method is deprecated and will be removed from pandas in a future version. Use pandas.concat instead.\n",
      "  Data2023 = Data2023.append(pd.DataFrame(data), ignore_index=True)\n"
     ]
    },
    {
     "name": "stdout",
     "output_type": "stream",
     "text": [
      "https://www.baseball-reference.com/boxes/LAN/LAN202304180.shtml\n",
      "<Response [200]>\n"
     ]
    },
    {
     "name": "stderr",
     "output_type": "stream",
     "text": [
      "C:\\Users\\sanch\\AppData\\Local\\Temp\\ipykernel_11992\\723683626.py:43: FutureWarning: The frame.append method is deprecated and will be removed from pandas in a future version. Use pandas.concat instead.\n",
      "  Data2023 = Data2023.append(pd.DataFrame(data), ignore_index=True)\n"
     ]
    },
    {
     "name": "stdout",
     "output_type": "stream",
     "text": [
      "https://www.baseball-reference.com/boxes/CIN/CIN202304190.shtml\n",
      "<Response [200]>\n",
      "Error: Índice fuera de rango. Se salta el enlace: https://www.baseball-reference.com/boxes/DET/DET202304190.shtml\n",
      "<Response [200]>\n",
      "Error: Índice fuera de rango. Se salta el enlace: https://www.baseball-reference.com/boxes/MIA/MIA202304190.shtml\n",
      "<Response [200]>\n",
      "Error: Índice fuera de rango. Se salta el enlace: https://www.baseball-reference.com/boxes/SLN/SLN202304190.shtml\n",
      "<Response [200]>\n"
     ]
    },
    {
     "name": "stderr",
     "output_type": "stream",
     "text": [
      "C:\\Users\\sanch\\AppData\\Local\\Temp\\ipykernel_11992\\723683626.py:43: FutureWarning: The frame.append method is deprecated and will be removed from pandas in a future version. Use pandas.concat instead.\n",
      "  Data2023 = Data2023.append(pd.DataFrame(data), ignore_index=True)\n"
     ]
    },
    {
     "name": "stdout",
     "output_type": "stream",
     "text": [
      "https://www.baseball-reference.com/boxes/CHA/CHA202304190.shtml\n",
      "<Response [200]>\n",
      "Error: Índice fuera de rango. Se salta el enlace: https://www.baseball-reference.com/boxes/KCA/KCA202304190.shtml\n",
      "<Response [200]>\n"
     ]
    },
    {
     "name": "stderr",
     "output_type": "stream",
     "text": [
      "C:\\Users\\sanch\\AppData\\Local\\Temp\\ipykernel_11992\\723683626.py:43: FutureWarning: The frame.append method is deprecated and will be removed from pandas in a future version. Use pandas.concat instead.\n",
      "  Data2023 = Data2023.append(pd.DataFrame(data), ignore_index=True)\n"
     ]
    },
    {
     "name": "stdout",
     "output_type": "stream",
     "text": [
      "https://www.baseball-reference.com/boxes/COL/COL202304190.shtml\n",
      "<Response [200]>\n",
      "Error: Índice fuera de rango. Se salta el enlace: https://www.baseball-reference.com/boxes/LAN/LAN202304190.shtml\n",
      "<Response [200]>\n",
      "Error: Índice fuera de rango. Se salta el enlace: https://www.baseball-reference.com/boxes/OAK/OAK202304190.shtml\n",
      "<Response [200]>\n",
      "Error: Índice fuera de rango. Se salta el enlace: https://www.baseball-reference.com/boxes/SDN/SDN202304190.shtml\n",
      "<Response [200]>\n",
      "Error: Índice fuera de rango. Se salta el enlace: https://www.baseball-reference.com/boxes/SEA/SEA202304190.shtml\n",
      "<Response [200]>\n",
      "Error: Índice fuera de rango. Se salta el enlace: https://www.baseball-reference.com/boxes/NYA/NYA202304190.shtml\n",
      "<Response [200]>\n"
     ]
    },
    {
     "name": "stderr",
     "output_type": "stream",
     "text": [
      "C:\\Users\\sanch\\AppData\\Local\\Temp\\ipykernel_11992\\723683626.py:43: FutureWarning: The frame.append method is deprecated and will be removed from pandas in a future version. Use pandas.concat instead.\n",
      "  Data2023 = Data2023.append(pd.DataFrame(data), ignore_index=True)\n"
     ]
    },
    {
     "name": "stdout",
     "output_type": "stream",
     "text": [
      "https://www.baseball-reference.com/boxes/WAS/WAS202304190.shtml\n",
      "<Response [200]>\n"
     ]
    },
    {
     "name": "stderr",
     "output_type": "stream",
     "text": [
      "C:\\Users\\sanch\\AppData\\Local\\Temp\\ipykernel_11992\\723683626.py:43: FutureWarning: The frame.append method is deprecated and will be removed from pandas in a future version. Use pandas.concat instead.\n",
      "  Data2023 = Data2023.append(pd.DataFrame(data), ignore_index=True)\n"
     ]
    },
    {
     "name": "stdout",
     "output_type": "stream",
     "text": [
      "https://www.baseball-reference.com/boxes/BOS/BOS202304190.shtml\n",
      "<Response [200]>\n"
     ]
    },
    {
     "name": "stderr",
     "output_type": "stream",
     "text": [
      "C:\\Users\\sanch\\AppData\\Local\\Temp\\ipykernel_11992\\723683626.py:43: FutureWarning: The frame.append method is deprecated and will be removed from pandas in a future version. Use pandas.concat instead.\n",
      "  Data2023 = Data2023.append(pd.DataFrame(data), ignore_index=True)\n"
     ]
    },
    {
     "name": "stdout",
     "output_type": "stream",
     "text": [
      "https://www.baseball-reference.com/boxes/HOU/HOU202304190.shtml\n",
      "<Response [200]>\n",
      "Error: Índice fuera de rango. Se salta el enlace: https://www.baseball-reference.com/boxes/BOS/BOS202304200.shtml\n",
      "<Response [200]>\n"
     ]
    },
    {
     "name": "stderr",
     "output_type": "stream",
     "text": [
      "C:\\Users\\sanch\\AppData\\Local\\Temp\\ipykernel_11992\\723683626.py:43: FutureWarning: The frame.append method is deprecated and will be removed from pandas in a future version. Use pandas.concat instead.\n",
      "  Data2023 = Data2023.append(pd.DataFrame(data), ignore_index=True)\n"
     ]
    },
    {
     "name": "stdout",
     "output_type": "stream",
     "text": [
      "https://www.baseball-reference.com/boxes/NYA/NYA202304200.shtml\n",
      "<Response [200]>\n",
      "Error: Índice fuera de rango. Se salta el enlace: https://www.baseball-reference.com/boxes/PIT/PIT202304200.shtml\n",
      "<Response [200]>\n"
     ]
    },
    {
     "name": "stderr",
     "output_type": "stream",
     "text": [
      "C:\\Users\\sanch\\AppData\\Local\\Temp\\ipykernel_11992\\723683626.py:43: FutureWarning: The frame.append method is deprecated and will be removed from pandas in a future version. Use pandas.concat instead.\n",
      "  Data2023 = Data2023.append(pd.DataFrame(data), ignore_index=True)\n"
     ]
    },
    {
     "name": "stdout",
     "output_type": "stream",
     "text": [
      "https://www.baseball-reference.com/boxes/PHI/PHI202304200.shtml\n",
      "<Response [200]>\n"
     ]
    },
    {
     "name": "stderr",
     "output_type": "stream",
     "text": [
      "C:\\Users\\sanch\\AppData\\Local\\Temp\\ipykernel_11992\\723683626.py:43: FutureWarning: The frame.append method is deprecated and will be removed from pandas in a future version. Use pandas.concat instead.\n",
      "  Data2023 = Data2023.append(pd.DataFrame(data), ignore_index=True)\n"
     ]
    },
    {
     "name": "stdout",
     "output_type": "stream",
     "text": [
      "https://www.baseball-reference.com/boxes/CHN/CHN202304200.shtml\n",
      "<Response [200]>\n"
     ]
    },
    {
     "name": "stderr",
     "output_type": "stream",
     "text": [
      "C:\\Users\\sanch\\AppData\\Local\\Temp\\ipykernel_11992\\723683626.py:43: FutureWarning: The frame.append method is deprecated and will be removed from pandas in a future version. Use pandas.concat instead.\n",
      "  Data2023 = Data2023.append(pd.DataFrame(data), ignore_index=True)\n"
     ]
    },
    {
     "name": "stdout",
     "output_type": "stream",
     "text": [
      "https://www.baseball-reference.com/boxes/ARI/ARI202304200.shtml\n",
      "<Response [200]>\n"
     ]
    },
    {
     "name": "stderr",
     "output_type": "stream",
     "text": [
      "C:\\Users\\sanch\\AppData\\Local\\Temp\\ipykernel_11992\\723683626.py:43: FutureWarning: The frame.append method is deprecated and will be removed from pandas in a future version. Use pandas.concat instead.\n",
      "  Data2023 = Data2023.append(pd.DataFrame(data), ignore_index=True)\n"
     ]
    },
    {
     "name": "stdout",
     "output_type": "stream",
     "text": [
      "https://www.baseball-reference.com/boxes/SFN/SFN202304200.shtml\n",
      "<Response [200]>\n",
      "Error: Índice fuera de rango. Se salta el enlace: https://www.baseball-reference.com/boxes/CHN/CHN202304210.shtml\n",
      "<Response [200]>\n"
     ]
    },
    {
     "name": "stderr",
     "output_type": "stream",
     "text": [
      "C:\\Users\\sanch\\AppData\\Local\\Temp\\ipykernel_11992\\723683626.py:43: FutureWarning: The frame.append method is deprecated and will be removed from pandas in a future version. Use pandas.concat instead.\n",
      "  Data2023 = Data2023.append(pd.DataFrame(data), ignore_index=True)\n"
     ]
    },
    {
     "name": "stdout",
     "output_type": "stream",
     "text": [
      "https://www.baseball-reference.com/boxes/PIT/PIT202304210.shtml\n",
      "<Response [200]>\n"
     ]
    },
    {
     "name": "stderr",
     "output_type": "stream",
     "text": [
      "C:\\Users\\sanch\\AppData\\Local\\Temp\\ipykernel_11992\\723683626.py:43: FutureWarning: The frame.append method is deprecated and will be removed from pandas in a future version. Use pandas.concat instead.\n",
      "  Data2023 = Data2023.append(pd.DataFrame(data), ignore_index=True)\n"
     ]
    },
    {
     "name": "stdout",
     "output_type": "stream",
     "text": [
      "https://www.baseball-reference.com/boxes/TBA/TBA202304210.shtml\n",
      "<Response [200]>\n",
      "Error: Índice fuera de rango. Se salta el enlace: https://www.baseball-reference.com/boxes/BAL/BAL202304210.shtml\n",
      "<Response [200]>\n",
      "Error: Índice fuera de rango. Se salta el enlace: https://www.baseball-reference.com/boxes/NYA/NYA202304210.shtml\n",
      "<Response [200]>\n",
      "Error: Índice fuera de rango. Se salta el enlace: https://www.baseball-reference.com/boxes/PHI/PHI202304210.shtml\n",
      "<Response [200]>\n"
     ]
    },
    {
     "name": "stderr",
     "output_type": "stream",
     "text": [
      "C:\\Users\\sanch\\AppData\\Local\\Temp\\ipykernel_11992\\723683626.py:43: FutureWarning: The frame.append method is deprecated and will be removed from pandas in a future version. Use pandas.concat instead.\n",
      "  Data2023 = Data2023.append(pd.DataFrame(data), ignore_index=True)\n"
     ]
    },
    {
     "name": "stdout",
     "output_type": "stream",
     "text": [
      "https://www.baseball-reference.com/boxes/ATL/ATL202304210.shtml\n",
      "<Response [200]>\n",
      "Error: Índice fuera de rango. Se salta el enlace: https://www.baseball-reference.com/boxes/TEX/TEX202304210.shtml\n",
      "<Response [200]>\n"
     ]
    },
    {
     "name": "stderr",
     "output_type": "stream",
     "text": [
      "C:\\Users\\sanch\\AppData\\Local\\Temp\\ipykernel_11992\\723683626.py:43: FutureWarning: The frame.append method is deprecated and will be removed from pandas in a future version. Use pandas.concat instead.\n",
      "  Data2023 = Data2023.append(pd.DataFrame(data), ignore_index=True)\n"
     ]
    },
    {
     "name": "stdout",
     "output_type": "stream",
     "text": [
      "https://www.baseball-reference.com/boxes/MIL/MIL202304210.shtml\n",
      "<Response [200]>\n"
     ]
    },
    {
     "name": "stderr",
     "output_type": "stream",
     "text": [
      "C:\\Users\\sanch\\AppData\\Local\\Temp\\ipykernel_11992\\723683626.py:43: FutureWarning: The frame.append method is deprecated and will be removed from pandas in a future version. Use pandas.concat instead.\n",
      "  Data2023 = Data2023.append(pd.DataFrame(data), ignore_index=True)\n"
     ]
    },
    {
     "name": "stdout",
     "output_type": "stream",
     "text": [
      "https://www.baseball-reference.com/boxes/MIN/MIN202304210.shtml\n",
      "<Response [200]>\n",
      "Error: Índice fuera de rango. Se salta el enlace: https://www.baseball-reference.com/boxes/ANA/ANA202304210.shtml\n",
      "<Response [200]>\n"
     ]
    },
    {
     "name": "stderr",
     "output_type": "stream",
     "text": [
      "C:\\Users\\sanch\\AppData\\Local\\Temp\\ipykernel_11992\\723683626.py:43: FutureWarning: The frame.append method is deprecated and will be removed from pandas in a future version. Use pandas.concat instead.\n",
      "  Data2023 = Data2023.append(pd.DataFrame(data), ignore_index=True)\n"
     ]
    },
    {
     "name": "stdout",
     "output_type": "stream",
     "text": [
      "https://www.baseball-reference.com/boxes/ARI/ARI202304210.shtml\n",
      "<Response [200]>\n",
      "Error: Índice fuera de rango. Se salta el enlace: https://www.baseball-reference.com/boxes/SEA/SEA202304210.shtml\n",
      "<Response [200]>\n"
     ]
    },
    {
     "name": "stderr",
     "output_type": "stream",
     "text": [
      "C:\\Users\\sanch\\AppData\\Local\\Temp\\ipykernel_11992\\723683626.py:43: FutureWarning: The frame.append method is deprecated and will be removed from pandas in a future version. Use pandas.concat instead.\n",
      "  Data2023 = Data2023.append(pd.DataFrame(data), ignore_index=True)\n"
     ]
    },
    {
     "name": "stdout",
     "output_type": "stream",
     "text": [
      "https://www.baseball-reference.com/boxes/SFN/SFN202304210.shtml\n",
      "<Response [200]>\n",
      "Error: Índice fuera de rango. Se salta el enlace: https://www.baseball-reference.com/boxes/CLE/CLE202304222.shtml\n",
      "<Response [200]>\n",
      "Error: Índice fuera de rango. Se salta el enlace: https://www.baseball-reference.com/boxes/NYA/NYA202304220.shtml\n",
      "<Response [200]>\n"
     ]
    },
    {
     "name": "stderr",
     "output_type": "stream",
     "text": [
      "C:\\Users\\sanch\\AppData\\Local\\Temp\\ipykernel_11992\\723683626.py:43: FutureWarning: The frame.append method is deprecated and will be removed from pandas in a future version. Use pandas.concat instead.\n",
      "  Data2023 = Data2023.append(pd.DataFrame(data), ignore_index=True)\n"
     ]
    },
    {
     "name": "stdout",
     "output_type": "stream",
     "text": [
      "https://www.baseball-reference.com/boxes/MIN/MIN202304220.shtml\n",
      "<Response [200]>\n"
     ]
    },
    {
     "name": "stderr",
     "output_type": "stream",
     "text": [
      "C:\\Users\\sanch\\AppData\\Local\\Temp\\ipykernel_11992\\723683626.py:43: FutureWarning: The frame.append method is deprecated and will be removed from pandas in a future version. Use pandas.concat instead.\n",
      "  Data2023 = Data2023.append(pd.DataFrame(data), ignore_index=True)\n"
     ]
    },
    {
     "name": "stdout",
     "output_type": "stream",
     "text": [
      "https://www.baseball-reference.com/boxes/CHN/CHN202304220.shtml\n",
      "<Response [200]>\n"
     ]
    },
    {
     "name": "stderr",
     "output_type": "stream",
     "text": [
      "C:\\Users\\sanch\\AppData\\Local\\Temp\\ipykernel_11992\\723683626.py:43: FutureWarning: The frame.append method is deprecated and will be removed from pandas in a future version. Use pandas.concat instead.\n",
      "  Data2023 = Data2023.append(pd.DataFrame(data), ignore_index=True)\n"
     ]
    },
    {
     "name": "stdout",
     "output_type": "stream",
     "text": [
      "https://www.baseball-reference.com/boxes/PHI/PHI202304220.shtml\n",
      "<Response [200]>\n",
      "Error: Índice fuera de rango. Se salta el enlace: https://www.baseball-reference.com/boxes/CLE/CLE202304221.shtml\n",
      "<Response [200]>\n"
     ]
    },
    {
     "name": "stderr",
     "output_type": "stream",
     "text": [
      "C:\\Users\\sanch\\AppData\\Local\\Temp\\ipykernel_11992\\723683626.py:43: FutureWarning: The frame.append method is deprecated and will be removed from pandas in a future version. Use pandas.concat instead.\n",
      "  Data2023 = Data2023.append(pd.DataFrame(data), ignore_index=True)\n"
     ]
    },
    {
     "name": "stdout",
     "output_type": "stream",
     "text": [
      "https://www.baseball-reference.com/boxes/SFN/SFN202304220.shtml\n",
      "<Response [200]>\n",
      "Error: Índice fuera de rango. Se salta el enlace: https://www.baseball-reference.com/boxes/TBA/TBA202304220.shtml\n",
      "<Response [200]>\n",
      "Error: Índice fuera de rango. Se salta el enlace: https://www.baseball-reference.com/boxes/PIT/PIT202304220.shtml\n",
      "<Response [200]>\n"
     ]
    },
    {
     "name": "stderr",
     "output_type": "stream",
     "text": [
      "C:\\Users\\sanch\\AppData\\Local\\Temp\\ipykernel_11992\\723683626.py:43: FutureWarning: The frame.append method is deprecated and will be removed from pandas in a future version. Use pandas.concat instead.\n",
      "  Data2023 = Data2023.append(pd.DataFrame(data), ignore_index=True)\n"
     ]
    },
    {
     "name": "stdout",
     "output_type": "stream",
     "text": [
      "https://www.baseball-reference.com/boxes/BAL/BAL202304220.shtml\n",
      "<Response [200]>\n"
     ]
    },
    {
     "name": "stderr",
     "output_type": "stream",
     "text": [
      "C:\\Users\\sanch\\AppData\\Local\\Temp\\ipykernel_11992\\723683626.py:43: FutureWarning: The frame.append method is deprecated and will be removed from pandas in a future version. Use pandas.concat instead.\n",
      "  Data2023 = Data2023.append(pd.DataFrame(data), ignore_index=True)\n"
     ]
    },
    {
     "name": "stdout",
     "output_type": "stream",
     "text": [
      "https://www.baseball-reference.com/boxes/TEX/TEX202304220.shtml\n",
      "<Response [200]>\n"
     ]
    },
    {
     "name": "stderr",
     "output_type": "stream",
     "text": [
      "C:\\Users\\sanch\\AppData\\Local\\Temp\\ipykernel_11992\\723683626.py:43: FutureWarning: The frame.append method is deprecated and will be removed from pandas in a future version. Use pandas.concat instead.\n",
      "  Data2023 = Data2023.append(pd.DataFrame(data), ignore_index=True)\n"
     ]
    },
    {
     "name": "stdout",
     "output_type": "stream",
     "text": [
      "https://www.baseball-reference.com/boxes/MIL/MIL202304220.shtml\n",
      "<Response [200]>\n",
      "Error: Índice fuera de rango. Se salta el enlace: https://www.baseball-reference.com/boxes/ATL/ATL202304220.shtml\n",
      "<Response [200]>\n"
     ]
    },
    {
     "name": "stderr",
     "output_type": "stream",
     "text": [
      "C:\\Users\\sanch\\AppData\\Local\\Temp\\ipykernel_11992\\723683626.py:43: FutureWarning: The frame.append method is deprecated and will be removed from pandas in a future version. Use pandas.concat instead.\n",
      "  Data2023 = Data2023.append(pd.DataFrame(data), ignore_index=True)\n"
     ]
    },
    {
     "name": "stdout",
     "output_type": "stream",
     "text": [
      "https://www.baseball-reference.com/boxes/ARI/ARI202304220.shtml\n",
      "<Response [200]>\n",
      "Error: Índice fuera de rango. Se salta el enlace: https://www.baseball-reference.com/boxes/ANA/ANA202304220.shtml\n",
      "<Response [200]>\n"
     ]
    },
    {
     "name": "stderr",
     "output_type": "stream",
     "text": [
      "C:\\Users\\sanch\\AppData\\Local\\Temp\\ipykernel_11992\\723683626.py:43: FutureWarning: The frame.append method is deprecated and will be removed from pandas in a future version. Use pandas.concat instead.\n",
      "  Data2023 = Data2023.append(pd.DataFrame(data), ignore_index=True)\n"
     ]
    },
    {
     "name": "stdout",
     "output_type": "stream",
     "text": [
      "https://www.baseball-reference.com/boxes/SEA/SEA202304220.shtml\n",
      "<Response [200]>\n"
     ]
    },
    {
     "name": "stderr",
     "output_type": "stream",
     "text": [
      "C:\\Users\\sanch\\AppData\\Local\\Temp\\ipykernel_11992\\723683626.py:43: FutureWarning: The frame.append method is deprecated and will be removed from pandas in a future version. Use pandas.concat instead.\n",
      "  Data2023 = Data2023.append(pd.DataFrame(data), ignore_index=True)\n"
     ]
    },
    {
     "name": "stdout",
     "output_type": "stream",
     "text": [
      "https://www.baseball-reference.com/boxes/PHI/PHI202304230.shtml\n",
      "<Response [200]>\n"
     ]
    },
    {
     "name": "stderr",
     "output_type": "stream",
     "text": [
      "C:\\Users\\sanch\\AppData\\Local\\Temp\\ipykernel_11992\\723683626.py:43: FutureWarning: The frame.append method is deprecated and will be removed from pandas in a future version. Use pandas.concat instead.\n",
      "  Data2023 = Data2023.append(pd.DataFrame(data), ignore_index=True)\n"
     ]
    },
    {
     "name": "stdout",
     "output_type": "stream",
     "text": [
      "https://www.baseball-reference.com/boxes/ATL/ATL202304230.shtml\n",
      "<Response [200]>\n"
     ]
    },
    {
     "name": "stderr",
     "output_type": "stream",
     "text": [
      "C:\\Users\\sanch\\AppData\\Local\\Temp\\ipykernel_11992\\723683626.py:43: FutureWarning: The frame.append method is deprecated and will be removed from pandas in a future version. Use pandas.concat instead.\n",
      "  Data2023 = Data2023.append(pd.DataFrame(data), ignore_index=True)\n"
     ]
    },
    {
     "name": "stdout",
     "output_type": "stream",
     "text": [
      "https://www.baseball-reference.com/boxes/BAL/BAL202304230.shtml\n",
      "<Response [200]>\n",
      "Error: Índice fuera de rango. Se salta el enlace: https://www.baseball-reference.com/boxes/NYA/NYA202304230.shtml\n",
      "<Response [200]>\n",
      "Error: Índice fuera de rango. Se salta el enlace: https://www.baseball-reference.com/boxes/PIT/PIT202304230.shtml\n",
      "<Response [200]>\n",
      "Error: Índice fuera de rango. Se salta el enlace: https://www.baseball-reference.com/boxes/CLE/CLE202304230.shtml\n",
      "<Response [200]>\n"
     ]
    },
    {
     "name": "stderr",
     "output_type": "stream",
     "text": [
      "C:\\Users\\sanch\\AppData\\Local\\Temp\\ipykernel_11992\\723683626.py:43: FutureWarning: The frame.append method is deprecated and will be removed from pandas in a future version. Use pandas.concat instead.\n",
      "  Data2023 = Data2023.append(pd.DataFrame(data), ignore_index=True)\n"
     ]
    },
    {
     "name": "stdout",
     "output_type": "stream",
     "text": [
      "https://www.baseball-reference.com/boxes/TBA/TBA202304230.shtml\n",
      "<Response [200]>\n",
      "Error: Índice fuera de rango. Se salta el enlace: https://www.baseball-reference.com/boxes/MIL/MIL202304230.shtml\n",
      "<Response [200]>\n"
     ]
    },
    {
     "name": "stderr",
     "output_type": "stream",
     "text": [
      "C:\\Users\\sanch\\AppData\\Local\\Temp\\ipykernel_11992\\723683626.py:43: FutureWarning: The frame.append method is deprecated and will be removed from pandas in a future version. Use pandas.concat instead.\n",
      "  Data2023 = Data2023.append(pd.DataFrame(data), ignore_index=True)\n"
     ]
    },
    {
     "name": "stdout",
     "output_type": "stream",
     "text": [
      "https://www.baseball-reference.com/boxes/MIN/MIN202304230.shtml\n",
      "<Response [200]>\n",
      "Error: Índice fuera de rango. Se salta el enlace: https://www.baseball-reference.com/boxes/CHN/CHN202304230.shtml\n",
      "<Response [200]>\n"
     ]
    },
    {
     "name": "stderr",
     "output_type": "stream",
     "text": [
      "C:\\Users\\sanch\\AppData\\Local\\Temp\\ipykernel_11992\\723683626.py:43: FutureWarning: The frame.append method is deprecated and will be removed from pandas in a future version. Use pandas.concat instead.\n",
      "  Data2023 = Data2023.append(pd.DataFrame(data), ignore_index=True)\n"
     ]
    },
    {
     "name": "stdout",
     "output_type": "stream",
     "text": [
      "https://www.baseball-reference.com/boxes/TEX/TEX202304230.shtml\n",
      "<Response [200]>\n"
     ]
    },
    {
     "name": "stderr",
     "output_type": "stream",
     "text": [
      "C:\\Users\\sanch\\AppData\\Local\\Temp\\ipykernel_11992\\723683626.py:43: FutureWarning: The frame.append method is deprecated and will be removed from pandas in a future version. Use pandas.concat instead.\n",
      "  Data2023 = Data2023.append(pd.DataFrame(data), ignore_index=True)\n"
     ]
    },
    {
     "name": "stdout",
     "output_type": "stream",
     "text": [
      "https://www.baseball-reference.com/boxes/ANA/ANA202304230.shtml\n",
      "<Response [200]>\n"
     ]
    },
    {
     "name": "stderr",
     "output_type": "stream",
     "text": [
      "C:\\Users\\sanch\\AppData\\Local\\Temp\\ipykernel_11992\\723683626.py:43: FutureWarning: The frame.append method is deprecated and will be removed from pandas in a future version. Use pandas.concat instead.\n",
      "  Data2023 = Data2023.append(pd.DataFrame(data), ignore_index=True)\n"
     ]
    },
    {
     "name": "stdout",
     "output_type": "stream",
     "text": [
      "https://www.baseball-reference.com/boxes/ARI/ARI202304230.shtml\n",
      "<Response [200]>\n"
     ]
    },
    {
     "name": "stderr",
     "output_type": "stream",
     "text": [
      "C:\\Users\\sanch\\AppData\\Local\\Temp\\ipykernel_11992\\723683626.py:43: FutureWarning: The frame.append method is deprecated and will be removed from pandas in a future version. Use pandas.concat instead.\n",
      "  Data2023 = Data2023.append(pd.DataFrame(data), ignore_index=True)\n"
     ]
    },
    {
     "name": "stdout",
     "output_type": "stream",
     "text": [
      "https://www.baseball-reference.com/boxes/SEA/SEA202304230.shtml\n",
      "<Response [200]>\n",
      "Error: Índice fuera de rango. Se salta el enlace: https://www.baseball-reference.com/boxes/SFN/SFN202304230.shtml\n",
      "<Response [200]>\n"
     ]
    },
    {
     "name": "stderr",
     "output_type": "stream",
     "text": [
      "C:\\Users\\sanch\\AppData\\Local\\Temp\\ipykernel_11992\\723683626.py:43: FutureWarning: The frame.append method is deprecated and will be removed from pandas in a future version. Use pandas.concat instead.\n",
      "  Data2023 = Data2023.append(pd.DataFrame(data), ignore_index=True)\n"
     ]
    },
    {
     "name": "stdout",
     "output_type": "stream",
     "text": [
      "https://www.baseball-reference.com/boxes/CLE/CLE202304240.shtml\n",
      "<Response [200]>\n"
     ]
    },
    {
     "name": "stderr",
     "output_type": "stream",
     "text": [
      "C:\\Users\\sanch\\AppData\\Local\\Temp\\ipykernel_11992\\723683626.py:43: FutureWarning: The frame.append method is deprecated and will be removed from pandas in a future version. Use pandas.concat instead.\n",
      "  Data2023 = Data2023.append(pd.DataFrame(data), ignore_index=True)\n"
     ]
    },
    {
     "name": "stdout",
     "output_type": "stream",
     "text": [
      "https://www.baseball-reference.com/boxes/BAL/BAL202304240.shtml\n",
      "<Response [200]>\n"
     ]
    },
    {
     "name": "stderr",
     "output_type": "stream",
     "text": [
      "C:\\Users\\sanch\\AppData\\Local\\Temp\\ipykernel_11992\\723683626.py:43: FutureWarning: The frame.append method is deprecated and will be removed from pandas in a future version. Use pandas.concat instead.\n",
      "  Data2023 = Data2023.append(pd.DataFrame(data), ignore_index=True)\n"
     ]
    },
    {
     "name": "stdout",
     "output_type": "stream",
     "text": [
      "https://www.baseball-reference.com/boxes/CIN/CIN202304240.shtml\n",
      "<Response [200]>\n",
      "Error: Índice fuera de rango. Se salta el enlace: https://www.baseball-reference.com/boxes/TBA/TBA202304240.shtml\n",
      "<Response [200]>\n",
      "Error: Índice fuera de rango. Se salta el enlace: https://www.baseball-reference.com/boxes/TOR/TOR202304240.shtml\n",
      "<Response [200]>\n",
      "Error: Índice fuera de rango. Se salta el enlace: https://www.baseball-reference.com/boxes/ATL/ATL202304240.shtml\n",
      "<Response [200]>\n",
      "Error: Índice fuera de rango. Se salta el enlace: https://www.baseball-reference.com/boxes/MIL/MIL202304240.shtml\n",
      "<Response [200]>\n",
      "Error: Índice fuera de rango. Se salta el enlace: https://www.baseball-reference.com/boxes/MIN/MIN202304240.shtml\n",
      "<Response [200]>\n",
      "Error: Índice fuera de rango. Se salta el enlace: https://www.baseball-reference.com/boxes/ANA/ANA202304240.shtml\n",
      "<Response [200]>\n",
      "Error: Índice fuera de rango. Se salta el enlace: https://www.baseball-reference.com/boxes/ARI/ARI202304240.shtml\n",
      "<Response [200]>\n"
     ]
    },
    {
     "name": "stderr",
     "output_type": "stream",
     "text": [
      "C:\\Users\\sanch\\AppData\\Local\\Temp\\ipykernel_11992\\723683626.py:43: FutureWarning: The frame.append method is deprecated and will be removed from pandas in a future version. Use pandas.concat instead.\n",
      "  Data2023 = Data2023.append(pd.DataFrame(data), ignore_index=True)\n"
     ]
    },
    {
     "name": "stdout",
     "output_type": "stream",
     "text": [
      "https://www.baseball-reference.com/boxes/SFN/SFN202304240.shtml\n",
      "<Response [200]>\n",
      "Error: Índice fuera de rango. Se salta el enlace: https://www.baseball-reference.com/boxes/CLE/CLE202304250.shtml\n",
      "<Response [200]>\n"
     ]
    },
    {
     "name": "stderr",
     "output_type": "stream",
     "text": [
      "C:\\Users\\sanch\\AppData\\Local\\Temp\\ipykernel_11992\\723683626.py:43: FutureWarning: The frame.append method is deprecated and will be removed from pandas in a future version. Use pandas.concat instead.\n",
      "  Data2023 = Data2023.append(pd.DataFrame(data), ignore_index=True)\n"
     ]
    },
    {
     "name": "stdout",
     "output_type": "stream",
     "text": [
      "https://www.baseball-reference.com/boxes/BAL/BAL202304250.shtml\n",
      "<Response [200]>\n"
     ]
    },
    {
     "name": "stderr",
     "output_type": "stream",
     "text": [
      "C:\\Users\\sanch\\AppData\\Local\\Temp\\ipykernel_11992\\723683626.py:43: FutureWarning: The frame.append method is deprecated and will be removed from pandas in a future version. Use pandas.concat instead.\n",
      "  Data2023 = Data2023.append(pd.DataFrame(data), ignore_index=True)\n"
     ]
    },
    {
     "name": "stdout",
     "output_type": "stream",
     "text": [
      "https://www.baseball-reference.com/boxes/PIT/PIT202304250.shtml\n",
      "<Response [200]>\n"
     ]
    },
    {
     "name": "stderr",
     "output_type": "stream",
     "text": [
      "C:\\Users\\sanch\\AppData\\Local\\Temp\\ipykernel_11992\\723683626.py:43: FutureWarning: The frame.append method is deprecated and will be removed from pandas in a future version. Use pandas.concat instead.\n",
      "  Data2023 = Data2023.append(pd.DataFrame(data), ignore_index=True)\n"
     ]
    },
    {
     "name": "stdout",
     "output_type": "stream",
     "text": [
      "https://www.baseball-reference.com/boxes/CIN/CIN202304250.shtml\n",
      "<Response [200]>\n",
      "Error: Índice fuera de rango. Se salta el enlace: https://www.baseball-reference.com/boxes/PHI/PHI202304250.shtml\n",
      "<Response [200]>\n"
     ]
    },
    {
     "name": "stderr",
     "output_type": "stream",
     "text": [
      "C:\\Users\\sanch\\AppData\\Local\\Temp\\ipykernel_11992\\723683626.py:43: FutureWarning: The frame.append method is deprecated and will be removed from pandas in a future version. Use pandas.concat instead.\n",
      "  Data2023 = Data2023.append(pd.DataFrame(data), ignore_index=True)\n"
     ]
    },
    {
     "name": "stdout",
     "output_type": "stream",
     "text": [
      "https://www.baseball-reference.com/boxes/TBA/TBA202304250.shtml\n",
      "<Response [200]>\n"
     ]
    },
    {
     "name": "stderr",
     "output_type": "stream",
     "text": [
      "C:\\Users\\sanch\\AppData\\Local\\Temp\\ipykernel_11992\\723683626.py:43: FutureWarning: The frame.append method is deprecated and will be removed from pandas in a future version. Use pandas.concat instead.\n",
      "  Data2023 = Data2023.append(pd.DataFrame(data), ignore_index=True)\n"
     ]
    },
    {
     "name": "stdout",
     "output_type": "stream",
     "text": [
      "https://www.baseball-reference.com/boxes/TOR/TOR202304250.shtml\n",
      "<Response [200]>\n",
      "Error: Índice fuera de rango. Se salta el enlace: https://www.baseball-reference.com/boxes/NYN/NYN202304250.shtml\n",
      "<Response [200]>\n"
     ]
    },
    {
     "name": "stderr",
     "output_type": "stream",
     "text": [
      "C:\\Users\\sanch\\AppData\\Local\\Temp\\ipykernel_11992\\723683626.py:43: FutureWarning: The frame.append method is deprecated and will be removed from pandas in a future version. Use pandas.concat instead.\n",
      "  Data2023 = Data2023.append(pd.DataFrame(data), ignore_index=True)\n"
     ]
    },
    {
     "name": "stdout",
     "output_type": "stream",
     "text": [
      "https://www.baseball-reference.com/boxes/ATL/ATL202304250.shtml\n",
      "<Response [200]>\n"
     ]
    },
    {
     "name": "stderr",
     "output_type": "stream",
     "text": [
      "C:\\Users\\sanch\\AppData\\Local\\Temp\\ipykernel_11992\\723683626.py:43: FutureWarning: The frame.append method is deprecated and will be removed from pandas in a future version. Use pandas.concat instead.\n",
      "  Data2023 = Data2023.append(pd.DataFrame(data), ignore_index=True)\n"
     ]
    },
    {
     "name": "stdout",
     "output_type": "stream",
     "text": [
      "https://www.baseball-reference.com/boxes/CHN/CHN202304250.shtml\n",
      "<Response [200]>\n"
     ]
    },
    {
     "name": "stderr",
     "output_type": "stream",
     "text": [
      "C:\\Users\\sanch\\AppData\\Local\\Temp\\ipykernel_11992\\723683626.py:43: FutureWarning: The frame.append method is deprecated and will be removed from pandas in a future version. Use pandas.concat instead.\n",
      "  Data2023 = Data2023.append(pd.DataFrame(data), ignore_index=True)\n"
     ]
    },
    {
     "name": "stdout",
     "output_type": "stream",
     "text": [
      "https://www.baseball-reference.com/boxes/MIL/MIL202304250.shtml\n",
      "<Response [200]>\n"
     ]
    },
    {
     "name": "stderr",
     "output_type": "stream",
     "text": [
      "C:\\Users\\sanch\\AppData\\Local\\Temp\\ipykernel_11992\\723683626.py:43: FutureWarning: The frame.append method is deprecated and will be removed from pandas in a future version. Use pandas.concat instead.\n",
      "  Data2023 = Data2023.append(pd.DataFrame(data), ignore_index=True)\n"
     ]
    },
    {
     "name": "stdout",
     "output_type": "stream",
     "text": [
      "https://www.baseball-reference.com/boxes/MIN/MIN202304250.shtml\n",
      "<Response [200]>\n"
     ]
    },
    {
     "name": "stderr",
     "output_type": "stream",
     "text": [
      "C:\\Users\\sanch\\AppData\\Local\\Temp\\ipykernel_11992\\723683626.py:43: FutureWarning: The frame.append method is deprecated and will be removed from pandas in a future version. Use pandas.concat instead.\n",
      "  Data2023 = Data2023.append(pd.DataFrame(data), ignore_index=True)\n"
     ]
    },
    {
     "name": "stdout",
     "output_type": "stream",
     "text": [
      "https://www.baseball-reference.com/boxes/ANA/ANA202304250.shtml\n",
      "<Response [200]>\n"
     ]
    },
    {
     "name": "stderr",
     "output_type": "stream",
     "text": [
      "C:\\Users\\sanch\\AppData\\Local\\Temp\\ipykernel_11992\\723683626.py:43: FutureWarning: The frame.append method is deprecated and will be removed from pandas in a future version. Use pandas.concat instead.\n",
      "  Data2023 = Data2023.append(pd.DataFrame(data), ignore_index=True)\n"
     ]
    },
    {
     "name": "stdout",
     "output_type": "stream",
     "text": [
      "https://www.baseball-reference.com/boxes/ARI/ARI202304250.shtml\n",
      "<Response [200]>\n"
     ]
    },
    {
     "name": "stderr",
     "output_type": "stream",
     "text": [
      "C:\\Users\\sanch\\AppData\\Local\\Temp\\ipykernel_11992\\723683626.py:43: FutureWarning: The frame.append method is deprecated and will be removed from pandas in a future version. Use pandas.concat instead.\n",
      "  Data2023 = Data2023.append(pd.DataFrame(data), ignore_index=True)\n"
     ]
    },
    {
     "name": "stdout",
     "output_type": "stream",
     "text": [
      "https://www.baseball-reference.com/boxes/SFN/SFN202304250.shtml\n",
      "<Response [200]>\n",
      "Error: Índice fuera de rango. Se salta el enlace: https://www.baseball-reference.com/boxes/CIN/CIN202304260.shtml\n",
      "<Response [200]>\n",
      "Error: Índice fuera de rango. Se salta el enlace: https://www.baseball-reference.com/boxes/BAL/BAL202304260.shtml\n",
      "<Response [200]>\n",
      "Error: Índice fuera de rango. Se salta el enlace: https://www.baseball-reference.com/boxes/TOR/TOR202304260.shtml\n",
      "<Response [200]>\n",
      "Error: Índice fuera de rango. Se salta el enlace: https://www.baseball-reference.com/boxes/CLE/CLE202304260.shtml\n",
      "<Response [200]>\n"
     ]
    },
    {
     "name": "stderr",
     "output_type": "stream",
     "text": [
      "C:\\Users\\sanch\\AppData\\Local\\Temp\\ipykernel_11992\\723683626.py:43: FutureWarning: The frame.append method is deprecated and will be removed from pandas in a future version. Use pandas.concat instead.\n",
      "  Data2023 = Data2023.append(pd.DataFrame(data), ignore_index=True)\n"
     ]
    },
    {
     "name": "stdout",
     "output_type": "stream",
     "text": [
      "https://www.baseball-reference.com/boxes/MIN/MIN202304260.shtml\n",
      "<Response [200]>\n"
     ]
    },
    {
     "name": "stderr",
     "output_type": "stream",
     "text": [
      "C:\\Users\\sanch\\AppData\\Local\\Temp\\ipykernel_11992\\723683626.py:43: FutureWarning: The frame.append method is deprecated and will be removed from pandas in a future version. Use pandas.concat instead.\n",
      "  Data2023 = Data2023.append(pd.DataFrame(data), ignore_index=True)\n"
     ]
    },
    {
     "name": "stdout",
     "output_type": "stream",
     "text": [
      "https://www.baseball-reference.com/boxes/MIL/MIL202304260.shtml\n",
      "<Response [200]>\n",
      "Error: Índice fuera de rango. Se salta el enlace: https://www.baseball-reference.com/boxes/ARI/ARI202304260.shtml\n",
      "<Response [200]>\n",
      "Error: Índice fuera de rango. Se salta el enlace: https://www.baseball-reference.com/boxes/PIT/PIT202304260.shtml\n",
      "<Response [200]>\n",
      "Error: Índice fuera de rango. Se salta el enlace: https://www.baseball-reference.com/boxes/PHI/PHI202304260.shtml\n",
      "<Response [200]>\n"
     ]
    },
    {
     "name": "stderr",
     "output_type": "stream",
     "text": [
      "C:\\Users\\sanch\\AppData\\Local\\Temp\\ipykernel_11992\\723683626.py:43: FutureWarning: The frame.append method is deprecated and will be removed from pandas in a future version. Use pandas.concat instead.\n",
      "  Data2023 = Data2023.append(pd.DataFrame(data), ignore_index=True)\n"
     ]
    },
    {
     "name": "stdout",
     "output_type": "stream",
     "text": [
      "https://www.baseball-reference.com/boxes/TBA/TBA202304260.shtml\n",
      "<Response [200]>\n"
     ]
    },
    {
     "name": "stderr",
     "output_type": "stream",
     "text": [
      "C:\\Users\\sanch\\AppData\\Local\\Temp\\ipykernel_11992\\723683626.py:43: FutureWarning: The frame.append method is deprecated and will be removed from pandas in a future version. Use pandas.concat instead.\n",
      "  Data2023 = Data2023.append(pd.DataFrame(data), ignore_index=True)\n"
     ]
    },
    {
     "name": "stdout",
     "output_type": "stream",
     "text": [
      "https://www.baseball-reference.com/boxes/NYN/NYN202304260.shtml\n",
      "<Response [200]>\n"
     ]
    },
    {
     "name": "stderr",
     "output_type": "stream",
     "text": [
      "C:\\Users\\sanch\\AppData\\Local\\Temp\\ipykernel_11992\\723683626.py:43: FutureWarning: The frame.append method is deprecated and will be removed from pandas in a future version. Use pandas.concat instead.\n",
      "  Data2023 = Data2023.append(pd.DataFrame(data), ignore_index=True)\n"
     ]
    },
    {
     "name": "stdout",
     "output_type": "stream",
     "text": [
      "https://www.baseball-reference.com/boxes/ATL/ATL202304260.shtml\n",
      "<Response [200]>\n"
     ]
    },
    {
     "name": "stderr",
     "output_type": "stream",
     "text": [
      "C:\\Users\\sanch\\AppData\\Local\\Temp\\ipykernel_11992\\723683626.py:43: FutureWarning: The frame.append method is deprecated and will be removed from pandas in a future version. Use pandas.concat instead.\n",
      "  Data2023 = Data2023.append(pd.DataFrame(data), ignore_index=True)\n"
     ]
    },
    {
     "name": "stdout",
     "output_type": "stream",
     "text": [
      "https://www.baseball-reference.com/boxes/CHN/CHN202304260.shtml\n",
      "<Response [200]>\n"
     ]
    },
    {
     "name": "stderr",
     "output_type": "stream",
     "text": [
      "C:\\Users\\sanch\\AppData\\Local\\Temp\\ipykernel_11992\\723683626.py:43: FutureWarning: The frame.append method is deprecated and will be removed from pandas in a future version. Use pandas.concat instead.\n",
      "  Data2023 = Data2023.append(pd.DataFrame(data), ignore_index=True)\n"
     ]
    },
    {
     "name": "stdout",
     "output_type": "stream",
     "text": [
      "https://www.baseball-reference.com/boxes/ANA/ANA202304260.shtml\n",
      "<Response [200]>\n",
      "Error: Índice fuera de rango. Se salta el enlace: https://www.baseball-reference.com/boxes/SFN/SFN202304260.shtml\n",
      "<Response [200]>\n"
     ]
    },
    {
     "name": "stderr",
     "output_type": "stream",
     "text": [
      "C:\\Users\\sanch\\AppData\\Local\\Temp\\ipykernel_11992\\723683626.py:43: FutureWarning: The frame.append method is deprecated and will be removed from pandas in a future version. Use pandas.concat instead.\n",
      "  Data2023 = Data2023.append(pd.DataFrame(data), ignore_index=True)\n"
     ]
    },
    {
     "name": "stdout",
     "output_type": "stream",
     "text": [
      "https://www.baseball-reference.com/boxes/ATL/ATL202304270.shtml\n",
      "<Response [200]>\n"
     ]
    },
    {
     "name": "stderr",
     "output_type": "stream",
     "text": [
      "C:\\Users\\sanch\\AppData\\Local\\Temp\\ipykernel_11992\\723683626.py:43: FutureWarning: The frame.append method is deprecated and will be removed from pandas in a future version. Use pandas.concat instead.\n",
      "  Data2023 = Data2023.append(pd.DataFrame(data), ignore_index=True)\n"
     ]
    },
    {
     "name": "stdout",
     "output_type": "stream",
     "text": [
      "https://www.baseball-reference.com/boxes/PIT/PIT202304270.shtml\n",
      "<Response [200]>\n",
      "Error: Índice fuera de rango. Se salta el enlace: https://www.baseball-reference.com/boxes/PHI/PHI202304270.shtml\n",
      "<Response [200]>\n",
      "Error: Índice fuera de rango. Se salta el enlace: https://www.baseball-reference.com/boxes/CHN/CHN202304270.shtml\n",
      "<Response [200]>\n"
     ]
    },
    {
     "name": "stderr",
     "output_type": "stream",
     "text": [
      "C:\\Users\\sanch\\AppData\\Local\\Temp\\ipykernel_11992\\723683626.py:43: FutureWarning: The frame.append method is deprecated and will be removed from pandas in a future version. Use pandas.concat instead.\n",
      "  Data2023 = Data2023.append(pd.DataFrame(data), ignore_index=True)\n"
     ]
    },
    {
     "name": "stdout",
     "output_type": "stream",
     "text": [
      "https://www.baseball-reference.com/boxes/SFN/SFN202304270.shtml\n",
      "<Response [200]>\n",
      "Error: Índice fuera de rango. Se salta el enlace: https://www.baseball-reference.com/boxes/ANA/ANA202304270.shtml\n",
      "<Response [200]>\n"
     ]
    },
    {
     "name": "stderr",
     "output_type": "stream",
     "text": [
      "C:\\Users\\sanch\\AppData\\Local\\Temp\\ipykernel_11992\\723683626.py:43: FutureWarning: The frame.append method is deprecated and will be removed from pandas in a future version. Use pandas.concat instead.\n",
      "  Data2023 = Data2023.append(pd.DataFrame(data), ignore_index=True)\n"
     ]
    },
    {
     "name": "stdout",
     "output_type": "stream",
     "text": [
      "https://www.baseball-reference.com/boxes/DET/DET202304270.shtml\n",
      "<Response [200]>\n"
     ]
    },
    {
     "name": "stderr",
     "output_type": "stream",
     "text": [
      "C:\\Users\\sanch\\AppData\\Local\\Temp\\ipykernel_11992\\723683626.py:43: FutureWarning: The frame.append method is deprecated and will be removed from pandas in a future version. Use pandas.concat instead.\n",
      "  Data2023 = Data2023.append(pd.DataFrame(data), ignore_index=True)\n"
     ]
    },
    {
     "name": "stdout",
     "output_type": "stream",
     "text": [
      "https://www.baseball-reference.com/boxes/CHA/CHA202304270.shtml\n",
      "<Response [200]>\n",
      "Error: Índice fuera de rango. Se salta el enlace: https://www.baseball-reference.com/boxes/NYN/NYN202304270.shtml\n",
      "<Response [200]>\n",
      "Error: Índice fuera de rango. Se salta el enlace: https://www.baseball-reference.com/boxes/MIN/MIN202304270.shtml\n",
      "<Response [200]>\n"
     ]
    },
    {
     "name": "stderr",
     "output_type": "stream",
     "text": [
      "C:\\Users\\sanch\\AppData\\Local\\Temp\\ipykernel_11992\\723683626.py:43: FutureWarning: The frame.append method is deprecated and will be removed from pandas in a future version. Use pandas.concat instead.\n",
      "  Data2023 = Data2023.append(pd.DataFrame(data), ignore_index=True)\n"
     ]
    },
    {
     "name": "stdout",
     "output_type": "stream",
     "text": [
      "https://www.baseball-reference.com/boxes/TEX/TEX202304270.shtml\n",
      "<Response [200]>\n",
      "Error: Índice fuera de rango. Se salta el enlace: https://www.baseball-reference.com/boxes/MIN/MIN202304280.shtml\n",
      "<Response [200]>\n"
     ]
    },
    {
     "name": "stderr",
     "output_type": "stream",
     "text": [
      "C:\\Users\\sanch\\AppData\\Local\\Temp\\ipykernel_11992\\723683626.py:43: FutureWarning: The frame.append method is deprecated and will be removed from pandas in a future version. Use pandas.concat instead.\n",
      "  Data2023 = Data2023.append(pd.DataFrame(data), ignore_index=True)\n"
     ]
    },
    {
     "name": "stdout",
     "output_type": "stream",
     "text": [
      "https://www.baseball-reference.com/boxes/MIA/MIA202304280.shtml\n",
      "<Response [200]>\n",
      "Error: Índice fuera de rango. Se salta el enlace: https://www.baseball-reference.com/boxes/TOR/TOR202304280.shtml\n",
      "<Response [200]>\n"
     ]
    },
    {
     "name": "stderr",
     "output_type": "stream",
     "text": [
      "C:\\Users\\sanch\\AppData\\Local\\Temp\\ipykernel_11992\\723683626.py:43: FutureWarning: The frame.append method is deprecated and will be removed from pandas in a future version. Use pandas.concat instead.\n",
      "  Data2023 = Data2023.append(pd.DataFrame(data), ignore_index=True)\n"
     ]
    },
    {
     "name": "stdout",
     "output_type": "stream",
     "text": [
      "https://www.baseball-reference.com/boxes/BOS/BOS202304280.shtml\n",
      "<Response [200]>\n"
     ]
    },
    {
     "name": "stderr",
     "output_type": "stream",
     "text": [
      "C:\\Users\\sanch\\AppData\\Local\\Temp\\ipykernel_11992\\723683626.py:43: FutureWarning: The frame.append method is deprecated and will be removed from pandas in a future version. Use pandas.concat instead.\n",
      "  Data2023 = Data2023.append(pd.DataFrame(data), ignore_index=True)\n"
     ]
    },
    {
     "name": "stdout",
     "output_type": "stream",
     "text": [
      "https://www.baseball-reference.com/boxes/CHA/CHA202304280.shtml\n",
      "<Response [200]>\n"
     ]
    },
    {
     "name": "stderr",
     "output_type": "stream",
     "text": [
      "C:\\Users\\sanch\\AppData\\Local\\Temp\\ipykernel_11992\\723683626.py:43: FutureWarning: The frame.append method is deprecated and will be removed from pandas in a future version. Use pandas.concat instead.\n",
      "  Data2023 = Data2023.append(pd.DataFrame(data), ignore_index=True)\n"
     ]
    },
    {
     "name": "stdout",
     "output_type": "stream",
     "text": [
      "https://www.baseball-reference.com/boxes/NYN/NYN202304280.shtml\n",
      "<Response [200]>\n"
     ]
    },
    {
     "name": "stderr",
     "output_type": "stream",
     "text": [
      "C:\\Users\\sanch\\AppData\\Local\\Temp\\ipykernel_11992\\723683626.py:43: FutureWarning: The frame.append method is deprecated and will be removed from pandas in a future version. Use pandas.concat instead.\n",
      "  Data2023 = Data2023.append(pd.DataFrame(data), ignore_index=True)\n"
     ]
    },
    {
     "name": "stdout",
     "output_type": "stream",
     "text": [
      "https://www.baseball-reference.com/boxes/TEX/TEX202304280.shtml\n",
      "<Response [200]>\n",
      "Error: Índice fuera de rango. Se salta el enlace: https://www.baseball-reference.com/boxes/HOU/HOU202304280.shtml\n",
      "<Response [200]>\n"
     ]
    },
    {
     "name": "stderr",
     "output_type": "stream",
     "text": [
      "C:\\Users\\sanch\\AppData\\Local\\Temp\\ipykernel_11992\\723683626.py:43: FutureWarning: The frame.append method is deprecated and will be removed from pandas in a future version. Use pandas.concat instead.\n",
      "  Data2023 = Data2023.append(pd.DataFrame(data), ignore_index=True)\n"
     ]
    },
    {
     "name": "stdout",
     "output_type": "stream",
     "text": [
      "https://www.baseball-reference.com/boxes/MIL/MIL202304280.shtml\n",
      "<Response [200]>\n",
      "Error: Índice fuera de rango. Se salta el enlace: https://www.baseball-reference.com/boxes/COL/COL202304280.shtml\n",
      "<Response [200]>\n",
      "Error: Índice fuera de rango. Se salta el enlace: https://www.baseball-reference.com/boxes/OAK/OAK202304280.shtml\n",
      "<Response [200]>\n"
     ]
    },
    {
     "name": "stderr",
     "output_type": "stream",
     "text": [
      "C:\\Users\\sanch\\AppData\\Local\\Temp\\ipykernel_11992\\723683626.py:43: FutureWarning: The frame.append method is deprecated and will be removed from pandas in a future version. Use pandas.concat instead.\n",
      "  Data2023 = Data2023.append(pd.DataFrame(data), ignore_index=True)\n"
     ]
    },
    {
     "name": "stdout",
     "output_type": "stream",
     "text": [
      "https://www.baseball-reference.com/boxes/LAN/LAN202304280.shtml\n",
      "<Response [200]>\n",
      "Error: Índice fuera de rango. Se salta el enlace: https://www.baseball-reference.com/boxes/DET/DET202304291.shtml\n",
      "<Response [200]>\n",
      "Error: Índice fuera de rango. Se salta el enlace: https://www.baseball-reference.com/boxes/WAS/WAS202304291.shtml\n",
      "<Response [200]>\n"
     ]
    },
    {
     "name": "stderr",
     "output_type": "stream",
     "text": [
      "C:\\Users\\sanch\\AppData\\Local\\Temp\\ipykernel_11992\\723683626.py:43: FutureWarning: The frame.append method is deprecated and will be removed from pandas in a future version. Use pandas.concat instead.\n",
      "  Data2023 = Data2023.append(pd.DataFrame(data), ignore_index=True)\n"
     ]
    },
    {
     "name": "stdout",
     "output_type": "stream",
     "text": [
      "https://www.baseball-reference.com/boxes/MIN/MIN202304290.shtml\n",
      "<Response [200]>\n",
      "Error: Índice fuera de rango. Se salta el enlace: https://www.baseball-reference.com/boxes/TOR/TOR202304290.shtml\n",
      "<Response [200]>\n"
     ]
    },
    {
     "name": "stderr",
     "output_type": "stream",
     "text": [
      "C:\\Users\\sanch\\AppData\\Local\\Temp\\ipykernel_11992\\723683626.py:43: FutureWarning: The frame.append method is deprecated and will be removed from pandas in a future version. Use pandas.concat instead.\n",
      "  Data2023 = Data2023.append(pd.DataFrame(data), ignore_index=True)\n"
     ]
    },
    {
     "name": "stdout",
     "output_type": "stream",
     "text": [
      "https://www.baseball-reference.com/boxes/MIA/MIA202304290.shtml\n",
      "<Response [200]>\n"
     ]
    },
    {
     "name": "stderr",
     "output_type": "stream",
     "text": [
      "C:\\Users\\sanch\\AppData\\Local\\Temp\\ipykernel_11992\\723683626.py:43: FutureWarning: The frame.append method is deprecated and will be removed from pandas in a future version. Use pandas.concat instead.\n",
      "  Data2023 = Data2023.append(pd.DataFrame(data), ignore_index=True)\n"
     ]
    },
    {
     "name": "stdout",
     "output_type": "stream",
     "text": [
      "https://www.baseball-reference.com/boxes/OAK/OAK202304290.shtml\n",
      "<Response [200]>\n",
      "Error: Índice fuera de rango. Se salta el enlace: https://www.baseball-reference.com/boxes/BOS/BOS202304290.shtml\n",
      "<Response [200]>\n",
      "Error: Índice fuera de rango. Se salta el enlace: https://www.baseball-reference.com/boxes/DET/DET202304292.shtml\n",
      "<Response [200]>\n"
     ]
    },
    {
     "name": "stderr",
     "output_type": "stream",
     "text": [
      "C:\\Users\\sanch\\AppData\\Local\\Temp\\ipykernel_11992\\723683626.py:43: FutureWarning: The frame.append method is deprecated and will be removed from pandas in a future version. Use pandas.concat instead.\n",
      "  Data2023 = Data2023.append(pd.DataFrame(data), ignore_index=True)\n"
     ]
    },
    {
     "name": "stdout",
     "output_type": "stream",
     "text": [
      "https://www.baseball-reference.com/boxes/HOU/HOU202304290.shtml\n",
      "<Response [200]>\n"
     ]
    },
    {
     "name": "stderr",
     "output_type": "stream",
     "text": [
      "C:\\Users\\sanch\\AppData\\Local\\Temp\\ipykernel_11992\\723683626.py:43: FutureWarning: The frame.append method is deprecated and will be removed from pandas in a future version. Use pandas.concat instead.\n",
      "  Data2023 = Data2023.append(pd.DataFrame(data), ignore_index=True)\n"
     ]
    },
    {
     "name": "stdout",
     "output_type": "stream",
     "text": [
      "https://www.baseball-reference.com/boxes/SDN/SDN202304290.shtml\n",
      "<Response [200]>\n",
      "Error: Índice fuera de rango. Se salta el enlace: https://www.baseball-reference.com/boxes/WAS/WAS202304292.shtml\n",
      "<Response [200]>\n"
     ]
    },
    {
     "name": "stderr",
     "output_type": "stream",
     "text": [
      "C:\\Users\\sanch\\AppData\\Local\\Temp\\ipykernel_11992\\723683626.py:43: FutureWarning: The frame.append method is deprecated and will be removed from pandas in a future version. Use pandas.concat instead.\n",
      "  Data2023 = Data2023.append(pd.DataFrame(data), ignore_index=True)\n"
     ]
    },
    {
     "name": "stdout",
     "output_type": "stream",
     "text": [
      "https://www.baseball-reference.com/boxes/TEX/TEX202304290.shtml\n",
      "<Response [200]>\n"
     ]
    },
    {
     "name": "stderr",
     "output_type": "stream",
     "text": [
      "C:\\Users\\sanch\\AppData\\Local\\Temp\\ipykernel_11992\\723683626.py:43: FutureWarning: The frame.append method is deprecated and will be removed from pandas in a future version. Use pandas.concat instead.\n",
      "  Data2023 = Data2023.append(pd.DataFrame(data), ignore_index=True)\n"
     ]
    },
    {
     "name": "stdout",
     "output_type": "stream",
     "text": [
      "https://www.baseball-reference.com/boxes/CHA/CHA202304290.shtml\n",
      "<Response [200]>\n"
     ]
    },
    {
     "name": "stderr",
     "output_type": "stream",
     "text": [
      "C:\\Users\\sanch\\AppData\\Local\\Temp\\ipykernel_11992\\723683626.py:43: FutureWarning: The frame.append method is deprecated and will be removed from pandas in a future version. Use pandas.concat instead.\n",
      "  Data2023 = Data2023.append(pd.DataFrame(data), ignore_index=True)\n"
     ]
    },
    {
     "name": "stdout",
     "output_type": "stream",
     "text": [
      "https://www.baseball-reference.com/boxes/MIL/MIL202304290.shtml\n",
      "<Response [200]>\n"
     ]
    },
    {
     "name": "stderr",
     "output_type": "stream",
     "text": [
      "C:\\Users\\sanch\\AppData\\Local\\Temp\\ipykernel_11992\\723683626.py:43: FutureWarning: The frame.append method is deprecated and will be removed from pandas in a future version. Use pandas.concat instead.\n",
      "  Data2023 = Data2023.append(pd.DataFrame(data), ignore_index=True)\n"
     ]
    },
    {
     "name": "stdout",
     "output_type": "stream",
     "text": [
      "https://www.baseball-reference.com/boxes/COL/COL202304290.shtml\n",
      "<Response [200]>\n"
     ]
    },
    {
     "name": "stderr",
     "output_type": "stream",
     "text": [
      "C:\\Users\\sanch\\AppData\\Local\\Temp\\ipykernel_11992\\723683626.py:43: FutureWarning: The frame.append method is deprecated and will be removed from pandas in a future version. Use pandas.concat instead.\n",
      "  Data2023 = Data2023.append(pd.DataFrame(data), ignore_index=True)\n"
     ]
    },
    {
     "name": "stdout",
     "output_type": "stream",
     "text": [
      "https://www.baseball-reference.com/boxes/LAN/LAN202304290.shtml\n",
      "<Response [200]>\n",
      "Error: Índice fuera de rango. Se salta el enlace: https://www.baseball-reference.com/boxes/MIA/MIA202304300.shtml\n",
      "<Response [200]>\n"
     ]
    },
    {
     "name": "stderr",
     "output_type": "stream",
     "text": [
      "C:\\Users\\sanch\\AppData\\Local\\Temp\\ipykernel_11992\\723683626.py:43: FutureWarning: The frame.append method is deprecated and will be removed from pandas in a future version. Use pandas.concat instead.\n",
      "  Data2023 = Data2023.append(pd.DataFrame(data), ignore_index=True)\n"
     ]
    },
    {
     "name": "stdout",
     "output_type": "stream",
     "text": [
      "https://www.baseball-reference.com/boxes/BOS/BOS202304300.shtml\n",
      "<Response [200]>\n"
     ]
    },
    {
     "name": "stderr",
     "output_type": "stream",
     "text": [
      "C:\\Users\\sanch\\AppData\\Local\\Temp\\ipykernel_11992\\723683626.py:43: FutureWarning: The frame.append method is deprecated and will be removed from pandas in a future version. Use pandas.concat instead.\n",
      "  Data2023 = Data2023.append(pd.DataFrame(data), ignore_index=True)\n"
     ]
    },
    {
     "name": "stdout",
     "output_type": "stream",
     "text": [
      "https://www.baseball-reference.com/boxes/WAS/WAS202304300.shtml\n",
      "<Response [200]>\n"
     ]
    },
    {
     "name": "stderr",
     "output_type": "stream",
     "text": [
      "C:\\Users\\sanch\\AppData\\Local\\Temp\\ipykernel_11992\\723683626.py:43: FutureWarning: The frame.append method is deprecated and will be removed from pandas in a future version. Use pandas.concat instead.\n",
      "  Data2023 = Data2023.append(pd.DataFrame(data), ignore_index=True)\n"
     ]
    },
    {
     "name": "stdout",
     "output_type": "stream",
     "text": [
      "https://www.baseball-reference.com/boxes/TOR/TOR202304300.shtml\n",
      "<Response [200]>\n",
      "Error: Índice fuera de rango. Se salta el enlace: https://www.baseball-reference.com/boxes/DET/DET202304300.shtml\n",
      "<Response [200]>\n",
      "Error: Índice fuera de rango. Se salta el enlace: https://www.baseball-reference.com/boxes/CHA/CHA202304300.shtml\n",
      "<Response [200]>\n",
      "Error: Índice fuera de rango. Se salta el enlace: https://www.baseball-reference.com/boxes/MIL/MIL202304300.shtml\n",
      "<Response [200]>\n"
     ]
    },
    {
     "name": "stderr",
     "output_type": "stream",
     "text": [
      "C:\\Users\\sanch\\AppData\\Local\\Temp\\ipykernel_11992\\723683626.py:43: FutureWarning: The frame.append method is deprecated and will be removed from pandas in a future version. Use pandas.concat instead.\n",
      "  Data2023 = Data2023.append(pd.DataFrame(data), ignore_index=True)\n"
     ]
    },
    {
     "name": "stdout",
     "output_type": "stream",
     "text": [
      "https://www.baseball-reference.com/boxes/MIN/MIN202304300.shtml\n",
      "<Response [200]>\n",
      "Error: Índice fuera de rango. Se salta el enlace: https://www.baseball-reference.com/boxes/TEX/TEX202304300.shtml\n",
      "<Response [200]>\n"
     ]
    },
    {
     "name": "stderr",
     "output_type": "stream",
     "text": [
      "C:\\Users\\sanch\\AppData\\Local\\Temp\\ipykernel_11992\\723683626.py:43: FutureWarning: The frame.append method is deprecated and will be removed from pandas in a future version. Use pandas.concat instead.\n",
      "  Data2023 = Data2023.append(pd.DataFrame(data), ignore_index=True)\n"
     ]
    },
    {
     "name": "stdout",
     "output_type": "stream",
     "text": [
      "https://www.baseball-reference.com/boxes/COL/COL202304300.shtml\n",
      "<Response [200]>\n"
     ]
    },
    {
     "name": "stderr",
     "output_type": "stream",
     "text": [
      "C:\\Users\\sanch\\AppData\\Local\\Temp\\ipykernel_11992\\723683626.py:43: FutureWarning: The frame.append method is deprecated and will be removed from pandas in a future version. Use pandas.concat instead.\n",
      "  Data2023 = Data2023.append(pd.DataFrame(data), ignore_index=True)\n"
     ]
    },
    {
     "name": "stdout",
     "output_type": "stream",
     "text": [
      "https://www.baseball-reference.com/boxes/SDN/SDN202304300.shtml\n",
      "<Response [200]>\n",
      "Error: Índice fuera de rango. Se salta el enlace: https://www.baseball-reference.com/boxes/OAK/OAK202304300.shtml\n",
      "<Response [200]>\n",
      "Error: Índice fuera de rango. Se salta el enlace: https://www.baseball-reference.com/boxes/LAN/LAN202304300.shtml\n",
      "<Response [200]>\n"
     ]
    },
    {
     "name": "stderr",
     "output_type": "stream",
     "text": [
      "C:\\Users\\sanch\\AppData\\Local\\Temp\\ipykernel_11992\\723683626.py:43: FutureWarning: The frame.append method is deprecated and will be removed from pandas in a future version. Use pandas.concat instead.\n",
      "  Data2023 = Data2023.append(pd.DataFrame(data), ignore_index=True)\n"
     ]
    },
    {
     "name": "stdout",
     "output_type": "stream",
     "text": [
      "https://www.baseball-reference.com/boxes/HOU/HOU202304300.shtml\n"
     ]
    }
   ],
   "source": [
    "for link in links4:\n",
    "    url = \"https://www.baseball-reference.com\" + link\n",
    "    try:\n",
    "        print(response)\n",
    "        Data2023 = Get_Game(url, Data2023)\n",
    "        print(url)\n",
    "        #print(response)\n",
    "        time.sleep(3)\n",
    "    except IndexError:\n",
    "        print(\"Error: Índice fuera de rango. Se salta el enlace:\", url)"
   ]
  },
  {
   "cell_type": "code",
   "execution_count": 509,
   "id": "f5db7c5c",
   "metadata": {},
   "outputs": [
    {
     "data": {
      "text/html": [
       "<div>\n",
       "<style scoped>\n",
       "    .dataframe tbody tr th:only-of-type {\n",
       "        vertical-align: middle;\n",
       "    }\n",
       "\n",
       "    .dataframe tbody tr th {\n",
       "        vertical-align: top;\n",
       "    }\n",
       "\n",
       "    .dataframe thead th {\n",
       "        text-align: right;\n",
       "    }\n",
       "</style>\n",
       "<table border=\"1\" class=\"dataframe\">\n",
       "  <thead>\n",
       "    <tr style=\"text-align: right;\">\n",
       "      <th></th>\n",
       "      <th>date</th>\n",
       "      <th>v_name</th>\n",
       "      <th>h_name</th>\n",
       "      <th>winning_pitcher_name</th>\n",
       "      <th>losing_pitcher_name</th>\n",
       "      <th>v_score</th>\n",
       "      <th>v_at_bats</th>\n",
       "      <th>v_hits</th>\n",
       "      <th>h_score</th>\n",
       "      <th>h_at_bats</th>\n",
       "      <th>h_hits</th>\n",
       "    </tr>\n",
       "  </thead>\n",
       "  <tbody>\n",
       "    <tr>\n",
       "      <th>0</th>\n",
       "      <td>20230401</td>\n",
       "      <td>Toronto Blue Jays</td>\n",
       "      <td>St. Louis Cardinals</td>\n",
       "      <td>Jack Flaherty</td>\n",
       "      <td>Kevin Gausman</td>\n",
       "      <td>1</td>\n",
       "      <td>29</td>\n",
       "      <td>3</td>\n",
       "      <td>4</td>\n",
       "      <td>33</td>\n",
       "      <td>10</td>\n",
       "    </tr>\n",
       "    <tr>\n",
       "      <th>1</th>\n",
       "      <td>20230401</td>\n",
       "      <td>Milwaukee Brewers</td>\n",
       "      <td>Chicago Cubs</td>\n",
       "      <td>Peter Strzelecki</td>\n",
       "      <td>Javier Assad</td>\n",
       "      <td>3</td>\n",
       "      <td>32</td>\n",
       "      <td>6</td>\n",
       "      <td>1</td>\n",
       "      <td>31</td>\n",
       "      <td>5</td>\n",
       "    </tr>\n",
       "    <tr>\n",
       "      <th>2</th>\n",
       "      <td>20230401</td>\n",
       "      <td>Philadelphia Phillies</td>\n",
       "      <td>Texas Rangers</td>\n",
       "      <td>Nathan Eovaldi</td>\n",
       "      <td>Zack Wheeler</td>\n",
       "      <td>3</td>\n",
       "      <td>34</td>\n",
       "      <td>9</td>\n",
       "      <td>16</td>\n",
       "      <td>40</td>\n",
       "      <td>17</td>\n",
       "    </tr>\n",
       "    <tr>\n",
       "      <th>3</th>\n",
       "      <td>20230401</td>\n",
       "      <td>Atlanta Braves</td>\n",
       "      <td>Washington Nationals</td>\n",
       "      <td>Spencer Strider</td>\n",
       "      <td>Josiah Gray</td>\n",
       "      <td>7</td>\n",
       "      <td>35</td>\n",
       "      <td>11</td>\n",
       "      <td>1</td>\n",
       "      <td>30</td>\n",
       "      <td>5</td>\n",
       "    </tr>\n",
       "    <tr>\n",
       "      <th>4</th>\n",
       "      <td>20230401</td>\n",
       "      <td>Los Angeles Angels</td>\n",
       "      <td>Oakland Athletics</td>\n",
       "      <td>Patrick Sandoval</td>\n",
       "      <td>Shintaro Fujinami</td>\n",
       "      <td>13</td>\n",
       "      <td>36</td>\n",
       "      <td>11</td>\n",
       "      <td>1</td>\n",
       "      <td>30</td>\n",
       "      <td>5</td>\n",
       "    </tr>\n",
       "    <tr>\n",
       "      <th>...</th>\n",
       "      <td>...</td>\n",
       "      <td>...</td>\n",
       "      <td>...</td>\n",
       "      <td>...</td>\n",
       "      <td>...</td>\n",
       "      <td>...</td>\n",
       "      <td>...</td>\n",
       "      <td>...</td>\n",
       "      <td>...</td>\n",
       "      <td>...</td>\n",
       "      <td>...</td>\n",
       "    </tr>\n",
       "    <tr>\n",
       "      <th>199</th>\n",
       "      <td>20230430</td>\n",
       "      <td>Seattle Mariners</td>\n",
       "      <td>Toronto Blue Jays</td>\n",
       "      <td>Paul Sewald</td>\n",
       "      <td>Zach Pop</td>\n",
       "      <td>10</td>\n",
       "      <td>36</td>\n",
       "      <td>7</td>\n",
       "      <td>8</td>\n",
       "      <td>44</td>\n",
       "      <td>14</td>\n",
       "    </tr>\n",
       "    <tr>\n",
       "      <th>200</th>\n",
       "      <td>20230430</td>\n",
       "      <td>Kansas City Royals</td>\n",
       "      <td>Minnesota Twins</td>\n",
       "      <td>Sonny Gray</td>\n",
       "      <td>Brady Singer</td>\n",
       "      <td>4</td>\n",
       "      <td>37</td>\n",
       "      <td>10</td>\n",
       "      <td>8</td>\n",
       "      <td>31</td>\n",
       "      <td>7</td>\n",
       "    </tr>\n",
       "    <tr>\n",
       "      <th>201</th>\n",
       "      <td>20230430</td>\n",
       "      <td>Arizona Diamondbacks</td>\n",
       "      <td>Colorado Rockies</td>\n",
       "      <td>Austin Gomber</td>\n",
       "      <td>Ryne Nelson</td>\n",
       "      <td>4</td>\n",
       "      <td>33</td>\n",
       "      <td>7</td>\n",
       "      <td>12</td>\n",
       "      <td>38</td>\n",
       "      <td>16</td>\n",
       "    </tr>\n",
       "    <tr>\n",
       "      <th>202</th>\n",
       "      <td>20230430</td>\n",
       "      <td>San Francisco Giants</td>\n",
       "      <td>San Diego Padres</td>\n",
       "      <td>Luis García</td>\n",
       "      <td>Tyler Rogers</td>\n",
       "      <td>4</td>\n",
       "      <td>36</td>\n",
       "      <td>9</td>\n",
       "      <td>6</td>\n",
       "      <td>33</td>\n",
       "      <td>10</td>\n",
       "    </tr>\n",
       "    <tr>\n",
       "      <th>203</th>\n",
       "      <td>20230430</td>\n",
       "      <td>Philadelphia Phillies</td>\n",
       "      <td>Houston Astros</td>\n",
       "      <td>José Urquidy</td>\n",
       "      <td>Bailey Falter</td>\n",
       "      <td>3</td>\n",
       "      <td>33</td>\n",
       "      <td>5</td>\n",
       "      <td>4</td>\n",
       "      <td>31</td>\n",
       "      <td>9</td>\n",
       "    </tr>\n",
       "  </tbody>\n",
       "</table>\n",
       "<p>204 rows × 11 columns</p>\n",
       "</div>"
      ],
      "text/plain": [
       "         date                 v_name                h_name  \\\n",
       "0    20230401      Toronto Blue Jays   St. Louis Cardinals   \n",
       "1    20230401      Milwaukee Brewers          Chicago Cubs   \n",
       "2    20230401  Philadelphia Phillies         Texas Rangers   \n",
       "3    20230401         Atlanta Braves  Washington Nationals   \n",
       "4    20230401     Los Angeles Angels     Oakland Athletics   \n",
       "..        ...                    ...                   ...   \n",
       "199  20230430       Seattle Mariners     Toronto Blue Jays   \n",
       "200  20230430     Kansas City Royals       Minnesota Twins   \n",
       "201  20230430   Arizona Diamondbacks      Colorado Rockies   \n",
       "202  20230430   San Francisco Giants      San Diego Padres   \n",
       "203  20230430  Philadelphia Phillies        Houston Astros   \n",
       "\n",
       "    winning_pitcher_name losing_pitcher_name v_score v_at_bats v_hits h_score  \\\n",
       "0          Jack Flaherty       Kevin Gausman       1        29      3       4   \n",
       "1       Peter Strzelecki        Javier Assad       3        32      6       1   \n",
       "2         Nathan Eovaldi        Zack Wheeler       3        34      9      16   \n",
       "3        Spencer Strider         Josiah Gray       7        35     11       1   \n",
       "4       Patrick Sandoval   Shintaro Fujinami      13        36     11       1   \n",
       "..                   ...                 ...     ...       ...    ...     ...   \n",
       "199          Paul Sewald            Zach Pop      10        36      7       8   \n",
       "200           Sonny Gray        Brady Singer       4        37     10       8   \n",
       "201        Austin Gomber         Ryne Nelson       4        33      7      12   \n",
       "202          Luis García        Tyler Rogers       4        36      9       6   \n",
       "203         José Urquidy       Bailey Falter       3        33      5       4   \n",
       "\n",
       "    h_at_bats h_hits  \n",
       "0          33     10  \n",
       "1          31      5  \n",
       "2          40     17  \n",
       "3          30      5  \n",
       "4          30      5  \n",
       "..        ...    ...  \n",
       "199        44     14  \n",
       "200        31      7  \n",
       "201        38     16  \n",
       "202        33     10  \n",
       "203        31      9  \n",
       "\n",
       "[204 rows x 11 columns]"
      ]
     },
     "execution_count": 509,
     "metadata": {},
     "output_type": "execute_result"
    }
   ],
   "source": [
    "Data2023"
   ]
  },
  {
   "cell_type": "code",
   "execution_count": 512,
   "id": "339138d0",
   "metadata": {},
   "outputs": [
    {
     "name": "stdout",
     "output_type": "stream",
     "text": [
      "https://www.baseball-reference.com/boxes/?year=2023&month=5&day=1\n",
      "https://www.baseball-reference.com/boxes/?year=2023&month=5&day=2\n",
      "https://www.baseball-reference.com/boxes/?year=2023&month=5&day=3\n",
      "https://www.baseball-reference.com/boxes/?year=2023&month=5&day=4\n",
      "https://www.baseball-reference.com/boxes/?year=2023&month=5&day=5\n",
      "https://www.baseball-reference.com/boxes/?year=2023&month=5&day=6\n",
      "https://www.baseball-reference.com/boxes/?year=2023&month=5&day=7\n",
      "https://www.baseball-reference.com/boxes/?year=2023&month=5&day=8\n",
      "https://www.baseball-reference.com/boxes/?year=2023&month=5&day=9\n",
      "https://www.baseball-reference.com/boxes/?year=2023&month=5&day=10\n",
      "https://www.baseball-reference.com/boxes/?year=2023&month=5&day=11\n",
      "https://www.baseball-reference.com/boxes/?year=2023&month=5&day=12\n",
      "https://www.baseball-reference.com/boxes/?year=2023&month=5&day=13\n",
      "https://www.baseball-reference.com/boxes/?year=2023&month=5&day=14\n",
      "https://www.baseball-reference.com/boxes/?year=2023&month=5&day=15\n",
      "https://www.baseball-reference.com/boxes/?year=2023&month=5&day=16\n"
     ]
    }
   ],
   "source": [
    "#Mes 5\n",
    "links5 = []\n",
    "for i in range(1,17):\n",
    "    # URL de la página que quieres raspar\n",
    "    url = \"https://www.baseball-reference.com/boxes/?year=2023&month=5&day=\"+str(i)\n",
    "    print(url)\n",
    "    # Realizar la solicitud GET a la página\n",
    "    response = requests.get(url)\n",
    "    soup = BeautifulSoup(response.content, \"html.parser\")\n",
    "    time.sleep(.2)\n",
    "    enlaces = soup.select('table a')\n",
    "\n",
    "    links = []\n",
    "    for i in range(1,len(enlaces),3):\n",
    "        href = enlaces[i].get('href')\n",
    "        if href.startswith('/boxes'):\n",
    "            links5.append(href)\n",
    "            time.sleep(.1)\n",
    "    #links4.append(links)"
   ]
  },
  {
   "cell_type": "code",
   "execution_count": 513,
   "id": "f3b60479",
   "metadata": {},
   "outputs": [
    {
     "data": {
      "text/plain": [
       "161"
      ]
     },
     "execution_count": 513,
     "metadata": {},
     "output_type": "execute_result"
    }
   ],
   "source": [
    "len(links5)"
   ]
  },
  {
   "cell_type": "code",
   "execution_count": 514,
   "id": "69749727",
   "metadata": {},
   "outputs": [
    {
     "name": "stdout",
     "output_type": "stream",
     "text": [
      "<Response [200]>\n",
      "Error: Índice fuera de rango. Se salta el enlace: https://www.baseball-reference.com/boxes/NYN/NYN202305012.shtml\n",
      "<Response [200]>\n"
     ]
    },
    {
     "name": "stderr",
     "output_type": "stream",
     "text": [
      "C:\\Users\\sanch\\AppData\\Local\\Temp\\ipykernel_11992\\723683626.py:43: FutureWarning: The frame.append method is deprecated and will be removed from pandas in a future version. Use pandas.concat instead.\n",
      "  Data2023 = Data2023.append(pd.DataFrame(data), ignore_index=True)\n"
     ]
    },
    {
     "name": "stdout",
     "output_type": "stream",
     "text": [
      "https://www.baseball-reference.com/boxes/NYN/NYN202305011.shtml\n",
      "<Response [200]>\n"
     ]
    },
    {
     "name": "stderr",
     "output_type": "stream",
     "text": [
      "C:\\Users\\sanch\\AppData\\Local\\Temp\\ipykernel_11992\\723683626.py:43: FutureWarning: The frame.append method is deprecated and will be removed from pandas in a future version. Use pandas.concat instead.\n",
      "  Data2023 = Data2023.append(pd.DataFrame(data), ignore_index=True)\n"
     ]
    },
    {
     "name": "stdout",
     "output_type": "stream",
     "text": [
      "https://www.baseball-reference.com/boxes/NYA/NYA202305010.shtml\n",
      "<Response [200]>\n"
     ]
    },
    {
     "name": "stderr",
     "output_type": "stream",
     "text": [
      "C:\\Users\\sanch\\AppData\\Local\\Temp\\ipykernel_11992\\723683626.py:43: FutureWarning: The frame.append method is deprecated and will be removed from pandas in a future version. Use pandas.concat instead.\n",
      "  Data2023 = Data2023.append(pd.DataFrame(data), ignore_index=True)\n"
     ]
    },
    {
     "name": "stdout",
     "output_type": "stream",
     "text": [
      "https://www.baseball-reference.com/boxes/WAS/WAS202305010.shtml\n",
      "<Response [200]>\n",
      "Error: Índice fuera de rango. Se salta el enlace: https://www.baseball-reference.com/boxes/BOS/BOS202305010.shtml\n",
      "<Response [200]>\n"
     ]
    },
    {
     "name": "stderr",
     "output_type": "stream",
     "text": [
      "C:\\Users\\sanch\\AppData\\Local\\Temp\\ipykernel_11992\\723683626.py:43: FutureWarning: The frame.append method is deprecated and will be removed from pandas in a future version. Use pandas.concat instead.\n",
      "  Data2023 = Data2023.append(pd.DataFrame(data), ignore_index=True)\n"
     ]
    },
    {
     "name": "stdout",
     "output_type": "stream",
     "text": [
      "https://www.baseball-reference.com/boxes/HOU/HOU202305010.shtml\n",
      "<Response [200]>\n"
     ]
    },
    {
     "name": "stderr",
     "output_type": "stream",
     "text": [
      "C:\\Users\\sanch\\AppData\\Local\\Temp\\ipykernel_11992\\723683626.py:43: FutureWarning: The frame.append method is deprecated and will be removed from pandas in a future version. Use pandas.concat instead.\n",
      "  Data2023 = Data2023.append(pd.DataFrame(data), ignore_index=True)\n"
     ]
    },
    {
     "name": "stdout",
     "output_type": "stream",
     "text": [
      "https://www.baseball-reference.com/boxes/SDN/SDN202305010.shtml\n",
      "<Response [200]>\n"
     ]
    },
    {
     "name": "stderr",
     "output_type": "stream",
     "text": [
      "C:\\Users\\sanch\\AppData\\Local\\Temp\\ipykernel_11992\\723683626.py:43: FutureWarning: The frame.append method is deprecated and will be removed from pandas in a future version. Use pandas.concat instead.\n",
      "  Data2023 = Data2023.append(pd.DataFrame(data), ignore_index=True)\n"
     ]
    },
    {
     "name": "stdout",
     "output_type": "stream",
     "text": [
      "https://www.baseball-reference.com/boxes/LAN/LAN202305010.shtml\n",
      "<Response [200]>\n"
     ]
    },
    {
     "name": "stderr",
     "output_type": "stream",
     "text": [
      "C:\\Users\\sanch\\AppData\\Local\\Temp\\ipykernel_11992\\723683626.py:43: FutureWarning: The frame.append method is deprecated and will be removed from pandas in a future version. Use pandas.concat instead.\n",
      "  Data2023 = Data2023.append(pd.DataFrame(data), ignore_index=True)\n"
     ]
    },
    {
     "name": "stdout",
     "output_type": "stream",
     "text": [
      "https://www.baseball-reference.com/boxes/MIA/MIA202305020.shtml\n",
      "<Response [200]>\n"
     ]
    },
    {
     "name": "stderr",
     "output_type": "stream",
     "text": [
      "C:\\Users\\sanch\\AppData\\Local\\Temp\\ipykernel_11992\\723683626.py:43: FutureWarning: The frame.append method is deprecated and will be removed from pandas in a future version. Use pandas.concat instead.\n",
      "  Data2023 = Data2023.append(pd.DataFrame(data), ignore_index=True)\n"
     ]
    },
    {
     "name": "stdout",
     "output_type": "stream",
     "text": [
      "https://www.baseball-reference.com/boxes/TBA/TBA202305020.shtml\n",
      "<Response [200]>\n",
      "Error: Índice fuera de rango. Se salta el enlace: https://www.baseball-reference.com/boxes/NYA/NYA202305020.shtml\n",
      "<Response [200]>\n",
      "Error: Índice fuera de rango. Se salta el enlace: https://www.baseball-reference.com/boxes/WAS/WAS202305020.shtml\n",
      "<Response [200]>\n",
      "Error: Índice fuera de rango. Se salta el enlace: https://www.baseball-reference.com/boxes/BOS/BOS202305020.shtml\n",
      "<Response [200]>\n",
      "Error: Índice fuera de rango. Se salta el enlace: https://www.baseball-reference.com/boxes/CHA/CHA202305020.shtml\n",
      "<Response [200]>\n",
      "Error: Índice fuera de rango. Se salta el enlace: https://www.baseball-reference.com/boxes/KCA/KCA202305020.shtml\n",
      "<Response [200]>\n"
     ]
    },
    {
     "name": "stderr",
     "output_type": "stream",
     "text": [
      "C:\\Users\\sanch\\AppData\\Local\\Temp\\ipykernel_11992\\723683626.py:43: FutureWarning: The frame.append method is deprecated and will be removed from pandas in a future version. Use pandas.concat instead.\n",
      "  Data2023 = Data2023.append(pd.DataFrame(data), ignore_index=True)\n"
     ]
    },
    {
     "name": "stdout",
     "output_type": "stream",
     "text": [
      "https://www.baseball-reference.com/boxes/SLN/SLN202305020.shtml\n",
      "<Response [200]>\n"
     ]
    },
    {
     "name": "stderr",
     "output_type": "stream",
     "text": [
      "C:\\Users\\sanch\\AppData\\Local\\Temp\\ipykernel_11992\\723683626.py:43: FutureWarning: The frame.append method is deprecated and will be removed from pandas in a future version. Use pandas.concat instead.\n",
      "  Data2023 = Data2023.append(pd.DataFrame(data), ignore_index=True)\n"
     ]
    },
    {
     "name": "stdout",
     "output_type": "stream",
     "text": [
      "https://www.baseball-reference.com/boxes/TEX/TEX202305020.shtml\n",
      "<Response [200]>\n"
     ]
    },
    {
     "name": "stderr",
     "output_type": "stream",
     "text": [
      "C:\\Users\\sanch\\AppData\\Local\\Temp\\ipykernel_11992\\723683626.py:43: FutureWarning: The frame.append method is deprecated and will be removed from pandas in a future version. Use pandas.concat instead.\n",
      "  Data2023 = Data2023.append(pd.DataFrame(data), ignore_index=True)\n"
     ]
    },
    {
     "name": "stdout",
     "output_type": "stream",
     "text": [
      "https://www.baseball-reference.com/boxes/HOU/HOU202305020.shtml\n",
      "<Response [200]>\n",
      "Error: Índice fuera de rango. Se salta el enlace: https://www.baseball-reference.com/boxes/COL/COL202305020.shtml\n",
      "<Response [200]>\n"
     ]
    },
    {
     "name": "stderr",
     "output_type": "stream",
     "text": [
      "C:\\Users\\sanch\\AppData\\Local\\Temp\\ipykernel_11992\\723683626.py:43: FutureWarning: The frame.append method is deprecated and will be removed from pandas in a future version. Use pandas.concat instead.\n",
      "  Data2023 = Data2023.append(pd.DataFrame(data), ignore_index=True)\n"
     ]
    },
    {
     "name": "stdout",
     "output_type": "stream",
     "text": [
      "https://www.baseball-reference.com/boxes/OAK/OAK202305020.shtml\n",
      "<Response [200]>\n"
     ]
    },
    {
     "name": "stderr",
     "output_type": "stream",
     "text": [
      "C:\\Users\\sanch\\AppData\\Local\\Temp\\ipykernel_11992\\723683626.py:43: FutureWarning: The frame.append method is deprecated and will be removed from pandas in a future version. Use pandas.concat instead.\n",
      "  Data2023 = Data2023.append(pd.DataFrame(data), ignore_index=True)\n"
     ]
    },
    {
     "name": "stdout",
     "output_type": "stream",
     "text": [
      "https://www.baseball-reference.com/boxes/SDN/SDN202305020.shtml\n",
      "<Response [200]>\n"
     ]
    },
    {
     "name": "stderr",
     "output_type": "stream",
     "text": [
      "C:\\Users\\sanch\\AppData\\Local\\Temp\\ipykernel_11992\\723683626.py:43: FutureWarning: The frame.append method is deprecated and will be removed from pandas in a future version. Use pandas.concat instead.\n",
      "  Data2023 = Data2023.append(pd.DataFrame(data), ignore_index=True)\n"
     ]
    },
    {
     "name": "stdout",
     "output_type": "stream",
     "text": [
      "https://www.baseball-reference.com/boxes/LAN/LAN202305020.shtml\n",
      "<Response [200]>\n",
      "Error: Índice fuera de rango. Se salta el enlace: https://www.baseball-reference.com/boxes/DET/DET202305031.shtml\n",
      "<Response [200]>\n"
     ]
    },
    {
     "name": "stderr",
     "output_type": "stream",
     "text": [
      "C:\\Users\\sanch\\AppData\\Local\\Temp\\ipykernel_11992\\723683626.py:43: FutureWarning: The frame.append method is deprecated and will be removed from pandas in a future version. Use pandas.concat instead.\n",
      "  Data2023 = Data2023.append(pd.DataFrame(data), ignore_index=True)\n"
     ]
    },
    {
     "name": "stdout",
     "output_type": "stream",
     "text": [
      "https://www.baseball-reference.com/boxes/TEX/TEX202305030.shtml\n",
      "<Response [200]>\n",
      "Error: Índice fuera de rango. Se salta el enlace: https://www.baseball-reference.com/boxes/HOU/HOU202305030.shtml\n",
      "<Response [200]>\n"
     ]
    },
    {
     "name": "stderr",
     "output_type": "stream",
     "text": [
      "C:\\Users\\sanch\\AppData\\Local\\Temp\\ipykernel_11992\\723683626.py:43: FutureWarning: The frame.append method is deprecated and will be removed from pandas in a future version. Use pandas.concat instead.\n",
      "  Data2023 = Data2023.append(pd.DataFrame(data), ignore_index=True)\n"
     ]
    },
    {
     "name": "stdout",
     "output_type": "stream",
     "text": [
      "https://www.baseball-reference.com/boxes/LAN/LAN202305030.shtml\n",
      "<Response [200]>\n"
     ]
    },
    {
     "name": "stderr",
     "output_type": "stream",
     "text": [
      "C:\\Users\\sanch\\AppData\\Local\\Temp\\ipykernel_11992\\723683626.py:43: FutureWarning: The frame.append method is deprecated and will be removed from pandas in a future version. Use pandas.concat instead.\n",
      "  Data2023 = Data2023.append(pd.DataFrame(data), ignore_index=True)\n"
     ]
    },
    {
     "name": "stdout",
     "output_type": "stream",
     "text": [
      "https://www.baseball-reference.com/boxes/SDN/SDN202305030.shtml\n",
      "<Response [200]>\n",
      "Error: Índice fuera de rango. Se salta el enlace: https://www.baseball-reference.com/boxes/DET/DET202305032.shtml\n",
      "<Response [200]>\n"
     ]
    },
    {
     "name": "stderr",
     "output_type": "stream",
     "text": [
      "C:\\Users\\sanch\\AppData\\Local\\Temp\\ipykernel_11992\\723683626.py:43: FutureWarning: The frame.append method is deprecated and will be removed from pandas in a future version. Use pandas.concat instead.\n",
      "  Data2023 = Data2023.append(pd.DataFrame(data), ignore_index=True)\n"
     ]
    },
    {
     "name": "stdout",
     "output_type": "stream",
     "text": [
      "https://www.baseball-reference.com/boxes/MIA/MIA202305030.shtml\n",
      "<Response [200]>\n"
     ]
    },
    {
     "name": "stderr",
     "output_type": "stream",
     "text": [
      "C:\\Users\\sanch\\AppData\\Local\\Temp\\ipykernel_11992\\723683626.py:43: FutureWarning: The frame.append method is deprecated and will be removed from pandas in a future version. Use pandas.concat instead.\n",
      "  Data2023 = Data2023.append(pd.DataFrame(data), ignore_index=True)\n"
     ]
    },
    {
     "name": "stdout",
     "output_type": "stream",
     "text": [
      "https://www.baseball-reference.com/boxes/TBA/TBA202305030.shtml\n",
      "<Response [200]>\n"
     ]
    },
    {
     "name": "stderr",
     "output_type": "stream",
     "text": [
      "C:\\Users\\sanch\\AppData\\Local\\Temp\\ipykernel_11992\\723683626.py:43: FutureWarning: The frame.append method is deprecated and will be removed from pandas in a future version. Use pandas.concat instead.\n",
      "  Data2023 = Data2023.append(pd.DataFrame(data), ignore_index=True)\n"
     ]
    },
    {
     "name": "stdout",
     "output_type": "stream",
     "text": [
      "https://www.baseball-reference.com/boxes/NYA/NYA202305030.shtml\n",
      "<Response [200]>\n"
     ]
    },
    {
     "name": "stderr",
     "output_type": "stream",
     "text": [
      "C:\\Users\\sanch\\AppData\\Local\\Temp\\ipykernel_11992\\723683626.py:43: FutureWarning: The frame.append method is deprecated and will be removed from pandas in a future version. Use pandas.concat instead.\n",
      "  Data2023 = Data2023.append(pd.DataFrame(data), ignore_index=True)\n"
     ]
    },
    {
     "name": "stdout",
     "output_type": "stream",
     "text": [
      "https://www.baseball-reference.com/boxes/WAS/WAS202305030.shtml\n",
      "<Response [200]>\n"
     ]
    },
    {
     "name": "stderr",
     "output_type": "stream",
     "text": [
      "C:\\Users\\sanch\\AppData\\Local\\Temp\\ipykernel_11992\\723683626.py:43: FutureWarning: The frame.append method is deprecated and will be removed from pandas in a future version. Use pandas.concat instead.\n",
      "  Data2023 = Data2023.append(pd.DataFrame(data), ignore_index=True)\n"
     ]
    },
    {
     "name": "stdout",
     "output_type": "stream",
     "text": [
      "https://www.baseball-reference.com/boxes/BOS/BOS202305030.shtml\n",
      "<Response [200]>\n",
      "Error: Índice fuera de rango. Se salta el enlace: https://www.baseball-reference.com/boxes/CHA/CHA202305030.shtml\n",
      "<Response [200]>\n",
      "Error: Índice fuera de rango. Se salta el enlace: https://www.baseball-reference.com/boxes/KCA/KCA202305030.shtml\n",
      "<Response [200]>\n",
      "Error: Índice fuera de rango. Se salta el enlace: https://www.baseball-reference.com/boxes/SLN/SLN202305030.shtml\n",
      "<Response [200]>\n"
     ]
    },
    {
     "name": "stderr",
     "output_type": "stream",
     "text": [
      "C:\\Users\\sanch\\AppData\\Local\\Temp\\ipykernel_11992\\723683626.py:43: FutureWarning: The frame.append method is deprecated and will be removed from pandas in a future version. Use pandas.concat instead.\n",
      "  Data2023 = Data2023.append(pd.DataFrame(data), ignore_index=True)\n"
     ]
    },
    {
     "name": "stdout",
     "output_type": "stream",
     "text": [
      "https://www.baseball-reference.com/boxes/COL/COL202305030.shtml\n",
      "<Response [200]>\n"
     ]
    },
    {
     "name": "stderr",
     "output_type": "stream",
     "text": [
      "C:\\Users\\sanch\\AppData\\Local\\Temp\\ipykernel_11992\\723683626.py:43: FutureWarning: The frame.append method is deprecated and will be removed from pandas in a future version. Use pandas.concat instead.\n",
      "  Data2023 = Data2023.append(pd.DataFrame(data), ignore_index=True)\n"
     ]
    },
    {
     "name": "stdout",
     "output_type": "stream",
     "text": [
      "https://www.baseball-reference.com/boxes/OAK/OAK202305030.shtml\n",
      "<Response [200]>\n"
     ]
    },
    {
     "name": "stderr",
     "output_type": "stream",
     "text": [
      "C:\\Users\\sanch\\AppData\\Local\\Temp\\ipykernel_11992\\723683626.py:43: FutureWarning: The frame.append method is deprecated and will be removed from pandas in a future version. Use pandas.concat instead.\n",
      "  Data2023 = Data2023.append(pd.DataFrame(data), ignore_index=True)\n"
     ]
    },
    {
     "name": "stdout",
     "output_type": "stream",
     "text": [
      "https://www.baseball-reference.com/boxes/CHN/CHN202305050.shtml\n",
      "<Response [200]>\n"
     ]
    },
    {
     "name": "stderr",
     "output_type": "stream",
     "text": [
      "C:\\Users\\sanch\\AppData\\Local\\Temp\\ipykernel_11992\\723683626.py:43: FutureWarning: The frame.append method is deprecated and will be removed from pandas in a future version. Use pandas.concat instead.\n",
      "  Data2023 = Data2023.append(pd.DataFrame(data), ignore_index=True)\n"
     ]
    },
    {
     "name": "stdout",
     "output_type": "stream",
     "text": [
      "https://www.baseball-reference.com/boxes/PIT/PIT202305050.shtml\n",
      "<Response [200]>\n"
     ]
    },
    {
     "name": "stderr",
     "output_type": "stream",
     "text": [
      "C:\\Users\\sanch\\AppData\\Local\\Temp\\ipykernel_11992\\723683626.py:43: FutureWarning: The frame.append method is deprecated and will be removed from pandas in a future version. Use pandas.concat instead.\n",
      "  Data2023 = Data2023.append(pd.DataFrame(data), ignore_index=True)\n"
     ]
    },
    {
     "name": "stdout",
     "output_type": "stream",
     "text": [
      "https://www.baseball-reference.com/boxes/CIN/CIN202305050.shtml\n",
      "<Response [200]>\n"
     ]
    },
    {
     "name": "stderr",
     "output_type": "stream",
     "text": [
      "C:\\Users\\sanch\\AppData\\Local\\Temp\\ipykernel_11992\\723683626.py:43: FutureWarning: The frame.append method is deprecated and will be removed from pandas in a future version. Use pandas.concat instead.\n",
      "  Data2023 = Data2023.append(pd.DataFrame(data), ignore_index=True)\n"
     ]
    },
    {
     "name": "stdout",
     "output_type": "stream",
     "text": [
      "https://www.baseball-reference.com/boxes/TBA/TBA202305050.shtml\n",
      "<Response [200]>\n",
      "Error: Índice fuera de rango. Se salta el enlace: https://www.baseball-reference.com/boxes/PHI/PHI202305050.shtml\n",
      "<Response [200]>\n",
      "Error: Índice fuera de rango. Se salta el enlace: https://www.baseball-reference.com/boxes/CLE/CLE202305050.shtml\n",
      "<Response [200]>\n"
     ]
    },
    {
     "name": "stderr",
     "output_type": "stream",
     "text": [
      "C:\\Users\\sanch\\AppData\\Local\\Temp\\ipykernel_11992\\723683626.py:43: FutureWarning: The frame.append method is deprecated and will be removed from pandas in a future version. Use pandas.concat instead.\n",
      "  Data2023 = Data2023.append(pd.DataFrame(data), ignore_index=True)\n"
     ]
    },
    {
     "name": "stdout",
     "output_type": "stream",
     "text": [
      "https://www.baseball-reference.com/boxes/NYN/NYN202305050.shtml\n",
      "<Response [200]>\n"
     ]
    },
    {
     "name": "stderr",
     "output_type": "stream",
     "text": [
      "C:\\Users\\sanch\\AppData\\Local\\Temp\\ipykernel_11992\\723683626.py:43: FutureWarning: The frame.append method is deprecated and will be removed from pandas in a future version. Use pandas.concat instead.\n",
      "  Data2023 = Data2023.append(pd.DataFrame(data), ignore_index=True)\n"
     ]
    },
    {
     "name": "stdout",
     "output_type": "stream",
     "text": [
      "https://www.baseball-reference.com/boxes/ATL/ATL202305050.shtml\n",
      "<Response [200]>\n",
      "Error: Índice fuera de rango. Se salta el enlace: https://www.baseball-reference.com/boxes/KCA/KCA202305050.shtml\n",
      "<Response [200]>\n"
     ]
    },
    {
     "name": "stderr",
     "output_type": "stream",
     "text": [
      "C:\\Users\\sanch\\AppData\\Local\\Temp\\ipykernel_11992\\723683626.py:43: FutureWarning: The frame.append method is deprecated and will be removed from pandas in a future version. Use pandas.concat instead.\n",
      "  Data2023 = Data2023.append(pd.DataFrame(data), ignore_index=True)\n"
     ]
    },
    {
     "name": "stdout",
     "output_type": "stream",
     "text": [
      "https://www.baseball-reference.com/boxes/SLN/SLN202305050.shtml\n",
      "<Response [200]>\n",
      "Error: Índice fuera de rango. Se salta el enlace: https://www.baseball-reference.com/boxes/ANA/ANA202305050.shtml\n",
      "<Response [200]>\n"
     ]
    },
    {
     "name": "stderr",
     "output_type": "stream",
     "text": [
      "C:\\Users\\sanch\\AppData\\Local\\Temp\\ipykernel_11992\\723683626.py:43: FutureWarning: The frame.append method is deprecated and will be removed from pandas in a future version. Use pandas.concat instead.\n",
      "  Data2023 = Data2023.append(pd.DataFrame(data), ignore_index=True)\n"
     ]
    },
    {
     "name": "stdout",
     "output_type": "stream",
     "text": [
      "https://www.baseball-reference.com/boxes/ARI/ARI202305050.shtml\n",
      "<Response [200]>\n"
     ]
    },
    {
     "name": "stderr",
     "output_type": "stream",
     "text": [
      "C:\\Users\\sanch\\AppData\\Local\\Temp\\ipykernel_11992\\723683626.py:43: FutureWarning: The frame.append method is deprecated and will be removed from pandas in a future version. Use pandas.concat instead.\n",
      "  Data2023 = Data2023.append(pd.DataFrame(data), ignore_index=True)\n"
     ]
    },
    {
     "name": "stdout",
     "output_type": "stream",
     "text": [
      "https://www.baseball-reference.com/boxes/SDN/SDN202305050.shtml\n",
      "<Response [200]>\n",
      "Error: Índice fuera de rango. Se salta el enlace: https://www.baseball-reference.com/boxes/SEA/SEA202305050.shtml\n",
      "<Response [200]>\n"
     ]
    },
    {
     "name": "stderr",
     "output_type": "stream",
     "text": [
      "C:\\Users\\sanch\\AppData\\Local\\Temp\\ipykernel_11992\\723683626.py:43: FutureWarning: The frame.append method is deprecated and will be removed from pandas in a future version. Use pandas.concat instead.\n",
      "  Data2023 = Data2023.append(pd.DataFrame(data), ignore_index=True)\n"
     ]
    },
    {
     "name": "stdout",
     "output_type": "stream",
     "text": [
      "https://www.baseball-reference.com/boxes/SFN/SFN202305050.shtml\n",
      "<Response [200]>\n"
     ]
    },
    {
     "name": "stderr",
     "output_type": "stream",
     "text": [
      "C:\\Users\\sanch\\AppData\\Local\\Temp\\ipykernel_11992\\723683626.py:43: FutureWarning: The frame.append method is deprecated and will be removed from pandas in a future version. Use pandas.concat instead.\n",
      "  Data2023 = Data2023.append(pd.DataFrame(data), ignore_index=True)\n"
     ]
    },
    {
     "name": "stdout",
     "output_type": "stream",
     "text": [
      "https://www.baseball-reference.com/boxes/SLN/SLN202305060.shtml\n",
      "<Response [200]>\n"
     ]
    },
    {
     "name": "stderr",
     "output_type": "stream",
     "text": [
      "C:\\Users\\sanch\\AppData\\Local\\Temp\\ipykernel_11992\\723683626.py:43: FutureWarning: The frame.append method is deprecated and will be removed from pandas in a future version. Use pandas.concat instead.\n",
      "  Data2023 = Data2023.append(pd.DataFrame(data), ignore_index=True)\n"
     ]
    },
    {
     "name": "stdout",
     "output_type": "stream",
     "text": [
      "https://www.baseball-reference.com/boxes/CHN/CHN202305060.shtml\n",
      "<Response [200]>\n",
      "Error: Índice fuera de rango. Se salta el enlace: https://www.baseball-reference.com/boxes/NYN/NYN202305060.shtml\n",
      "<Response [200]>\n"
     ]
    },
    {
     "name": "stderr",
     "output_type": "stream",
     "text": [
      "C:\\Users\\sanch\\AppData\\Local\\Temp\\ipykernel_11992\\723683626.py:43: FutureWarning: The frame.append method is deprecated and will be removed from pandas in a future version. Use pandas.concat instead.\n",
      "  Data2023 = Data2023.append(pd.DataFrame(data), ignore_index=True)\n"
     ]
    },
    {
     "name": "stdout",
     "output_type": "stream",
     "text": [
      "https://www.baseball-reference.com/boxes/TBA/TBA202305060.shtml\n",
      "<Response [200]>\n"
     ]
    },
    {
     "name": "stderr",
     "output_type": "stream",
     "text": [
      "C:\\Users\\sanch\\AppData\\Local\\Temp\\ipykernel_11992\\723683626.py:43: FutureWarning: The frame.append method is deprecated and will be removed from pandas in a future version. Use pandas.concat instead.\n",
      "  Data2023 = Data2023.append(pd.DataFrame(data), ignore_index=True)\n"
     ]
    },
    {
     "name": "stdout",
     "output_type": "stream",
     "text": [
      "https://www.baseball-reference.com/boxes/CLE/CLE202305060.shtml\n",
      "<Response [200]>\n"
     ]
    },
    {
     "name": "stderr",
     "output_type": "stream",
     "text": [
      "C:\\Users\\sanch\\AppData\\Local\\Temp\\ipykernel_11992\\723683626.py:43: FutureWarning: The frame.append method is deprecated and will be removed from pandas in a future version. Use pandas.concat instead.\n",
      "  Data2023 = Data2023.append(pd.DataFrame(data), ignore_index=True)\n"
     ]
    },
    {
     "name": "stdout",
     "output_type": "stream",
     "text": [
      "https://www.baseball-reference.com/boxes/PIT/PIT202305060.shtml\n",
      "<Response [200]>\n"
     ]
    },
    {
     "name": "stderr",
     "output_type": "stream",
     "text": [
      "C:\\Users\\sanch\\AppData\\Local\\Temp\\ipykernel_11992\\723683626.py:43: FutureWarning: The frame.append method is deprecated and will be removed from pandas in a future version. Use pandas.concat instead.\n",
      "  Data2023 = Data2023.append(pd.DataFrame(data), ignore_index=True)\n"
     ]
    },
    {
     "name": "stdout",
     "output_type": "stream",
     "text": [
      "https://www.baseball-reference.com/boxes/CIN/CIN202305060.shtml\n",
      "<Response [200]>\n"
     ]
    },
    {
     "name": "stderr",
     "output_type": "stream",
     "text": [
      "C:\\Users\\sanch\\AppData\\Local\\Temp\\ipykernel_11992\\723683626.py:43: FutureWarning: The frame.append method is deprecated and will be removed from pandas in a future version. Use pandas.concat instead.\n",
      "  Data2023 = Data2023.append(pd.DataFrame(data), ignore_index=True)\n"
     ]
    },
    {
     "name": "stdout",
     "output_type": "stream",
     "text": [
      "https://www.baseball-reference.com/boxes/KCA/KCA202305060.shtml\n",
      "<Response [200]>\n"
     ]
    },
    {
     "name": "stderr",
     "output_type": "stream",
     "text": [
      "C:\\Users\\sanch\\AppData\\Local\\Temp\\ipykernel_11992\\723683626.py:43: FutureWarning: The frame.append method is deprecated and will be removed from pandas in a future version. Use pandas.concat instead.\n",
      "  Data2023 = Data2023.append(pd.DataFrame(data), ignore_index=True)\n"
     ]
    },
    {
     "name": "stdout",
     "output_type": "stream",
     "text": [
      "https://www.baseball-reference.com/boxes/ATL/ATL202305060.shtml\n",
      "<Response [200]>\n"
     ]
    },
    {
     "name": "stderr",
     "output_type": "stream",
     "text": [
      "C:\\Users\\sanch\\AppData\\Local\\Temp\\ipykernel_11992\\723683626.py:43: FutureWarning: The frame.append method is deprecated and will be removed from pandas in a future version. Use pandas.concat instead.\n",
      "  Data2023 = Data2023.append(pd.DataFrame(data), ignore_index=True)\n"
     ]
    },
    {
     "name": "stdout",
     "output_type": "stream",
     "text": [
      "https://www.baseball-reference.com/boxes/PHI/PHI202305060.shtml\n",
      "<Response [200]>\n"
     ]
    },
    {
     "name": "stderr",
     "output_type": "stream",
     "text": [
      "C:\\Users\\sanch\\AppData\\Local\\Temp\\ipykernel_11992\\723683626.py:43: FutureWarning: The frame.append method is deprecated and will be removed from pandas in a future version. Use pandas.concat instead.\n",
      "  Data2023 = Data2023.append(pd.DataFrame(data), ignore_index=True)\n"
     ]
    },
    {
     "name": "stdout",
     "output_type": "stream",
     "text": [
      "https://www.baseball-reference.com/boxes/SFN/SFN202305060.shtml\n",
      "<Response [200]>\n"
     ]
    },
    {
     "name": "stderr",
     "output_type": "stream",
     "text": [
      "C:\\Users\\sanch\\AppData\\Local\\Temp\\ipykernel_11992\\723683626.py:43: FutureWarning: The frame.append method is deprecated and will be removed from pandas in a future version. Use pandas.concat instead.\n",
      "  Data2023 = Data2023.append(pd.DataFrame(data), ignore_index=True)\n"
     ]
    },
    {
     "name": "stdout",
     "output_type": "stream",
     "text": [
      "https://www.baseball-reference.com/boxes/ARI/ARI202305060.shtml\n",
      "<Response [200]>\n"
     ]
    },
    {
     "name": "stderr",
     "output_type": "stream",
     "text": [
      "C:\\Users\\sanch\\AppData\\Local\\Temp\\ipykernel_11992\\723683626.py:43: FutureWarning: The frame.append method is deprecated and will be removed from pandas in a future version. Use pandas.concat instead.\n",
      "  Data2023 = Data2023.append(pd.DataFrame(data), ignore_index=True)\n"
     ]
    },
    {
     "name": "stdout",
     "output_type": "stream",
     "text": [
      "https://www.baseball-reference.com/boxes/SDN/SDN202305060.shtml\n",
      "<Response [200]>\n"
     ]
    },
    {
     "name": "stderr",
     "output_type": "stream",
     "text": [
      "C:\\Users\\sanch\\AppData\\Local\\Temp\\ipykernel_11992\\723683626.py:43: FutureWarning: The frame.append method is deprecated and will be removed from pandas in a future version. Use pandas.concat instead.\n",
      "  Data2023 = Data2023.append(pd.DataFrame(data), ignore_index=True)\n"
     ]
    },
    {
     "name": "stdout",
     "output_type": "stream",
     "text": [
      "https://www.baseball-reference.com/boxes/ANA/ANA202305060.shtml\n",
      "<Response [200]>\n"
     ]
    },
    {
     "name": "stderr",
     "output_type": "stream",
     "text": [
      "C:\\Users\\sanch\\AppData\\Local\\Temp\\ipykernel_11992\\723683626.py:43: FutureWarning: The frame.append method is deprecated and will be removed from pandas in a future version. Use pandas.concat instead.\n",
      "  Data2023 = Data2023.append(pd.DataFrame(data), ignore_index=True)\n"
     ]
    },
    {
     "name": "stdout",
     "output_type": "stream",
     "text": [
      "https://www.baseball-reference.com/boxes/SEA/SEA202305060.shtml\n",
      "<Response [200]>\n"
     ]
    },
    {
     "name": "stderr",
     "output_type": "stream",
     "text": [
      "C:\\Users\\sanch\\AppData\\Local\\Temp\\ipykernel_11992\\723683626.py:43: FutureWarning: The frame.append method is deprecated and will be removed from pandas in a future version. Use pandas.concat instead.\n",
      "  Data2023 = Data2023.append(pd.DataFrame(data), ignore_index=True)\n"
     ]
    },
    {
     "name": "stdout",
     "output_type": "stream",
     "text": [
      "https://www.baseball-reference.com/boxes/ATL/ATL202305070.shtml\n",
      "<Response [200]>\n",
      "Error: Índice fuera de rango. Se salta el enlace: https://www.baseball-reference.com/boxes/PHI/PHI202305070.shtml\n",
      "<Response [200]>\n"
     ]
    },
    {
     "name": "stderr",
     "output_type": "stream",
     "text": [
      "C:\\Users\\sanch\\AppData\\Local\\Temp\\ipykernel_11992\\723683626.py:43: FutureWarning: The frame.append method is deprecated and will be removed from pandas in a future version. Use pandas.concat instead.\n",
      "  Data2023 = Data2023.append(pd.DataFrame(data), ignore_index=True)\n"
     ]
    },
    {
     "name": "stdout",
     "output_type": "stream",
     "text": [
      "https://www.baseball-reference.com/boxes/PIT/PIT202305070.shtml\n",
      "<Response [200]>\n"
     ]
    },
    {
     "name": "stderr",
     "output_type": "stream",
     "text": [
      "C:\\Users\\sanch\\AppData\\Local\\Temp\\ipykernel_11992\\723683626.py:43: FutureWarning: The frame.append method is deprecated and will be removed from pandas in a future version. Use pandas.concat instead.\n",
      "  Data2023 = Data2023.append(pd.DataFrame(data), ignore_index=True)\n"
     ]
    },
    {
     "name": "stdout",
     "output_type": "stream",
     "text": [
      "https://www.baseball-reference.com/boxes/CLE/CLE202305070.shtml\n",
      "<Response [200]>\n",
      "Error: Índice fuera de rango. Se salta el enlace: https://www.baseball-reference.com/boxes/NYN/NYN202305070.shtml\n",
      "<Response [200]>\n"
     ]
    },
    {
     "name": "stderr",
     "output_type": "stream",
     "text": [
      "C:\\Users\\sanch\\AppData\\Local\\Temp\\ipykernel_11992\\723683626.py:43: FutureWarning: The frame.append method is deprecated and will be removed from pandas in a future version. Use pandas.concat instead.\n",
      "  Data2023 = Data2023.append(pd.DataFrame(data), ignore_index=True)\n"
     ]
    },
    {
     "name": "stdout",
     "output_type": "stream",
     "text": [
      "https://www.baseball-reference.com/boxes/TBA/TBA202305070.shtml\n",
      "<Response [200]>\n",
      "Error: Índice fuera de rango. Se salta el enlace: https://www.baseball-reference.com/boxes/KCA/KCA202305070.shtml\n",
      "<Response [200]>\n"
     ]
    },
    {
     "name": "stderr",
     "output_type": "stream",
     "text": [
      "C:\\Users\\sanch\\AppData\\Local\\Temp\\ipykernel_11992\\723683626.py:43: FutureWarning: The frame.append method is deprecated and will be removed from pandas in a future version. Use pandas.concat instead.\n",
      "  Data2023 = Data2023.append(pd.DataFrame(data), ignore_index=True)\n"
     ]
    },
    {
     "name": "stdout",
     "output_type": "stream",
     "text": [
      "https://www.baseball-reference.com/boxes/SLN/SLN202305070.shtml\n",
      "<Response [200]>\n",
      "Error: Índice fuera de rango. Se salta el enlace: https://www.baseball-reference.com/boxes/CHN/CHN202305070.shtml\n",
      "<Response [200]>\n",
      "Error: Índice fuera de rango. Se salta el enlace: https://www.baseball-reference.com/boxes/SFN/SFN202305070.shtml\n",
      "<Response [200]>\n",
      "Error: Índice fuera de rango. Se salta el enlace: https://www.baseball-reference.com/boxes/ANA/ANA202305070.shtml\n",
      "<Response [200]>\n",
      "Error: Índice fuera de rango. Se salta el enlace: https://www.baseball-reference.com/boxes/ARI/ARI202305070.shtml\n",
      "<Response [200]>\n",
      "Error: Índice fuera de rango. Se salta el enlace: https://www.baseball-reference.com/boxes/CIN/CIN202305070.shtml\n",
      "<Response [200]>\n",
      "Error: Índice fuera de rango. Se salta el enlace: https://www.baseball-reference.com/boxes/SEA/SEA202305070.shtml\n",
      "<Response [200]>\n"
     ]
    },
    {
     "name": "stderr",
     "output_type": "stream",
     "text": [
      "C:\\Users\\sanch\\AppData\\Local\\Temp\\ipykernel_11992\\723683626.py:43: FutureWarning: The frame.append method is deprecated and will be removed from pandas in a future version. Use pandas.concat instead.\n",
      "  Data2023 = Data2023.append(pd.DataFrame(data), ignore_index=True)\n"
     ]
    },
    {
     "name": "stdout",
     "output_type": "stream",
     "text": [
      "https://www.baseball-reference.com/boxes/SDN/SDN202305070.shtml\n",
      "<Response [200]>\n"
     ]
    },
    {
     "name": "stderr",
     "output_type": "stream",
     "text": [
      "C:\\Users\\sanch\\AppData\\Local\\Temp\\ipykernel_11992\\723683626.py:43: FutureWarning: The frame.append method is deprecated and will be removed from pandas in a future version. Use pandas.concat instead.\n",
      "  Data2023 = Data2023.append(pd.DataFrame(data), ignore_index=True)\n"
     ]
    },
    {
     "name": "stdout",
     "output_type": "stream",
     "text": [
      "https://www.baseball-reference.com/boxes/CLE/CLE202305090.shtml\n",
      "<Response [200]>\n",
      "Error: Índice fuera de rango. Se salta el enlace: https://www.baseball-reference.com/boxes/BAL/BAL202305090.shtml\n",
      "<Response [200]>\n"
     ]
    },
    {
     "name": "stderr",
     "output_type": "stream",
     "text": [
      "C:\\Users\\sanch\\AppData\\Local\\Temp\\ipykernel_11992\\723683626.py:43: FutureWarning: The frame.append method is deprecated and will be removed from pandas in a future version. Use pandas.concat instead.\n",
      "  Data2023 = Data2023.append(pd.DataFrame(data), ignore_index=True)\n"
     ]
    },
    {
     "name": "stdout",
     "output_type": "stream",
     "text": [
      "https://www.baseball-reference.com/boxes/PIT/PIT202305090.shtml\n",
      "<Response [200]>\n",
      "Error: Índice fuera de rango. Se salta el enlace: https://www.baseball-reference.com/boxes/CIN/CIN202305090.shtml\n",
      "<Response [200]>\n",
      "Error: Índice fuera de rango. Se salta el enlace: https://www.baseball-reference.com/boxes/PHI/PHI202305090.shtml\n",
      "<Response [200]>\n"
     ]
    },
    {
     "name": "stderr",
     "output_type": "stream",
     "text": [
      "C:\\Users\\sanch\\AppData\\Local\\Temp\\ipykernel_11992\\723683626.py:43: FutureWarning: The frame.append method is deprecated and will be removed from pandas in a future version. Use pandas.concat instead.\n",
      "  Data2023 = Data2023.append(pd.DataFrame(data), ignore_index=True)\n"
     ]
    },
    {
     "name": "stdout",
     "output_type": "stream",
     "text": [
      "https://www.baseball-reference.com/boxes/NYA/NYA202305090.shtml\n",
      "<Response [200]>\n"
     ]
    },
    {
     "name": "stderr",
     "output_type": "stream",
     "text": [
      "C:\\Users\\sanch\\AppData\\Local\\Temp\\ipykernel_11992\\723683626.py:43: FutureWarning: The frame.append method is deprecated and will be removed from pandas in a future version. Use pandas.concat instead.\n",
      "  Data2023 = Data2023.append(pd.DataFrame(data), ignore_index=True)\n"
     ]
    },
    {
     "name": "stdout",
     "output_type": "stream",
     "text": [
      "https://www.baseball-reference.com/boxes/ATL/ATL202305090.shtml\n",
      "<Response [200]>\n"
     ]
    },
    {
     "name": "stderr",
     "output_type": "stream",
     "text": [
      "C:\\Users\\sanch\\AppData\\Local\\Temp\\ipykernel_11992\\723683626.py:43: FutureWarning: The frame.append method is deprecated and will be removed from pandas in a future version. Use pandas.concat instead.\n",
      "  Data2023 = Data2023.append(pd.DataFrame(data), ignore_index=True)\n"
     ]
    },
    {
     "name": "stdout",
     "output_type": "stream",
     "text": [
      "https://www.baseball-reference.com/boxes/CHN/CHN202305090.shtml\n",
      "<Response [200]>\n"
     ]
    },
    {
     "name": "stderr",
     "output_type": "stream",
     "text": [
      "C:\\Users\\sanch\\AppData\\Local\\Temp\\ipykernel_11992\\723683626.py:43: FutureWarning: The frame.append method is deprecated and will be removed from pandas in a future version. Use pandas.concat instead.\n",
      "  Data2023 = Data2023.append(pd.DataFrame(data), ignore_index=True)\n"
     ]
    },
    {
     "name": "stdout",
     "output_type": "stream",
     "text": [
      "https://www.baseball-reference.com/boxes/KCA/KCA202305090.shtml\n",
      "<Response [200]>\n"
     ]
    },
    {
     "name": "stderr",
     "output_type": "stream",
     "text": [
      "C:\\Users\\sanch\\AppData\\Local\\Temp\\ipykernel_11992\\723683626.py:43: FutureWarning: The frame.append method is deprecated and will be removed from pandas in a future version. Use pandas.concat instead.\n",
      "  Data2023 = Data2023.append(pd.DataFrame(data), ignore_index=True)\n"
     ]
    },
    {
     "name": "stdout",
     "output_type": "stream",
     "text": [
      "https://www.baseball-reference.com/boxes/MIL/MIL202305090.shtml\n",
      "<Response [200]>\n",
      "Error: Índice fuera de rango. Se salta el enlace: https://www.baseball-reference.com/boxes/MIN/MIN202305090.shtml\n",
      "<Response [200]>\n"
     ]
    },
    {
     "name": "stderr",
     "output_type": "stream",
     "text": [
      "C:\\Users\\sanch\\AppData\\Local\\Temp\\ipykernel_11992\\723683626.py:43: FutureWarning: The frame.append method is deprecated and will be removed from pandas in a future version. Use pandas.concat instead.\n",
      "  Data2023 = Data2023.append(pd.DataFrame(data), ignore_index=True)\n"
     ]
    },
    {
     "name": "stdout",
     "output_type": "stream",
     "text": [
      "https://www.baseball-reference.com/boxes/ANA/ANA202305090.shtml\n",
      "<Response [200]>\n"
     ]
    },
    {
     "name": "stderr",
     "output_type": "stream",
     "text": [
      "C:\\Users\\sanch\\AppData\\Local\\Temp\\ipykernel_11992\\723683626.py:43: FutureWarning: The frame.append method is deprecated and will be removed from pandas in a future version. Use pandas.concat instead.\n",
      "  Data2023 = Data2023.append(pd.DataFrame(data), ignore_index=True)\n"
     ]
    },
    {
     "name": "stdout",
     "output_type": "stream",
     "text": [
      "https://www.baseball-reference.com/boxes/ARI/ARI202305090.shtml\n",
      "<Response [200]>\n",
      "Error: Índice fuera de rango. Se salta el enlace: https://www.baseball-reference.com/boxes/SEA/SEA202305090.shtml\n",
      "<Response [200]>\n"
     ]
    },
    {
     "name": "stderr",
     "output_type": "stream",
     "text": [
      "C:\\Users\\sanch\\AppData\\Local\\Temp\\ipykernel_11992\\723683626.py:43: FutureWarning: The frame.append method is deprecated and will be removed from pandas in a future version. Use pandas.concat instead.\n",
      "  Data2023 = Data2023.append(pd.DataFrame(data), ignore_index=True)\n"
     ]
    },
    {
     "name": "stdout",
     "output_type": "stream",
     "text": [
      "https://www.baseball-reference.com/boxes/SFN/SFN202305090.shtml\n",
      "<Response [200]>\n"
     ]
    },
    {
     "name": "stderr",
     "output_type": "stream",
     "text": [
      "C:\\Users\\sanch\\AppData\\Local\\Temp\\ipykernel_11992\\723683626.py:43: FutureWarning: The frame.append method is deprecated and will be removed from pandas in a future version. Use pandas.concat instead.\n",
      "  Data2023 = Data2023.append(pd.DataFrame(data), ignore_index=True)\n"
     ]
    },
    {
     "name": "stdout",
     "output_type": "stream",
     "text": [
      "https://www.baseball-reference.com/boxes/NYA/NYA202305100.shtml\n",
      "<Response [200]>\n"
     ]
    },
    {
     "name": "stderr",
     "output_type": "stream",
     "text": [
      "C:\\Users\\sanch\\AppData\\Local\\Temp\\ipykernel_11992\\723683626.py:43: FutureWarning: The frame.append method is deprecated and will be removed from pandas in a future version. Use pandas.concat instead.\n",
      "  Data2023 = Data2023.append(pd.DataFrame(data), ignore_index=True)\n"
     ]
    },
    {
     "name": "stdout",
     "output_type": "stream",
     "text": [
      "https://www.baseball-reference.com/boxes/PIT/PIT202305100.shtml\n",
      "<Response [200]>\n",
      "Error: Índice fuera de rango. Se salta el enlace: https://www.baseball-reference.com/boxes/CLE/CLE202305100.shtml\n",
      "<Response [200]>\n",
      "Error: Índice fuera de rango. Se salta el enlace: https://www.baseball-reference.com/boxes/MIL/MIL202305100.shtml\n",
      "<Response [200]>\n"
     ]
    },
    {
     "name": "stderr",
     "output_type": "stream",
     "text": [
      "C:\\Users\\sanch\\AppData\\Local\\Temp\\ipykernel_11992\\723683626.py:43: FutureWarning: The frame.append method is deprecated and will be removed from pandas in a future version. Use pandas.concat instead.\n",
      "  Data2023 = Data2023.append(pd.DataFrame(data), ignore_index=True)\n"
     ]
    },
    {
     "name": "stdout",
     "output_type": "stream",
     "text": [
      "https://www.baseball-reference.com/boxes/ARI/ARI202305100.shtml\n",
      "<Response [200]>\n"
     ]
    },
    {
     "name": "stderr",
     "output_type": "stream",
     "text": [
      "C:\\Users\\sanch\\AppData\\Local\\Temp\\ipykernel_11992\\723683626.py:43: FutureWarning: The frame.append method is deprecated and will be removed from pandas in a future version. Use pandas.concat instead.\n",
      "  Data2023 = Data2023.append(pd.DataFrame(data), ignore_index=True)\n"
     ]
    },
    {
     "name": "stdout",
     "output_type": "stream",
     "text": [
      "https://www.baseball-reference.com/boxes/SEA/SEA202305100.shtml\n",
      "<Response [200]>\n",
      "Error: Índice fuera de rango. Se salta el enlace: https://www.baseball-reference.com/boxes/SFN/SFN202305100.shtml\n",
      "<Response [200]>\n",
      "Error: Índice fuera de rango. Se salta el enlace: https://www.baseball-reference.com/boxes/PHI/PHI202305100.shtml\n",
      "<Response [200]>\n"
     ]
    },
    {
     "name": "stderr",
     "output_type": "stream",
     "text": [
      "C:\\Users\\sanch\\AppData\\Local\\Temp\\ipykernel_11992\\723683626.py:43: FutureWarning: The frame.append method is deprecated and will be removed from pandas in a future version. Use pandas.concat instead.\n",
      "  Data2023 = Data2023.append(pd.DataFrame(data), ignore_index=True)\n"
     ]
    },
    {
     "name": "stdout",
     "output_type": "stream",
     "text": [
      "https://www.baseball-reference.com/boxes/ANA/ANA202305100.shtml\n",
      "<Response [200]>\n"
     ]
    },
    {
     "name": "stderr",
     "output_type": "stream",
     "text": [
      "C:\\Users\\sanch\\AppData\\Local\\Temp\\ipykernel_11992\\723683626.py:43: FutureWarning: The frame.append method is deprecated and will be removed from pandas in a future version. Use pandas.concat instead.\n",
      "  Data2023 = Data2023.append(pd.DataFrame(data), ignore_index=True)\n"
     ]
    },
    {
     "name": "stdout",
     "output_type": "stream",
     "text": [
      "https://www.baseball-reference.com/boxes/BAL/BAL202305100.shtml\n",
      "<Response [200]>\n"
     ]
    },
    {
     "name": "stderr",
     "output_type": "stream",
     "text": [
      "C:\\Users\\sanch\\AppData\\Local\\Temp\\ipykernel_11992\\723683626.py:43: FutureWarning: The frame.append method is deprecated and will be removed from pandas in a future version. Use pandas.concat instead.\n",
      "  Data2023 = Data2023.append(pd.DataFrame(data), ignore_index=True)\n"
     ]
    },
    {
     "name": "stdout",
     "output_type": "stream",
     "text": [
      "https://www.baseball-reference.com/boxes/CIN/CIN202305100.shtml\n",
      "<Response [200]>\n"
     ]
    },
    {
     "name": "stderr",
     "output_type": "stream",
     "text": [
      "C:\\Users\\sanch\\AppData\\Local\\Temp\\ipykernel_11992\\723683626.py:43: FutureWarning: The frame.append method is deprecated and will be removed from pandas in a future version. Use pandas.concat instead.\n",
      "  Data2023 = Data2023.append(pd.DataFrame(data), ignore_index=True)\n"
     ]
    },
    {
     "name": "stdout",
     "output_type": "stream",
     "text": [
      "https://www.baseball-reference.com/boxes/ATL/ATL202305100.shtml\n",
      "<Response [200]>\n",
      "Error: Índice fuera de rango. Se salta el enlace: https://www.baseball-reference.com/boxes/CHN/CHN202305100.shtml\n",
      "<Response [200]>\n",
      "Error: Índice fuera de rango. Se salta el enlace: https://www.baseball-reference.com/boxes/KCA/KCA202305100.shtml\n",
      "<Response [200]>\n"
     ]
    },
    {
     "name": "stderr",
     "output_type": "stream",
     "text": [
      "C:\\Users\\sanch\\AppData\\Local\\Temp\\ipykernel_11992\\723683626.py:43: FutureWarning: The frame.append method is deprecated and will be removed from pandas in a future version. Use pandas.concat instead.\n",
      "  Data2023 = Data2023.append(pd.DataFrame(data), ignore_index=True)\n"
     ]
    },
    {
     "name": "stdout",
     "output_type": "stream",
     "text": [
      "https://www.baseball-reference.com/boxes/MIN/MIN202305100.shtml\n",
      "<Response [200]>\n"
     ]
    },
    {
     "name": "stderr",
     "output_type": "stream",
     "text": [
      "C:\\Users\\sanch\\AppData\\Local\\Temp\\ipykernel_11992\\723683626.py:43: FutureWarning: The frame.append method is deprecated and will be removed from pandas in a future version. Use pandas.concat instead.\n",
      "  Data2023 = Data2023.append(pd.DataFrame(data), ignore_index=True)\n"
     ]
    },
    {
     "name": "stdout",
     "output_type": "stream",
     "text": [
      "https://www.baseball-reference.com/boxes/CIN/CIN202305110.shtml\n",
      "<Response [200]>\n"
     ]
    },
    {
     "name": "stderr",
     "output_type": "stream",
     "text": [
      "C:\\Users\\sanch\\AppData\\Local\\Temp\\ipykernel_11992\\723683626.py:43: FutureWarning: The frame.append method is deprecated and will be removed from pandas in a future version. Use pandas.concat instead.\n",
      "  Data2023 = Data2023.append(pd.DataFrame(data), ignore_index=True)\n"
     ]
    },
    {
     "name": "stdout",
     "output_type": "stream",
     "text": [
      "https://www.baseball-reference.com/boxes/MIN/MIN202305110.shtml\n",
      "<Response [200]>\n"
     ]
    },
    {
     "name": "stderr",
     "output_type": "stream",
     "text": [
      "C:\\Users\\sanch\\AppData\\Local\\Temp\\ipykernel_11992\\723683626.py:43: FutureWarning: The frame.append method is deprecated and will be removed from pandas in a future version. Use pandas.concat instead.\n",
      "  Data2023 = Data2023.append(pd.DataFrame(data), ignore_index=True)\n"
     ]
    },
    {
     "name": "stdout",
     "output_type": "stream",
     "text": [
      "https://www.baseball-reference.com/boxes/KCA/KCA202305110.shtml\n",
      "<Response [200]>\n"
     ]
    },
    {
     "name": "stderr",
     "output_type": "stream",
     "text": [
      "C:\\Users\\sanch\\AppData\\Local\\Temp\\ipykernel_11992\\723683626.py:43: FutureWarning: The frame.append method is deprecated and will be removed from pandas in a future version. Use pandas.concat instead.\n",
      "  Data2023 = Data2023.append(pd.DataFrame(data), ignore_index=True)\n"
     ]
    },
    {
     "name": "stdout",
     "output_type": "stream",
     "text": [
      "https://www.baseball-reference.com/boxes/NYA/NYA202305110.shtml\n",
      "<Response [200]>\n"
     ]
    },
    {
     "name": "stderr",
     "output_type": "stream",
     "text": [
      "C:\\Users\\sanch\\AppData\\Local\\Temp\\ipykernel_11992\\723683626.py:43: FutureWarning: The frame.append method is deprecated and will be removed from pandas in a future version. Use pandas.concat instead.\n",
      "  Data2023 = Data2023.append(pd.DataFrame(data), ignore_index=True)\n"
     ]
    },
    {
     "name": "stdout",
     "output_type": "stream",
     "text": [
      "https://www.baseball-reference.com/boxes/ARI/ARI202305110.shtml\n",
      "<Response [200]>\n",
      "Error: Índice fuera de rango. Se salta el enlace: https://www.baseball-reference.com/boxes/OAK/OAK202305110.shtml\n",
      "<Response [200]>\n"
     ]
    },
    {
     "name": "stderr",
     "output_type": "stream",
     "text": [
      "C:\\Users\\sanch\\AppData\\Local\\Temp\\ipykernel_11992\\723683626.py:43: FutureWarning: The frame.append method is deprecated and will be removed from pandas in a future version. Use pandas.concat instead.\n",
      "  Data2023 = Data2023.append(pd.DataFrame(data), ignore_index=True)\n"
     ]
    },
    {
     "name": "stdout",
     "output_type": "stream",
     "text": [
      "https://www.baseball-reference.com/boxes/CLE/CLE202305140.shtml\n",
      "<Response [200]>\n"
     ]
    },
    {
     "name": "stderr",
     "output_type": "stream",
     "text": [
      "C:\\Users\\sanch\\AppData\\Local\\Temp\\ipykernel_11992\\723683626.py:43: FutureWarning: The frame.append method is deprecated and will be removed from pandas in a future version. Use pandas.concat instead.\n",
      "  Data2023 = Data2023.append(pd.DataFrame(data), ignore_index=True)\n"
     ]
    },
    {
     "name": "stdout",
     "output_type": "stream",
     "text": [
      "https://www.baseball-reference.com/boxes/BAL/BAL202305140.shtml\n",
      "<Response [200]>\n",
      "Error: Índice fuera de rango. Se salta el enlace: https://www.baseball-reference.com/boxes/NYA/NYA202305140.shtml\n",
      "<Response [200]>\n",
      "Error: Índice fuera de rango. Se salta el enlace: https://www.baseball-reference.com/boxes/TOR/TOR202305140.shtml\n",
      "<Response [200]>\n"
     ]
    },
    {
     "name": "stderr",
     "output_type": "stream",
     "text": [
      "C:\\Users\\sanch\\AppData\\Local\\Temp\\ipykernel_11992\\723683626.py:43: FutureWarning: The frame.append method is deprecated and will be removed from pandas in a future version. Use pandas.concat instead.\n",
      "  Data2023 = Data2023.append(pd.DataFrame(data), ignore_index=True)\n"
     ]
    },
    {
     "name": "stdout",
     "output_type": "stream",
     "text": [
      "https://www.baseball-reference.com/boxes/DET/DET202305140.shtml\n",
      "<Response [200]>\n"
     ]
    },
    {
     "name": "stderr",
     "output_type": "stream",
     "text": [
      "C:\\Users\\sanch\\AppData\\Local\\Temp\\ipykernel_11992\\723683626.py:43: FutureWarning: The frame.append method is deprecated and will be removed from pandas in a future version. Use pandas.concat instead.\n",
      "  Data2023 = Data2023.append(pd.DataFrame(data), ignore_index=True)\n"
     ]
    },
    {
     "name": "stdout",
     "output_type": "stream",
     "text": [
      "https://www.baseball-reference.com/boxes/MIA/MIA202305140.shtml\n",
      "<Response [200]>\n"
     ]
    },
    {
     "name": "stderr",
     "output_type": "stream",
     "text": [
      "C:\\Users\\sanch\\AppData\\Local\\Temp\\ipykernel_11992\\723683626.py:43: FutureWarning: The frame.append method is deprecated and will be removed from pandas in a future version. Use pandas.concat instead.\n",
      "  Data2023 = Data2023.append(pd.DataFrame(data), ignore_index=True)\n"
     ]
    },
    {
     "name": "stdout",
     "output_type": "stream",
     "text": [
      "https://www.baseball-reference.com/boxes/CHA/CHA202305140.shtml\n",
      "<Response [200]>\n"
     ]
    },
    {
     "name": "stderr",
     "output_type": "stream",
     "text": [
      "C:\\Users\\sanch\\AppData\\Local\\Temp\\ipykernel_11992\\723683626.py:43: FutureWarning: The frame.append method is deprecated and will be removed from pandas in a future version. Use pandas.concat instead.\n",
      "  Data2023 = Data2023.append(pd.DataFrame(data), ignore_index=True)\n"
     ]
    },
    {
     "name": "stdout",
     "output_type": "stream",
     "text": [
      "https://www.baseball-reference.com/boxes/MIL/MIL202305140.shtml\n",
      "<Response [200]>\n",
      "Error: Índice fuera de rango. Se salta el enlace: https://www.baseball-reference.com/boxes/MIN/MIN202305140.shtml\n",
      "<Response [200]>\n"
     ]
    },
    {
     "name": "stderr",
     "output_type": "stream",
     "text": [
      "C:\\Users\\sanch\\AppData\\Local\\Temp\\ipykernel_11992\\723683626.py:43: FutureWarning: The frame.append method is deprecated and will be removed from pandas in a future version. Use pandas.concat instead.\n",
      "  Data2023 = Data2023.append(pd.DataFrame(data), ignore_index=True)\n"
     ]
    },
    {
     "name": "stdout",
     "output_type": "stream",
     "text": [
      "https://www.baseball-reference.com/boxes/COL/COL202305140.shtml\n",
      "<Response [200]>\n"
     ]
    },
    {
     "name": "stderr",
     "output_type": "stream",
     "text": [
      "C:\\Users\\sanch\\AppData\\Local\\Temp\\ipykernel_11992\\723683626.py:43: FutureWarning: The frame.append method is deprecated and will be removed from pandas in a future version. Use pandas.concat instead.\n",
      "  Data2023 = Data2023.append(pd.DataFrame(data), ignore_index=True)\n"
     ]
    },
    {
     "name": "stdout",
     "output_type": "stream",
     "text": [
      "https://www.baseball-reference.com/boxes/OAK/OAK202305140.shtml\n",
      "<Response [200]>\n",
      "Error: Índice fuera de rango. Se salta el enlace: https://www.baseball-reference.com/boxes/ARI/ARI202305140.shtml\n",
      "<Response [200]>\n",
      "Error: Índice fuera de rango. Se salta el enlace: https://www.baseball-reference.com/boxes/LAN/LAN202305140.shtml\n",
      "<Response [200]>\n",
      "Error: Índice fuera de rango. Se salta el enlace: https://www.baseball-reference.com/boxes/WAS/WAS202305140.shtml\n",
      "<Response [200]>\n"
     ]
    },
    {
     "name": "stderr",
     "output_type": "stream",
     "text": [
      "C:\\Users\\sanch\\AppData\\Local\\Temp\\ipykernel_11992\\723683626.py:43: FutureWarning: The frame.append method is deprecated and will be removed from pandas in a future version. Use pandas.concat instead.\n",
      "  Data2023 = Data2023.append(pd.DataFrame(data), ignore_index=True)\n"
     ]
    },
    {
     "name": "stdout",
     "output_type": "stream",
     "text": [
      "https://www.baseball-reference.com/boxes/BOS/BOS202305140.shtml\n",
      "<Response [200]>\n",
      "Error: Índice fuera de rango. Se salta el enlace: https://www.baseball-reference.com/boxes/WAS/WAS202305150.shtml\n",
      "<Response [200]>\n",
      "Error: Índice fuera de rango. Se salta el enlace: https://www.baseball-reference.com/boxes/BAL/BAL202305150.shtml\n",
      "<Response [200]>\n",
      "Error: Índice fuera de rango. Se salta el enlace: https://www.baseball-reference.com/boxes/TOR/TOR202305150.shtml\n",
      "<Response [200]>\n"
     ]
    },
    {
     "name": "stderr",
     "output_type": "stream",
     "text": [
      "C:\\Users\\sanch\\AppData\\Local\\Temp\\ipykernel_11992\\723683626.py:43: FutureWarning: The frame.append method is deprecated and will be removed from pandas in a future version. Use pandas.concat instead.\n",
      "  Data2023 = Data2023.append(pd.DataFrame(data), ignore_index=True)\n"
     ]
    },
    {
     "name": "stdout",
     "output_type": "stream",
     "text": [
      "https://www.baseball-reference.com/boxes/BOS/BOS202305150.shtml\n",
      "<Response [200]>\n"
     ]
    },
    {
     "name": "stderr",
     "output_type": "stream",
     "text": [
      "C:\\Users\\sanch\\AppData\\Local\\Temp\\ipykernel_11992\\723683626.py:43: FutureWarning: The frame.append method is deprecated and will be removed from pandas in a future version. Use pandas.concat instead.\n",
      "  Data2023 = Data2023.append(pd.DataFrame(data), ignore_index=True)\n"
     ]
    },
    {
     "name": "stdout",
     "output_type": "stream",
     "text": [
      "https://www.baseball-reference.com/boxes/SLN/SLN202305150.shtml\n",
      "<Response [200]>\n",
      "Error: Índice fuera de rango. Se salta el enlace: https://www.baseball-reference.com/boxes/TEX/TEX202305150.shtml\n",
      "<Response [200]>\n"
     ]
    },
    {
     "name": "stderr",
     "output_type": "stream",
     "text": [
      "C:\\Users\\sanch\\AppData\\Local\\Temp\\ipykernel_11992\\723683626.py:43: FutureWarning: The frame.append method is deprecated and will be removed from pandas in a future version. Use pandas.concat instead.\n",
      "  Data2023 = Data2023.append(pd.DataFrame(data), ignore_index=True)\n"
     ]
    },
    {
     "name": "stdout",
     "output_type": "stream",
     "text": [
      "https://www.baseball-reference.com/boxes/HOU/HOU202305150.shtml\n",
      "<Response [200]>\n",
      "Error: Índice fuera de rango. Se salta el enlace: https://www.baseball-reference.com/boxes/COL/COL202305150.shtml\n",
      "<Response [200]>\n"
     ]
    },
    {
     "name": "stderr",
     "output_type": "stream",
     "text": [
      "C:\\Users\\sanch\\AppData\\Local\\Temp\\ipykernel_11992\\723683626.py:43: FutureWarning: The frame.append method is deprecated and will be removed from pandas in a future version. Use pandas.concat instead.\n",
      "  Data2023 = Data2023.append(pd.DataFrame(data), ignore_index=True)\n"
     ]
    },
    {
     "name": "stdout",
     "output_type": "stream",
     "text": [
      "https://www.baseball-reference.com/boxes/OAK/OAK202305150.shtml\n",
      "<Response [200]>\n",
      "Error: Índice fuera de rango. Se salta el enlace: https://www.baseball-reference.com/boxes/SDN/SDN202305150.shtml\n",
      "<Response [200]>\n",
      "Error: Índice fuera de rango. Se salta el enlace: https://www.baseball-reference.com/boxes/SFN/SFN202305150.shtml\n",
      "<Response [200]>\n",
      "Error: Índice fuera de rango. Se salta el enlace: https://www.baseball-reference.com/boxes/LAN/LAN202305150.shtml\n",
      "<Response [200]>\n",
      "Error: Índice fuera de rango. Se salta el enlace: https://www.baseball-reference.com/boxes/BAL/BAL202305160.shtml\n",
      "<Response [200]>\n",
      "Error: Índice fuera de rango. Se salta el enlace: https://www.baseball-reference.com/boxes/DET/DET202305160.shtml\n",
      "<Response [200]>\n",
      "Error: Índice fuera de rango. Se salta el enlace: https://www.baseball-reference.com/boxes/MIA/MIA202305160.shtml\n",
      "<Response [200]>\n"
     ]
    },
    {
     "name": "stderr",
     "output_type": "stream",
     "text": [
      "C:\\Users\\sanch\\AppData\\Local\\Temp\\ipykernel_11992\\723683626.py:43: FutureWarning: The frame.append method is deprecated and will be removed from pandas in a future version. Use pandas.concat instead.\n",
      "  Data2023 = Data2023.append(pd.DataFrame(data), ignore_index=True)\n"
     ]
    },
    {
     "name": "stdout",
     "output_type": "stream",
     "text": [
      "https://www.baseball-reference.com/boxes/TOR/TOR202305160.shtml\n",
      "<Response [200]>\n"
     ]
    },
    {
     "name": "stderr",
     "output_type": "stream",
     "text": [
      "C:\\Users\\sanch\\AppData\\Local\\Temp\\ipykernel_11992\\723683626.py:43: FutureWarning: The frame.append method is deprecated and will be removed from pandas in a future version. Use pandas.concat instead.\n",
      "  Data2023 = Data2023.append(pd.DataFrame(data), ignore_index=True)\n"
     ]
    },
    {
     "name": "stdout",
     "output_type": "stream",
     "text": [
      "https://www.baseball-reference.com/boxes/BOS/BOS202305160.shtml\n",
      "<Response [200]>\n"
     ]
    },
    {
     "name": "stderr",
     "output_type": "stream",
     "text": [
      "C:\\Users\\sanch\\AppData\\Local\\Temp\\ipykernel_11992\\723683626.py:43: FutureWarning: The frame.append method is deprecated and will be removed from pandas in a future version. Use pandas.concat instead.\n",
      "  Data2023 = Data2023.append(pd.DataFrame(data), ignore_index=True)\n"
     ]
    },
    {
     "name": "stdout",
     "output_type": "stream",
     "text": [
      "https://www.baseball-reference.com/boxes/NYN/NYN202305160.shtml\n",
      "<Response [200]>\n",
      "Error: Índice fuera de rango. Se salta el enlace: https://www.baseball-reference.com/boxes/SLN/SLN202305160.shtml\n",
      "<Response [200]>\n"
     ]
    },
    {
     "name": "stderr",
     "output_type": "stream",
     "text": [
      "C:\\Users\\sanch\\AppData\\Local\\Temp\\ipykernel_11992\\723683626.py:43: FutureWarning: The frame.append method is deprecated and will be removed from pandas in a future version. Use pandas.concat instead.\n",
      "  Data2023 = Data2023.append(pd.DataFrame(data), ignore_index=True)\n"
     ]
    },
    {
     "name": "stdout",
     "output_type": "stream",
     "text": [
      "https://www.baseball-reference.com/boxes/TEX/TEX202305160.shtml\n",
      "<Response [200]>\n"
     ]
    },
    {
     "name": "stderr",
     "output_type": "stream",
     "text": [
      "C:\\Users\\sanch\\AppData\\Local\\Temp\\ipykernel_11992\\723683626.py:43: FutureWarning: The frame.append method is deprecated and will be removed from pandas in a future version. Use pandas.concat instead.\n",
      "  Data2023 = Data2023.append(pd.DataFrame(data), ignore_index=True)\n"
     ]
    },
    {
     "name": "stdout",
     "output_type": "stream",
     "text": [
      "https://www.baseball-reference.com/boxes/CHA/CHA202305160.shtml\n",
      "<Response [200]>\n",
      "Error: Índice fuera de rango. Se salta el enlace: https://www.baseball-reference.com/boxes/HOU/HOU202305160.shtml\n",
      "<Response [200]>\n",
      "Error: Índice fuera de rango. Se salta el enlace: https://www.baseball-reference.com/boxes/COL/COL202305160.shtml\n",
      "<Response [200]>\n",
      "Error: Índice fuera de rango. Se salta el enlace: https://www.baseball-reference.com/boxes/OAK/OAK202305160.shtml\n",
      "<Response [200]>\n",
      "Error: Índice fuera de rango. Se salta el enlace: https://www.baseball-reference.com/boxes/SDN/SDN202305160.shtml\n",
      "<Response [200]>\n",
      "Error: Índice fuera de rango. Se salta el enlace: https://www.baseball-reference.com/boxes/SFN/SFN202305160.shtml\n",
      "<Response [200]>\n"
     ]
    },
    {
     "name": "stderr",
     "output_type": "stream",
     "text": [
      "C:\\Users\\sanch\\AppData\\Local\\Temp\\ipykernel_11992\\723683626.py:43: FutureWarning: The frame.append method is deprecated and will be removed from pandas in a future version. Use pandas.concat instead.\n",
      "  Data2023 = Data2023.append(pd.DataFrame(data), ignore_index=True)\n"
     ]
    },
    {
     "name": "stdout",
     "output_type": "stream",
     "text": [
      "https://www.baseball-reference.com/boxes/LAN/LAN202305160.shtml\n"
     ]
    }
   ],
   "source": [
    "for link in links5:\n",
    "    url = \"https://www.baseball-reference.com\" + link\n",
    "    try:\n",
    "        print(response)\n",
    "        Data2023 = Get_Game(url, Data2023)\n",
    "        print(url)\n",
    "        #print(response)\n",
    "        time.sleep(3)\n",
    "    except IndexError:\n",
    "        print(\"Error: Índice fuera de rango. Se salta el enlace:\", url)"
   ]
  },
  {
   "cell_type": "code",
   "execution_count": 516,
   "id": "8596e9af",
   "metadata": {},
   "outputs": [
    {
     "data": {
      "text/plain": [
       "(301, 11)"
      ]
     },
     "execution_count": 516,
     "metadata": {},
     "output_type": "execute_result"
    }
   ],
   "source": [
    "Data2023.shape"
   ]
  },
  {
   "cell_type": "code",
   "execution_count": 517,
   "id": "3820857f",
   "metadata": {},
   "outputs": [],
   "source": [
    "Data2023 = Data2023.drop_duplicates()"
   ]
  },
  {
   "cell_type": "code",
   "execution_count": 518,
   "id": "bade474d",
   "metadata": {},
   "outputs": [
    {
     "data": {
      "text/plain": [
       "(301, 11)"
      ]
     },
     "execution_count": 518,
     "metadata": {},
     "output_type": "execute_result"
    }
   ],
   "source": [
    "Data2023.shape"
   ]
  },
  {
   "cell_type": "code",
   "execution_count": 519,
   "id": "d161ccd1",
   "metadata": {},
   "outputs": [],
   "source": [
    "Data2023.to_csv('Data2023', index=False)"
   ]
  },
  {
   "cell_type": "code",
   "execution_count": null,
   "id": "5a2f2acc",
   "metadata": {},
   "outputs": [],
   "source": []
  }
 ],
 "metadata": {
  "kernelspec": {
   "display_name": "Python 3 (ipykernel)",
   "language": "python",
   "name": "python3"
  },
  "language_info": {
   "codemirror_mode": {
    "name": "ipython",
    "version": 3
   },
   "file_extension": ".py",
   "mimetype": "text/x-python",
   "name": "python",
   "nbconvert_exporter": "python",
   "pygments_lexer": "ipython3",
   "version": "3.11.1"
  }
 },
 "nbformat": 4,
 "nbformat_minor": 5
}
